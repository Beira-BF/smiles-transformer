{
 "cells": [
  {
   "cell_type": "code",
   "execution_count": 1,
   "metadata": {},
   "outputs": [],
   "source": [
    "import numpy as np\n",
    "import pandas as pd"
   ]
  },
  {
   "cell_type": "markdown",
   "metadata": {},
   "source": [
    "# Preprocess"
   ]
  },
  {
   "cell_type": "code",
   "execution_count": 2,
   "metadata": {
    "scrolled": false
   },
   "outputs": [
    {
     "name": "stdout",
     "output_type": "stream",
     "text": [
      "1820035\n"
     ]
    },
    {
     "data": {
      "text/html": [
       "<div>\n",
       "<style scoped>\n",
       "    .dataframe tbody tr th:only-of-type {\n",
       "        vertical-align: middle;\n",
       "    }\n",
       "\n",
       "    .dataframe tbody tr th {\n",
       "        vertical-align: top;\n",
       "    }\n",
       "\n",
       "    .dataframe thead th {\n",
       "        text-align: right;\n",
       "    }\n",
       "</style>\n",
       "<table border=\"1\" class=\"dataframe\">\n",
       "  <thead>\n",
       "    <tr style=\"text-align: right;\">\n",
       "      <th></th>\n",
       "      <th>chembl_id</th>\n",
       "      <th>canonical_smiles</th>\n",
       "      <th>standard_inchi</th>\n",
       "      <th>standard_inchi_key</th>\n",
       "    </tr>\n",
       "  </thead>\n",
       "  <tbody>\n",
       "    <tr>\n",
       "      <th>0</th>\n",
       "      <td>CHEMBL153534</td>\n",
       "      <td>Cc1cc(cn1C)c2csc(N=C(N)N)n2</td>\n",
       "      <td>InChI=1S/C10H13N5S/c1-6-3-7(4-15(6)2)8-5-16-10...</td>\n",
       "      <td>MFRNFCWYPYSFQQ-UHFFFAOYSA-N</td>\n",
       "    </tr>\n",
       "    <tr>\n",
       "      <th>1</th>\n",
       "      <td>CHEMBL440060</td>\n",
       "      <td>CC[C@H](C)[C@H](NC(=O)[C@H](CC(C)C)NC(=O)[C@@H...</td>\n",
       "      <td>InChI=1S/C123H212N44O34S/c1-19-63(12)96(164-11...</td>\n",
       "      <td>RSEQNZQKBMRQNM-VRGFNVLHSA-N</td>\n",
       "    </tr>\n",
       "    <tr>\n",
       "      <th>2</th>\n",
       "      <td>CHEMBL440245</td>\n",
       "      <td>CCCC[C@H](NC(=O)[C@H](CC(C)C)NC(=O)[C@H](CCCCN...</td>\n",
       "      <td>InChI=1S/C160H268N50O41/c1-23-27-41-95-134(228...</td>\n",
       "      <td>FTKBTEIKPOYCEX-OZSLQWTKSA-N</td>\n",
       "    </tr>\n",
       "    <tr>\n",
       "      <th>3</th>\n",
       "      <td>CHEMBL440249</td>\n",
       "      <td>CC(C)C[C@@H]1NC(=O)CNC(=O)[C@@H](NC(=O)[C@H](N...</td>\n",
       "      <td>InChI=1S/C124H154ClN21O39/c1-57(2)48-81-112(17...</td>\n",
       "      <td>UYSXXKGACMHPIM-KFGDMSGDSA-N</td>\n",
       "    </tr>\n",
       "    <tr>\n",
       "      <th>4</th>\n",
       "      <td>CHEMBL405398</td>\n",
       "      <td>Brc1cccc(Nc2ncnc3ccncc23)c1NCCN4CCOCC4</td>\n",
       "      <td>InChI=1S/C19H21BrN6O/c20-15-2-1-3-17(18(15)22-...</td>\n",
       "      <td>VDSXZXJEWIWBCG-UHFFFAOYSA-N</td>\n",
       "    </tr>\n",
       "  </tbody>\n",
       "</table>\n",
       "</div>"
      ],
      "text/plain": [
       "      chembl_id                                   canonical_smiles  \\\n",
       "0  CHEMBL153534                        Cc1cc(cn1C)c2csc(N=C(N)N)n2   \n",
       "1  CHEMBL440060  CC[C@H](C)[C@H](NC(=O)[C@H](CC(C)C)NC(=O)[C@@H...   \n",
       "2  CHEMBL440245  CCCC[C@H](NC(=O)[C@H](CC(C)C)NC(=O)[C@H](CCCCN...   \n",
       "3  CHEMBL440249  CC(C)C[C@@H]1NC(=O)CNC(=O)[C@@H](NC(=O)[C@H](N...   \n",
       "4  CHEMBL405398             Brc1cccc(Nc2ncnc3ccncc23)c1NCCN4CCOCC4   \n",
       "\n",
       "                                      standard_inchi  \\\n",
       "0  InChI=1S/C10H13N5S/c1-6-3-7(4-15(6)2)8-5-16-10...   \n",
       "1  InChI=1S/C123H212N44O34S/c1-19-63(12)96(164-11...   \n",
       "2  InChI=1S/C160H268N50O41/c1-23-27-41-95-134(228...   \n",
       "3  InChI=1S/C124H154ClN21O39/c1-57(2)48-81-112(17...   \n",
       "4  InChI=1S/C19H21BrN6O/c20-15-2-1-3-17(18(15)22-...   \n",
       "\n",
       "            standard_inchi_key  \n",
       "0  MFRNFCWYPYSFQQ-UHFFFAOYSA-N  \n",
       "1  RSEQNZQKBMRQNM-VRGFNVLHSA-N  \n",
       "2  FTKBTEIKPOYCEX-OZSLQWTKSA-N  \n",
       "3  UYSXXKGACMHPIM-KFGDMSGDSA-N  \n",
       "4  VDSXZXJEWIWBCG-UHFFFAOYSA-N  "
      ]
     },
     "execution_count": 2,
     "metadata": {},
     "output_type": "execute_result"
    }
   ],
   "source": [
    "df = pd.read_table('data/chembl_24_chemreps.txt')\n",
    "L = len(df)\n",
    "print(L)\n",
    "df.head()"
   ]
  },
  {
   "cell_type": "code",
   "execution_count": 3,
   "metadata": {},
   "outputs": [],
   "source": [
    "smiles = df['canonical_smiles'].values\n",
    "\n",
    "# words = ['Cl', 'Br', 'At', 'Se', 'As', 'Si', 'Be', 'Ca', 'Mg', 'Li', 'Na', 'P+', 'O-', 'S-', 'Se-', 'N+', 'As+', 'Na+', 'Li+', 'H+',\\\n",
    "#         'K+', 'F-', 'Cl-', 'Br-', 'I-']\n",
    "# for w in words:\n",
    "#     cnt = 0\n",
    "#     for smile in smiles:\n",
    "#         if w in smile:\n",
    "#             if cnt<5:\n",
    "#                 print(smile)\n",
    "#             cnt += 1\n",
    "#     print(w, cnt/L*100, '\\n')"
   ]
  },
  {
   "cell_type": "code",
   "execution_count": 4,
   "metadata": {},
   "outputs": [],
   "source": [
    "smiles = df['canonical_smiles'].values\n",
    "pro_sms = []\n",
    "for sm in smiles:\n",
    "    sm = ' '.join(list(sm))\n",
    "    before = ['C l -', 'C l', 'O -', 'N +', 'n +', 'B r -', 'B r', 'N a +', 'N a', 'I -', 'S i']\n",
    "    after = ['Cl-', 'Cl', 'O-', 'N+', 'n+', 'Br-', 'Br', 'Na+', 'Na', 'I-', 'Si']\n",
    "    for b,a in zip(before, after):\n",
    "        sm = sm.replace(b, a)\n",
    "    pro_sms.append(sm)"
   ]
  },
  {
   "cell_type": "code",
   "execution_count": 5,
   "metadata": {},
   "outputs": [
    {
     "data": {
      "text/html": [
       "<div>\n",
       "<style scoped>\n",
       "    .dataframe tbody tr th:only-of-type {\n",
       "        vertical-align: middle;\n",
       "    }\n",
       "\n",
       "    .dataframe tbody tr th {\n",
       "        vertical-align: top;\n",
       "    }\n",
       "\n",
       "    .dataframe thead th {\n",
       "        text-align: right;\n",
       "    }\n",
       "</style>\n",
       "<table border=\"1\" class=\"dataframe\">\n",
       "  <thead>\n",
       "    <tr style=\"text-align: right;\">\n",
       "      <th></th>\n",
       "      <th>chembl_id</th>\n",
       "      <th>canonical_smiles</th>\n",
       "      <th>standard_inchi</th>\n",
       "      <th>standard_inchi_key</th>\n",
       "      <th>processed_smiles</th>\n",
       "    </tr>\n",
       "  </thead>\n",
       "  <tbody>\n",
       "    <tr>\n",
       "      <th>0</th>\n",
       "      <td>CHEMBL153534</td>\n",
       "      <td>Cc1cc(cn1C)c2csc(N=C(N)N)n2</td>\n",
       "      <td>InChI=1S/C10H13N5S/c1-6-3-7(4-15(6)2)8-5-16-10...</td>\n",
       "      <td>MFRNFCWYPYSFQQ-UHFFFAOYSA-N</td>\n",
       "      <td>C c 1 c c ( c n 1 C ) c 2 c s c ( N = C ( N ) ...</td>\n",
       "    </tr>\n",
       "    <tr>\n",
       "      <th>1</th>\n",
       "      <td>CHEMBL440060</td>\n",
       "      <td>CC[C@H](C)[C@H](NC(=O)[C@H](CC(C)C)NC(=O)[C@@H...</td>\n",
       "      <td>InChI=1S/C123H212N44O34S/c1-19-63(12)96(164-11...</td>\n",
       "      <td>RSEQNZQKBMRQNM-VRGFNVLHSA-N</td>\n",
       "      <td>C C [ C @ H ] ( C ) [ C @ H ] ( N C ( = O ) [ ...</td>\n",
       "    </tr>\n",
       "    <tr>\n",
       "      <th>2</th>\n",
       "      <td>CHEMBL440245</td>\n",
       "      <td>CCCC[C@H](NC(=O)[C@H](CC(C)C)NC(=O)[C@H](CCCCN...</td>\n",
       "      <td>InChI=1S/C160H268N50O41/c1-23-27-41-95-134(228...</td>\n",
       "      <td>FTKBTEIKPOYCEX-OZSLQWTKSA-N</td>\n",
       "      <td>C C C C [ C @ H ] ( N C ( = O ) [ C @ H ] ( C ...</td>\n",
       "    </tr>\n",
       "    <tr>\n",
       "      <th>3</th>\n",
       "      <td>CHEMBL440249</td>\n",
       "      <td>CC(C)C[C@@H]1NC(=O)CNC(=O)[C@@H](NC(=O)[C@H](N...</td>\n",
       "      <td>InChI=1S/C124H154ClN21O39/c1-57(2)48-81-112(17...</td>\n",
       "      <td>UYSXXKGACMHPIM-KFGDMSGDSA-N</td>\n",
       "      <td>C C ( C ) C [ C @ @ H ] 1 N C ( = O ) C N C ( ...</td>\n",
       "    </tr>\n",
       "    <tr>\n",
       "      <th>4</th>\n",
       "      <td>CHEMBL405398</td>\n",
       "      <td>Brc1cccc(Nc2ncnc3ccncc23)c1NCCN4CCOCC4</td>\n",
       "      <td>InChI=1S/C19H21BrN6O/c20-15-2-1-3-17(18(15)22-...</td>\n",
       "      <td>VDSXZXJEWIWBCG-UHFFFAOYSA-N</td>\n",
       "      <td>Br c 1 c c c c ( N c 2 n c n c 3 c c n c c 2 3...</td>\n",
       "    </tr>\n",
       "  </tbody>\n",
       "</table>\n",
       "</div>"
      ],
      "text/plain": [
       "      chembl_id                                   canonical_smiles  \\\n",
       "0  CHEMBL153534                        Cc1cc(cn1C)c2csc(N=C(N)N)n2   \n",
       "1  CHEMBL440060  CC[C@H](C)[C@H](NC(=O)[C@H](CC(C)C)NC(=O)[C@@H...   \n",
       "2  CHEMBL440245  CCCC[C@H](NC(=O)[C@H](CC(C)C)NC(=O)[C@H](CCCCN...   \n",
       "3  CHEMBL440249  CC(C)C[C@@H]1NC(=O)CNC(=O)[C@@H](NC(=O)[C@H](N...   \n",
       "4  CHEMBL405398             Brc1cccc(Nc2ncnc3ccncc23)c1NCCN4CCOCC4   \n",
       "\n",
       "                                      standard_inchi  \\\n",
       "0  InChI=1S/C10H13N5S/c1-6-3-7(4-15(6)2)8-5-16-10...   \n",
       "1  InChI=1S/C123H212N44O34S/c1-19-63(12)96(164-11...   \n",
       "2  InChI=1S/C160H268N50O41/c1-23-27-41-95-134(228...   \n",
       "3  InChI=1S/C124H154ClN21O39/c1-57(2)48-81-112(17...   \n",
       "4  InChI=1S/C19H21BrN6O/c20-15-2-1-3-17(18(15)22-...   \n",
       "\n",
       "            standard_inchi_key  \\\n",
       "0  MFRNFCWYPYSFQQ-UHFFFAOYSA-N   \n",
       "1  RSEQNZQKBMRQNM-VRGFNVLHSA-N   \n",
       "2  FTKBTEIKPOYCEX-OZSLQWTKSA-N   \n",
       "3  UYSXXKGACMHPIM-KFGDMSGDSA-N   \n",
       "4  VDSXZXJEWIWBCG-UHFFFAOYSA-N   \n",
       "\n",
       "                                    processed_smiles  \n",
       "0  C c 1 c c ( c n 1 C ) c 2 c s c ( N = C ( N ) ...  \n",
       "1  C C [ C @ H ] ( C ) [ C @ H ] ( N C ( = O ) [ ...  \n",
       "2  C C C C [ C @ H ] ( N C ( = O ) [ C @ H ] ( C ...  \n",
       "3  C C ( C ) C [ C @ @ H ] 1 N C ( = O ) C N C ( ...  \n",
       "4  Br c 1 c c c c ( N c 2 n c n c 3 c c n c c 2 3...  "
      ]
     },
     "execution_count": 5,
     "metadata": {},
     "output_type": "execute_result"
    }
   ],
   "source": [
    "df['processed_smiles'] = pro_sms\n",
    "df.head()"
   ]
  },
  {
   "cell_type": "code",
   "execution_count": 6,
   "metadata": {
    "scrolled": true
   },
   "outputs": [
    {
     "name": "stdout",
     "output_type": "stream",
     "text": [
      "97737\n"
     ]
    }
   ],
   "source": [
    "to_drop = []\n",
    "for i,sm in enumerate(smiles):\n",
    "    if len(sm)>100:\n",
    "        to_drop.append(i)\n",
    "print(len(to_drop))"
   ]
  },
  {
   "cell_type": "code",
   "execution_count": 7,
   "metadata": {
    "scrolled": true
   },
   "outputs": [
    {
     "name": "stdout",
     "output_type": "stream",
     "text": [
      "1722298\n"
     ]
    },
    {
     "data": {
      "text/html": [
       "<div>\n",
       "<style scoped>\n",
       "    .dataframe tbody tr th:only-of-type {\n",
       "        vertical-align: middle;\n",
       "    }\n",
       "\n",
       "    .dataframe tbody tr th {\n",
       "        vertical-align: top;\n",
       "    }\n",
       "\n",
       "    .dataframe thead th {\n",
       "        text-align: right;\n",
       "    }\n",
       "</style>\n",
       "<table border=\"1\" class=\"dataframe\">\n",
       "  <thead>\n",
       "    <tr style=\"text-align: right;\">\n",
       "      <th></th>\n",
       "      <th>chembl_id</th>\n",
       "      <th>canonical_smiles</th>\n",
       "      <th>processed_smiles</th>\n",
       "    </tr>\n",
       "  </thead>\n",
       "  <tbody>\n",
       "    <tr>\n",
       "      <th>0</th>\n",
       "      <td>CHEMBL153534</td>\n",
       "      <td>Cc1cc(cn1C)c2csc(N=C(N)N)n2</td>\n",
       "      <td>C c 1 c c ( c n 1 C ) c 2 c s c ( N = C ( N ) ...</td>\n",
       "    </tr>\n",
       "    <tr>\n",
       "      <th>4</th>\n",
       "      <td>CHEMBL405398</td>\n",
       "      <td>Brc1cccc(Nc2ncnc3ccncc23)c1NCCN4CCOCC4</td>\n",
       "      <td>Br c 1 c c c c ( N c 2 n c n c 3 c c n c c 2 3...</td>\n",
       "    </tr>\n",
       "    <tr>\n",
       "      <th>5</th>\n",
       "      <td>CHEMBL503634</td>\n",
       "      <td>COc1c(O)cc(O)c(C(=N)Cc2ccc(O)cc2)c1O</td>\n",
       "      <td>C O c 1 c ( O ) c c ( O ) c ( C ( = N ) C c 2 ...</td>\n",
       "    </tr>\n",
       "    <tr>\n",
       "      <th>6</th>\n",
       "      <td>CHEMBL503643</td>\n",
       "      <td>CCOC(=O)c1cc2cc(ccc2[nH]1)C(=O)O</td>\n",
       "      <td>C C O C ( = O ) c 1 c c 2 c c ( c c c 2 [ n H ...</td>\n",
       "    </tr>\n",
       "    <tr>\n",
       "      <th>8</th>\n",
       "      <td>CHEMBL503870</td>\n",
       "      <td>C[C@H](NC(=O)OCc1ccccc1)C(=O)N[C@@H](C)C(=O)NN...</td>\n",
       "      <td>C [ C @ H ] ( N C ( = O ) O C c 1 c c c c c 1 ...</td>\n",
       "    </tr>\n",
       "  </tbody>\n",
       "</table>\n",
       "</div>"
      ],
      "text/plain": [
       "      chembl_id                                   canonical_smiles  \\\n",
       "0  CHEMBL153534                        Cc1cc(cn1C)c2csc(N=C(N)N)n2   \n",
       "4  CHEMBL405398             Brc1cccc(Nc2ncnc3ccncc23)c1NCCN4CCOCC4   \n",
       "5  CHEMBL503634               COc1c(O)cc(O)c(C(=N)Cc2ccc(O)cc2)c1O   \n",
       "6  CHEMBL503643                   CCOC(=O)c1cc2cc(ccc2[nH]1)C(=O)O   \n",
       "8  CHEMBL503870  C[C@H](NC(=O)OCc1ccccc1)C(=O)N[C@@H](C)C(=O)NN...   \n",
       "\n",
       "                                    processed_smiles  \n",
       "0  C c 1 c c ( c n 1 C ) c 2 c s c ( N = C ( N ) ...  \n",
       "4  Br c 1 c c c c ( N c 2 n c n c 3 c c n c c 2 3...  \n",
       "5  C O c 1 c ( O ) c c ( O ) c ( C ( = N ) C c 2 ...  \n",
       "6  C C O C ( = O ) c 1 c c 2 c c ( c c c 2 [ n H ...  \n",
       "8  C [ C @ H ] ( N C ( = O ) O C c 1 c c c c c 1 ...  "
      ]
     },
     "execution_count": 7,
     "metadata": {},
     "output_type": "execute_result"
    }
   ],
   "source": [
    "df_dropped = df.drop(to_drop)\n",
    "df_dropped = df_dropped.drop(['standard_inchi', 'standard_inchi_key'], axis=1)\n",
    "L = len(df_dropped)\n",
    "print(L)\n",
    "df_dropped.head()"
   ]
  },
  {
   "cell_type": "code",
   "execution_count": 9,
   "metadata": {},
   "outputs": [],
   "source": [
    "df_dropped.to_csv('data/chembl_24.csv')"
   ]
  },
  {
   "cell_type": "code",
   "execution_count": 14,
   "metadata": {},
   "outputs": [],
   "source": [
    "smiles = df_dropped['processed_smiles'].values\n",
    "rands = np.random.choice(L, L, replace=False)\n",
    "test_size = 10000\n",
    "\n",
    "with open('data/sentence_test.txt', 'a') as f:\n",
    "    for i in range(0, test_size):\n",
    "        f.write(smiles[rands[i]]+'\\n')\n",
    "        \n",
    "with open('data/sentence_train.txt', 'a') as f:\n",
    "    for i in range(test_size, L):\n",
    "        f.write(smiles[rands[i]]+'\\n')"
   ]
  },
  {
   "cell_type": "markdown",
   "metadata": {},
   "source": [
    "# Create vocabulary"
   ]
  },
  {
   "cell_type": "code",
   "execution_count": 11,
   "metadata": {},
   "outputs": [],
   "source": [
    "smiles = df_dropped['processed_smiles'].values\n",
    "vocab = []\n",
    "for sm in smiles:\n",
    "    l = sm.split(' ')\n",
    "    for w in l:\n",
    "        if w not in vocab:\n",
    "            vocab.append(w)\n",
    "\n",
    "with open('data/vocab.txt', 'a') as f:\n",
    "    for v in vocab:\n",
    "        f.write(v+'\\n')"
   ]
  },
  {
   "cell_type": "markdown",
   "metadata": {},
   "source": [
    "# Solubility dataset"
   ]
  },
  {
   "cell_type": "code",
   "execution_count": 4,
   "metadata": {},
   "outputs": [
    {
     "data": {
      "text/html": [
       "<div>\n",
       "<style scoped>\n",
       "    .dataframe tbody tr th:only-of-type {\n",
       "        vertical-align: middle;\n",
       "    }\n",
       "\n",
       "    .dataframe tbody tr th {\n",
       "        vertical-align: top;\n",
       "    }\n",
       "\n",
       "    .dataframe thead th {\n",
       "        text-align: right;\n",
       "    }\n",
       "</style>\n",
       "<table border=\"1\" class=\"dataframe\">\n",
       "  <thead>\n",
       "    <tr style=\"text-align: right;\">\n",
       "      <th></th>\n",
       "      <th>SMILES</th>\n",
       "      <th>unknown</th>\n",
       "      <th>solubility</th>\n",
       "    </tr>\n",
       "  </thead>\n",
       "  <tbody>\n",
       "    <tr>\n",
       "      <th>0</th>\n",
       "      <td>O=C(C)N</td>\n",
       "      <td>60-35-5</td>\n",
       "      <td>1.58</td>\n",
       "    </tr>\n",
       "    <tr>\n",
       "      <th>1</th>\n",
       "      <td>NNC</td>\n",
       "      <td>60-34-4</td>\n",
       "      <td>1.34</td>\n",
       "    </tr>\n",
       "    <tr>\n",
       "      <th>2</th>\n",
       "      <td>O=C(C)O</td>\n",
       "      <td>64-19-7</td>\n",
       "      <td>1.22</td>\n",
       "    </tr>\n",
       "    <tr>\n",
       "      <th>3</th>\n",
       "      <td>N1CCCC1</td>\n",
       "      <td>123-75-1</td>\n",
       "      <td>1.15</td>\n",
       "    </tr>\n",
       "    <tr>\n",
       "      <th>4</th>\n",
       "      <td>O=C(N)NO</td>\n",
       "      <td>127-07-1</td>\n",
       "      <td>1.12</td>\n",
       "    </tr>\n",
       "  </tbody>\n",
       "</table>\n",
       "</div>"
      ],
      "text/plain": [
       "     SMILES   unknown  solubility\n",
       "0   O=C(C)N   60-35-5        1.58\n",
       "1       NNC   60-34-4        1.34\n",
       "2   O=C(C)O   64-19-7        1.22\n",
       "3   N1CCCC1  123-75-1        1.15\n",
       "4  O=C(N)NO  127-07-1        1.12"
      ]
     },
     "execution_count": 4,
     "metadata": {},
     "output_type": "execute_result"
    }
   ],
   "source": [
    "df_sol = pd.read_csv('data/solubility.csv')\n",
    "df_sol.head()"
   ]
  },
  {
   "cell_type": "code",
   "execution_count": 5,
   "metadata": {},
   "outputs": [
    {
     "data": {
      "text/html": [
       "<div>\n",
       "<style scoped>\n",
       "    .dataframe tbody tr th:only-of-type {\n",
       "        vertical-align: middle;\n",
       "    }\n",
       "\n",
       "    .dataframe tbody tr th {\n",
       "        vertical-align: top;\n",
       "    }\n",
       "\n",
       "    .dataframe thead th {\n",
       "        text-align: right;\n",
       "    }\n",
       "</style>\n",
       "<table border=\"1\" class=\"dataframe\">\n",
       "  <thead>\n",
       "    <tr style=\"text-align: right;\">\n",
       "      <th></th>\n",
       "      <th>SMILES</th>\n",
       "      <th>unknown</th>\n",
       "      <th>solubility</th>\n",
       "      <th>processed_smiles</th>\n",
       "    </tr>\n",
       "  </thead>\n",
       "  <tbody>\n",
       "    <tr>\n",
       "      <th>0</th>\n",
       "      <td>O=C(C)N</td>\n",
       "      <td>60-35-5</td>\n",
       "      <td>1.58</td>\n",
       "      <td>O = C ( C ) N</td>\n",
       "    </tr>\n",
       "    <tr>\n",
       "      <th>1</th>\n",
       "      <td>NNC</td>\n",
       "      <td>60-34-4</td>\n",
       "      <td>1.34</td>\n",
       "      <td>N N C</td>\n",
       "    </tr>\n",
       "    <tr>\n",
       "      <th>2</th>\n",
       "      <td>O=C(C)O</td>\n",
       "      <td>64-19-7</td>\n",
       "      <td>1.22</td>\n",
       "      <td>O = C ( C ) O</td>\n",
       "    </tr>\n",
       "    <tr>\n",
       "      <th>3</th>\n",
       "      <td>N1CCCC1</td>\n",
       "      <td>123-75-1</td>\n",
       "      <td>1.15</td>\n",
       "      <td>N 1 C C C C 1</td>\n",
       "    </tr>\n",
       "    <tr>\n",
       "      <th>4</th>\n",
       "      <td>O=C(N)NO</td>\n",
       "      <td>127-07-1</td>\n",
       "      <td>1.12</td>\n",
       "      <td>O = C ( N ) N O</td>\n",
       "    </tr>\n",
       "  </tbody>\n",
       "</table>\n",
       "</div>"
      ],
      "text/plain": [
       "     SMILES   unknown  solubility processed_smiles\n",
       "0   O=C(C)N   60-35-5        1.58    O = C ( C ) N\n",
       "1       NNC   60-34-4        1.34            N N C\n",
       "2   O=C(C)O   64-19-7        1.22    O = C ( C ) O\n",
       "3   N1CCCC1  123-75-1        1.15    N 1 C C C C 1\n",
       "4  O=C(N)NO  127-07-1        1.12  O = C ( N ) N O"
      ]
     },
     "execution_count": 5,
     "metadata": {},
     "output_type": "execute_result"
    }
   ],
   "source": [
    "smiles = df_sol['SMILES'].values\n",
    "pro_sms = []\n",
    "for sm in smiles:\n",
    "    sm = ' '.join(list(sm))\n",
    "    before = ['C l -', 'C l', 'O -', 'N +', 'n +', 'B r -', 'B r', 'N a +', 'N a', 'I -', 'S i']\n",
    "    after = ['Cl-', 'Cl', 'O-', 'N+', 'n+', 'Br-', 'Br', 'Na+', 'Na', 'I-', 'Si']\n",
    "    for b,a in zip(before, after):\n",
    "        sm = sm.replace(b, a)\n",
    "    pro_sms.append(sm)\n",
    "\n",
    "df_sol['processed_smiles'] = pro_sms\n",
    "df_sol.head()"
   ]
  },
  {
   "cell_type": "code",
   "execution_count": 10,
   "metadata": {},
   "outputs": [],
   "source": [
    "df_sol.to_csv('data/solubility.csv')"
   ]
  },
  {
   "cell_type": "code",
   "execution_count": null,
   "metadata": {},
   "outputs": [],
   "source": []
  }
 ],
 "metadata": {
  "kernelspec": {
   "display_name": "Python 3",
   "language": "python",
   "name": "python3"
  },
  "language_info": {
   "codemirror_mode": {
    "name": "ipython",
    "version": 3
   },
   "file_extension": ".py",
   "mimetype": "text/x-python",
   "name": "python",
   "nbconvert_exporter": "python",
   "pygments_lexer": "ipython3",
   "version": "3.6.4"
  }
 },
 "nbformat": 4,
 "nbformat_minor": 2
}
