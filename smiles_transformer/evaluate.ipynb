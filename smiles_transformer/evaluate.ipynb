{
 "cells": [
  {
   "cell_type": "code",
   "execution_count": 1,
   "metadata": {},
   "outputs": [],
   "source": [
    "import os\n",
    "import numpy as np\n",
    "import pandas as pd\n",
    "import matplotlib.pyplot as plt\n",
    "from sklearn.linear_model import LinearRegression, LogisticRegression\n",
    "from sklearn.ensemble import RandomForestRegressor\n",
    "from sklearn.neural_network import MLPRegressor, MLPClassifier\n",
    "from sklearn.model_selection import train_test_split\n",
    "from sklearn.metrics import mean_squared_error, r2_score, accuracy_score, f1_score, roc_auc_score\n",
    "import xgboost"
   ]
  },
  {
   "cell_type": "code",
   "execution_count": 2,
   "metadata": {},
   "outputs": [
    {
     "name": "stdout",
     "output_type": "stream",
     "text": [
      "[0.1 0.3 0.5 0.7 0.9]\n"
     ]
    }
   ],
   "source": [
    "rates = np.arange(1,10,2)/10\n",
    "print(rates)"
   ]
  },
  {
   "cell_type": "markdown",
   "metadata": {},
   "source": [
    "### ECFP4"
   ]
  },
  {
   "cell_type": "code",
   "execution_count": 3,
   "metadata": {},
   "outputs": [],
   "source": [
    "from rdkit import Chem\n",
    "from rdkit.Chem import AllChem\n",
    "\n",
    "def bit2np(bitvector):\n",
    "    bitstring = bitvector.ToBitString()\n",
    "    intmap = map(int, bitstring)\n",
    "    return np.array(list(intmap))\n",
    "\n",
    "def extract_morgan(smiles, targets):\n",
    "    x,X,y = [],[],[]\n",
    "    for sm,target in zip(smiles,targets):\n",
    "        mol = Chem.MolFromSmiles(sm)\n",
    "        if mol is None:\n",
    "            continue\n",
    "        fp = AllChem.GetMorganFingerprintAsBitVect(mol, 2, 1024) # Morgan (Similar to ECFP4)\n",
    "        x.append(sm)\n",
    "        X.append(bit2np(fp))\n",
    "        y.append(target)\n",
    "    return x,np.array(X),np.array(y)"
   ]
  },
  {
   "cell_type": "markdown",
   "metadata": {},
   "source": [
    "### ST"
   ]
  },
  {
   "cell_type": "code",
   "execution_count": 4,
   "metadata": {},
   "outputs": [
    {
     "data": {
      "text/plain": [
       "BERT(\n",
       "  (embedding): BERTEmbedding(\n",
       "    (token): TokenEmbedding(45, 256, padding_idx=0)\n",
       "    (position): PositionalEmbedding()\n",
       "    (segment): SegmentEmbedding(3, 256, padding_idx=0)\n",
       "    (dropout): Dropout(p=0)\n",
       "  )\n",
       "  (transformer_blocks): ModuleList(\n",
       "    (0): TransformerBlock(\n",
       "      (attention): MultiHeadedAttention(\n",
       "        (linear_layers): ModuleList(\n",
       "          (0): Linear(in_features=256, out_features=256, bias=True)\n",
       "          (1): Linear(in_features=256, out_features=256, bias=True)\n",
       "          (2): Linear(in_features=256, out_features=256, bias=True)\n",
       "        )\n",
       "        (output_linear): Linear(in_features=256, out_features=256, bias=True)\n",
       "        (attention): Attention()\n",
       "        (dropout): Dropout(p=0)\n",
       "      )\n",
       "      (feed_forward): PositionwiseFeedForward(\n",
       "        (w_1): Linear(in_features=256, out_features=1024, bias=True)\n",
       "        (w_2): Linear(in_features=1024, out_features=256, bias=True)\n",
       "        (dropout): Dropout(p=0)\n",
       "        (activation): GELU()\n",
       "      )\n",
       "      (input_sublayer): SublayerConnection(\n",
       "        (norm): LayerNorm()\n",
       "        (dropout): Dropout(p=0)\n",
       "      )\n",
       "      (output_sublayer): SublayerConnection(\n",
       "        (norm): LayerNorm()\n",
       "        (dropout): Dropout(p=0)\n",
       "      )\n",
       "      (dropout): Dropout(p=0)\n",
       "    )\n",
       "    (1): TransformerBlock(\n",
       "      (attention): MultiHeadedAttention(\n",
       "        (linear_layers): ModuleList(\n",
       "          (0): Linear(in_features=256, out_features=256, bias=True)\n",
       "          (1): Linear(in_features=256, out_features=256, bias=True)\n",
       "          (2): Linear(in_features=256, out_features=256, bias=True)\n",
       "        )\n",
       "        (output_linear): Linear(in_features=256, out_features=256, bias=True)\n",
       "        (attention): Attention()\n",
       "        (dropout): Dropout(p=0)\n",
       "      )\n",
       "      (feed_forward): PositionwiseFeedForward(\n",
       "        (w_1): Linear(in_features=256, out_features=1024, bias=True)\n",
       "        (w_2): Linear(in_features=1024, out_features=256, bias=True)\n",
       "        (dropout): Dropout(p=0)\n",
       "        (activation): GELU()\n",
       "      )\n",
       "      (input_sublayer): SublayerConnection(\n",
       "        (norm): LayerNorm()\n",
       "        (dropout): Dropout(p=0)\n",
       "      )\n",
       "      (output_sublayer): SublayerConnection(\n",
       "        (norm): LayerNorm()\n",
       "        (dropout): Dropout(p=0)\n",
       "      )\n",
       "      (dropout): Dropout(p=0)\n",
       "    )\n",
       "    (2): TransformerBlock(\n",
       "      (attention): MultiHeadedAttention(\n",
       "        (linear_layers): ModuleList(\n",
       "          (0): Linear(in_features=256, out_features=256, bias=True)\n",
       "          (1): Linear(in_features=256, out_features=256, bias=True)\n",
       "          (2): Linear(in_features=256, out_features=256, bias=True)\n",
       "        )\n",
       "        (output_linear): Linear(in_features=256, out_features=256, bias=True)\n",
       "        (attention): Attention()\n",
       "        (dropout): Dropout(p=0)\n",
       "      )\n",
       "      (feed_forward): PositionwiseFeedForward(\n",
       "        (w_1): Linear(in_features=256, out_features=1024, bias=True)\n",
       "        (w_2): Linear(in_features=1024, out_features=256, bias=True)\n",
       "        (dropout): Dropout(p=0)\n",
       "        (activation): GELU()\n",
       "      )\n",
       "      (input_sublayer): SublayerConnection(\n",
       "        (norm): LayerNorm()\n",
       "        (dropout): Dropout(p=0)\n",
       "      )\n",
       "      (output_sublayer): SublayerConnection(\n",
       "        (norm): LayerNorm()\n",
       "        (dropout): Dropout(p=0)\n",
       "      )\n",
       "      (dropout): Dropout(p=0)\n",
       "    )\n",
       "    (3): TransformerBlock(\n",
       "      (attention): MultiHeadedAttention(\n",
       "        (linear_layers): ModuleList(\n",
       "          (0): Linear(in_features=256, out_features=256, bias=True)\n",
       "          (1): Linear(in_features=256, out_features=256, bias=True)\n",
       "          (2): Linear(in_features=256, out_features=256, bias=True)\n",
       "        )\n",
       "        (output_linear): Linear(in_features=256, out_features=256, bias=True)\n",
       "        (attention): Attention()\n",
       "        (dropout): Dropout(p=0)\n",
       "      )\n",
       "      (feed_forward): PositionwiseFeedForward(\n",
       "        (w_1): Linear(in_features=256, out_features=1024, bias=True)\n",
       "        (w_2): Linear(in_features=1024, out_features=256, bias=True)\n",
       "        (dropout): Dropout(p=0)\n",
       "        (activation): GELU()\n",
       "      )\n",
       "      (input_sublayer): SublayerConnection(\n",
       "        (norm): LayerNorm()\n",
       "        (dropout): Dropout(p=0)\n",
       "      )\n",
       "      (output_sublayer): SublayerConnection(\n",
       "        (norm): LayerNorm()\n",
       "        (dropout): Dropout(p=0)\n",
       "      )\n",
       "      (dropout): Dropout(p=0)\n",
       "    )\n",
       "    (4): TransformerBlock(\n",
       "      (attention): MultiHeadedAttention(\n",
       "        (linear_layers): ModuleList(\n",
       "          (0): Linear(in_features=256, out_features=256, bias=True)\n",
       "          (1): Linear(in_features=256, out_features=256, bias=True)\n",
       "          (2): Linear(in_features=256, out_features=256, bias=True)\n",
       "        )\n",
       "        (output_linear): Linear(in_features=256, out_features=256, bias=True)\n",
       "        (attention): Attention()\n",
       "        (dropout): Dropout(p=0)\n",
       "      )\n",
       "      (feed_forward): PositionwiseFeedForward(\n",
       "        (w_1): Linear(in_features=256, out_features=1024, bias=True)\n",
       "        (w_2): Linear(in_features=1024, out_features=256, bias=True)\n",
       "        (dropout): Dropout(p=0)\n",
       "        (activation): GELU()\n",
       "      )\n",
       "      (input_sublayer): SublayerConnection(\n",
       "        (norm): LayerNorm()\n",
       "        (dropout): Dropout(p=0)\n",
       "      )\n",
       "      (output_sublayer): SublayerConnection(\n",
       "        (norm): LayerNorm()\n",
       "        (dropout): Dropout(p=0)\n",
       "      )\n",
       "      (dropout): Dropout(p=0)\n",
       "    )\n",
       "    (5): TransformerBlock(\n",
       "      (attention): MultiHeadedAttention(\n",
       "        (linear_layers): ModuleList(\n",
       "          (0): Linear(in_features=256, out_features=256, bias=True)\n",
       "          (1): Linear(in_features=256, out_features=256, bias=True)\n",
       "          (2): Linear(in_features=256, out_features=256, bias=True)\n",
       "        )\n",
       "        (output_linear): Linear(in_features=256, out_features=256, bias=True)\n",
       "        (attention): Attention()\n",
       "        (dropout): Dropout(p=0)\n",
       "      )\n",
       "      (feed_forward): PositionwiseFeedForward(\n",
       "        (w_1): Linear(in_features=256, out_features=1024, bias=True)\n",
       "        (w_2): Linear(in_features=1024, out_features=256, bias=True)\n",
       "        (dropout): Dropout(p=0)\n",
       "        (activation): GELU()\n",
       "      )\n",
       "      (input_sublayer): SublayerConnection(\n",
       "        (norm): LayerNorm()\n",
       "        (dropout): Dropout(p=0)\n",
       "      )\n",
       "      (output_sublayer): SublayerConnection(\n",
       "        (norm): LayerNorm()\n",
       "        (dropout): Dropout(p=0)\n",
       "      )\n",
       "      (dropout): Dropout(p=0)\n",
       "    )\n",
       "    (6): TransformerBlock(\n",
       "      (attention): MultiHeadedAttention(\n",
       "        (linear_layers): ModuleList(\n",
       "          (0): Linear(in_features=256, out_features=256, bias=True)\n",
       "          (1): Linear(in_features=256, out_features=256, bias=True)\n",
       "          (2): Linear(in_features=256, out_features=256, bias=True)\n",
       "        )\n",
       "        (output_linear): Linear(in_features=256, out_features=256, bias=True)\n",
       "        (attention): Attention()\n",
       "        (dropout): Dropout(p=0)\n",
       "      )\n",
       "      (feed_forward): PositionwiseFeedForward(\n",
       "        (w_1): Linear(in_features=256, out_features=1024, bias=True)\n",
       "        (w_2): Linear(in_features=1024, out_features=256, bias=True)\n",
       "        (dropout): Dropout(p=0)\n",
       "        (activation): GELU()\n",
       "      )\n",
       "      (input_sublayer): SublayerConnection(\n",
       "        (norm): LayerNorm()\n",
       "        (dropout): Dropout(p=0)\n",
       "      )\n",
       "      (output_sublayer): SublayerConnection(\n",
       "        (norm): LayerNorm()\n",
       "        (dropout): Dropout(p=0)\n",
       "      )\n",
       "      (dropout): Dropout(p=0)\n",
       "    )\n",
       "    (7): TransformerBlock(\n",
       "      (attention): MultiHeadedAttention(\n",
       "        (linear_layers): ModuleList(\n",
       "          (0): Linear(in_features=256, out_features=256, bias=True)\n",
       "          (1): Linear(in_features=256, out_features=256, bias=True)\n",
       "          (2): Linear(in_features=256, out_features=256, bias=True)\n",
       "        )\n",
       "        (output_linear): Linear(in_features=256, out_features=256, bias=True)\n",
       "        (attention): Attention()\n",
       "        (dropout): Dropout(p=0)\n",
       "      )\n",
       "      (feed_forward): PositionwiseFeedForward(\n",
       "        (w_1): Linear(in_features=256, out_features=1024, bias=True)\n",
       "        (w_2): Linear(in_features=1024, out_features=256, bias=True)\n",
       "        (dropout): Dropout(p=0)\n",
       "        (activation): GELU()\n",
       "      )\n",
       "      (input_sublayer): SublayerConnection(\n",
       "        (norm): LayerNorm()\n",
       "        (dropout): Dropout(p=0)\n",
       "      )\n",
       "      (output_sublayer): SublayerConnection(\n",
       "        (norm): LayerNorm()\n",
       "        (dropout): Dropout(p=0)\n",
       "      )\n",
       "      (dropout): Dropout(p=0)\n",
       "    )\n",
       "  )\n",
       ")"
      ]
     },
     "execution_count": 4,
     "metadata": {},
     "output_type": "execute_result"
    }
   ],
   "source": [
    "import torch\n",
    "from bert import BERT\n",
    "from build_vocab import WordVocab\n",
    "from utils import split\n",
    "\n",
    "pad_index = 0\n",
    "unk_index = 1\n",
    "eos_index = 2\n",
    "sos_index = 3\n",
    "mask_index = 4\n",
    "\n",
    "vocab = WordVocab.load_vocab('data/vocab.pkl')\n",
    "model = BERT(len(vocab), hidden=256, n_layers=8, attn_heads=8, dropout=0)\n",
    "model.load_state_dict(torch.load('../result/chembl/ep00_it010000.pkl'))\n",
    "model.eval()"
   ]
  },
  {
   "cell_type": "code",
   "execution_count": 5,
   "metadata": {},
   "outputs": [],
   "source": [
    "def get_inputs(sm):\n",
    "    seq_len = 220\n",
    "    sm = sm.split()\n",
    "    if len(sm)>218:\n",
    "        print('SMILES is too long ({:d})'.format(len(sm)))\n",
    "        sm = sm[:218]\n",
    "    ids = [vocab.stoi.get(token, unk_index) for token in sm]\n",
    "    ids = [sos_index] + ids + [eos_index]\n",
    "    seg = [1]*len(ids)\n",
    "    padding = [pad_index]*(seq_len - len(ids))\n",
    "    ids.extend(padding), seg.extend(padding)\n",
    "    return ids, seg\n",
    "\n",
    "def get_array(smiles):\n",
    "    x_id, x_seg = [], []\n",
    "    for sm in smiles:\n",
    "        a,b = get_inputs(sm)\n",
    "        x_id.append(a)\n",
    "        x_seg.append(b)\n",
    "    return torch.tensor(x_id), torch.tensor(x_seg)\n",
    "\n",
    "def prepare_data(smiles):\n",
    "    xid, xseg = get_array(smiles)\n",
    "    st,ed = 0,100\n",
    "    X = model.encode(xid[st:ed], xseg[st:ed]).detach().numpy()\n",
    "    while ed<len(xid):\n",
    "        st += 100\n",
    "        ed += 100\n",
    "        X = np.vstack([X, model.encode(xid[st:ed], xseg[st:ed]).detach().numpy()])\n",
    "    X = np.hstack([np.mean(X, axis=1)[:,-256:], np.max(X, axis=1)[:,-256:], X[:,0,-512:] ]) # 最終層のmean, max, 最終2層の0番目\n",
    "    return X"
   ]
  },
  {
   "cell_type": "markdown",
   "metadata": {},
   "source": [
    "### GraphConv"
   ]
  },
  {
   "cell_type": "code",
   "execution_count": 4,
   "metadata": {},
   "outputs": [],
   "source": [
    "import os\n",
    "import deepchem as dc\n",
    "from deepchem.models.tensorgraph.models.graph_models import GraphConvModel"
   ]
  },
  {
   "cell_type": "markdown",
   "metadata": {},
   "source": [
    "# Evaluation"
   ]
  },
  {
   "cell_type": "code",
   "execution_count": 6,
   "metadata": {},
   "outputs": [],
   "source": [
    "def evaluate_mlp_regression(X, y, rate, n_repeats):\n",
    "    r2, rmse = np.empty(n_repeats), np.empty(n_repeats)\n",
    "    for i in range(n_repeats):\n",
    "        reg = MLPRegressor(max_iter=1000)\n",
    "        X_train, X_test, y_train, y_test = train_test_split(X, y, test_size=1-rate)\n",
    "        reg.fit(X_train, y_train)\n",
    "        y_pred = reg.predict(X_test)\n",
    "        r2[i] = r2_score(y_pred, y_test)\n",
    "        rmse[i] = mean_squared_error(y_pred, y_test)**0.5\n",
    "    ret = {}\n",
    "    ret['r2 mean'] = np.mean(r2)\n",
    "    ret['r2 std'] = np.std(r2)\n",
    "    ret['rmse mean'] = np.mean(rmse)\n",
    "    ret['rmse std'] = np.std(rmse)\n",
    "    return ret"
   ]
  },
  {
   "cell_type": "markdown",
   "metadata": {},
   "source": [
    "## ESOL"
   ]
  },
  {
   "cell_type": "code",
   "execution_count": 7,
   "metadata": {},
   "outputs": [
    {
     "name": "stdout",
     "output_type": "stream",
     "text": [
      "(1128, 10)\n"
     ]
    },
    {
     "data": {
      "text/html": [
       "<div>\n",
       "<style scoped>\n",
       "    .dataframe tbody tr th:only-of-type {\n",
       "        vertical-align: middle;\n",
       "    }\n",
       "\n",
       "    .dataframe tbody tr th {\n",
       "        vertical-align: top;\n",
       "    }\n",
       "\n",
       "    .dataframe thead th {\n",
       "        text-align: right;\n",
       "    }\n",
       "</style>\n",
       "<table border=\"1\" class=\"dataframe\">\n",
       "  <thead>\n",
       "    <tr style=\"text-align: right;\">\n",
       "      <th></th>\n",
       "      <th>Compound ID</th>\n",
       "      <th>ESOL predicted log solubility in mols per litre</th>\n",
       "      <th>Minimum Degree</th>\n",
       "      <th>Molecular Weight</th>\n",
       "      <th>Number of H-Bond Donors</th>\n",
       "      <th>Number of Rings</th>\n",
       "      <th>Number of Rotatable Bonds</th>\n",
       "      <th>Polar Surface Area</th>\n",
       "      <th>measured log solubility in mols per litre</th>\n",
       "      <th>smiles</th>\n",
       "    </tr>\n",
       "  </thead>\n",
       "  <tbody>\n",
       "    <tr>\n",
       "      <th>0</th>\n",
       "      <td>Amigdalin</td>\n",
       "      <td>-0.974</td>\n",
       "      <td>1</td>\n",
       "      <td>457.432</td>\n",
       "      <td>7</td>\n",
       "      <td>3</td>\n",
       "      <td>7</td>\n",
       "      <td>202.32</td>\n",
       "      <td>-0.77</td>\n",
       "      <td>OCC3OC(OCC2OC(OC(C#N)c1ccccc1)C(O)C(O)C2O)C(O)...</td>\n",
       "    </tr>\n",
       "    <tr>\n",
       "      <th>1</th>\n",
       "      <td>Fenfuram</td>\n",
       "      <td>-2.885</td>\n",
       "      <td>1</td>\n",
       "      <td>201.225</td>\n",
       "      <td>1</td>\n",
       "      <td>2</td>\n",
       "      <td>2</td>\n",
       "      <td>42.24</td>\n",
       "      <td>-3.30</td>\n",
       "      <td>Cc1occc1C(=O)Nc2ccccc2</td>\n",
       "    </tr>\n",
       "    <tr>\n",
       "      <th>2</th>\n",
       "      <td>citral</td>\n",
       "      <td>-2.579</td>\n",
       "      <td>1</td>\n",
       "      <td>152.237</td>\n",
       "      <td>0</td>\n",
       "      <td>0</td>\n",
       "      <td>4</td>\n",
       "      <td>17.07</td>\n",
       "      <td>-2.06</td>\n",
       "      <td>CC(C)=CCCC(C)=CC(=O)</td>\n",
       "    </tr>\n",
       "    <tr>\n",
       "      <th>3</th>\n",
       "      <td>Picene</td>\n",
       "      <td>-6.618</td>\n",
       "      <td>2</td>\n",
       "      <td>278.354</td>\n",
       "      <td>0</td>\n",
       "      <td>5</td>\n",
       "      <td>0</td>\n",
       "      <td>0.00</td>\n",
       "      <td>-7.87</td>\n",
       "      <td>c1ccc2c(c1)ccc3c2ccc4c5ccccc5ccc43</td>\n",
       "    </tr>\n",
       "    <tr>\n",
       "      <th>4</th>\n",
       "      <td>Thiophene</td>\n",
       "      <td>-2.232</td>\n",
       "      <td>2</td>\n",
       "      <td>84.143</td>\n",
       "      <td>0</td>\n",
       "      <td>1</td>\n",
       "      <td>0</td>\n",
       "      <td>0.00</td>\n",
       "      <td>-1.33</td>\n",
       "      <td>c1ccsc1</td>\n",
       "    </tr>\n",
       "  </tbody>\n",
       "</table>\n",
       "</div>"
      ],
      "text/plain": [
       "  Compound ID  ESOL predicted log solubility in mols per litre  \\\n",
       "0   Amigdalin                                           -0.974   \n",
       "1    Fenfuram                                           -2.885   \n",
       "2      citral                                           -2.579   \n",
       "3      Picene                                           -6.618   \n",
       "4   Thiophene                                           -2.232   \n",
       "\n",
       "   Minimum Degree  Molecular Weight  Number of H-Bond Donors  Number of Rings  \\\n",
       "0               1           457.432                        7                3   \n",
       "1               1           201.225                        1                2   \n",
       "2               1           152.237                        0                0   \n",
       "3               2           278.354                        0                5   \n",
       "4               2            84.143                        0                1   \n",
       "\n",
       "   Number of Rotatable Bonds  Polar Surface Area  \\\n",
       "0                          7              202.32   \n",
       "1                          2               42.24   \n",
       "2                          4               17.07   \n",
       "3                          0                0.00   \n",
       "4                          0                0.00   \n",
       "\n",
       "   measured log solubility in mols per litre  \\\n",
       "0                                      -0.77   \n",
       "1                                      -3.30   \n",
       "2                                      -2.06   \n",
       "3                                      -7.87   \n",
       "4                                      -1.33   \n",
       "\n",
       "                                              smiles  \n",
       "0  OCC3OC(OCC2OC(OC(C#N)c1ccccc1)C(O)C(O)C2O)C(O)...  \n",
       "1                             Cc1occc1C(=O)Nc2ccccc2  \n",
       "2                               CC(C)=CCCC(C)=CC(=O)  \n",
       "3                 c1ccc2c(c1)ccc3c2ccc4c5ccccc5ccc43  \n",
       "4                                            c1ccsc1  "
      ]
     },
     "execution_count": 7,
     "metadata": {},
     "output_type": "execute_result"
    }
   ],
   "source": [
    "df = pd.read_csv('data/esol.csv')\n",
    "print(df.shape)\n",
    "df.head()"
   ]
  },
  {
   "cell_type": "code",
   "execution_count": 8,
   "metadata": {},
   "outputs": [],
   "source": [
    "x = df['smiles'].values\n",
    "y = df['measured log solubility in mols per litre'].values"
   ]
  },
  {
   "cell_type": "code",
   "execution_count": 9,
   "metadata": {
    "scrolled": true
   },
   "outputs": [
    {
     "data": {
      "image/png": "[encoded data removed]",
      "text/plain": [
       "<Figure size 432x288 with 1 Axes>"
      ]
     },
     "metadata": {
      "needs_background": "light"
     },
     "output_type": "display_data"
    }
   ],
   "source": [
    "plt.hist(y, bins=20)\n",
    "plt.xlabel('log solubility [mol/l]')\n",
    "plt.ylabel('counts')\n",
    "plt.title('ESOL')\n",
    "plt.grid()\n",
    "plt.show()"
   ]
  },
  {
   "cell_type": "code",
   "execution_count": 10,
   "metadata": {},
   "outputs": [
    {
     "data": {
      "image/png": "[encoded data removed]",
      "text/plain": [
       "<Figure size 432x288 with 1 Axes>"
      ]
     },
     "metadata": {
      "needs_background": "light"
     },
     "output_type": "display_data"
    }
   ],
   "source": [
    "plt.hist(list(map(len, x)), bins=20)\n",
    "plt.xlabel('SMILES length')\n",
    "plt.ylabel('counts')\n",
    "plt.title('ESOL')\n",
    "plt.grid()\n",
    "plt.show()"
   ]
  },
  {
   "cell_type": "markdown",
   "metadata": {},
   "source": [
    "### ECFP4"
   ]
  },
  {
   "cell_type": "code",
   "execution_count": 11,
   "metadata": {},
   "outputs": [
    {
     "name": "stdout",
     "output_type": "stream",
     "text": [
      "1128 1128\n"
     ]
    }
   ],
   "source": [
    "x,X,y = extract_morgan(x,y)\n",
    "print(len(X), len(y))"
   ]
  },
  {
   "cell_type": "code",
   "execution_count": 12,
   "metadata": {
    "scrolled": true
   },
   "outputs": [
    {
     "name": "stdout",
     "output_type": "stream",
     "text": [
      "0.1 {'r2 mean': -0.1182601549079639, 'r2 std': 0.38492231932689197, 'rmse mean': 1.7046461962569939, 'rmse std': 0.064028737168511}\n",
      "0.3 {'r2 mean': 0.4200801070248882, 'r2 std': 0.056323869062615314, 'rmse mean': 1.5330984002474106, 'rmse std': 0.058330132808446886}\n",
      "0.5 {'r2 mean': 0.5142260496738709, 'r2 std': 0.03488870888296532, 'rmse mean': 1.4796416953603162, 'rmse std': 0.04998929662590407}\n",
      "0.7 {'r2 mean': 0.5517382840343468, 'r2 std': 0.04070523389695399, 'rmse mean': 1.4144024916614077, 'rmse std': 0.06294831164905162}\n",
      "0.9 {'r2 mean': 0.6020391672882388, 'r2 std': 0.07006047612774513, 'rmse mean': 1.3241745714040831, 'rmse std': 0.10213747489123697}\n"
     ]
    }
   ],
   "source": [
    "for rate in rates:\n",
    "    score_dic = evaluate_mlp_regression(X, y, rate, 20)\n",
    "    print(rate, score_dic)"
   ]
  },
  {
   "cell_type": "code",
   "execution_count": 13,
   "metadata": {},
   "outputs": [
    {
     "ename": "SyntaxError",
     "evalue": "invalid syntax (<ipython-input-13-94519c8349cf>, line 1)",
     "output_type": "error",
     "traceback": [
      "\u001b[0;36m  File \u001b[0;32m\"<ipython-input-13-94519c8349cf>\"\u001b[0;36m, line \u001b[0;32m1\u001b[0m\n\u001b[0;31m    0.1 {'r2 mean': -0.1182601549079639, 'r2 std': 0.38492231932689197, 'rmse mean': 1.7046461962569939, 'rmse std': 0.064028737168511}\u001b[0m\n\u001b[0m        ^\u001b[0m\n\u001b[0;31mSyntaxError\u001b[0m\u001b[0;31m:\u001b[0m invalid syntax\n"
     ]
    }
   ],
   "source": [
    "0.1 {'r2 mean': -0.1182601549079639, 'r2 std': 0.38492231932689197, 'rmse mean': 1.7046461962569939, 'rmse std': 0.064028737168511}\n",
    "0.3 {'r2 mean': 0.4200801070248882, 'r2 std': 0.056323869062615314, 'rmse mean': 1.5330984002474106, 'rmse std': 0.058330132808446886}\n",
    "0.5 {'r2 mean': 0.5142260496738709, 'r2 std': 0.03488870888296532, 'rmse mean': 1.4796416953603162, 'rmse std': 0.04998929662590407}\n",
    "0.7 {'r2 mean': 0.5517382840343468, 'r2 std': 0.04070523389695399, 'rmse mean': 1.4144024916614077, 'rmse std': 0.06294831164905162}\n",
    "0.9 {'r2 mean': 0.6020391672882388, 'r2 std': 0.07006047612774513, 'rmse mean': 1.3241745714040831, 'rmse std': 0.10213747489123697}"
   ]
  },
  {
   "cell_type": "markdown",
   "metadata": {},
   "source": [
    "### ST"
   ]
  },
  {
   "cell_type": "code",
   "execution_count": 11,
   "metadata": {},
   "outputs": [],
   "source": [
    "x_split = [split(sm) for sm in df['smiles'].values]\n",
    "X = prepare_data(x_split)"
   ]
  },
  {
   "cell_type": "code",
   "execution_count": 12,
   "metadata": {
    "scrolled": true
   },
   "outputs": [
    {
     "data": {
      "text/plain": [
       "array([[ 0.2992845 , -1.9981518 , -0.09136692, ...,  0.5290933 ,\n",
       "         0.99185264, -0.553199  ],\n",
       "       [ 0.5277692 , -2.5368433 ,  0.75767857, ...,  0.34645137,\n",
       "         1.1052092 , -0.35453492],\n",
       "       [-0.1009727 , -1.3521109 ,  0.13645627, ...,  0.61819124,\n",
       "         0.9889748 , -0.9372664 ],\n",
       "       ...,\n",
       "       [-0.23300083, -1.8739034 ,  0.20166317, ...,  0.7312417 ,\n",
       "         0.8450664 , -0.94042915],\n",
       "       [-0.04621331, -1.4296285 ,  0.28007218, ...,  0.5092833 ,\n",
       "         0.8324349 , -1.0037001 ],\n",
       "       [ 0.14875588, -2.0599828 ,  0.18702924, ...,  0.7925967 ,\n",
       "         1.2993927 , -0.57162243]], dtype=float32)"
      ]
     },
     "execution_count": 12,
     "metadata": {},
     "output_type": "execute_result"
    }
   ],
   "source": [
    "X"
   ]
  },
  {
   "cell_type": "code",
   "execution_count": 13,
   "metadata": {},
   "outputs": [
    {
     "name": "stderr",
     "output_type": "stream",
     "text": [
      "/home/honda/anaconda3/lib/python3.6/site-packages/sklearn/neural_network/multilayer_perceptron.py:562: ConvergenceWarning: Stochastic Optimizer: Maximum iterations (1000) reached and the optimization hasn't converged yet.\n",
      "  % self.max_iter, ConvergenceWarning)\n"
     ]
    },
    {
     "name": "stdout",
     "output_type": "stream",
     "text": [
      "0.1 {'r2 mean': 0.6571610303680655, 'r2 std': 0.032572135933967246, 'rmse mean': 1.147067002227973, 'rmse std': 0.05359295019205026}\n",
      "0.3 {'r2 mean': 0.696297613698292, 'r2 std': 0.040835502554000466, 'rmse mean': 1.0106739136248548, 'rmse std': 0.045704741851971334}\n",
      "0.5 {'r2 mean': 0.690534623260907, 'r2 std': 0.06184343517089181, 'rmse mean': 1.0172932433069881, 'rmse std': 0.06902758468519067}\n",
      "0.7 {'r2 mean': 0.716188339332361, 'r2 std': 0.04877404249436462, 'rmse mean': 0.9775043363906827, 'rmse std': 0.06428197359798228}\n",
      "0.9 {'r2 mean': 0.6771786600248746, 'r2 std': 0.08891697359012948, 'rmse mean': 1.0246648545711594, 'rmse std': 0.12569763189365132}\n"
     ]
    }
   ],
   "source": [
    "for rate in rates:\n",
    "    score_dic = evaluate_mlp_regression(X, y, rate, 20)\n",
    "    print(rate, score_dic)"
   ]
  },
  {
   "cell_type": "markdown",
   "metadata": {},
   "source": [
    "### GraphConv"
   ]
  },
  {
   "cell_type": "code",
   "execution_count": 31,
   "metadata": {},
   "outputs": [
    {
     "name": "stdout",
     "output_type": "stream",
     "text": [
      "Loading raw samples now.\n",
      "shard_size: 8192\n",
      "About to start loading CSV from data/esol.csv\n",
      "Loading shard 1 of size 8192.\n",
      "Featurizing sample 0\n",
      "Featurizing sample 1000\n",
      "TIMING: featurizing shard 0 took 3.531 s\n",
      "TIMING: dataset construction took 4.218 s\n",
      "Loading dataset from disk.\n"
     ]
    }
   ],
   "source": [
    "featurizer = dc.feat.ConvMolFeaturizer()\n",
    "loader = dc.data.CSVLoader(\n",
    "      tasks=['measured log solubility in mols per litre'],\n",
    "      smiles_field='smiles',\n",
    "      featurizer=featurizer)\n",
    "dataset = loader.featurize('data/esol.csv')"
   ]
  },
  {
   "cell_type": "code",
   "execution_count": 32,
   "metadata": {},
   "outputs": [],
   "source": [
    "def evaluate_esol_gc(dataset, rate, n_repeats):\n",
    "    r2, rmse = np.empty(n_repeats), np.empty(n_repeats)\n",
    "    for i in range(n_repeats):\n",
    "        reg = GraphConvModel(n_tasks=1, batch_size=64, mode='regression')\n",
    "        splitter = dc.splits.RandomSplitter()\n",
    "        train, val, _ = splitter.train_valid_test_split(dataset, frac_train=rate, frac_valid=1-rate, frac_test=0)\n",
    "        reg.fit(train)\n",
    "        metrics = [dc.metrics.Metric(dc.metrics.r2_score), dc.metrics.Metric(dc.metrics.rms_score)]\n",
    "        scores = reg.evaluate(val, metrics)\n",
    "        r2[i] = scores['r2_score']\n",
    "        rmse[i] = scores['rms_score']\n",
    "    ret = {}\n",
    "    ret['r2 mean'] = np.mean(r2)\n",
    "    ret['r2 std'] = np.std(r2)\n",
    "    ret['rmse mean'] = np.mean(rmse)\n",
    "    ret['rmse std'] = np.std(rmse)\n",
    "    return ret"
   ]
  },
  {
   "cell_type": "code",
   "execution_count": 33,
   "metadata": {
    "scrolled": true
   },
   "outputs": [
    {
     "name": "stdout",
     "output_type": "stream",
     "text": [
      "TIMING: dataset construction took 0.389 s\n",
      "Loading dataset from disk.\n",
      "TIMING: dataset construction took 0.897 s\n",
      "Loading dataset from disk.\n",
      "TIMING: dataset construction took 0.004 s\n",
      "Loading dataset from disk.\n"
     ]
    },
    {
     "name": "stderr",
     "output_type": "stream",
     "text": [
      "/home/honda/anaconda3/envs/deepchem/lib/python3.5/site-packages/tensorflow/python/ops/gradients_impl.py:98: UserWarning: Converting sparse IndexedSlices to a dense Tensor of unknown shape. This may consume a large amount of memory.\n",
      "  \"Converting sparse IndexedSlices to a dense Tensor of unknown shape. \"\n"
     ]
    },
    {
     "name": "stdout",
     "output_type": "stream",
     "text": [
      "computed_metrics: [0.3130601968068618]\n",
      "computed_metrics: [1.7227710681805033]\n",
      "TIMING: dataset construction took 0.380 s\n",
      "Loading dataset from disk.\n",
      "TIMING: dataset construction took 1.615 s\n",
      "Loading dataset from disk.\n",
      "TIMING: dataset construction took 0.004 s\n",
      "Loading dataset from disk.\n",
      "computed_metrics: [0.20640119096752885]\n",
      "computed_metrics: [1.8676778579142235]\n",
      "TIMING: dataset construction took 0.409 s\n",
      "Loading dataset from disk.\n",
      "TIMING: dataset construction took 0.943 s\n",
      "Loading dataset from disk.\n",
      "TIMING: dataset construction took 0.003 s\n",
      "Loading dataset from disk.\n",
      "computed_metrics: [0.2724772187268595]\n",
      "computed_metrics: [1.7883851708039864]\n",
      "TIMING: dataset construction took 0.398 s\n",
      "Loading dataset from disk.\n",
      "TIMING: dataset construction took 0.933 s\n",
      "Loading dataset from disk.\n",
      "TIMING: dataset construction took 0.004 s\n",
      "Loading dataset from disk.\n",
      "computed_metrics: [0.2502590705013873]\n",
      "computed_metrics: [1.79821570706181]\n",
      "TIMING: dataset construction took 0.390 s\n",
      "Loading dataset from disk.\n",
      "TIMING: dataset construction took 0.934 s\n",
      "Loading dataset from disk.\n",
      "TIMING: dataset construction took 0.004 s\n",
      "Loading dataset from disk.\n",
      "computed_metrics: [0.2133189058037629]\n",
      "computed_metrics: [1.8460867313406444]\n",
      "TIMING: dataset construction took 0.380 s\n",
      "Loading dataset from disk.\n",
      "TIMING: dataset construction took 0.938 s\n",
      "Loading dataset from disk.\n",
      "TIMING: dataset construction took 0.004 s\n",
      "Loading dataset from disk.\n",
      "computed_metrics: [0.31915708339049453]\n",
      "computed_metrics: [1.7211342632025917]\n",
      "TIMING: dataset construction took 0.400 s\n",
      "Loading dataset from disk.\n",
      "TIMING: dataset construction took 0.940 s\n",
      "Loading dataset from disk.\n",
      "TIMING: dataset construction took 0.004 s\n",
      "Loading dataset from disk.\n",
      "computed_metrics: [0.0975334093859287]\n",
      "computed_metrics: [2.015057656331306]\n",
      "TIMING: dataset construction took 0.377 s\n",
      "Loading dataset from disk.\n",
      "TIMING: dataset construction took 0.921 s\n",
      "Loading dataset from disk.\n",
      "TIMING: dataset construction took 0.004 s\n",
      "Loading dataset from disk.\n",
      "computed_metrics: [0.2717312006378072]\n",
      "computed_metrics: [1.7855663277973173]\n",
      "TIMING: dataset construction took 0.379 s\n",
      "Loading dataset from disk.\n",
      "TIMING: dataset construction took 0.933 s\n",
      "Loading dataset from disk.\n",
      "TIMING: dataset construction took 0.004 s\n",
      "Loading dataset from disk.\n",
      "computed_metrics: [0.06981162301776211]\n",
      "computed_metrics: [2.0047583328622847]\n",
      "TIMING: dataset construction took 0.393 s\n",
      "Loading dataset from disk.\n",
      "TIMING: dataset construction took 0.940 s\n",
      "Loading dataset from disk.\n",
      "TIMING: dataset construction took 0.004 s\n",
      "Loading dataset from disk.\n",
      "computed_metrics: [0.2583789476675329]\n",
      "computed_metrics: [1.8109829981761447]\n",
      "TIMING: dataset construction took 0.384 s\n",
      "Loading dataset from disk.\n",
      "TIMING: dataset construction took 0.903 s\n",
      "Loading dataset from disk.\n",
      "TIMING: dataset construction took 0.004 s\n",
      "Loading dataset from disk.\n",
      "computed_metrics: [0.2276634865657874]\n",
      "computed_metrics: [1.8381634143243537]\n",
      "TIMING: dataset construction took 0.406 s\n",
      "Loading dataset from disk.\n",
      "TIMING: dataset construction took 0.932 s\n",
      "Loading dataset from disk.\n",
      "TIMING: dataset construction took 0.004 s\n",
      "Loading dataset from disk.\n",
      "computed_metrics: [0.200422603195613]\n",
      "computed_metrics: [1.874253896530332]\n",
      "TIMING: dataset construction took 0.376 s\n",
      "Loading dataset from disk.\n",
      "TIMING: dataset construction took 0.915 s\n",
      "Loading dataset from disk.\n",
      "TIMING: dataset construction took 0.003 s\n",
      "Loading dataset from disk.\n",
      "computed_metrics: [0.2746749340183491]\n",
      "computed_metrics: [1.765855315718768]\n",
      "TIMING: dataset construction took 0.376 s\n",
      "Loading dataset from disk.\n",
      "TIMING: dataset construction took 0.918 s\n",
      "Loading dataset from disk.\n",
      "TIMING: dataset construction took 0.004 s\n",
      "Loading dataset from disk.\n",
      "computed_metrics: [0.2656099191754455]\n",
      "computed_metrics: [1.7969056570953226]\n",
      "TIMING: dataset construction took 0.397 s\n",
      "Loading dataset from disk.\n",
      "TIMING: dataset construction took 0.927 s\n",
      "Loading dataset from disk.\n",
      "TIMING: dataset construction took 0.004 s\n",
      "Loading dataset from disk.\n",
      "computed_metrics: [0.28872058668976197]\n",
      "computed_metrics: [1.751345776843412]\n",
      "TIMING: dataset construction took 1.294 s\n",
      "Loading dataset from disk.\n",
      "TIMING: dataset construction took 0.937 s\n",
      "Loading dataset from disk.\n",
      "TIMING: dataset construction took 0.004 s\n",
      "Loading dataset from disk.\n",
      "computed_metrics: [0.25727979375622867]\n",
      "computed_metrics: [1.7808818334280088]\n",
      "TIMING: dataset construction took 0.378 s\n",
      "Loading dataset from disk.\n",
      "TIMING: dataset construction took 0.912 s\n",
      "Loading dataset from disk.\n",
      "TIMING: dataset construction took 0.004 s\n",
      "Loading dataset from disk.\n",
      "computed_metrics: [0.23106849127362894]\n",
      "computed_metrics: [1.845514096887944]\n",
      "TIMING: dataset construction took 0.383 s\n",
      "Loading dataset from disk.\n",
      "TIMING: dataset construction took 0.962 s\n",
      "Loading dataset from disk.\n",
      "TIMING: dataset construction took 0.004 s\n",
      "Loading dataset from disk.\n",
      "computed_metrics: [0.08329386202073052]\n",
      "computed_metrics: [1.9848793278563597]\n",
      "TIMING: dataset construction took 0.388 s\n",
      "Loading dataset from disk.\n",
      "TIMING: dataset construction took 0.924 s\n",
      "Loading dataset from disk.\n",
      "TIMING: dataset construction took 0.004 s\n",
      "Loading dataset from disk.\n",
      "computed_metrics: [0.16333657908185661]\n",
      "computed_metrics: [1.9093129751770148]\n",
      "TIMING: dataset construction took 0.392 s\n",
      "Loading dataset from disk.\n",
      "TIMING: dataset construction took 0.906 s\n",
      "Loading dataset from disk.\n",
      "TIMING: dataset construction took 0.004 s\n",
      "Loading dataset from disk.\n",
      "computed_metrics: [0.11385109546191374]\n",
      "computed_metrics: [1.9519642670800392]\n",
      "0.1 {'r2 mean': 0.21890250990726204, 'r2 std': 0.07381879126556154, 'rmse mean': 1.8429856337306183, 'rmse std': 0.08739237277147067}\n",
      "TIMING: dataset construction took 0.505 s\n",
      "Loading dataset from disk.\n",
      "TIMING: dataset construction took 0.768 s\n",
      "Loading dataset from disk.\n",
      "TIMING: dataset construction took 0.003 s\n",
      "Loading dataset from disk.\n",
      "computed_metrics: [0.6103253580823551]\n",
      "computed_metrics: [1.2951587393775896]\n",
      "TIMING: dataset construction took 0.514 s\n",
      "Loading dataset from disk.\n",
      "TIMING: dataset construction took 0.771 s\n",
      "Loading dataset from disk.\n",
      "TIMING: dataset construction took 0.004 s\n",
      "Loading dataset from disk.\n",
      "computed_metrics: [0.600196566095369]\n",
      "computed_metrics: [1.3124830150996003]\n",
      "TIMING: dataset construction took 0.520 s\n",
      "Loading dataset from disk.\n",
      "TIMING: dataset construction took 0.799 s\n",
      "Loading dataset from disk.\n",
      "TIMING: dataset construction took 0.003 s\n",
      "Loading dataset from disk.\n",
      "computed_metrics: [0.5483164375820329]\n",
      "computed_metrics: [1.4137433960080308]\n",
      "TIMING: dataset construction took 0.528 s\n",
      "Loading dataset from disk.\n",
      "TIMING: dataset construction took 0.807 s\n",
      "Loading dataset from disk.\n",
      "TIMING: dataset construction took 0.004 s\n",
      "Loading dataset from disk.\n",
      "computed_metrics: [0.5581154535662809]\n",
      "computed_metrics: [1.4076810598648182]\n",
      "TIMING: dataset construction took 0.524 s\n",
      "Loading dataset from disk.\n",
      "TIMING: dataset construction took 0.792 s\n",
      "Loading dataset from disk.\n",
      "TIMING: dataset construction took 0.012 s\n",
      "Loading dataset from disk.\n",
      "computed_metrics: [0.5329851263879996]\n",
      "computed_metrics: [1.4392905773569993]\n",
      "TIMING: dataset construction took 0.531 s\n",
      "Loading dataset from disk.\n",
      "TIMING: dataset construction took 0.782 s\n",
      "Loading dataset from disk.\n",
      "TIMING: dataset construction took 0.004 s\n",
      "Loading dataset from disk.\n",
      "computed_metrics: [0.620719440509882]\n",
      "computed_metrics: [1.280815886564447]\n",
      "TIMING: dataset construction took 0.513 s\n",
      "Loading dataset from disk.\n",
      "TIMING: dataset construction took 0.811 s\n",
      "Loading dataset from disk.\n",
      "TIMING: dataset construction took 0.003 s\n",
      "Loading dataset from disk.\n",
      "computed_metrics: [0.39184191886539366]\n",
      "computed_metrics: [1.6715319705288652]\n",
      "TIMING: dataset construction took 0.516 s\n",
      "Loading dataset from disk.\n",
      "TIMING: dataset construction took 0.802 s\n",
      "Loading dataset from disk.\n",
      "TIMING: dataset construction took 0.003 s\n",
      "Loading dataset from disk.\n",
      "computed_metrics: [0.5287532056457389]\n",
      "computed_metrics: [1.4570247014289266]\n",
      "TIMING: dataset construction took 1.435 s\n",
      "Loading dataset from disk.\n",
      "TIMING: dataset construction took 0.791 s\n",
      "Loading dataset from disk.\n",
      "TIMING: dataset construction took 0.004 s\n",
      "Loading dataset from disk.\n",
      "computed_metrics: [0.5373921966950939]\n",
      "computed_metrics: [1.4279612480844914]\n",
      "TIMING: dataset construction took 0.513 s\n",
      "Loading dataset from disk.\n"
     ]
    },
    {
     "name": "stdout",
     "output_type": "stream",
     "text": [
      "TIMING: dataset construction took 1.730 s\n",
      "Loading dataset from disk.\n",
      "TIMING: dataset construction took 0.004 s\n",
      "Loading dataset from disk.\n",
      "computed_metrics: [0.61452434660706]\n",
      "computed_metrics: [1.3002474983333505]\n",
      "TIMING: dataset construction took 0.515 s\n",
      "Loading dataset from disk.\n",
      "TIMING: dataset construction took 0.791 s\n",
      "Loading dataset from disk.\n",
      "TIMING: dataset construction took 0.003 s\n",
      "Loading dataset from disk.\n",
      "computed_metrics: [0.5975808099754454]\n",
      "computed_metrics: [1.3324656450367918]\n",
      "TIMING: dataset construction took 0.513 s\n",
      "Loading dataset from disk.\n",
      "TIMING: dataset construction took 0.787 s\n",
      "Loading dataset from disk.\n",
      "TIMING: dataset construction took 0.003 s\n",
      "Loading dataset from disk.\n",
      "computed_metrics: [0.5459675008442324]\n",
      "computed_metrics: [1.394253001434885]\n",
      "TIMING: dataset construction took 0.514 s\n",
      "Loading dataset from disk.\n",
      "TIMING: dataset construction took 0.795 s\n",
      "Loading dataset from disk.\n",
      "TIMING: dataset construction took 0.003 s\n",
      "Loading dataset from disk.\n",
      "computed_metrics: [0.5558054042134992]\n",
      "computed_metrics: [1.4054887735204606]\n",
      "TIMING: dataset construction took 0.518 s\n",
      "Loading dataset from disk.\n",
      "TIMING: dataset construction took 0.771 s\n",
      "Loading dataset from disk.\n",
      "TIMING: dataset construction took 0.003 s\n",
      "Loading dataset from disk.\n",
      "computed_metrics: [0.3793314880031232]\n",
      "computed_metrics: [1.6258256590063551]\n",
      "TIMING: dataset construction took 0.518 s\n",
      "Loading dataset from disk.\n",
      "TIMING: dataset construction took 0.802 s\n",
      "Loading dataset from disk.\n",
      "TIMING: dataset construction took 0.003 s\n",
      "Loading dataset from disk.\n",
      "computed_metrics: [0.5377881207238131]\n",
      "computed_metrics: [1.3753179192403453]\n",
      "TIMING: dataset construction took 0.519 s\n",
      "Loading dataset from disk.\n",
      "TIMING: dataset construction took 0.781 s\n",
      "Loading dataset from disk.\n",
      "TIMING: dataset construction took 0.004 s\n",
      "Loading dataset from disk.\n",
      "computed_metrics: [0.6405602814413378]\n",
      "computed_metrics: [1.2525868262304918]\n",
      "TIMING: dataset construction took 0.509 s\n",
      "Loading dataset from disk.\n",
      "TIMING: dataset construction took 0.785 s\n",
      "Loading dataset from disk.\n",
      "TIMING: dataset construction took 0.003 s\n",
      "Loading dataset from disk.\n",
      "computed_metrics: [0.48461329310622014]\n",
      "computed_metrics: [1.4959224873960992]\n",
      "TIMING: dataset construction took 0.502 s\n",
      "Loading dataset from disk.\n",
      "TIMING: dataset construction took 0.769 s\n",
      "Loading dataset from disk.\n",
      "TIMING: dataset construction took 0.003 s\n",
      "Loading dataset from disk.\n",
      "computed_metrics: [0.562374710829149]\n",
      "computed_metrics: [1.4052024285934939]\n",
      "TIMING: dataset construction took 0.526 s\n",
      "Loading dataset from disk.\n",
      "TIMING: dataset construction took 0.802 s\n",
      "Loading dataset from disk.\n",
      "TIMING: dataset construction took 0.004 s\n",
      "Loading dataset from disk.\n",
      "computed_metrics: [0.6856941427557841]\n",
      "computed_metrics: [1.171792225544385]\n",
      "TIMING: dataset construction took 0.527 s\n",
      "Loading dataset from disk.\n",
      "TIMING: dataset construction took 0.798 s\n",
      "Loading dataset from disk.\n",
      "TIMING: dataset construction took 0.004 s\n",
      "Loading dataset from disk.\n",
      "computed_metrics: [0.59324377044246]\n",
      "computed_metrics: [1.295928463810537]\n",
      "0.3 {'r2 mean': 0.5563064786186135, 'r2 std': 0.07246171936294994, 'rmse mean': 1.3880360761230484, 'rmse std': 0.1161028613690809}\n",
      "TIMING: dataset construction took 0.659 s\n",
      "Loading dataset from disk.\n",
      "TIMING: dataset construction took 0.669 s\n",
      "Loading dataset from disk.\n",
      "TIMING: dataset construction took 0.003 s\n",
      "Loading dataset from disk.\n",
      "computed_metrics: [0.6891314099046502]\n",
      "computed_metrics: [1.192746464890979]\n",
      "TIMING: dataset construction took 0.662 s\n",
      "Loading dataset from disk.\n",
      "TIMING: dataset construction took 0.640 s\n",
      "Loading dataset from disk.\n",
      "TIMING: dataset construction took 0.006 s\n",
      "Loading dataset from disk.\n",
      "computed_metrics: [0.6369639663855147]\n",
      "computed_metrics: [1.2734726102426608]\n",
      "TIMING: dataset construction took 0.662 s\n",
      "Loading dataset from disk.\n",
      "TIMING: dataset construction took 0.639 s\n",
      "Loading dataset from disk.\n",
      "TIMING: dataset construction took 0.003 s\n",
      "Loading dataset from disk.\n",
      "computed_metrics: [0.7082170486752117]\n",
      "computed_metrics: [1.085325155190427]\n",
      "TIMING: dataset construction took 0.651 s\n",
      "Loading dataset from disk.\n",
      "TIMING: dataset construction took 0.640 s\n",
      "Loading dataset from disk.\n",
      "TIMING: dataset construction took 0.003 s\n",
      "Loading dataset from disk.\n",
      "computed_metrics: [0.7301853373445708]\n",
      "computed_metrics: [1.0960440092307406]\n",
      "TIMING: dataset construction took 0.651 s\n",
      "Loading dataset from disk.\n",
      "TIMING: dataset construction took 0.641 s\n",
      "Loading dataset from disk.\n",
      "TIMING: dataset construction took 0.003 s\n",
      "Loading dataset from disk.\n",
      "computed_metrics: [0.6034081848775631]\n",
      "computed_metrics: [1.3016250789622121]\n",
      "TIMING: dataset construction took 0.655 s\n",
      "Loading dataset from disk.\n",
      "TIMING: dataset construction took 0.642 s\n",
      "Loading dataset from disk.\n",
      "TIMING: dataset construction took 0.003 s\n",
      "Loading dataset from disk.\n",
      "computed_metrics: [0.6872922207477898]\n",
      "computed_metrics: [1.2069120173472212]\n",
      "TIMING: dataset construction took 0.674 s\n",
      "Loading dataset from disk.\n",
      "TIMING: dataset construction took 0.643 s\n",
      "Loading dataset from disk.\n",
      "TIMING: dataset construction took 0.003 s\n",
      "Loading dataset from disk.\n",
      "computed_metrics: [0.7326310959913009]\n",
      "computed_metrics: [1.108422684293654]\n",
      "TIMING: dataset construction took 0.676 s\n",
      "Loading dataset from disk.\n",
      "TIMING: dataset construction took 0.654 s\n",
      "Loading dataset from disk.\n",
      "TIMING: dataset construction took 0.003 s\n",
      "Loading dataset from disk.\n",
      "computed_metrics: [0.7318998297251593]\n",
      "computed_metrics: [1.0943880335359124]\n",
      "TIMING: dataset construction took 0.660 s\n",
      "Loading dataset from disk.\n",
      "TIMING: dataset construction took 0.638 s\n",
      "Loading dataset from disk.\n",
      "TIMING: dataset construction took 0.003 s\n",
      "Loading dataset from disk.\n",
      "computed_metrics: [0.7568505130414561]\n",
      "computed_metrics: [1.0635876946936749]\n",
      "TIMING: dataset construction took 0.655 s\n",
      "Loading dataset from disk.\n",
      "TIMING: dataset construction took 0.647 s\n",
      "Loading dataset from disk.\n",
      "TIMING: dataset construction took 0.003 s\n",
      "Loading dataset from disk.\n",
      "computed_metrics: [0.5785385120092235]\n",
      "computed_metrics: [1.3204826361807422]\n",
      "TIMING: dataset construction took 1.555 s\n",
      "Loading dataset from disk.\n",
      "TIMING: dataset construction took 0.658 s\n",
      "Loading dataset from disk.\n",
      "TIMING: dataset construction took 0.003 s\n",
      "Loading dataset from disk.\n",
      "computed_metrics: [0.7032729167202397]\n",
      "computed_metrics: [1.171825103313336]\n",
      "TIMING: dataset construction took 0.646 s\n",
      "Loading dataset from disk.\n",
      "TIMING: dataset construction took 0.633 s\n",
      "Loading dataset from disk.\n",
      "TIMING: dataset construction took 0.003 s\n",
      "Loading dataset from disk.\n",
      "computed_metrics: [0.5272792233778272]\n",
      "computed_metrics: [1.4597625338001559]\n",
      "TIMING: dataset construction took 0.653 s\n",
      "Loading dataset from disk.\n",
      "TIMING: dataset construction took 0.657 s\n",
      "Loading dataset from disk.\n",
      "TIMING: dataset construction took 0.003 s\n",
      "Loading dataset from disk.\n",
      "computed_metrics: [0.720379678643496]\n",
      "computed_metrics: [1.132637287716168]\n",
      "TIMING: dataset construction took 0.695 s\n",
      "Loading dataset from disk.\n",
      "TIMING: dataset construction took 0.662 s\n",
      "Loading dataset from disk.\n",
      "TIMING: dataset construction took 0.003 s\n",
      "Loading dataset from disk.\n",
      "computed_metrics: [0.6285711581010885]\n",
      "computed_metrics: [1.312295827438985]\n",
      "TIMING: dataset construction took 1.488 s\n",
      "Loading dataset from disk.\n",
      "TIMING: dataset construction took 0.639 s\n",
      "Loading dataset from disk.\n",
      "TIMING: dataset construction took 0.003 s\n",
      "Loading dataset from disk.\n",
      "computed_metrics: [0.6102230529420145]\n",
      "computed_metrics: [1.2630995162064913]\n",
      "TIMING: dataset construction took 0.650 s\n",
      "Loading dataset from disk.\n",
      "TIMING: dataset construction took 0.648 s\n",
      "Loading dataset from disk.\n",
      "TIMING: dataset construction took 0.003 s\n",
      "Loading dataset from disk.\n",
      "computed_metrics: [0.6936336401339119]\n",
      "computed_metrics: [1.2007876089765064]\n",
      "TIMING: dataset construction took 1.499 s\n",
      "Loading dataset from disk.\n",
      "TIMING: dataset construction took 0.639 s\n",
      "Loading dataset from disk.\n",
      "TIMING: dataset construction took 0.003 s\n",
      "Loading dataset from disk.\n",
      "computed_metrics: [0.7418346509482864]\n",
      "computed_metrics: [1.043610966374553]\n",
      "TIMING: dataset construction took 0.650 s\n",
      "Loading dataset from disk.\n",
      "TIMING: dataset construction took 0.658 s\n",
      "Loading dataset from disk.\n",
      "TIMING: dataset construction took 0.003 s\n",
      "Loading dataset from disk.\n"
     ]
    },
    {
     "name": "stdout",
     "output_type": "stream",
     "text": [
      "computed_metrics: [0.5992053378034887]\n",
      "computed_metrics: [1.3766943474339002]\n",
      "TIMING: dataset construction took 1.605 s\n",
      "Loading dataset from disk.\n",
      "TIMING: dataset construction took 0.706 s\n",
      "Loading dataset from disk.\n",
      "TIMING: dataset construction took 0.004 s\n",
      "Loading dataset from disk.\n",
      "computed_metrics: [0.5755035397879957]\n",
      "computed_metrics: [1.3936571401793403]\n",
      "TIMING: dataset construction took 0.644 s\n",
      "Loading dataset from disk.\n",
      "TIMING: dataset construction took 0.640 s\n",
      "Loading dataset from disk.\n",
      "TIMING: dataset construction took 0.003 s\n",
      "Loading dataset from disk.\n",
      "computed_metrics: [0.5620000727297427]\n",
      "computed_metrics: [1.4097571806686138]\n",
      "0.5 {'r2 mean': 0.6608510694945265, 'r2 std': 0.06851655478404685, 'rmse mean': 1.2253566948338137, 'rmse std': 0.12372734445062651}\n",
      "TIMING: dataset construction took 0.790 s\n",
      "Loading dataset from disk.\n",
      "TIMING: dataset construction took 1.512 s\n",
      "Loading dataset from disk.\n",
      "TIMING: dataset construction took 0.003 s\n",
      "Loading dataset from disk.\n",
      "computed_metrics: [0.7814132099826958]\n",
      "computed_metrics: [1.0314300998764319]\n",
      "TIMING: dataset construction took 0.774 s\n",
      "Loading dataset from disk.\n",
      "TIMING: dataset construction took 0.507 s\n",
      "Loading dataset from disk.\n",
      "TIMING: dataset construction took 0.003 s\n",
      "Loading dataset from disk.\n",
      "computed_metrics: [0.8061694892131361]\n",
      "computed_metrics: [0.8869151267381207]\n",
      "TIMING: dataset construction took 0.800 s\n",
      "Loading dataset from disk.\n",
      "TIMING: dataset construction took 0.512 s\n",
      "Loading dataset from disk.\n",
      "TIMING: dataset construction took 0.003 s\n",
      "Loading dataset from disk.\n",
      "computed_metrics: [0.6923110332182952]\n",
      "computed_metrics: [1.17027149019894]\n",
      "TIMING: dataset construction took 0.808 s\n",
      "Loading dataset from disk.\n",
      "TIMING: dataset construction took 0.531 s\n",
      "Loading dataset from disk.\n",
      "TIMING: dataset construction took 0.003 s\n",
      "Loading dataset from disk.\n",
      "computed_metrics: [0.7649287299999943]\n",
      "computed_metrics: [0.9568859409901285]\n",
      "TIMING: dataset construction took 0.793 s\n",
      "Loading dataset from disk.\n",
      "TIMING: dataset construction took 0.508 s\n",
      "Loading dataset from disk.\n",
      "TIMING: dataset construction took 0.003 s\n",
      "Loading dataset from disk.\n",
      "computed_metrics: [0.8246576782442644]\n",
      "computed_metrics: [0.8877029977728084]\n",
      "TIMING: dataset construction took 0.788 s\n",
      "Loading dataset from disk.\n",
      "TIMING: dataset construction took 0.516 s\n",
      "Loading dataset from disk.\n",
      "TIMING: dataset construction took 0.003 s\n",
      "Loading dataset from disk.\n",
      "computed_metrics: [0.7716074743938954]\n",
      "computed_metrics: [1.019416423876835]\n",
      "TIMING: dataset construction took 0.823 s\n",
      "Loading dataset from disk.\n",
      "TIMING: dataset construction took 1.394 s\n",
      "Loading dataset from disk.\n",
      "TIMING: dataset construction took 0.003 s\n",
      "Loading dataset from disk.\n",
      "computed_metrics: [0.8156566412189491]\n",
      "computed_metrics: [0.8926117517108068]\n",
      "TIMING: dataset construction took 0.814 s\n",
      "Loading dataset from disk.\n",
      "TIMING: dataset construction took 0.525 s\n",
      "Loading dataset from disk.\n",
      "TIMING: dataset construction took 0.003 s\n",
      "Loading dataset from disk.\n",
      "computed_metrics: [0.7840405639428569]\n",
      "computed_metrics: [0.9663594140997323]\n",
      "TIMING: dataset construction took 0.813 s\n",
      "Loading dataset from disk.\n",
      "TIMING: dataset construction took 0.521 s\n",
      "Loading dataset from disk.\n",
      "TIMING: dataset construction took 0.003 s\n",
      "Loading dataset from disk.\n",
      "computed_metrics: [0.7656624144421956]\n",
      "computed_metrics: [1.0742038935076512]\n",
      "TIMING: dataset construction took 0.803 s\n",
      "Loading dataset from disk.\n",
      "TIMING: dataset construction took 0.527 s\n",
      "Loading dataset from disk.\n",
      "TIMING: dataset construction took 0.003 s\n",
      "Loading dataset from disk.\n",
      "computed_metrics: [0.6710587435037276]\n",
      "computed_metrics: [1.2761466468930343]\n",
      "TIMING: dataset construction took 0.779 s\n",
      "Loading dataset from disk.\n",
      "TIMING: dataset construction took 0.511 s\n",
      "Loading dataset from disk.\n",
      "TIMING: dataset construction took 0.003 s\n",
      "Loading dataset from disk.\n",
      "computed_metrics: [0.6318498762226732]\n",
      "computed_metrics: [1.2574407247835495]\n",
      "TIMING: dataset construction took 0.790 s\n",
      "Loading dataset from disk.\n",
      "TIMING: dataset construction took 0.513 s\n",
      "Loading dataset from disk.\n",
      "TIMING: dataset construction took 0.003 s\n",
      "Loading dataset from disk.\n",
      "computed_metrics: [0.7661240426302559]\n",
      "computed_metrics: [0.9635668704719617]\n",
      "TIMING: dataset construction took 0.841 s\n",
      "Loading dataset from disk.\n",
      "TIMING: dataset construction took 0.513 s\n",
      "Loading dataset from disk.\n",
      "TIMING: dataset construction took 0.003 s\n",
      "Loading dataset from disk.\n",
      "computed_metrics: [0.8277909694419844]\n",
      "computed_metrics: [0.8606748410480763]\n",
      "TIMING: dataset construction took 1.682 s\n",
      "Loading dataset from disk.\n",
      "TIMING: dataset construction took 0.516 s\n",
      "Loading dataset from disk.\n",
      "TIMING: dataset construction took 0.003 s\n",
      "Loading dataset from disk.\n",
      "computed_metrics: [0.7838649352620406]\n",
      "computed_metrics: [1.0037229844026982]\n",
      "TIMING: dataset construction took 0.796 s\n",
      "Loading dataset from disk.\n",
      "TIMING: dataset construction took 0.515 s\n",
      "Loading dataset from disk.\n",
      "TIMING: dataset construction took 0.003 s\n",
      "Loading dataset from disk.\n",
      "computed_metrics: [0.7507239847002534]\n",
      "computed_metrics: [1.0957924112914945]\n",
      "TIMING: dataset construction took 0.779 s\n",
      "Loading dataset from disk.\n",
      "TIMING: dataset construction took 0.503 s\n",
      "Loading dataset from disk.\n",
      "TIMING: dataset construction took 0.003 s\n",
      "Loading dataset from disk.\n",
      "computed_metrics: [0.7693381736952328]\n",
      "computed_metrics: [0.9800407908911591]\n",
      "TIMING: dataset construction took 0.785 s\n",
      "Loading dataset from disk.\n",
      "TIMING: dataset construction took 0.511 s\n",
      "Loading dataset from disk.\n",
      "TIMING: dataset construction took 0.003 s\n",
      "Loading dataset from disk.\n",
      "computed_metrics: [0.743219684275394]\n",
      "computed_metrics: [1.054357320657823]\n",
      "TIMING: dataset construction took 0.795 s\n",
      "Loading dataset from disk.\n",
      "TIMING: dataset construction took 0.509 s\n",
      "Loading dataset from disk.\n",
      "TIMING: dataset construction took 0.003 s\n",
      "Loading dataset from disk.\n",
      "computed_metrics: [0.8033138829741099]\n",
      "computed_metrics: [0.9730326135636993]\n",
      "TIMING: dataset construction took 0.795 s\n",
      "Loading dataset from disk.\n",
      "TIMING: dataset construction took 0.528 s\n",
      "Loading dataset from disk.\n",
      "TIMING: dataset construction took 0.003 s\n",
      "Loading dataset from disk.\n",
      "computed_metrics: [0.7115944790148481]\n",
      "computed_metrics: [1.1622113412071697]\n",
      "TIMING: dataset construction took 1.767 s\n",
      "Loading dataset from disk.\n",
      "TIMING: dataset construction took 0.559 s\n",
      "Loading dataset from disk.\n",
      "TIMING: dataset construction took 0.003 s\n",
      "Loading dataset from disk.\n",
      "computed_metrics: [0.6572781593406625]\n",
      "computed_metrics: [1.262729771885695]\n",
      "0.7 {'r2 mean': 0.7561302082858733, 'r2 std': 0.054626548782266596, 'rmse mean': 1.0387756727933906, 'rmse std': 0.12601494762902174}\n",
      "TIMING: dataset construction took 0.920 s\n",
      "Loading dataset from disk.\n",
      "TIMING: dataset construction took 0.392 s\n",
      "Loading dataset from disk.\n",
      "TIMING: dataset construction took 0.002 s\n",
      "Loading dataset from disk.\n",
      "computed_metrics: [0.85504625626427]\n",
      "computed_metrics: [0.7764821036064165]\n",
      "TIMING: dataset construction took 0.955 s\n",
      "Loading dataset from disk.\n",
      "TIMING: dataset construction took 0.385 s\n",
      "Loading dataset from disk.\n",
      "TIMING: dataset construction took 0.002 s\n",
      "Loading dataset from disk.\n",
      "computed_metrics: [0.8178213741823974]\n",
      "computed_metrics: [0.8341167856598074]\n",
      "TIMING: dataset construction took 0.940 s\n",
      "Loading dataset from disk.\n",
      "TIMING: dataset construction took 1.295 s\n",
      "Loading dataset from disk.\n",
      "TIMING: dataset construction took 0.003 s\n",
      "Loading dataset from disk.\n",
      "computed_metrics: [0.8665337840928871]\n",
      "computed_metrics: [0.7972652262766403]\n",
      "TIMING: dataset construction took 0.908 s\n",
      "Loading dataset from disk.\n",
      "TIMING: dataset construction took 0.373 s\n",
      "Loading dataset from disk.\n",
      "TIMING: dataset construction took 0.002 s\n",
      "Loading dataset from disk.\n",
      "computed_metrics: [0.8163196799619317]\n",
      "computed_metrics: [0.9394305204399316]\n",
      "TIMING: dataset construction took 0.914 s\n",
      "Loading dataset from disk.\n",
      "TIMING: dataset construction took 0.375 s\n",
      "Loading dataset from disk.\n",
      "TIMING: dataset construction took 0.002 s\n",
      "Loading dataset from disk.\n",
      "computed_metrics: [0.7512014980971413]\n",
      "computed_metrics: [1.135435561448663]\n",
      "TIMING: dataset construction took 0.928 s\n",
      "Loading dataset from disk.\n",
      "TIMING: dataset construction took 0.388 s\n",
      "Loading dataset from disk.\n",
      "TIMING: dataset construction took 0.002 s\n",
      "Loading dataset from disk.\n"
     ]
    },
    {
     "name": "stdout",
     "output_type": "stream",
     "text": [
      "computed_metrics: [0.7686597330541769]\n",
      "computed_metrics: [1.0172851450732094]\n",
      "TIMING: dataset construction took 0.955 s\n",
      "Loading dataset from disk.\n",
      "TIMING: dataset construction took 0.386 s\n",
      "Loading dataset from disk.\n",
      "TIMING: dataset construction took 0.002 s\n",
      "Loading dataset from disk.\n",
      "computed_metrics: [0.7839888188470655]\n",
      "computed_metrics: [0.8928886720564172]\n",
      "TIMING: dataset construction took 0.931 s\n",
      "Loading dataset from disk.\n",
      "TIMING: dataset construction took 0.388 s\n",
      "Loading dataset from disk.\n",
      "TIMING: dataset construction took 0.003 s\n",
      "Loading dataset from disk.\n",
      "computed_metrics: [0.8786960950326504]\n",
      "computed_metrics: [0.6856912810455531]\n",
      "TIMING: dataset construction took 0.965 s\n",
      "Loading dataset from disk.\n",
      "TIMING: dataset construction took 1.269 s\n",
      "Loading dataset from disk.\n",
      "TIMING: dataset construction took 0.003 s\n",
      "Loading dataset from disk.\n",
      "computed_metrics: [0.8435606136613938]\n",
      "computed_metrics: [0.8668236262713546]\n",
      "TIMING: dataset construction took 0.940 s\n",
      "Loading dataset from disk.\n",
      "TIMING: dataset construction took 0.387 s\n",
      "Loading dataset from disk.\n",
      "TIMING: dataset construction took 0.003 s\n",
      "Loading dataset from disk.\n",
      "computed_metrics: [0.8161332080738897]\n",
      "computed_metrics: [0.8225509126991533]\n",
      "TIMING: dataset construction took 0.896 s\n",
      "Loading dataset from disk.\n",
      "TIMING: dataset construction took 0.389 s\n",
      "Loading dataset from disk.\n",
      "TIMING: dataset construction took 0.002 s\n",
      "Loading dataset from disk.\n",
      "computed_metrics: [0.804116813507525]\n",
      "computed_metrics: [0.8075165420471146]\n",
      "TIMING: dataset construction took 0.949 s\n",
      "Loading dataset from disk.\n",
      "TIMING: dataset construction took 0.390 s\n",
      "Loading dataset from disk.\n",
      "TIMING: dataset construction took 0.002 s\n",
      "Loading dataset from disk.\n",
      "computed_metrics: [0.7874320747632806]\n",
      "computed_metrics: [0.9341923096989109]\n",
      "TIMING: dataset construction took 0.917 s\n",
      "Loading dataset from disk.\n",
      "TIMING: dataset construction took 0.385 s\n",
      "Loading dataset from disk.\n",
      "TIMING: dataset construction took 0.002 s\n",
      "Loading dataset from disk.\n",
      "computed_metrics: [0.7907659943761896]\n",
      "computed_metrics: [0.9085053861031865]\n",
      "TIMING: dataset construction took 0.961 s\n",
      "Loading dataset from disk.\n",
      "TIMING: dataset construction took 0.380 s\n",
      "Loading dataset from disk.\n",
      "TIMING: dataset construction took 0.002 s\n",
      "Loading dataset from disk.\n",
      "computed_metrics: [0.7979834926559171]\n",
      "computed_metrics: [0.8363272058960267]\n",
      "TIMING: dataset construction took 0.928 s\n",
      "Loading dataset from disk.\n",
      "TIMING: dataset construction took 0.384 s\n",
      "Loading dataset from disk.\n",
      "TIMING: dataset construction took 0.002 s\n",
      "Loading dataset from disk.\n",
      "computed_metrics: [0.8353929838672189]\n",
      "computed_metrics: [0.86537905574327]\n",
      "TIMING: dataset construction took 0.944 s\n",
      "Loading dataset from disk.\n",
      "TIMING: dataset construction took 0.401 s\n",
      "Loading dataset from disk.\n",
      "TIMING: dataset construction took 0.002 s\n",
      "Loading dataset from disk.\n",
      "computed_metrics: [0.7938801218315884]\n",
      "computed_metrics: [0.8687109029433923]\n",
      "TIMING: dataset construction took 0.931 s\n",
      "Loading dataset from disk.\n",
      "TIMING: dataset construction took 0.384 s\n",
      "Loading dataset from disk.\n",
      "TIMING: dataset construction took 0.007 s\n",
      "Loading dataset from disk.\n",
      "computed_metrics: [0.8444411484817462]\n",
      "computed_metrics: [0.817105659085364]\n",
      "TIMING: dataset construction took 0.920 s\n",
      "Loading dataset from disk.\n",
      "TIMING: dataset construction took 0.392 s\n",
      "Loading dataset from disk.\n",
      "TIMING: dataset construction took 0.002 s\n",
      "Loading dataset from disk.\n",
      "computed_metrics: [0.8115272170821496]\n",
      "computed_metrics: [0.8183606748788861]\n",
      "TIMING: dataset construction took 0.956 s\n",
      "Loading dataset from disk.\n",
      "TIMING: dataset construction took 0.377 s\n",
      "Loading dataset from disk.\n",
      "TIMING: dataset construction took 0.002 s\n",
      "Loading dataset from disk.\n",
      "computed_metrics: [0.8303615025281583]\n",
      "computed_metrics: [0.8856258272634716]\n",
      "TIMING: dataset construction took 0.930 s\n",
      "Loading dataset from disk.\n",
      "TIMING: dataset construction took 0.394 s\n",
      "Loading dataset from disk.\n",
      "TIMING: dataset construction took 0.002 s\n",
      "Loading dataset from disk.\n",
      "computed_metrics: [0.8039870224400689]\n",
      "computed_metrics: [0.8447754882898261]\n",
      "0.9 {'r2 mean': 0.8148924716400823, 'r2 std': 0.03176142362012494, 'rmse mean': 0.8677234443263296, 'rmse std': 0.09109165427656797}\n"
     ]
    }
   ],
   "source": [
    "for rate in rates:\n",
    "    score_dic = evaluate_esol_gc(dataset, rate, 20)\n",
    "    print(rate, score_dic)"
   ]
  },
  {
   "cell_type": "code",
   "execution_count": null,
   "metadata": {},
   "outputs": [],
   "source": [
    "0.1 {'r2 mean': 0.21890250990726204, 'r2 std': 0.07381879126556154, 'rmse mean': 1.8429856337306183, 'rmse std': 0.08739237277147067}\n",
    "0.3 {'r2 mean': 0.5563064786186135, 'r2 std': 0.07246171936294994, 'rmse mean': 1.3880360761230484, 'rmse std': 0.1161028613690809}\n",
    "0.5 {'r2 mean': 0.6608510694945265, 'r2 std': 0.06851655478404685, 'rmse mean': 1.2253566948338137, 'rmse std': 0.12372734445062651}\n",
    "0.7 {'r2 mean': 0.7561302082858733, 'r2 std': 0.054626548782266596, 'rmse mean': 1.0387756727933906, 'rmse std': 0.12601494762902174}\n",
    "0.9 {'r2 mean': 0.8148924716400823, 'r2 std': 0.03176142362012494, 'rmse mean': 0.8677234443263296, 'rmse std': 0.09109165427656797}"
   ]
  },
  {
   "cell_type": "markdown",
   "metadata": {},
   "source": [
    "## Tox21"
   ]
  },
  {
   "cell_type": "code",
   "execution_count": 18,
   "metadata": {},
   "outputs": [
    {
     "name": "stdout",
     "output_type": "stream",
     "text": [
      "(7831, 14)\n"
     ]
    },
    {
     "data": {
      "text/html": [
       "<div>\n",
       "<style scoped>\n",
       "    .dataframe tbody tr th:only-of-type {\n",
       "        vertical-align: middle;\n",
       "    }\n",
       "\n",
       "    .dataframe tbody tr th {\n",
       "        vertical-align: top;\n",
       "    }\n",
       "\n",
       "    .dataframe thead th {\n",
       "        text-align: right;\n",
       "    }\n",
       "</style>\n",
       "<table border=\"1\" class=\"dataframe\">\n",
       "  <thead>\n",
       "    <tr style=\"text-align: right;\">\n",
       "      <th></th>\n",
       "      <th>NR-AR</th>\n",
       "      <th>NR-AR-LBD</th>\n",
       "      <th>NR-AhR</th>\n",
       "      <th>NR-Aromatase</th>\n",
       "      <th>NR-ER</th>\n",
       "      <th>NR-ER-LBD</th>\n",
       "      <th>NR-PPAR-gamma</th>\n",
       "      <th>SR-ARE</th>\n",
       "      <th>SR-ATAD5</th>\n",
       "      <th>SR-HSE</th>\n",
       "      <th>SR-MMP</th>\n",
       "      <th>SR-p53</th>\n",
       "      <th>mol_id</th>\n",
       "      <th>smiles</th>\n",
       "    </tr>\n",
       "  </thead>\n",
       "  <tbody>\n",
       "    <tr>\n",
       "      <th>0</th>\n",
       "      <td>0.0</td>\n",
       "      <td>0.0</td>\n",
       "      <td>1.0</td>\n",
       "      <td>NaN</td>\n",
       "      <td>NaN</td>\n",
       "      <td>0.0</td>\n",
       "      <td>0.0</td>\n",
       "      <td>1.0</td>\n",
       "      <td>0.0</td>\n",
       "      <td>0.0</td>\n",
       "      <td>0.0</td>\n",
       "      <td>0.0</td>\n",
       "      <td>TOX3021</td>\n",
       "      <td>CCOc1ccc2nc(S(N)(=O)=O)sc2c1</td>\n",
       "    </tr>\n",
       "    <tr>\n",
       "      <th>1</th>\n",
       "      <td>0.0</td>\n",
       "      <td>0.0</td>\n",
       "      <td>0.0</td>\n",
       "      <td>0.0</td>\n",
       "      <td>0.0</td>\n",
       "      <td>0.0</td>\n",
       "      <td>0.0</td>\n",
       "      <td>NaN</td>\n",
       "      <td>0.0</td>\n",
       "      <td>NaN</td>\n",
       "      <td>0.0</td>\n",
       "      <td>0.0</td>\n",
       "      <td>TOX3020</td>\n",
       "      <td>CCN1C(=O)NC(c2ccccc2)C1=O</td>\n",
       "    </tr>\n",
       "    <tr>\n",
       "      <th>2</th>\n",
       "      <td>NaN</td>\n",
       "      <td>NaN</td>\n",
       "      <td>NaN</td>\n",
       "      <td>NaN</td>\n",
       "      <td>NaN</td>\n",
       "      <td>NaN</td>\n",
       "      <td>NaN</td>\n",
       "      <td>0.0</td>\n",
       "      <td>NaN</td>\n",
       "      <td>0.0</td>\n",
       "      <td>NaN</td>\n",
       "      <td>NaN</td>\n",
       "      <td>TOX3024</td>\n",
       "      <td>CC[C@]1(O)CC[C@H]2[C@@H]3CCC4=CCCC[C@@H]4[C@H]...</td>\n",
       "    </tr>\n",
       "    <tr>\n",
       "      <th>3</th>\n",
       "      <td>0.0</td>\n",
       "      <td>0.0</td>\n",
       "      <td>0.0</td>\n",
       "      <td>0.0</td>\n",
       "      <td>0.0</td>\n",
       "      <td>0.0</td>\n",
       "      <td>0.0</td>\n",
       "      <td>NaN</td>\n",
       "      <td>0.0</td>\n",
       "      <td>NaN</td>\n",
       "      <td>0.0</td>\n",
       "      <td>0.0</td>\n",
       "      <td>TOX3027</td>\n",
       "      <td>CCCN(CC)C(CC)C(=O)Nc1c(C)cccc1C</td>\n",
       "    </tr>\n",
       "    <tr>\n",
       "      <th>4</th>\n",
       "      <td>0.0</td>\n",
       "      <td>0.0</td>\n",
       "      <td>0.0</td>\n",
       "      <td>0.0</td>\n",
       "      <td>0.0</td>\n",
       "      <td>0.0</td>\n",
       "      <td>0.0</td>\n",
       "      <td>0.0</td>\n",
       "      <td>0.0</td>\n",
       "      <td>0.0</td>\n",
       "      <td>0.0</td>\n",
       "      <td>0.0</td>\n",
       "      <td>TOX20800</td>\n",
       "      <td>CC(O)(P(=O)(O)O)P(=O)(O)O</td>\n",
       "    </tr>\n",
       "  </tbody>\n",
       "</table>\n",
       "</div>"
      ],
      "text/plain": [
       "   NR-AR  NR-AR-LBD  NR-AhR  NR-Aromatase  NR-ER  NR-ER-LBD  NR-PPAR-gamma  \\\n",
       "0    0.0        0.0     1.0           NaN    NaN        0.0            0.0   \n",
       "1    0.0        0.0     0.0           0.0    0.0        0.0            0.0   \n",
       "2    NaN        NaN     NaN           NaN    NaN        NaN            NaN   \n",
       "3    0.0        0.0     0.0           0.0    0.0        0.0            0.0   \n",
       "4    0.0        0.0     0.0           0.0    0.0        0.0            0.0   \n",
       "\n",
       "   SR-ARE  SR-ATAD5  SR-HSE  SR-MMP  SR-p53    mol_id  \\\n",
       "0     1.0       0.0     0.0     0.0     0.0   TOX3021   \n",
       "1     NaN       0.0     NaN     0.0     0.0   TOX3020   \n",
       "2     0.0       NaN     0.0     NaN     NaN   TOX3024   \n",
       "3     NaN       0.0     NaN     0.0     0.0   TOX3027   \n",
       "4     0.0       0.0     0.0     0.0     0.0  TOX20800   \n",
       "\n",
       "                                              smiles  \n",
       "0                       CCOc1ccc2nc(S(N)(=O)=O)sc2c1  \n",
       "1                          CCN1C(=O)NC(c2ccccc2)C1=O  \n",
       "2  CC[C@]1(O)CC[C@H]2[C@@H]3CCC4=CCCC[C@@H]4[C@H]...  \n",
       "3                    CCCN(CC)C(CC)C(=O)Nc1c(C)cccc1C  \n",
       "4                          CC(O)(P(=O)(O)O)P(=O)(O)O  "
      ]
     },
     "execution_count": 18,
     "metadata": {},
     "output_type": "execute_result"
    }
   ],
   "source": [
    "df = pd.read_csv('data/tox21.csv')\n",
    "print(df.shape)\n",
    "df.head()"
   ]
  },
  {
   "cell_type": "code",
   "execution_count": 19,
   "metadata": {},
   "outputs": [
    {
     "data": {
      "image/png": "[encoded data removed]",
      "text/plain": [
       "<Figure size 720x288 with 1 Axes>"
      ]
     },
     "metadata": {
      "needs_background": "light"
     },
     "output_type": "display_data"
    }
   ],
   "source": [
    "keys = df.keys()[:-2]\n",
    "bottom = [df[k].mean() for k in keys]\n",
    "keys = ['NR\\n-AR', 'NR-AR\\n-LBD', 'NR-AhR', 'NR-\\nAromatase', 'NR-ER', 'NR-ER\\n-LBD',\n",
    "       'NR-PPAR\\n-gamma', 'SR-ARE', 'SR\\n-ATAD5', 'SR-HSE', 'SR-MMP', 'SR-p53']\n",
    "plt.figure(figsize=(10,4))\n",
    "plt.bar(keys, bottom)\n",
    "plt.xlabel('target')\n",
    "plt.ylabel('positive rate')\n",
    "plt.title('Tox21')\n",
    "plt.grid()\n",
    "plt.show()"
   ]
  },
  {
   "cell_type": "code",
   "execution_count": 20,
   "metadata": {},
   "outputs": [
    {
     "data": {
      "image/png": "[encoded data removed]",
      "text/plain": [
       "<Figure size 432x288 with 1 Axes>"
      ]
     },
     "metadata": {
      "needs_background": "light"
     },
     "output_type": "display_data"
    }
   ],
   "source": [
    "plt.hist(list(map(len, df['smiles'].values)), bins=20)\n",
    "plt.xlabel('SMILES length')\n",
    "plt.ylabel('counts')\n",
    "plt.title('Tox21')\n",
    "plt.grid()\n",
    "plt.show()"
   ]
  },
  {
   "cell_type": "code",
   "execution_count": 25,
   "metadata": {},
   "outputs": [],
   "source": [
    "from tqdm import tqdm_notebook as tqdm\n",
    "\n",
    "def evaluate_classification_multi(X, y, rate, n_repeats):\n",
    "    auc = np.empty(n_repeats)\n",
    "    for i in tqdm(range(n_repeats)):\n",
    "        clf = MLPClassifier(max_iter=1000)\n",
    "        X_train, X_test, y_train, y_test = train_test_split(X, y, test_size=1-rate, stratify=y)\n",
    "        clf.fit(X_train, y_train)\n",
    "        y_score = clf.predict_proba(X_test)\n",
    "        auc[i] = roc_auc_score(y_test, y_score[:,1])\n",
    "        y_pred = clf.predict(X_test)\n",
    "    ret = {}\n",
    "    ret['auc mean'] = np.mean(auc)\n",
    "    ret['auc std'] = np.std(auc)\n",
    "    return ret"
   ]
  },
  {
   "cell_type": "markdown",
   "metadata": {},
   "source": [
    "### ECFP4"
   ]
  },
  {
   "cell_type": "code",
   "execution_count": 26,
   "metadata": {
    "scrolled": true
   },
   "outputs": [
    {
     "data": {
      "application/vnd.jupyter.widget-view+json": {
       "model_id": "d584b557b8eb42648b955713dd345a40",
       "version_major": 2,
       "version_minor": 0
      },
      "text/plain": [
       "HBox(children=(IntProgress(value=0, max=20), HTML(value='')))"
      ]
     },
     "metadata": {},
     "output_type": "display_data"
    },
    {
     "name": "stdout",
     "output_type": "stream",
     "text": [
      "\n"
     ]
    },
    {
     "data": {
      "application/vnd.jupyter.widget-view+json": {
       "model_id": "7fdf3e12d5ef4eb7bfc4fba84553fc40",
       "version_major": 2,
       "version_minor": 0
      },
      "text/plain": [
       "HBox(children=(IntProgress(value=0, max=20), HTML(value='')))"
      ]
     },
     "metadata": {},
     "output_type": "display_data"
    },
    {
     "name": "stdout",
     "output_type": "stream",
     "text": [
      "\n"
     ]
    },
    {
     "data": {
      "application/vnd.jupyter.widget-view+json": {
       "model_id": "8e0f9758efd14e2bb0ddcfa1c39d8379",
       "version_major": 2,
       "version_minor": 0
      },
      "text/plain": [
       "HBox(children=(IntProgress(value=0, max=20), HTML(value='')))"
      ]
     },
     "metadata": {},
     "output_type": "display_data"
    },
    {
     "name": "stdout",
     "output_type": "stream",
     "text": [
      "\n"
     ]
    },
    {
     "data": {
      "application/vnd.jupyter.widget-view+json": {
       "model_id": "27aece8031ab47e4b323b37810ac0882",
       "version_major": 2,
       "version_minor": 0
      },
      "text/plain": [
       "HBox(children=(IntProgress(value=0, max=20), HTML(value='')))"
      ]
     },
     "metadata": {},
     "output_type": "display_data"
    },
    {
     "name": "stdout",
     "output_type": "stream",
     "text": [
      "\n"
     ]
    },
    {
     "data": {
      "application/vnd.jupyter.widget-view+json": {
       "model_id": "a8dd3054283d411f80f773570d27cedb",
       "version_major": 2,
       "version_minor": 0
      },
      "text/plain": [
       "HBox(children=(IntProgress(value=0, max=20), HTML(value='')))"
      ]
     },
     "metadata": {},
     "output_type": "display_data"
    },
    {
     "name": "stdout",
     "output_type": "stream",
     "text": [
      "\n"
     ]
    },
    {
     "data": {
      "application/vnd.jupyter.widget-view+json": {
       "model_id": "6972f0261ea84c0aba11eed3534746fd",
       "version_major": 2,
       "version_minor": 0
      },
      "text/plain": [
       "HBox(children=(IntProgress(value=0, max=20), HTML(value='')))"
      ]
     },
     "metadata": {},
     "output_type": "display_data"
    },
    {
     "name": "stdout",
     "output_type": "stream",
     "text": [
      "\n"
     ]
    },
    {
     "data": {
      "application/vnd.jupyter.widget-view+json": {
       "model_id": "3316accb6aa54b218630f279d2613e04",
       "version_major": 2,
       "version_minor": 0
      },
      "text/plain": [
       "HBox(children=(IntProgress(value=0, max=20), HTML(value='')))"
      ]
     },
     "metadata": {},
     "output_type": "display_data"
    },
    {
     "name": "stdout",
     "output_type": "stream",
     "text": [
      "\n"
     ]
    },
    {
     "data": {
      "application/vnd.jupyter.widget-view+json": {
       "model_id": "e21443084e744b13b58b9e4e29b7e00e",
       "version_major": 2,
       "version_minor": 0
      },
      "text/plain": [
       "HBox(children=(IntProgress(value=0, max=20), HTML(value='')))"
      ]
     },
     "metadata": {},
     "output_type": "display_data"
    },
    {
     "name": "stdout",
     "output_type": "stream",
     "text": [
      "\n"
     ]
    },
    {
     "data": {
      "application/vnd.jupyter.widget-view+json": {
       "model_id": "fe5ade3ebc2741b69a27fbff2baa4cd2",
       "version_major": 2,
       "version_minor": 0
      },
      "text/plain": [
       "HBox(children=(IntProgress(value=0, max=20), HTML(value='')))"
      ]
     },
     "metadata": {},
     "output_type": "display_data"
    },
    {
     "name": "stdout",
     "output_type": "stream",
     "text": [
      "\n"
     ]
    },
    {
     "data": {
      "application/vnd.jupyter.widget-view+json": {
       "model_id": "157c335db98c4ca6aca5710d12446765",
       "version_major": 2,
       "version_minor": 0
      },
      "text/plain": [
       "HBox(children=(IntProgress(value=0, max=20), HTML(value='')))"
      ]
     },
     "metadata": {},
     "output_type": "display_data"
    },
    {
     "name": "stdout",
     "output_type": "stream",
     "text": [
      "\n"
     ]
    },
    {
     "data": {
      "application/vnd.jupyter.widget-view+json": {
       "model_id": "0b9e3a907be6459eb1b37ddadb4d0c91",
       "version_major": 2,
       "version_minor": 0
      },
      "text/plain": [
       "HBox(children=(IntProgress(value=0, max=20), HTML(value='')))"
      ]
     },
     "metadata": {},
     "output_type": "display_data"
    },
    {
     "name": "stdout",
     "output_type": "stream",
     "text": [
      "\n"
     ]
    },
    {
     "data": {
      "application/vnd.jupyter.widget-view+json": {
       "model_id": "71d363bf9ee04754a7178e851ba89fbc",
       "version_major": 2,
       "version_minor": 0
      },
      "text/plain": [
       "HBox(children=(IntProgress(value=0, max=20), HTML(value='')))"
      ]
     },
     "metadata": {},
     "output_type": "display_data"
    },
    {
     "name": "stdout",
     "output_type": "stream",
     "text": [
      "\n",
      "0.1 [0.49014492 0.01986358]\n"
     ]
    },
    {
     "data": {
      "application/vnd.jupyter.widget-view+json": {
       "model_id": "9da70e0608474722b709ac72c4325908",
       "version_major": 2,
       "version_minor": 0
      },
      "text/plain": [
       "HBox(children=(IntProgress(value=0, max=20), HTML(value='')))"
      ]
     },
     "metadata": {},
     "output_type": "display_data"
    },
    {
     "name": "stdout",
     "output_type": "stream",
     "text": [
      "\n"
     ]
    },
    {
     "data": {
      "application/vnd.jupyter.widget-view+json": {
       "model_id": "15287deb753649c681568599b38d31d2",
       "version_major": 2,
       "version_minor": 0
      },
      "text/plain": [
       "HBox(children=(IntProgress(value=0, max=20), HTML(value='')))"
      ]
     },
     "metadata": {},
     "output_type": "display_data"
    },
    {
     "name": "stdout",
     "output_type": "stream",
     "text": [
      "\n"
     ]
    },
    {
     "data": {
      "application/vnd.jupyter.widget-view+json": {
       "model_id": "5bea439906b34e7faf4f1f9cb42f33e2",
       "version_major": 2,
       "version_minor": 0
      },
      "text/plain": [
       "HBox(children=(IntProgress(value=0, max=20), HTML(value='')))"
      ]
     },
     "metadata": {},
     "output_type": "display_data"
    },
    {
     "name": "stdout",
     "output_type": "stream",
     "text": [
      "\n"
     ]
    },
    {
     "data": {
      "application/vnd.jupyter.widget-view+json": {
       "model_id": "d3845ac2175a41d0a3bf3ceedf4dbd9e",
       "version_major": 2,
       "version_minor": 0
      },
      "text/plain": [
       "HBox(children=(IntProgress(value=0, max=20), HTML(value='')))"
      ]
     },
     "metadata": {},
     "output_type": "display_data"
    },
    {
     "name": "stdout",
     "output_type": "stream",
     "text": [
      "\n"
     ]
    },
    {
     "data": {
      "application/vnd.jupyter.widget-view+json": {
       "model_id": "c69daa9dba3c4b39abb09999d1251605",
       "version_major": 2,
       "version_minor": 0
      },
      "text/plain": [
       "HBox(children=(IntProgress(value=0, max=20), HTML(value='')))"
      ]
     },
     "metadata": {},
     "output_type": "display_data"
    },
    {
     "name": "stdout",
     "output_type": "stream",
     "text": [
      "\n"
     ]
    },
    {
     "data": {
      "application/vnd.jupyter.widget-view+json": {
       "model_id": "d977c9d5ff174ec4a0b4ec0c207d4816",
       "version_major": 2,
       "version_minor": 0
      },
      "text/plain": [
       "HBox(children=(IntProgress(value=0, max=20), HTML(value='')))"
      ]
     },
     "metadata": {},
     "output_type": "display_data"
    },
    {
     "name": "stdout",
     "output_type": "stream",
     "text": [
      "\n"
     ]
    },
    {
     "data": {
      "application/vnd.jupyter.widget-view+json": {
       "model_id": "d8cafcb8fba040d3b0ee74f3bc87c139",
       "version_major": 2,
       "version_minor": 0
      },
      "text/plain": [
       "HBox(children=(IntProgress(value=0, max=20), HTML(value='')))"
      ]
     },
     "metadata": {},
     "output_type": "display_data"
    },
    {
     "name": "stdout",
     "output_type": "stream",
     "text": [
      "\n"
     ]
    },
    {
     "data": {
      "application/vnd.jupyter.widget-view+json": {
       "model_id": "8643c78c6b31441183fa6fabf549e961",
       "version_major": 2,
       "version_minor": 0
      },
      "text/plain": [
       "HBox(children=(IntProgress(value=0, max=20), HTML(value='')))"
      ]
     },
     "metadata": {},
     "output_type": "display_data"
    },
    {
     "name": "stdout",
     "output_type": "stream",
     "text": [
      "\n"
     ]
    },
    {
     "data": {
      "application/vnd.jupyter.widget-view+json": {
       "model_id": "7839dc6026764a8f97c1a842fe785252",
       "version_major": 2,
       "version_minor": 0
      },
      "text/plain": [
       "HBox(children=(IntProgress(value=0, max=20), HTML(value='')))"
      ]
     },
     "metadata": {},
     "output_type": "display_data"
    },
    {
     "name": "stdout",
     "output_type": "stream",
     "text": [
      "\n"
     ]
    },
    {
     "data": {
      "application/vnd.jupyter.widget-view+json": {
       "model_id": "88260aa7b681475ea819aa3124ac2430",
       "version_major": 2,
       "version_minor": 0
      },
      "text/plain": [
       "HBox(children=(IntProgress(value=0, max=20), HTML(value='')))"
      ]
     },
     "metadata": {},
     "output_type": "display_data"
    },
    {
     "name": "stdout",
     "output_type": "stream",
     "text": [
      "\n"
     ]
    },
    {
     "data": {
      "application/vnd.jupyter.widget-view+json": {
       "model_id": "b131ce88019443868bfc992bf2075e2f",
       "version_major": 2,
       "version_minor": 0
      },
      "text/plain": [
       "HBox(children=(IntProgress(value=0, max=20), HTML(value='')))"
      ]
     },
     "metadata": {},
     "output_type": "display_data"
    },
    {
     "name": "stdout",
     "output_type": "stream",
     "text": [
      "\n"
     ]
    },
    {
     "data": {
      "application/vnd.jupyter.widget-view+json": {
       "model_id": "0297df569560484ca1e5c8ef8634ac35",
       "version_major": 2,
       "version_minor": 0
      },
      "text/plain": [
       "HBox(children=(IntProgress(value=0, max=20), HTML(value='')))"
      ]
     },
     "metadata": {},
     "output_type": "display_data"
    },
    {
     "name": "stdout",
     "output_type": "stream",
     "text": [
      "\n",
      "0.3 [0.4883367  0.02578929]\n"
     ]
    },
    {
     "data": {
      "application/vnd.jupyter.widget-view+json": {
       "model_id": "60486b0806224de9843540e9d54aecfb",
       "version_major": 2,
       "version_minor": 0
      },
      "text/plain": [
       "HBox(children=(IntProgress(value=0, max=20), HTML(value='')))"
      ]
     },
     "metadata": {},
     "output_type": "display_data"
    },
    {
     "name": "stdout",
     "output_type": "stream",
     "text": [
      "\n"
     ]
    },
    {
     "data": {
      "application/vnd.jupyter.widget-view+json": {
       "model_id": "88aa6b9105b1454c8dd2c16315d2c566",
       "version_major": 2,
       "version_minor": 0
      },
      "text/plain": [
       "HBox(children=(IntProgress(value=0, max=20), HTML(value='')))"
      ]
     },
     "metadata": {},
     "output_type": "display_data"
    },
    {
     "name": "stdout",
     "output_type": "stream",
     "text": [
      "\n"
     ]
    },
    {
     "data": {
      "application/vnd.jupyter.widget-view+json": {
       "model_id": "1b302f0c71e94dd580e2ba2988bfba1e",
       "version_major": 2,
       "version_minor": 0
      },
      "text/plain": [
       "HBox(children=(IntProgress(value=0, max=20), HTML(value='')))"
      ]
     },
     "metadata": {},
     "output_type": "display_data"
    },
    {
     "name": "stdout",
     "output_type": "stream",
     "text": [
      "\n"
     ]
    },
    {
     "data": {
      "application/vnd.jupyter.widget-view+json": {
       "model_id": "7b9e18634cc4436998cce34804c004e0",
       "version_major": 2,
       "version_minor": 0
      },
      "text/plain": [
       "HBox(children=(IntProgress(value=0, max=20), HTML(value='')))"
      ]
     },
     "metadata": {},
     "output_type": "display_data"
    },
    {
     "name": "stdout",
     "output_type": "stream",
     "text": [
      "\n"
     ]
    },
    {
     "data": {
      "application/vnd.jupyter.widget-view+json": {
       "model_id": "7dae3415fbd44107a8a1d606956fb73c",
       "version_major": 2,
       "version_minor": 0
      },
      "text/plain": [
       "HBox(children=(IntProgress(value=0, max=20), HTML(value='')))"
      ]
     },
     "metadata": {},
     "output_type": "display_data"
    },
    {
     "name": "stdout",
     "output_type": "stream",
     "text": [
      "\n"
     ]
    },
    {
     "data": {
      "application/vnd.jupyter.widget-view+json": {
       "model_id": "59dbdc1282c244e1a72f7b81a80538f0",
       "version_major": 2,
       "version_minor": 0
      },
      "text/plain": [
       "HBox(children=(IntProgress(value=0, max=20), HTML(value='')))"
      ]
     },
     "metadata": {},
     "output_type": "display_data"
    },
    {
     "name": "stdout",
     "output_type": "stream",
     "text": [
      "\n"
     ]
    },
    {
     "data": {
      "application/vnd.jupyter.widget-view+json": {
       "model_id": "a654f298f4f94cc3ad4de71a3168cd16",
       "version_major": 2,
       "version_minor": 0
      },
      "text/plain": [
       "HBox(children=(IntProgress(value=0, max=20), HTML(value='')))"
      ]
     },
     "metadata": {},
     "output_type": "display_data"
    },
    {
     "name": "stdout",
     "output_type": "stream",
     "text": [
      "\n"
     ]
    },
    {
     "data": {
      "application/vnd.jupyter.widget-view+json": {
       "model_id": "0d9224041a0849438aeb9c4b5f4779b3",
       "version_major": 2,
       "version_minor": 0
      },
      "text/plain": [
       "HBox(children=(IntProgress(value=0, max=20), HTML(value='')))"
      ]
     },
     "metadata": {},
     "output_type": "display_data"
    },
    {
     "name": "stdout",
     "output_type": "stream",
     "text": [
      "\n"
     ]
    },
    {
     "data": {
      "application/vnd.jupyter.widget-view+json": {
       "model_id": "55e84e673056432b94e8e2a900ba8c09",
       "version_major": 2,
       "version_minor": 0
      },
      "text/plain": [
       "HBox(children=(IntProgress(value=0, max=20), HTML(value='')))"
      ]
     },
     "metadata": {},
     "output_type": "display_data"
    },
    {
     "name": "stdout",
     "output_type": "stream",
     "text": [
      "\n"
     ]
    },
    {
     "data": {
      "application/vnd.jupyter.widget-view+json": {
       "model_id": "e64c895bd89c41458144c9b5e199854c",
       "version_major": 2,
       "version_minor": 0
      },
      "text/plain": [
       "HBox(children=(IntProgress(value=0, max=20), HTML(value='')))"
      ]
     },
     "metadata": {},
     "output_type": "display_data"
    },
    {
     "name": "stdout",
     "output_type": "stream",
     "text": [
      "\n"
     ]
    },
    {
     "data": {
      "application/vnd.jupyter.widget-view+json": {
       "model_id": "c85c44574aa045b59c8f39406642f47f",
       "version_major": 2,
       "version_minor": 0
      },
      "text/plain": [
       "HBox(children=(IntProgress(value=0, max=20), HTML(value='')))"
      ]
     },
     "metadata": {},
     "output_type": "display_data"
    },
    {
     "name": "stdout",
     "output_type": "stream",
     "text": [
      "\n"
     ]
    },
    {
     "data": {
      "application/vnd.jupyter.widget-view+json": {
       "model_id": "1b39daf7ed854534806240d16db44ddb",
       "version_major": 2,
       "version_minor": 0
      },
      "text/plain": [
       "HBox(children=(IntProgress(value=0, max=20), HTML(value='')))"
      ]
     },
     "metadata": {},
     "output_type": "display_data"
    },
    {
     "name": "stdout",
     "output_type": "stream",
     "text": [
      "\n",
      "0.5 [0.48641916 0.03304265]\n"
     ]
    },
    {
     "data": {
      "application/vnd.jupyter.widget-view+json": {
       "model_id": "5c33d5ac93a0473d9924d75f99c80497",
       "version_major": 2,
       "version_minor": 0
      },
      "text/plain": [
       "HBox(children=(IntProgress(value=0, max=20), HTML(value='')))"
      ]
     },
     "metadata": {},
     "output_type": "display_data"
    },
    {
     "name": "stdout",
     "output_type": "stream",
     "text": [
      "\n"
     ]
    },
    {
     "data": {
      "application/vnd.jupyter.widget-view+json": {
       "model_id": "c06f7d811fa84c22a3294a22615e3132",
       "version_major": 2,
       "version_minor": 0
      },
      "text/plain": [
       "HBox(children=(IntProgress(value=0, max=20), HTML(value='')))"
      ]
     },
     "metadata": {},
     "output_type": "display_data"
    },
    {
     "name": "stdout",
     "output_type": "stream",
     "text": [
      "\n"
     ]
    },
    {
     "data": {
      "application/vnd.jupyter.widget-view+json": {
       "model_id": "ac49350a78304262a1dc70250b199d84",
       "version_major": 2,
       "version_minor": 0
      },
      "text/plain": [
       "HBox(children=(IntProgress(value=0, max=20), HTML(value='')))"
      ]
     },
     "metadata": {},
     "output_type": "display_data"
    },
    {
     "name": "stdout",
     "output_type": "stream",
     "text": [
      "\n"
     ]
    },
    {
     "data": {
      "application/vnd.jupyter.widget-view+json": {
       "model_id": "5a734310a1a74c70939808723cbf4670",
       "version_major": 2,
       "version_minor": 0
      },
      "text/plain": [
       "HBox(children=(IntProgress(value=0, max=20), HTML(value='')))"
      ]
     },
     "metadata": {},
     "output_type": "display_data"
    },
    {
     "name": "stdout",
     "output_type": "stream",
     "text": [
      "\n"
     ]
    },
    {
     "data": {
      "application/vnd.jupyter.widget-view+json": {
       "model_id": "71cd90598c844dc6b257362611dff4ae",
       "version_major": 2,
       "version_minor": 0
      },
      "text/plain": [
       "HBox(children=(IntProgress(value=0, max=20), HTML(value='')))"
      ]
     },
     "metadata": {},
     "output_type": "display_data"
    },
    {
     "name": "stdout",
     "output_type": "stream",
     "text": [
      "\n"
     ]
    },
    {
     "data": {
      "application/vnd.jupyter.widget-view+json": {
       "model_id": "566e42098cf04f0aa449a7836cb3edc5",
       "version_major": 2,
       "version_minor": 0
      },
      "text/plain": [
       "HBox(children=(IntProgress(value=0, max=20), HTML(value='')))"
      ]
     },
     "metadata": {},
     "output_type": "display_data"
    },
    {
     "name": "stdout",
     "output_type": "stream",
     "text": [
      "\n"
     ]
    },
    {
     "data": {
      "application/vnd.jupyter.widget-view+json": {
       "model_id": "a2f75c3175a248549efae1dd9bc61f40",
       "version_major": 2,
       "version_minor": 0
      },
      "text/plain": [
       "HBox(children=(IntProgress(value=0, max=20), HTML(value='')))"
      ]
     },
     "metadata": {},
     "output_type": "display_data"
    },
    {
     "name": "stdout",
     "output_type": "stream",
     "text": [
      "\n"
     ]
    },
    {
     "data": {
      "application/vnd.jupyter.widget-view+json": {
       "model_id": "295d427ee2364b249166174ce4eea40c",
       "version_major": 2,
       "version_minor": 0
      },
      "text/plain": [
       "HBox(children=(IntProgress(value=0, max=20), HTML(value='')))"
      ]
     },
     "metadata": {},
     "output_type": "display_data"
    },
    {
     "name": "stdout",
     "output_type": "stream",
     "text": [
      "\n"
     ]
    },
    {
     "data": {
      "application/vnd.jupyter.widget-view+json": {
       "model_id": "ad23b02bf5da40c1bcddff13415f4556",
       "version_major": 2,
       "version_minor": 0
      },
      "text/plain": [
       "HBox(children=(IntProgress(value=0, max=20), HTML(value='')))"
      ]
     },
     "metadata": {},
     "output_type": "display_data"
    },
    {
     "name": "stdout",
     "output_type": "stream",
     "text": [
      "\n"
     ]
    },
    {
     "data": {
      "application/vnd.jupyter.widget-view+json": {
       "model_id": "f2da649928a64581b2dd27793f827498",
       "version_major": 2,
       "version_minor": 0
      },
      "text/plain": [
       "HBox(children=(IntProgress(value=0, max=20), HTML(value='')))"
      ]
     },
     "metadata": {},
     "output_type": "display_data"
    },
    {
     "name": "stdout",
     "output_type": "stream",
     "text": [
      "\n"
     ]
    },
    {
     "data": {
      "application/vnd.jupyter.widget-view+json": {
       "model_id": "5614370bc2f0437cb8815b25ac363d95",
       "version_major": 2,
       "version_minor": 0
      },
      "text/plain": [
       "HBox(children=(IntProgress(value=0, max=20), HTML(value='')))"
      ]
     },
     "metadata": {},
     "output_type": "display_data"
    },
    {
     "name": "stdout",
     "output_type": "stream",
     "text": [
      "\n"
     ]
    },
    {
     "data": {
      "application/vnd.jupyter.widget-view+json": {
       "model_id": "dcc2b68041e2474ea574ec75fc74b80d",
       "version_major": 2,
       "version_minor": 0
      },
      "text/plain": [
       "HBox(children=(IntProgress(value=0, max=20), HTML(value='')))"
      ]
     },
     "metadata": {},
     "output_type": "display_data"
    },
    {
     "name": "stdout",
     "output_type": "stream",
     "text": [
      "\n",
      "0.7 [0.48915604 0.05061128]\n"
     ]
    },
    {
     "data": {
      "application/vnd.jupyter.widget-view+json": {
       "model_id": "bb4291535274473da1bc84f37ae61f70",
       "version_major": 2,
       "version_minor": 0
      },
      "text/plain": [
       "HBox(children=(IntProgress(value=0, max=20), HTML(value='')))"
      ]
     },
     "metadata": {},
     "output_type": "display_data"
    },
    {
     "name": "stdout",
     "output_type": "stream",
     "text": [
      "\n"
     ]
    },
    {
     "data": {
      "application/vnd.jupyter.widget-view+json": {
       "model_id": "291d409b92af43e484b2e1ea1e8bbb37",
       "version_major": 2,
       "version_minor": 0
      },
      "text/plain": [
       "HBox(children=(IntProgress(value=0, max=20), HTML(value='')))"
      ]
     },
     "metadata": {},
     "output_type": "display_data"
    },
    {
     "name": "stdout",
     "output_type": "stream",
     "text": [
      "\n"
     ]
    },
    {
     "data": {
      "application/vnd.jupyter.widget-view+json": {
       "model_id": "b20389ff096b4769b64be134f4447526",
       "version_major": 2,
       "version_minor": 0
      },
      "text/plain": [
       "HBox(children=(IntProgress(value=0, max=20), HTML(value='')))"
      ]
     },
     "metadata": {},
     "output_type": "display_data"
    },
    {
     "name": "stdout",
     "output_type": "stream",
     "text": [
      "\n"
     ]
    },
    {
     "data": {
      "application/vnd.jupyter.widget-view+json": {
       "model_id": "fe47730f291f4d2c863a1aad2158a735",
       "version_major": 2,
       "version_minor": 0
      },
      "text/plain": [
       "HBox(children=(IntProgress(value=0, max=20), HTML(value='')))"
      ]
     },
     "metadata": {},
     "output_type": "display_data"
    },
    {
     "name": "stdout",
     "output_type": "stream",
     "text": [
      "\n"
     ]
    },
    {
     "data": {
      "application/vnd.jupyter.widget-view+json": {
       "model_id": "fe6b5949896f496f8c808724f5235a83",
       "version_major": 2,
       "version_minor": 0
      },
      "text/plain": [
       "HBox(children=(IntProgress(value=0, max=20), HTML(value='')))"
      ]
     },
     "metadata": {},
     "output_type": "display_data"
    },
    {
     "name": "stdout",
     "output_type": "stream",
     "text": [
      "\n"
     ]
    },
    {
     "data": {
      "application/vnd.jupyter.widget-view+json": {
       "model_id": "88daf92e6efe4977879adfc80ff12809",
       "version_major": 2,
       "version_minor": 0
      },
      "text/plain": [
       "HBox(children=(IntProgress(value=0, max=20), HTML(value='')))"
      ]
     },
     "metadata": {},
     "output_type": "display_data"
    },
    {
     "name": "stdout",
     "output_type": "stream",
     "text": [
      "\n"
     ]
    },
    {
     "data": {
      "application/vnd.jupyter.widget-view+json": {
       "model_id": "9056c5b8af324c179a24f0b04d7bbb17",
       "version_major": 2,
       "version_minor": 0
      },
      "text/plain": [
       "HBox(children=(IntProgress(value=0, max=20), HTML(value='')))"
      ]
     },
     "metadata": {},
     "output_type": "display_data"
    },
    {
     "name": "stdout",
     "output_type": "stream",
     "text": [
      "\n"
     ]
    },
    {
     "data": {
      "application/vnd.jupyter.widget-view+json": {
       "model_id": "cf177f707c824835b68b887e6832c7bc",
       "version_major": 2,
       "version_minor": 0
      },
      "text/plain": [
       "HBox(children=(IntProgress(value=0, max=20), HTML(value='')))"
      ]
     },
     "metadata": {},
     "output_type": "display_data"
    },
    {
     "name": "stdout",
     "output_type": "stream",
     "text": [
      "\n"
     ]
    },
    {
     "data": {
      "application/vnd.jupyter.widget-view+json": {
       "model_id": "66780e2fc7c14ee3be5e399698b0603a",
       "version_major": 2,
       "version_minor": 0
      },
      "text/plain": [
       "HBox(children=(IntProgress(value=0, max=20), HTML(value='')))"
      ]
     },
     "metadata": {},
     "output_type": "display_data"
    },
    {
     "name": "stdout",
     "output_type": "stream",
     "text": [
      "\n"
     ]
    },
    {
     "data": {
      "application/vnd.jupyter.widget-view+json": {
       "model_id": "2a4e3279854c46d4ba1d42fa97dc757a",
       "version_major": 2,
       "version_minor": 0
      },
      "text/plain": [
       "HBox(children=(IntProgress(value=0, max=20), HTML(value='')))"
      ]
     },
     "metadata": {},
     "output_type": "display_data"
    },
    {
     "name": "stdout",
     "output_type": "stream",
     "text": [
      "\n"
     ]
    },
    {
     "data": {
      "application/vnd.jupyter.widget-view+json": {
       "model_id": "8ff7635d449748bdb002dc09b921a797",
       "version_major": 2,
       "version_minor": 0
      },
      "text/plain": [
       "HBox(children=(IntProgress(value=0, max=20), HTML(value='')))"
      ]
     },
     "metadata": {},
     "output_type": "display_data"
    },
    {
     "name": "stdout",
     "output_type": "stream",
     "text": [
      "\n"
     ]
    },
    {
     "data": {
      "application/vnd.jupyter.widget-view+json": {
       "model_id": "db37dfc7e4ca4f35a178895616619b09",
       "version_major": 2,
       "version_minor": 0
      },
      "text/plain": [
       "HBox(children=(IntProgress(value=0, max=20), HTML(value='')))"
      ]
     },
     "metadata": {},
     "output_type": "display_data"
    },
    {
     "name": "stdout",
     "output_type": "stream",
     "text": [
      "\n",
      "0.9 [0.49556962 0.10761644]\n"
     ]
    }
   ],
   "source": [
    "for rate in rates:\n",
    "    keys = df.keys()[:-2]\n",
    "    n_tasks = len(keys)\n",
    "    scores = np.empty((n_tasks, 2))\n",
    "    for i,key in enumerate(keys):\n",
    "        x = df['smiles'][df[key].isna()].values\n",
    "        y = df[key].dropna().values\n",
    "        x,X,y = extract_morgan(x, y)\n",
    "        score_dic = evaluate_classification_multi(X, y, rate, 20)\n",
    "        scores[i] = [score_dic['auc mean'], score_dic['auc std']]\n",
    "    print(rate, np.mean(scores, axis=0))"
   ]
  },
  {
   "cell_type": "markdown",
   "metadata": {},
   "source": [
    "### ST"
   ]
  },
  {
   "cell_type": "code",
   "execution_count": 28,
   "metadata": {
    "scrolled": true
   },
   "outputs": [
    {
     "name": "stdout",
     "output_type": "stream",
     "text": [
      "SMILES is too long (231)\n",
      "SMILES is too long (263)\n",
      "SMILES is too long (277)\n",
      "SMILES is too long (219)\n",
      "SMILES is too long (325)\n",
      "SMILES is too long (243)\n",
      "SMILES is too long (271)\n",
      "SMILES is too long (255)\n",
      "SMILES is too long (251)\n",
      "SMILES is too long (235)\n",
      "SMILES is too long (227)\n",
      "SMILES is too long (251)\n",
      "SMILES is too long (248)\n",
      "SMILES is too long (264)\n",
      "SMILES is too long (311)\n",
      "SMILES is too long (251)\n",
      "SMILES is too long (340)\n",
      "SMILES is too long (230)\n",
      "SMILES is too long (306)\n",
      "SMILES is too long (284)\n",
      "SMILES is too long (233)\n",
      "SMILES is too long (221)\n",
      "SMILES is too long (253)\n",
      "SMILES is too long (225)\n",
      "SMILES is too long (264)\n",
      "SMILES is too long (271)\n",
      "SMILES is too long (226)\n",
      "SMILES is too long (275)\n",
      "SMILES is too long (225)\n",
      "SMILES is too long (273)\n",
      "Encoding done\n"
     ]
    },
    {
     "ename": "TypeError",
     "evalue": "evaluate_classification_multi() takes 4 positional arguments but 5 were given",
     "output_type": "error",
     "traceback": [
      "\u001b[0;31m---------------------------------------------------------------------------\u001b[0m",
      "\u001b[0;31mTypeError\u001b[0m                                 Traceback (most recent call last)",
      "\u001b[0;32m<ipython-input-28-f8881ae3dfea>\u001b[0m in \u001b[0;36m<module>\u001b[0;34m\u001b[0m\n\u001b[1;32m     10\u001b[0m         \u001b[0my\u001b[0m \u001b[0;34m=\u001b[0m \u001b[0mdf\u001b[0m\u001b[0;34m[\u001b[0m\u001b[0mkey\u001b[0m\u001b[0;34m]\u001b[0m\u001b[0;34m.\u001b[0m\u001b[0mdropna\u001b[0m\u001b[0;34m(\u001b[0m\u001b[0;34m)\u001b[0m\u001b[0;34m.\u001b[0m\u001b[0mvalues\u001b[0m\u001b[0;34m\u001b[0m\u001b[0m\n\u001b[1;32m     11\u001b[0m         \u001b[0mclf\u001b[0m \u001b[0;34m=\u001b[0m \u001b[0mMLPClassifier\u001b[0m\u001b[0;34m(\u001b[0m\u001b[0mmax_iter\u001b[0m\u001b[0;34m=\u001b[0m\u001b[0;36m1000\u001b[0m\u001b[0;34m)\u001b[0m\u001b[0;34m\u001b[0m\u001b[0m\n\u001b[0;32m---> 12\u001b[0;31m         \u001b[0mscore_dic\u001b[0m \u001b[0;34m=\u001b[0m \u001b[0mevaluate_classification_multi\u001b[0m\u001b[0;34m(\u001b[0m\u001b[0mclf\u001b[0m\u001b[0;34m,\u001b[0m \u001b[0mX\u001b[0m\u001b[0;34m,\u001b[0m \u001b[0my\u001b[0m\u001b[0;34m,\u001b[0m \u001b[0mrate\u001b[0m\u001b[0;34m,\u001b[0m \u001b[0;36m20\u001b[0m\u001b[0;34m)\u001b[0m\u001b[0;34m\u001b[0m\u001b[0m\n\u001b[0m\u001b[1;32m     13\u001b[0m         \u001b[0mscores\u001b[0m\u001b[0;34m[\u001b[0m\u001b[0mi\u001b[0m\u001b[0;34m]\u001b[0m \u001b[0;34m=\u001b[0m \u001b[0;34m[\u001b[0m\u001b[0mscore_dic\u001b[0m\u001b[0;34m[\u001b[0m\u001b[0;34m'auc mean'\u001b[0m\u001b[0;34m]\u001b[0m\u001b[0;34m,\u001b[0m \u001b[0mscore_dic\u001b[0m\u001b[0;34m[\u001b[0m\u001b[0;34m'auc std'\u001b[0m\u001b[0;34m]\u001b[0m\u001b[0;34m]\u001b[0m\u001b[0;34m\u001b[0m\u001b[0m\n\u001b[1;32m     14\u001b[0m     \u001b[0mprint\u001b[0m\u001b[0;34m(\u001b[0m\u001b[0mrate\u001b[0m\u001b[0;34m,\u001b[0m \u001b[0mnp\u001b[0m\u001b[0;34m.\u001b[0m\u001b[0mmean\u001b[0m\u001b[0;34m(\u001b[0m\u001b[0mscores\u001b[0m\u001b[0;34m,\u001b[0m \u001b[0maxis\u001b[0m\u001b[0;34m=\u001b[0m\u001b[0;36m0\u001b[0m\u001b[0;34m)\u001b[0m\u001b[0;34m)\u001b[0m\u001b[0;34m\u001b[0m\u001b[0m\n",
      "\u001b[0;31mTypeError\u001b[0m: evaluate_classification_multi() takes 4 positional arguments but 5 were given"
     ]
    }
   ],
   "source": [
    "x_split = [split(sm) for sm in df['smiles'].values]\n",
    "x = prepare_data(x_split)\n",
    "print('Encoding done')\n"
   ]
  },
  {
   "cell_type": "code",
   "execution_count": 29,
   "metadata": {},
   "outputs": [
    {
     "data": {
      "application/vnd.jupyter.widget-view+json": {
       "model_id": "13007e6c3b2d4fad93ea7b709dadf89e",
       "version_major": 2,
       "version_minor": 0
      },
      "text/plain": [
       "HBox(children=(IntProgress(value=0, max=20), HTML(value='')))"
      ]
     },
     "metadata": {},
     "output_type": "display_data"
    },
    {
     "name": "stdout",
     "output_type": "stream",
     "text": [
      "\n"
     ]
    },
    {
     "data": {
      "application/vnd.jupyter.widget-view+json": {
       "model_id": "8fc1c4e5efb64b0cb3bfc167e5d6d658",
       "version_major": 2,
       "version_minor": 0
      },
      "text/plain": [
       "HBox(children=(IntProgress(value=0, max=20), HTML(value='')))"
      ]
     },
     "metadata": {},
     "output_type": "display_data"
    },
    {
     "name": "stdout",
     "output_type": "stream",
     "text": [
      "\n"
     ]
    },
    {
     "data": {
      "application/vnd.jupyter.widget-view+json": {
       "model_id": "678a230de388466ebe98c73639ac3e49",
       "version_major": 2,
       "version_minor": 0
      },
      "text/plain": [
       "HBox(children=(IntProgress(value=0, max=20), HTML(value='')))"
      ]
     },
     "metadata": {},
     "output_type": "display_data"
    },
    {
     "name": "stdout",
     "output_type": "stream",
     "text": [
      "\n"
     ]
    },
    {
     "data": {
      "application/vnd.jupyter.widget-view+json": {
       "model_id": "5f0e8cccb6bc40bc94983262007d05c9",
       "version_major": 2,
       "version_minor": 0
      },
      "text/plain": [
       "HBox(children=(IntProgress(value=0, max=20), HTML(value='')))"
      ]
     },
     "metadata": {},
     "output_type": "display_data"
    },
    {
     "name": "stdout",
     "output_type": "stream",
     "text": [
      "\n"
     ]
    },
    {
     "data": {
      "application/vnd.jupyter.widget-view+json": {
       "model_id": "dd7ab7f3e3bc4aa6a1a9592d99dee86e",
       "version_major": 2,
       "version_minor": 0
      },
      "text/plain": [
       "HBox(children=(IntProgress(value=0, max=20), HTML(value='')))"
      ]
     },
     "metadata": {},
     "output_type": "display_data"
    },
    {
     "name": "stdout",
     "output_type": "stream",
     "text": [
      "\n"
     ]
    },
    {
     "data": {
      "application/vnd.jupyter.widget-view+json": {
       "model_id": "aa2a1182559540e8ada904460ef85012",
       "version_major": 2,
       "version_minor": 0
      },
      "text/plain": [
       "HBox(children=(IntProgress(value=0, max=20), HTML(value='')))"
      ]
     },
     "metadata": {},
     "output_type": "display_data"
    },
    {
     "name": "stdout",
     "output_type": "stream",
     "text": [
      "\n"
     ]
    },
    {
     "data": {
      "application/vnd.jupyter.widget-view+json": {
       "model_id": "f57272396998458da33e593a32fea4a2",
       "version_major": 2,
       "version_minor": 0
      },
      "text/plain": [
       "HBox(children=(IntProgress(value=0, max=20), HTML(value='')))"
      ]
     },
     "metadata": {},
     "output_type": "display_data"
    },
    {
     "name": "stdout",
     "output_type": "stream",
     "text": [
      "\n"
     ]
    },
    {
     "data": {
      "application/vnd.jupyter.widget-view+json": {
       "model_id": "2f65e02c6fce4ba0b2b10032cbe9d1f2",
       "version_major": 2,
       "version_minor": 0
      },
      "text/plain": [
       "HBox(children=(IntProgress(value=0, max=20), HTML(value='')))"
      ]
     },
     "metadata": {},
     "output_type": "display_data"
    },
    {
     "name": "stdout",
     "output_type": "stream",
     "text": [
      "\n"
     ]
    },
    {
     "data": {
      "application/vnd.jupyter.widget-view+json": {
       "model_id": "8568dbefdbb049f09b8afbeda8490a56",
       "version_major": 2,
       "version_minor": 0
      },
      "text/plain": [
       "HBox(children=(IntProgress(value=0, max=20), HTML(value='')))"
      ]
     },
     "metadata": {},
     "output_type": "display_data"
    },
    {
     "name": "stdout",
     "output_type": "stream",
     "text": [
      "\n"
     ]
    },
    {
     "data": {
      "application/vnd.jupyter.widget-view+json": {
       "model_id": "ec347a4631b94a4895148c39dda22cac",
       "version_major": 2,
       "version_minor": 0
      },
      "text/plain": [
       "HBox(children=(IntProgress(value=0, max=20), HTML(value='')))"
      ]
     },
     "metadata": {},
     "output_type": "display_data"
    },
    {
     "name": "stdout",
     "output_type": "stream",
     "text": [
      "\n"
     ]
    },
    {
     "data": {
      "application/vnd.jupyter.widget-view+json": {
       "model_id": "f95b1709823b4ea68d834fcd67b82f92",
       "version_major": 2,
       "version_minor": 0
      },
      "text/plain": [
       "HBox(children=(IntProgress(value=0, max=20), HTML(value='')))"
      ]
     },
     "metadata": {},
     "output_type": "display_data"
    },
    {
     "name": "stdout",
     "output_type": "stream",
     "text": [
      "\n"
     ]
    },
    {
     "data": {
      "application/vnd.jupyter.widget-view+json": {
       "model_id": "beb214d734574f09b33568fb8d642259",
       "version_major": 2,
       "version_minor": 0
      },
      "text/plain": [
       "HBox(children=(IntProgress(value=0, max=20), HTML(value='')))"
      ]
     },
     "metadata": {},
     "output_type": "display_data"
    },
    {
     "name": "stdout",
     "output_type": "stream",
     "text": [
      "\n",
      "0.1 [0.72729178 0.01583617]\n"
     ]
    },
    {
     "data": {
      "application/vnd.jupyter.widget-view+json": {
       "model_id": "a36c0db29c874005bb3efbe55ecccc63",
       "version_major": 2,
       "version_minor": 0
      },
      "text/plain": [
       "HBox(children=(IntProgress(value=0, max=20), HTML(value='')))"
      ]
     },
     "metadata": {},
     "output_type": "display_data"
    },
    {
     "name": "stdout",
     "output_type": "stream",
     "text": [
      "\n"
     ]
    },
    {
     "data": {
      "application/vnd.jupyter.widget-view+json": {
       "model_id": "2f18078bb9d8462c90d21f3a82f10525",
       "version_major": 2,
       "version_minor": 0
      },
      "text/plain": [
       "HBox(children=(IntProgress(value=0, max=20), HTML(value='')))"
      ]
     },
     "metadata": {},
     "output_type": "display_data"
    },
    {
     "name": "stdout",
     "output_type": "stream",
     "text": [
      "\n"
     ]
    },
    {
     "data": {
      "application/vnd.jupyter.widget-view+json": {
       "model_id": "01e41f8d52524258a66abb2ce9677ba6",
       "version_major": 2,
       "version_minor": 0
      },
      "text/plain": [
       "HBox(children=(IntProgress(value=0, max=20), HTML(value='')))"
      ]
     },
     "metadata": {},
     "output_type": "display_data"
    },
    {
     "name": "stdout",
     "output_type": "stream",
     "text": [
      "\n"
     ]
    },
    {
     "data": {
      "application/vnd.jupyter.widget-view+json": {
       "model_id": "ccb3e0bfed0443f3a64b38938741594d",
       "version_major": 2,
       "version_minor": 0
      },
      "text/plain": [
       "HBox(children=(IntProgress(value=0, max=20), HTML(value='')))"
      ]
     },
     "metadata": {},
     "output_type": "display_data"
    },
    {
     "name": "stdout",
     "output_type": "stream",
     "text": [
      "\n"
     ]
    },
    {
     "data": {
      "application/vnd.jupyter.widget-view+json": {
       "model_id": "8e7ab611dead4cd4b08546b9f1744353",
       "version_major": 2,
       "version_minor": 0
      },
      "text/plain": [
       "HBox(children=(IntProgress(value=0, max=20), HTML(value='')))"
      ]
     },
     "metadata": {},
     "output_type": "display_data"
    },
    {
     "name": "stdout",
     "output_type": "stream",
     "text": [
      "\n"
     ]
    },
    {
     "data": {
      "application/vnd.jupyter.widget-view+json": {
       "model_id": "93012f5256ef4f05b146760e2c51833d",
       "version_major": 2,
       "version_minor": 0
      },
      "text/plain": [
       "HBox(children=(IntProgress(value=0, max=20), HTML(value='')))"
      ]
     },
     "metadata": {},
     "output_type": "display_data"
    },
    {
     "name": "stdout",
     "output_type": "stream",
     "text": [
      "\n"
     ]
    },
    {
     "data": {
      "application/vnd.jupyter.widget-view+json": {
       "model_id": "767147a6c57049c8888bfad2921992f6",
       "version_major": 2,
       "version_minor": 0
      },
      "text/plain": [
       "HBox(children=(IntProgress(value=0, max=20), HTML(value='')))"
      ]
     },
     "metadata": {},
     "output_type": "display_data"
    },
    {
     "name": "stdout",
     "output_type": "stream",
     "text": [
      "\n"
     ]
    },
    {
     "data": {
      "application/vnd.jupyter.widget-view+json": {
       "model_id": "cd5dedbf74774f199b2100e0065b2375",
       "version_major": 2,
       "version_minor": 0
      },
      "text/plain": [
       "HBox(children=(IntProgress(value=0, max=20), HTML(value='')))"
      ]
     },
     "metadata": {},
     "output_type": "display_data"
    },
    {
     "name": "stdout",
     "output_type": "stream",
     "text": [
      "\n"
     ]
    },
    {
     "data": {
      "application/vnd.jupyter.widget-view+json": {
       "model_id": "b7adc46cda0f4430a115edf7b266f6c9",
       "version_major": 2,
       "version_minor": 0
      },
      "text/plain": [
       "HBox(children=(IntProgress(value=0, max=20), HTML(value='')))"
      ]
     },
     "metadata": {},
     "output_type": "display_data"
    },
    {
     "name": "stdout",
     "output_type": "stream",
     "text": [
      "\n"
     ]
    },
    {
     "data": {
      "application/vnd.jupyter.widget-view+json": {
       "model_id": "bb33dffafb914ffbb3cddb2bdc8a7794",
       "version_major": 2,
       "version_minor": 0
      },
      "text/plain": [
       "HBox(children=(IntProgress(value=0, max=20), HTML(value='')))"
      ]
     },
     "metadata": {},
     "output_type": "display_data"
    },
    {
     "name": "stdout",
     "output_type": "stream",
     "text": [
      "\n"
     ]
    },
    {
     "data": {
      "application/vnd.jupyter.widget-view+json": {
       "model_id": "d8590a99951640e4921c1d555e2bc009",
       "version_major": 2,
       "version_minor": 0
      },
      "text/plain": [
       "HBox(children=(IntProgress(value=0, max=20), HTML(value='')))"
      ]
     },
     "metadata": {},
     "output_type": "display_data"
    },
    {
     "name": "stdout",
     "output_type": "stream",
     "text": [
      "\n"
     ]
    },
    {
     "data": {
      "application/vnd.jupyter.widget-view+json": {
       "model_id": "a29c3426be394076b22f1313e2c2fbbd",
       "version_major": 2,
       "version_minor": 0
      },
      "text/plain": [
       "HBox(children=(IntProgress(value=0, max=20), HTML(value='')))"
      ]
     },
     "metadata": {},
     "output_type": "display_data"
    },
    {
     "name": "stdout",
     "output_type": "stream",
     "text": [
      "\n",
      "0.3 [0.75311616 0.01053973]\n"
     ]
    },
    {
     "data": {
      "application/vnd.jupyter.widget-view+json": {
       "model_id": "30e17255da4b41ebabc19dc6e12e7145",
       "version_major": 2,
       "version_minor": 0
      },
      "text/plain": [
       "HBox(children=(IntProgress(value=0, max=20), HTML(value='')))"
      ]
     },
     "metadata": {},
     "output_type": "display_data"
    },
    {
     "name": "stdout",
     "output_type": "stream",
     "text": [
      "\n"
     ]
    },
    {
     "data": {
      "application/vnd.jupyter.widget-view+json": {
       "model_id": "7f0a2128f1834c02b70d7e573820b119",
       "version_major": 2,
       "version_minor": 0
      },
      "text/plain": [
       "HBox(children=(IntProgress(value=0, max=20), HTML(value='')))"
      ]
     },
     "metadata": {},
     "output_type": "display_data"
    },
    {
     "name": "stdout",
     "output_type": "stream",
     "text": [
      "\n"
     ]
    },
    {
     "data": {
      "application/vnd.jupyter.widget-view+json": {
       "model_id": "a683e42e4e5b47d58bcc560b2906859e",
       "version_major": 2,
       "version_minor": 0
      },
      "text/plain": [
       "HBox(children=(IntProgress(value=0, max=20), HTML(value='')))"
      ]
     },
     "metadata": {},
     "output_type": "display_data"
    },
    {
     "name": "stdout",
     "output_type": "stream",
     "text": [
      "\n"
     ]
    },
    {
     "data": {
      "application/vnd.jupyter.widget-view+json": {
       "model_id": "eb0fac8570cb4d2c8e26d20c8d1804bd",
       "version_major": 2,
       "version_minor": 0
      },
      "text/plain": [
       "HBox(children=(IntProgress(value=0, max=20), HTML(value='')))"
      ]
     },
     "metadata": {},
     "output_type": "display_data"
    },
    {
     "name": "stdout",
     "output_type": "stream",
     "text": [
      "\n"
     ]
    },
    {
     "data": {
      "application/vnd.jupyter.widget-view+json": {
       "model_id": "768c9568cd044702a735459a7593d1b1",
       "version_major": 2,
       "version_minor": 0
      },
      "text/plain": [
       "HBox(children=(IntProgress(value=0, max=20), HTML(value='')))"
      ]
     },
     "metadata": {},
     "output_type": "display_data"
    },
    {
     "name": "stdout",
     "output_type": "stream",
     "text": [
      "\n"
     ]
    },
    {
     "data": {
      "application/vnd.jupyter.widget-view+json": {
       "model_id": "b3949c97f74b473086ba252ba4170eaf",
       "version_major": 2,
       "version_minor": 0
      },
      "text/plain": [
       "HBox(children=(IntProgress(value=0, max=20), HTML(value='')))"
      ]
     },
     "metadata": {},
     "output_type": "display_data"
    },
    {
     "name": "stdout",
     "output_type": "stream",
     "text": [
      "\n"
     ]
    },
    {
     "data": {
      "application/vnd.jupyter.widget-view+json": {
       "model_id": "3a0596f03ed7466aaef1c2273844e44e",
       "version_major": 2,
       "version_minor": 0
      },
      "text/plain": [
       "HBox(children=(IntProgress(value=0, max=20), HTML(value='')))"
      ]
     },
     "metadata": {},
     "output_type": "display_data"
    },
    {
     "name": "stdout",
     "output_type": "stream",
     "text": [
      "\n"
     ]
    },
    {
     "data": {
      "application/vnd.jupyter.widget-view+json": {
       "model_id": "3353c45bb23b4c319236555545fba36d",
       "version_major": 2,
       "version_minor": 0
      },
      "text/plain": [
       "HBox(children=(IntProgress(value=0, max=20), HTML(value='')))"
      ]
     },
     "metadata": {},
     "output_type": "display_data"
    },
    {
     "name": "stdout",
     "output_type": "stream",
     "text": [
      "\n"
     ]
    },
    {
     "data": {
      "application/vnd.jupyter.widget-view+json": {
       "model_id": "a1523e6e74af4e8aa7fe352d864edc89",
       "version_major": 2,
       "version_minor": 0
      },
      "text/plain": [
       "HBox(children=(IntProgress(value=0, max=20), HTML(value='')))"
      ]
     },
     "metadata": {},
     "output_type": "display_data"
    },
    {
     "name": "stdout",
     "output_type": "stream",
     "text": [
      "\n"
     ]
    },
    {
     "data": {
      "application/vnd.jupyter.widget-view+json": {
       "model_id": "c02b53f2ab6142a39c1653fbd0e7e2f6",
       "version_major": 2,
       "version_minor": 0
      },
      "text/plain": [
       "HBox(children=(IntProgress(value=0, max=20), HTML(value='')))"
      ]
     },
     "metadata": {},
     "output_type": "display_data"
    },
    {
     "name": "stdout",
     "output_type": "stream",
     "text": [
      "\n"
     ]
    },
    {
     "data": {
      "application/vnd.jupyter.widget-view+json": {
       "model_id": "ad60bd76704840f18f25d6a8ce29d162",
       "version_major": 2,
       "version_minor": 0
      },
      "text/plain": [
       "HBox(children=(IntProgress(value=0, max=20), HTML(value='')))"
      ]
     },
     "metadata": {},
     "output_type": "display_data"
    },
    {
     "name": "stdout",
     "output_type": "stream",
     "text": [
      "\n"
     ]
    },
    {
     "data": {
      "application/vnd.jupyter.widget-view+json": {
       "model_id": "a0bc0fdcc8f2402f9394d88a201ce99f",
       "version_major": 2,
       "version_minor": 0
      },
      "text/plain": [
       "HBox(children=(IntProgress(value=0, max=20), HTML(value='')))"
      ]
     },
     "metadata": {},
     "output_type": "display_data"
    },
    {
     "name": "stdout",
     "output_type": "stream",
     "text": [
      "\n",
      "0.5 [0.76315039 0.0131799 ]\n"
     ]
    },
    {
     "data": {
      "application/vnd.jupyter.widget-view+json": {
       "model_id": "2af93a1f93ee41ea8644d754fbf7bc79",
       "version_major": 2,
       "version_minor": 0
      },
      "text/plain": [
       "HBox(children=(IntProgress(value=0, max=20), HTML(value='')))"
      ]
     },
     "metadata": {},
     "output_type": "display_data"
    },
    {
     "name": "stdout",
     "output_type": "stream",
     "text": [
      "\n"
     ]
    },
    {
     "data": {
      "application/vnd.jupyter.widget-view+json": {
       "model_id": "a413f25031744230a0006d8dbd4273fc",
       "version_major": 2,
       "version_minor": 0
      },
      "text/plain": [
       "HBox(children=(IntProgress(value=0, max=20), HTML(value='')))"
      ]
     },
     "metadata": {},
     "output_type": "display_data"
    },
    {
     "name": "stdout",
     "output_type": "stream",
     "text": [
      "\n"
     ]
    },
    {
     "data": {
      "application/vnd.jupyter.widget-view+json": {
       "model_id": "1e1cfb1b991648359c04e5388f660ed6",
       "version_major": 2,
       "version_minor": 0
      },
      "text/plain": [
       "HBox(children=(IntProgress(value=0, max=20), HTML(value='')))"
      ]
     },
     "metadata": {},
     "output_type": "display_data"
    },
    {
     "name": "stdout",
     "output_type": "stream",
     "text": [
      "\n"
     ]
    },
    {
     "data": {
      "application/vnd.jupyter.widget-view+json": {
       "model_id": "c24d49d2d55143bcb6e7f68cf994b1c3",
       "version_major": 2,
       "version_minor": 0
      },
      "text/plain": [
       "HBox(children=(IntProgress(value=0, max=20), HTML(value='')))"
      ]
     },
     "metadata": {},
     "output_type": "display_data"
    },
    {
     "name": "stdout",
     "output_type": "stream",
     "text": [
      "\n"
     ]
    },
    {
     "data": {
      "application/vnd.jupyter.widget-view+json": {
       "model_id": "5df9521fb19f4819994abdb0e7a0ac09",
       "version_major": 2,
       "version_minor": 0
      },
      "text/plain": [
       "HBox(children=(IntProgress(value=0, max=20), HTML(value='')))"
      ]
     },
     "metadata": {},
     "output_type": "display_data"
    },
    {
     "name": "stdout",
     "output_type": "stream",
     "text": [
      "\n"
     ]
    },
    {
     "data": {
      "application/vnd.jupyter.widget-view+json": {
       "model_id": "01ca087a854d4c9a97a6bbaef59d62ad",
       "version_major": 2,
       "version_minor": 0
      },
      "text/plain": [
       "HBox(children=(IntProgress(value=0, max=20), HTML(value='')))"
      ]
     },
     "metadata": {},
     "output_type": "display_data"
    },
    {
     "name": "stdout",
     "output_type": "stream",
     "text": [
      "\n"
     ]
    },
    {
     "data": {
      "application/vnd.jupyter.widget-view+json": {
       "model_id": "ef8555c140224010941b54413e476919",
       "version_major": 2,
       "version_minor": 0
      },
      "text/plain": [
       "HBox(children=(IntProgress(value=0, max=20), HTML(value='')))"
      ]
     },
     "metadata": {},
     "output_type": "display_data"
    },
    {
     "name": "stdout",
     "output_type": "stream",
     "text": [
      "\n"
     ]
    },
    {
     "data": {
      "application/vnd.jupyter.widget-view+json": {
       "model_id": "dcaf718129a047bf925c24073f34388e",
       "version_major": 2,
       "version_minor": 0
      },
      "text/plain": [
       "HBox(children=(IntProgress(value=0, max=20), HTML(value='')))"
      ]
     },
     "metadata": {},
     "output_type": "display_data"
    },
    {
     "name": "stdout",
     "output_type": "stream",
     "text": [
      "\n"
     ]
    },
    {
     "data": {
      "application/vnd.jupyter.widget-view+json": {
       "model_id": "c15602ab88ce42739571cec675887902",
       "version_major": 2,
       "version_minor": 0
      },
      "text/plain": [
       "HBox(children=(IntProgress(value=0, max=20), HTML(value='')))"
      ]
     },
     "metadata": {},
     "output_type": "display_data"
    },
    {
     "name": "stdout",
     "output_type": "stream",
     "text": [
      "\n"
     ]
    },
    {
     "data": {
      "application/vnd.jupyter.widget-view+json": {
       "model_id": "c3dc8255732d45d59b1c704aa32830c2",
       "version_major": 2,
       "version_minor": 0
      },
      "text/plain": [
       "HBox(children=(IntProgress(value=0, max=20), HTML(value='')))"
      ]
     },
     "metadata": {},
     "output_type": "display_data"
    },
    {
     "name": "stdout",
     "output_type": "stream",
     "text": [
      "\n"
     ]
    },
    {
     "data": {
      "application/vnd.jupyter.widget-view+json": {
       "model_id": "d29126c83be64788936826a317f860bc",
       "version_major": 2,
       "version_minor": 0
      },
      "text/plain": [
       "HBox(children=(IntProgress(value=0, max=20), HTML(value='')))"
      ]
     },
     "metadata": {},
     "output_type": "display_data"
    },
    {
     "name": "stdout",
     "output_type": "stream",
     "text": [
      "\n"
     ]
    },
    {
     "data": {
      "application/vnd.jupyter.widget-view+json": {
       "model_id": "dd979b8d281b499eb115631f274b3b86",
       "version_major": 2,
       "version_minor": 0
      },
      "text/plain": [
       "HBox(children=(IntProgress(value=0, max=20), HTML(value='')))"
      ]
     },
     "metadata": {},
     "output_type": "display_data"
    },
    {
     "name": "stdout",
     "output_type": "stream",
     "text": [
      "\n",
      "0.7 [0.76984735 0.02055655]\n"
     ]
    },
    {
     "data": {
      "application/vnd.jupyter.widget-view+json": {
       "model_id": "51bdd33a655841c4a9c7626013abf50a",
       "version_major": 2,
       "version_minor": 0
      },
      "text/plain": [
       "HBox(children=(IntProgress(value=0, max=20), HTML(value='')))"
      ]
     },
     "metadata": {},
     "output_type": "display_data"
    },
    {
     "name": "stdout",
     "output_type": "stream",
     "text": [
      "\n"
     ]
    },
    {
     "data": {
      "application/vnd.jupyter.widget-view+json": {
       "model_id": "5695d004b7444596a9f7d6e01ae34834",
       "version_major": 2,
       "version_minor": 0
      },
      "text/plain": [
       "HBox(children=(IntProgress(value=0, max=20), HTML(value='')))"
      ]
     },
     "metadata": {},
     "output_type": "display_data"
    },
    {
     "name": "stdout",
     "output_type": "stream",
     "text": [
      "\n"
     ]
    },
    {
     "data": {
      "application/vnd.jupyter.widget-view+json": {
       "model_id": "2503b42aa27c479aa18cabb8e32c0bc9",
       "version_major": 2,
       "version_minor": 0
      },
      "text/plain": [
       "HBox(children=(IntProgress(value=0, max=20), HTML(value='')))"
      ]
     },
     "metadata": {},
     "output_type": "display_data"
    },
    {
     "name": "stdout",
     "output_type": "stream",
     "text": [
      "\n"
     ]
    },
    {
     "data": {
      "application/vnd.jupyter.widget-view+json": {
       "model_id": "3c532459a8fe4006a8aff715c686c457",
       "version_major": 2,
       "version_minor": 0
      },
      "text/plain": [
       "HBox(children=(IntProgress(value=0, max=20), HTML(value='')))"
      ]
     },
     "metadata": {},
     "output_type": "display_data"
    },
    {
     "name": "stdout",
     "output_type": "stream",
     "text": [
      "\n"
     ]
    },
    {
     "data": {
      "application/vnd.jupyter.widget-view+json": {
       "model_id": "95b1997718984070b434f4d710d7d9e7",
       "version_major": 2,
       "version_minor": 0
      },
      "text/plain": [
       "HBox(children=(IntProgress(value=0, max=20), HTML(value='')))"
      ]
     },
     "metadata": {},
     "output_type": "display_data"
    },
    {
     "name": "stdout",
     "output_type": "stream",
     "text": [
      "\n"
     ]
    },
    {
     "data": {
      "application/vnd.jupyter.widget-view+json": {
       "model_id": "e311af1c793a496db0e4d47e0157e8c5",
       "version_major": 2,
       "version_minor": 0
      },
      "text/plain": [
       "HBox(children=(IntProgress(value=0, max=20), HTML(value='')))"
      ]
     },
     "metadata": {},
     "output_type": "display_data"
    },
    {
     "name": "stdout",
     "output_type": "stream",
     "text": [
      "\n"
     ]
    },
    {
     "data": {
      "application/vnd.jupyter.widget-view+json": {
       "model_id": "1529706155ea48c68fe478a17e20bab9",
       "version_major": 2,
       "version_minor": 0
      },
      "text/plain": [
       "HBox(children=(IntProgress(value=0, max=20), HTML(value='')))"
      ]
     },
     "metadata": {},
     "output_type": "display_data"
    },
    {
     "name": "stdout",
     "output_type": "stream",
     "text": [
      "\n"
     ]
    },
    {
     "data": {
      "application/vnd.jupyter.widget-view+json": {
       "model_id": "7d8768d01e204a539ca49f0ddb6e4b43",
       "version_major": 2,
       "version_minor": 0
      },
      "text/plain": [
       "HBox(children=(IntProgress(value=0, max=20), HTML(value='')))"
      ]
     },
     "metadata": {},
     "output_type": "display_data"
    },
    {
     "name": "stdout",
     "output_type": "stream",
     "text": [
      "\n"
     ]
    },
    {
     "data": {
      "application/vnd.jupyter.widget-view+json": {
       "model_id": "cfbb5d37ab434a4a9672ec7f26661378",
       "version_major": 2,
       "version_minor": 0
      },
      "text/plain": [
       "HBox(children=(IntProgress(value=0, max=20), HTML(value='')))"
      ]
     },
     "metadata": {},
     "output_type": "display_data"
    },
    {
     "name": "stdout",
     "output_type": "stream",
     "text": [
      "\n"
     ]
    },
    {
     "data": {
      "application/vnd.jupyter.widget-view+json": {
       "model_id": "7871cf348c5c4b6c8343a73ada1619be",
       "version_major": 2,
       "version_minor": 0
      },
      "text/plain": [
       "HBox(children=(IntProgress(value=0, max=20), HTML(value='')))"
      ]
     },
     "metadata": {},
     "output_type": "display_data"
    },
    {
     "name": "stdout",
     "output_type": "stream",
     "text": [
      "\n"
     ]
    },
    {
     "data": {
      "application/vnd.jupyter.widget-view+json": {
       "model_id": "83e3f49882174307949bf8d670923218",
       "version_major": 2,
       "version_minor": 0
      },
      "text/plain": [
       "HBox(children=(IntProgress(value=0, max=20), HTML(value='')))"
      ]
     },
     "metadata": {},
     "output_type": "display_data"
    },
    {
     "name": "stdout",
     "output_type": "stream",
     "text": [
      "\n"
     ]
    },
    {
     "data": {
      "application/vnd.jupyter.widget-view+json": {
       "model_id": "0539e3e3008e4c9d9ad120e2b60dbdb2",
       "version_major": 2,
       "version_minor": 0
      },
      "text/plain": [
       "HBox(children=(IntProgress(value=0, max=20), HTML(value='')))"
      ]
     },
     "metadata": {},
     "output_type": "display_data"
    },
    {
     "name": "stdout",
     "output_type": "stream",
     "text": [
      "\n",
      "0.9 [0.77098238 0.03656447]\n"
     ]
    }
   ],
   "source": [
    "for rate in rates:\n",
    "    keys = df.keys()[:-2]\n",
    "    n_tasks = len(keys)\n",
    "    scores = np.empty((n_tasks, 2))\n",
    "    for i,key in enumerate(keys):\n",
    "        X = x[df[key].notna()]\n",
    "        y = df[key].dropna().values\n",
    "        clf = MLPClassifier(max_iter=1000)\n",
    "        score_dic = evaluate_classification_multi(X, y, rate, 20)\n",
    "        scores[i] = [score_dic['auc mean'], score_dic['auc std']]\n",
    "    print(rate, np.mean(scores, axis=0))"
   ]
  },
  {
   "cell_type": "markdown",
   "metadata": {},
   "source": [
    "### GraphConv"
   ]
  },
  {
   "cell_type": "code",
   "execution_count": 10,
   "metadata": {},
   "outputs": [
    {
     "data": {
      "text/plain": [
       "array(['NR-AR', 'NR-AR-LBD', 'NR-AhR', 'NR-Aromatase', 'NR-ER',\n",
       "       'NR-ER-LBD', 'NR-PPAR-gamma', 'SR-ARE', 'SR-ATAD5', 'SR-HSE',\n",
       "       'SR-MMP', 'SR-p53'], dtype=object)"
      ]
     },
     "execution_count": 10,
     "metadata": {},
     "output_type": "execute_result"
    }
   ],
   "source": [
    "df.keys()[:-2].values"
   ]
  },
  {
   "cell_type": "code",
   "execution_count": 46,
   "metadata": {},
   "outputs": [
    {
     "name": "stdout",
     "output_type": "stream",
     "text": [
      "Loading raw samples now.\n",
      "shard_size: 8192\n",
      "About to start loading CSV from data/tox21.csv\n",
      "Loading shard 1 of size 8192.\n",
      "Featurizing sample 0\n",
      "Featurizing sample 1000\n",
      "Featurizing sample 2000\n",
      "Featurizing sample 3000\n",
      "Featurizing sample 4000\n",
      "Featurizing sample 5000\n",
      "Featurizing sample 6000\n",
      "Featurizing sample 7000\n",
      "TIMING: featurizing shard 0 took 28.024 s\n",
      "TIMING: dataset construction took 34.368 s\n",
      "Loading dataset from disk.\n"
     ]
    }
   ],
   "source": [
    "featurizer = dc.feat.ConvMolFeaturizer()\n",
    "loader = dc.data.CSVLoader(\n",
    "      tasks=list(df.keys()[:-2]),\n",
    "      smiles_field='smiles',\n",
    "      featurizer=featurizer)\n",
    "dataset = loader.featurize('data/tox21.csv')"
   ]
  },
  {
   "cell_type": "code",
   "execution_count": 49,
   "metadata": {},
   "outputs": [],
   "source": [
    "def evaluate_classification_multi_dc(dataset, rate, n_repeats):\n",
    "    roc = np.empty((n_repeats,12))\n",
    "    for i in range(n_repeats):\n",
    "        clf = GraphConvModel(n_tasks=len(df.keys())-2, batch_size=64, mode='classification')\n",
    "        splitter = dc.splits.RandomStratifiedSplitter()\n",
    "        train, val, _ = splitter.train_valid_test_split(dataset, frac_train=rate, frac_valid=1-rate, frac_test=0)\n",
    "        clf.fit(train)\n",
    "        metrics = [dc.metrics.Metric(dc.metrics.roc_auc_score)]\n",
    "        scores = clf.evaluate(val, metrics)\n",
    "        roc[i] = scores['roc_auc_score']\n",
    "    ret = {}\n",
    "    ret['roc mean'] = np.mean(roc)\n",
    "    ret['roc std'] = np.mean(np.std(roc, axis=0))\n",
    "    return ret"
   ]
  },
  {
   "cell_type": "code",
   "execution_count": 51,
   "metadata": {
    "scrolled": true
   },
   "outputs": [
    {
     "name": "stdout",
     "output_type": "stream",
     "text": [
      "TIMING: dataset construction took 0.603 s\n",
      "Loading dataset from disk.\n",
      "TIMING: dataset construction took 5.715 s\n",
      "Loading dataset from disk.\n",
      "TIMING: dataset construction took 5.583 s\n",
      "Loading dataset from disk.\n"
     ]
    },
    {
     "name": "stderr",
     "output_type": "stream",
     "text": [
      "/home/honda/anaconda3/envs/deepchem/lib/python3.5/site-packages/tensorflow/python/ops/gradients_impl.py:98: UserWarning: Converting sparse IndexedSlices to a dense Tensor of unknown shape. This may consume a large amount of memory.\n",
      "  \"Converting sparse IndexedSlices to a dense Tensor of unknown shape. \"\n"
     ]
    },
    {
     "name": "stdout",
     "output_type": "stream",
     "text": [
      "computed_metrics: [0.7181424438093222, 0.7455330316924753, 0.8313446856963973, 0.7286704023694179, 0.6565739616940207, 0.7170344177274871, 0.4985404922612866, 0.6591220154570182, 0.7182962712111871, 0.5803269162478881, 0.7794966168295903, 0.7434586840438049]\n",
      "TIMING: dataset construction took 0.679 s\n",
      "Loading dataset from disk.\n",
      "TIMING: dataset construction took 5.848 s\n",
      "Loading dataset from disk.\n",
      "TIMING: dataset construction took 5.596 s\n",
      "Loading dataset from disk.\n",
      "computed_metrics: [0.7642455321428088, 0.797146849557826, 0.8133082339779096, 0.6796913454038787, 0.6718128379724744, 0.6933500531995744, 0.5667079489624133, 0.6694726169296314, 0.6856380322266431, 0.5591534213844096, 0.7756580964977424, 0.6916161852036966]\n",
      "TIMING: dataset construction took 0.677 s\n",
      "Loading dataset from disk.\n",
      "TIMING: dataset construction took 5.847 s\n",
      "Loading dataset from disk.\n",
      "TIMING: dataset construction took 6.584 s\n",
      "Loading dataset from disk.\n",
      "computed_metrics: [0.7252449546525989, 0.780749571821941, 0.8248686384829835, 0.6950577769023701, 0.6695432533478508, 0.6474831132361869, 0.4949183211785654, 0.6798978944212688, 0.6692778348684806, 0.5767177150640064, 0.7962144784879883, 0.6590452010391425]\n",
      "TIMING: dataset construction took 0.712 s\n",
      "Loading dataset from disk.\n",
      "TIMING: dataset construction took 5.718 s\n",
      "Loading dataset from disk.\n",
      "TIMING: dataset construction took 5.578 s\n",
      "Loading dataset from disk.\n",
      "computed_metrics: [0.7862047325428566, 0.7779006823291632, 0.8141561300399904, 0.7318568720450169, 0.636697480707619, 0.641390700454346, 0.577779526136052, 0.6664836998000894, 0.673544626286022, 0.611330746700963, 0.7925565415397164, 0.7286544445332501]\n",
      "TIMING: dataset construction took 0.674 s\n",
      "Loading dataset from disk.\n",
      "TIMING: dataset construction took 6.802 s\n",
      "Loading dataset from disk.\n",
      "TIMING: dataset construction took 6.360 s\n",
      "Loading dataset from disk.\n",
      "computed_metrics: [0.7463816418912165, 0.7304587224808722, 0.8095608184645569, 0.6282397146289953, 0.6610105691169003, 0.68677628842464, 0.4874438110679329, 0.6802781511302494, 0.7005656392609767, 0.5846256644343675, 0.7774163947995154, 0.6686776803809233]\n",
      "TIMING: dataset construction took 0.645 s\n",
      "Loading dataset from disk.\n",
      "TIMING: dataset construction took 5.798 s\n",
      "Loading dataset from disk.\n",
      "TIMING: dataset construction took 6.586 s\n",
      "Loading dataset from disk.\n",
      "computed_metrics: [0.7690739188379601, 0.7814849135829702, 0.821576348288484, 0.6637028064886592, 0.6651702398253753, 0.6699650574280387, 0.5748639665225697, 0.6997721876172849, 0.6452490101679038, 0.5945339117610648, 0.7764419602510884, 0.6484808138280661]\n",
      "TIMING: dataset construction took 0.756 s\n",
      "Loading dataset from disk.\n",
      "TIMING: dataset construction took 5.663 s\n",
      "Loading dataset from disk.\n",
      "TIMING: dataset construction took 5.614 s\n",
      "Loading dataset from disk.\n",
      "computed_metrics: [0.7535736756336013, 0.7414763880192881, 0.8065751582113703, 0.70494473125281, 0.6535117953431373, 0.660581610556409, 0.5450480901612542, 0.6721678121481456, 0.6802056511650596, 0.5779400081092336, 0.7679511710266855, 0.6639656988246516]\n",
      "TIMING: dataset construction took 0.783 s\n",
      "Loading dataset from disk.\n",
      "TIMING: dataset construction took 5.680 s\n",
      "Loading dataset from disk.\n",
      "TIMING: dataset construction took 5.564 s\n",
      "Loading dataset from disk.\n",
      "computed_metrics: [0.7775871637605887, 0.7884888007366331, 0.8096935677940142, 0.7185452998723947, 0.6593328175624267, 0.684240458280539, 0.5887012062889672, 0.6786379823315242, 0.6802535293054602, 0.628778902283919, 0.7841330539221307, 0.7351887140891888]\n",
      "TIMING: dataset construction took 0.643 s\n",
      "Loading dataset from disk.\n",
      "TIMING: dataset construction took 5.728 s\n",
      "Loading dataset from disk.\n",
      "TIMING: dataset construction took 6.566 s\n",
      "Loading dataset from disk.\n",
      "computed_metrics: [0.715711843115163, 0.7056472375973356, 0.8157183457197908, 0.7339372308574101, 0.6144536186894081, 0.6412277437302379, 0.5379308836672063, 0.661702013869968, 0.7224917124710074, 0.6661285907488164, 0.7817868426896684, 0.6993669882252287]\n",
      "TIMING: dataset construction took 0.820 s\n",
      "Loading dataset from disk.\n",
      "TIMING: dataset construction took 5.794 s\n",
      "Loading dataset from disk.\n",
      "TIMING: dataset construction took 6.487 s\n",
      "Loading dataset from disk.\n",
      "computed_metrics: [0.7155904712430599, 0.7254785246097204, 0.8018958583792848, 0.7752336116791638, 0.6447117542934298, 0.6248645749316553, 0.4564857453303668, 0.6733321484068961, 0.6841188910445266, 0.6264348975245377, 0.7916484692850989, 0.712858997318476]\n",
      "TIMING: dataset construction took 0.816 s\n",
      "Loading dataset from disk.\n",
      "TIMING: dataset construction took 5.650 s\n",
      "Loading dataset from disk.\n",
      "TIMING: dataset construction took 5.607 s\n",
      "Loading dataset from disk.\n",
      "computed_metrics: [0.7349378786638283, 0.7651506246045434, 0.8172513463923862, 0.7023953794480755, 0.654914855056977, 0.7204048632218845, 0.5881187906817403, 0.6751673990800584, 0.6615718043721484, 0.5910092131591256, 0.7991770876499608, 0.6996873690717078]\n",
      "TIMING: dataset construction took 0.759 s\n",
      "Loading dataset from disk.\n",
      "TIMING: dataset construction took 5.837 s\n",
      "Loading dataset from disk.\n",
      "TIMING: dataset construction took 5.605 s\n",
      "Loading dataset from disk.\n",
      "computed_metrics: [0.7622187929740315, 0.7738860760107373, 0.8094049018647334, 0.6152743957431457, 0.6683787891564572, 0.6897905193823561, 0.6137588737882615, 0.6540725114416476, 0.7313574962695358, 0.5703870711588637, 0.7475429267815357, 0.694028042866685]\n",
      "TIMING: dataset construction took 0.803 s\n",
      "Loading dataset from disk.\n",
      "TIMING: dataset construction took 5.706 s\n",
      "Loading dataset from disk.\n",
      "TIMING: dataset construction took 5.637 s\n",
      "Loading dataset from disk.\n",
      "computed_metrics: [0.7819510963675531, 0.796977036764583, 0.8100450411683577, 0.6826735993368749, 0.6821223786337278, 0.7146608749039007, 0.6578940482470463, 0.6719465286556874, 0.7168703276765251, 0.5877913042538124, 0.7719972966148518, 0.6465782635612338]\n",
      "TIMING: dataset construction took 0.716 s\n",
      "Loading dataset from disk.\n",
      "TIMING: dataset construction took 5.773 s\n",
      "Loading dataset from disk.\n",
      "TIMING: dataset construction took 5.617 s\n",
      "Loading dataset from disk.\n",
      "computed_metrics: [0.7695558097481735, 0.7662069828834739, 0.7801588471887517, 0.6002088596374595, 0.6471834609478309, 0.7143647340685493, 0.6001551201159683, 0.6555984495366751, 0.6526657914853502, 0.5327483529981017, 0.7480009793526949, 0.7034909840233073]\n",
      "TIMING: dataset construction took 1.015 s\n",
      "Loading dataset from disk.\n",
      "TIMING: dataset construction took 6.625 s\n",
      "Loading dataset from disk.\n",
      "TIMING: dataset construction took 6.425 s\n",
      "Loading dataset from disk.\n",
      "computed_metrics: [0.7283305159082856, 0.739233081334892, 0.8145972939792316, 0.7087371302350498, 0.6815995112887214, 0.6886155170508413, 0.6221669305704477, 0.7153521021100067, 0.7187562078615359, 0.6514218206625735, 0.8231004952709082, 0.7146466493814411]\n",
      "TIMING: dataset construction took 0.710 s\n",
      "Loading dataset from disk.\n",
      "TIMING: dataset construction took 5.809 s\n",
      "Loading dataset from disk.\n",
      "TIMING: dataset construction took 6.351 s\n",
      "Loading dataset from disk.\n",
      "computed_metrics: [0.7690877656904336, 0.7742758428720575, 0.8058245198974985, 0.6890105487076377, 0.6576927389914689, 0.7036683262399958, 0.5724002997978107, 0.7112314670729862, 0.6622826401823616, 0.5954729047925307, 0.7717760120291548, 0.6728505048506052]\n",
      "TIMING: dataset construction took 0.772 s\n",
      "Loading dataset from disk.\n",
      "TIMING: dataset construction took 5.819 s\n",
      "Loading dataset from disk.\n",
      "TIMING: dataset construction took 5.663 s\n",
      "Loading dataset from disk.\n",
      "computed_metrics: [0.7727728095679028, 0.7634555690955497, 0.7865216116284879, 0.7015551708320387, 0.6626731971518235, 0.6582641011411232, 0.6001549419976651, 0.6476273185161496, 0.6051474037891018, 0.5925738128498955, 0.7960526315789475, 0.6843162623369304]\n",
      "TIMING: dataset construction took 0.763 s\n",
      "Loading dataset from disk.\n",
      "TIMING: dataset construction took 5.711 s\n",
      "Loading dataset from disk.\n",
      "TIMING: dataset construction took 5.737 s\n",
      "Loading dataset from disk.\n",
      "computed_metrics: [0.7231370739318153, 0.7628123664454532, 0.817574392829381, 0.6771678093372511, 0.6681854730635219, 0.7227867511476612, 0.6453630453429811, 0.6510509002846245, 0.7105729890150946, 0.5692351523926409, 0.8083532321096152, 0.695302549850952]\n",
      "TIMING: dataset construction took 0.707 s\n",
      "Loading dataset from disk.\n"
     ]
    },
    {
     "name": "stdout",
     "output_type": "stream",
     "text": [
      "TIMING: dataset construction took 5.730 s\n",
      "Loading dataset from disk.\n",
      "TIMING: dataset construction took 5.626 s\n",
      "Loading dataset from disk.\n",
      "computed_metrics: [0.7681505074443623, 0.773399024786672, 0.8324772780405545, 0.7360864864064224, 0.6724599590873694, 0.6689470378233111, 0.5508632833400213, 0.6694552026922147, 0.6918067917843014, 0.589517442955273, 0.8024352848374591, 0.6899546177638911]\n",
      "TIMING: dataset construction took 0.727 s\n",
      "Loading dataset from disk.\n",
      "TIMING: dataset construction took 5.734 s\n",
      "Loading dataset from disk.\n",
      "TIMING: dataset construction took 5.645 s\n",
      "Loading dataset from disk.\n",
      "computed_metrics: [0.729982513460034, 0.7783416082554517, 0.8130351936160418, 0.7311191874861902, 0.6434746717825097, 0.6994178462727667, 0.6832464203185606, 0.690813139948142, 0.726390214646818, 0.619804258735398, 0.8068210583724718, 0.722737157855268]\n",
      "0.1 {'roc mean': 0.6975050137485098, 'roc std': 0.027513840142453033}\n",
      "TIMING: dataset construction took 2.058 s\n",
      "Loading dataset from disk.\n",
      "TIMING: dataset construction took 4.510 s\n",
      "Loading dataset from disk.\n",
      "TIMING: dataset construction took 4.432 s\n",
      "Loading dataset from disk.\n",
      "computed_metrics: [0.7976883350723125, 0.8328820682297224, 0.8518856525722018, 0.8328820494573921, 0.6922595472844523, 0.7416343821705462, 0.7099318105031719, 0.7449839335921811, 0.7867609275942609, 0.6891079871562775, 0.8481880158199437, 0.7548257495066005]\n",
      "TIMING: dataset construction took 1.910 s\n",
      "Loading dataset from disk.\n",
      "TIMING: dataset construction took 5.376 s\n",
      "Loading dataset from disk.\n",
      "TIMING: dataset construction took 4.426 s\n",
      "Loading dataset from disk.\n",
      "computed_metrics: [0.8064348991241039, 0.8129512049531162, 0.8476784719982269, 0.8020843946340634, 0.7078133092610114, 0.7587960014399247, 0.7448598651585223, 0.7195202308637487, 0.742704371392896, 0.6857182431751787, 0.852325219304205, 0.7667144050602697]\n",
      "TIMING: dataset construction took 2.126 s\n",
      "Loading dataset from disk.\n",
      "TIMING: dataset construction took 4.538 s\n",
      "Loading dataset from disk.\n",
      "TIMING: dataset construction took 4.470 s\n",
      "Loading dataset from disk.\n",
      "computed_metrics: [0.8023171675544826, 0.8308244894656616, 0.821824265734866, 0.7590386367086686, 0.7117009694897034, 0.739810762303599, 0.6883745210777273, 0.7216353803521944, 0.7400717368333949, 0.6514143394449803, 0.8276619886311036, 0.740838703954397]\n",
      "TIMING: dataset construction took 2.210 s\n",
      "Loading dataset from disk.\n",
      "TIMING: dataset construction took 4.590 s\n",
      "Loading dataset from disk.\n",
      "TIMING: dataset construction took 4.567 s\n",
      "Loading dataset from disk.\n",
      "computed_metrics: [0.7481520583203614, 0.8351062689718178, 0.856515063408482, 0.8161523260256961, 0.7194095902459383, 0.7750849974083477, 0.7144038512538171, 0.7363144815204063, 0.7862302791521245, 0.6662541633116994, 0.8447300704634324, 0.7764943085252036]\n",
      "TIMING: dataset construction took 1.979 s\n",
      "Loading dataset from disk.\n",
      "TIMING: dataset construction took 4.592 s\n",
      "Loading dataset from disk.\n",
      "TIMING: dataset construction took 4.548 s\n",
      "Loading dataset from disk.\n",
      "computed_metrics: [0.7825753090423646, 0.8645032801636421, 0.8425896812323308, 0.7817773522911273, 0.7073969136170861, 0.7627333766316926, 0.7129387498086475, 0.7299245720916738, 0.7734157823524808, 0.7114607234808088, 0.8515924716267165, 0.7627114462266367]\n",
      "TIMING: dataset construction took 2.068 s\n",
      "Loading dataset from disk.\n",
      "TIMING: dataset construction took 4.461 s\n",
      "Loading dataset from disk.\n",
      "TIMING: dataset construction took 4.411 s\n",
      "Loading dataset from disk.\n",
      "computed_metrics: [0.7963402194469145, 0.8204434451874442, 0.8455569909822935, 0.7962416585681891, 0.7103208347359109, 0.7715565494218218, 0.6732889018070067, 0.739713713219148, 0.7501402796597305, 0.6884213722912313, 0.8356976686539814, 0.7454086670281096]\n",
      "TIMING: dataset construction took 2.219 s\n",
      "Loading dataset from disk.\n",
      "TIMING: dataset construction took 4.484 s\n",
      "Loading dataset from disk.\n",
      "TIMING: dataset construction took 4.524 s\n",
      "Loading dataset from disk.\n",
      "computed_metrics: [0.7907038604076899, 0.8473125866776459, 0.844262100150413, 0.811425007538997, 0.6966606146747014, 0.7466585034013604, 0.7573749808590149, 0.7330079560409509, 0.7680563483873801, 0.6746216993789508, 0.8616777589411602, 0.7698658997166459]\n",
      "TIMING: dataset construction took 2.098 s\n",
      "Loading dataset from disk.\n",
      "TIMING: dataset construction took 4.416 s\n",
      "Loading dataset from disk.\n",
      "TIMING: dataset construction took 4.517 s\n",
      "Loading dataset from disk.\n",
      "computed_metrics: [0.7564650677789364, 0.8022948683226117, 0.8318142717176784, 0.7640251927053958, 0.6924312159798462, 0.7570353533802254, 0.6881685594040625, 0.7333968401088198, 0.7693815722719307, 0.6882802035635298, 0.8286446315947058, 0.7530059874361994]\n",
      "TIMING: dataset construction took 1.983 s\n",
      "Loading dataset from disk.\n",
      "TIMING: dataset construction took 4.640 s\n",
      "Loading dataset from disk.\n",
      "TIMING: dataset construction took 4.478 s\n",
      "Loading dataset from disk.\n",
      "computed_metrics: [0.7947032528750972, 0.8411071440131263, 0.8629110467401135, 0.801522968738057, 0.7039427468345514, 0.7732262811080546, 0.612343195410123, 0.7441203921773869, 0.7391051929443154, 0.689391867552787, 0.851484508405753, 0.7806882726484565]\n",
      "TIMING: dataset construction took 1.994 s\n",
      "Loading dataset from disk.\n",
      "TIMING: dataset construction took 4.591 s\n",
      "Loading dataset from disk.\n",
      "TIMING: dataset construction took 4.499 s\n",
      "Loading dataset from disk.\n",
      "computed_metrics: [0.752624623778184, 0.8057542340900283, 0.8581399165716423, 0.8083330326320981, 0.7078620302297165, 0.7813256275961712, 0.6897013099132783, 0.7361307478858351, 0.7817230852114573, 0.6430930653925577, 0.8482317552068384, 0.7619647757251827]\n",
      "TIMING: dataset construction took 2.168 s\n",
      "Loading dataset from disk.\n",
      "TIMING: dataset construction took 4.455 s\n",
      "Loading dataset from disk.\n",
      "TIMING: dataset construction took 4.344 s\n",
      "Loading dataset from disk.\n",
      "computed_metrics: [0.7955427643609794, 0.7998806309469237, 0.8421742300139257, 0.8001717812090805, 0.7151102081105227, 0.7353348567808498, 0.7122342190074298, 0.723611333796519, 0.7411533238345429, 0.6671134511044254, 0.8444148171525081, 0.7449066553341603]\n",
      "TIMING: dataset construction took 1.806 s\n",
      "Loading dataset from disk.\n",
      "TIMING: dataset construction took 4.658 s\n",
      "Loading dataset from disk.\n",
      "TIMING: dataset construction took 4.550 s\n",
      "Loading dataset from disk.\n",
      "computed_metrics: [0.790318942756919, 0.8214657330621187, 0.83914656202927, 0.7869590868732184, 0.7100660105772634, 0.7566710326556128, 0.6966896702106093, 0.7333190940239398, 0.7446184191571645, 0.6869181600669299, 0.8571138807964428, 0.7747900478052026]\n",
      "TIMING: dataset construction took 2.119 s\n",
      "Loading dataset from disk.\n",
      "TIMING: dataset construction took 4.425 s\n",
      "Loading dataset from disk.\n",
      "TIMING: dataset construction took 4.399 s\n",
      "Loading dataset from disk.\n",
      "computed_metrics: [0.7503636186621194, 0.7898122621302279, 0.8548584360824685, 0.7922822681704261, 0.7079463907232215, 0.7383973059422444, 0.7147217090649072, 0.7407227341493605, 0.7370588867762234, 0.6696821342415212, 0.8449267848083036, 0.7625840072473897]\n",
      "TIMING: dataset construction took 1.961 s\n",
      "Loading dataset from disk.\n",
      "TIMING: dataset construction took 4.565 s\n",
      "Loading dataset from disk.\n",
      "TIMING: dataset construction took 4.576 s\n",
      "Loading dataset from disk.\n",
      "computed_metrics: [0.7831804282692598, 0.834513097272393, 0.8569617479933465, 0.802206194724443, 0.718718599886446, 0.773005260113274, 0.6864236369240811, 0.7440104708411344, 0.7832547653207624, 0.7082811880980304, 0.8538537060045006, 0.7687514147465334]\n",
      "TIMING: dataset construction took 2.059 s\n",
      "Loading dataset from disk.\n",
      "TIMING: dataset construction took 4.635 s\n",
      "Loading dataset from disk.\n",
      "TIMING: dataset construction took 4.474 s\n",
      "Loading dataset from disk.\n",
      "computed_metrics: [0.8039821401371987, 0.8479794703909602, 0.8420891325559905, 0.81204816762668, 0.7026834771019623, 0.7461542959700962, 0.670732632281531, 0.7449909152056744, 0.7345347451660076, 0.6783389477233916, 0.8501729500723978, 0.7369755696499882]\n",
      "TIMING: dataset construction took 2.016 s\n",
      "Loading dataset from disk.\n",
      "TIMING: dataset construction took 4.686 s\n",
      "Loading dataset from disk.\n",
      "TIMING: dataset construction took 4.646 s\n",
      "Loading dataset from disk.\n",
      "computed_metrics: [0.7900922642193969, 0.7896586345381527, 0.8417707332544018, 0.7878878728826262, 0.6839348461301784, 0.7871233691264681, 0.7196399227398831, 0.7389888545723109, 0.7782850028531411, 0.7021240246086895, 0.8587815241619836, 0.7655668961151989]\n"
     ]
    },
    {
     "name": "stdout",
     "output_type": "stream",
     "text": [
      "TIMING: dataset construction took 2.187 s\n",
      "Loading dataset from disk.\n",
      "TIMING: dataset construction took 4.567 s\n",
      "Loading dataset from disk.\n",
      "TIMING: dataset construction took 4.472 s\n",
      "Loading dataset from disk.\n",
      "computed_metrics: [0.7874593097362487, 0.8225019162000049, 0.8556782917447854, 0.8187931274610349, 0.7055528474416728, 0.7963448847514905, 0.7536407519288075, 0.7453770463253222, 0.7553469484210396, 0.6824378605524324, 0.8595425122100926, 0.7497494350157481]\n",
      "TIMING: dataset construction took 2.136 s\n",
      "Loading dataset from disk.\n",
      "TIMING: dataset construction took 4.251 s\n",
      "Loading dataset from disk.\n",
      "TIMING: dataset construction took 4.274 s\n",
      "Loading dataset from disk.\n",
      "computed_metrics: [0.7965383254999455, 0.8272679324894514, 0.8560051819021097, 0.8077703025097814, 0.6994979732448692, 0.7430082485956054, 0.7488209653947488, 0.7245472090261282, 0.763767832104316, 0.6583960973873292, 0.8347944063509687, 0.7669706708962907]\n",
      "TIMING: dataset construction took 2.042 s\n",
      "Loading dataset from disk.\n",
      "TIMING: dataset construction took 4.507 s\n",
      "Loading dataset from disk.\n",
      "TIMING: dataset construction took 4.547 s\n",
      "Loading dataset from disk.\n",
      "computed_metrics: [0.7824182705912213, 0.8565667685424326, 0.8479454807121474, 0.7966085163648036, 0.7131063602781569, 0.7810742207330694, 0.681421057031441, 0.7473253456988949, 0.7637580940315315, 0.6815685536872094, 0.8513182159948223, 0.770591791880122]\n",
      "TIMING: dataset construction took 2.130 s\n",
      "Loading dataset from disk.\n",
      "TIMING: dataset construction took 5.220 s\n",
      "Loading dataset from disk.\n",
      "TIMING: dataset construction took 4.321 s\n",
      "Loading dataset from disk.\n",
      "computed_metrics: [0.7720316029870018, 0.793496707857541, 0.8562377094011526, 0.7590335196243556, 0.7110171804691965, 0.7519167950554142, 0.6993784684076851, 0.7410580868602139, 0.7484618049442593, 0.6717524594035396, 0.8503663388555089, 0.7517537321612557]\n",
      "0.3 {'roc mean': 0.7671855796536491, 'roc std': 0.01604441693108415}\n",
      "TIMING: dataset construction took 3.137 s\n",
      "Loading dataset from disk.\n",
      "TIMING: dataset construction took 3.497 s\n",
      "Loading dataset from disk.\n",
      "TIMING: dataset construction took 3.449 s\n",
      "Loading dataset from disk.\n",
      "computed_metrics: [0.8094785383337705, 0.8194049175225646, 0.846332648257448, 0.8472114841189105, 0.7302509569163624, 0.7882231987397397, 0.7463436969735058, 0.7472514360012509, 0.7816014783695392, 0.7373565512253698, 0.8690495748011329, 0.7797239822172437]\n",
      "TIMING: dataset construction took 3.429 s\n",
      "Loading dataset from disk.\n",
      "TIMING: dataset construction took 3.044 s\n",
      "Loading dataset from disk.\n",
      "TIMING: dataset construction took 3.103 s\n",
      "Loading dataset from disk.\n",
      "computed_metrics: [0.8161996168266277, 0.8079695467930761, 0.8779555972624216, 0.8513600414883962, 0.7134948248609538, 0.7901057834898666, 0.7758431937133516, 0.7553430917080746, 0.774385475888208, 0.7326128827899088, 0.868461716685912, 0.7784251880647601]\n",
      "TIMING: dataset construction took 3.183 s\n",
      "Loading dataset from disk.\n",
      "TIMING: dataset construction took 3.536 s\n",
      "Loading dataset from disk.\n",
      "TIMING: dataset construction took 3.570 s\n",
      "Loading dataset from disk.\n",
      "computed_metrics: [0.7741194065261784, 0.8467885899829684, 0.870512548538943, 0.8237090950124125, 0.6959129306473726, 0.7834974222517879, 0.7647561417212081, 0.7688626992299902, 0.7906984861372444, 0.7252856240511519, 0.8808938742186098, 0.7822860200544401]\n",
      "TIMING: dataset construction took 3.220 s\n",
      "Loading dataset from disk.\n",
      "TIMING: dataset construction took 3.369 s\n",
      "Loading dataset from disk.\n",
      "TIMING: dataset construction took 3.159 s\n",
      "Loading dataset from disk.\n",
      "computed_metrics: [0.8087251201098147, 0.8345546466009084, 0.8582183645295467, 0.8444240066029949, 0.7460110605357899, 0.8009828009828011, 0.6767232666262382, 0.76846991128444, 0.7479101961442681, 0.7098347060169297, 0.8695991441206333, 0.7790813391624483]\n",
      "TIMING: dataset construction took 3.509 s\n",
      "Loading dataset from disk.\n",
      "TIMING: dataset construction took 3.288 s\n",
      "Loading dataset from disk.\n",
      "TIMING: dataset construction took 3.256 s\n",
      "Loading dataset from disk.\n",
      "computed_metrics: [0.7895816276404125, 0.8681190480530607, 0.8725459333391731, 0.8121316614420062, 0.732856511555968, 0.8052921095843055, 0.7097387319032182, 0.7721350321986473, 0.7718880196625004, 0.7209563679205246, 0.8632652621601826, 0.7875889198764685]\n",
      "TIMING: dataset construction took 3.360 s\n",
      "Loading dataset from disk.\n",
      "TIMING: dataset construction took 3.385 s\n",
      "Loading dataset from disk.\n",
      "TIMING: dataset construction took 3.388 s\n",
      "Loading dataset from disk.\n",
      "computed_metrics: [0.7778699821252568, 0.8260282696274557, 0.85544942684551, 0.8130792022792024, 0.7131547361451709, 0.7726941830624465, 0.7355133378166331, 0.7526801394458861, 0.7269647741751535, 0.7399797631992269, 0.8616396630685409, 0.7613020972865399]\n",
      "TIMING: dataset construction took 3.597 s\n",
      "Loading dataset from disk.\n",
      "TIMING: dataset construction took 3.293 s\n",
      "Loading dataset from disk.\n",
      "TIMING: dataset construction took 3.273 s\n",
      "Loading dataset from disk.\n",
      "computed_metrics: [0.8069638887516672, 0.8279213036565978, 0.8677620195278706, 0.8277328207005981, 0.7132884734309719, 0.7957407064058588, 0.7525056306306306, 0.774612624338963, 0.7923781360297626, 0.7255354963702687, 0.8789527633349452, 0.7880657890373712]\n",
      "TIMING: dataset construction took 3.273 s\n",
      "Loading dataset from disk.\n",
      "TIMING: dataset construction took 3.185 s\n",
      "Loading dataset from disk.\n",
      "TIMING: dataset construction took 3.259 s\n",
      "Loading dataset from disk.\n",
      "computed_metrics: [0.7883491191946923, 0.7880535586058904, 0.8415457713625223, 0.8188643954575818, 0.7196015367747437, 0.79176377162919, 0.7099345837954256, 0.7594794806788608, 0.784299438687392, 0.7228095687956211, 0.8721004741765988, 0.7852770590458471]\n",
      "TIMING: dataset construction took 3.295 s\n",
      "Loading dataset from disk.\n",
      "TIMING: dataset construction took 3.422 s\n",
      "Loading dataset from disk.\n",
      "TIMING: dataset construction took 3.325 s\n",
      "Loading dataset from disk.\n",
      "computed_metrics: [0.8010673554464566, 0.8387731039385451, 0.8526682553437319, 0.8419924053637118, 0.7202820674869443, 0.807635437153585, 0.7431650303880319, 0.7651766854129862, 0.8004567803258351, 0.7232483524106833, 0.870824095668615, 0.7889748618547257]\n",
      "TIMING: dataset construction took 3.574 s\n",
      "Loading dataset from disk.\n",
      "TIMING: dataset construction took 3.187 s\n",
      "Loading dataset from disk.\n",
      "TIMING: dataset construction took 3.262 s\n",
      "Loading dataset from disk.\n",
      "computed_metrics: [0.8022437838375257, 0.8356810350039297, 0.8645021566482077, 0.8252986377925253, 0.6996570182357064, 0.8077154444068941, 0.778045423262216, 0.763657472022737, 0.7306211157316882, 0.7439675315327287, 0.8777066754177263, 0.7867336040277391]\n",
      "TIMING: dataset construction took 3.381 s\n",
      "Loading dataset from disk.\n",
      "TIMING: dataset construction took 3.250 s\n",
      "Loading dataset from disk.\n",
      "TIMING: dataset construction took 3.303 s\n",
      "Loading dataset from disk.\n",
      "computed_metrics: [0.7909034530425973, 0.8346508333373557, 0.8714856391585761, 0.8108615500376223, 0.7078684364223597, 0.805053931659119, 0.7813939106139083, 0.7638222438336255, 0.7791683674461096, 0.7375622910813526, 0.8550098414214085, 0.7870510909827526]\n",
      "TIMING: dataset construction took 3.288 s\n",
      "Loading dataset from disk.\n",
      "TIMING: dataset construction took 3.404 s\n",
      "Loading dataset from disk.\n",
      "TIMING: dataset construction took 3.458 s\n",
      "Loading dataset from disk.\n",
      "computed_metrics: [0.7866002021969807, 0.8245921103684022, 0.8631122843068673, 0.8056881360138992, 0.69723633968545, 0.7989560731355738, 0.7662696924231058, 0.7637052568650464, 0.774894326594205, 0.7496570806924605, 0.8607695894377776, 0.7834405440309484]\n",
      "TIMING: dataset construction took 3.355 s\n",
      "Loading dataset from disk.\n",
      "TIMING: dataset construction took 3.481 s\n",
      "Loading dataset from disk.\n",
      "TIMING: dataset construction took 3.533 s\n",
      "Loading dataset from disk.\n",
      "computed_metrics: [0.7988419569733292, 0.8523427983714637, 0.868358935106982, 0.8173906179521877, 0.727807710370149, 0.797472921108742, 0.7684868144410404, 0.7588222101797385, 0.7573018268039015, 0.7242268840461739, 0.8618713779739082, 0.7575294963678026]\n",
      "TIMING: dataset construction took 3.262 s\n",
      "Loading dataset from disk.\n",
      "TIMING: dataset construction took 3.362 s\n",
      "Loading dataset from disk.\n",
      "TIMING: dataset construction took 3.276 s\n",
      "Loading dataset from disk.\n",
      "computed_metrics: [0.7752320788530465, 0.8517174239422816, 0.8706134840871022, 0.8384564860426929, 0.7079966505970887, 0.804810246679317, 0.7921376634209143, 0.7627355837769261, 0.7864920557631907, 0.7504228288923114, 0.8632812738004156, 0.79956479972904]\n"
     ]
    },
    {
     "name": "stdout",
     "output_type": "stream",
     "text": [
      "TIMING: dataset construction took 3.217 s\n",
      "Loading dataset from disk.\n",
      "TIMING: dataset construction took 3.501 s\n",
      "Loading dataset from disk.\n",
      "TIMING: dataset construction took 3.346 s\n",
      "Loading dataset from disk.\n",
      "computed_metrics: [0.7695476617989156, 0.8356827007532572, 0.8782204536438853, 0.8095019024558976, 0.7220528545721772, 0.7944403575383641, 0.7920513501745374, 0.7619219163977609, 0.7982525809881498, 0.7220004550510668, 0.8765610410831, 0.7827377106179768]\n",
      "TIMING: dataset construction took 4.051 s\n",
      "Loading dataset from disk.\n",
      "TIMING: dataset construction took 3.153 s\n",
      "Loading dataset from disk.\n",
      "TIMING: dataset construction took 3.240 s\n",
      "Loading dataset from disk.\n",
      "computed_metrics: [0.7873757655866891, 0.8597283993384588, 0.8601090350165186, 0.8339760993154659, 0.7306380413730655, 0.7958977434257285, 0.7963922952378877, 0.7451583542985994, 0.782197540676588, 0.7117466044142615, 0.8660844533736185, 0.8125691451095138]\n",
      "TIMING: dataset construction took 3.201 s\n",
      "Loading dataset from disk.\n",
      "TIMING: dataset construction took 3.317 s\n",
      "Loading dataset from disk.\n",
      "TIMING: dataset construction took 3.234 s\n",
      "Loading dataset from disk.\n",
      "computed_metrics: [0.7809853794383848, 0.847969434489592, 0.8666584735847992, 0.8333239038189533, 0.7071817618941922, 0.7744174236168456, 0.7531851588547581, 0.7886159476898646, 0.7949035011153136, 0.7424127099190527, 0.8838351961931866, 0.8090871254162042]\n",
      "TIMING: dataset construction took 3.231 s\n",
      "Loading dataset from disk.\n",
      "TIMING: dataset construction took 3.243 s\n",
      "Loading dataset from disk.\n",
      "TIMING: dataset construction took 3.231 s\n",
      "Loading dataset from disk.\n",
      "computed_metrics: [0.784420654681264, 0.8178886151131388, 0.8681987862706624, 0.8529919137466309, 0.7050054161735846, 0.800909090909091, 0.744161551650509, 0.7697196294960986, 0.785376656988875, 0.7618867607526882, 0.8697017638579569, 0.7803350953429021]\n",
      "TIMING: dataset construction took 3.411 s\n",
      "Loading dataset from disk.\n",
      "TIMING: dataset construction took 3.208 s\n",
      "Loading dataset from disk.\n",
      "TIMING: dataset construction took 3.197 s\n",
      "Loading dataset from disk.\n",
      "computed_metrics: [0.8088934200879765, 0.8114206958409789, 0.8592184929796733, 0.8271336324089178, 0.7034725523147229, 0.7493640712636094, 0.7441930439044078, 0.7677085838563608, 0.7720716993687233, 0.7129835426285321, 0.8636602064651251, 0.7729331874943031]\n",
      "TIMING: dataset construction took 3.469 s\n",
      "Loading dataset from disk.\n",
      "TIMING: dataset construction took 3.313 s\n",
      "Loading dataset from disk.\n",
      "TIMING: dataset construction took 3.367 s\n",
      "Loading dataset from disk.\n",
      "computed_metrics: [0.7885993704431111, 0.8350715286114445, 0.8690093449931413, 0.8518327930848191, 0.701181117039078, 0.7590452828719387, 0.7698080472144258, 0.764292998641924, 0.7882557130459937, 0.7474699557242253, 0.8657223763043229, 0.789110958976871]\n",
      "0.5 {'roc mean': 0.7921102780940512, 'roc std': 0.014881537969910076}\n",
      "TIMING: dataset construction took 4.709 s\n",
      "Loading dataset from disk.\n",
      "TIMING: dataset construction took 1.949 s\n",
      "Loading dataset from disk.\n",
      "TIMING: dataset construction took 2.020 s\n",
      "Loading dataset from disk.\n",
      "computed_metrics: [0.8068524806640256, 0.8491825158491825, 0.8453813520554343, 0.8345668220668221, 0.7192906208126404, 0.8260588831783395, 0.7982846251588311, 0.7641817960277812, 0.7681460369163953, 0.7579292267365663, 0.8824666450893659, 0.8043070703118631]\n",
      "TIMING: dataset construction took 4.313 s\n",
      "Loading dataset from disk.\n",
      "TIMING: dataset construction took 2.149 s\n",
      "Loading dataset from disk.\n",
      "TIMING: dataset construction took 2.164 s\n",
      "Loading dataset from disk.\n",
      "computed_metrics: [0.8029888046625722, 0.8471019142337719, 0.8779080049218138, 0.8412109587550332, 0.7154905335628227, 0.8133833298000142, 0.8561444122428783, 0.7712773497220732, 0.813736548013245, 0.7867412590036014, 0.8705910457828616, 0.8193142575234337]\n",
      "TIMING: dataset construction took 4.532 s\n",
      "Loading dataset from disk.\n",
      "TIMING: dataset construction took 2.023 s\n",
      "Loading dataset from disk.\n",
      "TIMING: dataset construction took 2.017 s\n",
      "Loading dataset from disk.\n",
      "computed_metrics: [0.8082622030077966, 0.902493502274204, 0.8743771069728976, 0.8337553769986201, 0.7014326655084269, 0.820019790185605, 0.8111108754665761, 0.7720395034882668, 0.816939858490566, 0.7759010989010988, 0.8825019730233893, 0.8158824437602739]\n",
      "TIMING: dataset construction took 4.639 s\n",
      "Loading dataset from disk.\n",
      "TIMING: dataset construction took 2.911 s\n",
      "Loading dataset from disk.\n",
      "TIMING: dataset construction took 2.171 s\n",
      "Loading dataset from disk.\n",
      "computed_metrics: [0.7968999506923429, 0.8703058002423565, 0.8819280550245018, 0.8318658280922431, 0.7270495827196859, 0.7790103163478314, 0.887781675170068, 0.768525181641323, 0.8386298298068078, 0.8206625813864419, 0.8713699364738883, 0.8203845209004046]\n",
      "TIMING: dataset construction took 4.701 s\n",
      "Loading dataset from disk.\n",
      "TIMING: dataset construction took 2.004 s\n",
      "Loading dataset from disk.\n",
      "TIMING: dataset construction took 2.045 s\n",
      "Loading dataset from disk.\n",
      "computed_metrics: [0.8264704947870569, 0.8923265163432967, 0.8806009022130519, 0.8539706498951782, 0.7302813611700025, 0.760357656112373, 0.779775651600132, 0.7542722675764592, 0.85087588028169, 0.7468132212183558, 0.8850578586675655, 0.8187623163645898]\n",
      "TIMING: dataset construction took 4.458 s\n",
      "Loading dataset from disk.\n",
      "TIMING: dataset construction took 2.043 s\n",
      "Loading dataset from disk.\n",
      "TIMING: dataset construction took 1.932 s\n",
      "Loading dataset from disk.\n",
      "computed_metrics: [0.7959605091855924, 0.845279517513338, 0.870015318015318, 0.8059955257270693, 0.7394774195007747, 0.7787411198533343, 0.7291325360419398, 0.7898890949165588, 0.779262252346194, 0.7687266924842227, 0.8774874721200359, 0.7797962967939588]\n",
      "TIMING: dataset construction took 5.412 s\n",
      "Loading dataset from disk.\n",
      "TIMING: dataset construction took 1.989 s\n",
      "Loading dataset from disk.\n",
      "TIMING: dataset construction took 2.058 s\n",
      "Loading dataset from disk.\n",
      "computed_metrics: [0.7647729096453217, 0.846270798563698, 0.85013342821562, 0.8490270543981481, 0.7305424651250078, 0.8136613197303997, 0.7805550748464135, 0.7608781452710076, 0.7783723653395784, 0.7389349961275786, 0.8824704094907976, 0.7944464916023428]\n",
      "TIMING: dataset construction took 4.637 s\n",
      "Loading dataset from disk.\n",
      "TIMING: dataset construction took 1.987 s\n",
      "Loading dataset from disk.\n",
      "TIMING: dataset construction took 1.892 s\n",
      "Loading dataset from disk.\n",
      "computed_metrics: [0.8115554178852886, 0.842921926532469, 0.8812837368392923, 0.8497962510187449, 0.7366807765289739, 0.7908491640520909, 0.8265706806282722, 0.7869274731386434, 0.8191009852216748, 0.7553839882278078, 0.8873280933458002, 0.7939877842372508]\n",
      "TIMING: dataset construction took 4.488 s\n",
      "Loading dataset from disk.\n",
      "TIMING: dataset construction took 2.118 s\n",
      "Loading dataset from disk.\n",
      "TIMING: dataset construction took 2.135 s\n",
      "Loading dataset from disk.\n",
      "computed_metrics: [0.784648341997199, 0.7953989541160593, 0.8722091004875678, 0.8427384576357179, 0.7361189484868358, 0.8102870204200416, 0.7929279031370391, 0.7823684576525693, 0.8030103876508821, 0.776269783285259, 0.9080236132814494, 0.8064891693985722]\n",
      "TIMING: dataset construction took 4.564 s\n",
      "Loading dataset from disk.\n",
      "TIMING: dataset construction took 1.956 s\n",
      "Loading dataset from disk.\n",
      "TIMING: dataset construction took 1.900 s\n",
      "Loading dataset from disk.\n",
      "computed_metrics: [0.7588404265856639, 0.8502606335721028, 0.8782331266942347, 0.867600934267601, 0.6966845441248172, 0.7671870698600258, 0.775187834499794, 0.7795790632652563, 0.8070985425420169, 0.7996870321487669, 0.8645354306020067, 0.7935388603861917]\n",
      "TIMING: dataset construction took 4.399 s\n",
      "Loading dataset from disk.\n",
      "TIMING: dataset construction took 1.983 s\n",
      "Loading dataset from disk.\n",
      "TIMING: dataset construction took 2.031 s\n",
      "Loading dataset from disk.\n",
      "computed_metrics: [0.7717620037467601, 0.8294160527931246, 0.8774111875939552, 0.8184758564024776, 0.7551861163247024, 0.7876269774399075, 0.7729001780767708, 0.7750651625511575, 0.8066700768849207, 0.7831305645487658, 0.8782238889947638, 0.7929202188164458]\n",
      "TIMING: dataset construction took 4.725 s\n",
      "Loading dataset from disk.\n",
      "TIMING: dataset construction took 2.060 s\n",
      "Loading dataset from disk.\n",
      "TIMING: dataset construction took 2.107 s\n",
      "Loading dataset from disk.\n",
      "computed_metrics: [0.8324354795595451, 0.8609328461810288, 0.8839842902922681, 0.8337997572040126, 0.6982391317182612, 0.7724913038895331, 0.7690294034691865, 0.765498582972004, 0.8086905819635717, 0.770773381294964, 0.8730270004625347, 0.8391874794344056]\n"
     ]
    },
    {
     "name": "stdout",
     "output_type": "stream",
     "text": [
      "TIMING: dataset construction took 4.409 s\n",
      "Loading dataset from disk.\n",
      "TIMING: dataset construction took 2.094 s\n",
      "Loading dataset from disk.\n",
      "TIMING: dataset construction took 2.964 s\n",
      "Loading dataset from disk.\n",
      "computed_metrics: [0.8345443065411402, 0.8864921635159153, 0.8591847926348802, 0.8172577559108924, 0.7274285916289592, 0.8050808228562965, 0.8030042246909717, 0.7856875726716184, 0.8264985225833685, 0.7561805209888834, 0.8949262954139368, 0.834223161129249]\n",
      "TIMING: dataset construction took 5.670 s\n",
      "Loading dataset from disk.\n",
      "TIMING: dataset construction took 1.883 s\n",
      "Loading dataset from disk.\n",
      "TIMING: dataset construction took 1.946 s\n",
      "Loading dataset from disk.\n",
      "computed_metrics: [0.7908251405597262, 0.8692397660818713, 0.8840817652293063, 0.8429283357899908, 0.7221888175896083, 0.8133552643503164, 0.7898958047710447, 0.7656579306078367, 0.7347229414810978, 0.7607575415632288, 0.8563084855815138, 0.7850059988717355]\n",
      "TIMING: dataset construction took 4.500 s\n",
      "Loading dataset from disk.\n",
      "TIMING: dataset construction took 1.981 s\n",
      "Loading dataset from disk.\n",
      "TIMING: dataset construction took 2.108 s\n",
      "Loading dataset from disk.\n",
      "computed_metrics: [0.8010351468464132, 0.8446245682982018, 0.8599996774557712, 0.8474908020603384, 0.7258000322431131, 0.8333225163413842, 0.7653758987183494, 0.7947594948899687, 0.7801264734774067, 0.7366691149467499, 0.8737639258601991, 0.8052068424078054]\n",
      "TIMING: dataset construction took 4.362 s\n",
      "Loading dataset from disk.\n",
      "TIMING: dataset construction took 2.039 s\n",
      "Loading dataset from disk.\n",
      "TIMING: dataset construction took 2.053 s\n",
      "Loading dataset from disk.\n",
      "computed_metrics: [0.7968638763302176, 0.8517506459948321, 0.8576184999452325, 0.8182315668202764, 0.710455266443927, 0.7570733752620544, 0.7794165345250108, 0.7444773163848506, 0.7525594732370433, 0.7340715018690903, 0.8881716549132841, 0.7862969325539251]\n",
      "TIMING: dataset construction took 4.519 s\n",
      "Loading dataset from disk.\n",
      "TIMING: dataset construction took 1.965 s\n",
      "Loading dataset from disk.\n",
      "TIMING: dataset construction took 2.078 s\n",
      "Loading dataset from disk.\n",
      "computed_metrics: [0.8303778361334089, 0.8477615206652911, 0.8693272737305182, 0.8685682940208448, 0.7252226685295144, 0.8094009617298565, 0.7849962537462538, 0.7797969234454831, 0.7869240506329114, 0.7756271258503402, 0.8955333615659703, 0.7832332349808824]\n",
      "TIMING: dataset construction took 4.362 s\n",
      "Loading dataset from disk.\n",
      "TIMING: dataset construction took 2.037 s\n",
      "Loading dataset from disk.\n",
      "TIMING: dataset construction took 1.924 s\n",
      "Loading dataset from disk.\n",
      "computed_metrics: [0.8108880366944883, 0.8414178827786676, 0.8875034279446045, 0.8423269307723089, 0.7234075330326809, 0.7886894793643706, 0.798078990753351, 0.7520116085958888, 0.8076031931464174, 0.7438861541684122, 0.8539558912040353, 0.7820243033695269]\n",
      "TIMING: dataset construction took 5.555 s\n",
      "Loading dataset from disk.\n",
      "TIMING: dataset construction took 1.985 s\n",
      "Loading dataset from disk.\n",
      "TIMING: dataset construction took 2.018 s\n",
      "Loading dataset from disk.\n",
      "computed_metrics: [0.7945238555147769, 0.791197806086341, 0.8647517018834416, 0.8231070584262073, 0.7182571501883197, 0.8030574634851242, 0.7996334996880848, 0.7677880456787398, 0.7812084993359893, 0.7624392128681682, 0.8964235770585884, 0.7789554372833026]\n",
      "TIMING: dataset construction took 4.279 s\n",
      "Loading dataset from disk.\n",
      "TIMING: dataset construction took 2.081 s\n",
      "Loading dataset from disk.\n",
      "TIMING: dataset construction took 2.103 s\n",
      "Loading dataset from disk.\n",
      "computed_metrics: [0.7657877512856475, 0.8400718414087398, 0.858909797685308, 0.8031772575250835, 0.7260293238634365, 0.8360728836973438, 0.7363118399110617, 0.7320803446697111, 0.7476908666377063, 0.7491990546218488, 0.8635192945695827, 0.7802318538447452]\n",
      "0.7 {'roc mean': 0.8066619732919259, 'roc std': 0.0206563120633069}\n",
      "TIMING: dataset construction took 5.678 s\n",
      "Loading dataset from disk.\n",
      "TIMING: dataset construction took 1.018 s\n",
      "Loading dataset from disk.\n",
      "TIMING: dataset construction took 0.987 s\n",
      "Loading dataset from disk.\n",
      "computed_metrics: [0.8451979472140763, 0.8861594202898551, 0.891925653119683, 0.8078255675029868, 0.7560193726937269, 0.762022521527931, 0.8648002986188876, 0.8298314957353858, 0.8255847412340198, 0.7873037857802401, 0.8973218069327908, 0.784771482445901]\n",
      "TIMING: dataset construction took 5.874 s\n",
      "Loading dataset from disk.\n",
      "TIMING: dataset construction took 0.759 s\n",
      "Loading dataset from disk.\n",
      "TIMING: dataset construction took 0.754 s\n",
      "Loading dataset from disk.\n",
      "computed_metrics: [0.8075911640953717, 0.8744292237442923, 0.9106010268800966, 0.8199475065616797, 0.7458333333333333, 0.7718472004186291, 0.7940608401738289, 0.7992516837116488, 0.8627222610451122, 0.8175937904269082, 0.9021739130434783, 0.8425380244909482]\n",
      "TIMING: dataset construction took 5.871 s\n",
      "Loading dataset from disk.\n",
      "TIMING: dataset construction took 0.793 s\n",
      "Loading dataset from disk.\n",
      "TIMING: dataset construction took 0.762 s\n",
      "Loading dataset from disk.\n",
      "computed_metrics: [0.8739352640545145, 0.8718893254747873, 0.8905644118914261, 0.8813793103448277, 0.7006916996047431, 0.7863371508941129, 0.859375, 0.7572245219791052, 0.7195832759649364, 0.8312413434903048, 0.8607203751065644, 0.828532343169826]\n",
      "TIMING: dataset construction took 5.953 s\n",
      "Loading dataset from disk.\n",
      "TIMING: dataset construction took 0.776 s\n",
      "Loading dataset from disk.\n",
      "TIMING: dataset construction took 0.751 s\n",
      "Loading dataset from disk.\n",
      "computed_metrics: [0.7989505967557181, 0.8965208034433285, 0.8493158627087198, 0.896074646074646, 0.6862576619964973, 0.8476671476671477, 0.8043836745911777, 0.7482228888282882, 0.8468495780910514, 0.7666439928577502, 0.8509695500681715, 0.7907388351512656]\n",
      "TIMING: dataset construction took 5.659 s\n",
      "Loading dataset from disk.\n",
      "TIMING: dataset construction took 0.809 s\n",
      "Loading dataset from disk.\n",
      "TIMING: dataset construction took 0.828 s\n",
      "Loading dataset from disk.\n",
      "computed_metrics: [0.7718709677419355, 0.7762392513909965, 0.8896433515722856, 0.8646443514644353, 0.7111090504451039, 0.8494953416149067, 0.6704710671706892, 0.7850448037902975, 0.8467335670817716, 0.7704946841226605, 0.8800525561395126, 0.7961356010644451]\n",
      "TIMING: dataset construction took 5.771 s\n",
      "Loading dataset from disk.\n",
      "TIMING: dataset construction took 0.759 s\n",
      "Loading dataset from disk.\n",
      "TIMING: dataset construction took 0.792 s\n",
      "Loading dataset from disk.\n",
      "computed_metrics: [0.7951045550332307, 0.9369953863898501, 0.8945564239681887, 0.768888888888889, 0.7463821490467938, 0.8332392921261862, 0.8534869283299993, 0.7917371717393693, 0.9103605266395964, 0.783152397966195, 0.8671116504854368, 0.7993236054111568]\n",
      "TIMING: dataset construction took 5.893 s\n",
      "Loading dataset from disk.\n",
      "TIMING: dataset construction took 0.709 s\n",
      "Loading dataset from disk.\n",
      "TIMING: dataset construction took 0.742 s\n",
      "Loading dataset from disk.\n",
      "computed_metrics: [0.839898676592225, 0.8674903100775193, 0.8711805993359392, 0.8480701754385965, 0.6963344316309721, 0.8613691931540344, 0.797890866873065, 0.7631924072476273, 0.8115620610630591, 0.8200559300157751, 0.8788976723759332, 0.8336283185840707]\n",
      "TIMING: dataset construction took 5.750 s\n",
      "Loading dataset from disk.\n",
      "TIMING: dataset construction took 0.791 s\n",
      "Loading dataset from disk.\n",
      "TIMING: dataset construction took 0.773 s\n",
      "Loading dataset from disk.\n",
      "computed_metrics: [0.7659110723626853, 0.7842673459485687, 0.9055040197897342, 0.8081589958158996, 0.7183795592705167, 0.8456258191349935, 0.7909270216962525, 0.7956626748515648, 0.8741045572321293, 0.6968174204355109, 0.9010479819851032, 0.7991279069767443]\n",
      "TIMING: dataset construction took 5.671 s\n",
      "Loading dataset from disk.\n",
      "TIMING: dataset construction took 0.774 s\n",
      "Loading dataset from disk.\n",
      "TIMING: dataset construction took 0.751 s\n",
      "Loading dataset from disk.\n",
      "computed_metrics: [0.718003092094267, 0.7599375618199802, 0.8775476348469049, 0.8256449165402124, 0.6928676470588235, 0.7282458282458283, 0.6709444844989185, 0.7593140153755173, 0.8320507627919536, 0.7932718393922951, 0.8569916774286124, 0.8055798079212637]\n",
      "TIMING: dataset construction took 5.778 s\n",
      "Loading dataset from disk.\n",
      "TIMING: dataset construction took 0.743 s\n",
      "Loading dataset from disk.\n",
      "TIMING: dataset construction took 0.760 s\n",
      "Loading dataset from disk.\n",
      "computed_metrics: [0.6775112581564194, 0.8022076372315037, 0.8958643815201193, 0.8586907449209932, 0.6977178423236514, 0.792670977856163, 0.8296956847094039, 0.8393387314439946, 0.8412046543463381, 0.8087406015037593, 0.8631695892385299, 0.7920746634026927]\n"
     ]
    },
    {
     "name": "stdout",
     "output_type": "stream",
     "text": [
      "TIMING: dataset construction took 5.793 s\n",
      "Loading dataset from disk.\n",
      "TIMING: dataset construction took 0.808 s\n",
      "Loading dataset from disk.\n",
      "TIMING: dataset construction took 0.792 s\n",
      "Loading dataset from disk.\n",
      "computed_metrics: [0.8285198555956679, 0.8448940269749519, 0.8983454268151776, 0.8576519916142558, 0.7132832898172323, 0.9056291390728477, 0.7001240966493905, 0.758045922706227, 0.8699039780521263, 0.7428050463236744, 0.8981962052241981, 0.842077480278014]\n",
      "TIMING: dataset construction took 5.769 s\n",
      "Loading dataset from disk.\n",
      "TIMING: dataset construction took 0.736 s\n",
      "Loading dataset from disk.\n",
      "TIMING: dataset construction took 0.755 s\n",
      "Loading dataset from disk.\n",
      "computed_metrics: [0.8691353815996932, 0.9532882241215574, 0.8443552608619787, 0.880952380952381, 0.722567287784679, 0.8124754033844943, 0.8887292673370772, 0.7703057644110276, 0.8247173972980424, 0.7788564818640007, 0.9123863760814808, 0.8444741346916622]\n",
      "TIMING: dataset construction took 5.713 s\n",
      "Loading dataset from disk.\n",
      "TIMING: dataset construction took 0.746 s\n",
      "Loading dataset from disk.\n",
      "TIMING: dataset construction took 0.763 s\n",
      "Loading dataset from disk.\n",
      "computed_metrics: [0.8412473118279571, 0.9232424677187949, 0.8598868873062421, 0.8718487394957983, 0.7279501748251749, 0.8697622168133309, 0.7623506619309008, 0.78820167757397, 0.8742677317840717, 0.7956525604551921, 0.8966377352368592, 0.8172463469849762]\n",
      "TIMING: dataset construction took 5.800 s\n",
      "Loading dataset from disk.\n",
      "TIMING: dataset construction took 0.866 s\n",
      "Loading dataset from disk.\n",
      "TIMING: dataset construction took 0.843 s\n",
      "Loading dataset from disk.\n",
      "computed_metrics: [0.8649386084583902, 0.9076335877862596, 0.8977571508246356, 0.8462244472256988, 0.6950079239302694, 0.7775764036958066, 0.8246987331342053, 0.7775578185971257, 0.8323437941758554, 0.8213659147869674, 0.8887558884855973, 0.7929516994633273]\n",
      "TIMING: dataset construction took 5.937 s\n",
      "Loading dataset from disk.\n",
      "TIMING: dataset construction took 0.673 s\n",
      "Loading dataset from disk.\n",
      "TIMING: dataset construction took 0.679 s\n",
      "Loading dataset from disk.\n",
      "computed_metrics: [0.7730319006344384, 0.7940865093768905, 0.9008777783481341, 0.8538834951456311, 0.7158764367816093, 0.8712902588421261, 0.7708133971291866, 0.7805575582792599, 0.8240377632534495, 0.7836426325930432, 0.8732798165137614, 0.831281349749202]\n",
      "TIMING: dataset construction took 5.797 s\n",
      "Loading dataset from disk.\n",
      "TIMING: dataset construction took 0.639 s\n",
      "Loading dataset from disk.\n",
      "TIMING: dataset construction took 0.662 s\n",
      "Loading dataset from disk.\n",
      "computed_metrics: [0.8317128577919128, 0.8977564102564103, 0.8952894563064054, 0.857044673539519, 0.7906434184675836, 0.9125442176870748, 0.8609890623539309, 0.8168985682597296, 0.8717384050717384, 0.8344899062725306, 0.8950035471774602, 0.8405315614617941]\n",
      "TIMING: dataset construction took 5.774 s\n",
      "Loading dataset from disk.\n",
      "TIMING: dataset construction took 0.743 s\n",
      "Loading dataset from disk.\n",
      "TIMING: dataset construction took 0.768 s\n",
      "Loading dataset from disk.\n",
      "computed_metrics: [0.7021780472926908, 0.8567708333333334, 0.8872995791484857, 0.8761663856098931, 0.705692868719611, 0.8777304328324735, 0.8449951834661529, 0.843549622496991, 0.8500825666430762, 0.757498585172609, 0.9028890160183065, 0.8523561811505508]\n",
      "TIMING: dataset construction took 5.879 s\n",
      "Loading dataset from disk.\n",
      "TIMING: dataset construction took 0.684 s\n",
      "Loading dataset from disk.\n",
      "TIMING: dataset construction took 0.726 s\n",
      "Loading dataset from disk.\n",
      "computed_metrics: [0.7818626276182715, 0.9375, 0.8497693462030125, 0.8584372402327515, 0.7396523178807948, 0.8117829457364341, 0.8607614136205066, 0.8039473684210527, 0.8506141102542131, 0.7465587044534412, 0.8645016912795973, 0.8473233266765445]\n",
      "TIMING: dataset construction took 5.844 s\n",
      "Loading dataset from disk.\n",
      "TIMING: dataset construction took 0.650 s\n",
      "Loading dataset from disk.\n",
      "TIMING: dataset construction took 0.683 s\n",
      "Loading dataset from disk.\n",
      "computed_metrics: [0.7448416158093578, 0.8294328875681031, 0.8781827491504911, 0.8454836131095124, 0.7347916666666666, 0.8828446662507798, 0.9072409284079764, 0.7813235620697314, 0.8402084719449989, 0.8534512510785159, 0.9190846681922197, 0.8760461259593506]\n",
      "TIMING: dataset construction took 5.827 s\n",
      "Loading dataset from disk.\n",
      "TIMING: dataset construction took 0.699 s\n",
      "Loading dataset from disk.\n",
      "TIMING: dataset construction took 0.722 s\n",
      "Loading dataset from disk.\n",
      "computed_metrics: [0.7909228207411997, 0.9057701832590392, 0.8581599123767798, 0.8876068376068377, 0.7246323529411764, 0.8230486008836524, 0.745764411027569, 0.8035024611889435, 0.772563176895307, 0.7284710863080921, 0.8914222389889654, 0.7818326376465912]\n",
      "0.9 {'roc mean': 0.8226198522794377, 'roc std': 0.03764091725565298}\n"
     ]
    }
   ],
   "source": [
    "for rate in rates:\n",
    "    score_dic = evaluate_classification_multi_dc(dataset, rate, 20)\n",
    "    print(rate, score_dic)"
   ]
  },
  {
   "cell_type": "markdown",
   "metadata": {},
   "source": [
    "## BACE"
   ]
  },
  {
   "cell_type": "code",
   "execution_count": 6,
   "metadata": {},
   "outputs": [
    {
     "name": "stdout",
     "output_type": "stream",
     "text": [
      "(1513, 595)\n"
     ]
    },
    {
     "data": {
      "text/html": [
       "<div>\n",
       "<style scoped>\n",
       "    .dataframe tbody tr th:only-of-type {\n",
       "        vertical-align: middle;\n",
       "    }\n",
       "\n",
       "    .dataframe tbody tr th {\n",
       "        vertical-align: top;\n",
       "    }\n",
       "\n",
       "    .dataframe thead th {\n",
       "        text-align: right;\n",
       "    }\n",
       "</style>\n",
       "<table border=\"1\" class=\"dataframe\">\n",
       "  <thead>\n",
       "    <tr style=\"text-align: right;\">\n",
       "      <th></th>\n",
       "      <th>mol</th>\n",
       "      <th>CID</th>\n",
       "      <th>Class</th>\n",
       "      <th>Model</th>\n",
       "      <th>pIC50</th>\n",
       "      <th>MW</th>\n",
       "      <th>AlogP</th>\n",
       "      <th>HBA</th>\n",
       "      <th>HBD</th>\n",
       "      <th>RB</th>\n",
       "      <th>...</th>\n",
       "      <th>PEOE6 (PEOE6)</th>\n",
       "      <th>PEOE7 (PEOE7)</th>\n",
       "      <th>PEOE8 (PEOE8)</th>\n",
       "      <th>PEOE9 (PEOE9)</th>\n",
       "      <th>PEOE10 (PEOE10)</th>\n",
       "      <th>PEOE11 (PEOE11)</th>\n",
       "      <th>PEOE12 (PEOE12)</th>\n",
       "      <th>PEOE13 (PEOE13)</th>\n",
       "      <th>PEOE14 (PEOE14)</th>\n",
       "      <th>canvasUID</th>\n",
       "    </tr>\n",
       "  </thead>\n",
       "  <tbody>\n",
       "    <tr>\n",
       "      <th>0</th>\n",
       "      <td>O1CC[C@@H](NC(=O)[C@@H](Cc2cc3cc(ccc3nc2N)-c2c...</td>\n",
       "      <td>BACE_1</td>\n",
       "      <td>1</td>\n",
       "      <td>Train</td>\n",
       "      <td>9.154901</td>\n",
       "      <td>431.56979</td>\n",
       "      <td>4.4014</td>\n",
       "      <td>3</td>\n",
       "      <td>2</td>\n",
       "      <td>5</td>\n",
       "      <td>...</td>\n",
       "      <td>53.205711</td>\n",
       "      <td>78.640335</td>\n",
       "      <td>226.85541</td>\n",
       "      <td>107.43491</td>\n",
       "      <td>37.133846</td>\n",
       "      <td>0.000000</td>\n",
       "      <td>7.980170</td>\n",
       "      <td>0.0</td>\n",
       "      <td>0.000000</td>\n",
       "      <td>1</td>\n",
       "    </tr>\n",
       "    <tr>\n",
       "      <th>1</th>\n",
       "      <td>Fc1cc(cc(F)c1)C[C@H](NC(=O)[C@@H](N1CC[C@](NC(...</td>\n",
       "      <td>BACE_2</td>\n",
       "      <td>1</td>\n",
       "      <td>Train</td>\n",
       "      <td>8.853872</td>\n",
       "      <td>657.81073</td>\n",
       "      <td>2.6412</td>\n",
       "      <td>5</td>\n",
       "      <td>4</td>\n",
       "      <td>16</td>\n",
       "      <td>...</td>\n",
       "      <td>73.817162</td>\n",
       "      <td>47.171600</td>\n",
       "      <td>365.67694</td>\n",
       "      <td>174.07675</td>\n",
       "      <td>34.923889</td>\n",
       "      <td>7.980170</td>\n",
       "      <td>24.148668</td>\n",
       "      <td>0.0</td>\n",
       "      <td>24.663788</td>\n",
       "      <td>2</td>\n",
       "    </tr>\n",
       "    <tr>\n",
       "      <th>2</th>\n",
       "      <td>S1(=O)(=O)N(c2cc(cc3c2n(cc3CC)CC1)C(=O)N[C@H](...</td>\n",
       "      <td>BACE_3</td>\n",
       "      <td>1</td>\n",
       "      <td>Train</td>\n",
       "      <td>8.698970</td>\n",
       "      <td>591.74091</td>\n",
       "      <td>2.5499</td>\n",
       "      <td>4</td>\n",
       "      <td>3</td>\n",
       "      <td>11</td>\n",
       "      <td>...</td>\n",
       "      <td>70.365707</td>\n",
       "      <td>47.941147</td>\n",
       "      <td>192.40652</td>\n",
       "      <td>255.75255</td>\n",
       "      <td>23.654478</td>\n",
       "      <td>0.230159</td>\n",
       "      <td>15.879790</td>\n",
       "      <td>0.0</td>\n",
       "      <td>24.663788</td>\n",
       "      <td>3</td>\n",
       "    </tr>\n",
       "    <tr>\n",
       "      <th>3</th>\n",
       "      <td>S1(=O)(=O)C[C@@H](Cc2cc(O[C@H](COCC)C(F)(F)F)c...</td>\n",
       "      <td>BACE_4</td>\n",
       "      <td>1</td>\n",
       "      <td>Train</td>\n",
       "      <td>8.698970</td>\n",
       "      <td>591.67828</td>\n",
       "      <td>3.1680</td>\n",
       "      <td>4</td>\n",
       "      <td>3</td>\n",
       "      <td>12</td>\n",
       "      <td>...</td>\n",
       "      <td>56.657166</td>\n",
       "      <td>37.954151</td>\n",
       "      <td>194.35304</td>\n",
       "      <td>202.76335</td>\n",
       "      <td>36.498634</td>\n",
       "      <td>0.980913</td>\n",
       "      <td>8.188327</td>\n",
       "      <td>0.0</td>\n",
       "      <td>26.385181</td>\n",
       "      <td>4</td>\n",
       "    </tr>\n",
       "    <tr>\n",
       "      <th>4</th>\n",
       "      <td>S1(=O)(=O)N(c2cc(cc3c2n(cc3CC)CC1)C(=O)N[C@H](...</td>\n",
       "      <td>BACE_5</td>\n",
       "      <td>1</td>\n",
       "      <td>Train</td>\n",
       "      <td>8.698970</td>\n",
       "      <td>629.71283</td>\n",
       "      <td>3.5086</td>\n",
       "      <td>3</td>\n",
       "      <td>3</td>\n",
       "      <td>11</td>\n",
       "      <td>...</td>\n",
       "      <td>78.945702</td>\n",
       "      <td>39.361153</td>\n",
       "      <td>179.71288</td>\n",
       "      <td>220.46130</td>\n",
       "      <td>23.654478</td>\n",
       "      <td>0.230159</td>\n",
       "      <td>15.879790</td>\n",
       "      <td>0.0</td>\n",
       "      <td>26.100143</td>\n",
       "      <td>5</td>\n",
       "    </tr>\n",
       "  </tbody>\n",
       "</table>\n",
       "<p>5 rows × 595 columns</p>\n",
       "</div>"
      ],
      "text/plain": [
       "                                                 mol     CID  Class  Model  \\\n",
       "0  O1CC[C@@H](NC(=O)[C@@H](Cc2cc3cc(ccc3nc2N)-c2c...  BACE_1      1  Train   \n",
       "1  Fc1cc(cc(F)c1)C[C@H](NC(=O)[C@@H](N1CC[C@](NC(...  BACE_2      1  Train   \n",
       "2  S1(=O)(=O)N(c2cc(cc3c2n(cc3CC)CC1)C(=O)N[C@H](...  BACE_3      1  Train   \n",
       "3  S1(=O)(=O)C[C@@H](Cc2cc(O[C@H](COCC)C(F)(F)F)c...  BACE_4      1  Train   \n",
       "4  S1(=O)(=O)N(c2cc(cc3c2n(cc3CC)CC1)C(=O)N[C@H](...  BACE_5      1  Train   \n",
       "\n",
       "      pIC50         MW   AlogP  HBA  HBD  RB    ...      PEOE6 (PEOE6)  \\\n",
       "0  9.154901  431.56979  4.4014    3    2   5    ...          53.205711   \n",
       "1  8.853872  657.81073  2.6412    5    4  16    ...          73.817162   \n",
       "2  8.698970  591.74091  2.5499    4    3  11    ...          70.365707   \n",
       "3  8.698970  591.67828  3.1680    4    3  12    ...          56.657166   \n",
       "4  8.698970  629.71283  3.5086    3    3  11    ...          78.945702   \n",
       "\n",
       "   PEOE7 (PEOE7)  PEOE8 (PEOE8)  PEOE9 (PEOE9)  PEOE10 (PEOE10)  \\\n",
       "0      78.640335      226.85541      107.43491        37.133846   \n",
       "1      47.171600      365.67694      174.07675        34.923889   \n",
       "2      47.941147      192.40652      255.75255        23.654478   \n",
       "3      37.954151      194.35304      202.76335        36.498634   \n",
       "4      39.361153      179.71288      220.46130        23.654478   \n",
       "\n",
       "   PEOE11 (PEOE11)  PEOE12 (PEOE12)  PEOE13 (PEOE13)  PEOE14 (PEOE14)  \\\n",
       "0         0.000000         7.980170              0.0         0.000000   \n",
       "1         7.980170        24.148668              0.0        24.663788   \n",
       "2         0.230159        15.879790              0.0        24.663788   \n",
       "3         0.980913         8.188327              0.0        26.385181   \n",
       "4         0.230159        15.879790              0.0        26.100143   \n",
       "\n",
       "   canvasUID  \n",
       "0          1  \n",
       "1          2  \n",
       "2          3  \n",
       "3          4  \n",
       "4          5  \n",
       "\n",
       "[5 rows x 595 columns]"
      ]
     },
     "execution_count": 6,
     "metadata": {},
     "output_type": "execute_result"
    }
   ],
   "source": [
    "df = pd.read_csv('data/bace.csv')\n",
    "print(df.shape)\n",
    "df.head()"
   ]
  },
  {
   "cell_type": "code",
   "execution_count": 7,
   "metadata": {},
   "outputs": [
    {
     "data": {
      "image/png": "[encoded data removed]",
      "text/plain": [
       "<Figure size 144x288 with 1 Axes>"
      ]
     },
     "metadata": {
      "needs_background": "light"
     },
     "output_type": "display_data"
    }
   ],
   "source": [
    "keys = ['0', '1']\n",
    "bottom = df.groupby('Class').count()['CID'].values\n",
    "plt.figure(figsize=(2,4))\n",
    "plt.bar(keys, bottom)\n",
    "plt.xlabel('class')\n",
    "plt.ylabel('counts')\n",
    "plt.title('BACE')\n",
    "plt.grid()\n",
    "plt.show()"
   ]
  },
  {
   "cell_type": "code",
   "execution_count": 8,
   "metadata": {},
   "outputs": [
    {
     "data": {
      "image/png": "[encoded data removed]",
      "text/plain": [
       "<Figure size 432x288 with 1 Axes>"
      ]
     },
     "metadata": {
      "needs_background": "light"
     },
     "output_type": "display_data"
    }
   ],
   "source": [
    "plt.hist(list(map(len, df['mol'].values)), bins=20)\n",
    "plt.xlabel('SMILES length')\n",
    "plt.ylabel('counts')\n",
    "plt.title('BACE')\n",
    "plt.grid()\n",
    "plt.show()"
   ]
  },
  {
   "cell_type": "code",
   "execution_count": 16,
   "metadata": {},
   "outputs": [],
   "source": [
    "def evaluate_mlp_classification(X, y, rate, n_repeats):\n",
    "    auc = np.empty(n_repeats)\n",
    "    for i in range(n_repeats):\n",
    "        clf = MLPClassifier(max_iter=1000)\n",
    "        X_train, X_test, y_train, y_test = train_test_split(X, y, test_size=1-rate, stratify=y)\n",
    "        clf.fit(X_train, y_train)\n",
    "        y_score = clf.predict_proba(X_test)\n",
    "        auc[i] = roc_auc_score(y_test, y_score[:,1])\n",
    "    ret = {}\n",
    "    ret['auc mean'] = np.mean(auc)\n",
    "    ret['auc std'] = np.mean(np.std(auc, axis=0))\n",
    "    return ret"
   ]
  },
  {
   "cell_type": "markdown",
   "metadata": {},
   "source": [
    "### ECFP4"
   ]
  },
  {
   "cell_type": "markdown",
   "metadata": {},
   "source": [
    "### ST"
   ]
  },
  {
   "cell_type": "code",
   "execution_count": 11,
   "metadata": {},
   "outputs": [],
   "source": [
    "x_split = [split(sm) for sm in df['mol'].values]\n",
    "X = prepare_data(x_split)\n",
    "y = df['Class']"
   ]
  },
  {
   "cell_type": "code",
   "execution_count": 17,
   "metadata": {},
   "outputs": [
    {
     "name": "stdout",
     "output_type": "stream",
     "text": [
      "0.1 {'auc mean': 0.6958014686712436, 'auc std': 0.06957807864878243}\n",
      "0.3 {'auc mean': 0.7304518910697888, 'auc std': 0.018850149900539386}\n",
      "0.5 {'auc mean': 0.7506385103300844, 'auc std': 0.02061710048296944}\n",
      "0.7 {'auc mean': 0.7561824013769093, 'auc std': 0.02300537593287118}\n",
      "0.9 {'auc mean': 0.7612624410686222, 'auc std': 0.031042263179352075}\n"
     ]
    }
   ],
   "source": [
    "for rate in rates:\n",
    "    score_dic = evaluate_mlp_classification(X, y, rate, 20)\n",
    "    print(rate, score_dic)"
   ]
  },
  {
   "cell_type": "markdown",
   "metadata": {},
   "source": [
    "### GraphConv"
   ]
  },
  {
   "cell_type": "code",
   "execution_count": 53,
   "metadata": {},
   "outputs": [
    {
     "name": "stdout",
     "output_type": "stream",
     "text": [
      "Loading raw samples now.\n",
      "shard_size: 8192\n",
      "About to start loading CSV from data/bace.csv\n",
      "Loading shard 1 of size 8192.\n",
      "Featurizing sample 0\n",
      "Featurizing sample 1000\n",
      "TIMING: featurizing shard 0 took 9.385 s\n",
      "TIMING: dataset construction took 11.598 s\n",
      "Loading dataset from disk.\n"
     ]
    }
   ],
   "source": [
    "featurizer = dc.feat.ConvMolFeaturizer()\n",
    "loader = dc.data.CSVLoader(\n",
    "      tasks=['Class'],\n",
    "      smiles_field='mol',\n",
    "      featurizer=featurizer)\n",
    "dataset = loader.featurize('data/bace.csv')"
   ]
  },
  {
   "cell_type": "code",
   "execution_count": 54,
   "metadata": {},
   "outputs": [],
   "source": [
    "def evaluate_classification_single_dc(dataset, rate, n_repeats):\n",
    "    roc = np.empty(n_repeats)\n",
    "    for i in range(n_repeats):\n",
    "        clf = GraphConvModel(n_tasks=1, batch_size=64, mode='classification')\n",
    "        splitter = dc.splits.RandomStratifiedSplitter()\n",
    "        train, val, _ = splitter.train_valid_test_split(dataset, frac_train=rate, frac_valid=1-rate, frac_test=0)\n",
    "        clf.fit(train)\n",
    "        metrics = [dc.metrics.Metric(dc.metrics.roc_auc_score)]\n",
    "        scores = clf.evaluate(val, metrics)\n",
    "        roc[i] = scores['roc_auc_score']\n",
    "    ret = {}\n",
    "    ret['roc mean'] = np.mean(roc)\n",
    "    ret['roc std'] = np.std(roc)\n",
    "    return ret"
   ]
  },
  {
   "cell_type": "code",
   "execution_count": 55,
   "metadata": {},
   "outputs": [
    {
     "name": "stdout",
     "output_type": "stream",
     "text": [
      "TIMING: dataset construction took 0.175 s\n",
      "Loading dataset from disk.\n",
      "TIMING: dataset construction took 1.667 s\n",
      "Loading dataset from disk.\n",
      "TIMING: dataset construction took 1.639 s\n",
      "Loading dataset from disk.\n"
     ]
    },
    {
     "name": "stderr",
     "output_type": "stream",
     "text": [
      "/home/honda/anaconda3/envs/deepchem/lib/python3.5/site-packages/tensorflow/python/ops/gradients_impl.py:98: UserWarning: Converting sparse IndexedSlices to a dense Tensor of unknown shape. This may consume a large amount of memory.\n",
      "  \"Converting sparse IndexedSlices to a dense Tensor of unknown shape. \"\n"
     ]
    },
    {
     "name": "stdout",
     "output_type": "stream",
     "text": [
      "computed_metrics: [0.7583669973684097]\n",
      "TIMING: dataset construction took 0.187 s\n",
      "Loading dataset from disk.\n",
      "TIMING: dataset construction took 1.637 s\n",
      "Loading dataset from disk.\n",
      "TIMING: dataset construction took 1.562 s\n",
      "Loading dataset from disk.\n",
      "computed_metrics: [0.7826366559485529]\n",
      "TIMING: dataset construction took 0.168 s\n",
      "Loading dataset from disk.\n",
      "TIMING: dataset construction took 1.708 s\n",
      "Loading dataset from disk.\n",
      "TIMING: dataset construction took 1.665 s\n",
      "Loading dataset from disk.\n",
      "computed_metrics: [0.7766688102893891]\n",
      "TIMING: dataset construction took 0.191 s\n",
      "Loading dataset from disk.\n",
      "TIMING: dataset construction took 1.635 s\n",
      "Loading dataset from disk.\n",
      "TIMING: dataset construction took 1.569 s\n",
      "Loading dataset from disk.\n",
      "computed_metrics: [0.759090548211663]\n",
      "TIMING: dataset construction took 0.166 s\n",
      "Loading dataset from disk.\n",
      "TIMING: dataset construction took 1.680 s\n",
      "Loading dataset from disk.\n",
      "TIMING: dataset construction took 1.606 s\n",
      "Loading dataset from disk.\n",
      "computed_metrics: [0.776797068003648]\n",
      "TIMING: dataset construction took 0.201 s\n",
      "Loading dataset from disk.\n",
      "TIMING: dataset construction took 1.659 s\n",
      "Loading dataset from disk.\n",
      "TIMING: dataset construction took 1.650 s\n",
      "Loading dataset from disk.\n",
      "computed_metrics: [0.7933300838499937]\n",
      "TIMING: dataset construction took 0.186 s\n",
      "Loading dataset from disk.\n",
      "TIMING: dataset construction took 1.641 s\n",
      "Loading dataset from disk.\n",
      "TIMING: dataset construction took 1.565 s\n",
      "Loading dataset from disk.\n",
      "computed_metrics: [0.7962273111477094]\n",
      "TIMING: dataset construction took 0.187 s\n",
      "Loading dataset from disk.\n",
      "TIMING: dataset construction took 1.665 s\n",
      "Loading dataset from disk.\n",
      "TIMING: dataset construction took 1.665 s\n",
      "Loading dataset from disk.\n",
      "computed_metrics: [0.7713176041726069]\n",
      "TIMING: dataset construction took 0.182 s\n",
      "Loading dataset from disk.\n",
      "TIMING: dataset construction took 1.632 s\n",
      "Loading dataset from disk.\n",
      "TIMING: dataset construction took 1.673 s\n",
      "Loading dataset from disk.\n",
      "computed_metrics: [0.7855108602926701]\n",
      "TIMING: dataset construction took 0.168 s\n",
      "Loading dataset from disk.\n",
      "TIMING: dataset construction took 1.676 s\n",
      "Loading dataset from disk.\n",
      "TIMING: dataset construction took 1.586 s\n",
      "Loading dataset from disk.\n",
      "computed_metrics: [0.7595439442658092]\n",
      "TIMING: dataset construction took 0.180 s\n",
      "Loading dataset from disk.\n",
      "TIMING: dataset construction took 1.603 s\n",
      "Loading dataset from disk.\n",
      "TIMING: dataset construction took 1.655 s\n",
      "Loading dataset from disk.\n",
      "computed_metrics: [0.7874229907893935]\n",
      "TIMING: dataset construction took 0.162 s\n",
      "Loading dataset from disk.\n",
      "TIMING: dataset construction took 1.662 s\n",
      "Loading dataset from disk.\n",
      "TIMING: dataset construction took 1.699 s\n",
      "Loading dataset from disk.\n",
      "computed_metrics: [0.7679075852476399]\n",
      "TIMING: dataset construction took 0.185 s\n",
      "Loading dataset from disk.\n",
      "TIMING: dataset construction took 1.612 s\n",
      "Loading dataset from disk.\n",
      "TIMING: dataset construction took 1.630 s\n",
      "Loading dataset from disk.\n",
      "computed_metrics: [0.7744035500838808]\n",
      "TIMING: dataset construction took 0.197 s\n",
      "Loading dataset from disk.\n",
      "TIMING: dataset construction took 1.690 s\n",
      "Loading dataset from disk.\n",
      "TIMING: dataset construction took 1.638 s\n",
      "Loading dataset from disk.\n",
      "computed_metrics: [0.7906906318372264]\n",
      "TIMING: dataset construction took 0.203 s\n",
      "Loading dataset from disk.\n",
      "TIMING: dataset construction took 1.606 s\n",
      "Loading dataset from disk.\n",
      "TIMING: dataset construction took 1.554 s\n",
      "Loading dataset from disk.\n",
      "computed_metrics: [0.7740093955163057]\n",
      "TIMING: dataset construction took 0.169 s\n",
      "Loading dataset from disk.\n",
      "TIMING: dataset construction took 1.710 s\n",
      "Loading dataset from disk.\n",
      "TIMING: dataset construction took 1.642 s\n",
      "Loading dataset from disk.\n",
      "computed_metrics: [0.7681087888531619]\n",
      "TIMING: dataset construction took 0.189 s\n",
      "Loading dataset from disk.\n",
      "TIMING: dataset construction took 1.625 s\n",
      "Loading dataset from disk.\n",
      "TIMING: dataset construction took 1.630 s\n",
      "Loading dataset from disk.\n",
      "computed_metrics: [0.8059001890392565]\n",
      "TIMING: dataset construction took 0.185 s\n",
      "Loading dataset from disk.\n",
      "TIMING: dataset construction took 1.615 s\n",
      "Loading dataset from disk.\n",
      "TIMING: dataset construction took 1.643 s\n",
      "Loading dataset from disk.\n",
      "computed_metrics: [0.7452546063064562]\n",
      "TIMING: dataset construction took 0.177 s\n",
      "Loading dataset from disk.\n",
      "TIMING: dataset construction took 1.652 s\n",
      "Loading dataset from disk.\n",
      "TIMING: dataset construction took 1.612 s\n",
      "Loading dataset from disk.\n",
      "computed_metrics: [0.7732890540358266]\n",
      "TIMING: dataset construction took 0.159 s\n",
      "Loading dataset from disk.\n",
      "TIMING: dataset construction took 1.653 s\n",
      "Loading dataset from disk.\n",
      "TIMING: dataset construction took 1.716 s\n",
      "Loading dataset from disk.\n",
      "computed_metrics: [0.7158530708674848]\n",
      "0.1 {'roc mean': 0.7731164873063542, 'roc std': 0.019381973618736673}\n",
      "TIMING: dataset construction took 0.528 s\n",
      "Loading dataset from disk.\n",
      "TIMING: dataset construction took 1.274 s\n",
      "Loading dataset from disk.\n",
      "TIMING: dataset construction took 1.261 s\n",
      "Loading dataset from disk.\n",
      "computed_metrics: [0.8377975770738725]\n",
      "TIMING: dataset construction took 0.567 s\n",
      "Loading dataset from disk.\n",
      "TIMING: dataset construction took 1.187 s\n",
      "Loading dataset from disk.\n",
      "TIMING: dataset construction took 1.237 s\n",
      "Loading dataset from disk.\n",
      "computed_metrics: [0.8429183410417773]\n",
      "TIMING: dataset construction took 0.508 s\n",
      "Loading dataset from disk.\n",
      "TIMING: dataset construction took 1.289 s\n",
      "Loading dataset from disk.\n",
      "TIMING: dataset construction took 1.269 s\n",
      "Loading dataset from disk.\n",
      "computed_metrics: [0.8245027026291067]\n",
      "TIMING: dataset construction took 0.551 s\n",
      "Loading dataset from disk.\n",
      "TIMING: dataset construction took 1.221 s\n",
      "Loading dataset from disk.\n",
      "TIMING: dataset construction took 1.223 s\n",
      "Loading dataset from disk.\n",
      "computed_metrics: [0.8286712588418133]\n",
      "TIMING: dataset construction took 0.506 s\n",
      "Loading dataset from disk.\n",
      "TIMING: dataset construction took 1.334 s\n",
      "Loading dataset from disk.\n",
      "TIMING: dataset construction took 1.288 s\n",
      "Loading dataset from disk.\n",
      "computed_metrics: [0.8316996738439426]\n",
      "TIMING: dataset construction took 0.526 s\n",
      "Loading dataset from disk.\n",
      "TIMING: dataset construction took 1.297 s\n",
      "Loading dataset from disk.\n",
      "TIMING: dataset construction took 1.292 s\n",
      "Loading dataset from disk.\n",
      "computed_metrics: [0.8346165121733304]\n",
      "TIMING: dataset construction took 0.554 s\n",
      "Loading dataset from disk.\n",
      "TIMING: dataset construction took 1.280 s\n",
      "Loading dataset from disk.\n",
      "TIMING: dataset construction took 1.320 s\n",
      "Loading dataset from disk.\n",
      "computed_metrics: [0.8299575978345379]\n",
      "TIMING: dataset construction took 0.522 s\n",
      "Loading dataset from disk.\n",
      "TIMING: dataset construction took 1.280 s\n",
      "Loading dataset from disk.\n",
      "TIMING: dataset construction took 1.272 s\n",
      "Loading dataset from disk.\n",
      "computed_metrics: [0.8114402102678017]\n",
      "TIMING: dataset construction took 0.541 s\n",
      "Loading dataset from disk.\n",
      "TIMING: dataset construction took 1.235 s\n",
      "Loading dataset from disk.\n",
      "TIMING: dataset construction took 1.256 s\n",
      "Loading dataset from disk.\n",
      "computed_metrics: [0.8219289025830046]\n",
      "TIMING: dataset construction took 0.499 s\n",
      "Loading dataset from disk.\n",
      "TIMING: dataset construction took 1.431 s\n",
      "Loading dataset from disk.\n",
      "TIMING: dataset construction took 1.290 s\n",
      "Loading dataset from disk.\n",
      "computed_metrics: [0.8323766734526041]\n",
      "TIMING: dataset construction took 0.541 s\n",
      "Loading dataset from disk.\n",
      "TIMING: dataset construction took 1.236 s\n",
      "Loading dataset from disk.\n",
      "TIMING: dataset construction took 1.241 s\n",
      "Loading dataset from disk.\n",
      "computed_metrics: [0.8066383190672963]\n",
      "TIMING: dataset construction took 0.571 s\n",
      "Loading dataset from disk.\n",
      "TIMING: dataset construction took 1.216 s\n",
      "Loading dataset from disk.\n",
      "TIMING: dataset construction took 1.202 s\n",
      "Loading dataset from disk.\n",
      "computed_metrics: [0.8615540783327345]\n",
      "TIMING: dataset construction took 0.586 s\n",
      "Loading dataset from disk.\n",
      "TIMING: dataset construction took 1.291 s\n",
      "Loading dataset from disk.\n",
      "TIMING: dataset construction took 1.226 s\n",
      "Loading dataset from disk.\n",
      "computed_metrics: [0.8223664510719847]\n",
      "TIMING: dataset construction took 0.541 s\n",
      "Loading dataset from disk.\n",
      "TIMING: dataset construction took 1.266 s\n",
      "Loading dataset from disk.\n",
      "TIMING: dataset construction took 1.214 s\n",
      "Loading dataset from disk.\n",
      "computed_metrics: [0.8445347965894541]\n"
     ]
    },
    {
     "name": "stdout",
     "output_type": "stream",
     "text": [
      "TIMING: dataset construction took 0.532 s\n",
      "Loading dataset from disk.\n",
      "TIMING: dataset construction took 1.305 s\n",
      "Loading dataset from disk.\n",
      "TIMING: dataset construction took 1.403 s\n",
      "Loading dataset from disk.\n",
      "computed_metrics: [0.8105472264905795]\n",
      "TIMING: dataset construction took 0.541 s\n",
      "Loading dataset from disk.\n",
      "TIMING: dataset construction took 1.278 s\n",
      "Loading dataset from disk.\n",
      "TIMING: dataset construction took 1.234 s\n",
      "Loading dataset from disk.\n",
      "computed_metrics: [0.8108824718130252]\n",
      "TIMING: dataset construction took 0.549 s\n",
      "Loading dataset from disk.\n",
      "TIMING: dataset construction took 1.216 s\n",
      "Loading dataset from disk.\n",
      "TIMING: dataset construction took 1.224 s\n",
      "Loading dataset from disk.\n",
      "computed_metrics: [0.8252462457613434]\n",
      "TIMING: dataset construction took 0.517 s\n",
      "Loading dataset from disk.\n",
      "TIMING: dataset construction took 1.264 s\n",
      "Loading dataset from disk.\n",
      "TIMING: dataset construction took 1.266 s\n",
      "Loading dataset from disk.\n",
      "computed_metrics: [0.8225128510976683]\n",
      "TIMING: dataset construction took 0.558 s\n",
      "Loading dataset from disk.\n",
      "TIMING: dataset construction took 1.258 s\n",
      "Loading dataset from disk.\n",
      "TIMING: dataset construction took 1.223 s\n",
      "Loading dataset from disk.\n",
      "computed_metrics: [0.8213419708448118]\n",
      "TIMING: dataset construction took 0.512 s\n",
      "Loading dataset from disk.\n",
      "TIMING: dataset construction took 1.288 s\n",
      "Loading dataset from disk.\n",
      "TIMING: dataset construction took 1.258 s\n",
      "Loading dataset from disk.\n",
      "computed_metrics: [0.8326078582434514]\n",
      "0.3 {'roc mean': 0.827707085952707, 'roc std': 0.012863222703762464}\n",
      "TIMING: dataset construction took 0.896 s\n",
      "Loading dataset from disk.\n",
      "TIMING: dataset construction took 0.931 s\n",
      "Loading dataset from disk.\n",
      "TIMING: dataset construction took 0.886 s\n",
      "Loading dataset from disk.\n",
      "computed_metrics: [0.862905839770947]\n",
      "TIMING: dataset construction took 0.899 s\n",
      "Loading dataset from disk.\n",
      "TIMING: dataset construction took 0.930 s\n",
      "Loading dataset from disk.\n",
      "TIMING: dataset construction took 0.865 s\n",
      "Loading dataset from disk.\n",
      "computed_metrics: [0.8742129118317818]\n",
      "TIMING: dataset construction took 0.871 s\n",
      "Loading dataset from disk.\n",
      "TIMING: dataset construction took 1.002 s\n",
      "Loading dataset from disk.\n",
      "TIMING: dataset construction took 0.910 s\n",
      "Loading dataset from disk.\n",
      "computed_metrics: [0.8639943510246979]\n",
      "TIMING: dataset construction took 0.904 s\n",
      "Loading dataset from disk.\n",
      "TIMING: dataset construction took 0.871 s\n",
      "Loading dataset from disk.\n",
      "TIMING: dataset construction took 0.863 s\n",
      "Loading dataset from disk.\n",
      "computed_metrics: [0.8577829253088518]\n",
      "TIMING: dataset construction took 0.898 s\n",
      "Loading dataset from disk.\n",
      "TIMING: dataset construction took 0.959 s\n",
      "Loading dataset from disk.\n",
      "TIMING: dataset construction took 0.880 s\n",
      "Loading dataset from disk.\n",
      "computed_metrics: [0.8571451119591447]\n",
      "TIMING: dataset construction took 0.875 s\n",
      "Loading dataset from disk.\n",
      "TIMING: dataset construction took 0.917 s\n",
      "Loading dataset from disk.\n",
      "TIMING: dataset construction took 0.902 s\n",
      "Loading dataset from disk.\n",
      "computed_metrics: [0.860493029581775]\n",
      "TIMING: dataset construction took 0.935 s\n",
      "Loading dataset from disk.\n",
      "TIMING: dataset construction took 0.884 s\n",
      "Loading dataset from disk.\n",
      "TIMING: dataset construction took 0.860 s\n",
      "Loading dataset from disk.\n",
      "computed_metrics: [0.8609762521711894]\n",
      "TIMING: dataset construction took 0.842 s\n",
      "Loading dataset from disk.\n",
      "TIMING: dataset construction took 0.938 s\n",
      "Loading dataset from disk.\n",
      "TIMING: dataset construction took 0.917 s\n",
      "Loading dataset from disk.\n",
      "computed_metrics: [0.875861867855569]\n",
      "TIMING: dataset construction took 0.901 s\n",
      "Loading dataset from disk.\n",
      "TIMING: dataset construction took 0.939 s\n",
      "Loading dataset from disk.\n",
      "TIMING: dataset construction took 0.863 s\n",
      "Loading dataset from disk.\n",
      "computed_metrics: [0.8338185707809135]\n",
      "TIMING: dataset construction took 0.918 s\n",
      "Loading dataset from disk.\n",
      "TIMING: dataset construction took 0.885 s\n",
      "Loading dataset from disk.\n",
      "TIMING: dataset construction took 0.875 s\n",
      "Loading dataset from disk.\n",
      "computed_metrics: [0.8586533168180568]\n",
      "TIMING: dataset construction took 0.903 s\n",
      "Loading dataset from disk.\n",
      "TIMING: dataset construction took 0.903 s\n",
      "Loading dataset from disk.\n",
      "TIMING: dataset construction took 0.893 s\n",
      "Loading dataset from disk.\n",
      "computed_metrics: [0.8566581280259646]\n",
      "TIMING: dataset construction took 0.891 s\n",
      "Loading dataset from disk.\n",
      "TIMING: dataset construction took 0.939 s\n",
      "Loading dataset from disk.\n",
      "TIMING: dataset construction took 0.882 s\n",
      "Loading dataset from disk.\n",
      "computed_metrics: [0.8288089631056876]\n",
      "TIMING: dataset construction took 0.912 s\n",
      "Loading dataset from disk.\n",
      "TIMING: dataset construction took 0.872 s\n",
      "Loading dataset from disk.\n",
      "TIMING: dataset construction took 0.863 s\n",
      "Loading dataset from disk.\n",
      "computed_metrics: [0.8339553285818508]\n",
      "TIMING: dataset construction took 0.926 s\n",
      "Loading dataset from disk.\n",
      "TIMING: dataset construction took 0.896 s\n",
      "Loading dataset from disk.\n",
      "TIMING: dataset construction took 0.869 s\n",
      "Loading dataset from disk.\n",
      "computed_metrics: [0.8280260392178554]\n",
      "TIMING: dataset construction took 0.940 s\n",
      "Loading dataset from disk.\n",
      "TIMING: dataset construction took 0.907 s\n",
      "Loading dataset from disk.\n",
      "TIMING: dataset construction took 0.868 s\n",
      "Loading dataset from disk.\n",
      "computed_metrics: [0.8633481115663056]\n",
      "TIMING: dataset construction took 0.900 s\n",
      "Loading dataset from disk.\n",
      "TIMING: dataset construction took 0.893 s\n",
      "Loading dataset from disk.\n",
      "TIMING: dataset construction took 0.918 s\n",
      "Loading dataset from disk.\n",
      "computed_metrics: [0.8683586371447644]\n",
      "TIMING: dataset construction took 0.926 s\n",
      "Loading dataset from disk.\n",
      "TIMING: dataset construction took 0.902 s\n",
      "Loading dataset from disk.\n",
      "TIMING: dataset construction took 0.885 s\n",
      "Loading dataset from disk.\n",
      "computed_metrics: [0.8462462152491055]\n",
      "TIMING: dataset construction took 0.930 s\n",
      "Loading dataset from disk.\n",
      "TIMING: dataset construction took 0.879 s\n",
      "Loading dataset from disk.\n",
      "TIMING: dataset construction took 0.870 s\n",
      "Loading dataset from disk.\n",
      "computed_metrics: [0.8574482902709102]\n",
      "TIMING: dataset construction took 0.946 s\n",
      "Loading dataset from disk.\n",
      "TIMING: dataset construction took 0.848 s\n",
      "Loading dataset from disk.\n",
      "TIMING: dataset construction took 0.840 s\n",
      "Loading dataset from disk.\n",
      "computed_metrics: [0.8503567791787714]\n",
      "TIMING: dataset construction took 0.888 s\n",
      "Loading dataset from disk.\n",
      "TIMING: dataset construction took 0.916 s\n",
      "Loading dataset from disk.\n",
      "TIMING: dataset construction took 0.881 s\n",
      "Loading dataset from disk.\n",
      "computed_metrics: [0.8518855602489995]\n",
      "0.5 {'roc mean': 0.8545468114846569, 'roc std': 0.013610841626666363}\n",
      "TIMING: dataset construction took 1.256 s\n",
      "Loading dataset from disk.\n",
      "TIMING: dataset construction took 0.579 s\n",
      "Loading dataset from disk.\n",
      "TIMING: dataset construction took 0.561 s\n",
      "Loading dataset from disk.\n",
      "computed_metrics: [0.8728583916083916]\n",
      "TIMING: dataset construction took 1.325 s\n",
      "Loading dataset from disk.\n",
      "TIMING: dataset construction took 0.526 s\n",
      "Loading dataset from disk.\n",
      "TIMING: dataset construction took 0.521 s\n",
      "Loading dataset from disk.\n",
      "computed_metrics: [0.8478096074050431]\n",
      "TIMING: dataset construction took 1.190 s\n",
      "Loading dataset from disk.\n",
      "TIMING: dataset construction took 0.582 s\n",
      "Loading dataset from disk.\n",
      "TIMING: dataset construction took 0.600 s\n",
      "Loading dataset from disk.\n",
      "computed_metrics: [0.8758484162895928]\n",
      "TIMING: dataset construction took 1.245 s\n",
      "Loading dataset from disk.\n",
      "TIMING: dataset construction took 0.621 s\n",
      "Loading dataset from disk.\n",
      "TIMING: dataset construction took 0.595 s\n",
      "Loading dataset from disk.\n",
      "computed_metrics: [0.889919244456611]\n",
      "TIMING: dataset construction took 1.295 s\n",
      "Loading dataset from disk.\n",
      "TIMING: dataset construction took 0.568 s\n",
      "Loading dataset from disk.\n",
      "TIMING: dataset construction took 0.545 s\n",
      "Loading dataset from disk.\n",
      "computed_metrics: [0.8610840636157091]\n",
      "TIMING: dataset construction took 1.267 s\n",
      "Loading dataset from disk.\n",
      "TIMING: dataset construction took 0.566 s\n",
      "Loading dataset from disk.\n",
      "TIMING: dataset construction took 0.546 s\n",
      "Loading dataset from disk.\n",
      "computed_metrics: [0.8818859178669938]\n",
      "TIMING: dataset construction took 1.254 s\n",
      "Loading dataset from disk.\n",
      "TIMING: dataset construction took 0.535 s\n",
      "Loading dataset from disk.\n",
      "TIMING: dataset construction took 0.520 s\n",
      "Loading dataset from disk.\n"
     ]
    },
    {
     "name": "stdout",
     "output_type": "stream",
     "text": [
      "computed_metrics: [0.8756564720420141]\n",
      "TIMING: dataset construction took 1.272 s\n",
      "Loading dataset from disk.\n",
      "TIMING: dataset construction took 0.496 s\n",
      "Loading dataset from disk.\n",
      "TIMING: dataset construction took 0.530 s\n",
      "Loading dataset from disk.\n",
      "computed_metrics: [0.8289316239316239]\n",
      "TIMING: dataset construction took 1.281 s\n",
      "Loading dataset from disk.\n",
      "TIMING: dataset construction took 0.593 s\n",
      "Loading dataset from disk.\n",
      "TIMING: dataset construction took 0.537 s\n",
      "Loading dataset from disk.\n",
      "computed_metrics: [0.8826357466063348]\n",
      "TIMING: dataset construction took 1.216 s\n",
      "Loading dataset from disk.\n",
      "TIMING: dataset construction took 0.571 s\n",
      "Loading dataset from disk.\n",
      "TIMING: dataset construction took 0.545 s\n",
      "Loading dataset from disk.\n",
      "computed_metrics: [0.840396808807135]\n",
      "TIMING: dataset construction took 1.276 s\n",
      "Loading dataset from disk.\n",
      "TIMING: dataset construction took 0.516 s\n",
      "Loading dataset from disk.\n",
      "TIMING: dataset construction took 0.515 s\n",
      "Loading dataset from disk.\n",
      "computed_metrics: [0.8788202202361953]\n",
      "TIMING: dataset construction took 1.287 s\n",
      "Loading dataset from disk.\n",
      "TIMING: dataset construction took 0.564 s\n",
      "Loading dataset from disk.\n",
      "TIMING: dataset construction took 0.563 s\n",
      "Loading dataset from disk.\n",
      "computed_metrics: [0.8545523459942548]\n",
      "TIMING: dataset construction took 1.224 s\n",
      "Loading dataset from disk.\n",
      "TIMING: dataset construction took 0.572 s\n",
      "Loading dataset from disk.\n",
      "TIMING: dataset construction took 0.572 s\n",
      "Loading dataset from disk.\n",
      "computed_metrics: [0.8284764648708691]\n",
      "TIMING: dataset construction took 1.277 s\n",
      "Loading dataset from disk.\n",
      "TIMING: dataset construction took 0.527 s\n",
      "Loading dataset from disk.\n",
      "TIMING: dataset construction took 0.509 s\n",
      "Loading dataset from disk.\n",
      "computed_metrics: [0.8664221729125575]\n",
      "TIMING: dataset construction took 1.271 s\n",
      "Loading dataset from disk.\n",
      "TIMING: dataset construction took 0.553 s\n",
      "Loading dataset from disk.\n",
      "TIMING: dataset construction took 0.528 s\n",
      "Loading dataset from disk.\n",
      "computed_metrics: [0.8439621040723981]\n",
      "TIMING: dataset construction took 1.227 s\n",
      "Loading dataset from disk.\n",
      "TIMING: dataset construction took 0.602 s\n",
      "Loading dataset from disk.\n",
      "TIMING: dataset construction took 0.555 s\n",
      "Loading dataset from disk.\n",
      "computed_metrics: [0.8758870281010502]\n",
      "TIMING: dataset construction took 1.255 s\n",
      "Loading dataset from disk.\n",
      "TIMING: dataset construction took 0.576 s\n",
      "Loading dataset from disk.\n",
      "TIMING: dataset construction took 0.588 s\n",
      "Loading dataset from disk.\n",
      "computed_metrics: [0.825206043956044]\n",
      "TIMING: dataset construction took 1.249 s\n",
      "Loading dataset from disk.\n",
      "TIMING: dataset construction took 0.519 s\n",
      "Loading dataset from disk.\n",
      "TIMING: dataset construction took 0.561 s\n",
      "Loading dataset from disk.\n",
      "computed_metrics: [0.8744326923076924]\n",
      "TIMING: dataset construction took 1.274 s\n",
      "Loading dataset from disk.\n",
      "TIMING: dataset construction took 0.597 s\n",
      "Loading dataset from disk.\n",
      "TIMING: dataset construction took 0.532 s\n",
      "Loading dataset from disk.\n",
      "computed_metrics: [0.8761526639344264]\n",
      "TIMING: dataset construction took 1.292 s\n",
      "Loading dataset from disk.\n",
      "TIMING: dataset construction took 0.563 s\n",
      "Loading dataset from disk.\n",
      "TIMING: dataset construction took 0.511 s\n",
      "Loading dataset from disk.\n",
      "computed_metrics: [0.868466469428008]\n",
      "0.7 {'roc mean': 0.8624702249221473, 'roc std': 0.01950053282351519}\n",
      "TIMING: dataset construction took 1.659 s\n",
      "Loading dataset from disk.\n",
      "TIMING: dataset construction took 0.155 s\n",
      "Loading dataset from disk.\n",
      "TIMING: dataset construction took 0.156 s\n",
      "Loading dataset from disk.\n",
      "computed_metrics: [0.9131868131868133]\n",
      "TIMING: dataset construction took 1.654 s\n",
      "Loading dataset from disk.\n",
      "TIMING: dataset construction took 0.214 s\n",
      "Loading dataset from disk.\n",
      "TIMING: dataset construction took 0.207 s\n",
      "Loading dataset from disk.\n",
      "computed_metrics: [0.8743440233236152]\n",
      "TIMING: dataset construction took 1.651 s\n",
      "Loading dataset from disk.\n",
      "TIMING: dataset construction took 0.196 s\n",
      "Loading dataset from disk.\n",
      "TIMING: dataset construction took 0.195 s\n",
      "Loading dataset from disk.\n",
      "computed_metrics: [0.8918045112781955]\n",
      "TIMING: dataset construction took 1.658 s\n",
      "Loading dataset from disk.\n",
      "TIMING: dataset construction took 0.183 s\n",
      "Loading dataset from disk.\n",
      "TIMING: dataset construction took 0.182 s\n",
      "Loading dataset from disk.\n",
      "computed_metrics: [0.9092621664050236]\n",
      "TIMING: dataset construction took 1.663 s\n",
      "Loading dataset from disk.\n",
      "TIMING: dataset construction took 0.192 s\n",
      "Loading dataset from disk.\n",
      "TIMING: dataset construction took 0.181 s\n",
      "Loading dataset from disk.\n",
      "computed_metrics: [0.855026455026455]\n",
      "TIMING: dataset construction took 1.711 s\n",
      "Loading dataset from disk.\n",
      "TIMING: dataset construction took 0.164 s\n",
      "Loading dataset from disk.\n",
      "TIMING: dataset construction took 0.162 s\n",
      "Loading dataset from disk.\n",
      "computed_metrics: [0.8244306418219463]\n",
      "TIMING: dataset construction took 1.665 s\n",
      "Loading dataset from disk.\n",
      "TIMING: dataset construction took 0.214 s\n",
      "Loading dataset from disk.\n",
      "TIMING: dataset construction took 0.202 s\n",
      "Loading dataset from disk.\n",
      "computed_metrics: [0.9225108225108225]\n",
      "TIMING: dataset construction took 1.681 s\n",
      "Loading dataset from disk.\n",
      "TIMING: dataset construction took 0.159 s\n",
      "Loading dataset from disk.\n",
      "TIMING: dataset construction took 0.156 s\n",
      "Loading dataset from disk.\n",
      "computed_metrics: [0.8747252747252747]\n",
      "TIMING: dataset construction took 1.636 s\n",
      "Loading dataset from disk.\n",
      "TIMING: dataset construction took 0.213 s\n",
      "Loading dataset from disk.\n",
      "TIMING: dataset construction took 0.209 s\n",
      "Loading dataset from disk.\n",
      "computed_metrics: [0.8621231979030144]\n",
      "TIMING: dataset construction took 1.612 s\n",
      "Loading dataset from disk.\n",
      "TIMING: dataset construction took 0.205 s\n",
      "Loading dataset from disk.\n",
      "TIMING: dataset construction took 0.198 s\n",
      "Loading dataset from disk.\n",
      "computed_metrics: [0.8780166435506241]\n",
      "TIMING: dataset construction took 1.643 s\n",
      "Loading dataset from disk.\n",
      "TIMING: dataset construction took 0.212 s\n",
      "Loading dataset from disk.\n",
      "TIMING: dataset construction took 0.201 s\n",
      "Loading dataset from disk.\n",
      "computed_metrics: [0.823019801980198]\n",
      "TIMING: dataset construction took 1.626 s\n",
      "Loading dataset from disk.\n",
      "TIMING: dataset construction took 0.177 s\n",
      "Loading dataset from disk.\n",
      "TIMING: dataset construction took 0.178 s\n",
      "Loading dataset from disk.\n",
      "computed_metrics: [0.9295566502463053]\n",
      "TIMING: dataset construction took 1.666 s\n",
      "Loading dataset from disk.\n",
      "TIMING: dataset construction took 0.183 s\n",
      "Loading dataset from disk.\n",
      "TIMING: dataset construction took 0.186 s\n",
      "Loading dataset from disk.\n",
      "computed_metrics: [0.8551724137931035]\n",
      "TIMING: dataset construction took 1.640 s\n",
      "Loading dataset from disk.\n",
      "TIMING: dataset construction took 0.187 s\n",
      "Loading dataset from disk.\n",
      "TIMING: dataset construction took 0.187 s\n",
      "Loading dataset from disk.\n",
      "computed_metrics: [0.888015873015873]\n",
      "TIMING: dataset construction took 1.727 s\n",
      "Loading dataset from disk.\n",
      "TIMING: dataset construction took 0.188 s\n",
      "Loading dataset from disk.\n",
      "TIMING: dataset construction took 0.178 s\n",
      "Loading dataset from disk.\n",
      "computed_metrics: [0.8945326278659611]\n",
      "TIMING: dataset construction took 1.659 s\n",
      "Loading dataset from disk.\n",
      "TIMING: dataset construction took 0.163 s\n",
      "Loading dataset from disk.\n",
      "TIMING: dataset construction took 0.162 s\n",
      "Loading dataset from disk.\n",
      "computed_metrics: [0.9060924369747899]\n",
      "TIMING: dataset construction took 1.670 s\n",
      "Loading dataset from disk.\n",
      "TIMING: dataset construction took 0.178 s\n",
      "Loading dataset from disk.\n",
      "TIMING: dataset construction took 0.175 s\n",
      "Loading dataset from disk.\n",
      "computed_metrics: [0.8959183673469387]\n",
      "TIMING: dataset construction took 1.710 s\n",
      "Loading dataset from disk.\n",
      "TIMING: dataset construction took 0.191 s\n",
      "Loading dataset from disk.\n",
      "TIMING: dataset construction took 0.182 s\n",
      "Loading dataset from disk.\n",
      "computed_metrics: [0.879734219269103]\n",
      "TIMING: dataset construction took 1.693 s\n",
      "Loading dataset from disk.\n",
      "TIMING: dataset construction took 0.175 s\n",
      "Loading dataset from disk.\n",
      "TIMING: dataset construction took 0.175 s\n",
      "Loading dataset from disk.\n",
      "computed_metrics: [0.8839059674502712]\n",
      "TIMING: dataset construction took 1.654 s\n",
      "Loading dataset from disk.\n",
      "TIMING: dataset construction took 0.164 s\n",
      "Loading dataset from disk.\n",
      "TIMING: dataset construction took 0.164 s\n",
      "Loading dataset from disk.\n",
      "computed_metrics: [0.8322981366459627]\n",
      "0.9 {'roc mean': 0.8796838522160145, 'roc std': 0.029846762225770766}\n"
     ]
    }
   ],
   "source": [
    "for rate in rates:\n",
    "    score_dic = evaluate_classification_single_dc(dataset, rate, 20)\n",
    "    print(rate, score_dic)"
   ]
  },
  {
   "cell_type": "code",
   "execution_count": null,
   "metadata": {},
   "outputs": [],
   "source": []
  }
 ],
 "metadata": {
  "kernelspec": {
   "display_name": "Python 3",
   "language": "python",
   "name": "python3"
  },
  "language_info": {
   "codemirror_mode": {
    "name": "ipython",
    "version": 3
   },
   "file_extension": ".py",
   "mimetype": "text/x-python",
   "name": "python",
   "nbconvert_exporter": "python",
   "pygments_lexer": "ipython3",
   "version": "3.6.6"
  }
 },
 "nbformat": 4,
 "nbformat_minor": 2
}
