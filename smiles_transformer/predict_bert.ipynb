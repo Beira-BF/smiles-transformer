{
 "cells": [
  {
   "cell_type": "markdown",
   "metadata": {},
   "source": [
    "# Performance comparaison\n",
    "\n",
    "| Fingerprint | MLP | RF |  \n",
    "|:-:|:-:|:-:|  \n",
    "|BERT on GDB17|0.214|0.655| \n",
    "|BERT MSM|0.784||  \n",
    "|ECFP| 0.740 | 0.659 |\n",
    "|Can2Can|0.7176||\n",
    "|Enum2Enum|0.725||\n",
    "|Transformer|0.862||\n",
    "| NFP| 0.8845 |  |"
   ]
  },
  {
   "cell_type": "code",
   "execution_count": 1,
   "metadata": {},
   "outputs": [],
   "source": [
    "import os\n",
    "import numpy as np\n",
    "import pandas as pd\n",
    "import matplotlib.pyplot as plt\n",
    "from sklearn.ensemble import RandomForestRegressor\n",
    "from sklearn.neural_network import MLPRegressor\n",
    "from sklearn.model_selection import train_test_split, GridSearchCV\n",
    "from sklearn.metrics import mean_squared_error, r2_score\n",
    "import torch\n",
    "import optuna\n",
    "\n",
    "from bert import BERT\n",
    "from build_vocab import WordVocab\n",
    "from utils import split"
   ]
  },
  {
   "cell_type": "code",
   "execution_count": 2,
   "metadata": {},
   "outputs": [],
   "source": [
    "pad_index = 0\n",
    "unk_index = 1\n",
    "eos_index = 2\n",
    "sos_index = 3\n",
    "mask_index = 4"
   ]
  },
  {
   "cell_type": "code",
   "execution_count": 3,
   "metadata": {},
   "outputs": [
    {
     "data": {
      "text/html": [
       "<div>\n",
       "<style scoped>\n",
       "    .dataframe tbody tr th:only-of-type {\n",
       "        vertical-align: middle;\n",
       "    }\n",
       "\n",
       "    .dataframe tbody tr th {\n",
       "        vertical-align: top;\n",
       "    }\n",
       "\n",
       "    .dataframe thead th {\n",
       "        text-align: right;\n",
       "    }\n",
       "</style>\n",
       "<table border=\"1\" class=\"dataframe\">\n",
       "  <thead>\n",
       "    <tr style=\"text-align: right;\">\n",
       "      <th></th>\n",
       "      <th>SMILES</th>\n",
       "      <th>unknown</th>\n",
       "      <th>solubility</th>\n",
       "      <th>processed_smiles</th>\n",
       "      <th>spaced</th>\n",
       "    </tr>\n",
       "  </thead>\n",
       "  <tbody>\n",
       "    <tr>\n",
       "      <th>0</th>\n",
       "      <td>[nH0]1c(SC)c2c([nH0]cc[nH0]2)[nH0]c1</td>\n",
       "      <td>6966-78-5</td>\n",
       "      <td>-2.36</td>\n",
       "      <td>[ n H 0 ] 1 c ( S C ) c 2 c ( [ n H 0 ] c c [ ...</td>\n",
       "      <td>[ n H 0 ] 1 c ( S C ) c 2 c ( [ n H 0 ] c c [ ...</td>\n",
       "    </tr>\n",
       "    <tr>\n",
       "      <th>1</th>\n",
       "      <td>CCC(C)Cl</td>\n",
       "      <td>78-86-4</td>\n",
       "      <td>-1.96</td>\n",
       "      <td>C C C ( C ) Cl</td>\n",
       "      <td>C C C ( C ) C l</td>\n",
       "    </tr>\n",
       "    <tr>\n",
       "      <th>2</th>\n",
       "      <td>O=C(NC(=O)c1ccccc1)c1ccccc1</td>\n",
       "      <td>614-28-8</td>\n",
       "      <td>-2.27</td>\n",
       "      <td>O = C ( N C ( = O ) c 1 c c c c c 1 ) c 1 c c ...</td>\n",
       "      <td>O = C ( N C ( = O ) c 1 c c c c c 1 ) c 1 c c ...</td>\n",
       "    </tr>\n",
       "    <tr>\n",
       "      <th>3</th>\n",
       "      <td>CC(C(C)(C)C)O</td>\n",
       "      <td>464-07-3</td>\n",
       "      <td>-0.62</td>\n",
       "      <td>C C ( C ( C ) ( C ) C ) O</td>\n",
       "      <td>C C ( C ( C ) ( C ) C ) O</td>\n",
       "    </tr>\n",
       "    <tr>\n",
       "      <th>4</th>\n",
       "      <td>[O-][N+](c1c(O)cccc1)=O</td>\n",
       "      <td>88-75-5</td>\n",
       "      <td>-1.74</td>\n",
       "      <td>[ O- ] [ N+ ] ( c 1 c ( O ) c c c c 1 ) = O</td>\n",
       "      <td>[ O - ] [ N + ] ( c 1 c ( O ) c c c c 1 ) = O</td>\n",
       "    </tr>\n",
       "  </tbody>\n",
       "</table>\n",
       "</div>"
      ],
      "text/plain": [
       "                                 SMILES    unknown  solubility  \\\n",
       "0  [nH0]1c(SC)c2c([nH0]cc[nH0]2)[nH0]c1  6966-78-5       -2.36   \n",
       "1                              CCC(C)Cl    78-86-4       -1.96   \n",
       "2           O=C(NC(=O)c1ccccc1)c1ccccc1   614-28-8       -2.27   \n",
       "3                         CC(C(C)(C)C)O   464-07-3       -0.62   \n",
       "4               [O-][N+](c1c(O)cccc1)=O    88-75-5       -1.74   \n",
       "\n",
       "                                    processed_smiles  \\\n",
       "0  [ n H 0 ] 1 c ( S C ) c 2 c ( [ n H 0 ] c c [ ...   \n",
       "1                                     C C C ( C ) Cl   \n",
       "2  O = C ( N C ( = O ) c 1 c c c c c 1 ) c 1 c c ...   \n",
       "3                          C C ( C ( C ) ( C ) C ) O   \n",
       "4        [ O- ] [ N+ ] ( c 1 c ( O ) c c c c 1 ) = O   \n",
       "\n",
       "                                              spaced  \n",
       "0  [ n H 0 ] 1 c ( S C ) c 2 c ( [ n H 0 ] c c [ ...  \n",
       "1                                    C C C ( C ) C l  \n",
       "2  O = C ( N C ( = O ) c 1 c c c c c 1 ) c 1 c c ...  \n",
       "3                          C C ( C ( C ) ( C ) C ) O  \n",
       "4      [ O - ] [ N + ] ( c 1 c ( O ) c c c c 1 ) = O  "
      ]
     },
     "execution_count": 3,
     "metadata": {},
     "output_type": "execute_result"
    }
   ],
   "source": [
    "df_train = pd.read_csv('data/sol_train.csv')\n",
    "df_test = pd.read_csv('data/sol_test.csv')\n",
    "df_train.head()"
   ]
  },
  {
   "cell_type": "code",
   "execution_count": 4,
   "metadata": {},
   "outputs": [],
   "source": [
    "x_train = [split(sm) for sm in df_train['SMILES']]\n",
    "y_train = df_train['solubility']\n",
    "x_test = [split(sm) for sm in df_test['SMILES']]\n",
    "y_test = df_test['solubility']"
   ]
  },
  {
   "cell_type": "code",
   "execution_count": 5,
   "metadata": {},
   "outputs": [],
   "source": [
    "vocab = WordVocab.load_vocab('data/vocab.pkl')"
   ]
  },
  {
   "cell_type": "code",
   "execution_count": 6,
   "metadata": {},
   "outputs": [],
   "source": [
    "def get_inputs(sm):\n",
    "    seq_len = 220\n",
    "    ids = [vocab.stoi.get(token, unk_index) for token in sm.split()]\n",
    "    ids = [sos_index] + ids + [eos_index] + [eos_index]\n",
    "    seg = [1]*len(ids)\n",
    "    padding = [pad_index]*(seq_len - len(ids))\n",
    "    ids.extend(padding), seg.extend(padding)\n",
    "    \n",
    "    return ids, seg"
   ]
  },
  {
   "cell_type": "code",
   "execution_count": 7,
   "metadata": {},
   "outputs": [],
   "source": [
    "def get_array(x):\n",
    "    x_id, x_seg = [], []\n",
    "    for sm in x:\n",
    "        a,b = get_inputs(sm)\n",
    "        x_id.append(a)\n",
    "        x_seg.append(b)\n",
    "    return torch.tensor(x_id), torch.tensor(x_seg)\n",
    "    \n",
    "xid_train, xseg_train = get_array(x_train)\n",
    "xid_test, xseg_test = get_array(x_test)"
   ]
  },
  {
   "cell_type": "code",
   "execution_count": 8,
   "metadata": {},
   "outputs": [
    {
     "name": "stdout",
     "output_type": "stream",
     "text": [
      "torch.Size([322, 220])\n",
      "torch.Size([322, 220])\n"
     ]
    }
   ],
   "source": [
    "print(xid_test.shape)\n",
    "print(xseg_test.shape)"
   ]
  },
  {
   "cell_type": "markdown",
   "metadata": {},
   "source": [
    "# Encode to fingerprint"
   ]
  },
  {
   "cell_type": "code",
   "execution_count": 32,
   "metadata": {},
   "outputs": [
    {
     "data": {
      "text/plain": [
       "BERT(\n",
       "  (embedding): BERTEmbedding(\n",
       "    (token): TokenEmbedding(45, 256, padding_idx=0)\n",
       "    (position): PositionalEmbedding()\n",
       "    (segment): SegmentEmbedding(3, 256, padding_idx=0)\n",
       "    (dropout): Dropout(p=0)\n",
       "  )\n",
       "  (transformer_blocks): ModuleList(\n",
       "    (0): TransformerBlock(\n",
       "      (attention): MultiHeadedAttention(\n",
       "        (linear_layers): ModuleList(\n",
       "          (0): Linear(in_features=256, out_features=256, bias=True)\n",
       "          (1): Linear(in_features=256, out_features=256, bias=True)\n",
       "          (2): Linear(in_features=256, out_features=256, bias=True)\n",
       "        )\n",
       "        (output_linear): Linear(in_features=256, out_features=256, bias=True)\n",
       "        (attention): Attention()\n",
       "        (dropout): Dropout(p=0)\n",
       "      )\n",
       "      (feed_forward): PositionwiseFeedForward(\n",
       "        (w_1): Linear(in_features=256, out_features=1024, bias=True)\n",
       "        (w_2): Linear(in_features=1024, out_features=256, bias=True)\n",
       "        (dropout): Dropout(p=0)\n",
       "        (activation): GELU()\n",
       "      )\n",
       "      (input_sublayer): SublayerConnection(\n",
       "        (norm): LayerNorm()\n",
       "        (dropout): Dropout(p=0)\n",
       "      )\n",
       "      (output_sublayer): SublayerConnection(\n",
       "        (norm): LayerNorm()\n",
       "        (dropout): Dropout(p=0)\n",
       "      )\n",
       "      (dropout): Dropout(p=0)\n",
       "    )\n",
       "    (1): TransformerBlock(\n",
       "      (attention): MultiHeadedAttention(\n",
       "        (linear_layers): ModuleList(\n",
       "          (0): Linear(in_features=256, out_features=256, bias=True)\n",
       "          (1): Linear(in_features=256, out_features=256, bias=True)\n",
       "          (2): Linear(in_features=256, out_features=256, bias=True)\n",
       "        )\n",
       "        (output_linear): Linear(in_features=256, out_features=256, bias=True)\n",
       "        (attention): Attention()\n",
       "        (dropout): Dropout(p=0)\n",
       "      )\n",
       "      (feed_forward): PositionwiseFeedForward(\n",
       "        (w_1): Linear(in_features=256, out_features=1024, bias=True)\n",
       "        (w_2): Linear(in_features=1024, out_features=256, bias=True)\n",
       "        (dropout): Dropout(p=0)\n",
       "        (activation): GELU()\n",
       "      )\n",
       "      (input_sublayer): SublayerConnection(\n",
       "        (norm): LayerNorm()\n",
       "        (dropout): Dropout(p=0)\n",
       "      )\n",
       "      (output_sublayer): SublayerConnection(\n",
       "        (norm): LayerNorm()\n",
       "        (dropout): Dropout(p=0)\n",
       "      )\n",
       "      (dropout): Dropout(p=0)\n",
       "    )\n",
       "    (2): TransformerBlock(\n",
       "      (attention): MultiHeadedAttention(\n",
       "        (linear_layers): ModuleList(\n",
       "          (0): Linear(in_features=256, out_features=256, bias=True)\n",
       "          (1): Linear(in_features=256, out_features=256, bias=True)\n",
       "          (2): Linear(in_features=256, out_features=256, bias=True)\n",
       "        )\n",
       "        (output_linear): Linear(in_features=256, out_features=256, bias=True)\n",
       "        (attention): Attention()\n",
       "        (dropout): Dropout(p=0)\n",
       "      )\n",
       "      (feed_forward): PositionwiseFeedForward(\n",
       "        (w_1): Linear(in_features=256, out_features=1024, bias=True)\n",
       "        (w_2): Linear(in_features=1024, out_features=256, bias=True)\n",
       "        (dropout): Dropout(p=0)\n",
       "        (activation): GELU()\n",
       "      )\n",
       "      (input_sublayer): SublayerConnection(\n",
       "        (norm): LayerNorm()\n",
       "        (dropout): Dropout(p=0)\n",
       "      )\n",
       "      (output_sublayer): SublayerConnection(\n",
       "        (norm): LayerNorm()\n",
       "        (dropout): Dropout(p=0)\n",
       "      )\n",
       "      (dropout): Dropout(p=0)\n",
       "    )\n",
       "    (3): TransformerBlock(\n",
       "      (attention): MultiHeadedAttention(\n",
       "        (linear_layers): ModuleList(\n",
       "          (0): Linear(in_features=256, out_features=256, bias=True)\n",
       "          (1): Linear(in_features=256, out_features=256, bias=True)\n",
       "          (2): Linear(in_features=256, out_features=256, bias=True)\n",
       "        )\n",
       "        (output_linear): Linear(in_features=256, out_features=256, bias=True)\n",
       "        (attention): Attention()\n",
       "        (dropout): Dropout(p=0)\n",
       "      )\n",
       "      (feed_forward): PositionwiseFeedForward(\n",
       "        (w_1): Linear(in_features=256, out_features=1024, bias=True)\n",
       "        (w_2): Linear(in_features=1024, out_features=256, bias=True)\n",
       "        (dropout): Dropout(p=0)\n",
       "        (activation): GELU()\n",
       "      )\n",
       "      (input_sublayer): SublayerConnection(\n",
       "        (norm): LayerNorm()\n",
       "        (dropout): Dropout(p=0)\n",
       "      )\n",
       "      (output_sublayer): SublayerConnection(\n",
       "        (norm): LayerNorm()\n",
       "        (dropout): Dropout(p=0)\n",
       "      )\n",
       "      (dropout): Dropout(p=0)\n",
       "    )\n",
       "  )\n",
       ")"
      ]
     },
     "execution_count": 32,
     "metadata": {},
     "output_type": "execute_result"
    }
   ],
   "source": [
    "# model = BERT(len(vocab), hidden=256, n_layers=4, attn_heads=4, dropout=0)\n",
    "# model.load_state_dict(torch.load('../result/GDB17_embed20/ep_29.pkl'))\n",
    "# model.eval()"
   ]
  },
  {
   "cell_type": "code",
   "execution_count": 9,
   "metadata": {},
   "outputs": [
    {
     "ename": "RuntimeError",
     "evalue": "Error(s) in loading state_dict for BERT:\n\tsize mismatch for embedding.position.pe: copying a param with shape torch.Size([1, 512, 256]) from checkpoint, the shape in current model is torch.Size([1, 220, 256]).",
     "output_type": "error",
     "traceback": [
      "\u001b[0;31m---------------------------------------------------------------------------\u001b[0m",
      "\u001b[0;31mRuntimeError\u001b[0m                              Traceback (most recent call last)",
      "\u001b[0;32m<ipython-input-9-44b137f950cc>\u001b[0m in \u001b[0;36m<module>\u001b[0;34m\u001b[0m\n\u001b[1;32m      1\u001b[0m \u001b[0mmodel\u001b[0m \u001b[0;34m=\u001b[0m \u001b[0mBERT\u001b[0m\u001b[0;34m(\u001b[0m\u001b[0mlen\u001b[0m\u001b[0;34m(\u001b[0m\u001b[0mvocab\u001b[0m\u001b[0;34m)\u001b[0m\u001b[0;34m,\u001b[0m \u001b[0mhidden\u001b[0m\u001b[0;34m=\u001b[0m\u001b[0;36m256\u001b[0m\u001b[0;34m,\u001b[0m \u001b[0mn_layers\u001b[0m\u001b[0;34m=\u001b[0m\u001b[0;36m7\u001b[0m\u001b[0;34m,\u001b[0m \u001b[0mattn_heads\u001b[0m\u001b[0;34m=\u001b[0m\u001b[0;36m4\u001b[0m\u001b[0;34m,\u001b[0m \u001b[0mdropout\u001b[0m\u001b[0;34m=\u001b[0m\u001b[0;36m0\u001b[0m\u001b[0;34m)\u001b[0m\u001b[0;34m\u001b[0m\u001b[0m\n\u001b[0;32m----> 2\u001b[0;31m \u001b[0mmodel\u001b[0m\u001b[0;34m.\u001b[0m\u001b[0mload_state_dict\u001b[0m\u001b[0;34m(\u001b[0m\u001b[0mtorch\u001b[0m\u001b[0;34m.\u001b[0m\u001b[0mload\u001b[0m\u001b[0;34m(\u001b[0m\u001b[0;34m'../result/chembl/ep_29.pkl'\u001b[0m\u001b[0;34m)\u001b[0m\u001b[0;34m)\u001b[0m\u001b[0;34m\u001b[0m\u001b[0m\n\u001b[0m\u001b[1;32m      3\u001b[0m \u001b[0mmodel\u001b[0m\u001b[0;34m.\u001b[0m\u001b[0meval\u001b[0m\u001b[0;34m(\u001b[0m\u001b[0;34m)\u001b[0m\u001b[0;34m\u001b[0m\u001b[0m\n",
      "\u001b[0;32m~/anaconda3/lib/python3.6/site-packages/torch/nn/modules/module.py\u001b[0m in \u001b[0;36mload_state_dict\u001b[0;34m(self, state_dict, strict)\u001b[0m\n\u001b[1;32m    767\u001b[0m         \u001b[0;32mif\u001b[0m \u001b[0mlen\u001b[0m\u001b[0;34m(\u001b[0m\u001b[0merror_msgs\u001b[0m\u001b[0;34m)\u001b[0m \u001b[0;34m>\u001b[0m \u001b[0;36m0\u001b[0m\u001b[0;34m:\u001b[0m\u001b[0;34m\u001b[0m\u001b[0m\n\u001b[1;32m    768\u001b[0m             raise RuntimeError('Error(s) in loading state_dict for {}:\\n\\t{}'.format(\n\u001b[0;32m--> 769\u001b[0;31m                                self.__class__.__name__, \"\\n\\t\".join(error_msgs)))\n\u001b[0m\u001b[1;32m    770\u001b[0m \u001b[0;34m\u001b[0m\u001b[0m\n\u001b[1;32m    771\u001b[0m     \u001b[0;32mdef\u001b[0m \u001b[0m_named_members\u001b[0m\u001b[0;34m(\u001b[0m\u001b[0mself\u001b[0m\u001b[0;34m,\u001b[0m \u001b[0mget_members_fn\u001b[0m\u001b[0;34m,\u001b[0m \u001b[0mprefix\u001b[0m\u001b[0;34m=\u001b[0m\u001b[0;34m''\u001b[0m\u001b[0;34m,\u001b[0m \u001b[0mrecurse\u001b[0m\u001b[0;34m=\u001b[0m\u001b[0;32mTrue\u001b[0m\u001b[0;34m)\u001b[0m\u001b[0;34m:\u001b[0m\u001b[0;34m\u001b[0m\u001b[0m\n",
      "\u001b[0;31mRuntimeError\u001b[0m: Error(s) in loading state_dict for BERT:\n\tsize mismatch for embedding.position.pe: copying a param with shape torch.Size([1, 512, 256]) from checkpoint, the shape in current model is torch.Size([1, 220, 256])."
     ]
    }
   ],
   "source": [
    "model = BERT(len(vocab), hidden=256, n_layers=7, attn_heads=4, dropout=0)\n",
    "model.load_state_dict(torch.load('../result/chembl/ep_29.pkl'))\n",
    "model.eval()"
   ]
  },
  {
   "cell_type": "code",
   "execution_count": 11,
   "metadata": {},
   "outputs": [],
   "source": [
    "del df_test, df_train, x_train, x_test"
   ]
  },
  {
   "cell_type": "code",
   "execution_count": 12,
   "metadata": {},
   "outputs": [],
   "source": [
    "st,ed = 0,100\n",
    "X_train = model.encode(xid_train[st:ed], xseg_train[st:ed]).detach().numpy()\n",
    "while ed<len(xid_train):\n",
    "    st += 100\n",
    "    ed += 100\n",
    "    X_train = np.vstack([X_train, model.encode(xid_train[st:ed], xseg_train[st:ed]).detach().numpy()])"
   ]
  },
  {
   "cell_type": "code",
   "execution_count": 13,
   "metadata": {},
   "outputs": [],
   "source": [
    "st,ed = 0,100\n",
    "X_test = model.encode(xid_test[st:ed], xseg_test[st:ed]).detach().numpy()\n",
    "while ed<len(xid_test):\n",
    "    st += 100\n",
    "    ed += 100\n",
    "    X_test = np.vstack([X_test, model.encode(xid_test[st:ed], xseg_test[st:ed]).detach().numpy()])"
   ]
  },
  {
   "cell_type": "code",
   "execution_count": 14,
   "metadata": {},
   "outputs": [
    {
     "data": {
      "text/plain": [
       "(968, 220, 512)"
      ]
     },
     "execution_count": 14,
     "metadata": {},
     "output_type": "execute_result"
    }
   ],
   "source": [
    "X_train.shape"
   ]
  },
  {
   "cell_type": "code",
   "execution_count": 15,
   "metadata": {},
   "outputs": [],
   "source": [
    "# X_train = np.mean(X_train, axis=1)\n",
    "# X_test = np.mean(X_test, axis=1)\n",
    "X_train = X_train[:,0,:]\n",
    "X_test = X_test[:,0,:]\n",
    "#y_train = df_train['solubility']\n",
    "#y_test = df_test['solubility']"
   ]
  },
  {
   "cell_type": "markdown",
   "metadata": {},
   "source": [
    "# Prediction\n",
    "### MLP"
   ]
  },
  {
   "cell_type": "code",
   "execution_count": 27,
   "metadata": {},
   "outputs": [
    {
     "name": "stdout",
     "output_type": "stream",
     "text": [
      "Test R2: 0.2714\n",
      "Test MSE: 2.9747\n"
     ]
    }
   ],
   "source": [
    "# Default\n",
    "mse = 0\n",
    "r2 = 0\n",
    "n = 10\n",
    "\n",
    "for _ in range(n):\n",
    "    MLP = MLPRegressor()\n",
    "    MLP.fit(X_train, y_train)\n",
    "    y_pred = MLP.predict(X_test)\n",
    "    r2 += r2_score(y_test, y_pred)\n",
    "    mse += mean_squared_error(y_test, y_pred)\n",
    "\n",
    "print(\"Test R2: {:.4f}\".format(r2/n))\n",
    "print(\"Test MSE: {:.4f}\".format(mse/n))"
   ]
  },
  {
   "cell_type": "code",
   "execution_count": 17,
   "metadata": {
    "scrolled": true
   },
   "outputs": [
    {
     "name": "stderr",
     "output_type": "stream",
     "text": [
      "[I 2019-03-25 19:48:41,781] Finished a trial resulted in value: 3.294587534860959. Current best value is 3.294587534860959 with parameters: {'n_layers': 1, 'n_units_l0': 21.548070178061735}.\n",
      "/home/honda/anaconda3/lib/python3.6/site-packages/sklearn/neural_network/multilayer_perceptron.py:562: ConvergenceWarning: Stochastic Optimizer: Maximum iterations (200) reached and the optimization hasn't converged yet.\n",
      "  % self.max_iter, ConvergenceWarning)\n",
      "[I 2019-03-25 19:48:48,786] Finished a trial resulted in value: 3.346919251293162. Current best value is 3.294587534860959 with parameters: {'n_layers': 1, 'n_units_l0': 21.548070178061735}.\n",
      "[I 2019-03-25 19:49:06,497] Finished a trial resulted in value: 3.4249313592484554. Current best value is 3.294587534860959 with parameters: {'n_layers': 1, 'n_units_l0': 21.548070178061735}.\n",
      "[I 2019-03-25 19:49:20,443] Finished a trial resulted in value: 3.210218557039477. Current best value is 3.210218557039477 with parameters: {'n_layers': 3, 'n_units_l0': 18.20941407884273, 'n_units_l1': 36.34818064821991, 'n_units_l2': 305.77959014321476}.\n",
      "/home/honda/anaconda3/lib/python3.6/site-packages/sklearn/neural_network/multilayer_perceptron.py:562: ConvergenceWarning: Stochastic Optimizer: Maximum iterations (200) reached and the optimization hasn't converged yet.\n",
      "  % self.max_iter, ConvergenceWarning)\n",
      "[I 2019-03-25 19:49:31,757] Finished a trial resulted in value: 3.067322517603933. Current best value is 3.067322517603933 with parameters: {'n_layers': 2, 'n_units_l0': 27.51841705528494, 'n_units_l1': 6.288112447731974}.\n",
      "[I 2019-03-25 19:49:46,867] Finished a trial resulted in value: 3.0044110072556336. Current best value is 3.0044110072556336 with parameters: {'n_layers': 3, 'n_units_l0': 5.5495785782016185, 'n_units_l1': 430.13249046811774, 'n_units_l2': 32.3888154113322}.\n",
      "[I 2019-03-25 19:49:58,303] Finished a trial resulted in value: 2.9816410833963425. Current best value is 2.9816410833963425 with parameters: {'n_layers': 1, 'n_units_l0': 123.85556979331983}.\n",
      "[I 2019-03-25 19:51:19,811] Finished a trial resulted in value: 3.2437615459409965. Current best value is 2.9816410833963425 with parameters: {'n_layers': 1, 'n_units_l0': 123.85556979331983}.\n",
      "[I 2019-03-25 19:51:50,062] Finished a trial resulted in value: 3.48927978023017. Current best value is 2.9816410833963425 with parameters: {'n_layers': 1, 'n_units_l0': 123.85556979331983}.\n",
      "[I 2019-03-25 19:52:00,298] Finished a trial resulted in value: 2.9154720642441094. Current best value is 2.9154720642441094 with parameters: {'n_layers': 3, 'n_units_l0': 39.01260510723468, 'n_units_l1': 7.167384526782892, 'n_units_l2': 10.735430377407239}.\n",
      "/home/honda/anaconda3/lib/python3.6/site-packages/sklearn/neural_network/multilayer_perceptron.py:562: ConvergenceWarning: Stochastic Optimizer: Maximum iterations (200) reached and the optimization hasn't converged yet.\n",
      "  % self.max_iter, ConvergenceWarning)\n",
      "[I 2019-03-25 19:52:07,981] Finished a trial resulted in value: 3.1565761593766624. Current best value is 2.9154720642441094 with parameters: {'n_layers': 3, 'n_units_l0': 39.01260510723468, 'n_units_l1': 7.167384526782892, 'n_units_l2': 10.735430377407239}.\n",
      "[I 2019-03-25 19:52:17,463] Finished a trial resulted in value: 3.0817762230677586. Current best value is 2.9154720642441094 with parameters: {'n_layers': 3, 'n_units_l0': 39.01260510723468, 'n_units_l1': 7.167384526782892, 'n_units_l2': 10.735430377407239}.\n",
      "[I 2019-03-25 19:52:28,799] Finished a trial resulted in value: 3.090209980367348. Current best value is 2.9154720642441094 with parameters: {'n_layers': 3, 'n_units_l0': 39.01260510723468, 'n_units_l1': 7.167384526782892, 'n_units_l2': 10.735430377407239}.\n",
      "[I 2019-03-25 19:52:40,795] Finished a trial resulted in value: 3.1237028412178676. Current best value is 2.9154720642441094 with parameters: {'n_layers': 3, 'n_units_l0': 39.01260510723468, 'n_units_l1': 7.167384526782892, 'n_units_l2': 10.735430377407239}.\n",
      "[I 2019-03-25 19:53:56,424] Finished a trial resulted in value: 3.0809903185323853. Current best value is 2.9154720642441094 with parameters: {'n_layers': 3, 'n_units_l0': 39.01260510723468, 'n_units_l1': 7.167384526782892, 'n_units_l2': 10.735430377407239}.\n",
      "[I 2019-03-25 19:54:27,636] Finished a trial resulted in value: 3.0708777590567222. Current best value is 2.9154720642441094 with parameters: {'n_layers': 3, 'n_units_l0': 39.01260510723468, 'n_units_l1': 7.167384526782892, 'n_units_l2': 10.735430377407239}.\n",
      "[I 2019-03-25 19:54:37,284] Finished a trial resulted in value: 2.9581024683045345. Current best value is 2.9154720642441094 with parameters: {'n_layers': 3, 'n_units_l0': 39.01260510723468, 'n_units_l1': 7.167384526782892, 'n_units_l2': 10.735430377407239}.\n",
      "[I 2019-03-25 19:54:47,902] Finished a trial resulted in value: 3.08483521055264. Current best value is 2.9154720642441094 with parameters: {'n_layers': 3, 'n_units_l0': 39.01260510723468, 'n_units_l1': 7.167384526782892, 'n_units_l2': 10.735430377407239}.\n",
      "[I 2019-03-25 19:54:56,698] Finished a trial resulted in value: 3.2037819270453114. Current best value is 2.9154720642441094 with parameters: {'n_layers': 3, 'n_units_l0': 39.01260510723468, 'n_units_l1': 7.167384526782892, 'n_units_l2': 10.735430377407239}.\n",
      "/home/honda/anaconda3/lib/python3.6/site-packages/sklearn/neural_network/multilayer_perceptron.py:562: ConvergenceWarning: Stochastic Optimizer: Maximum iterations (200) reached and the optimization hasn't converged yet.\n",
      "  % self.max_iter, ConvergenceWarning)\n",
      "/home/honda/anaconda3/lib/python3.6/site-packages/sklearn/neural_network/multilayer_perceptron.py:562: ConvergenceWarning: Stochastic Optimizer: Maximum iterations (200) reached and the optimization hasn't converged yet.\n",
      "  % self.max_iter, ConvergenceWarning)\n",
      "[I 2019-03-25 19:55:12,313] Finished a trial resulted in value: 3.5014091420826423. Current best value is 2.9154720642441094 with parameters: {'n_layers': 3, 'n_units_l0': 39.01260510723468, 'n_units_l1': 7.167384526782892, 'n_units_l2': 10.735430377407239}.\n",
      "/home/honda/anaconda3/lib/python3.6/site-packages/sklearn/neural_network/multilayer_perceptron.py:562: ConvergenceWarning: Stochastic Optimizer: Maximum iterations (200) reached and the optimization hasn't converged yet.\n",
      "  % self.max_iter, ConvergenceWarning)\n",
      "/home/honda/anaconda3/lib/python3.6/site-packages/sklearn/neural_network/multilayer_perceptron.py:562: ConvergenceWarning: Stochastic Optimizer: Maximum iterations (200) reached and the optimization hasn't converged yet.\n",
      "  % self.max_iter, ConvergenceWarning)\n",
      "/home/honda/anaconda3/lib/python3.6/site-packages/sklearn/neural_network/multilayer_perceptron.py:562: ConvergenceWarning: Stochastic Optimizer: Maximum iterations (200) reached and the optimization hasn't converged yet.\n",
      "  % self.max_iter, ConvergenceWarning)\n",
      "[I 2019-03-25 19:55:25,981] Finished a trial resulted in value: 3.7290017139792533. Current best value is 2.9154720642441094 with parameters: {'n_layers': 3, 'n_units_l0': 39.01260510723468, 'n_units_l1': 7.167384526782892, 'n_units_l2': 10.735430377407239}.\n",
      "/home/honda/anaconda3/lib/python3.6/site-packages/sklearn/neural_network/multilayer_perceptron.py:562: ConvergenceWarning: Stochastic Optimizer: Maximum iterations (200) reached and the optimization hasn't converged yet.\n",
      "  % self.max_iter, ConvergenceWarning)\n",
      "/home/honda/anaconda3/lib/python3.6/site-packages/sklearn/neural_network/multilayer_perceptron.py:562: ConvergenceWarning: Stochastic Optimizer: Maximum iterations (200) reached and the optimization hasn't converged yet.\n",
      "  % self.max_iter, ConvergenceWarning)\n",
      "[I 2019-03-25 19:55:44,393] Finished a trial resulted in value: 4.489061781516388. Current best value is 2.9154720642441094 with parameters: {'n_layers': 3, 'n_units_l0': 39.01260510723468, 'n_units_l1': 7.167384526782892, 'n_units_l2': 10.735430377407239}.\n",
      "[I 2019-03-25 19:55:55,580] Finished a trial resulted in value: 3.056700343271725. Current best value is 2.9154720642441094 with parameters: {'n_layers': 3, 'n_units_l0': 39.01260510723468, 'n_units_l1': 7.167384526782892, 'n_units_l2': 10.735430377407239}.\n",
      "/home/honda/anaconda3/lib/python3.6/site-packages/sklearn/neural_network/multilayer_perceptron.py:562: ConvergenceWarning: Stochastic Optimizer: Maximum iterations (200) reached and the optimization hasn't converged yet.\n",
      "  % self.max_iter, ConvergenceWarning)\n"
     ]
    },
    {
     "name": "stderr",
     "output_type": "stream",
     "text": [
      "[I 2019-03-25 19:56:03,943] Finished a trial resulted in value: 3.4075579143710337. Current best value is 2.9154720642441094 with parameters: {'n_layers': 3, 'n_units_l0': 39.01260510723468, 'n_units_l1': 7.167384526782892, 'n_units_l2': 10.735430377407239}.\n",
      "/home/honda/anaconda3/lib/python3.6/site-packages/sklearn/neural_network/multilayer_perceptron.py:562: ConvergenceWarning: Stochastic Optimizer: Maximum iterations (200) reached and the optimization hasn't converged yet.\n",
      "  % self.max_iter, ConvergenceWarning)\n",
      "/home/honda/anaconda3/lib/python3.6/site-packages/sklearn/neural_network/multilayer_perceptron.py:562: ConvergenceWarning: Stochastic Optimizer: Maximum iterations (200) reached and the optimization hasn't converged yet.\n",
      "  % self.max_iter, ConvergenceWarning)\n",
      "[I 2019-03-25 19:56:13,751] Finished a trial resulted in value: 5.558386902000768. Current best value is 2.9154720642441094 with parameters: {'n_layers': 3, 'n_units_l0': 39.01260510723468, 'n_units_l1': 7.167384526782892, 'n_units_l2': 10.735430377407239}.\n",
      "/home/honda/anaconda3/lib/python3.6/site-packages/sklearn/neural_network/multilayer_perceptron.py:562: ConvergenceWarning: Stochastic Optimizer: Maximum iterations (200) reached and the optimization hasn't converged yet.\n",
      "  % self.max_iter, ConvergenceWarning)\n",
      "[I 2019-03-25 19:56:28,202] Finished a trial resulted in value: 4.6013758518671475. Current best value is 2.9154720642441094 with parameters: {'n_layers': 3, 'n_units_l0': 39.01260510723468, 'n_units_l1': 7.167384526782892, 'n_units_l2': 10.735430377407239}.\n",
      "[I 2019-03-25 19:56:42,420] Finished a trial resulted in value: 3.2327268766807578. Current best value is 2.9154720642441094 with parameters: {'n_layers': 3, 'n_units_l0': 39.01260510723468, 'n_units_l1': 7.167384526782892, 'n_units_l2': 10.735430377407239}.\n",
      "[I 2019-03-25 19:56:50,582] Finished a trial resulted in value: 3.3024800056934733. Current best value is 2.9154720642441094 with parameters: {'n_layers': 3, 'n_units_l0': 39.01260510723468, 'n_units_l1': 7.167384526782892, 'n_units_l2': 10.735430377407239}.\n",
      "[I 2019-03-25 19:57:01,254] Finished a trial resulted in value: 2.8428886462257. Current best value is 2.8428886462257 with parameters: {'n_layers': 3, 'n_units_l0': 26.193038166976017, 'n_units_l1': 11.661344556229508, 'n_units_l2': 122.54631950283272}.\n",
      "[I 2019-03-25 19:57:16,472] Finished a trial resulted in value: 3.13509710655672. Current best value is 2.8428886462257 with parameters: {'n_layers': 3, 'n_units_l0': 26.193038166976017, 'n_units_l1': 11.661344556229508, 'n_units_l2': 122.54631950283272}.\n",
      "/home/honda/anaconda3/lib/python3.6/site-packages/sklearn/neural_network/multilayer_perceptron.py:562: ConvergenceWarning: Stochastic Optimizer: Maximum iterations (200) reached and the optimization hasn't converged yet.\n",
      "  % self.max_iter, ConvergenceWarning)\n",
      "/home/honda/anaconda3/lib/python3.6/site-packages/sklearn/neural_network/multilayer_perceptron.py:562: ConvergenceWarning: Stochastic Optimizer: Maximum iterations (200) reached and the optimization hasn't converged yet.\n",
      "  % self.max_iter, ConvergenceWarning)\n",
      "[I 2019-03-25 19:57:24,992] Finished a trial resulted in value: 2.8140657586771303. Current best value is 2.8140657586771303 with parameters: {'n_layers': 1, 'n_units_l0': 22.71625516588368}.\n",
      "[I 2019-03-25 19:57:32,770] Finished a trial resulted in value: 3.141147623505632. Current best value is 2.8140657586771303 with parameters: {'n_layers': 1, 'n_units_l0': 22.71625516588368}.\n",
      "/home/honda/anaconda3/lib/python3.6/site-packages/sklearn/neural_network/multilayer_perceptron.py:562: ConvergenceWarning: Stochastic Optimizer: Maximum iterations (200) reached and the optimization hasn't converged yet.\n",
      "  % self.max_iter, ConvergenceWarning)\n",
      "[I 2019-03-25 19:57:40,005] Finished a trial resulted in value: 3.228077213105702. Current best value is 2.8140657586771303 with parameters: {'n_layers': 1, 'n_units_l0': 22.71625516588368}.\n",
      "[I 2019-03-25 19:57:48,867] Finished a trial resulted in value: 3.154480478151785. Current best value is 2.8140657586771303 with parameters: {'n_layers': 1, 'n_units_l0': 22.71625516588368}.\n",
      "[I 2019-03-25 19:57:55,209] Finished a trial resulted in value: 3.1431773706461956. Current best value is 2.8140657586771303 with parameters: {'n_layers': 1, 'n_units_l0': 22.71625516588368}.\n",
      "[I 2019-03-25 19:58:11,724] Finished a trial resulted in value: 3.0463229691566056. Current best value is 2.8140657586771303 with parameters: {'n_layers': 1, 'n_units_l0': 22.71625516588368}.\n",
      "/home/honda/anaconda3/lib/python3.6/site-packages/sklearn/neural_network/multilayer_perceptron.py:562: ConvergenceWarning: Stochastic Optimizer: Maximum iterations (200) reached and the optimization hasn't converged yet.\n",
      "  % self.max_iter, ConvergenceWarning)\n",
      "[I 2019-03-25 19:58:16,709] Finished a trial resulted in value: 3.4094689133835288. Current best value is 2.8140657586771303 with parameters: {'n_layers': 1, 'n_units_l0': 22.71625516588368}.\n",
      "[I 2019-03-25 19:58:21,840] Finished a trial resulted in value: 3.2996251952833098. Current best value is 2.8140657586771303 with parameters: {'n_layers': 1, 'n_units_l0': 22.71625516588368}.\n",
      "/home/honda/anaconda3/lib/python3.6/site-packages/sklearn/neural_network/multilayer_perceptron.py:562: ConvergenceWarning: Stochastic Optimizer: Maximum iterations (200) reached and the optimization hasn't converged yet.\n",
      "  % self.max_iter, ConvergenceWarning)\n",
      "[I 2019-03-25 19:58:28,530] Finished a trial resulted in value: 3.0210698431679583. Current best value is 2.8140657586771303 with parameters: {'n_layers': 1, 'n_units_l0': 22.71625516588368}.\n",
      "[I 2019-03-25 19:58:37,608] Finished a trial resulted in value: 3.260187386456037. Current best value is 2.8140657586771303 with parameters: {'n_layers': 1, 'n_units_l0': 22.71625516588368}.\n",
      "/home/honda/anaconda3/lib/python3.6/site-packages/sklearn/neural_network/multilayer_perceptron.py:562: ConvergenceWarning: Stochastic Optimizer: Maximum iterations (200) reached and the optimization hasn't converged yet.\n",
      "  % self.max_iter, ConvergenceWarning)\n",
      "/home/honda/anaconda3/lib/python3.6/site-packages/sklearn/neural_network/multilayer_perceptron.py:562: ConvergenceWarning: Stochastic Optimizer: Maximum iterations (200) reached and the optimization hasn't converged yet.\n",
      "  % self.max_iter, ConvergenceWarning)\n",
      "[I 2019-03-25 19:58:45,614] Finished a trial resulted in value: 3.016904074601939. Current best value is 2.8140657586771303 with parameters: {'n_layers': 1, 'n_units_l0': 22.71625516588368}.\n",
      "[I 2019-03-25 19:58:57,241] Finished a trial resulted in value: 2.8544976787252563. Current best value is 2.8140657586771303 with parameters: {'n_layers': 1, 'n_units_l0': 22.71625516588368}.\n",
      "[I 2019-03-25 19:59:32,944] Finished a trial resulted in value: 3.189280286477529. Current best value is 2.8140657586771303 with parameters: {'n_layers': 1, 'n_units_l0': 22.71625516588368}.\n",
      "[I 2019-03-25 19:59:43,001] Finished a trial resulted in value: 2.983694857335494. Current best value is 2.8140657586771303 with parameters: {'n_layers': 1, 'n_units_l0': 22.71625516588368}.\n",
      "/home/honda/anaconda3/lib/python3.6/site-packages/sklearn/neural_network/multilayer_perceptron.py:562: ConvergenceWarning: Stochastic Optimizer: Maximum iterations (200) reached and the optimization hasn't converged yet.\n",
      "  % self.max_iter, ConvergenceWarning)\n",
      "/home/honda/anaconda3/lib/python3.6/site-packages/sklearn/neural_network/multilayer_perceptron.py:562: ConvergenceWarning: Stochastic Optimizer: Maximum iterations (200) reached and the optimization hasn't converged yet.\n",
      "  % self.max_iter, ConvergenceWarning)\n",
      "[I 2019-03-25 19:59:51,895] Finished a trial resulted in value: 3.1605477406892057. Current best value is 2.8140657586771303 with parameters: {'n_layers': 1, 'n_units_l0': 22.71625516588368}.\n",
      "[I 2019-03-25 20:00:36,664] Finished a trial resulted in value: 2.7681550104473565. Current best value is 2.7681550104473565 with parameters: {'n_layers': 2, 'n_units_l0': 533.8938559801433, 'n_units_l1': 24.776650285968895}.\n"
     ]
    },
    {
     "name": "stderr",
     "output_type": "stream",
     "text": [
      "[I 2019-03-25 20:01:33,255] Finished a trial resulted in value: 3.003129973970149. Current best value is 2.7681550104473565 with parameters: {'n_layers': 2, 'n_units_l0': 533.8938559801433, 'n_units_l1': 24.776650285968895}.\n",
      "[I 2019-03-25 20:02:02,365] Finished a trial resulted in value: 3.555589318935312. Current best value is 2.7681550104473565 with parameters: {'n_layers': 2, 'n_units_l0': 533.8938559801433, 'n_units_l1': 24.776650285968895}.\n",
      "[I 2019-03-25 20:03:33,255] Finished a trial resulted in value: 3.52852278192413. Current best value is 2.7681550104473565 with parameters: {'n_layers': 2, 'n_units_l0': 533.8938559801433, 'n_units_l1': 24.776650285968895}.\n",
      "[I 2019-03-25 20:04:34,155] Finished a trial resulted in value: 2.837711386456215. Current best value is 2.7681550104473565 with parameters: {'n_layers': 2, 'n_units_l0': 533.8938559801433, 'n_units_l1': 24.776650285968895}.\n",
      "[I 2019-03-25 20:05:21,668] Finished a trial resulted in value: 2.9907613581773123. Current best value is 2.7681550104473565 with parameters: {'n_layers': 2, 'n_units_l0': 533.8938559801433, 'n_units_l1': 24.776650285968895}.\n",
      "[I 2019-03-25 20:05:43,964] Finished a trial resulted in value: 3.4956665800647615. Current best value is 2.7681550104473565 with parameters: {'n_layers': 2, 'n_units_l0': 533.8938559801433, 'n_units_l1': 24.776650285968895}.\n",
      "[I 2019-03-25 20:06:07,819] Finished a trial resulted in value: 3.0274408629672847. Current best value is 2.7681550104473565 with parameters: {'n_layers': 2, 'n_units_l0': 533.8938559801433, 'n_units_l1': 24.776650285968895}.\n",
      "[I 2019-03-25 20:06:29,883] Finished a trial resulted in value: 2.8216502471786855. Current best value is 2.7681550104473565 with parameters: {'n_layers': 2, 'n_units_l0': 533.8938559801433, 'n_units_l1': 24.776650285968895}.\n",
      "[I 2019-03-25 20:07:36,985] Finished a trial resulted in value: 3.10715980284665. Current best value is 2.7681550104473565 with parameters: {'n_layers': 2, 'n_units_l0': 533.8938559801433, 'n_units_l1': 24.776650285968895}.\n",
      "[I 2019-03-25 20:08:00,909] Finished a trial resulted in value: 3.1796305672912095. Current best value is 2.7681550104473565 with parameters: {'n_layers': 2, 'n_units_l0': 533.8938559801433, 'n_units_l1': 24.776650285968895}.\n",
      "[I 2019-03-25 20:08:45,840] Finished a trial resulted in value: 3.2618643409211208. Current best value is 2.7681550104473565 with parameters: {'n_layers': 2, 'n_units_l0': 533.8938559801433, 'n_units_l1': 24.776650285968895}.\n",
      "[I 2019-03-25 20:09:36,426] Finished a trial resulted in value: 3.1596974212114137. Current best value is 2.7681550104473565 with parameters: {'n_layers': 2, 'n_units_l0': 533.8938559801433, 'n_units_l1': 24.776650285968895}.\n",
      "/home/honda/anaconda3/lib/python3.6/site-packages/sklearn/neural_network/multilayer_perceptron.py:562: ConvergenceWarning: Stochastic Optimizer: Maximum iterations (200) reached and the optimization hasn't converged yet.\n",
      "  % self.max_iter, ConvergenceWarning)\n",
      "[I 2019-03-25 20:09:48,124] Finished a trial resulted in value: 3.186015171534203. Current best value is 2.7681550104473565 with parameters: {'n_layers': 2, 'n_units_l0': 533.8938559801433, 'n_units_l1': 24.776650285968895}.\n",
      "[I 2019-03-25 20:10:17,190] Finished a trial resulted in value: 3.2922324876757783. Current best value is 2.7681550104473565 with parameters: {'n_layers': 2, 'n_units_l0': 533.8938559801433, 'n_units_l1': 24.776650285968895}.\n",
      "[I 2019-03-25 20:10:28,429] Finished a trial resulted in value: 2.816825663908806. Current best value is 2.7681550104473565 with parameters: {'n_layers': 2, 'n_units_l0': 533.8938559801433, 'n_units_l1': 24.776650285968895}.\n",
      "[I 2019-03-25 20:10:39,545] Finished a trial resulted in value: 2.8958111120705854. Current best value is 2.7681550104473565 with parameters: {'n_layers': 2, 'n_units_l0': 533.8938559801433, 'n_units_l1': 24.776650285968895}.\n",
      "/home/honda/anaconda3/lib/python3.6/site-packages/sklearn/neural_network/multilayer_perceptron.py:562: ConvergenceWarning: Stochastic Optimizer: Maximum iterations (200) reached and the optimization hasn't converged yet.\n",
      "  % self.max_iter, ConvergenceWarning)\n",
      "[I 2019-03-25 20:10:46,415] Finished a trial resulted in value: 3.1589665027726763. Current best value is 2.7681550104473565 with parameters: {'n_layers': 2, 'n_units_l0': 533.8938559801433, 'n_units_l1': 24.776650285968895}.\n",
      "[I 2019-03-25 20:11:05,065] Finished a trial resulted in value: 3.2665278073107524. Current best value is 2.7681550104473565 with parameters: {'n_layers': 2, 'n_units_l0': 533.8938559801433, 'n_units_l1': 24.776650285968895}.\n",
      "[I 2019-03-25 20:11:42,675] Finished a trial resulted in value: 3.3952744828559274. Current best value is 2.7681550104473565 with parameters: {'n_layers': 2, 'n_units_l0': 533.8938559801433, 'n_units_l1': 24.776650285968895}.\n",
      "[I 2019-03-25 20:11:58,179] Finished a trial resulted in value: 3.6236794800090175. Current best value is 2.7681550104473565 with parameters: {'n_layers': 2, 'n_units_l0': 533.8938559801433, 'n_units_l1': 24.776650285968895}.\n",
      "[I 2019-03-25 20:12:26,955] Finished a trial resulted in value: 3.3885648043289214. Current best value is 2.7681550104473565 with parameters: {'n_layers': 2, 'n_units_l0': 533.8938559801433, 'n_units_l1': 24.776650285968895}.\n",
      "[I 2019-03-25 20:14:12,517] Finished a trial resulted in value: 3.117493013473854. Current best value is 2.7681550104473565 with parameters: {'n_layers': 2, 'n_units_l0': 533.8938559801433, 'n_units_l1': 24.776650285968895}.\n",
      "[I 2019-03-25 20:14:50,558] Finished a trial resulted in value: 3.084807710890262. Current best value is 2.7681550104473565 with parameters: {'n_layers': 2, 'n_units_l0': 533.8938559801433, 'n_units_l1': 24.776650285968895}.\n",
      "[I 2019-03-25 20:15:41,187] Finished a trial resulted in value: 3.206195517983976. Current best value is 2.7681550104473565 with parameters: {'n_layers': 2, 'n_units_l0': 533.8938559801433, 'n_units_l1': 24.776650285968895}.\n",
      "/home/honda/anaconda3/lib/python3.6/site-packages/sklearn/neural_network/multilayer_perceptron.py:562: ConvergenceWarning: Stochastic Optimizer: Maximum iterations (200) reached and the optimization hasn't converged yet.\n",
      "  % self.max_iter, ConvergenceWarning)\n",
      "[I 2019-03-25 20:15:48,593] Finished a trial resulted in value: 3.1241900831447005. Current best value is 2.7681550104473565 with parameters: {'n_layers': 2, 'n_units_l0': 533.8938559801433, 'n_units_l1': 24.776650285968895}.\n",
      "[I 2019-03-25 20:16:03,763] Finished a trial resulted in value: 3.1378846379855103. Current best value is 2.7681550104473565 with parameters: {'n_layers': 2, 'n_units_l0': 533.8938559801433, 'n_units_l1': 24.776650285968895}.\n",
      "[I 2019-03-25 20:16:14,524] Finished a trial resulted in value: 2.986358920085435. Current best value is 2.7681550104473565 with parameters: {'n_layers': 2, 'n_units_l0': 533.8938559801433, 'n_units_l1': 24.776650285968895}.\n",
      "[I 2019-03-25 20:16:24,209] Finished a trial resulted in value: 3.0712905171474407. Current best value is 2.7681550104473565 with parameters: {'n_layers': 2, 'n_units_l0': 533.8938559801433, 'n_units_l1': 24.776650285968895}.\n",
      "[I 2019-03-25 20:16:33,354] Finished a trial resulted in value: 3.034654478696123. Current best value is 2.7681550104473565 with parameters: {'n_layers': 2, 'n_units_l0': 533.8938559801433, 'n_units_l1': 24.776650285968895}.\n",
      "[I 2019-03-25 20:16:45,532] Finished a trial resulted in value: 3.4082619082694023. Current best value is 2.7681550104473565 with parameters: {'n_layers': 2, 'n_units_l0': 533.8938559801433, 'n_units_l1': 24.776650285968895}.\n",
      "[I 2019-03-25 20:16:54,518] Finished a trial resulted in value: 2.8620742691563934. Current best value is 2.7681550104473565 with parameters: {'n_layers': 2, 'n_units_l0': 533.8938559801433, 'n_units_l1': 24.776650285968895}.\n",
      "[I 2019-03-25 20:17:59,295] Finished a trial resulted in value: 2.9483287484944114. Current best value is 2.7681550104473565 with parameters: {'n_layers': 2, 'n_units_l0': 533.8938559801433, 'n_units_l1': 24.776650285968895}.\n"
     ]
    },
    {
     "name": "stderr",
     "output_type": "stream",
     "text": [
      "[I 2019-03-25 20:18:05,462] Finished a trial resulted in value: 3.944210662106177. Current best value is 2.7681550104473565 with parameters: {'n_layers': 2, 'n_units_l0': 533.8938559801433, 'n_units_l1': 24.776650285968895}.\n",
      "[I 2019-03-25 20:19:12,448] Finished a trial resulted in value: 2.9291225844654956. Current best value is 2.7681550104473565 with parameters: {'n_layers': 2, 'n_units_l0': 533.8938559801433, 'n_units_l1': 24.776650285968895}.\n",
      "[I 2019-03-25 20:19:19,044] Finished a trial resulted in value: 3.126356485493972. Current best value is 2.7681550104473565 with parameters: {'n_layers': 2, 'n_units_l0': 533.8938559801433, 'n_units_l1': 24.776650285968895}.\n",
      "[I 2019-03-25 20:19:57,626] Finished a trial resulted in value: 2.910526769398953. Current best value is 2.7681550104473565 with parameters: {'n_layers': 2, 'n_units_l0': 533.8938559801433, 'n_units_l1': 24.776650285968895}.\n",
      "[I 2019-03-25 20:20:24,935] Finished a trial resulted in value: 3.575375830638615. Current best value is 2.7681550104473565 with parameters: {'n_layers': 2, 'n_units_l0': 533.8938559801433, 'n_units_l1': 24.776650285968895}.\n",
      "[I 2019-03-25 20:20:47,493] Finished a trial resulted in value: 2.76354614918011. Current best value is 2.76354614918011 with parameters: {'n_layers': 3, 'n_units_l0': 239.82120229099928, 'n_units_l1': 17.329039057908872, 'n_units_l2': 267.43562290359364}.\n",
      "[I 2019-03-25 20:21:27,545] Finished a trial resulted in value: 3.2027975561491573. Current best value is 2.76354614918011 with parameters: {'n_layers': 3, 'n_units_l0': 239.82120229099928, 'n_units_l1': 17.329039057908872, 'n_units_l2': 267.43562290359364}.\n",
      "[I 2019-03-25 20:21:49,050] Finished a trial resulted in value: 3.143591002827349. Current best value is 2.76354614918011 with parameters: {'n_layers': 3, 'n_units_l0': 239.82120229099928, 'n_units_l1': 17.329039057908872, 'n_units_l2': 267.43562290359364}.\n",
      "[I 2019-03-25 20:22:13,506] Finished a trial resulted in value: 3.341821156581081. Current best value is 2.76354614918011 with parameters: {'n_layers': 3, 'n_units_l0': 239.82120229099928, 'n_units_l1': 17.329039057908872, 'n_units_l2': 267.43562290359364}.\n",
      "[I 2019-03-25 20:23:01,493] Finished a trial resulted in value: 3.2960472002156287. Current best value is 2.76354614918011 with parameters: {'n_layers': 3, 'n_units_l0': 239.82120229099928, 'n_units_l1': 17.329039057908872, 'n_units_l2': 267.43562290359364}.\n",
      "[I 2019-03-25 20:23:34,906] Finished a trial resulted in value: 3.6193680927817673. Current best value is 2.76354614918011 with parameters: {'n_layers': 3, 'n_units_l0': 239.82120229099928, 'n_units_l1': 17.329039057908872, 'n_units_l2': 267.43562290359364}.\n",
      "[I 2019-03-25 20:24:01,525] Finished a trial resulted in value: 3.411667608139933. Current best value is 2.76354614918011 with parameters: {'n_layers': 3, 'n_units_l0': 239.82120229099928, 'n_units_l1': 17.329039057908872, 'n_units_l2': 267.43562290359364}.\n",
      "[I 2019-03-25 20:24:10,302] Finished a trial resulted in value: 3.718874607188318. Current best value is 2.76354614918011 with parameters: {'n_layers': 3, 'n_units_l0': 239.82120229099928, 'n_units_l1': 17.329039057908872, 'n_units_l2': 267.43562290359364}.\n",
      "[I 2019-03-25 20:24:32,643] Finished a trial resulted in value: 3.0316764245094934. Current best value is 2.76354614918011 with parameters: {'n_layers': 3, 'n_units_l0': 239.82120229099928, 'n_units_l1': 17.329039057908872, 'n_units_l2': 267.43562290359364}.\n",
      "[I 2019-03-25 20:24:44,124] Finished a trial resulted in value: 3.460409935557056. Current best value is 2.76354614918011 with parameters: {'n_layers': 3, 'n_units_l0': 239.82120229099928, 'n_units_l1': 17.329039057908872, 'n_units_l2': 267.43562290359364}.\n",
      "[I 2019-03-25 20:25:47,049] Finished a trial resulted in value: 3.591685111142172. Current best value is 2.76354614918011 with parameters: {'n_layers': 3, 'n_units_l0': 239.82120229099928, 'n_units_l1': 17.329039057908872, 'n_units_l2': 267.43562290359364}.\n",
      "[I 2019-03-25 20:25:55,923] Finished a trial resulted in value: 3.3322008395722045. Current best value is 2.76354614918011 with parameters: {'n_layers': 3, 'n_units_l0': 239.82120229099928, 'n_units_l1': 17.329039057908872, 'n_units_l2': 267.43562290359364}.\n",
      "[I 2019-03-25 20:26:20,091] Finished a trial resulted in value: 3.1226611293758406. Current best value is 2.76354614918011 with parameters: {'n_layers': 3, 'n_units_l0': 239.82120229099928, 'n_units_l1': 17.329039057908872, 'n_units_l2': 267.43562290359364}.\n",
      "[I 2019-03-25 20:26:36,823] Finished a trial resulted in value: 3.1161871610049237. Current best value is 2.76354614918011 with parameters: {'n_layers': 3, 'n_units_l0': 239.82120229099928, 'n_units_l1': 17.329039057908872, 'n_units_l2': 267.43562290359364}.\n",
      "[I 2019-03-25 20:26:55,517] Finished a trial resulted in value: 3.2455406700585874. Current best value is 2.76354614918011 with parameters: {'n_layers': 3, 'n_units_l0': 239.82120229099928, 'n_units_l1': 17.329039057908872, 'n_units_l2': 267.43562290359364}.\n",
      "[I 2019-03-25 20:27:10,582] Finished a trial resulted in value: 3.2218746590028657. Current best value is 2.76354614918011 with parameters: {'n_layers': 3, 'n_units_l0': 239.82120229099928, 'n_units_l1': 17.329039057908872, 'n_units_l2': 267.43562290359364}.\n",
      "[I 2019-03-25 20:27:21,143] Finished a trial resulted in value: 3.128535569206084. Current best value is 2.76354614918011 with parameters: {'n_layers': 3, 'n_units_l0': 239.82120229099928, 'n_units_l1': 17.329039057908872, 'n_units_l2': 267.43562290359364}.\n"
     ]
    }
   ],
   "source": [
    "def objective_mlp(trial):\n",
    "    n_layers = trial.suggest_int('n_layers', 1,3)\n",
    "    layers = []\n",
    "    for i in range(n_layers):\n",
    "        n_units = int(trial.suggest_loguniform('n_units_l{}'.format(i), 4, 1000))\n",
    "        layers.append(n_units)\n",
    "    \n",
    "    n_folds = 4\n",
    "    score = 0\n",
    "    for _ in range(n_folds):\n",
    "        mlp = MLPRegressor(hidden_layer_sizes=layers)\n",
    "        X_trn, X_val, y_trn, y_val = train_test_split(X_train, y_train)\n",
    "        mlp.fit(X_trn, y_trn)\n",
    "        y_pred = mlp.predict(X_val)\n",
    "        score += mean_squared_error(y_val, y_pred)\n",
    "    return score/n_folds\n",
    "\n",
    "study = optuna.create_study()\n",
    "study.optimize(objective_mlp, n_trials=100)"
   ]
  },
  {
   "cell_type": "code",
   "execution_count": 28,
   "metadata": {},
   "outputs": [
    {
     "name": "stdout",
     "output_type": "stream",
     "text": [
      "Test R2: 0.2135\n",
      "Test MSE: 3.2111\n"
     ]
    }
   ],
   "source": [
    "# Optimized\n",
    "\n",
    "mse = 0\n",
    "r2 = 0\n",
    "n = 10\n",
    "\n",
    "for _ in range(n):\n",
    "    MLP = MLPRegressor((240, 17, 267))\n",
    "    MLP.fit(X_train, y_train)\n",
    "    y_pred = MLP.predict(X_test)\n",
    "    r2 += r2_score(y_test, y_pred)\n",
    "    mse += mean_squared_error(y_test, y_pred)\n",
    "\n",
    "print(\"Test R2: {:.4f}\".format(r2/n))\n",
    "print(\"Test MSE: {:.4f}\".format(mse/n))"
   ]
  },
  {
   "cell_type": "markdown",
   "metadata": {},
   "source": [
    "### RF"
   ]
  },
  {
   "cell_type": "code",
   "execution_count": 30,
   "metadata": {
    "scrolled": true
   },
   "outputs": [
    {
     "name": "stderr",
     "output_type": "stream",
     "text": [
      "/home/honda/anaconda3/lib/python3.6/site-packages/sklearn/ensemble/forest.py:248: FutureWarning: The default value of n_estimators will change from 10 in version 0.20 to 100 in 0.22.\n",
      "  \"10 in version 0.20 to 100 in 0.22.\", FutureWarning)\n",
      "/home/honda/anaconda3/lib/python3.6/site-packages/sklearn/ensemble/forest.py:248: FutureWarning: The default value of n_estimators will change from 10 in version 0.20 to 100 in 0.22.\n",
      "  \"10 in version 0.20 to 100 in 0.22.\", FutureWarning)\n",
      "/home/honda/anaconda3/lib/python3.6/site-packages/sklearn/ensemble/forest.py:248: FutureWarning: The default value of n_estimators will change from 10 in version 0.20 to 100 in 0.22.\n",
      "  \"10 in version 0.20 to 100 in 0.22.\", FutureWarning)\n",
      "/home/honda/anaconda3/lib/python3.6/site-packages/sklearn/ensemble/forest.py:248: FutureWarning: The default value of n_estimators will change from 10 in version 0.20 to 100 in 0.22.\n",
      "  \"10 in version 0.20 to 100 in 0.22.\", FutureWarning)\n",
      "/home/honda/anaconda3/lib/python3.6/site-packages/sklearn/ensemble/forest.py:248: FutureWarning: The default value of n_estimators will change from 10 in version 0.20 to 100 in 0.22.\n",
      "  \"10 in version 0.20 to 100 in 0.22.\", FutureWarning)\n",
      "/home/honda/anaconda3/lib/python3.6/site-packages/sklearn/ensemble/forest.py:248: FutureWarning: The default value of n_estimators will change from 10 in version 0.20 to 100 in 0.22.\n",
      "  \"10 in version 0.20 to 100 in 0.22.\", FutureWarning)\n",
      "/home/honda/anaconda3/lib/python3.6/site-packages/sklearn/ensemble/forest.py:248: FutureWarning: The default value of n_estimators will change from 10 in version 0.20 to 100 in 0.22.\n",
      "  \"10 in version 0.20 to 100 in 0.22.\", FutureWarning)\n",
      "/home/honda/anaconda3/lib/python3.6/site-packages/sklearn/ensemble/forest.py:248: FutureWarning: The default value of n_estimators will change from 10 in version 0.20 to 100 in 0.22.\n",
      "  \"10 in version 0.20 to 100 in 0.22.\", FutureWarning)\n",
      "/home/honda/anaconda3/lib/python3.6/site-packages/sklearn/ensemble/forest.py:248: FutureWarning: The default value of n_estimators will change from 10 in version 0.20 to 100 in 0.22.\n",
      "  \"10 in version 0.20 to 100 in 0.22.\", FutureWarning)\n",
      "/home/honda/anaconda3/lib/python3.6/site-packages/sklearn/ensemble/forest.py:248: FutureWarning: The default value of n_estimators will change from 10 in version 0.20 to 100 in 0.22.\n",
      "  \"10 in version 0.20 to 100 in 0.22.\", FutureWarning)\n"
     ]
    },
    {
     "name": "stdout",
     "output_type": "stream",
     "text": [
      "Test R2: 0.6477\n",
      "Test MSE: 1.4384\n"
     ]
    }
   ],
   "source": [
    "#Default\n",
    "mse = 0\n",
    "r2 = 0\n",
    "n = 10\n",
    "\n",
    "for _ in range(n):\n",
    "    RF = RandomForestRegressor()\n",
    "    RF.fit(X_train, y_train)\n",
    "    y_pred = RF.predict(X_test)\n",
    "    r2 += r2_score(y_test, y_pred)\n",
    "    mse += mean_squared_error(y_test, y_pred)\n",
    "\n",
    "print(\"Test R2: {:.4f}\".format(r2/n))\n",
    "print(\"Test MSE: {:.4f}\".format(mse/n))"
   ]
  },
  {
   "cell_type": "code",
   "execution_count": 24,
   "metadata": {
    "scrolled": true
   },
   "outputs": [
    {
     "name": "stderr",
     "output_type": "stream",
     "text": [
      "[I 2019-03-25 20:31:49,668] Finished a trial resulted in value: 2.080513543423525. Current best value is 2.080513543423525 with parameters: {'max_depth': 3.9736566109412204, 'n_estimators': 42.187951451281585, 'max_features': 9, 'min_samples_split': 8, 'min_samples_leaf': 4}.\n",
      "[I 2019-03-25 20:31:49,711] Finished a trial resulted in value: 2.392552191739588. Current best value is 2.080513543423525 with parameters: {'max_depth': 3.9736566109412204, 'n_estimators': 42.187951451281585, 'max_features': 9, 'min_samples_split': 8, 'min_samples_leaf': 4}.\n",
      "[I 2019-03-25 20:31:49,949] Finished a trial resulted in value: 1.6618575213509814. Current best value is 1.6618575213509814 with parameters: {'max_depth': 32.507252783445615, 'n_estimators': 15.582863255659985, 'max_features': 6, 'min_samples_split': 10, 'min_samples_leaf': 4}.\n",
      "[I 2019-03-25 20:31:50,018] Finished a trial resulted in value: 2.7467569968798466. Current best value is 1.6618575213509814 with parameters: {'max_depth': 32.507252783445615, 'n_estimators': 15.582863255659985, 'max_features': 6, 'min_samples_split': 10, 'min_samples_leaf': 4}.\n",
      "[I 2019-03-25 20:31:50,120] Finished a trial resulted in value: 2.5363637737838287. Current best value is 1.6618575213509814 with parameters: {'max_depth': 32.507252783445615, 'n_estimators': 15.582863255659985, 'max_features': 6, 'min_samples_split': 10, 'min_samples_leaf': 4}.\n",
      "[I 2019-03-25 20:31:50,751] Finished a trial resulted in value: 2.615172308945005. Current best value is 1.6618575213509814 with parameters: {'max_depth': 32.507252783445615, 'n_estimators': 15.582863255659985, 'max_features': 6, 'min_samples_split': 10, 'min_samples_leaf': 4}.\n",
      "[I 2019-03-25 20:31:51,127] Finished a trial resulted in value: 1.7724229592794964. Current best value is 1.6618575213509814 with parameters: {'max_depth': 32.507252783445615, 'n_estimators': 15.582863255659985, 'max_features': 6, 'min_samples_split': 10, 'min_samples_leaf': 4}.\n",
      "[I 2019-03-25 20:31:51,335] Finished a trial resulted in value: 1.7371578664228586. Current best value is 1.6618575213509814 with parameters: {'max_depth': 32.507252783445615, 'n_estimators': 15.582863255659985, 'max_features': 6, 'min_samples_split': 10, 'min_samples_leaf': 4}.\n",
      "[I 2019-03-25 20:31:51,437] Finished a trial resulted in value: 1.9239012639432418. Current best value is 1.6618575213509814 with parameters: {'max_depth': 32.507252783445615, 'n_estimators': 15.582863255659985, 'max_features': 6, 'min_samples_split': 10, 'min_samples_leaf': 4}.\n",
      "[I 2019-03-25 20:31:51,494] Finished a trial resulted in value: 1.9319447383079824. Current best value is 1.6618575213509814 with parameters: {'max_depth': 32.507252783445615, 'n_estimators': 15.582863255659985, 'max_features': 6, 'min_samples_split': 10, 'min_samples_leaf': 4}.\n",
      "[I 2019-03-25 20:31:53,332] Finished a trial resulted in value: 1.7151560289201857. Current best value is 1.6618575213509814 with parameters: {'max_depth': 32.507252783445615, 'n_estimators': 15.582863255659985, 'max_features': 6, 'min_samples_split': 10, 'min_samples_leaf': 4}.\n",
      "[I 2019-03-25 20:32:08,423] Finished a trial resulted in value: 1.5929130906703555. Current best value is 1.5929130906703555 with parameters: {'max_depth': 89.89804945192093, 'n_estimators': 899.9779899798929, 'max_features': 7, 'min_samples_split': 8, 'min_samples_leaf': 3}.\n",
      "[I 2019-03-25 20:32:24,334] Finished a trial resulted in value: 1.498026866509819. Current best value is 1.498026866509819 with parameters: {'max_depth': 90.53872655751285, 'n_estimators': 904.2587475707173, 'max_features': 7, 'min_samples_split': 8, 'min_samples_leaf': 2}.\n",
      "[I 2019-03-25 20:32:26,914] Finished a trial resulted in value: 1.8899051398790945. Current best value is 1.498026866509819 with parameters: {'max_depth': 90.53872655751285, 'n_estimators': 904.2587475707173, 'max_features': 7, 'min_samples_split': 8, 'min_samples_leaf': 2}.\n",
      "[I 2019-03-25 20:32:31,869] Finished a trial resulted in value: 1.3139396675163089. Current best value is 1.3139396675163089 with parameters: {'max_depth': 51.02816455307841, 'n_estimators': 242.85367871258023, 'max_features': 8, 'min_samples_split': 7, 'min_samples_leaf': 1}.\n",
      "[I 2019-03-25 20:32:35,155] Finished a trial resulted in value: 1.3223375098907648. Current best value is 1.3139396675163089 with parameters: {'max_depth': 51.02816455307841, 'n_estimators': 242.85367871258023, 'max_features': 8, 'min_samples_split': 7, 'min_samples_leaf': 1}.\n",
      "[I 2019-03-25 20:32:38,665] Finished a trial resulted in value: 1.6666619972153938. Current best value is 1.3139396675163089 with parameters: {'max_depth': 51.02816455307841, 'n_estimators': 242.85367871258023, 'max_features': 8, 'min_samples_split': 7, 'min_samples_leaf': 1}.\n",
      "[I 2019-03-25 20:32:40,850] Finished a trial resulted in value: 1.4796262065319952. Current best value is 1.3139396675163089 with parameters: {'max_depth': 51.02816455307841, 'n_estimators': 242.85367871258023, 'max_features': 8, 'min_samples_split': 7, 'min_samples_leaf': 1}.\n",
      "[I 2019-03-25 20:32:43,344] Finished a trial resulted in value: 1.4494214710690554. Current best value is 1.3139396675163089 with parameters: {'max_depth': 51.02816455307841, 'n_estimators': 242.85367871258023, 'max_features': 8, 'min_samples_split': 7, 'min_samples_leaf': 1}.\n",
      "[I 2019-03-25 20:32:44,860] Finished a trial resulted in value: 1.378403813195817. Current best value is 1.3139396675163089 with parameters: {'max_depth': 51.02816455307841, 'n_estimators': 242.85367871258023, 'max_features': 8, 'min_samples_split': 7, 'min_samples_leaf': 1}.\n",
      "[I 2019-03-25 20:32:51,063] Finished a trial resulted in value: 1.4778445428293763. Current best value is 1.3139396675163089 with parameters: {'max_depth': 51.02816455307841, 'n_estimators': 242.85367871258023, 'max_features': 8, 'min_samples_split': 7, 'min_samples_leaf': 1}.\n",
      "[I 2019-03-25 20:32:51,864] Finished a trial resulted in value: 1.8275649570664252. Current best value is 1.3139396675163089 with parameters: {'max_depth': 51.02816455307841, 'n_estimators': 242.85367871258023, 'max_features': 8, 'min_samples_split': 7, 'min_samples_leaf': 1}.\n",
      "[I 2019-03-25 20:32:56,242] Finished a trial resulted in value: 1.4965765784130096. Current best value is 1.3139396675163089 with parameters: {'max_depth': 51.02816455307841, 'n_estimators': 242.85367871258023, 'max_features': 8, 'min_samples_split': 7, 'min_samples_leaf': 1}.\n",
      "[I 2019-03-25 20:32:58,926] Finished a trial resulted in value: 1.4752689873786635. Current best value is 1.3139396675163089 with parameters: {'max_depth': 51.02816455307841, 'n_estimators': 242.85367871258023, 'max_features': 8, 'min_samples_split': 7, 'min_samples_leaf': 1}.\n",
      "[I 2019-03-25 20:33:11,356] Finished a trial resulted in value: 1.4667630261593718. Current best value is 1.3139396675163089 with parameters: {'max_depth': 51.02816455307841, 'n_estimators': 242.85367871258023, 'max_features': 8, 'min_samples_split': 7, 'min_samples_leaf': 1}.\n",
      "[I 2019-03-25 20:33:14,217] Finished a trial resulted in value: 1.4731843458461775. Current best value is 1.3139396675163089 with parameters: {'max_depth': 51.02816455307841, 'n_estimators': 242.85367871258023, 'max_features': 8, 'min_samples_split': 7, 'min_samples_leaf': 1}.\n",
      "[I 2019-03-25 20:33:14,858] Finished a trial resulted in value: 1.6120387595059753. Current best value is 1.3139396675163089 with parameters: {'max_depth': 51.02816455307841, 'n_estimators': 242.85367871258023, 'max_features': 8, 'min_samples_split': 7, 'min_samples_leaf': 1}.\n",
      "[I 2019-03-25 20:33:15,899] Finished a trial resulted in value: 1.6499231205378657. Current best value is 1.3139396675163089 with parameters: {'max_depth': 51.02816455307841, 'n_estimators': 242.85367871258023, 'max_features': 8, 'min_samples_split': 7, 'min_samples_leaf': 1}.\n",
      "[I 2019-03-25 20:33:16,791] Finished a trial resulted in value: 1.6423491633435077. Current best value is 1.3139396675163089 with parameters: {'max_depth': 51.02816455307841, 'n_estimators': 242.85367871258023, 'max_features': 8, 'min_samples_split': 7, 'min_samples_leaf': 1}.\n"
     ]
    },
    {
     "name": "stderr",
     "output_type": "stream",
     "text": [
      "[I 2019-03-25 20:33:25,765] Finished a trial resulted in value: 1.4599064147217689. Current best value is 1.3139396675163089 with parameters: {'max_depth': 51.02816455307841, 'n_estimators': 242.85367871258023, 'max_features': 8, 'min_samples_split': 7, 'min_samples_leaf': 1}.\n",
      "[I 2019-03-25 20:33:35,819] Finished a trial resulted in value: 1.6326428241899742. Current best value is 1.3139396675163089 with parameters: {'max_depth': 51.02816455307841, 'n_estimators': 242.85367871258023, 'max_features': 8, 'min_samples_split': 7, 'min_samples_leaf': 1}.\n",
      "[I 2019-03-25 20:33:36,377] Finished a trial resulted in value: 1.430045729629065. Current best value is 1.3139396675163089 with parameters: {'max_depth': 51.02816455307841, 'n_estimators': 242.85367871258023, 'max_features': 8, 'min_samples_split': 7, 'min_samples_leaf': 1}.\n",
      "[I 2019-03-25 20:33:39,014] Finished a trial resulted in value: 1.3774127358088526. Current best value is 1.3139396675163089 with parameters: {'max_depth': 51.02816455307841, 'n_estimators': 242.85367871258023, 'max_features': 8, 'min_samples_split': 7, 'min_samples_leaf': 1}.\n",
      "[I 2019-03-25 20:33:39,268] Finished a trial resulted in value: 1.8269186339002408. Current best value is 1.3139396675163089 with parameters: {'max_depth': 51.02816455307841, 'n_estimators': 242.85367871258023, 'max_features': 8, 'min_samples_split': 7, 'min_samples_leaf': 1}.\n",
      "[I 2019-03-25 20:33:40,223] Finished a trial resulted in value: 1.5187912454681907. Current best value is 1.3139396675163089 with parameters: {'max_depth': 51.02816455307841, 'n_estimators': 242.85367871258023, 'max_features': 8, 'min_samples_split': 7, 'min_samples_leaf': 1}.\n",
      "[I 2019-03-25 20:33:45,486] Finished a trial resulted in value: 1.6824425459924282. Current best value is 1.3139396675163089 with parameters: {'max_depth': 51.02816455307841, 'n_estimators': 242.85367871258023, 'max_features': 8, 'min_samples_split': 7, 'min_samples_leaf': 1}.\n",
      "[I 2019-03-25 20:33:47,417] Finished a trial resulted in value: 1.490558947881498. Current best value is 1.3139396675163089 with parameters: {'max_depth': 51.02816455307841, 'n_estimators': 242.85367871258023, 'max_features': 8, 'min_samples_split': 7, 'min_samples_leaf': 1}.\n",
      "[I 2019-03-25 20:34:05,785] Finished a trial resulted in value: 1.4087498771048788. Current best value is 1.3139396675163089 with parameters: {'max_depth': 51.02816455307841, 'n_estimators': 242.85367871258023, 'max_features': 8, 'min_samples_split': 7, 'min_samples_leaf': 1}.\n",
      "[I 2019-03-25 20:34:09,176] Finished a trial resulted in value: 1.5557743882086428. Current best value is 1.3139396675163089 with parameters: {'max_depth': 51.02816455307841, 'n_estimators': 242.85367871258023, 'max_features': 8, 'min_samples_split': 7, 'min_samples_leaf': 1}.\n",
      "[I 2019-03-25 20:34:10,093] Finished a trial resulted in value: 1.6488473339698793. Current best value is 1.3139396675163089 with parameters: {'max_depth': 51.02816455307841, 'n_estimators': 242.85367871258023, 'max_features': 8, 'min_samples_split': 7, 'min_samples_leaf': 1}.\n",
      "[I 2019-03-25 20:34:10,461] Finished a trial resulted in value: 2.6167048365241254. Current best value is 1.3139396675163089 with parameters: {'max_depth': 51.02816455307841, 'n_estimators': 242.85367871258023, 'max_features': 8, 'min_samples_split': 7, 'min_samples_leaf': 1}.\n",
      "[I 2019-03-25 20:34:10,726] Finished a trial resulted in value: 1.7731013864290242. Current best value is 1.3139396675163089 with parameters: {'max_depth': 51.02816455307841, 'n_estimators': 242.85367871258023, 'max_features': 8, 'min_samples_split': 7, 'min_samples_leaf': 1}.\n",
      "[I 2019-03-25 20:34:10,819] Finished a trial resulted in value: 2.238318798240367. Current best value is 1.3139396675163089 with parameters: {'max_depth': 51.02816455307841, 'n_estimators': 242.85367871258023, 'max_features': 8, 'min_samples_split': 7, 'min_samples_leaf': 1}.\n",
      "[I 2019-03-25 20:34:10,954] Finished a trial resulted in value: 1.883333551200094. Current best value is 1.3139396675163089 with parameters: {'max_depth': 51.02816455307841, 'n_estimators': 242.85367871258023, 'max_features': 8, 'min_samples_split': 7, 'min_samples_leaf': 1}.\n",
      "[I 2019-03-25 20:34:12,429] Finished a trial resulted in value: 1.8182514423245926. Current best value is 1.3139396675163089 with parameters: {'max_depth': 51.02816455307841, 'n_estimators': 242.85367871258023, 'max_features': 8, 'min_samples_split': 7, 'min_samples_leaf': 1}.\n",
      "[I 2019-03-25 20:34:12,618] Finished a trial resulted in value: 1.7763645914710935. Current best value is 1.3139396675163089 with parameters: {'max_depth': 51.02816455307841, 'n_estimators': 242.85367871258023, 'max_features': 8, 'min_samples_split': 7, 'min_samples_leaf': 1}.\n",
      "[I 2019-03-25 20:34:25,305] Finished a trial resulted in value: 1.36406808124943. Current best value is 1.3139396675163089 with parameters: {'max_depth': 51.02816455307841, 'n_estimators': 242.85367871258023, 'max_features': 8, 'min_samples_split': 7, 'min_samples_leaf': 1}.\n",
      "[I 2019-03-25 20:34:28,521] Finished a trial resulted in value: 1.9473470027646225. Current best value is 1.3139396675163089 with parameters: {'max_depth': 51.02816455307841, 'n_estimators': 242.85367871258023, 'max_features': 8, 'min_samples_split': 7, 'min_samples_leaf': 1}.\n",
      "[I 2019-03-25 20:34:33,643] Finished a trial resulted in value: 1.647480690083823. Current best value is 1.3139396675163089 with parameters: {'max_depth': 51.02816455307841, 'n_estimators': 242.85367871258023, 'max_features': 8, 'min_samples_split': 7, 'min_samples_leaf': 1}.\n",
      "[I 2019-03-25 20:34:34,646] Finished a trial resulted in value: 2.002284861205362. Current best value is 1.3139396675163089 with parameters: {'max_depth': 51.02816455307841, 'n_estimators': 242.85367871258023, 'max_features': 8, 'min_samples_split': 7, 'min_samples_leaf': 1}.\n",
      "[I 2019-03-25 20:34:37,577] Finished a trial resulted in value: 1.549344207882542. Current best value is 1.3139396675163089 with parameters: {'max_depth': 51.02816455307841, 'n_estimators': 242.85367871258023, 'max_features': 8, 'min_samples_split': 7, 'min_samples_leaf': 1}.\n",
      "[I 2019-03-25 20:34:38,656] Finished a trial resulted in value: 1.8735848132509654. Current best value is 1.3139396675163089 with parameters: {'max_depth': 51.02816455307841, 'n_estimators': 242.85367871258023, 'max_features': 8, 'min_samples_split': 7, 'min_samples_leaf': 1}.\n",
      "[I 2019-03-25 20:34:40,909] Finished a trial resulted in value: 1.5207699094818792. Current best value is 1.3139396675163089 with parameters: {'max_depth': 51.02816455307841, 'n_estimators': 242.85367871258023, 'max_features': 8, 'min_samples_split': 7, 'min_samples_leaf': 1}.\n",
      "[I 2019-03-25 20:34:41,009] Finished a trial resulted in value: 2.4993192901614556. Current best value is 1.3139396675163089 with parameters: {'max_depth': 51.02816455307841, 'n_estimators': 242.85367871258023, 'max_features': 8, 'min_samples_split': 7, 'min_samples_leaf': 1}.\n",
      "[I 2019-03-25 20:34:45,146] Finished a trial resulted in value: 1.5781371365910373. Current best value is 1.3139396675163089 with parameters: {'max_depth': 51.02816455307841, 'n_estimators': 242.85367871258023, 'max_features': 8, 'min_samples_split': 7, 'min_samples_leaf': 1}.\n",
      "[I 2019-03-25 20:34:45,980] Finished a trial resulted in value: 1.5112102614578498. Current best value is 1.3139396675163089 with parameters: {'max_depth': 51.02816455307841, 'n_estimators': 242.85367871258023, 'max_features': 8, 'min_samples_split': 7, 'min_samples_leaf': 1}.\n",
      "[I 2019-03-25 20:34:57,640] Finished a trial resulted in value: 1.605136242563899. Current best value is 1.3139396675163089 with parameters: {'max_depth': 51.02816455307841, 'n_estimators': 242.85367871258023, 'max_features': 8, 'min_samples_split': 7, 'min_samples_leaf': 1}.\n",
      "[I 2019-03-25 20:35:06,228] Finished a trial resulted in value: 1.2851880098694446. Current best value is 1.2851880098694446 with parameters: {'max_depth': 28.384584800685214, 'n_estimators': 569.0131803934628, 'max_features': 5, 'min_samples_split': 7, 'min_samples_leaf': 1}.\n"
     ]
    },
    {
     "name": "stderr",
     "output_type": "stream",
     "text": [
      "[I 2019-03-25 20:35:10,294] Finished a trial resulted in value: 1.6918122856369404. Current best value is 1.2851880098694446 with parameters: {'max_depth': 28.384584800685214, 'n_estimators': 569.0131803934628, 'max_features': 5, 'min_samples_split': 7, 'min_samples_leaf': 1}.\n",
      "[I 2019-03-25 20:35:15,406] Finished a trial resulted in value: 1.7118526688274596. Current best value is 1.2851880098694446 with parameters: {'max_depth': 28.384584800685214, 'n_estimators': 569.0131803934628, 'max_features': 5, 'min_samples_split': 7, 'min_samples_leaf': 1}.\n",
      "[I 2019-03-25 20:35:18,988] Finished a trial resulted in value: 1.553454153835395. Current best value is 1.2851880098694446 with parameters: {'max_depth': 28.384584800685214, 'n_estimators': 569.0131803934628, 'max_features': 5, 'min_samples_split': 7, 'min_samples_leaf': 1}.\n",
      "[I 2019-03-25 20:35:23,843] Finished a trial resulted in value: 1.8344136664507453. Current best value is 1.2851880098694446 with parameters: {'max_depth': 28.384584800685214, 'n_estimators': 569.0131803934628, 'max_features': 5, 'min_samples_split': 7, 'min_samples_leaf': 1}.\n",
      "[I 2019-03-25 20:35:26,150] Finished a trial resulted in value: 1.4952513863685921. Current best value is 1.2851880098694446 with parameters: {'max_depth': 28.384584800685214, 'n_estimators': 569.0131803934628, 'max_features': 5, 'min_samples_split': 7, 'min_samples_leaf': 1}.\n",
      "[I 2019-03-25 20:35:26,293] Finished a trial resulted in value: 1.8143837213263758. Current best value is 1.2851880098694446 with parameters: {'max_depth': 28.384584800685214, 'n_estimators': 569.0131803934628, 'max_features': 5, 'min_samples_split': 7, 'min_samples_leaf': 1}.\n",
      "[I 2019-03-25 20:35:36,754] Finished a trial resulted in value: 1.5633628913212119. Current best value is 1.2851880098694446 with parameters: {'max_depth': 28.384584800685214, 'n_estimators': 569.0131803934628, 'max_features': 5, 'min_samples_split': 7, 'min_samples_leaf': 1}.\n",
      "[I 2019-03-25 20:35:42,199] Finished a trial resulted in value: 1.5114538288530384. Current best value is 1.2851880098694446 with parameters: {'max_depth': 28.384584800685214, 'n_estimators': 569.0131803934628, 'max_features': 5, 'min_samples_split': 7, 'min_samples_leaf': 1}.\n",
      "[I 2019-03-25 20:35:47,699] Finished a trial resulted in value: 1.4682444365519651. Current best value is 1.2851880098694446 with parameters: {'max_depth': 28.384584800685214, 'n_estimators': 569.0131803934628, 'max_features': 5, 'min_samples_split': 7, 'min_samples_leaf': 1}.\n",
      "[I 2019-03-25 20:35:49,671] Finished a trial resulted in value: 1.4245808487622482. Current best value is 1.2851880098694446 with parameters: {'max_depth': 28.384584800685214, 'n_estimators': 569.0131803934628, 'max_features': 5, 'min_samples_split': 7, 'min_samples_leaf': 1}.\n",
      "[I 2019-03-25 20:35:51,845] Finished a trial resulted in value: 1.5064062299518841. Current best value is 1.2851880098694446 with parameters: {'max_depth': 28.384584800685214, 'n_estimators': 569.0131803934628, 'max_features': 5, 'min_samples_split': 7, 'min_samples_leaf': 1}.\n",
      "[I 2019-03-25 20:35:52,996] Finished a trial resulted in value: 1.31108797481052. Current best value is 1.2851880098694446 with parameters: {'max_depth': 28.384584800685214, 'n_estimators': 569.0131803934628, 'max_features': 5, 'min_samples_split': 7, 'min_samples_leaf': 1}.\n",
      "[I 2019-03-25 20:35:53,302] Finished a trial resulted in value: 1.5834903860912835. Current best value is 1.2851880098694446 with parameters: {'max_depth': 28.384584800685214, 'n_estimators': 569.0131803934628, 'max_features': 5, 'min_samples_split': 7, 'min_samples_leaf': 1}.\n",
      "[I 2019-03-25 20:35:53,799] Finished a trial resulted in value: 1.6119856751359243. Current best value is 1.2851880098694446 with parameters: {'max_depth': 28.384584800685214, 'n_estimators': 569.0131803934628, 'max_features': 5, 'min_samples_split': 7, 'min_samples_leaf': 1}.\n",
      "[I 2019-03-25 20:35:54,808] Finished a trial resulted in value: 1.5027076935387274. Current best value is 1.2851880098694446 with parameters: {'max_depth': 28.384584800685214, 'n_estimators': 569.0131803934628, 'max_features': 5, 'min_samples_split': 7, 'min_samples_leaf': 1}.\n",
      "[I 2019-03-25 20:35:55,028] Finished a trial resulted in value: 1.671645210970408. Current best value is 1.2851880098694446 with parameters: {'max_depth': 28.384584800685214, 'n_estimators': 569.0131803934628, 'max_features': 5, 'min_samples_split': 7, 'min_samples_leaf': 1}.\n",
      "[I 2019-03-25 20:35:55,841] Finished a trial resulted in value: 1.4526092469587701. Current best value is 1.2851880098694446 with parameters: {'max_depth': 28.384584800685214, 'n_estimators': 569.0131803934628, 'max_features': 5, 'min_samples_split': 7, 'min_samples_leaf': 1}.\n",
      "[I 2019-03-25 20:35:56,117] Finished a trial resulted in value: 1.57404526915941. Current best value is 1.2851880098694446 with parameters: {'max_depth': 28.384584800685214, 'n_estimators': 569.0131803934628, 'max_features': 5, 'min_samples_split': 7, 'min_samples_leaf': 1}.\n",
      "[I 2019-03-25 20:35:57,736] Finished a trial resulted in value: 1.3963411453843768. Current best value is 1.2851880098694446 with parameters: {'max_depth': 28.384584800685214, 'n_estimators': 569.0131803934628, 'max_features': 5, 'min_samples_split': 7, 'min_samples_leaf': 1}.\n",
      "[I 2019-03-25 20:36:03,664] Finished a trial resulted in value: 1.2842948017849365. Current best value is 1.2842948017849365 with parameters: {'max_depth': 68.0941085313078, 'n_estimators': 448.96558455530123, 'max_features': 5, 'min_samples_split': 6, 'min_samples_leaf': 4}.\n",
      "[I 2019-03-25 20:36:03,778] Finished a trial resulted in value: 2.1688066683935143. Current best value is 1.2842948017849365 with parameters: {'max_depth': 68.0941085313078, 'n_estimators': 448.96558455530123, 'max_features': 5, 'min_samples_split': 6, 'min_samples_leaf': 4}.\n",
      "[I 2019-03-25 20:36:08,065] Finished a trial resulted in value: 1.7516404140503758. Current best value is 1.2842948017849365 with parameters: {'max_depth': 68.0941085313078, 'n_estimators': 448.96558455530123, 'max_features': 5, 'min_samples_split': 6, 'min_samples_leaf': 4}.\n",
      "[I 2019-03-25 20:36:08,225] Finished a trial resulted in value: 1.7654918889625542. Current best value is 1.2842948017849365 with parameters: {'max_depth': 68.0941085313078, 'n_estimators': 448.96558455530123, 'max_features': 5, 'min_samples_split': 6, 'min_samples_leaf': 4}.\n",
      "[I 2019-03-25 20:36:12,432] Finished a trial resulted in value: 1.598177912871797. Current best value is 1.2842948017849365 with parameters: {'max_depth': 68.0941085313078, 'n_estimators': 448.96558455530123, 'max_features': 5, 'min_samples_split': 6, 'min_samples_leaf': 4}.\n",
      "[I 2019-03-25 20:36:12,745] Finished a trial resulted in value: 1.8365950984499322. Current best value is 1.2842948017849365 with parameters: {'max_depth': 68.0941085313078, 'n_estimators': 448.96558455530123, 'max_features': 5, 'min_samples_split': 6, 'min_samples_leaf': 4}.\n",
      "[I 2019-03-25 20:36:20,169] Finished a trial resulted in value: 1.4914386063813558. Current best value is 1.2842948017849365 with parameters: {'max_depth': 68.0941085313078, 'n_estimators': 448.96558455530123, 'max_features': 5, 'min_samples_split': 6, 'min_samples_leaf': 4}.\n",
      "[I 2019-03-25 20:36:25,970] Finished a trial resulted in value: 1.6716206092796377. Current best value is 1.2842948017849365 with parameters: {'max_depth': 68.0941085313078, 'n_estimators': 448.96558455530123, 'max_features': 5, 'min_samples_split': 6, 'min_samples_leaf': 4}.\n",
      "[I 2019-03-25 20:36:27,672] Finished a trial resulted in value: 1.3818744554554498. Current best value is 1.2842948017849365 with parameters: {'max_depth': 68.0941085313078, 'n_estimators': 448.96558455530123, 'max_features': 5, 'min_samples_split': 6, 'min_samples_leaf': 4}.\n",
      "[I 2019-03-25 20:36:38,834] Finished a trial resulted in value: 1.63565457284154. Current best value is 1.2842948017849365 with parameters: {'max_depth': 68.0941085313078, 'n_estimators': 448.96558455530123, 'max_features': 5, 'min_samples_split': 6, 'min_samples_leaf': 4}.\n"
     ]
    },
    {
     "name": "stderr",
     "output_type": "stream",
     "text": [
      "[I 2019-03-25 20:36:41,879] Finished a trial resulted in value: 1.5962131382114821. Current best value is 1.2842948017849365 with parameters: {'max_depth': 68.0941085313078, 'n_estimators': 448.96558455530123, 'max_features': 5, 'min_samples_split': 6, 'min_samples_leaf': 4}.\n",
      "[I 2019-03-25 20:36:43,208] Finished a trial resulted in value: 1.6800950397749421. Current best value is 1.2842948017849365 with parameters: {'max_depth': 68.0941085313078, 'n_estimators': 448.96558455530123, 'max_features': 5, 'min_samples_split': 6, 'min_samples_leaf': 4}.\n",
      "[I 2019-03-25 20:36:43,608] Finished a trial resulted in value: 1.737747295394195. Current best value is 1.2842948017849365 with parameters: {'max_depth': 68.0941085313078, 'n_estimators': 448.96558455530123, 'max_features': 5, 'min_samples_split': 6, 'min_samples_leaf': 4}.\n",
      "[I 2019-03-25 20:36:46,037] Finished a trial resulted in value: 1.8236396996031397. Current best value is 1.2842948017849365 with parameters: {'max_depth': 68.0941085313078, 'n_estimators': 448.96558455530123, 'max_features': 5, 'min_samples_split': 6, 'min_samples_leaf': 4}.\n",
      "[I 2019-03-25 20:36:48,481] Finished a trial resulted in value: 1.5451618588055323. Current best value is 1.2842948017849365 with parameters: {'max_depth': 68.0941085313078, 'n_estimators': 448.96558455530123, 'max_features': 5, 'min_samples_split': 6, 'min_samples_leaf': 4}.\n",
      "[I 2019-03-25 20:37:00,114] Finished a trial resulted in value: 1.5888576017587086. Current best value is 1.2842948017849365 with parameters: {'max_depth': 68.0941085313078, 'n_estimators': 448.96558455530123, 'max_features': 5, 'min_samples_split': 6, 'min_samples_leaf': 4}.\n",
      "[I 2019-03-25 20:37:02,154] Finished a trial resulted in value: 1.412927130509061. Current best value is 1.2842948017849365 with parameters: {'max_depth': 68.0941085313078, 'n_estimators': 448.96558455530123, 'max_features': 5, 'min_samples_split': 6, 'min_samples_leaf': 4}.\n",
      "[I 2019-03-25 20:37:03,451] Finished a trial resulted in value: 2.598377937657408. Current best value is 1.2842948017849365 with parameters: {'max_depth': 68.0941085313078, 'n_estimators': 448.96558455530123, 'max_features': 5, 'min_samples_split': 6, 'min_samples_leaf': 4}.\n",
      "[I 2019-03-25 20:37:04,698] Finished a trial resulted in value: 1.6430899098288532. Current best value is 1.2842948017849365 with parameters: {'max_depth': 68.0941085313078, 'n_estimators': 448.96558455530123, 'max_features': 5, 'min_samples_split': 6, 'min_samples_leaf': 4}.\n",
      "[I 2019-03-25 20:37:05,173] Finished a trial resulted in value: 1.5777319248426638. Current best value is 1.2842948017849365 with parameters: {'max_depth': 68.0941085313078, 'n_estimators': 448.96558455530123, 'max_features': 5, 'min_samples_split': 6, 'min_samples_leaf': 4}.\n",
      "[I 2019-03-25 20:37:05,991] Finished a trial resulted in value: 1.65834853399069. Current best value is 1.2842948017849365 with parameters: {'max_depth': 68.0941085313078, 'n_estimators': 448.96558455530123, 'max_features': 5, 'min_samples_split': 6, 'min_samples_leaf': 4}.\n",
      "[I 2019-03-25 20:37:06,925] Finished a trial resulted in value: 1.4678802439791385. Current best value is 1.2842948017849365 with parameters: {'max_depth': 68.0941085313078, 'n_estimators': 448.96558455530123, 'max_features': 5, 'min_samples_split': 6, 'min_samples_leaf': 4}.\n",
      "[I 2019-03-25 20:37:13,091] Finished a trial resulted in value: 1.392620978353999. Current best value is 1.2842948017849365 with parameters: {'max_depth': 68.0941085313078, 'n_estimators': 448.96558455530123, 'max_features': 5, 'min_samples_split': 6, 'min_samples_leaf': 4}.\n"
     ]
    }
   ],
   "source": [
    "def objective_rf(trial):\n",
    "    max_depth = int(trial.suggest_loguniform('max_depth', 2, 100))\n",
    "    n_estimators = int(trial.suggest_loguniform('n_estimators', 2, 1000))\n",
    "    max_features = trial.suggest_int('max_features', 1, 10)\n",
    "    min_samples_split = trial.suggest_int('min_samples_split', 2, 10)\n",
    "    min_samples_leaf = trial.suggest_int('min_samples_leaf', 1, 10)\n",
    "        \n",
    "    n_folds = 4\n",
    "    score = 0\n",
    "    for _ in range(n_folds):\n",
    "        rf = RandomForestRegressor(max_depth=max_depth, n_estimators=n_estimators, max_features=max_features,\n",
    "                              min_samples_split=min_samples_split, min_samples_leaf=min_samples_leaf)\n",
    "        X_trn, X_val, y_trn, y_val = train_test_split(X_train, y_train)\n",
    "        rf.fit(X_trn, y_trn)\n",
    "        y_pred = rf.predict(X_val)\n",
    "        score += mean_squared_error(y_val, y_pred)\n",
    "    return score/n_folds\n",
    "\n",
    "study = optuna.create_study()\n",
    "study.optimize(objective_rf, n_trials=100)"
   ]
  },
  {
   "cell_type": "code",
   "execution_count": 29,
   "metadata": {
    "scrolled": true
   },
   "outputs": [
    {
     "name": "stdout",
     "output_type": "stream",
     "text": [
      "Test R2: 0.6551\n",
      "Test MSE: 1.4081\n"
     ]
    }
   ],
   "source": [
    "# Optimized\n",
    "\n",
    "mse = 0\n",
    "r2 = 0\n",
    "n = 10\n",
    "\n",
    "for _ in range(n):\n",
    "    RF = RandomForestRegressor(max_depth=68, n_estimators=449, max_features=5,\n",
    "                              min_samples_split=6, min_samples_leaf=4)\n",
    "    RF.fit(X_train, y_train)\n",
    "    y_pred = RF.predict(X_test)\n",
    "    r2 += r2_score(y_test, y_pred)\n",
    "    mse += mean_squared_error(y_test, y_pred)\n",
    "\n",
    "print(\"Test R2: {:.4f}\".format(r2/n))\n",
    "print(\"Test MSE: {:.4f}\".format(mse/n))"
   ]
  },
  {
   "cell_type": "code",
   "execution_count": null,
   "metadata": {},
   "outputs": [],
   "source": []
  }
 ],
 "metadata": {
  "kernelspec": {
   "display_name": "Python 3",
   "language": "python",
   "name": "python3"
  },
  "language_info": {
   "codemirror_mode": {
    "name": "ipython",
    "version": 3
   },
   "file_extension": ".py",
   "mimetype": "text/x-python",
   "name": "python",
   "nbconvert_exporter": "python",
   "pygments_lexer": "ipython3",
   "version": "3.6.6"
  }
 },
 "nbformat": 4,
 "nbformat_minor": 2
}
