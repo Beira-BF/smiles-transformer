{
 "cells": [
  {
   "cell_type": "markdown",
   "metadata": {},
   "source": [
    "# Performance comparaison\n",
    "\n",
    "| Fingerprint | MLP | RF |  \n",
    "|:-:|:-:|:-:|  \n",
    "|BERT on GDB17_30 FIRST|0.278|0.668| \n",
    "|BERT MSM|0.784||  \n",
    "|ECFP| 0.740 | 0.659 |\n",
    "|Can2Can|0.7176||\n",
    "|Enum2Enum|0.725||\n",
    "|Transformer|0.862||\n",
    "| NFP| 0.8845 |  |"
   ]
  },
  {
   "cell_type": "code",
   "execution_count": 1,
   "metadata": {},
   "outputs": [],
   "source": [
    "import os\n",
    "import numpy as np\n",
    "import pandas as pd\n",
    "import matplotlib.pyplot as plt\n",
    "from sklearn.ensemble import RandomForestRegressor\n",
    "from sklearn.neural_network import MLPRegressor\n",
    "from sklearn.model_selection import train_test_split, GridSearchCV\n",
    "from sklearn.metrics import mean_squared_error, r2_score\n",
    "import torch\n",
    "import optuna\n",
    "\n",
    "from bert import BERT\n",
    "from build_vocab import WordVocab\n",
    "from utils import split"
   ]
  },
  {
   "cell_type": "code",
   "execution_count": 2,
   "metadata": {},
   "outputs": [],
   "source": [
    "pad_index = 0\n",
    "unk_index = 1\n",
    "eos_index = 2\n",
    "sos_index = 3\n",
    "mask_index = 4"
   ]
  },
  {
   "cell_type": "code",
   "execution_count": 3,
   "metadata": {},
   "outputs": [
    {
     "data": {
      "text/html": [
       "<div>\n",
       "<style scoped>\n",
       "    .dataframe tbody tr th:only-of-type {\n",
       "        vertical-align: middle;\n",
       "    }\n",
       "\n",
       "    .dataframe tbody tr th {\n",
       "        vertical-align: top;\n",
       "    }\n",
       "\n",
       "    .dataframe thead th {\n",
       "        text-align: right;\n",
       "    }\n",
       "</style>\n",
       "<table border=\"1\" class=\"dataframe\">\n",
       "  <thead>\n",
       "    <tr style=\"text-align: right;\">\n",
       "      <th></th>\n",
       "      <th>SMILES</th>\n",
       "      <th>unknown</th>\n",
       "      <th>solubility</th>\n",
       "      <th>processed_smiles</th>\n",
       "      <th>spaced</th>\n",
       "    </tr>\n",
       "  </thead>\n",
       "  <tbody>\n",
       "    <tr>\n",
       "      <th>0</th>\n",
       "      <td>[nH0]1c(SC)c2c([nH0]cc[nH0]2)[nH0]c1</td>\n",
       "      <td>6966-78-5</td>\n",
       "      <td>-2.36</td>\n",
       "      <td>[ n H 0 ] 1 c ( S C ) c 2 c ( [ n H 0 ] c c [ ...</td>\n",
       "      <td>[ n H 0 ] 1 c ( S C ) c 2 c ( [ n H 0 ] c c [ ...</td>\n",
       "    </tr>\n",
       "    <tr>\n",
       "      <th>1</th>\n",
       "      <td>CCC(C)Cl</td>\n",
       "      <td>78-86-4</td>\n",
       "      <td>-1.96</td>\n",
       "      <td>C C C ( C ) Cl</td>\n",
       "      <td>C C C ( C ) C l</td>\n",
       "    </tr>\n",
       "    <tr>\n",
       "      <th>2</th>\n",
       "      <td>O=C(NC(=O)c1ccccc1)c1ccccc1</td>\n",
       "      <td>614-28-8</td>\n",
       "      <td>-2.27</td>\n",
       "      <td>O = C ( N C ( = O ) c 1 c c c c c 1 ) c 1 c c ...</td>\n",
       "      <td>O = C ( N C ( = O ) c 1 c c c c c 1 ) c 1 c c ...</td>\n",
       "    </tr>\n",
       "    <tr>\n",
       "      <th>3</th>\n",
       "      <td>CC(C(C)(C)C)O</td>\n",
       "      <td>464-07-3</td>\n",
       "      <td>-0.62</td>\n",
       "      <td>C C ( C ( C ) ( C ) C ) O</td>\n",
       "      <td>C C ( C ( C ) ( C ) C ) O</td>\n",
       "    </tr>\n",
       "    <tr>\n",
       "      <th>4</th>\n",
       "      <td>[O-][N+](c1c(O)cccc1)=O</td>\n",
       "      <td>88-75-5</td>\n",
       "      <td>-1.74</td>\n",
       "      <td>[ O- ] [ N+ ] ( c 1 c ( O ) c c c c 1 ) = O</td>\n",
       "      <td>[ O - ] [ N + ] ( c 1 c ( O ) c c c c 1 ) = O</td>\n",
       "    </tr>\n",
       "  </tbody>\n",
       "</table>\n",
       "</div>"
      ],
      "text/plain": [
       "                                 SMILES    unknown  solubility  \\\n",
       "0  [nH0]1c(SC)c2c([nH0]cc[nH0]2)[nH0]c1  6966-78-5       -2.36   \n",
       "1                              CCC(C)Cl    78-86-4       -1.96   \n",
       "2           O=C(NC(=O)c1ccccc1)c1ccccc1   614-28-8       -2.27   \n",
       "3                         CC(C(C)(C)C)O   464-07-3       -0.62   \n",
       "4               [O-][N+](c1c(O)cccc1)=O    88-75-5       -1.74   \n",
       "\n",
       "                                    processed_smiles  \\\n",
       "0  [ n H 0 ] 1 c ( S C ) c 2 c ( [ n H 0 ] c c [ ...   \n",
       "1                                     C C C ( C ) Cl   \n",
       "2  O = C ( N C ( = O ) c 1 c c c c c 1 ) c 1 c c ...   \n",
       "3                          C C ( C ( C ) ( C ) C ) O   \n",
       "4        [ O- ] [ N+ ] ( c 1 c ( O ) c c c c 1 ) = O   \n",
       "\n",
       "                                              spaced  \n",
       "0  [ n H 0 ] 1 c ( S C ) c 2 c ( [ n H 0 ] c c [ ...  \n",
       "1                                    C C C ( C ) C l  \n",
       "2  O = C ( N C ( = O ) c 1 c c c c c 1 ) c 1 c c ...  \n",
       "3                          C C ( C ( C ) ( C ) C ) O  \n",
       "4      [ O - ] [ N + ] ( c 1 c ( O ) c c c c 1 ) = O  "
      ]
     },
     "execution_count": 3,
     "metadata": {},
     "output_type": "execute_result"
    }
   ],
   "source": [
    "df_train = pd.read_csv('data/sol_train.csv')\n",
    "df_test = pd.read_csv('data/sol_test.csv')\n",
    "df_train.head()"
   ]
  },
  {
   "cell_type": "code",
   "execution_count": 4,
   "metadata": {},
   "outputs": [],
   "source": [
    "x_train = [split(sm) for sm in df_train['SMILES']]\n",
    "y_train = df_train['solubility']\n",
    "x_test = [split(sm) for sm in df_test['SMILES']]\n",
    "y_test = df_test['solubility']"
   ]
  },
  {
   "cell_type": "code",
   "execution_count": 5,
   "metadata": {},
   "outputs": [],
   "source": [
    "vocab = WordVocab.load_vocab('data/vocab.pkl')"
   ]
  },
  {
   "cell_type": "code",
   "execution_count": 6,
   "metadata": {},
   "outputs": [],
   "source": [
    "def get_inputs(sm):\n",
    "    seq_len = 220\n",
    "    ids = [vocab.stoi.get(token, unk_index) for token in sm.split()]\n",
    "    ids = [sos_index] + ids + [eos_index] + [eos_index]\n",
    "    seg = [1]*len(ids)\n",
    "    padding = [pad_index]*(seq_len - len(ids))\n",
    "    ids.extend(padding), seg.extend(padding)\n",
    "    \n",
    "    return ids, seg"
   ]
  },
  {
   "cell_type": "code",
   "execution_count": 7,
   "metadata": {},
   "outputs": [],
   "source": [
    "def get_array(x):\n",
    "    x_id, x_seg = [], []\n",
    "    for sm in x:\n",
    "        a,b = get_inputs(sm)\n",
    "        x_id.append(a)\n",
    "        x_seg.append(b)\n",
    "    return torch.tensor(x_id), torch.tensor(x_seg)\n",
    "    \n",
    "xid_train, xseg_train = get_array(x_train)\n",
    "xid_test, xseg_test = get_array(x_test)"
   ]
  },
  {
   "cell_type": "code",
   "execution_count": 8,
   "metadata": {},
   "outputs": [
    {
     "name": "stdout",
     "output_type": "stream",
     "text": [
      "torch.Size([322, 220])\n",
      "torch.Size([322, 220])\n"
     ]
    }
   ],
   "source": [
    "print(xid_test.shape)\n",
    "print(xseg_test.shape)"
   ]
  },
  {
   "cell_type": "markdown",
   "metadata": {},
   "source": [
    "# Encode to fingerprint"
   ]
  },
  {
   "cell_type": "code",
   "execution_count": 10,
   "metadata": {},
   "outputs": [
    {
     "data": {
      "text/plain": [
       "BERT(\n",
       "  (embedding): BERTEmbedding(\n",
       "    (token): TokenEmbedding(45, 256, padding_idx=0)\n",
       "    (position): PositionalEmbedding()\n",
       "    (segment): SegmentEmbedding(3, 256, padding_idx=0)\n",
       "    (dropout): Dropout(p=0)\n",
       "  )\n",
       "  (transformer_blocks): ModuleList(\n",
       "    (0): TransformerBlock(\n",
       "      (attention): MultiHeadedAttention(\n",
       "        (linear_layers): ModuleList(\n",
       "          (0): Linear(in_features=256, out_features=256, bias=True)\n",
       "          (1): Linear(in_features=256, out_features=256, bias=True)\n",
       "          (2): Linear(in_features=256, out_features=256, bias=True)\n",
       "        )\n",
       "        (output_linear): Linear(in_features=256, out_features=256, bias=True)\n",
       "        (attention): Attention()\n",
       "        (dropout): Dropout(p=0)\n",
       "      )\n",
       "      (feed_forward): PositionwiseFeedForward(\n",
       "        (w_1): Linear(in_features=256, out_features=1024, bias=True)\n",
       "        (w_2): Linear(in_features=1024, out_features=256, bias=True)\n",
       "        (dropout): Dropout(p=0)\n",
       "        (activation): GELU()\n",
       "      )\n",
       "      (input_sublayer): SublayerConnection(\n",
       "        (norm): LayerNorm()\n",
       "        (dropout): Dropout(p=0)\n",
       "      )\n",
       "      (output_sublayer): SublayerConnection(\n",
       "        (norm): LayerNorm()\n",
       "        (dropout): Dropout(p=0)\n",
       "      )\n",
       "      (dropout): Dropout(p=0)\n",
       "    )\n",
       "    (1): TransformerBlock(\n",
       "      (attention): MultiHeadedAttention(\n",
       "        (linear_layers): ModuleList(\n",
       "          (0): Linear(in_features=256, out_features=256, bias=True)\n",
       "          (1): Linear(in_features=256, out_features=256, bias=True)\n",
       "          (2): Linear(in_features=256, out_features=256, bias=True)\n",
       "        )\n",
       "        (output_linear): Linear(in_features=256, out_features=256, bias=True)\n",
       "        (attention): Attention()\n",
       "        (dropout): Dropout(p=0)\n",
       "      )\n",
       "      (feed_forward): PositionwiseFeedForward(\n",
       "        (w_1): Linear(in_features=256, out_features=1024, bias=True)\n",
       "        (w_2): Linear(in_features=1024, out_features=256, bias=True)\n",
       "        (dropout): Dropout(p=0)\n",
       "        (activation): GELU()\n",
       "      )\n",
       "      (input_sublayer): SublayerConnection(\n",
       "        (norm): LayerNorm()\n",
       "        (dropout): Dropout(p=0)\n",
       "      )\n",
       "      (output_sublayer): SublayerConnection(\n",
       "        (norm): LayerNorm()\n",
       "        (dropout): Dropout(p=0)\n",
       "      )\n",
       "      (dropout): Dropout(p=0)\n",
       "    )\n",
       "    (2): TransformerBlock(\n",
       "      (attention): MultiHeadedAttention(\n",
       "        (linear_layers): ModuleList(\n",
       "          (0): Linear(in_features=256, out_features=256, bias=True)\n",
       "          (1): Linear(in_features=256, out_features=256, bias=True)\n",
       "          (2): Linear(in_features=256, out_features=256, bias=True)\n",
       "        )\n",
       "        (output_linear): Linear(in_features=256, out_features=256, bias=True)\n",
       "        (attention): Attention()\n",
       "        (dropout): Dropout(p=0)\n",
       "      )\n",
       "      (feed_forward): PositionwiseFeedForward(\n",
       "        (w_1): Linear(in_features=256, out_features=1024, bias=True)\n",
       "        (w_2): Linear(in_features=1024, out_features=256, bias=True)\n",
       "        (dropout): Dropout(p=0)\n",
       "        (activation): GELU()\n",
       "      )\n",
       "      (input_sublayer): SublayerConnection(\n",
       "        (norm): LayerNorm()\n",
       "        (dropout): Dropout(p=0)\n",
       "      )\n",
       "      (output_sublayer): SublayerConnection(\n",
       "        (norm): LayerNorm()\n",
       "        (dropout): Dropout(p=0)\n",
       "      )\n",
       "      (dropout): Dropout(p=0)\n",
       "    )\n",
       "    (3): TransformerBlock(\n",
       "      (attention): MultiHeadedAttention(\n",
       "        (linear_layers): ModuleList(\n",
       "          (0): Linear(in_features=256, out_features=256, bias=True)\n",
       "          (1): Linear(in_features=256, out_features=256, bias=True)\n",
       "          (2): Linear(in_features=256, out_features=256, bias=True)\n",
       "        )\n",
       "        (output_linear): Linear(in_features=256, out_features=256, bias=True)\n",
       "        (attention): Attention()\n",
       "        (dropout): Dropout(p=0)\n",
       "      )\n",
       "      (feed_forward): PositionwiseFeedForward(\n",
       "        (w_1): Linear(in_features=256, out_features=1024, bias=True)\n",
       "        (w_2): Linear(in_features=1024, out_features=256, bias=True)\n",
       "        (dropout): Dropout(p=0)\n",
       "        (activation): GELU()\n",
       "      )\n",
       "      (input_sublayer): SublayerConnection(\n",
       "        (norm): LayerNorm()\n",
       "        (dropout): Dropout(p=0)\n",
       "      )\n",
       "      (output_sublayer): SublayerConnection(\n",
       "        (norm): LayerNorm()\n",
       "        (dropout): Dropout(p=0)\n",
       "      )\n",
       "      (dropout): Dropout(p=0)\n",
       "    )\n",
       "  )\n",
       ")"
      ]
     },
     "execution_count": 10,
     "metadata": {},
     "output_type": "execute_result"
    }
   ],
   "source": [
    "model = BERT(len(vocab), hidden=256, n_layers=4, attn_heads=4, dropout=0)\n",
    "model.load_state_dict(torch.load('../result/GDB17_embed20/ep_09.pkl'))\n",
    "model.eval()"
   ]
  },
  {
   "cell_type": "code",
   "execution_count": 9,
   "metadata": {},
   "outputs": [
    {
     "ename": "RuntimeError",
     "evalue": "Error(s) in loading state_dict for BERT:\n\tsize mismatch for embedding.position.pe: copying a param with shape torch.Size([1, 512, 256]) from checkpoint, the shape in current model is torch.Size([1, 220, 256]).",
     "output_type": "error",
     "traceback": [
      "\u001b[0;31m---------------------------------------------------------------------------\u001b[0m",
      "\u001b[0;31mRuntimeError\u001b[0m                              Traceback (most recent call last)",
      "\u001b[0;32m<ipython-input-9-44b137f950cc>\u001b[0m in \u001b[0;36m<module>\u001b[0;34m\u001b[0m\n\u001b[1;32m      1\u001b[0m \u001b[0mmodel\u001b[0m \u001b[0;34m=\u001b[0m \u001b[0mBERT\u001b[0m\u001b[0;34m(\u001b[0m\u001b[0mlen\u001b[0m\u001b[0;34m(\u001b[0m\u001b[0mvocab\u001b[0m\u001b[0;34m)\u001b[0m\u001b[0;34m,\u001b[0m \u001b[0mhidden\u001b[0m\u001b[0;34m=\u001b[0m\u001b[0;36m256\u001b[0m\u001b[0;34m,\u001b[0m \u001b[0mn_layers\u001b[0m\u001b[0;34m=\u001b[0m\u001b[0;36m7\u001b[0m\u001b[0;34m,\u001b[0m \u001b[0mattn_heads\u001b[0m\u001b[0;34m=\u001b[0m\u001b[0;36m4\u001b[0m\u001b[0;34m,\u001b[0m \u001b[0mdropout\u001b[0m\u001b[0;34m=\u001b[0m\u001b[0;36m0\u001b[0m\u001b[0;34m)\u001b[0m\u001b[0;34m\u001b[0m\u001b[0m\n\u001b[0;32m----> 2\u001b[0;31m \u001b[0mmodel\u001b[0m\u001b[0;34m.\u001b[0m\u001b[0mload_state_dict\u001b[0m\u001b[0;34m(\u001b[0m\u001b[0mtorch\u001b[0m\u001b[0;34m.\u001b[0m\u001b[0mload\u001b[0m\u001b[0;34m(\u001b[0m\u001b[0;34m'../result/chembl/ep_29.pkl'\u001b[0m\u001b[0;34m)\u001b[0m\u001b[0;34m)\u001b[0m\u001b[0;34m\u001b[0m\u001b[0m\n\u001b[0m\u001b[1;32m      3\u001b[0m \u001b[0mmodel\u001b[0m\u001b[0;34m.\u001b[0m\u001b[0meval\u001b[0m\u001b[0;34m(\u001b[0m\u001b[0;34m)\u001b[0m\u001b[0;34m\u001b[0m\u001b[0m\n",
      "\u001b[0;32m~/anaconda3/lib/python3.6/site-packages/torch/nn/modules/module.py\u001b[0m in \u001b[0;36mload_state_dict\u001b[0;34m(self, state_dict, strict)\u001b[0m\n\u001b[1;32m    767\u001b[0m         \u001b[0;32mif\u001b[0m \u001b[0mlen\u001b[0m\u001b[0;34m(\u001b[0m\u001b[0merror_msgs\u001b[0m\u001b[0;34m)\u001b[0m \u001b[0;34m>\u001b[0m \u001b[0;36m0\u001b[0m\u001b[0;34m:\u001b[0m\u001b[0;34m\u001b[0m\u001b[0m\n\u001b[1;32m    768\u001b[0m             raise RuntimeError('Error(s) in loading state_dict for {}:\\n\\t{}'.format(\n\u001b[0;32m--> 769\u001b[0;31m                                self.__class__.__name__, \"\\n\\t\".join(error_msgs)))\n\u001b[0m\u001b[1;32m    770\u001b[0m \u001b[0;34m\u001b[0m\u001b[0m\n\u001b[1;32m    771\u001b[0m     \u001b[0;32mdef\u001b[0m \u001b[0m_named_members\u001b[0m\u001b[0;34m(\u001b[0m\u001b[0mself\u001b[0m\u001b[0;34m,\u001b[0m \u001b[0mget_members_fn\u001b[0m\u001b[0;34m,\u001b[0m \u001b[0mprefix\u001b[0m\u001b[0;34m=\u001b[0m\u001b[0;34m''\u001b[0m\u001b[0;34m,\u001b[0m \u001b[0mrecurse\u001b[0m\u001b[0;34m=\u001b[0m\u001b[0;32mTrue\u001b[0m\u001b[0;34m)\u001b[0m\u001b[0;34m:\u001b[0m\u001b[0;34m\u001b[0m\u001b[0m\n",
      "\u001b[0;31mRuntimeError\u001b[0m: Error(s) in loading state_dict for BERT:\n\tsize mismatch for embedding.position.pe: copying a param with shape torch.Size([1, 512, 256]) from checkpoint, the shape in current model is torch.Size([1, 220, 256])."
     ]
    }
   ],
   "source": [
    "# -b 16 -e 30 --hidden 256 -l 7 --n_head 4 --lr 1e-4 --lr-decay 5 --final-lr 0.01\n",
    "model = BERT(len(vocab), hidden=256, n_layers=7, attn_heads=4, dropout=0)\n",
    "model.load_state_dict(torch.load('../result/chembl/ep_29.pkl'))\n",
    "model.eval()"
   ]
  },
  {
   "cell_type": "code",
   "execution_count": 11,
   "metadata": {},
   "outputs": [],
   "source": [
    "del df_test, df_train, x_train, x_test"
   ]
  },
  {
   "cell_type": "code",
   "execution_count": 12,
   "metadata": {},
   "outputs": [],
   "source": [
    "st,ed = 0,100\n",
    "X_train = model.encode(xid_train[st:ed], xseg_train[st:ed]).detach().numpy()\n",
    "while ed<len(xid_train):\n",
    "    st += 100\n",
    "    ed += 100\n",
    "    X_train = np.vstack([X_train, model.encode(xid_train[st:ed], xseg_train[st:ed]).detach().numpy()])"
   ]
  },
  {
   "cell_type": "code",
   "execution_count": 13,
   "metadata": {},
   "outputs": [],
   "source": [
    "st,ed = 0,100\n",
    "X_test = model.encode(xid_test[st:ed], xseg_test[st:ed]).detach().numpy()\n",
    "while ed<len(xid_test):\n",
    "    st += 100\n",
    "    ed += 100\n",
    "    X_test = np.vstack([X_test, model.encode(xid_test[st:ed], xseg_test[st:ed]).detach().numpy()])"
   ]
  },
  {
   "cell_type": "code",
   "execution_count": 14,
   "metadata": {},
   "outputs": [
    {
     "data": {
      "text/plain": [
       "(968, 220, 512)"
      ]
     },
     "execution_count": 14,
     "metadata": {},
     "output_type": "execute_result"
    }
   ],
   "source": [
    "X_train.shape"
   ]
  },
  {
   "cell_type": "code",
   "execution_count": 15,
   "metadata": {},
   "outputs": [],
   "source": [
    "# X_train = np.mean(X_train, axis=1)\n",
    "# X_test = np.mean(X_test, axis=1)\n",
    "X_train = X_train[:,0,:]\n",
    "X_test = X_test[:,0,:]\n",
    "#y_train = df_train['solubility']\n",
    "#y_test = df_test['solubility']"
   ]
  },
  {
   "cell_type": "markdown",
   "metadata": {},
   "source": [
    "# Prediction\n",
    "### MLP"
   ]
  },
  {
   "cell_type": "code",
   "execution_count": 16,
   "metadata": {},
   "outputs": [
    {
     "name": "stdout",
     "output_type": "stream",
     "text": [
      "Test R2: 0.2623 ± 0.0470\n",
      "Test MSE: 3.0118 ± 0.1917\n"
     ]
    }
   ],
   "source": [
    "# Default\n",
    "n = 10\n",
    "r2 = np.zeros(n)\n",
    "mse = np.zeros(n)\n",
    "\n",
    "for i in range(n):\n",
    "    MLP = MLPRegressor()\n",
    "    MLP.fit(X_train, y_train)\n",
    "    y_pred = MLP.predict(X_test)\n",
    "    r2[i] = r2_score(y_test, y_pred)\n",
    "    mse[i] = mean_squared_error(y_test, y_pred)\n",
    "\n",
    "print(\"Test R2: {:.4f} ± {:.4f}\".format(np.mean(r2), np.std(r2)))\n",
    "print(\"Test MSE: {:.4f} ± {:.4f}\".format(np.mean(mse), np.std(mse)))"
   ]
  },
  {
   "cell_type": "code",
   "execution_count": 17,
   "metadata": {
    "scrolled": true
   },
   "outputs": [
    {
     "name": "stderr",
     "output_type": "stream",
     "text": [
      "/home/honda/anaconda3/lib/python3.6/site-packages/sklearn/neural_network/multilayer_perceptron.py:562: ConvergenceWarning: Stochastic Optimizer: Maximum iterations (200) reached and the optimization hasn't converged yet.\n",
      "  % self.max_iter, ConvergenceWarning)\n",
      "/home/honda/anaconda3/lib/python3.6/site-packages/sklearn/neural_network/multilayer_perceptron.py:562: ConvergenceWarning: Stochastic Optimizer: Maximum iterations (200) reached and the optimization hasn't converged yet.\n",
      "  % self.max_iter, ConvergenceWarning)\n",
      "[I 2019-03-27 12:51:56,490] Finished a trial resulted in value: 3.9256684188152144. Current best value is 3.9256684188152144 with parameters: {'n_layers': 1, 'n_units_l0': 5.480629971111014}.\n",
      "/home/honda/anaconda3/lib/python3.6/site-packages/sklearn/neural_network/multilayer_perceptron.py:562: ConvergenceWarning: Stochastic Optimizer: Maximum iterations (200) reached and the optimization hasn't converged yet.\n",
      "  % self.max_iter, ConvergenceWarning)\n",
      "[I 2019-03-27 12:51:59,016] Finished a trial resulted in value: 3.7524683326132813. Current best value is 3.7524683326132813 with parameters: {'n_layers': 2, 'n_units_l0': 3.9368491313706793, 'n_units_l1': 6.536836999182889}.\n",
      "[I 2019-03-27 12:52:16,463] Finished a trial resulted in value: 2.9943524227140372. Current best value is 2.9943524227140372 with parameters: {'n_layers': 1, 'n_units_l0': 531.787693605594}.\n",
      "[I 2019-03-27 12:52:19,991] Finished a trial resulted in value: 2.9013518957118545. Current best value is 2.9013518957118545 with parameters: {'n_layers': 3, 'n_units_l0': 8.356904904140531, 'n_units_l1': 6.695005478441894, 'n_units_l2': 91.60787247486093}.\n",
      "/home/honda/anaconda3/lib/python3.6/site-packages/sklearn/neural_network/multilayer_perceptron.py:562: ConvergenceWarning: Stochastic Optimizer: Maximum iterations (200) reached and the optimization hasn't converged yet.\n",
      "  % self.max_iter, ConvergenceWarning)\n",
      "/home/honda/anaconda3/lib/python3.6/site-packages/sklearn/neural_network/multilayer_perceptron.py:562: ConvergenceWarning: Stochastic Optimizer: Maximum iterations (200) reached and the optimization hasn't converged yet.\n",
      "  % self.max_iter, ConvergenceWarning)\n",
      "/home/honda/anaconda3/lib/python3.6/site-packages/sklearn/neural_network/multilayer_perceptron.py:562: ConvergenceWarning: Stochastic Optimizer: Maximum iterations (200) reached and the optimization hasn't converged yet.\n",
      "  % self.max_iter, ConvergenceWarning)\n",
      "[I 2019-03-27 12:52:31,905] Finished a trial resulted in value: 4.872801503656569. Current best value is 2.9013518957118545 with parameters: {'n_layers': 3, 'n_units_l0': 8.356904904140531, 'n_units_l1': 6.695005478441894, 'n_units_l2': 91.60787247486093}.\n",
      "[I 2019-03-27 12:52:35,763] Finished a trial resulted in value: 3.021136398840837. Current best value is 2.9013518957118545 with parameters: {'n_layers': 3, 'n_units_l0': 8.356904904140531, 'n_units_l1': 6.695005478441894, 'n_units_l2': 91.60787247486093}.\n",
      "/home/honda/anaconda3/lib/python3.6/site-packages/sklearn/neural_network/multilayer_perceptron.py:562: ConvergenceWarning: Stochastic Optimizer: Maximum iterations (200) reached and the optimization hasn't converged yet.\n",
      "  % self.max_iter, ConvergenceWarning)\n",
      "/home/honda/anaconda3/lib/python3.6/site-packages/sklearn/neural_network/multilayer_perceptron.py:562: ConvergenceWarning: Stochastic Optimizer: Maximum iterations (200) reached and the optimization hasn't converged yet.\n",
      "  % self.max_iter, ConvergenceWarning)\n",
      "/home/honda/anaconda3/lib/python3.6/site-packages/sklearn/neural_network/multilayer_perceptron.py:562: ConvergenceWarning: Stochastic Optimizer: Maximum iterations (200) reached and the optimization hasn't converged yet.\n",
      "  % self.max_iter, ConvergenceWarning)\n",
      "[I 2019-03-27 12:52:40,289] Finished a trial resulted in value: 4.747232564525606. Current best value is 2.9013518957118545 with parameters: {'n_layers': 3, 'n_units_l0': 8.356904904140531, 'n_units_l1': 6.695005478441894, 'n_units_l2': 91.60787247486093}.\n",
      "[I 2019-03-27 12:52:42,849] Finished a trial resulted in value: 3.1761351427551894. Current best value is 2.9013518957118545 with parameters: {'n_layers': 3, 'n_units_l0': 8.356904904140531, 'n_units_l1': 6.695005478441894, 'n_units_l2': 91.60787247486093}.\n",
      "[I 2019-03-27 12:52:51,674] Finished a trial resulted in value: 3.387983948008797. Current best value is 2.9013518957118545 with parameters: {'n_layers': 3, 'n_units_l0': 8.356904904140531, 'n_units_l1': 6.695005478441894, 'n_units_l2': 91.60787247486093}.\n",
      "[I 2019-03-27 12:53:19,016] Finished a trial resulted in value: 4.225046947157375. Current best value is 2.9013518957118545 with parameters: {'n_layers': 3, 'n_units_l0': 8.356904904140531, 'n_units_l1': 6.695005478441894, 'n_units_l2': 91.60787247486093}.\n",
      "[I 2019-03-27 12:53:21,928] Finished a trial resulted in value: 3.5034883076860295. Current best value is 2.9013518957118545 with parameters: {'n_layers': 3, 'n_units_l0': 8.356904904140531, 'n_units_l1': 6.695005478441894, 'n_units_l2': 91.60787247486093}.\n",
      "/home/honda/anaconda3/lib/python3.6/site-packages/sklearn/neural_network/multilayer_perceptron.py:562: ConvergenceWarning: Stochastic Optimizer: Maximum iterations (200) reached and the optimization hasn't converged yet.\n",
      "  % self.max_iter, ConvergenceWarning)\n",
      "/home/honda/anaconda3/lib/python3.6/site-packages/sklearn/neural_network/multilayer_perceptron.py:562: ConvergenceWarning: Stochastic Optimizer: Maximum iterations (200) reached and the optimization hasn't converged yet.\n",
      "  % self.max_iter, ConvergenceWarning)\n",
      "[I 2019-03-27 12:53:24,507] Finished a trial resulted in value: 3.6188674151360622. Current best value is 2.9013518957118545 with parameters: {'n_layers': 3, 'n_units_l0': 8.356904904140531, 'n_units_l1': 6.695005478441894, 'n_units_l2': 91.60787247486093}.\n",
      "[I 2019-03-27 12:53:31,719] Finished a trial resulted in value: 3.0363691386730367. Current best value is 2.9013518957118545 with parameters: {'n_layers': 3, 'n_units_l0': 8.356904904140531, 'n_units_l1': 6.695005478441894, 'n_units_l2': 91.60787247486093}.\n",
      "[I 2019-03-27 12:53:34,989] Finished a trial resulted in value: 3.103789046049208. Current best value is 2.9013518957118545 with parameters: {'n_layers': 3, 'n_units_l0': 8.356904904140531, 'n_units_l1': 6.695005478441894, 'n_units_l2': 91.60787247486093}.\n",
      "/home/honda/anaconda3/lib/python3.6/site-packages/sklearn/neural_network/multilayer_perceptron.py:562: ConvergenceWarning: Stochastic Optimizer: Maximum iterations (200) reached and the optimization hasn't converged yet.\n",
      "  % self.max_iter, ConvergenceWarning)\n",
      "/home/honda/anaconda3/lib/python3.6/site-packages/sklearn/neural_network/multilayer_perceptron.py:562: ConvergenceWarning: Stochastic Optimizer: Maximum iterations (200) reached and the optimization hasn't converged yet.\n",
      "  % self.max_iter, ConvergenceWarning)\n",
      "/home/honda/anaconda3/lib/python3.6/site-packages/sklearn/neural_network/multilayer_perceptron.py:562: ConvergenceWarning: Stochastic Optimizer: Maximum iterations (200) reached and the optimization hasn't converged yet.\n",
      "  % self.max_iter, ConvergenceWarning)\n",
      "[I 2019-03-27 12:53:37,041] Finished a trial resulted in value: 6.79986645956544. Current best value is 2.9013518957118545 with parameters: {'n_layers': 3, 'n_units_l0': 8.356904904140531, 'n_units_l1': 6.695005478441894, 'n_units_l2': 91.60787247486093}.\n",
      "/home/honda/anaconda3/lib/python3.6/site-packages/sklearn/neural_network/multilayer_perceptron.py:562: ConvergenceWarning: Stochastic Optimizer: Maximum iterations (200) reached and the optimization hasn't converged yet.\n",
      "  % self.max_iter, ConvergenceWarning)\n",
      "/home/honda/anaconda3/lib/python3.6/site-packages/sklearn/neural_network/multilayer_perceptron.py:562: ConvergenceWarning: Stochastic Optimizer: Maximum iterations (200) reached and the optimization hasn't converged yet.\n",
      "  % self.max_iter, ConvergenceWarning)\n",
      "/home/honda/anaconda3/lib/python3.6/site-packages/sklearn/neural_network/multilayer_perceptron.py:562: ConvergenceWarning: Stochastic Optimizer: Maximum iterations (200) reached and the optimization hasn't converged yet.\n",
      "  % self.max_iter, ConvergenceWarning)\n"
     ]
    },
    {
     "name": "stderr",
     "output_type": "stream",
     "text": [
      "[I 2019-03-27 12:53:39,825] Finished a trial resulted in value: 6.228817863581016. Current best value is 2.9013518957118545 with parameters: {'n_layers': 3, 'n_units_l0': 8.356904904140531, 'n_units_l1': 6.695005478441894, 'n_units_l2': 91.60787247486093}.\n",
      "[I 2019-03-27 12:53:44,215] Finished a trial resulted in value: 3.077280878260577. Current best value is 2.9013518957118545 with parameters: {'n_layers': 3, 'n_units_l0': 8.356904904140531, 'n_units_l1': 6.695005478441894, 'n_units_l2': 91.60787247486093}.\n",
      "[I 2019-03-27 12:53:55,187] Finished a trial resulted in value: 3.2241218960290876. Current best value is 2.9013518957118545 with parameters: {'n_layers': 3, 'n_units_l0': 8.356904904140531, 'n_units_l1': 6.695005478441894, 'n_units_l2': 91.60787247486093}.\n",
      "[I 2019-03-27 12:54:06,357] Finished a trial resulted in value: 3.2871861498569026. Current best value is 2.9013518957118545 with parameters: {'n_layers': 3, 'n_units_l0': 8.356904904140531, 'n_units_l1': 6.695005478441894, 'n_units_l2': 91.60787247486093}.\n",
      "/home/honda/anaconda3/lib/python3.6/site-packages/sklearn/neural_network/multilayer_perceptron.py:562: ConvergenceWarning: Stochastic Optimizer: Maximum iterations (200) reached and the optimization hasn't converged yet.\n",
      "  % self.max_iter, ConvergenceWarning)\n",
      "[I 2019-03-27 12:54:09,008] Finished a trial resulted in value: 2.97022281177171. Current best value is 2.9013518957118545 with parameters: {'n_layers': 3, 'n_units_l0': 8.356904904140531, 'n_units_l1': 6.695005478441894, 'n_units_l2': 91.60787247486093}.\n",
      "[I 2019-03-27 12:54:11,845] Finished a trial resulted in value: 3.285577982673091. Current best value is 2.9013518957118545 with parameters: {'n_layers': 3, 'n_units_l0': 8.356904904140531, 'n_units_l1': 6.695005478441894, 'n_units_l2': 91.60787247486093}.\n",
      "/home/honda/anaconda3/lib/python3.6/site-packages/sklearn/neural_network/multilayer_perceptron.py:562: ConvergenceWarning: Stochastic Optimizer: Maximum iterations (200) reached and the optimization hasn't converged yet.\n",
      "  % self.max_iter, ConvergenceWarning)\n",
      "/home/honda/anaconda3/lib/python3.6/site-packages/sklearn/neural_network/multilayer_perceptron.py:562: ConvergenceWarning: Stochastic Optimizer: Maximum iterations (200) reached and the optimization hasn't converged yet.\n",
      "  % self.max_iter, ConvergenceWarning)\n",
      "/home/honda/anaconda3/lib/python3.6/site-packages/sklearn/neural_network/multilayer_perceptron.py:562: ConvergenceWarning: Stochastic Optimizer: Maximum iterations (200) reached and the optimization hasn't converged yet.\n",
      "  % self.max_iter, ConvergenceWarning)\n",
      "[I 2019-03-27 12:54:14,426] Finished a trial resulted in value: 5.464138706446343. Current best value is 2.9013518957118545 with parameters: {'n_layers': 3, 'n_units_l0': 8.356904904140531, 'n_units_l1': 6.695005478441894, 'n_units_l2': 91.60787247486093}.\n",
      "[I 2019-03-27 12:54:18,536] Finished a trial resulted in value: 3.1347902058171653. Current best value is 2.9013518957118545 with parameters: {'n_layers': 3, 'n_units_l0': 8.356904904140531, 'n_units_l1': 6.695005478441894, 'n_units_l2': 91.60787247486093}.\n",
      "/home/honda/anaconda3/lib/python3.6/site-packages/sklearn/neural_network/multilayer_perceptron.py:562: ConvergenceWarning: Stochastic Optimizer: Maximum iterations (200) reached and the optimization hasn't converged yet.\n",
      "  % self.max_iter, ConvergenceWarning)\n",
      "/home/honda/anaconda3/lib/python3.6/site-packages/sklearn/neural_network/multilayer_perceptron.py:562: ConvergenceWarning: Stochastic Optimizer: Maximum iterations (200) reached and the optimization hasn't converged yet.\n",
      "  % self.max_iter, ConvergenceWarning)\n",
      "/home/honda/anaconda3/lib/python3.6/site-packages/sklearn/neural_network/multilayer_perceptron.py:562: ConvergenceWarning: Stochastic Optimizer: Maximum iterations (200) reached and the optimization hasn't converged yet.\n",
      "  % self.max_iter, ConvergenceWarning)\n",
      "/home/honda/anaconda3/lib/python3.6/site-packages/sklearn/neural_network/multilayer_perceptron.py:562: ConvergenceWarning: Stochastic Optimizer: Maximum iterations (200) reached and the optimization hasn't converged yet.\n",
      "  % self.max_iter, ConvergenceWarning)\n",
      "[I 2019-03-27 12:54:22,550] Finished a trial resulted in value: 8.056960118470219. Current best value is 2.9013518957118545 with parameters: {'n_layers': 3, 'n_units_l0': 8.356904904140531, 'n_units_l1': 6.695005478441894, 'n_units_l2': 91.60787247486093}.\n",
      "[I 2019-03-27 12:54:25,700] Finished a trial resulted in value: 3.100884481038028. Current best value is 2.9013518957118545 with parameters: {'n_layers': 3, 'n_units_l0': 8.356904904140531, 'n_units_l1': 6.695005478441894, 'n_units_l2': 91.60787247486093}.\n",
      "[I 2019-03-27 12:54:29,159] Finished a trial resulted in value: 3.3452119138936793. Current best value is 2.9013518957118545 with parameters: {'n_layers': 3, 'n_units_l0': 8.356904904140531, 'n_units_l1': 6.695005478441894, 'n_units_l2': 91.60787247486093}.\n",
      "[I 2019-03-27 12:54:31,740] Finished a trial resulted in value: 3.043360494402402. Current best value is 2.9013518957118545 with parameters: {'n_layers': 3, 'n_units_l0': 8.356904904140531, 'n_units_l1': 6.695005478441894, 'n_units_l2': 91.60787247486093}.\n",
      "/home/honda/anaconda3/lib/python3.6/site-packages/sklearn/neural_network/multilayer_perceptron.py:562: ConvergenceWarning: Stochastic Optimizer: Maximum iterations (200) reached and the optimization hasn't converged yet.\n",
      "  % self.max_iter, ConvergenceWarning)\n",
      "/home/honda/anaconda3/lib/python3.6/site-packages/sklearn/neural_network/multilayer_perceptron.py:562: ConvergenceWarning: Stochastic Optimizer: Maximum iterations (200) reached and the optimization hasn't converged yet.\n",
      "  % self.max_iter, ConvergenceWarning)\n",
      "/home/honda/anaconda3/lib/python3.6/site-packages/sklearn/neural_network/multilayer_perceptron.py:562: ConvergenceWarning: Stochastic Optimizer: Maximum iterations (200) reached and the optimization hasn't converged yet.\n",
      "  % self.max_iter, ConvergenceWarning)\n",
      "/home/honda/anaconda3/lib/python3.6/site-packages/sklearn/neural_network/multilayer_perceptron.py:562: ConvergenceWarning: Stochastic Optimizer: Maximum iterations (200) reached and the optimization hasn't converged yet.\n",
      "  % self.max_iter, ConvergenceWarning)\n",
      "[I 2019-03-27 12:54:34,174] Finished a trial resulted in value: 11.67663865326869. Current best value is 2.9013518957118545 with parameters: {'n_layers': 3, 'n_units_l0': 8.356904904140531, 'n_units_l1': 6.695005478441894, 'n_units_l2': 91.60787247486093}.\n",
      "/home/honda/anaconda3/lib/python3.6/site-packages/sklearn/neural_network/multilayer_perceptron.py:562: ConvergenceWarning: Stochastic Optimizer: Maximum iterations (200) reached and the optimization hasn't converged yet.\n",
      "  % self.max_iter, ConvergenceWarning)\n",
      "/home/honda/anaconda3/lib/python3.6/site-packages/sklearn/neural_network/multilayer_perceptron.py:562: ConvergenceWarning: Stochastic Optimizer: Maximum iterations (200) reached and the optimization hasn't converged yet.\n",
      "  % self.max_iter, ConvergenceWarning)\n",
      "/home/honda/anaconda3/lib/python3.6/site-packages/sklearn/neural_network/multilayer_perceptron.py:562: ConvergenceWarning: Stochastic Optimizer: Maximum iterations (200) reached and the optimization hasn't converged yet.\n",
      "  % self.max_iter, ConvergenceWarning)\n",
      "[I 2019-03-27 12:54:37,002] Finished a trial resulted in value: 3.122350170166359. Current best value is 2.9013518957118545 with parameters: {'n_layers': 3, 'n_units_l0': 8.356904904140531, 'n_units_l1': 6.695005478441894, 'n_units_l2': 91.60787247486093}.\n",
      "/home/honda/anaconda3/lib/python3.6/site-packages/sklearn/neural_network/multilayer_perceptron.py:562: ConvergenceWarning: Stochastic Optimizer: Maximum iterations (200) reached and the optimization hasn't converged yet.\n",
      "  % self.max_iter, ConvergenceWarning)\n",
      "[I 2019-03-27 12:54:41,963] Finished a trial resulted in value: 4.050742187524173. Current best value is 2.9013518957118545 with parameters: {'n_layers': 3, 'n_units_l0': 8.356904904140531, 'n_units_l1': 6.695005478441894, 'n_units_l2': 91.60787247486093}.\n",
      "/home/honda/anaconda3/lib/python3.6/site-packages/sklearn/neural_network/multilayer_perceptron.py:562: ConvergenceWarning: Stochastic Optimizer: Maximum iterations (200) reached and the optimization hasn't converged yet.\n",
      "  % self.max_iter, ConvergenceWarning)\n"
     ]
    },
    {
     "name": "stderr",
     "output_type": "stream",
     "text": [
      "[I 2019-03-27 12:54:44,928] Finished a trial resulted in value: 3.0150933835007745. Current best value is 2.9013518957118545 with parameters: {'n_layers': 3, 'n_units_l0': 8.356904904140531, 'n_units_l1': 6.695005478441894, 'n_units_l2': 91.60787247486093}.\n",
      "[I 2019-03-27 12:54:46,367] Finished a trial resulted in value: 5.454904404604364. Current best value is 2.9013518957118545 with parameters: {'n_layers': 3, 'n_units_l0': 8.356904904140531, 'n_units_l1': 6.695005478441894, 'n_units_l2': 91.60787247486093}.\n",
      "/home/honda/anaconda3/lib/python3.6/site-packages/sklearn/neural_network/multilayer_perceptron.py:562: ConvergenceWarning: Stochastic Optimizer: Maximum iterations (200) reached and the optimization hasn't converged yet.\n",
      "  % self.max_iter, ConvergenceWarning)\n",
      "/home/honda/anaconda3/lib/python3.6/site-packages/sklearn/neural_network/multilayer_perceptron.py:562: ConvergenceWarning: Stochastic Optimizer: Maximum iterations (200) reached and the optimization hasn't converged yet.\n",
      "  % self.max_iter, ConvergenceWarning)\n",
      "/home/honda/anaconda3/lib/python3.6/site-packages/sklearn/neural_network/multilayer_perceptron.py:562: ConvergenceWarning: Stochastic Optimizer: Maximum iterations (200) reached and the optimization hasn't converged yet.\n",
      "  % self.max_iter, ConvergenceWarning)\n",
      "[I 2019-03-27 12:54:49,405] Finished a trial resulted in value: 6.708878077420245. Current best value is 2.9013518957118545 with parameters: {'n_layers': 3, 'n_units_l0': 8.356904904140531, 'n_units_l1': 6.695005478441894, 'n_units_l2': 91.60787247486093}.\n",
      "[I 2019-03-27 12:54:52,221] Finished a trial resulted in value: 3.14097592982358. Current best value is 2.9013518957118545 with parameters: {'n_layers': 3, 'n_units_l0': 8.356904904140531, 'n_units_l1': 6.695005478441894, 'n_units_l2': 91.60787247486093}.\n",
      "[I 2019-03-27 12:55:02,395] Finished a trial resulted in value: 3.0899301320050534. Current best value is 2.9013518957118545 with parameters: {'n_layers': 3, 'n_units_l0': 8.356904904140531, 'n_units_l1': 6.695005478441894, 'n_units_l2': 91.60787247486093}.\n",
      "[I 2019-03-27 12:55:05,647] Finished a trial resulted in value: 3.536811081470787. Current best value is 2.9013518957118545 with parameters: {'n_layers': 3, 'n_units_l0': 8.356904904140531, 'n_units_l1': 6.695005478441894, 'n_units_l2': 91.60787247486093}.\n",
      "/home/honda/anaconda3/lib/python3.6/site-packages/sklearn/neural_network/multilayer_perceptron.py:562: ConvergenceWarning: Stochastic Optimizer: Maximum iterations (200) reached and the optimization hasn't converged yet.\n",
      "  % self.max_iter, ConvergenceWarning)\n",
      "/home/honda/anaconda3/lib/python3.6/site-packages/sklearn/neural_network/multilayer_perceptron.py:562: ConvergenceWarning: Stochastic Optimizer: Maximum iterations (200) reached and the optimization hasn't converged yet.\n",
      "  % self.max_iter, ConvergenceWarning)\n",
      "/home/honda/anaconda3/lib/python3.6/site-packages/sklearn/neural_network/multilayer_perceptron.py:562: ConvergenceWarning: Stochastic Optimizer: Maximum iterations (200) reached and the optimization hasn't converged yet.\n",
      "  % self.max_iter, ConvergenceWarning)\n",
      "[I 2019-03-27 12:55:09,298] Finished a trial resulted in value: 6.067851993809695. Current best value is 2.9013518957118545 with parameters: {'n_layers': 3, 'n_units_l0': 8.356904904140531, 'n_units_l1': 6.695005478441894, 'n_units_l2': 91.60787247486093}.\n",
      "[I 2019-03-27 12:55:12,749] Finished a trial resulted in value: 3.004717009582425. Current best value is 2.9013518957118545 with parameters: {'n_layers': 3, 'n_units_l0': 8.356904904140531, 'n_units_l1': 6.695005478441894, 'n_units_l2': 91.60787247486093}.\n",
      "[I 2019-03-27 12:55:27,479] Finished a trial resulted in value: 3.4244845228307557. Current best value is 2.9013518957118545 with parameters: {'n_layers': 3, 'n_units_l0': 8.356904904140531, 'n_units_l1': 6.695005478441894, 'n_units_l2': 91.60787247486093}.\n",
      "[I 2019-03-27 12:55:29,834] Finished a trial resulted in value: 3.1252966485074887. Current best value is 2.9013518957118545 with parameters: {'n_layers': 3, 'n_units_l0': 8.356904904140531, 'n_units_l1': 6.695005478441894, 'n_units_l2': 91.60787247486093}.\n",
      "[I 2019-03-27 12:55:32,518] Finished a trial resulted in value: 2.9351160883125083. Current best value is 2.9013518957118545 with parameters: {'n_layers': 3, 'n_units_l0': 8.356904904140531, 'n_units_l1': 6.695005478441894, 'n_units_l2': 91.60787247486093}.\n",
      "[I 2019-03-27 12:55:42,640] Finished a trial resulted in value: 3.507633911192447. Current best value is 2.9013518957118545 with parameters: {'n_layers': 3, 'n_units_l0': 8.356904904140531, 'n_units_l1': 6.695005478441894, 'n_units_l2': 91.60787247486093}.\n",
      "/home/honda/anaconda3/lib/python3.6/site-packages/sklearn/neural_network/multilayer_perceptron.py:562: ConvergenceWarning: Stochastic Optimizer: Maximum iterations (200) reached and the optimization hasn't converged yet.\n",
      "  % self.max_iter, ConvergenceWarning)\n",
      "/home/honda/anaconda3/lib/python3.6/site-packages/sklearn/neural_network/multilayer_perceptron.py:562: ConvergenceWarning: Stochastic Optimizer: Maximum iterations (200) reached and the optimization hasn't converged yet.\n",
      "  % self.max_iter, ConvergenceWarning)\n",
      "[I 2019-03-27 12:55:46,222] Finished a trial resulted in value: 6.715230856211306. Current best value is 2.9013518957118545 with parameters: {'n_layers': 3, 'n_units_l0': 8.356904904140531, 'n_units_l1': 6.695005478441894, 'n_units_l2': 91.60787247486093}.\n",
      "[I 2019-03-27 12:55:52,703] Finished a trial resulted in value: 3.0550437501553165. Current best value is 2.9013518957118545 with parameters: {'n_layers': 3, 'n_units_l0': 8.356904904140531, 'n_units_l1': 6.695005478441894, 'n_units_l2': 91.60787247486093}.\n",
      "/home/honda/anaconda3/lib/python3.6/site-packages/sklearn/neural_network/multilayer_perceptron.py:562: ConvergenceWarning: Stochastic Optimizer: Maximum iterations (200) reached and the optimization hasn't converged yet.\n",
      "  % self.max_iter, ConvergenceWarning)\n",
      "/home/honda/anaconda3/lib/python3.6/site-packages/sklearn/neural_network/multilayer_perceptron.py:562: ConvergenceWarning: Stochastic Optimizer: Maximum iterations (200) reached and the optimization hasn't converged yet.\n",
      "  % self.max_iter, ConvergenceWarning)\n",
      "/home/honda/anaconda3/lib/python3.6/site-packages/sklearn/neural_network/multilayer_perceptron.py:562: ConvergenceWarning: Stochastic Optimizer: Maximum iterations (200) reached and the optimization hasn't converged yet.\n",
      "  % self.max_iter, ConvergenceWarning)\n",
      "[I 2019-03-27 12:55:55,607] Finished a trial resulted in value: 4.073147036299092. Current best value is 2.9013518957118545 with parameters: {'n_layers': 3, 'n_units_l0': 8.356904904140531, 'n_units_l1': 6.695005478441894, 'n_units_l2': 91.60787247486093}.\n",
      "[I 2019-03-27 12:55:58,295] Finished a trial resulted in value: 3.283652483928814. Current best value is 2.9013518957118545 with parameters: {'n_layers': 3, 'n_units_l0': 8.356904904140531, 'n_units_l1': 6.695005478441894, 'n_units_l2': 91.60787247486093}.\n",
      "[I 2019-03-27 12:56:00,400] Finished a trial resulted in value: 3.4555212934192996. Current best value is 2.9013518957118545 with parameters: {'n_layers': 3, 'n_units_l0': 8.356904904140531, 'n_units_l1': 6.695005478441894, 'n_units_l2': 91.60787247486093}.\n",
      "/home/honda/anaconda3/lib/python3.6/site-packages/sklearn/neural_network/multilayer_perceptron.py:562: ConvergenceWarning: Stochastic Optimizer: Maximum iterations (200) reached and the optimization hasn't converged yet.\n",
      "  % self.max_iter, ConvergenceWarning)\n",
      "[I 2019-03-27 12:56:03,142] Finished a trial resulted in value: 3.425489961141075. Current best value is 2.9013518957118545 with parameters: {'n_layers': 3, 'n_units_l0': 8.356904904140531, 'n_units_l1': 6.695005478441894, 'n_units_l2': 91.60787247486093}.\n",
      "[I 2019-03-27 12:56:06,178] Finished a trial resulted in value: 2.9010149384597455. Current best value is 2.9010149384597455 with parameters: {'n_layers': 2, 'n_units_l0': 27.16518371446747, 'n_units_l1': 33.25709946798767}.\n",
      "/home/honda/anaconda3/lib/python3.6/site-packages/sklearn/neural_network/multilayer_perceptron.py:562: ConvergenceWarning: Stochastic Optimizer: Maximum iterations (200) reached and the optimization hasn't converged yet.\n",
      "  % self.max_iter, ConvergenceWarning)\n"
     ]
    },
    {
     "name": "stderr",
     "output_type": "stream",
     "text": [
      "/home/honda/anaconda3/lib/python3.6/site-packages/sklearn/neural_network/multilayer_perceptron.py:562: ConvergenceWarning: Stochastic Optimizer: Maximum iterations (200) reached and the optimization hasn't converged yet.\n",
      "  % self.max_iter, ConvergenceWarning)\n",
      "/home/honda/anaconda3/lib/python3.6/site-packages/sklearn/neural_network/multilayer_perceptron.py:562: ConvergenceWarning: Stochastic Optimizer: Maximum iterations (200) reached and the optimization hasn't converged yet.\n",
      "  % self.max_iter, ConvergenceWarning)\n",
      "[I 2019-03-27 12:56:14,788] Finished a trial resulted in value: 6.229836148112872. Current best value is 2.9010149384597455 with parameters: {'n_layers': 2, 'n_units_l0': 27.16518371446747, 'n_units_l1': 33.25709946798767}.\n",
      "[I 2019-03-27 12:56:24,293] Finished a trial resulted in value: 3.3012723909796864. Current best value is 2.9010149384597455 with parameters: {'n_layers': 2, 'n_units_l0': 27.16518371446747, 'n_units_l1': 33.25709946798767}.\n",
      "/home/honda/anaconda3/lib/python3.6/site-packages/sklearn/neural_network/multilayer_perceptron.py:562: ConvergenceWarning: Stochastic Optimizer: Maximum iterations (200) reached and the optimization hasn't converged yet.\n",
      "  % self.max_iter, ConvergenceWarning)\n",
      "/home/honda/anaconda3/lib/python3.6/site-packages/sklearn/neural_network/multilayer_perceptron.py:562: ConvergenceWarning: Stochastic Optimizer: Maximum iterations (200) reached and the optimization hasn't converged yet.\n",
      "  % self.max_iter, ConvergenceWarning)\n",
      "/home/honda/anaconda3/lib/python3.6/site-packages/sklearn/neural_network/multilayer_perceptron.py:562: ConvergenceWarning: Stochastic Optimizer: Maximum iterations (200) reached and the optimization hasn't converged yet.\n",
      "  % self.max_iter, ConvergenceWarning)\n",
      "[I 2019-03-27 12:56:29,198] Finished a trial resulted in value: 6.463173844573573. Current best value is 2.9010149384597455 with parameters: {'n_layers': 2, 'n_units_l0': 27.16518371446747, 'n_units_l1': 33.25709946798767}.\n",
      "[I 2019-03-27 12:56:32,918] Finished a trial resulted in value: 3.082468927118054. Current best value is 2.9010149384597455 with parameters: {'n_layers': 2, 'n_units_l0': 27.16518371446747, 'n_units_l1': 33.25709946798767}.\n",
      "[I 2019-03-27 12:56:35,478] Finished a trial resulted in value: 3.1590927237448008. Current best value is 2.9010149384597455 with parameters: {'n_layers': 2, 'n_units_l0': 27.16518371446747, 'n_units_l1': 33.25709946798767}.\n",
      "/home/honda/anaconda3/lib/python3.6/site-packages/sklearn/neural_network/multilayer_perceptron.py:562: ConvergenceWarning: Stochastic Optimizer: Maximum iterations (200) reached and the optimization hasn't converged yet.\n",
      "  % self.max_iter, ConvergenceWarning)\n",
      "[I 2019-03-27 12:56:39,008] Finished a trial resulted in value: 3.7494191230229967. Current best value is 2.9010149384597455 with parameters: {'n_layers': 2, 'n_units_l0': 27.16518371446747, 'n_units_l1': 33.25709946798767}.\n",
      "/home/honda/anaconda3/lib/python3.6/site-packages/sklearn/neural_network/multilayer_perceptron.py:562: ConvergenceWarning: Stochastic Optimizer: Maximum iterations (200) reached and the optimization hasn't converged yet.\n",
      "  % self.max_iter, ConvergenceWarning)\n",
      "[I 2019-03-27 12:56:45,679] Finished a trial resulted in value: 3.236817091120395. Current best value is 2.9010149384597455 with parameters: {'n_layers': 2, 'n_units_l0': 27.16518371446747, 'n_units_l1': 33.25709946798767}.\n",
      "[I 2019-03-27 12:56:48,155] Finished a trial resulted in value: 3.8653648646267005. Current best value is 2.9010149384597455 with parameters: {'n_layers': 2, 'n_units_l0': 27.16518371446747, 'n_units_l1': 33.25709946798767}.\n",
      "[I 2019-03-27 12:57:23,414] Finished a trial resulted in value: 3.7814810164328287. Current best value is 2.9010149384597455 with parameters: {'n_layers': 2, 'n_units_l0': 27.16518371446747, 'n_units_l1': 33.25709946798767}.\n",
      "[I 2019-03-27 12:57:26,823] Finished a trial resulted in value: 3.4556454588072807. Current best value is 2.9010149384597455 with parameters: {'n_layers': 2, 'n_units_l0': 27.16518371446747, 'n_units_l1': 33.25709946798767}.\n",
      "[I 2019-03-27 12:57:40,609] Finished a trial resulted in value: 3.0808400466399792. Current best value is 2.9010149384597455 with parameters: {'n_layers': 2, 'n_units_l0': 27.16518371446747, 'n_units_l1': 33.25709946798767}.\n",
      "/home/honda/anaconda3/lib/python3.6/site-packages/sklearn/neural_network/multilayer_perceptron.py:562: ConvergenceWarning: Stochastic Optimizer: Maximum iterations (200) reached and the optimization hasn't converged yet.\n",
      "  % self.max_iter, ConvergenceWarning)\n",
      "[I 2019-03-27 12:57:43,239] Finished a trial resulted in value: 3.06438830297121. Current best value is 2.9010149384597455 with parameters: {'n_layers': 2, 'n_units_l0': 27.16518371446747, 'n_units_l1': 33.25709946798767}.\n",
      "/home/honda/anaconda3/lib/python3.6/site-packages/sklearn/neural_network/multilayer_perceptron.py:562: ConvergenceWarning: Stochastic Optimizer: Maximum iterations (200) reached and the optimization hasn't converged yet.\n",
      "  % self.max_iter, ConvergenceWarning)\n",
      "/home/honda/anaconda3/lib/python3.6/site-packages/sklearn/neural_network/multilayer_perceptron.py:562: ConvergenceWarning: Stochastic Optimizer: Maximum iterations (200) reached and the optimization hasn't converged yet.\n",
      "  % self.max_iter, ConvergenceWarning)\n",
      "[I 2019-03-27 12:58:18,400] Finished a trial resulted in value: 9.468638620638867. Current best value is 2.9010149384597455 with parameters: {'n_layers': 2, 'n_units_l0': 27.16518371446747, 'n_units_l1': 33.25709946798767}.\n",
      "[I 2019-03-27 12:58:20,157] Finished a trial resulted in value: 4.413254302156709. Current best value is 2.9010149384597455 with parameters: {'n_layers': 2, 'n_units_l0': 27.16518371446747, 'n_units_l1': 33.25709946798767}.\n",
      "[I 2019-03-27 12:58:29,610] Finished a trial resulted in value: 2.776295649090273. Current best value is 2.776295649090273 with parameters: {'n_layers': 2, 'n_units_l0': 4.952259299483751, 'n_units_l1': 991.4548756639401}.\n",
      "/home/honda/anaconda3/lib/python3.6/site-packages/sklearn/neural_network/multilayer_perceptron.py:562: ConvergenceWarning: Stochastic Optimizer: Maximum iterations (200) reached and the optimization hasn't converged yet.\n",
      "  % self.max_iter, ConvergenceWarning)\n",
      "/home/honda/anaconda3/lib/python3.6/site-packages/sklearn/neural_network/multilayer_perceptron.py:562: ConvergenceWarning: Stochastic Optimizer: Maximum iterations (200) reached and the optimization hasn't converged yet.\n",
      "  % self.max_iter, ConvergenceWarning)\n",
      "/home/honda/anaconda3/lib/python3.6/site-packages/sklearn/neural_network/multilayer_perceptron.py:562: ConvergenceWarning: Stochastic Optimizer: Maximum iterations (200) reached and the optimization hasn't converged yet.\n",
      "  % self.max_iter, ConvergenceWarning)\n",
      "[I 2019-03-27 12:58:32,430] Finished a trial resulted in value: 3.4794333229801544. Current best value is 2.776295649090273 with parameters: {'n_layers': 2, 'n_units_l0': 4.952259299483751, 'n_units_l1': 991.4548756639401}.\n",
      "[I 2019-03-27 12:58:38,411] Finished a trial resulted in value: 2.841185091028554. Current best value is 2.776295649090273 with parameters: {'n_layers': 2, 'n_units_l0': 4.952259299483751, 'n_units_l1': 991.4548756639401}.\n",
      "[I 2019-03-27 12:58:44,152] Finished a trial resulted in value: 3.094370445189207. Current best value is 2.776295649090273 with parameters: {'n_layers': 2, 'n_units_l0': 4.952259299483751, 'n_units_l1': 991.4548756639401}.\n",
      "[I 2019-03-27 12:58:52,564] Finished a trial resulted in value: 3.1951441833668346. Current best value is 2.776295649090273 with parameters: {'n_layers': 2, 'n_units_l0': 4.952259299483751, 'n_units_l1': 991.4548756639401}.\n",
      "[I 2019-03-27 12:58:59,050] Finished a trial resulted in value: 2.8810347141559642. Current best value is 2.776295649090273 with parameters: {'n_layers': 2, 'n_units_l0': 4.952259299483751, 'n_units_l1': 991.4548756639401}.\n",
      "[I 2019-03-27 12:59:02,741] Finished a trial resulted in value: 3.0799793253742624. Current best value is 2.776295649090273 with parameters: {'n_layers': 2, 'n_units_l0': 4.952259299483751, 'n_units_l1': 991.4548756639401}.\n"
     ]
    },
    {
     "name": "stderr",
     "output_type": "stream",
     "text": [
      "[I 2019-03-27 12:59:05,575] Finished a trial resulted in value: 3.38557405590739. Current best value is 2.776295649090273 with parameters: {'n_layers': 2, 'n_units_l0': 4.952259299483751, 'n_units_l1': 991.4548756639401}.\n",
      "/home/honda/anaconda3/lib/python3.6/site-packages/sklearn/neural_network/multilayer_perceptron.py:562: ConvergenceWarning: Stochastic Optimizer: Maximum iterations (200) reached and the optimization hasn't converged yet.\n",
      "  % self.max_iter, ConvergenceWarning)\n",
      "[I 2019-03-27 12:59:07,891] Finished a trial resulted in value: 3.37788013413828. Current best value is 2.776295649090273 with parameters: {'n_layers': 2, 'n_units_l0': 4.952259299483751, 'n_units_l1': 991.4548756639401}.\n",
      "[I 2019-03-27 12:59:09,566] Finished a trial resulted in value: 3.9389376689979256. Current best value is 2.776295649090273 with parameters: {'n_layers': 2, 'n_units_l0': 4.952259299483751, 'n_units_l1': 991.4548756639401}.\n",
      "[I 2019-03-27 12:59:13,183] Finished a trial resulted in value: 2.985882483477571. Current best value is 2.776295649090273 with parameters: {'n_layers': 2, 'n_units_l0': 4.952259299483751, 'n_units_l1': 991.4548756639401}.\n",
      "[I 2019-03-27 12:59:18,488] Finished a trial resulted in value: 3.0429487420205072. Current best value is 2.776295649090273 with parameters: {'n_layers': 2, 'n_units_l0': 4.952259299483751, 'n_units_l1': 991.4548756639401}.\n",
      "[I 2019-03-27 12:59:22,810] Finished a trial resulted in value: 3.664911382240342. Current best value is 2.776295649090273 with parameters: {'n_layers': 2, 'n_units_l0': 4.952259299483751, 'n_units_l1': 991.4548756639401}.\n",
      "[I 2019-03-27 12:59:29,105] Finished a trial resulted in value: 2.924341910156427. Current best value is 2.776295649090273 with parameters: {'n_layers': 2, 'n_units_l0': 4.952259299483751, 'n_units_l1': 991.4548756639401}.\n",
      "/home/honda/anaconda3/lib/python3.6/site-packages/sklearn/neural_network/multilayer_perceptron.py:562: ConvergenceWarning: Stochastic Optimizer: Maximum iterations (200) reached and the optimization hasn't converged yet.\n",
      "  % self.max_iter, ConvergenceWarning)\n",
      "/home/honda/anaconda3/lib/python3.6/site-packages/sklearn/neural_network/multilayer_perceptron.py:562: ConvergenceWarning: Stochastic Optimizer: Maximum iterations (200) reached and the optimization hasn't converged yet.\n",
      "  % self.max_iter, ConvergenceWarning)\n",
      "[I 2019-03-27 12:59:31,790] Finished a trial resulted in value: 3.6766132406031065. Current best value is 2.776295649090273 with parameters: {'n_layers': 2, 'n_units_l0': 4.952259299483751, 'n_units_l1': 991.4548756639401}.\n",
      "[I 2019-03-27 12:59:34,266] Finished a trial resulted in value: 3.146642569704696. Current best value is 2.776295649090273 with parameters: {'n_layers': 2, 'n_units_l0': 4.952259299483751, 'n_units_l1': 991.4548756639401}.\n",
      "[I 2019-03-27 13:00:00,857] Finished a trial resulted in value: 3.153477613448003. Current best value is 2.776295649090273 with parameters: {'n_layers': 2, 'n_units_l0': 4.952259299483751, 'n_units_l1': 991.4548756639401}.\n",
      "[I 2019-03-27 13:00:06,691] Finished a trial resulted in value: 3.214945124066478. Current best value is 2.776295649090273 with parameters: {'n_layers': 2, 'n_units_l0': 4.952259299483751, 'n_units_l1': 991.4548756639401}.\n",
      "[I 2019-03-27 13:00:12,469] Finished a trial resulted in value: 3.050045802710944. Current best value is 2.776295649090273 with parameters: {'n_layers': 2, 'n_units_l0': 4.952259299483751, 'n_units_l1': 991.4548756639401}.\n",
      "[I 2019-03-27 13:00:24,906] Finished a trial resulted in value: 3.2115303129814583. Current best value is 2.776295649090273 with parameters: {'n_layers': 2, 'n_units_l0': 4.952259299483751, 'n_units_l1': 991.4548756639401}.\n",
      "[I 2019-03-27 13:00:55,005] Finished a trial resulted in value: 3.7503826726611136. Current best value is 2.776295649090273 with parameters: {'n_layers': 2, 'n_units_l0': 4.952259299483751, 'n_units_l1': 991.4548756639401}.\n",
      "[I 2019-03-27 13:00:59,174] Finished a trial resulted in value: 2.8678780887347877. Current best value is 2.776295649090273 with parameters: {'n_layers': 2, 'n_units_l0': 4.952259299483751, 'n_units_l1': 991.4548756639401}.\n",
      "[I 2019-03-27 13:01:05,448] Finished a trial resulted in value: 3.1479861158065825. Current best value is 2.776295649090273 with parameters: {'n_layers': 2, 'n_units_l0': 4.952259299483751, 'n_units_l1': 991.4548756639401}.\n",
      "/home/honda/anaconda3/lib/python3.6/site-packages/sklearn/neural_network/multilayer_perceptron.py:562: ConvergenceWarning: Stochastic Optimizer: Maximum iterations (200) reached and the optimization hasn't converged yet.\n",
      "  % self.max_iter, ConvergenceWarning)\n",
      "/home/honda/anaconda3/lib/python3.6/site-packages/sklearn/neural_network/multilayer_perceptron.py:562: ConvergenceWarning: Stochastic Optimizer: Maximum iterations (200) reached and the optimization hasn't converged yet.\n",
      "  % self.max_iter, ConvergenceWarning)\n",
      "/home/honda/anaconda3/lib/python3.6/site-packages/sklearn/neural_network/multilayer_perceptron.py:562: ConvergenceWarning: Stochastic Optimizer: Maximum iterations (200) reached and the optimization hasn't converged yet.\n",
      "  % self.max_iter, ConvergenceWarning)\n",
      "[I 2019-03-27 13:01:07,647] Finished a trial resulted in value: 8.219186655687606. Current best value is 2.776295649090273 with parameters: {'n_layers': 2, 'n_units_l0': 4.952259299483751, 'n_units_l1': 991.4548756639401}.\n",
      "[I 2019-03-27 13:01:09,699] Finished a trial resulted in value: 3.9946413130641654. Current best value is 2.776295649090273 with parameters: {'n_layers': 2, 'n_units_l0': 4.952259299483751, 'n_units_l1': 991.4548756639401}.\n",
      "/home/honda/anaconda3/lib/python3.6/site-packages/sklearn/neural_network/multilayer_perceptron.py:562: ConvergenceWarning: Stochastic Optimizer: Maximum iterations (200) reached and the optimization hasn't converged yet.\n",
      "  % self.max_iter, ConvergenceWarning)\n",
      "/home/honda/anaconda3/lib/python3.6/site-packages/sklearn/neural_network/multilayer_perceptron.py:562: ConvergenceWarning: Stochastic Optimizer: Maximum iterations (200) reached and the optimization hasn't converged yet.\n",
      "  % self.max_iter, ConvergenceWarning)\n",
      "/home/honda/anaconda3/lib/python3.6/site-packages/sklearn/neural_network/multilayer_perceptron.py:562: ConvergenceWarning: Stochastic Optimizer: Maximum iterations (200) reached and the optimization hasn't converged yet.\n",
      "  % self.max_iter, ConvergenceWarning)\n",
      "[I 2019-03-27 13:01:11,865] Finished a trial resulted in value: 6.0795758015252375. Current best value is 2.776295649090273 with parameters: {'n_layers': 2, 'n_units_l0': 4.952259299483751, 'n_units_l1': 991.4548756639401}.\n",
      "[I 2019-03-27 13:01:16,308] Finished a trial resulted in value: 3.2986987623199724. Current best value is 2.776295649090273 with parameters: {'n_layers': 2, 'n_units_l0': 4.952259299483751, 'n_units_l1': 991.4548756639401}.\n",
      "[I 2019-03-27 13:01:17,972] Finished a trial resulted in value: 3.806186510131391. Current best value is 2.776295649090273 with parameters: {'n_layers': 2, 'n_units_l0': 4.952259299483751, 'n_units_l1': 991.4548756639401}.\n",
      "/home/honda/anaconda3/lib/python3.6/site-packages/sklearn/neural_network/multilayer_perceptron.py:562: ConvergenceWarning: Stochastic Optimizer: Maximum iterations (200) reached and the optimization hasn't converged yet.\n",
      "  % self.max_iter, ConvergenceWarning)\n",
      "/home/honda/anaconda3/lib/python3.6/site-packages/sklearn/neural_network/multilayer_perceptron.py:562: ConvergenceWarning: Stochastic Optimizer: Maximum iterations (200) reached and the optimization hasn't converged yet.\n",
      "  % self.max_iter, ConvergenceWarning)\n",
      "/home/honda/anaconda3/lib/python3.6/site-packages/sklearn/neural_network/multilayer_perceptron.py:562: ConvergenceWarning: Stochastic Optimizer: Maximum iterations (200) reached and the optimization hasn't converged yet.\n",
      "  % self.max_iter, ConvergenceWarning)\n",
      "/home/honda/anaconda3/lib/python3.6/site-packages/sklearn/neural_network/multilayer_perceptron.py:562: ConvergenceWarning: Stochastic Optimizer: Maximum iterations (200) reached and the optimization hasn't converged yet.\n",
      "  % self.max_iter, ConvergenceWarning)\n"
     ]
    },
    {
     "name": "stderr",
     "output_type": "stream",
     "text": [
      "[I 2019-03-27 13:01:20,452] Finished a trial resulted in value: 7.151908473803012. Current best value is 2.776295649090273 with parameters: {'n_layers': 2, 'n_units_l0': 4.952259299483751, 'n_units_l1': 991.4548756639401}.\n",
      "[I 2019-03-27 13:01:26,069] Finished a trial resulted in value: 3.18821781823379. Current best value is 2.776295649090273 with parameters: {'n_layers': 2, 'n_units_l0': 4.952259299483751, 'n_units_l1': 991.4548756639401}.\n",
      "[I 2019-03-27 13:01:29,456] Finished a trial resulted in value: 3.580537682677979. Current best value is 2.776295649090273 with parameters: {'n_layers': 2, 'n_units_l0': 4.952259299483751, 'n_units_l1': 991.4548756639401}.\n",
      "[I 2019-03-27 13:01:33,059] Finished a trial resulted in value: 2.8596867511946513. Current best value is 2.776295649090273 with parameters: {'n_layers': 2, 'n_units_l0': 4.952259299483751, 'n_units_l1': 991.4548756639401}.\n",
      "[I 2019-03-27 13:01:37,250] Finished a trial resulted in value: 3.0546023468510346. Current best value is 2.776295649090273 with parameters: {'n_layers': 2, 'n_units_l0': 4.952259299483751, 'n_units_l1': 991.4548756639401}.\n",
      "[I 2019-03-27 13:01:43,838] Finished a trial resulted in value: 3.268960345538345. Current best value is 2.776295649090273 with parameters: {'n_layers': 2, 'n_units_l0': 4.952259299483751, 'n_units_l1': 991.4548756639401}.\n",
      "[I 2019-03-27 13:01:46,702] Finished a trial resulted in value: 3.2553486861466587. Current best value is 2.776295649090273 with parameters: {'n_layers': 2, 'n_units_l0': 4.952259299483751, 'n_units_l1': 991.4548756639401}.\n",
      "[I 2019-03-27 13:01:50,302] Finished a trial resulted in value: 3.034966785803546. Current best value is 2.776295649090273 with parameters: {'n_layers': 2, 'n_units_l0': 4.952259299483751, 'n_units_l1': 991.4548756639401}.\n",
      "[I 2019-03-27 13:02:00,604] Finished a trial resulted in value: 2.9620291785863335. Current best value is 2.776295649090273 with parameters: {'n_layers': 2, 'n_units_l0': 4.952259299483751, 'n_units_l1': 991.4548756639401}.\n"
     ]
    }
   ],
   "source": [
    "def objective_mlp(trial):\n",
    "    n_layers = trial.suggest_int('n_layers', 1,3)\n",
    "    layers = []\n",
    "    for i in range(n_layers):\n",
    "        n_units = int(trial.suggest_loguniform('n_units_l{}'.format(i), 1, 1000))\n",
    "        layers.append(n_units)\n",
    "    \n",
    "    n_folds = 4\n",
    "    score = 0\n",
    "    for _ in range(n_folds):\n",
    "        mlp = MLPRegressor(hidden_layer_sizes=layers)\n",
    "        X_trn, X_val, y_trn, y_val = train_test_split(X_train, y_train)\n",
    "        mlp.fit(X_trn, y_trn)\n",
    "        y_pred = mlp.predict(X_val)\n",
    "        score += mean_squared_error(y_val, y_pred)\n",
    "    return score/n_folds\n",
    "\n",
    "study = optuna.create_study()\n",
    "study.optimize(objective_mlp, n_trials=100)"
   ]
  },
  {
   "cell_type": "code",
   "execution_count": 18,
   "metadata": {},
   "outputs": [
    {
     "name": "stdout",
     "output_type": "stream",
     "text": [
      "Test R2: 0.1948 ± 0.1323\n",
      "Test MSE: 3.2874 ± 0.5402\n"
     ]
    }
   ],
   "source": [
    "# Optimized\n",
    "\n",
    "n = 10\n",
    "r2 = np.zeros(n)\n",
    "mse = np.zeros(n)\n",
    "\n",
    "for i in range(n):\n",
    "    MLP = MLPRegressor((5, 991))\n",
    "    MLP.fit(X_train, y_train)\n",
    "    y_pred = MLP.predict(X_test)\n",
    "    r2[i] = r2_score(y_test, y_pred)\n",
    "    mse[i] = mean_squared_error(y_test, y_pred)\n",
    "\n",
    "print(\"Test R2: {:.4f} ± {:.4f}\".format(np.mean(r2), np.std(r2)))\n",
    "print(\"Test MSE: {:.4f} ± {:.4f}\".format(np.mean(mse), np.std(mse)))"
   ]
  },
  {
   "cell_type": "markdown",
   "metadata": {},
   "source": [
    "### RF"
   ]
  },
  {
   "cell_type": "code",
   "execution_count": 19,
   "metadata": {
    "scrolled": true
   },
   "outputs": [
    {
     "name": "stderr",
     "output_type": "stream",
     "text": [
      "/home/honda/anaconda3/lib/python3.6/site-packages/sklearn/ensemble/forest.py:248: FutureWarning: The default value of n_estimators will change from 10 in version 0.20 to 100 in 0.22.\n",
      "  \"10 in version 0.20 to 100 in 0.22.\", FutureWarning)\n",
      "/home/honda/anaconda3/lib/python3.6/site-packages/sklearn/ensemble/forest.py:248: FutureWarning: The default value of n_estimators will change from 10 in version 0.20 to 100 in 0.22.\n",
      "  \"10 in version 0.20 to 100 in 0.22.\", FutureWarning)\n",
      "/home/honda/anaconda3/lib/python3.6/site-packages/sklearn/ensemble/forest.py:248: FutureWarning: The default value of n_estimators will change from 10 in version 0.20 to 100 in 0.22.\n",
      "  \"10 in version 0.20 to 100 in 0.22.\", FutureWarning)\n",
      "/home/honda/anaconda3/lib/python3.6/site-packages/sklearn/ensemble/forest.py:248: FutureWarning: The default value of n_estimators will change from 10 in version 0.20 to 100 in 0.22.\n",
      "  \"10 in version 0.20 to 100 in 0.22.\", FutureWarning)\n",
      "/home/honda/anaconda3/lib/python3.6/site-packages/sklearn/ensemble/forest.py:248: FutureWarning: The default value of n_estimators will change from 10 in version 0.20 to 100 in 0.22.\n",
      "  \"10 in version 0.20 to 100 in 0.22.\", FutureWarning)\n",
      "/home/honda/anaconda3/lib/python3.6/site-packages/sklearn/ensemble/forest.py:248: FutureWarning: The default value of n_estimators will change from 10 in version 0.20 to 100 in 0.22.\n",
      "  \"10 in version 0.20 to 100 in 0.22.\", FutureWarning)\n",
      "/home/honda/anaconda3/lib/python3.6/site-packages/sklearn/ensemble/forest.py:248: FutureWarning: The default value of n_estimators will change from 10 in version 0.20 to 100 in 0.22.\n",
      "  \"10 in version 0.20 to 100 in 0.22.\", FutureWarning)\n",
      "/home/honda/anaconda3/lib/python3.6/site-packages/sklearn/ensemble/forest.py:248: FutureWarning: The default value of n_estimators will change from 10 in version 0.20 to 100 in 0.22.\n",
      "  \"10 in version 0.20 to 100 in 0.22.\", FutureWarning)\n",
      "/home/honda/anaconda3/lib/python3.6/site-packages/sklearn/ensemble/forest.py:248: FutureWarning: The default value of n_estimators will change from 10 in version 0.20 to 100 in 0.22.\n",
      "  \"10 in version 0.20 to 100 in 0.22.\", FutureWarning)\n",
      "/home/honda/anaconda3/lib/python3.6/site-packages/sklearn/ensemble/forest.py:248: FutureWarning: The default value of n_estimators will change from 10 in version 0.20 to 100 in 0.22.\n",
      "  \"10 in version 0.20 to 100 in 0.22.\", FutureWarning)\n"
     ]
    },
    {
     "name": "stdout",
     "output_type": "stream",
     "text": [
      "Test R2: 0.6540 ± 0.0206\n",
      "Test MSE: 1.4126 ± 0.0842\n"
     ]
    }
   ],
   "source": [
    "#Default\n",
    "n = 10\n",
    "r2 = np.zeros(n)\n",
    "mse = np.zeros(n)\n",
    "\n",
    "for i in range(n):\n",
    "    RF = RandomForestRegressor()\n",
    "    RF.fit(X_train, y_train)\n",
    "    y_pred = RF.predict(X_test)\n",
    "    r2[i] = r2_score(y_test, y_pred)\n",
    "    mse[i] = mean_squared_error(y_test, y_pred)\n",
    "\n",
    "print(\"Test R2: {:.4f} ± {:.4f}\".format(np.mean(r2), np.std(r2)))\n",
    "print(\"Test MSE: {:.4f} ± {:.4f}\".format(np.mean(mse), np.std(mse)))"
   ]
  },
  {
   "cell_type": "code",
   "execution_count": 20,
   "metadata": {
    "scrolled": true
   },
   "outputs": [
    {
     "name": "stderr",
     "output_type": "stream",
     "text": [
      "[I 2019-03-27 13:13:44,239] Finished a trial resulted in value: 1.9858887117561346. Current best value is 1.9858887117561346 with parameters: {'max_depth': 8.805167701303105, 'n_estimators': 12.484846460673685, 'max_features': 4, 'min_samples_split': 9, 'min_samples_leaf': 7}.\n",
      "[I 2019-03-27 13:13:48,196] Finished a trial resulted in value: 2.4970896879382862. Current best value is 1.9858887117561346 with parameters: {'max_depth': 8.805167701303105, 'n_estimators': 12.484846460673685, 'max_features': 4, 'min_samples_split': 9, 'min_samples_leaf': 7}.\n",
      "[I 2019-03-27 13:14:01,168] Finished a trial resulted in value: 1.4760623942197728. Current best value is 1.4760623942197728 with parameters: {'max_depth': 30.722686935078347, 'n_estimators': 776.6583629827223, 'max_features': 7, 'min_samples_split': 9, 'min_samples_leaf': 3}.\n",
      "[I 2019-03-27 13:14:13,953] Finished a trial resulted in value: 1.2997838328997737. Current best value is 1.2997838328997737 with parameters: {'max_depth': 18.54981159094242, 'n_estimators': 710.7957377150005, 'max_features': 8, 'min_samples_split': 9, 'min_samples_leaf': 3}.\n",
      "[I 2019-03-27 13:14:14,159] Finished a trial resulted in value: 2.2239007267313537. Current best value is 1.2997838328997737 with parameters: {'max_depth': 18.54981159094242, 'n_estimators': 710.7957377150005, 'max_features': 8, 'min_samples_split': 9, 'min_samples_leaf': 3}.\n",
      "[I 2019-03-27 13:14:14,273] Finished a trial resulted in value: 2.0497036604118204. Current best value is 1.2997838328997737 with parameters: {'max_depth': 18.54981159094242, 'n_estimators': 710.7957377150005, 'max_features': 8, 'min_samples_split': 9, 'min_samples_leaf': 3}.\n",
      "[I 2019-03-27 13:14:14,337] Finished a trial resulted in value: 2.472830596545376. Current best value is 1.2997838328997737 with parameters: {'max_depth': 18.54981159094242, 'n_estimators': 710.7957377150005, 'max_features': 8, 'min_samples_split': 9, 'min_samples_leaf': 3}.\n",
      "[I 2019-03-27 13:14:14,460] Finished a trial resulted in value: 2.056149933541877. Current best value is 1.2997838328997737 with parameters: {'max_depth': 18.54981159094242, 'n_estimators': 710.7957377150005, 'max_features': 8, 'min_samples_split': 9, 'min_samples_leaf': 3}.\n",
      "[I 2019-03-27 13:14:15,099] Finished a trial resulted in value: 1.506880373234854. Current best value is 1.2997838328997737 with parameters: {'max_depth': 18.54981159094242, 'n_estimators': 710.7957377150005, 'max_features': 8, 'min_samples_split': 9, 'min_samples_leaf': 3}.\n",
      "[I 2019-03-27 13:14:15,700] Finished a trial resulted in value: 1.9253890825031348. Current best value is 1.2997838328997737 with parameters: {'max_depth': 18.54981159094242, 'n_estimators': 710.7957377150005, 'max_features': 8, 'min_samples_split': 9, 'min_samples_leaf': 3}.\n",
      "[I 2019-03-27 13:14:15,763] Finished a trial resulted in value: 2.460530005704972. Current best value is 1.2997838328997737 with parameters: {'max_depth': 18.54981159094242, 'n_estimators': 710.7957377150005, 'max_features': 8, 'min_samples_split': 9, 'min_samples_leaf': 3}.\n",
      "[I 2019-03-27 13:14:17,215] Finished a trial resulted in value: 1.6533944601343502. Current best value is 1.2997838328997737 with parameters: {'max_depth': 18.54981159094242, 'n_estimators': 710.7957377150005, 'max_features': 8, 'min_samples_split': 9, 'min_samples_leaf': 3}.\n",
      "[I 2019-03-27 13:14:23,614] Finished a trial resulted in value: 1.3508695482893374. Current best value is 1.2997838328997737 with parameters: {'max_depth': 18.54981159094242, 'n_estimators': 710.7957377150005, 'max_features': 8, 'min_samples_split': 9, 'min_samples_leaf': 3}.\n",
      "[I 2019-03-27 13:14:24,538] Finished a trial resulted in value: 2.6958333203630076. Current best value is 1.2997838328997737 with parameters: {'max_depth': 18.54981159094242, 'n_estimators': 710.7957377150005, 'max_features': 8, 'min_samples_split': 9, 'min_samples_leaf': 3}.\n",
      "[I 2019-03-27 13:14:32,648] Finished a trial resulted in value: 1.6977729898288088. Current best value is 1.2997838328997737 with parameters: {'max_depth': 18.54981159094242, 'n_estimators': 710.7957377150005, 'max_features': 8, 'min_samples_split': 9, 'min_samples_leaf': 3}.\n",
      "[I 2019-03-27 13:14:36,696] Finished a trial resulted in value: 1.6648742461765864. Current best value is 1.2997838328997737 with parameters: {'max_depth': 18.54981159094242, 'n_estimators': 710.7957377150005, 'max_features': 8, 'min_samples_split': 9, 'min_samples_leaf': 3}.\n",
      "[I 2019-03-27 13:14:37,784] Finished a trial resulted in value: 1.5717461860196245. Current best value is 1.2997838328997737 with parameters: {'max_depth': 18.54981159094242, 'n_estimators': 710.7957377150005, 'max_features': 8, 'min_samples_split': 9, 'min_samples_leaf': 3}.\n",
      "[I 2019-03-27 13:14:43,561] Finished a trial resulted in value: 1.543424485563957. Current best value is 1.2997838328997737 with parameters: {'max_depth': 18.54981159094242, 'n_estimators': 710.7957377150005, 'max_features': 8, 'min_samples_split': 9, 'min_samples_leaf': 3}.\n",
      "[I 2019-03-27 13:14:51,577] Finished a trial resulted in value: 1.3629852281659764. Current best value is 1.2997838328997737 with parameters: {'max_depth': 18.54981159094242, 'n_estimators': 710.7957377150005, 'max_features': 8, 'min_samples_split': 9, 'min_samples_leaf': 3}.\n",
      "[I 2019-03-27 13:15:01,415] Finished a trial resulted in value: 1.5837641586369458. Current best value is 1.2997838328997737 with parameters: {'max_depth': 18.54981159094242, 'n_estimators': 710.7957377150005, 'max_features': 8, 'min_samples_split': 9, 'min_samples_leaf': 3}.\n",
      "[I 2019-03-27 13:15:05,100] Finished a trial resulted in value: 1.6876594909461666. Current best value is 1.2997838328997737 with parameters: {'max_depth': 18.54981159094242, 'n_estimators': 710.7957377150005, 'max_features': 8, 'min_samples_split': 9, 'min_samples_leaf': 3}.\n",
      "[I 2019-03-27 13:15:05,821] Finished a trial resulted in value: 1.6659497479297176. Current best value is 1.2997838328997737 with parameters: {'max_depth': 18.54981159094242, 'n_estimators': 710.7957377150005, 'max_features': 8, 'min_samples_split': 9, 'min_samples_leaf': 3}.\n",
      "[I 2019-03-27 13:15:16,300] Finished a trial resulted in value: 1.6337088497439014. Current best value is 1.2997838328997737 with parameters: {'max_depth': 18.54981159094242, 'n_estimators': 710.7957377150005, 'max_features': 8, 'min_samples_split': 9, 'min_samples_leaf': 3}.\n",
      "[I 2019-03-27 13:15:22,537] Finished a trial resulted in value: 1.5272768381572763. Current best value is 1.2997838328997737 with parameters: {'max_depth': 18.54981159094242, 'n_estimators': 710.7957377150005, 'max_features': 8, 'min_samples_split': 9, 'min_samples_leaf': 3}.\n",
      "[I 2019-03-27 13:15:25,795] Finished a trial resulted in value: 1.8421933273018878. Current best value is 1.2997838328997737 with parameters: {'max_depth': 18.54981159094242, 'n_estimators': 710.7957377150005, 'max_features': 8, 'min_samples_split': 9, 'min_samples_leaf': 3}.\n",
      "[I 2019-03-27 13:15:26,532] Finished a trial resulted in value: 2.223903822331399. Current best value is 1.2997838328997737 with parameters: {'max_depth': 18.54981159094242, 'n_estimators': 710.7957377150005, 'max_features': 8, 'min_samples_split': 9, 'min_samples_leaf': 3}.\n",
      "[I 2019-03-27 13:15:26,668] Finished a trial resulted in value: 1.8567509486455602. Current best value is 1.2997838328997737 with parameters: {'max_depth': 18.54981159094242, 'n_estimators': 710.7957377150005, 'max_features': 8, 'min_samples_split': 9, 'min_samples_leaf': 3}.\n",
      "[I 2019-03-27 13:15:35,283] Finished a trial resulted in value: 1.6402997577040128. Current best value is 1.2997838328997737 with parameters: {'max_depth': 18.54981159094242, 'n_estimators': 710.7957377150005, 'max_features': 8, 'min_samples_split': 9, 'min_samples_leaf': 3}.\n",
      "[I 2019-03-27 13:15:35,572] Finished a trial resulted in value: 1.829257424489167. Current best value is 1.2997838328997737 with parameters: {'max_depth': 18.54981159094242, 'n_estimators': 710.7957377150005, 'max_features': 8, 'min_samples_split': 9, 'min_samples_leaf': 3}.\n"
     ]
    },
    {
     "name": "stderr",
     "output_type": "stream",
     "text": [
      "[I 2019-03-27 13:15:42,703] Finished a trial resulted in value: 1.6467039225180407. Current best value is 1.2997838328997737 with parameters: {'max_depth': 18.54981159094242, 'n_estimators': 710.7957377150005, 'max_features': 8, 'min_samples_split': 9, 'min_samples_leaf': 3}.\n",
      "[I 2019-03-27 13:15:46,547] Finished a trial resulted in value: 1.450441934986444. Current best value is 1.2997838328997737 with parameters: {'max_depth': 18.54981159094242, 'n_estimators': 710.7957377150005, 'max_features': 8, 'min_samples_split': 9, 'min_samples_leaf': 3}.\n",
      "[I 2019-03-27 13:15:49,147] Finished a trial resulted in value: 1.5373220315419398. Current best value is 1.2997838328997737 with parameters: {'max_depth': 18.54981159094242, 'n_estimators': 710.7957377150005, 'max_features': 8, 'min_samples_split': 9, 'min_samples_leaf': 3}.\n",
      "[I 2019-03-27 13:15:53,668] Finished a trial resulted in value: 2.792963148999718. Current best value is 1.2997838328997737 with parameters: {'max_depth': 18.54981159094242, 'n_estimators': 710.7957377150005, 'max_features': 8, 'min_samples_split': 9, 'min_samples_leaf': 3}.\n",
      "[I 2019-03-27 13:16:02,791] Finished a trial resulted in value: 1.550688905714533. Current best value is 1.2997838328997737 with parameters: {'max_depth': 18.54981159094242, 'n_estimators': 710.7957377150005, 'max_features': 8, 'min_samples_split': 9, 'min_samples_leaf': 3}.\n",
      "[I 2019-03-27 13:16:03,731] Finished a trial resulted in value: 1.701360812442493. Current best value is 1.2997838328997737 with parameters: {'max_depth': 18.54981159094242, 'n_estimators': 710.7957377150005, 'max_features': 8, 'min_samples_split': 9, 'min_samples_leaf': 3}.\n",
      "[I 2019-03-27 13:16:04,237] Finished a trial resulted in value: 1.6314764895783336. Current best value is 1.2997838328997737 with parameters: {'max_depth': 18.54981159094242, 'n_estimators': 710.7957377150005, 'max_features': 8, 'min_samples_split': 9, 'min_samples_leaf': 3}.\n",
      "[I 2019-03-27 13:16:06,205] Finished a trial resulted in value: 1.5700895510349526. Current best value is 1.2997838328997737 with parameters: {'max_depth': 18.54981159094242, 'n_estimators': 710.7957377150005, 'max_features': 8, 'min_samples_split': 9, 'min_samples_leaf': 3}.\n",
      "[I 2019-03-27 13:16:10,673] Finished a trial resulted in value: 1.4225415810356135. Current best value is 1.2997838328997737 with parameters: {'max_depth': 18.54981159094242, 'n_estimators': 710.7957377150005, 'max_features': 8, 'min_samples_split': 9, 'min_samples_leaf': 3}.\n",
      "[I 2019-03-27 13:16:10,827] Finished a trial resulted in value: 2.2485590788055183. Current best value is 1.2997838328997737 with parameters: {'max_depth': 18.54981159094242, 'n_estimators': 710.7957377150005, 'max_features': 8, 'min_samples_split': 9, 'min_samples_leaf': 3}.\n",
      "[I 2019-03-27 13:16:11,064] Finished a trial resulted in value: 1.5750117983576635. Current best value is 1.2997838328997737 with parameters: {'max_depth': 18.54981159094242, 'n_estimators': 710.7957377150005, 'max_features': 8, 'min_samples_split': 9, 'min_samples_leaf': 3}.\n",
      "[I 2019-03-27 13:16:12,038] Finished a trial resulted in value: 1.7308399701914992. Current best value is 1.2997838328997737 with parameters: {'max_depth': 18.54981159094242, 'n_estimators': 710.7957377150005, 'max_features': 8, 'min_samples_split': 9, 'min_samples_leaf': 3}.\n",
      "[I 2019-03-27 13:16:12,158] Finished a trial resulted in value: 2.077709389716245. Current best value is 1.2997838328997737 with parameters: {'max_depth': 18.54981159094242, 'n_estimators': 710.7957377150005, 'max_features': 8, 'min_samples_split': 9, 'min_samples_leaf': 3}.\n",
      "[I 2019-03-27 13:16:12,896] Finished a trial resulted in value: 1.5498060665179159. Current best value is 1.2997838328997737 with parameters: {'max_depth': 18.54981159094242, 'n_estimators': 710.7957377150005, 'max_features': 8, 'min_samples_split': 9, 'min_samples_leaf': 3}.\n",
      "[I 2019-03-27 13:16:27,737] Finished a trial resulted in value: 1.4886319327839599. Current best value is 1.2997838328997737 with parameters: {'max_depth': 18.54981159094242, 'n_estimators': 710.7957377150005, 'max_features': 8, 'min_samples_split': 9, 'min_samples_leaf': 3}.\n",
      "[I 2019-03-27 13:16:29,146] Finished a trial resulted in value: 1.4730417105856504. Current best value is 1.2997838328997737 with parameters: {'max_depth': 18.54981159094242, 'n_estimators': 710.7957377150005, 'max_features': 8, 'min_samples_split': 9, 'min_samples_leaf': 3}.\n",
      "[I 2019-03-27 13:16:37,598] Finished a trial resulted in value: 1.3442631652862487. Current best value is 1.2997838328997737 with parameters: {'max_depth': 18.54981159094242, 'n_estimators': 710.7957377150005, 'max_features': 8, 'min_samples_split': 9, 'min_samples_leaf': 3}.\n",
      "[I 2019-03-27 13:16:39,234] Finished a trial resulted in value: 1.5274456144833526. Current best value is 1.2997838328997737 with parameters: {'max_depth': 18.54981159094242, 'n_estimators': 710.7957377150005, 'max_features': 8, 'min_samples_split': 9, 'min_samples_leaf': 3}.\n",
      "[I 2019-03-27 13:16:50,710] Finished a trial resulted in value: 1.3287813834710684. Current best value is 1.2997838328997737 with parameters: {'max_depth': 18.54981159094242, 'n_estimators': 710.7957377150005, 'max_features': 8, 'min_samples_split': 9, 'min_samples_leaf': 3}.\n",
      "[I 2019-03-27 13:17:08,192] Finished a trial resulted in value: 1.3750098787406095. Current best value is 1.2997838328997737 with parameters: {'max_depth': 18.54981159094242, 'n_estimators': 710.7957377150005, 'max_features': 8, 'min_samples_split': 9, 'min_samples_leaf': 3}.\n",
      "[I 2019-03-27 13:17:19,160] Finished a trial resulted in value: 1.3060020684642297. Current best value is 1.2997838328997737 with parameters: {'max_depth': 18.54981159094242, 'n_estimators': 710.7957377150005, 'max_features': 8, 'min_samples_split': 9, 'min_samples_leaf': 3}.\n",
      "[I 2019-03-27 13:17:19,264] Finished a trial resulted in value: 1.988892815976744. Current best value is 1.2997838328997737 with parameters: {'max_depth': 18.54981159094242, 'n_estimators': 710.7957377150005, 'max_features': 8, 'min_samples_split': 9, 'min_samples_leaf': 3}.\n",
      "[I 2019-03-27 13:17:19,584] Finished a trial resulted in value: 1.5487155247583912. Current best value is 1.2997838328997737 with parameters: {'max_depth': 18.54981159094242, 'n_estimators': 710.7957377150005, 'max_features': 8, 'min_samples_split': 9, 'min_samples_leaf': 3}.\n",
      "[I 2019-03-27 13:17:20,831] Finished a trial resulted in value: 1.399587252807081. Current best value is 1.2997838328997737 with parameters: {'max_depth': 18.54981159094242, 'n_estimators': 710.7957377150005, 'max_features': 8, 'min_samples_split': 9, 'min_samples_leaf': 3}.\n",
      "[I 2019-03-27 13:17:26,067] Finished a trial resulted in value: 1.5227423663509225. Current best value is 1.2997838328997737 with parameters: {'max_depth': 18.54981159094242, 'n_estimators': 710.7957377150005, 'max_features': 8, 'min_samples_split': 9, 'min_samples_leaf': 3}.\n",
      "[I 2019-03-27 13:17:29,173] Finished a trial resulted in value: 1.4368251079357168. Current best value is 1.2997838328997737 with parameters: {'max_depth': 18.54981159094242, 'n_estimators': 710.7957377150005, 'max_features': 8, 'min_samples_split': 9, 'min_samples_leaf': 3}.\n",
      "[I 2019-03-27 13:17:31,753] Finished a trial resulted in value: 1.571767310416014. Current best value is 1.2997838328997737 with parameters: {'max_depth': 18.54981159094242, 'n_estimators': 710.7957377150005, 'max_features': 8, 'min_samples_split': 9, 'min_samples_leaf': 3}.\n",
      "[I 2019-03-27 13:17:33,051] Finished a trial resulted in value: 1.5182129652915581. Current best value is 1.2997838328997737 with parameters: {'max_depth': 18.54981159094242, 'n_estimators': 710.7957377150005, 'max_features': 8, 'min_samples_split': 9, 'min_samples_leaf': 3}.\n",
      "[I 2019-03-27 13:17:33,346] Finished a trial resulted in value: 1.746424863268299. Current best value is 1.2997838328997737 with parameters: {'max_depth': 18.54981159094242, 'n_estimators': 710.7957377150005, 'max_features': 8, 'min_samples_split': 9, 'min_samples_leaf': 3}.\n"
     ]
    },
    {
     "name": "stderr",
     "output_type": "stream",
     "text": [
      "[I 2019-03-27 13:17:39,473] Finished a trial resulted in value: 1.6384744048694815. Current best value is 1.2997838328997737 with parameters: {'max_depth': 18.54981159094242, 'n_estimators': 710.7957377150005, 'max_features': 8, 'min_samples_split': 9, 'min_samples_leaf': 3}.\n",
      "[I 2019-03-27 13:17:44,829] Finished a trial resulted in value: 2.6484743419545325. Current best value is 1.2997838328997737 with parameters: {'max_depth': 18.54981159094242, 'n_estimators': 710.7957377150005, 'max_features': 8, 'min_samples_split': 9, 'min_samples_leaf': 3}.\n",
      "[I 2019-03-27 13:18:00,552] Finished a trial resulted in value: 1.371448509095101. Current best value is 1.2997838328997737 with parameters: {'max_depth': 18.54981159094242, 'n_estimators': 710.7957377150005, 'max_features': 8, 'min_samples_split': 9, 'min_samples_leaf': 3}.\n",
      "[I 2019-03-27 13:18:04,343] Finished a trial resulted in value: 1.606727048046625. Current best value is 1.2997838328997737 with parameters: {'max_depth': 18.54981159094242, 'n_estimators': 710.7957377150005, 'max_features': 8, 'min_samples_split': 9, 'min_samples_leaf': 3}.\n",
      "[I 2019-03-27 13:18:09,844] Finished a trial resulted in value: 1.592597288432925. Current best value is 1.2997838328997737 with parameters: {'max_depth': 18.54981159094242, 'n_estimators': 710.7957377150005, 'max_features': 8, 'min_samples_split': 9, 'min_samples_leaf': 3}.\n",
      "[I 2019-03-27 13:18:10,886] Finished a trial resulted in value: 1.508742820035943. Current best value is 1.2997838328997737 with parameters: {'max_depth': 18.54981159094242, 'n_estimators': 710.7957377150005, 'max_features': 8, 'min_samples_split': 9, 'min_samples_leaf': 3}.\n",
      "[I 2019-03-27 13:18:11,009] Finished a trial resulted in value: 1.8830143069369254. Current best value is 1.2997838328997737 with parameters: {'max_depth': 18.54981159094242, 'n_estimators': 710.7957377150005, 'max_features': 8, 'min_samples_split': 9, 'min_samples_leaf': 3}.\n",
      "[I 2019-03-27 13:18:22,041] Finished a trial resulted in value: 1.4073474525823668. Current best value is 1.2997838328997737 with parameters: {'max_depth': 18.54981159094242, 'n_estimators': 710.7957377150005, 'max_features': 8, 'min_samples_split': 9, 'min_samples_leaf': 3}.\n",
      "[I 2019-03-27 13:18:40,122] Finished a trial resulted in value: 1.500502629288483. Current best value is 1.2997838328997737 with parameters: {'max_depth': 18.54981159094242, 'n_estimators': 710.7957377150005, 'max_features': 8, 'min_samples_split': 9, 'min_samples_leaf': 3}.\n",
      "[I 2019-03-27 13:18:54,103] Finished a trial resulted in value: 1.5145975785187877. Current best value is 1.2997838328997737 with parameters: {'max_depth': 18.54981159094242, 'n_estimators': 710.7957377150005, 'max_features': 8, 'min_samples_split': 9, 'min_samples_leaf': 3}.\n",
      "[I 2019-03-27 13:18:58,060] Finished a trial resulted in value: 1.5423404688063027. Current best value is 1.2997838328997737 with parameters: {'max_depth': 18.54981159094242, 'n_estimators': 710.7957377150005, 'max_features': 8, 'min_samples_split': 9, 'min_samples_leaf': 3}.\n",
      "[I 2019-03-27 13:19:04,663] Finished a trial resulted in value: 1.4851481014330983. Current best value is 1.2997838328997737 with parameters: {'max_depth': 18.54981159094242, 'n_estimators': 710.7957377150005, 'max_features': 8, 'min_samples_split': 9, 'min_samples_leaf': 3}.\n",
      "[I 2019-03-27 13:19:09,163] Finished a trial resulted in value: 1.4192922696602475. Current best value is 1.2997838328997737 with parameters: {'max_depth': 18.54981159094242, 'n_estimators': 710.7957377150005, 'max_features': 8, 'min_samples_split': 9, 'min_samples_leaf': 3}.\n",
      "[I 2019-03-27 13:19:11,908] Finished a trial resulted in value: 1.4793856448273561. Current best value is 1.2997838328997737 with parameters: {'max_depth': 18.54981159094242, 'n_estimators': 710.7957377150005, 'max_features': 8, 'min_samples_split': 9, 'min_samples_leaf': 3}.\n",
      "[I 2019-03-27 13:19:21,142] Finished a trial resulted in value: 1.4492070273065512. Current best value is 1.2997838328997737 with parameters: {'max_depth': 18.54981159094242, 'n_estimators': 710.7957377150005, 'max_features': 8, 'min_samples_split': 9, 'min_samples_leaf': 3}.\n",
      "[I 2019-03-27 13:19:31,273] Finished a trial resulted in value: 1.597227753929344. Current best value is 1.2997838328997737 with parameters: {'max_depth': 18.54981159094242, 'n_estimators': 710.7957377150005, 'max_features': 8, 'min_samples_split': 9, 'min_samples_leaf': 3}.\n",
      "[I 2019-03-27 13:19:54,581] Finished a trial resulted in value: 1.3646342577947774. Current best value is 1.2997838328997737 with parameters: {'max_depth': 18.54981159094242, 'n_estimators': 710.7957377150005, 'max_features': 8, 'min_samples_split': 9, 'min_samples_leaf': 3}.\n",
      "[I 2019-03-27 13:20:01,283] Finished a trial resulted in value: 1.5517086133477658. Current best value is 1.2997838328997737 with parameters: {'max_depth': 18.54981159094242, 'n_estimators': 710.7957377150005, 'max_features': 8, 'min_samples_split': 9, 'min_samples_leaf': 3}.\n",
      "[I 2019-03-27 13:20:07,640] Finished a trial resulted in value: 1.4304130371055037. Current best value is 1.2997838328997737 with parameters: {'max_depth': 18.54981159094242, 'n_estimators': 710.7957377150005, 'max_features': 8, 'min_samples_split': 9, 'min_samples_leaf': 3}.\n",
      "[I 2019-03-27 13:20:08,739] Finished a trial resulted in value: 1.5446430460631781. Current best value is 1.2997838328997737 with parameters: {'max_depth': 18.54981159094242, 'n_estimators': 710.7957377150005, 'max_features': 8, 'min_samples_split': 9, 'min_samples_leaf': 3}.\n",
      "[I 2019-03-27 13:20:09,143] Finished a trial resulted in value: 1.674038312783122. Current best value is 1.2997838328997737 with parameters: {'max_depth': 18.54981159094242, 'n_estimators': 710.7957377150005, 'max_features': 8, 'min_samples_split': 9, 'min_samples_leaf': 3}.\n",
      "[I 2019-03-27 13:20:10,449] Finished a trial resulted in value: 1.8237408060301472. Current best value is 1.2997838328997737 with parameters: {'max_depth': 18.54981159094242, 'n_estimators': 710.7957377150005, 'max_features': 8, 'min_samples_split': 9, 'min_samples_leaf': 3}.\n",
      "[I 2019-03-27 13:20:17,702] Finished a trial resulted in value: 1.8499428125008754. Current best value is 1.2997838328997737 with parameters: {'max_depth': 18.54981159094242, 'n_estimators': 710.7957377150005, 'max_features': 8, 'min_samples_split': 9, 'min_samples_leaf': 3}.\n",
      "[I 2019-03-27 13:20:25,248] Finished a trial resulted in value: 1.4643693189530729. Current best value is 1.2997838328997737 with parameters: {'max_depth': 18.54981159094242, 'n_estimators': 710.7957377150005, 'max_features': 8, 'min_samples_split': 9, 'min_samples_leaf': 3}.\n",
      "[I 2019-03-27 13:20:27,598] Finished a trial resulted in value: 1.6987562694389633. Current best value is 1.2997838328997737 with parameters: {'max_depth': 18.54981159094242, 'n_estimators': 710.7957377150005, 'max_features': 8, 'min_samples_split': 9, 'min_samples_leaf': 3}.\n",
      "[I 2019-03-27 13:20:28,972] Finished a trial resulted in value: 2.3724690506685797. Current best value is 1.2997838328997737 with parameters: {'max_depth': 18.54981159094242, 'n_estimators': 710.7957377150005, 'max_features': 8, 'min_samples_split': 9, 'min_samples_leaf': 3}.\n",
      "[I 2019-03-27 13:20:34,670] Finished a trial resulted in value: 1.5655165600438354. Current best value is 1.2997838328997737 with parameters: {'max_depth': 18.54981159094242, 'n_estimators': 710.7957377150005, 'max_features': 8, 'min_samples_split': 9, 'min_samples_leaf': 3}.\n",
      "[I 2019-03-27 13:20:42,985] Finished a trial resulted in value: 1.286971368503684. Current best value is 1.286971368503684 with parameters: {'max_depth': 41.11523186638494, 'n_estimators': 389.5991272932358, 'max_features': 9, 'min_samples_split': 6, 'min_samples_leaf': 2}.\n",
      "[I 2019-03-27 13:20:47,975] Finished a trial resulted in value: 1.5436115309400509. Current best value is 1.286971368503684 with parameters: {'max_depth': 41.11523186638494, 'n_estimators': 389.5991272932358, 'max_features': 9, 'min_samples_split': 6, 'min_samples_leaf': 2}.\n"
     ]
    },
    {
     "name": "stderr",
     "output_type": "stream",
     "text": [
      "[I 2019-03-27 13:20:50,837] Finished a trial resulted in value: 1.624694120209438. Current best value is 1.286971368503684 with parameters: {'max_depth': 41.11523186638494, 'n_estimators': 389.5991272932358, 'max_features': 9, 'min_samples_split': 6, 'min_samples_leaf': 2}.\n",
      "[I 2019-03-27 13:21:03,735] Finished a trial resulted in value: 1.6620758906737343. Current best value is 1.286971368503684 with parameters: {'max_depth': 41.11523186638494, 'n_estimators': 389.5991272932358, 'max_features': 9, 'min_samples_split': 6, 'min_samples_leaf': 2}.\n",
      "[I 2019-03-27 13:21:11,329] Finished a trial resulted in value: 1.5093046967457309. Current best value is 1.286971368503684 with parameters: {'max_depth': 41.11523186638494, 'n_estimators': 389.5991272932358, 'max_features': 9, 'min_samples_split': 6, 'min_samples_leaf': 2}.\n",
      "[I 2019-03-27 13:21:12,425] Finished a trial resulted in value: 1.451151120841423. Current best value is 1.286971368503684 with parameters: {'max_depth': 41.11523186638494, 'n_estimators': 389.5991272932358, 'max_features': 9, 'min_samples_split': 6, 'min_samples_leaf': 2}.\n",
      "[I 2019-03-27 13:21:12,608] Finished a trial resulted in value: 1.7513245534512298. Current best value is 1.286971368503684 with parameters: {'max_depth': 41.11523186638494, 'n_estimators': 389.5991272932358, 'max_features': 9, 'min_samples_split': 6, 'min_samples_leaf': 2}.\n",
      "[I 2019-03-27 13:21:12,893] Finished a trial resulted in value: 1.618575380054087. Current best value is 1.286971368503684 with parameters: {'max_depth': 41.11523186638494, 'n_estimators': 389.5991272932358, 'max_features': 9, 'min_samples_split': 6, 'min_samples_leaf': 2}.\n",
      "[I 2019-03-27 13:21:19,144] Finished a trial resulted in value: 1.5428983658764432. Current best value is 1.286971368503684 with parameters: {'max_depth': 41.11523186638494, 'n_estimators': 389.5991272932358, 'max_features': 9, 'min_samples_split': 6, 'min_samples_leaf': 2}.\n",
      "[I 2019-03-27 13:21:24,356] Finished a trial resulted in value: 1.4006560664533405. Current best value is 1.286971368503684 with parameters: {'max_depth': 41.11523186638494, 'n_estimators': 389.5991272932358, 'max_features': 9, 'min_samples_split': 6, 'min_samples_leaf': 2}.\n",
      "[I 2019-03-27 13:21:25,553] Finished a trial resulted in value: 1.3356517824052272. Current best value is 1.286971368503684 with parameters: {'max_depth': 41.11523186638494, 'n_estimators': 389.5991272932358, 'max_features': 9, 'min_samples_split': 6, 'min_samples_leaf': 2}.\n",
      "[I 2019-03-27 13:21:40,244] Finished a trial resulted in value: 1.3214211670953113. Current best value is 1.286971368503684 with parameters: {'max_depth': 41.11523186638494, 'n_estimators': 389.5991272932358, 'max_features': 9, 'min_samples_split': 6, 'min_samples_leaf': 2}.\n",
      "[I 2019-03-27 13:21:42,111] Finished a trial resulted in value: 1.44139192111674. Current best value is 1.286971368503684 with parameters: {'max_depth': 41.11523186638494, 'n_estimators': 389.5991272932358, 'max_features': 9, 'min_samples_split': 6, 'min_samples_leaf': 2}.\n",
      "[I 2019-03-27 13:21:45,138] Finished a trial resulted in value: 1.5471578973453823. Current best value is 1.286971368503684 with parameters: {'max_depth': 41.11523186638494, 'n_estimators': 389.5991272932358, 'max_features': 9, 'min_samples_split': 6, 'min_samples_leaf': 2}.\n",
      "[I 2019-03-27 13:21:50,171] Finished a trial resulted in value: 1.6645916695939795. Current best value is 1.286971368503684 with parameters: {'max_depth': 41.11523186638494, 'n_estimators': 389.5991272932358, 'max_features': 9, 'min_samples_split': 6, 'min_samples_leaf': 2}.\n"
     ]
    }
   ],
   "source": [
    "def objective_rf(trial):\n",
    "    max_depth = int(trial.suggest_loguniform('max_depth', 2, 100))\n",
    "    n_estimators = int(trial.suggest_loguniform('n_estimators', 2, 1000))\n",
    "    max_features = trial.suggest_int('max_features', 1, 10)\n",
    "    min_samples_split = trial.suggest_int('min_samples_split', 2, 10)\n",
    "    min_samples_leaf = trial.suggest_int('min_samples_leaf', 1, 10)\n",
    "        \n",
    "    n_folds = 4\n",
    "    score = 0\n",
    "    for _ in range(n_folds):\n",
    "        rf = RandomForestRegressor(max_depth=max_depth, n_estimators=n_estimators, max_features=max_features,\n",
    "                              min_samples_split=min_samples_split, min_samples_leaf=min_samples_leaf)\n",
    "        X_trn, X_val, y_trn, y_val = train_test_split(X_train, y_train)\n",
    "        rf.fit(X_trn, y_trn)\n",
    "        y_pred = rf.predict(X_val)\n",
    "        score += mean_squared_error(y_val, y_pred)\n",
    "    return score/n_folds\n",
    "\n",
    "study = optuna.create_study()\n",
    "study.optimize(objective_rf, n_trials=100)"
   ]
  },
  {
   "cell_type": "code",
   "execution_count": 25,
   "metadata": {
    "scrolled": true
   },
   "outputs": [
    {
     "name": "stdout",
     "output_type": "stream",
     "text": [
      "Test R2: 0.6679 ± 0.0064\n",
      "Test MSE: 1.3556 ± 0.0262\n"
     ]
    }
   ],
   "source": [
    "# Optimized\n",
    "\n",
    "n = 10\n",
    "r2 = np.zeros(n)\n",
    "mse = np.zeros(n)\n",
    "\n",
    "for i in range(n):\n",
    "    RF = RandomForestRegressor(max_depth=99, n_estimators=69, max_features=8,\n",
    "                              min_samples_split=7, min_samples_leaf=3)\n",
    "    RF.fit(X_train, y_train)\n",
    "    y_pred = RF.predict(X_test)\n",
    "    r2[i] = r2_score(y_test, y_pred)\n",
    "    mse[i] = mean_squared_error(y_test, y_pred)\n",
    "\n",
    "print(\"Test R2: {:.4f} ± {:.4f}\".format(np.mean(r2), np.std(r2)))\n",
    "print(\"Test MSE: {:.4f} ± {:.4f}\".format(np.mean(mse), np.std(mse)))"
   ]
  },
  {
   "cell_type": "code",
   "execution_count": null,
   "metadata": {},
   "outputs": [],
   "source": []
  }
 ],
 "metadata": {
  "kernelspec": {
   "display_name": "Python 3",
   "language": "python",
   "name": "python3"
  },
  "language_info": {
   "codemirror_mode": {
    "name": "ipython",
    "version": 3
   },
   "file_extension": ".py",
   "mimetype": "text/x-python",
   "name": "python",
   "nbconvert_exporter": "python",
   "pygments_lexer": "ipython3",
   "version": "3.6.6"
  }
 },
 "nbformat": 4,
 "nbformat_minor": 2
}
