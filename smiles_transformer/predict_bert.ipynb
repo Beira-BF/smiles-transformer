{
 "cells": [
  {
   "cell_type": "markdown",
   "metadata": {},
   "source": [
    "# Performance comparaison\n",
    "\n",
    "| Fingerprint | MLP | RF |  \n",
    "|:-:|:-:|:-:|  \n",
    "|BERT on GDB17 EP1|0.833|0.734| \n",
    "|ECFP| 0.715 | 0.639 |\n",
    "|Can2Can|0.642|0.618|\n",
    "|Enum2Enum|0.676|0.640|\n",
    "|Transformer|0.842|0.772|\n",
    "| NFP| 0.885 |  |"
   ]
  },
  {
   "cell_type": "code",
   "execution_count": 23,
   "metadata": {},
   "outputs": [],
   "source": [
    "import os\n",
    "import numpy as np\n",
    "import pandas as pd\n",
    "import matplotlib.pyplot as plt\n",
    "from sklearn.ensemble import RandomForestRegressor\n",
    "from sklearn.neural_network import MLPRegressor\n",
    "from sklearn.model_selection import train_test_split, GridSearchCV\n",
    "from sklearn.metrics import mean_squared_error, r2_score\n",
    "import torch\n",
    "import optuna\n",
    "\n",
    "from bert import BERT\n",
    "from build_vocab import WordVocab\n",
    "from utils import split"
   ]
  },
  {
   "cell_type": "code",
   "execution_count": 24,
   "metadata": {},
   "outputs": [],
   "source": [
    "pad_index = 0\n",
    "unk_index = 1\n",
    "eos_index = 2\n",
    "sos_index = 3\n",
    "mask_index = 4"
   ]
  },
  {
   "cell_type": "code",
   "execution_count": 25,
   "metadata": {},
   "outputs": [
    {
     "data": {
      "text/html": [
       "<div>\n",
       "<style scoped>\n",
       "    .dataframe tbody tr th:only-of-type {\n",
       "        vertical-align: middle;\n",
       "    }\n",
       "\n",
       "    .dataframe tbody tr th {\n",
       "        vertical-align: top;\n",
       "    }\n",
       "\n",
       "    .dataframe thead th {\n",
       "        text-align: right;\n",
       "    }\n",
       "</style>\n",
       "<table border=\"1\" class=\"dataframe\">\n",
       "  <thead>\n",
       "    <tr style=\"text-align: right;\">\n",
       "      <th></th>\n",
       "      <th>SMILES</th>\n",
       "      <th>unknown</th>\n",
       "      <th>solubility</th>\n",
       "      <th>processed_smiles</th>\n",
       "      <th>spaced</th>\n",
       "    </tr>\n",
       "  </thead>\n",
       "  <tbody>\n",
       "    <tr>\n",
       "      <th>0</th>\n",
       "      <td>[nH0]1c(SC)c2c([nH0]cc[nH0]2)[nH0]c1</td>\n",
       "      <td>6966-78-5</td>\n",
       "      <td>-2.36</td>\n",
       "      <td>[ n H 0 ] 1 c ( S C ) c 2 c ( [ n H 0 ] c c [ ...</td>\n",
       "      <td>[ n H 0 ] 1 c ( S C ) c 2 c ( [ n H 0 ] c c [ ...</td>\n",
       "    </tr>\n",
       "    <tr>\n",
       "      <th>1</th>\n",
       "      <td>CCC(C)Cl</td>\n",
       "      <td>78-86-4</td>\n",
       "      <td>-1.96</td>\n",
       "      <td>C C C ( C ) Cl</td>\n",
       "      <td>C C C ( C ) C l</td>\n",
       "    </tr>\n",
       "    <tr>\n",
       "      <th>2</th>\n",
       "      <td>O=C(NC(=O)c1ccccc1)c1ccccc1</td>\n",
       "      <td>614-28-8</td>\n",
       "      <td>-2.27</td>\n",
       "      <td>O = C ( N C ( = O ) c 1 c c c c c 1 ) c 1 c c ...</td>\n",
       "      <td>O = C ( N C ( = O ) c 1 c c c c c 1 ) c 1 c c ...</td>\n",
       "    </tr>\n",
       "    <tr>\n",
       "      <th>3</th>\n",
       "      <td>CC(C(C)(C)C)O</td>\n",
       "      <td>464-07-3</td>\n",
       "      <td>-0.62</td>\n",
       "      <td>C C ( C ( C ) ( C ) C ) O</td>\n",
       "      <td>C C ( C ( C ) ( C ) C ) O</td>\n",
       "    </tr>\n",
       "    <tr>\n",
       "      <th>4</th>\n",
       "      <td>[O-][N+](c1c(O)cccc1)=O</td>\n",
       "      <td>88-75-5</td>\n",
       "      <td>-1.74</td>\n",
       "      <td>[ O- ] [ N+ ] ( c 1 c ( O ) c c c c 1 ) = O</td>\n",
       "      <td>[ O - ] [ N + ] ( c 1 c ( O ) c c c c 1 ) = O</td>\n",
       "    </tr>\n",
       "  </tbody>\n",
       "</table>\n",
       "</div>"
      ],
      "text/plain": [
       "                                 SMILES    unknown  solubility  \\\n",
       "0  [nH0]1c(SC)c2c([nH0]cc[nH0]2)[nH0]c1  6966-78-5       -2.36   \n",
       "1                              CCC(C)Cl    78-86-4       -1.96   \n",
       "2           O=C(NC(=O)c1ccccc1)c1ccccc1   614-28-8       -2.27   \n",
       "3                         CC(C(C)(C)C)O   464-07-3       -0.62   \n",
       "4               [O-][N+](c1c(O)cccc1)=O    88-75-5       -1.74   \n",
       "\n",
       "                                    processed_smiles  \\\n",
       "0  [ n H 0 ] 1 c ( S C ) c 2 c ( [ n H 0 ] c c [ ...   \n",
       "1                                     C C C ( C ) Cl   \n",
       "2  O = C ( N C ( = O ) c 1 c c c c c 1 ) c 1 c c ...   \n",
       "3                          C C ( C ( C ) ( C ) C ) O   \n",
       "4        [ O- ] [ N+ ] ( c 1 c ( O ) c c c c 1 ) = O   \n",
       "\n",
       "                                              spaced  \n",
       "0  [ n H 0 ] 1 c ( S C ) c 2 c ( [ n H 0 ] c c [ ...  \n",
       "1                                    C C C ( C ) C l  \n",
       "2  O = C ( N C ( = O ) c 1 c c c c c 1 ) c 1 c c ...  \n",
       "3                          C C ( C ( C ) ( C ) C ) O  \n",
       "4      [ O - ] [ N + ] ( c 1 c ( O ) c c c c 1 ) = O  "
      ]
     },
     "execution_count": 25,
     "metadata": {},
     "output_type": "execute_result"
    }
   ],
   "source": [
    "df_train = pd.read_csv('data/sol_train.csv')\n",
    "df_test = pd.read_csv('data/sol_test.csv')\n",
    "df_train.head()"
   ]
  },
  {
   "cell_type": "code",
   "execution_count": 26,
   "metadata": {},
   "outputs": [],
   "source": [
    "x_train = [split(sm) for sm in df_train['SMILES']]\n",
    "y_train = df_train['solubility']\n",
    "x_test = [split(sm) for sm in df_test['SMILES']]\n",
    "y_test = df_test['solubility']"
   ]
  },
  {
   "cell_type": "code",
   "execution_count": 27,
   "metadata": {},
   "outputs": [],
   "source": [
    "vocab = WordVocab.load_vocab('data/vocab.pkl')"
   ]
  },
  {
   "cell_type": "code",
   "execution_count": 28,
   "metadata": {},
   "outputs": [],
   "source": [
    "def get_inputs(sm):\n",
    "    seq_len = 220\n",
    "    ids = [vocab.stoi.get(token, unk_index) for token in sm.split()]\n",
    "    ids = [sos_index] + ids + [eos_index] + [eos_index]\n",
    "    seg = [1]*len(ids)\n",
    "    padding = [pad_index]*(seq_len - len(ids))\n",
    "    ids.extend(padding), seg.extend(padding)\n",
    "    \n",
    "    return ids, seg"
   ]
  },
  {
   "cell_type": "code",
   "execution_count": 29,
   "metadata": {},
   "outputs": [],
   "source": [
    "def get_array(x):\n",
    "    x_id, x_seg = [], []\n",
    "    for sm in x:\n",
    "        a,b = get_inputs(sm)\n",
    "        x_id.append(a)\n",
    "        x_seg.append(b)\n",
    "    return torch.tensor(x_id), torch.tensor(x_seg)\n",
    "    \n",
    "xid_train, xseg_train = get_array(x_train)\n",
    "xid_test, xseg_test = get_array(x_test)"
   ]
  },
  {
   "cell_type": "code",
   "execution_count": 30,
   "metadata": {},
   "outputs": [
    {
     "name": "stdout",
     "output_type": "stream",
     "text": [
      "torch.Size([322, 220])\n",
      "torch.Size([322, 220])\n"
     ]
    }
   ],
   "source": [
    "print(xid_test.shape)\n",
    "print(xseg_test.shape)"
   ]
  },
  {
   "cell_type": "markdown",
   "metadata": {},
   "source": [
    "# Encode to fingerprint"
   ]
  },
  {
   "cell_type": "code",
   "execution_count": 31,
   "metadata": {},
   "outputs": [
    {
     "data": {
      "text/plain": [
       "BERT(\n",
       "  (embedding): BERTEmbedding(\n",
       "    (token): TokenEmbedding(45, 256, padding_idx=0)\n",
       "    (position): PositionalEmbedding()\n",
       "    (segment): SegmentEmbedding(3, 256, padding_idx=0)\n",
       "    (dropout): Dropout(p=0)\n",
       "  )\n",
       "  (transformer_blocks): ModuleList(\n",
       "    (0): TransformerBlock(\n",
       "      (attention): MultiHeadedAttention(\n",
       "        (linear_layers): ModuleList(\n",
       "          (0): Linear(in_features=256, out_features=256, bias=True)\n",
       "          (1): Linear(in_features=256, out_features=256, bias=True)\n",
       "          (2): Linear(in_features=256, out_features=256, bias=True)\n",
       "        )\n",
       "        (output_linear): Linear(in_features=256, out_features=256, bias=True)\n",
       "        (attention): Attention()\n",
       "        (dropout): Dropout(p=0)\n",
       "      )\n",
       "      (feed_forward): PositionwiseFeedForward(\n",
       "        (w_1): Linear(in_features=256, out_features=1024, bias=True)\n",
       "        (w_2): Linear(in_features=1024, out_features=256, bias=True)\n",
       "        (dropout): Dropout(p=0)\n",
       "        (activation): GELU()\n",
       "      )\n",
       "      (input_sublayer): SublayerConnection(\n",
       "        (norm): LayerNorm()\n",
       "        (dropout): Dropout(p=0)\n",
       "      )\n",
       "      (output_sublayer): SublayerConnection(\n",
       "        (norm): LayerNorm()\n",
       "        (dropout): Dropout(p=0)\n",
       "      )\n",
       "      (dropout): Dropout(p=0)\n",
       "    )\n",
       "    (1): TransformerBlock(\n",
       "      (attention): MultiHeadedAttention(\n",
       "        (linear_layers): ModuleList(\n",
       "          (0): Linear(in_features=256, out_features=256, bias=True)\n",
       "          (1): Linear(in_features=256, out_features=256, bias=True)\n",
       "          (2): Linear(in_features=256, out_features=256, bias=True)\n",
       "        )\n",
       "        (output_linear): Linear(in_features=256, out_features=256, bias=True)\n",
       "        (attention): Attention()\n",
       "        (dropout): Dropout(p=0)\n",
       "      )\n",
       "      (feed_forward): PositionwiseFeedForward(\n",
       "        (w_1): Linear(in_features=256, out_features=1024, bias=True)\n",
       "        (w_2): Linear(in_features=1024, out_features=256, bias=True)\n",
       "        (dropout): Dropout(p=0)\n",
       "        (activation): GELU()\n",
       "      )\n",
       "      (input_sublayer): SublayerConnection(\n",
       "        (norm): LayerNorm()\n",
       "        (dropout): Dropout(p=0)\n",
       "      )\n",
       "      (output_sublayer): SublayerConnection(\n",
       "        (norm): LayerNorm()\n",
       "        (dropout): Dropout(p=0)\n",
       "      )\n",
       "      (dropout): Dropout(p=0)\n",
       "    )\n",
       "    (2): TransformerBlock(\n",
       "      (attention): MultiHeadedAttention(\n",
       "        (linear_layers): ModuleList(\n",
       "          (0): Linear(in_features=256, out_features=256, bias=True)\n",
       "          (1): Linear(in_features=256, out_features=256, bias=True)\n",
       "          (2): Linear(in_features=256, out_features=256, bias=True)\n",
       "        )\n",
       "        (output_linear): Linear(in_features=256, out_features=256, bias=True)\n",
       "        (attention): Attention()\n",
       "        (dropout): Dropout(p=0)\n",
       "      )\n",
       "      (feed_forward): PositionwiseFeedForward(\n",
       "        (w_1): Linear(in_features=256, out_features=1024, bias=True)\n",
       "        (w_2): Linear(in_features=1024, out_features=256, bias=True)\n",
       "        (dropout): Dropout(p=0)\n",
       "        (activation): GELU()\n",
       "      )\n",
       "      (input_sublayer): SublayerConnection(\n",
       "        (norm): LayerNorm()\n",
       "        (dropout): Dropout(p=0)\n",
       "      )\n",
       "      (output_sublayer): SublayerConnection(\n",
       "        (norm): LayerNorm()\n",
       "        (dropout): Dropout(p=0)\n",
       "      )\n",
       "      (dropout): Dropout(p=0)\n",
       "    )\n",
       "    (3): TransformerBlock(\n",
       "      (attention): MultiHeadedAttention(\n",
       "        (linear_layers): ModuleList(\n",
       "          (0): Linear(in_features=256, out_features=256, bias=True)\n",
       "          (1): Linear(in_features=256, out_features=256, bias=True)\n",
       "          (2): Linear(in_features=256, out_features=256, bias=True)\n",
       "        )\n",
       "        (output_linear): Linear(in_features=256, out_features=256, bias=True)\n",
       "        (attention): Attention()\n",
       "        (dropout): Dropout(p=0)\n",
       "      )\n",
       "      (feed_forward): PositionwiseFeedForward(\n",
       "        (w_1): Linear(in_features=256, out_features=1024, bias=True)\n",
       "        (w_2): Linear(in_features=1024, out_features=256, bias=True)\n",
       "        (dropout): Dropout(p=0)\n",
       "        (activation): GELU()\n",
       "      )\n",
       "      (input_sublayer): SublayerConnection(\n",
       "        (norm): LayerNorm()\n",
       "        (dropout): Dropout(p=0)\n",
       "      )\n",
       "      (output_sublayer): SublayerConnection(\n",
       "        (norm): LayerNorm()\n",
       "        (dropout): Dropout(p=0)\n",
       "      )\n",
       "      (dropout): Dropout(p=0)\n",
       "    )\n",
       "  )\n",
       ")"
      ]
     },
     "execution_count": 31,
     "metadata": {},
     "output_type": "execute_result"
    }
   ],
   "source": [
    "model = BERT(len(vocab), hidden=256, n_layers=4, attn_heads=4, dropout=0)\n",
    "model.load_state_dict(torch.load('../result/GDB17/ep00_it020000.pkl'))\n",
    "model.eval()"
   ]
  },
  {
   "cell_type": "code",
   "execution_count": 34,
   "metadata": {},
   "outputs": [
    {
     "ename": "RuntimeError",
     "evalue": "Error(s) in loading state_dict for BERT:\n\tsize mismatch for embedding.position.pe: copying a param with shape torch.Size([1, 512, 256]) from checkpoint, the shape in current model is torch.Size([1, 220, 256]).",
     "output_type": "error",
     "traceback": [
      "\u001b[0;31m---------------------------------------------------------------------------\u001b[0m",
      "\u001b[0;31mRuntimeError\u001b[0m                              Traceback (most recent call last)",
      "\u001b[0;32m<ipython-input-34-699adcc8cb06>\u001b[0m in \u001b[0;36m<module>\u001b[0;34m\u001b[0m\n\u001b[1;32m      1\u001b[0m \u001b[0;31m# -b 16 -e 30 --hidden 256 -l 7 --n_head 4 --lr 1e-4 --lr-decay 5 --final-lr 0.01\u001b[0m\u001b[0;34m\u001b[0m\u001b[0;34m\u001b[0m\u001b[0m\n\u001b[1;32m      2\u001b[0m \u001b[0mmodel\u001b[0m \u001b[0;34m=\u001b[0m \u001b[0mBERT\u001b[0m\u001b[0;34m(\u001b[0m\u001b[0mlen\u001b[0m\u001b[0;34m(\u001b[0m\u001b[0mvocab\u001b[0m\u001b[0;34m)\u001b[0m\u001b[0;34m,\u001b[0m \u001b[0mhidden\u001b[0m\u001b[0;34m=\u001b[0m\u001b[0;36m256\u001b[0m\u001b[0;34m,\u001b[0m \u001b[0mn_layers\u001b[0m\u001b[0;34m=\u001b[0m\u001b[0;36m7\u001b[0m\u001b[0;34m,\u001b[0m \u001b[0mattn_heads\u001b[0m\u001b[0;34m=\u001b[0m\u001b[0;36m4\u001b[0m\u001b[0;34m,\u001b[0m \u001b[0mdropout\u001b[0m\u001b[0;34m=\u001b[0m\u001b[0;36m0\u001b[0m\u001b[0;34m)\u001b[0m\u001b[0;34m\u001b[0m\u001b[0m\n\u001b[0;32m----> 3\u001b[0;31m \u001b[0mmodel\u001b[0m\u001b[0;34m.\u001b[0m\u001b[0mload_state_dict\u001b[0m\u001b[0;34m(\u001b[0m\u001b[0mtorch\u001b[0m\u001b[0;34m.\u001b[0m\u001b[0mload\u001b[0m\u001b[0;34m(\u001b[0m\u001b[0;34m'../result/chembl/ep_29.pkl'\u001b[0m\u001b[0;34m)\u001b[0m\u001b[0;34m)\u001b[0m\u001b[0;34m\u001b[0m\u001b[0m\n\u001b[0m\u001b[1;32m      4\u001b[0m \u001b[0mmodel\u001b[0m\u001b[0;34m.\u001b[0m\u001b[0meval\u001b[0m\u001b[0;34m(\u001b[0m\u001b[0;34m)\u001b[0m\u001b[0;34m\u001b[0m\u001b[0m\n",
      "\u001b[0;32m~/anaconda3/lib/python3.6/site-packages/torch/nn/modules/module.py\u001b[0m in \u001b[0;36mload_state_dict\u001b[0;34m(self, state_dict, strict)\u001b[0m\n\u001b[1;32m    767\u001b[0m         \u001b[0;32mif\u001b[0m \u001b[0mlen\u001b[0m\u001b[0;34m(\u001b[0m\u001b[0merror_msgs\u001b[0m\u001b[0;34m)\u001b[0m \u001b[0;34m>\u001b[0m \u001b[0;36m0\u001b[0m\u001b[0;34m:\u001b[0m\u001b[0;34m\u001b[0m\u001b[0m\n\u001b[1;32m    768\u001b[0m             raise RuntimeError('Error(s) in loading state_dict for {}:\\n\\t{}'.format(\n\u001b[0;32m--> 769\u001b[0;31m                                self.__class__.__name__, \"\\n\\t\".join(error_msgs)))\n\u001b[0m\u001b[1;32m    770\u001b[0m \u001b[0;34m\u001b[0m\u001b[0m\n\u001b[1;32m    771\u001b[0m     \u001b[0;32mdef\u001b[0m \u001b[0m_named_members\u001b[0m\u001b[0;34m(\u001b[0m\u001b[0mself\u001b[0m\u001b[0;34m,\u001b[0m \u001b[0mget_members_fn\u001b[0m\u001b[0;34m,\u001b[0m \u001b[0mprefix\u001b[0m\u001b[0;34m=\u001b[0m\u001b[0;34m''\u001b[0m\u001b[0;34m,\u001b[0m \u001b[0mrecurse\u001b[0m\u001b[0;34m=\u001b[0m\u001b[0;32mTrue\u001b[0m\u001b[0;34m)\u001b[0m\u001b[0;34m:\u001b[0m\u001b[0;34m\u001b[0m\u001b[0m\n",
      "\u001b[0;31mRuntimeError\u001b[0m: Error(s) in loading state_dict for BERT:\n\tsize mismatch for embedding.position.pe: copying a param with shape torch.Size([1, 512, 256]) from checkpoint, the shape in current model is torch.Size([1, 220, 256])."
     ]
    }
   ],
   "source": [
    "# -b 16 -e 30 --hidden 256 -l 7 --n_head 4 --lr 1e-4 --lr-decay 5 --final-lr 0.01\n",
    "model = BERT(len(vocab), hidden=256, n_layers=7, attn_heads=4, dropout=0)\n",
    "model.load_state_dict(torch.load('../result/chembl/ep_29.pkl'))\n",
    "model.eval()"
   ]
  },
  {
   "cell_type": "code",
   "execution_count": 17,
   "metadata": {},
   "outputs": [
    {
     "ename": "NameError",
     "evalue": "name 'df_test' is not defined",
     "output_type": "error",
     "traceback": [
      "\u001b[0;31m---------------------------------------------------------------------------\u001b[0m",
      "\u001b[0;31mNameError\u001b[0m                                 Traceback (most recent call last)",
      "\u001b[0;32m<ipython-input-17-6af7f1e8cc9e>\u001b[0m in \u001b[0;36m<module>\u001b[0;34m\u001b[0m\n\u001b[0;32m----> 1\u001b[0;31m \u001b[0;32mdel\u001b[0m \u001b[0mdf_test\u001b[0m\u001b[0;34m,\u001b[0m \u001b[0mdf_train\u001b[0m\u001b[0;34m,\u001b[0m \u001b[0mx_train\u001b[0m\u001b[0;34m,\u001b[0m \u001b[0mx_test\u001b[0m\u001b[0;34m\u001b[0m\u001b[0m\n\u001b[0m",
      "\u001b[0;31mNameError\u001b[0m: name 'df_test' is not defined"
     ]
    }
   ],
   "source": [
    "del df_test, df_train, x_train, x_test"
   ]
  },
  {
   "cell_type": "code",
   "execution_count": 32,
   "metadata": {},
   "outputs": [],
   "source": [
    "st,ed = 0,100\n",
    "X_train = model.encode(xid_train[st:ed], xseg_train[st:ed]).detach().numpy()\n",
    "while ed<len(xid_train):\n",
    "    st += 100\n",
    "    ed += 100\n",
    "    X_train = np.vstack([X_train, model.encode(xid_train[st:ed], xseg_train[st:ed]).detach().numpy()])"
   ]
  },
  {
   "cell_type": "code",
   "execution_count": 33,
   "metadata": {},
   "outputs": [],
   "source": [
    "st,ed = 0,100\n",
    "X_test = model.encode(xid_test[st:ed], xseg_test[st:ed]).detach().numpy()\n",
    "while ed<len(xid_test):\n",
    "    st += 100\n",
    "    ed += 100\n",
    "    X_test = np.vstack([X_test, model.encode(xid_test[st:ed], xseg_test[st:ed]).detach().numpy()])"
   ]
  },
  {
   "cell_type": "code",
   "execution_count": 34,
   "metadata": {},
   "outputs": [
    {
     "data": {
      "text/plain": [
       "(968, 220, 512)"
      ]
     },
     "execution_count": 34,
     "metadata": {},
     "output_type": "execute_result"
    }
   ],
   "source": [
    "X_train.shape"
   ]
  },
  {
   "cell_type": "code",
   "execution_count": 35,
   "metadata": {},
   "outputs": [],
   "source": [
    "# X_train = np.mean(X_train, axis=1)\n",
    "# X_test = np.mean(X_test, axis=1)\n",
    "X_train = X_train[:,0,:]\n",
    "X_test = X_test[:,0,:]\n",
    "#y_train = df_train['solubility']\n",
    "#y_test = df_test['solubility']"
   ]
  },
  {
   "cell_type": "markdown",
   "metadata": {},
   "source": [
    "# Prediction\n",
    "### MLP"
   ]
  },
  {
   "cell_type": "code",
   "execution_count": 36,
   "metadata": {
    "scrolled": true
   },
   "outputs": [
    {
     "name": "stderr",
     "output_type": "stream",
     "text": [
      "/home/honda/anaconda3/lib/python3.6/site-packages/sklearn/neural_network/multilayer_perceptron.py:562: ConvergenceWarning: Stochastic Optimizer: Maximum iterations (200) reached and the optimization hasn't converged yet.\n",
      "  % self.max_iter, ConvergenceWarning)\n",
      "/home/honda/anaconda3/lib/python3.6/site-packages/sklearn/neural_network/multilayer_perceptron.py:562: ConvergenceWarning: Stochastic Optimizer: Maximum iterations (200) reached and the optimization hasn't converged yet.\n",
      "  % self.max_iter, ConvergenceWarning)\n",
      "/home/honda/anaconda3/lib/python3.6/site-packages/sklearn/neural_network/multilayer_perceptron.py:562: ConvergenceWarning: Stochastic Optimizer: Maximum iterations (200) reached and the optimization hasn't converged yet.\n",
      "  % self.max_iter, ConvergenceWarning)\n",
      "/home/honda/anaconda3/lib/python3.6/site-packages/sklearn/neural_network/multilayer_perceptron.py:562: ConvergenceWarning: Stochastic Optimizer: Maximum iterations (200) reached and the optimization hasn't converged yet.\n",
      "  % self.max_iter, ConvergenceWarning)\n",
      "/home/honda/anaconda3/lib/python3.6/site-packages/sklearn/neural_network/multilayer_perceptron.py:562: ConvergenceWarning: Stochastic Optimizer: Maximum iterations (200) reached and the optimization hasn't converged yet.\n",
      "  % self.max_iter, ConvergenceWarning)\n",
      "/home/honda/anaconda3/lib/python3.6/site-packages/sklearn/neural_network/multilayer_perceptron.py:562: ConvergenceWarning: Stochastic Optimizer: Maximum iterations (200) reached and the optimization hasn't converged yet.\n",
      "  % self.max_iter, ConvergenceWarning)\n",
      "/home/honda/anaconda3/lib/python3.6/site-packages/sklearn/neural_network/multilayer_perceptron.py:562: ConvergenceWarning: Stochastic Optimizer: Maximum iterations (200) reached and the optimization hasn't converged yet.\n",
      "  % self.max_iter, ConvergenceWarning)\n"
     ]
    },
    {
     "name": "stdout",
     "output_type": "stream",
     "text": [
      "Test R2: 0.8274 ± 0.0073\n",
      "Test MSE: 0.7045 ± 0.0298\n"
     ]
    }
   ],
   "source": [
    "# Default\n",
    "n = 10\n",
    "r2 = np.zeros(n)\n",
    "mse = np.zeros(n)\n",
    "\n",
    "for i in range(n):\n",
    "    MLP = MLPRegressor()\n",
    "    MLP.fit(X_train, y_train)\n",
    "    y_pred = MLP.predict(X_test)\n",
    "    r2[i] = r2_score(y_test, y_pred)\n",
    "    mse[i] = mean_squared_error(y_test, y_pred)\n",
    "\n",
    "print(\"Test R2: {:.4f} ± {:.4f}\".format(np.mean(r2), np.std(r2)))\n",
    "print(\"Test MSE: {:.4f} ± {:.4f}\".format(np.mean(mse), np.std(mse)))"
   ]
  },
  {
   "cell_type": "code",
   "execution_count": null,
   "metadata": {},
   "outputs": [],
   "source": [
    "0.7009, "
   ]
  },
  {
   "cell_type": "code",
   "execution_count": null,
   "metadata": {
    "scrolled": true
   },
   "outputs": [
    {
     "name": "stderr",
     "output_type": "stream",
     "text": [
      "/home/honda/anaconda3/lib/python3.6/site-packages/sklearn/neural_network/multilayer_perceptron.py:562: ConvergenceWarning: Stochastic Optimizer: Maximum iterations (200) reached and the optimization hasn't converged yet.\n",
      "  % self.max_iter, ConvergenceWarning)\n",
      "/home/honda/anaconda3/lib/python3.6/site-packages/sklearn/neural_network/multilayer_perceptron.py:562: ConvergenceWarning: Stochastic Optimizer: Maximum iterations (200) reached and the optimization hasn't converged yet.\n",
      "  % self.max_iter, ConvergenceWarning)\n",
      "/home/honda/anaconda3/lib/python3.6/site-packages/sklearn/neural_network/multilayer_perceptron.py:562: ConvergenceWarning: Stochastic Optimizer: Maximum iterations (200) reached and the optimization hasn't converged yet.\n",
      "  % self.max_iter, ConvergenceWarning)\n",
      "/home/honda/anaconda3/lib/python3.6/site-packages/sklearn/neural_network/multilayer_perceptron.py:562: ConvergenceWarning: Stochastic Optimizer: Maximum iterations (200) reached and the optimization hasn't converged yet.\n",
      "  % self.max_iter, ConvergenceWarning)\n",
      "[I 2019-04-02 14:27:35,464] Finished a trial resulted in value: 0.75176066084412. Current best value is 0.75176066084412 with parameters: {'n_layers': 1, 'n_units_l0': 36.80741084874122}.\n",
      "/home/honda/anaconda3/lib/python3.6/site-packages/sklearn/neural_network/multilayer_perceptron.py:562: ConvergenceWarning: Stochastic Optimizer: Maximum iterations (200) reached and the optimization hasn't converged yet.\n",
      "  % self.max_iter, ConvergenceWarning)\n",
      "/home/honda/anaconda3/lib/python3.6/site-packages/sklearn/neural_network/multilayer_perceptron.py:562: ConvergenceWarning: Stochastic Optimizer: Maximum iterations (200) reached and the optimization hasn't converged yet.\n",
      "  % self.max_iter, ConvergenceWarning)\n",
      "/home/honda/anaconda3/lib/python3.6/site-packages/sklearn/neural_network/multilayer_perceptron.py:562: ConvergenceWarning: Stochastic Optimizer: Maximum iterations (200) reached and the optimization hasn't converged yet.\n",
      "  % self.max_iter, ConvergenceWarning)\n",
      "/home/honda/anaconda3/lib/python3.6/site-packages/sklearn/neural_network/multilayer_perceptron.py:562: ConvergenceWarning: Stochastic Optimizer: Maximum iterations (200) reached and the optimization hasn't converged yet.\n",
      "  % self.max_iter, ConvergenceWarning)\n",
      "[I 2019-04-02 14:27:41,075] Finished a trial resulted in value: 3.8576378626024823. Current best value is 0.75176066084412 with parameters: {'n_layers': 1, 'n_units_l0': 36.80741084874122}.\n",
      "/home/honda/anaconda3/lib/python3.6/site-packages/sklearn/neural_network/multilayer_perceptron.py:562: ConvergenceWarning: Stochastic Optimizer: Maximum iterations (200) reached and the optimization hasn't converged yet.\n",
      "  % self.max_iter, ConvergenceWarning)\n",
      "/home/honda/anaconda3/lib/python3.6/site-packages/sklearn/neural_network/multilayer_perceptron.py:562: ConvergenceWarning: Stochastic Optimizer: Maximum iterations (200) reached and the optimization hasn't converged yet.\n",
      "  % self.max_iter, ConvergenceWarning)\n",
      "[I 2019-04-02 14:27:53,864] Finished a trial resulted in value: 0.7402906868369891. Current best value is 0.7402906868369891 with parameters: {'n_layers': 1, 'n_units_l0': 100.30627551230795}.\n",
      "[I 2019-04-02 14:28:06,502] Finished a trial resulted in value: 0.8616021393929846. Current best value is 0.7402906868369891 with parameters: {'n_layers': 1, 'n_units_l0': 100.30627551230795}.\n",
      "/home/honda/anaconda3/lib/python3.6/site-packages/sklearn/neural_network/multilayer_perceptron.py:562: ConvergenceWarning: Stochastic Optimizer: Maximum iterations (200) reached and the optimization hasn't converged yet.\n",
      "  % self.max_iter, ConvergenceWarning)\n",
      "/home/honda/anaconda3/lib/python3.6/site-packages/sklearn/neural_network/multilayer_perceptron.py:562: ConvergenceWarning: Stochastic Optimizer: Maximum iterations (200) reached and the optimization hasn't converged yet.\n",
      "  % self.max_iter, ConvergenceWarning)\n",
      "/home/honda/anaconda3/lib/python3.6/site-packages/sklearn/neural_network/multilayer_perceptron.py:562: ConvergenceWarning: Stochastic Optimizer: Maximum iterations (200) reached and the optimization hasn't converged yet.\n",
      "  % self.max_iter, ConvergenceWarning)\n",
      "[I 2019-04-02 14:28:14,239] Finished a trial resulted in value: 0.7296074714497385. Current best value is 0.7296074714497385 with parameters: {'n_layers': 2, 'n_units_l0': 13.388899384516838, 'n_units_l1': 61.706042853537745}.\n",
      "/home/honda/anaconda3/lib/python3.6/site-packages/sklearn/neural_network/multilayer_perceptron.py:562: ConvergenceWarning: Stochastic Optimizer: Maximum iterations (200) reached and the optimization hasn't converged yet.\n",
      "  % self.max_iter, ConvergenceWarning)\n",
      "/home/honda/anaconda3/lib/python3.6/site-packages/sklearn/neural_network/multilayer_perceptron.py:562: ConvergenceWarning: Stochastic Optimizer: Maximum iterations (200) reached and the optimization hasn't converged yet.\n",
      "  % self.max_iter, ConvergenceWarning)\n",
      "/home/honda/anaconda3/lib/python3.6/site-packages/sklearn/neural_network/multilayer_perceptron.py:562: ConvergenceWarning: Stochastic Optimizer: Maximum iterations (200) reached and the optimization hasn't converged yet.\n",
      "  % self.max_iter, ConvergenceWarning)\n",
      "/home/honda/anaconda3/lib/python3.6/site-packages/sklearn/neural_network/multilayer_perceptron.py:562: ConvergenceWarning: Stochastic Optimizer: Maximum iterations (200) reached and the optimization hasn't converged yet.\n",
      "  % self.max_iter, ConvergenceWarning)\n",
      "[I 2019-04-02 14:28:19,667] Finished a trial resulted in value: 1.1872107890945949. Current best value is 0.7296074714497385 with parameters: {'n_layers': 2, 'n_units_l0': 13.388899384516838, 'n_units_l1': 61.706042853537745}.\n",
      "/home/honda/anaconda3/lib/python3.6/site-packages/sklearn/neural_network/multilayer_perceptron.py:562: ConvergenceWarning: Stochastic Optimizer: Maximum iterations (200) reached and the optimization hasn't converged yet.\n",
      "  % self.max_iter, ConvergenceWarning)\n",
      "[I 2019-04-02 14:28:34,756] Finished a trial resulted in value: 0.7683386804725266. Current best value is 0.7296074714497385 with parameters: {'n_layers': 2, 'n_units_l0': 13.388899384516838, 'n_units_l1': 61.706042853537745}.\n",
      "/home/honda/anaconda3/lib/python3.6/site-packages/sklearn/neural_network/multilayer_perceptron.py:562: ConvergenceWarning: Stochastic Optimizer: Maximum iterations (200) reached and the optimization hasn't converged yet.\n",
      "  % self.max_iter, ConvergenceWarning)\n",
      "/home/honda/anaconda3/lib/python3.6/site-packages/sklearn/neural_network/multilayer_perceptron.py:562: ConvergenceWarning: Stochastic Optimizer: Maximum iterations (200) reached and the optimization hasn't converged yet.\n",
      "  % self.max_iter, ConvergenceWarning)\n",
      "/home/honda/anaconda3/lib/python3.6/site-packages/sklearn/neural_network/multilayer_perceptron.py:562: ConvergenceWarning: Stochastic Optimizer: Maximum iterations (200) reached and the optimization hasn't converged yet.\n",
      "  % self.max_iter, ConvergenceWarning)\n",
      "[I 2019-04-02 14:28:49,053] Finished a trial resulted in value: 5.198524827755097. Current best value is 0.7296074714497385 with parameters: {'n_layers': 2, 'n_units_l0': 13.388899384516838, 'n_units_l1': 61.706042853537745}.\n",
      "/home/honda/anaconda3/lib/python3.6/site-packages/sklearn/neural_network/multilayer_perceptron.py:562: ConvergenceWarning: Stochastic Optimizer: Maximum iterations (200) reached and the optimization hasn't converged yet.\n",
      "  % self.max_iter, ConvergenceWarning)\n",
      "[I 2019-04-02 14:29:18,854] Finished a trial resulted in value: 2.5494778083807916. Current best value is 0.7296074714497385 with parameters: {'n_layers': 2, 'n_units_l0': 13.388899384516838, 'n_units_l1': 61.706042853537745}.\n",
      "/home/honda/anaconda3/lib/python3.6/site-packages/sklearn/neural_network/multilayer_perceptron.py:562: ConvergenceWarning: Stochastic Optimizer: Maximum iterations (200) reached and the optimization hasn't converged yet.\n",
      "  % self.max_iter, ConvergenceWarning)\n",
      "[I 2019-04-02 14:29:54,311] Finished a trial resulted in value: 0.7913113511285371. Current best value is 0.7296074714497385 with parameters: {'n_layers': 2, 'n_units_l0': 13.388899384516838, 'n_units_l1': 61.706042853537745}.\n",
      "/home/honda/anaconda3/lib/python3.6/site-packages/sklearn/neural_network/multilayer_perceptron.py:562: ConvergenceWarning: Stochastic Optimizer: Maximum iterations (200) reached and the optimization hasn't converged yet.\n",
      "  % self.max_iter, ConvergenceWarning)\n"
     ]
    },
    {
     "name": "stderr",
     "output_type": "stream",
     "text": [
      "/home/honda/anaconda3/lib/python3.6/site-packages/sklearn/neural_network/multilayer_perceptron.py:562: ConvergenceWarning: Stochastic Optimizer: Maximum iterations (200) reached and the optimization hasn't converged yet.\n",
      "  % self.max_iter, ConvergenceWarning)\n",
      "/home/honda/anaconda3/lib/python3.6/site-packages/sklearn/neural_network/multilayer_perceptron.py:562: ConvergenceWarning: Stochastic Optimizer: Maximum iterations (200) reached and the optimization hasn't converged yet.\n",
      "  % self.max_iter, ConvergenceWarning)\n",
      "[I 2019-04-02 14:30:01,882] Finished a trial resulted in value: 1.7404390249941655. Current best value is 0.7296074714497385 with parameters: {'n_layers': 2, 'n_units_l0': 13.388899384516838, 'n_units_l1': 61.706042853537745}.\n",
      "/home/honda/anaconda3/lib/python3.6/site-packages/sklearn/neural_network/multilayer_perceptron.py:562: ConvergenceWarning: Stochastic Optimizer: Maximum iterations (200) reached and the optimization hasn't converged yet.\n",
      "  % self.max_iter, ConvergenceWarning)\n",
      "/home/honda/anaconda3/lib/python3.6/site-packages/sklearn/neural_network/multilayer_perceptron.py:562: ConvergenceWarning: Stochastic Optimizer: Maximum iterations (200) reached and the optimization hasn't converged yet.\n",
      "  % self.max_iter, ConvergenceWarning)\n",
      "/home/honda/anaconda3/lib/python3.6/site-packages/sklearn/neural_network/multilayer_perceptron.py:562: ConvergenceWarning: Stochastic Optimizer: Maximum iterations (200) reached and the optimization hasn't converged yet.\n",
      "  % self.max_iter, ConvergenceWarning)\n",
      "[I 2019-04-02 14:30:07,772] Finished a trial resulted in value: 3.189357151995218. Current best value is 0.7296074714497385 with parameters: {'n_layers': 2, 'n_units_l0': 13.388899384516838, 'n_units_l1': 61.706042853537745}.\n",
      "/home/honda/anaconda3/lib/python3.6/site-packages/sklearn/neural_network/multilayer_perceptron.py:562: ConvergenceWarning: Stochastic Optimizer: Maximum iterations (200) reached and the optimization hasn't converged yet.\n",
      "  % self.max_iter, ConvergenceWarning)\n",
      "[I 2019-04-02 14:30:22,841] Finished a trial resulted in value: 0.788630513901524. Current best value is 0.7296074714497385 with parameters: {'n_layers': 2, 'n_units_l0': 13.388899384516838, 'n_units_l1': 61.706042853537745}.\n",
      "/home/honda/anaconda3/lib/python3.6/site-packages/sklearn/neural_network/multilayer_perceptron.py:562: ConvergenceWarning: Stochastic Optimizer: Maximum iterations (200) reached and the optimization hasn't converged yet.\n",
      "  % self.max_iter, ConvergenceWarning)\n",
      "/home/honda/anaconda3/lib/python3.6/site-packages/sklearn/neural_network/multilayer_perceptron.py:562: ConvergenceWarning: Stochastic Optimizer: Maximum iterations (200) reached and the optimization hasn't converged yet.\n",
      "  % self.max_iter, ConvergenceWarning)\n",
      "/home/honda/anaconda3/lib/python3.6/site-packages/sklearn/neural_network/multilayer_perceptron.py:562: ConvergenceWarning: Stochastic Optimizer: Maximum iterations (200) reached and the optimization hasn't converged yet.\n",
      "  % self.max_iter, ConvergenceWarning)\n",
      "/home/honda/anaconda3/lib/python3.6/site-packages/sklearn/neural_network/multilayer_perceptron.py:562: ConvergenceWarning: Stochastic Optimizer: Maximum iterations (200) reached and the optimization hasn't converged yet.\n",
      "  % self.max_iter, ConvergenceWarning)\n",
      "[I 2019-04-02 14:30:27,691] Finished a trial resulted in value: 1.078169872492603. Current best value is 0.7296074714497385 with parameters: {'n_layers': 2, 'n_units_l0': 13.388899384516838, 'n_units_l1': 61.706042853537745}.\n",
      "[I 2019-04-02 14:30:39,298] Finished a trial resulted in value: 0.7907803859719208. Current best value is 0.7296074714497385 with parameters: {'n_layers': 2, 'n_units_l0': 13.388899384516838, 'n_units_l1': 61.706042853537745}.\n",
      "[I 2019-04-02 14:30:59,465] Finished a trial resulted in value: 0.7146935130270753. Current best value is 0.7146935130270753 with parameters: {'n_layers': 2, 'n_units_l0': 9.76984984237627, 'n_units_l1': 980.7911961635866}.\n",
      "[I 2019-04-02 14:31:06,952] Finished a trial resulted in value: 3.33371963200684. Current best value is 0.7146935130270753 with parameters: {'n_layers': 2, 'n_units_l0': 9.76984984237627, 'n_units_l1': 980.7911961635866}.\n",
      "/home/honda/anaconda3/lib/python3.6/site-packages/sklearn/neural_network/multilayer_perceptron.py:562: ConvergenceWarning: Stochastic Optimizer: Maximum iterations (200) reached and the optimization hasn't converged yet.\n",
      "  % self.max_iter, ConvergenceWarning)\n",
      "/home/honda/anaconda3/lib/python3.6/site-packages/sklearn/neural_network/multilayer_perceptron.py:562: ConvergenceWarning: Stochastic Optimizer: Maximum iterations (200) reached and the optimization hasn't converged yet.\n",
      "  % self.max_iter, ConvergenceWarning)\n",
      "/home/honda/anaconda3/lib/python3.6/site-packages/sklearn/neural_network/multilayer_perceptron.py:562: ConvergenceWarning: Stochastic Optimizer: Maximum iterations (200) reached and the optimization hasn't converged yet.\n",
      "  % self.max_iter, ConvergenceWarning)\n",
      "[I 2019-04-02 14:31:21,723] Finished a trial resulted in value: 0.7592497223544691. Current best value is 0.7146935130270753 with parameters: {'n_layers': 2, 'n_units_l0': 9.76984984237627, 'n_units_l1': 980.7911961635866}.\n",
      "/home/honda/anaconda3/lib/python3.6/site-packages/sklearn/neural_network/multilayer_perceptron.py:562: ConvergenceWarning: Stochastic Optimizer: Maximum iterations (200) reached and the optimization hasn't converged yet.\n",
      "  % self.max_iter, ConvergenceWarning)\n",
      "/home/honda/anaconda3/lib/python3.6/site-packages/sklearn/neural_network/multilayer_perceptron.py:562: ConvergenceWarning: Stochastic Optimizer: Maximum iterations (200) reached and the optimization hasn't converged yet.\n",
      "  % self.max_iter, ConvergenceWarning)\n",
      "/home/honda/anaconda3/lib/python3.6/site-packages/sklearn/neural_network/multilayer_perceptron.py:562: ConvergenceWarning: Stochastic Optimizer: Maximum iterations (200) reached and the optimization hasn't converged yet.\n",
      "  % self.max_iter, ConvergenceWarning)\n",
      "[I 2019-04-02 14:31:35,513] Finished a trial resulted in value: 0.7429943167836648. Current best value is 0.7146935130270753 with parameters: {'n_layers': 2, 'n_units_l0': 9.76984984237627, 'n_units_l1': 980.7911961635866}.\n",
      "[I 2019-04-02 14:31:48,806] Finished a trial resulted in value: 0.6320894494434551. Current best value is 0.6320894494434551 with parameters: {'n_layers': 3, 'n_units_l0': 62.2640335687989, 'n_units_l1': 120.36295063042996, 'n_units_l2': 649.8774024125493}.\n",
      "[I 2019-04-02 14:31:59,614] Finished a trial resulted in value: 0.7930201161045533. Current best value is 0.6320894494434551 with parameters: {'n_layers': 3, 'n_units_l0': 62.2640335687989, 'n_units_l1': 120.36295063042996, 'n_units_l2': 649.8774024125493}.\n",
      "[I 2019-04-02 14:32:19,283] Finished a trial resulted in value: 0.7125413547325785. Current best value is 0.6320894494434551 with parameters: {'n_layers': 3, 'n_units_l0': 62.2640335687989, 'n_units_l1': 120.36295063042996, 'n_units_l2': 649.8774024125493}.\n",
      "[I 2019-04-02 14:32:37,926] Finished a trial resulted in value: 0.7690244661305453. Current best value is 0.6320894494434551 with parameters: {'n_layers': 3, 'n_units_l0': 62.2640335687989, 'n_units_l1': 120.36295063042996, 'n_units_l2': 649.8774024125493}.\n",
      "[I 2019-04-02 14:33:21,397] Finished a trial resulted in value: 0.8133589516395826. Current best value is 0.6320894494434551 with parameters: {'n_layers': 3, 'n_units_l0': 62.2640335687989, 'n_units_l1': 120.36295063042996, 'n_units_l2': 649.8774024125493}.\n",
      "/home/honda/anaconda3/lib/python3.6/site-packages/sklearn/neural_network/multilayer_perceptron.py:562: ConvergenceWarning: Stochastic Optimizer: Maximum iterations (200) reached and the optimization hasn't converged yet.\n",
      "  % self.max_iter, ConvergenceWarning)\n"
     ]
    }
   ],
   "source": [
    "def objective_mlp(trial):\n",
    "    n_layers = trial.suggest_int('n_layers', 1,3)\n",
    "    layers = []\n",
    "    for i in range(n_layers):\n",
    "        n_units = int(trial.suggest_loguniform('n_units_l{}'.format(i), 1, 1000))\n",
    "        layers.append(n_units)\n",
    "    \n",
    "    n_folds = 4\n",
    "    score = 0\n",
    "    for _ in range(n_folds):\n",
    "        mlp = MLPRegressor(hidden_layer_sizes=layers)\n",
    "        X_trn, X_val, y_trn, y_val = train_test_split(X_train, y_train)\n",
    "        mlp.fit(X_trn, y_trn)\n",
    "        y_pred = mlp.predict(X_val)\n",
    "        score += mean_squared_error(y_val, y_pred)\n",
    "    return score/n_folds\n",
    "\n",
    "study = optuna.create_study()\n",
    "study.optimize(objective_mlp, n_trials=100)"
   ]
  },
  {
   "cell_type": "code",
   "execution_count": 31,
   "metadata": {},
   "outputs": [
    {
     "name": "stdout",
     "output_type": "stream",
     "text": [
      "Test R2: 0.8226 ± 0.0293\n",
      "Test MSE: 0.7242 ± 0.1197\n"
     ]
    }
   ],
   "source": [
    "# Optimized\n",
    "\n",
    "n = 10\n",
    "r2 = np.zeros(n)\n",
    "mse = np.zeros(n)\n",
    "\n",
    "for i in range(n):\n",
    "    MLP = MLPRegressor((753, 215, 783))\n",
    "    MLP.fit(X_train, y_train)\n",
    "    y_pred = MLP.predict(X_test)\n",
    "    r2[i] = r2_score(y_test, y_pred)\n",
    "    mse[i] = mean_squared_error(y_test, y_pred)\n",
    "\n",
    "print(\"Test R2: {:.4f} ± {:.4f}\".format(np.mean(r2), np.std(r2)))\n",
    "print(\"Test MSE: {:.4f} ± {:.4f}\".format(np.mean(mse), np.std(mse)))"
   ]
  },
  {
   "cell_type": "markdown",
   "metadata": {},
   "source": [
    "### RF"
   ]
  },
  {
   "cell_type": "code",
   "execution_count": 17,
   "metadata": {
    "scrolled": true
   },
   "outputs": [
    {
     "name": "stderr",
     "output_type": "stream",
     "text": [
      "/home/honda/anaconda3/lib/python3.6/site-packages/sklearn/ensemble/forest.py:248: FutureWarning: The default value of n_estimators will change from 10 in version 0.20 to 100 in 0.22.\n",
      "  \"10 in version 0.20 to 100 in 0.22.\", FutureWarning)\n",
      "/home/honda/anaconda3/lib/python3.6/site-packages/sklearn/ensemble/forest.py:248: FutureWarning: The default value of n_estimators will change from 10 in version 0.20 to 100 in 0.22.\n",
      "  \"10 in version 0.20 to 100 in 0.22.\", FutureWarning)\n",
      "/home/honda/anaconda3/lib/python3.6/site-packages/sklearn/ensemble/forest.py:248: FutureWarning: The default value of n_estimators will change from 10 in version 0.20 to 100 in 0.22.\n",
      "  \"10 in version 0.20 to 100 in 0.22.\", FutureWarning)\n",
      "/home/honda/anaconda3/lib/python3.6/site-packages/sklearn/ensemble/forest.py:248: FutureWarning: The default value of n_estimators will change from 10 in version 0.20 to 100 in 0.22.\n",
      "  \"10 in version 0.20 to 100 in 0.22.\", FutureWarning)\n",
      "/home/honda/anaconda3/lib/python3.6/site-packages/sklearn/ensemble/forest.py:248: FutureWarning: The default value of n_estimators will change from 10 in version 0.20 to 100 in 0.22.\n",
      "  \"10 in version 0.20 to 100 in 0.22.\", FutureWarning)\n",
      "/home/honda/anaconda3/lib/python3.6/site-packages/sklearn/ensemble/forest.py:248: FutureWarning: The default value of n_estimators will change from 10 in version 0.20 to 100 in 0.22.\n",
      "  \"10 in version 0.20 to 100 in 0.22.\", FutureWarning)\n",
      "/home/honda/anaconda3/lib/python3.6/site-packages/sklearn/ensemble/forest.py:248: FutureWarning: The default value of n_estimators will change from 10 in version 0.20 to 100 in 0.22.\n",
      "  \"10 in version 0.20 to 100 in 0.22.\", FutureWarning)\n",
      "/home/honda/anaconda3/lib/python3.6/site-packages/sklearn/ensemble/forest.py:248: FutureWarning: The default value of n_estimators will change from 10 in version 0.20 to 100 in 0.22.\n",
      "  \"10 in version 0.20 to 100 in 0.22.\", FutureWarning)\n",
      "/home/honda/anaconda3/lib/python3.6/site-packages/sklearn/ensemble/forest.py:248: FutureWarning: The default value of n_estimators will change from 10 in version 0.20 to 100 in 0.22.\n",
      "  \"10 in version 0.20 to 100 in 0.22.\", FutureWarning)\n",
      "/home/honda/anaconda3/lib/python3.6/site-packages/sklearn/ensemble/forest.py:248: FutureWarning: The default value of n_estimators will change from 10 in version 0.20 to 100 in 0.22.\n",
      "  \"10 in version 0.20 to 100 in 0.22.\", FutureWarning)\n"
     ]
    },
    {
     "name": "stdout",
     "output_type": "stream",
     "text": [
      "Test R2: 0.7537 ± 0.0081\n",
      "Test MSE: 1.0056 ± 0.0332\n"
     ]
    }
   ],
   "source": [
    "#Default\n",
    "n = 10\n",
    "r2 = np.zeros(n)\n",
    "mse = np.zeros(n)\n",
    "\n",
    "for i in range(n):\n",
    "    RF = RandomForestRegressor()\n",
    "    RF.fit(X_train, y_train)\n",
    "    y_pred = RF.predict(X_test)\n",
    "    r2[i] = r2_score(y_test, y_pred)\n",
    "    mse[i] = mean_squared_error(y_test, y_pred)\n",
    "\n",
    "print(\"Test R2: {:.4f} ± {:.4f}\".format(np.mean(r2), np.std(r2)))\n",
    "print(\"Test MSE: {:.4f} ± {:.4f}\".format(np.mean(mse), np.std(mse)))"
   ]
  },
  {
   "cell_type": "code",
   "execution_count": 45,
   "metadata": {
    "scrolled": true
   },
   "outputs": [
    {
     "name": "stderr",
     "output_type": "stream",
     "text": [
      "[I 2019-03-27 16:00:50,059] Finished a trial resulted in value: 1.5218836980010286. Current best value is 1.5218836980010286 with parameters: {'max_depth': 15.380039789241337, 'n_estimators': 147.90052040104513, 'max_features': 3, 'min_samples_split': 8, 'min_samples_leaf': 9}.\n",
      "[I 2019-03-27 16:00:50,973] Finished a trial resulted in value: 1.4251916881928215. Current best value is 1.4251916881928215 with parameters: {'max_depth': 21.895441401945902, 'n_estimators': 88.38222724853792, 'max_features': 4, 'min_samples_split': 7, 'min_samples_leaf': 8}.\n",
      "[I 2019-03-27 16:00:51,085] Finished a trial resulted in value: 1.348715189557296. Current best value is 1.348715189557296 with parameters: {'max_depth': 90.10057829792703, 'n_estimators': 7.645999324433651, 'max_features': 6, 'min_samples_split': 9, 'min_samples_leaf': 8}.\n",
      "[I 2019-03-27 16:00:51,581] Finished a trial resulted in value: 1.8121345064864918. Current best value is 1.348715189557296 with parameters: {'max_depth': 90.10057829792703, 'n_estimators': 7.645999324433651, 'max_features': 6, 'min_samples_split': 9, 'min_samples_leaf': 8}.\n",
      "[I 2019-03-27 16:00:51,682] Finished a trial resulted in value: 2.5615476829000965. Current best value is 1.348715189557296 with parameters: {'max_depth': 90.10057829792703, 'n_estimators': 7.645999324433651, 'max_features': 6, 'min_samples_split': 9, 'min_samples_leaf': 8}.\n",
      "[I 2019-03-27 16:00:51,867] Finished a trial resulted in value: 1.5041103744483193. Current best value is 1.348715189557296 with parameters: {'max_depth': 90.10057829792703, 'n_estimators': 7.645999324433651, 'max_features': 6, 'min_samples_split': 9, 'min_samples_leaf': 8}.\n",
      "[I 2019-03-27 16:00:52,115] Finished a trial resulted in value: 1.117378819306571. Current best value is 1.117378819306571 with parameters: {'max_depth': 9.709198376417543, 'n_estimators': 20.700794913832674, 'max_features': 4, 'min_samples_split': 3, 'min_samples_leaf': 2}.\n",
      "[I 2019-03-27 16:00:56,189] Finished a trial resulted in value: 1.1944930187436444. Current best value is 1.117378819306571 with parameters: {'max_depth': 9.709198376417543, 'n_estimators': 20.700794913832674, 'max_features': 4, 'min_samples_split': 3, 'min_samples_leaf': 2}.\n",
      "[I 2019-03-27 16:00:58,699] Finished a trial resulted in value: 1.7138865851285177. Current best value is 1.117378819306571 with parameters: {'max_depth': 9.709198376417543, 'n_estimators': 20.700794913832674, 'max_features': 4, 'min_samples_split': 3, 'min_samples_leaf': 2}.\n",
      "[I 2019-03-27 16:00:58,786] Finished a trial resulted in value: 1.5073489539423732. Current best value is 1.117378819306571 with parameters: {'max_depth': 9.709198376417543, 'n_estimators': 20.700794913832674, 'max_features': 4, 'min_samples_split': 3, 'min_samples_leaf': 2}.\n",
      "[I 2019-03-27 16:00:59,221] Finished a trial resulted in value: 1.2342841598603682. Current best value is 1.117378819306571 with parameters: {'max_depth': 9.709198376417543, 'n_estimators': 20.700794913832674, 'max_features': 4, 'min_samples_split': 3, 'min_samples_leaf': 2}.\n",
      "[I 2019-03-27 16:00:59,289] Finished a trial resulted in value: 1.8045584137560624. Current best value is 1.117378819306571 with parameters: {'max_depth': 9.709198376417543, 'n_estimators': 20.700794913832674, 'max_features': 4, 'min_samples_split': 3, 'min_samples_leaf': 2}.\n",
      "[I 2019-03-27 16:00:59,637] Finished a trial resulted in value: 2.1066742421686153. Current best value is 1.117378819306571 with parameters: {'max_depth': 9.709198376417543, 'n_estimators': 20.700794913832674, 'max_features': 4, 'min_samples_split': 3, 'min_samples_leaf': 2}.\n",
      "[I 2019-03-27 16:00:59,704] Finished a trial resulted in value: 1.6899248905337174. Current best value is 1.117378819306571 with parameters: {'max_depth': 9.709198376417543, 'n_estimators': 20.700794913832674, 'max_features': 4, 'min_samples_split': 3, 'min_samples_leaf': 2}.\n",
      "[I 2019-03-27 16:01:08,708] Finished a trial resulted in value: 1.226365972565366. Current best value is 1.117378819306571 with parameters: {'max_depth': 9.709198376417543, 'n_estimators': 20.700794913832674, 'max_features': 4, 'min_samples_split': 3, 'min_samples_leaf': 2}.\n",
      "[I 2019-03-27 16:01:09,101] Finished a trial resulted in value: 2.345069614317505. Current best value is 1.117378819306571 with parameters: {'max_depth': 9.709198376417543, 'n_estimators': 20.700794913832674, 'max_features': 4, 'min_samples_split': 3, 'min_samples_leaf': 2}.\n",
      "[I 2019-03-27 16:01:09,157] Finished a trial resulted in value: 2.1908020484236115. Current best value is 1.117378819306571 with parameters: {'max_depth': 9.709198376417543, 'n_estimators': 20.700794913832674, 'max_features': 4, 'min_samples_split': 3, 'min_samples_leaf': 2}.\n",
      "[I 2019-03-27 16:01:13,843] Finished a trial resulted in value: 1.1920222037448556. Current best value is 1.117378819306571 with parameters: {'max_depth': 9.709198376417543, 'n_estimators': 20.700794913832674, 'max_features': 4, 'min_samples_split': 3, 'min_samples_leaf': 2}.\n",
      "[I 2019-03-27 16:01:19,200] Finished a trial resulted in value: 1.1256803890978162. Current best value is 1.117378819306571 with parameters: {'max_depth': 9.709198376417543, 'n_estimators': 20.700794913832674, 'max_features': 4, 'min_samples_split': 3, 'min_samples_leaf': 2}.\n",
      "[I 2019-03-27 16:01:25,791] Finished a trial resulted in value: 1.2710615089116555. Current best value is 1.117378819306571 with parameters: {'max_depth': 9.709198376417543, 'n_estimators': 20.700794913832674, 'max_features': 4, 'min_samples_split': 3, 'min_samples_leaf': 2}.\n",
      "[I 2019-03-27 16:01:27,413] Finished a trial resulted in value: 1.2564099529875266. Current best value is 1.117378819306571 with parameters: {'max_depth': 9.709198376417543, 'n_estimators': 20.700794913832674, 'max_features': 4, 'min_samples_split': 3, 'min_samples_leaf': 2}.\n",
      "[I 2019-03-27 16:01:27,724] Finished a trial resulted in value: 1.3276633637557698. Current best value is 1.117378819306571 with parameters: {'max_depth': 9.709198376417543, 'n_estimators': 20.700794913832674, 'max_features': 4, 'min_samples_split': 3, 'min_samples_leaf': 2}.\n",
      "[I 2019-03-27 16:01:28,915] Finished a trial resulted in value: 1.3550419932681514. Current best value is 1.117378819306571 with parameters: {'max_depth': 9.709198376417543, 'n_estimators': 20.700794913832674, 'max_features': 4, 'min_samples_split': 3, 'min_samples_leaf': 2}.\n",
      "[I 2019-03-27 16:01:29,145] Finished a trial resulted in value: 1.4726427015134305. Current best value is 1.117378819306571 with parameters: {'max_depth': 9.709198376417543, 'n_estimators': 20.700794913832674, 'max_features': 4, 'min_samples_split': 3, 'min_samples_leaf': 2}.\n",
      "[I 2019-03-27 16:01:35,739] Finished a trial resulted in value: 1.1701960769224389. Current best value is 1.117378819306571 with parameters: {'max_depth': 9.709198376417543, 'n_estimators': 20.700794913832674, 'max_features': 4, 'min_samples_split': 3, 'min_samples_leaf': 2}.\n",
      "[I 2019-03-27 16:01:40,986] Finished a trial resulted in value: 1.0718217551094673. Current best value is 1.0718217551094673 with parameters: {'max_depth': 21.892797526383706, 'n_estimators': 276.57631837824135, 'max_features': 7, 'min_samples_split': 3, 'min_samples_leaf': 2}.\n",
      "[I 2019-03-27 16:01:42,034] Finished a trial resulted in value: 1.3931646299784377. Current best value is 1.0718217551094673 with parameters: {'max_depth': 21.892797526383706, 'n_estimators': 276.57631837824135, 'max_features': 7, 'min_samples_split': 3, 'min_samples_leaf': 2}.\n",
      "[I 2019-03-27 16:01:45,798] Finished a trial resulted in value: 1.0388982715660036. Current best value is 1.0388982715660036 with parameters: {'max_depth': 19.83583123349122, 'n_estimators': 223.2113536895508, 'max_features': 7, 'min_samples_split': 7, 'min_samples_leaf': 4}.\n",
      "[I 2019-03-27 16:01:48,728] Finished a trial resulted in value: 1.14320015134082. Current best value is 1.0388982715660036 with parameters: {'max_depth': 19.83583123349122, 'n_estimators': 223.2113536895508, 'max_features': 7, 'min_samples_split': 7, 'min_samples_leaf': 4}.\n",
      "[I 2019-03-27 16:02:02,007] Finished a trial resulted in value: 1.34094073328218. Current best value is 1.0388982715660036 with parameters: {'max_depth': 19.83583123349122, 'n_estimators': 223.2113536895508, 'max_features': 7, 'min_samples_split': 7, 'min_samples_leaf': 4}.\n",
      "[I 2019-03-27 16:02:06,455] Finished a trial resulted in value: 1.1079117090422448. Current best value is 1.0388982715660036 with parameters: {'max_depth': 19.83583123349122, 'n_estimators': 223.2113536895508, 'max_features': 7, 'min_samples_split': 7, 'min_samples_leaf': 4}.\n",
      "[I 2019-03-27 16:02:08,196] Finished a trial resulted in value: 1.2082863202072889. Current best value is 1.0388982715660036 with parameters: {'max_depth': 19.83583123349122, 'n_estimators': 223.2113536895508, 'max_features': 7, 'min_samples_split': 7, 'min_samples_leaf': 4}.\n",
      "[I 2019-03-27 16:02:09,685] Finished a trial resulted in value: 1.1652544246089114. Current best value is 1.0388982715660036 with parameters: {'max_depth': 19.83583123349122, 'n_estimators': 223.2113536895508, 'max_features': 7, 'min_samples_split': 7, 'min_samples_leaf': 4}.\n",
      "[I 2019-03-27 16:02:25,476] Finished a trial resulted in value: 1.0984616791150106. Current best value is 1.0388982715660036 with parameters: {'max_depth': 19.83583123349122, 'n_estimators': 223.2113536895508, 'max_features': 7, 'min_samples_split': 7, 'min_samples_leaf': 4}.\n",
      "[I 2019-03-27 16:02:31,625] Finished a trial resulted in value: 1.117502151942173. Current best value is 1.0388982715660036 with parameters: {'max_depth': 19.83583123349122, 'n_estimators': 223.2113536895508, 'max_features': 7, 'min_samples_split': 7, 'min_samples_leaf': 4}.\n",
      "[I 2019-03-27 16:02:34,477] Finished a trial resulted in value: 1.1527570414057546. Current best value is 1.0388982715660036 with parameters: {'max_depth': 19.83583123349122, 'n_estimators': 223.2113536895508, 'max_features': 7, 'min_samples_split': 7, 'min_samples_leaf': 4}.\n",
      "[I 2019-03-27 16:02:35,467] Finished a trial resulted in value: 1.3623165414120213. Current best value is 1.0388982715660036 with parameters: {'max_depth': 19.83583123349122, 'n_estimators': 223.2113536895508, 'max_features': 7, 'min_samples_split': 7, 'min_samples_leaf': 4}.\n",
      "[I 2019-03-27 16:02:36,663] Finished a trial resulted in value: 1.9603311761352256. Current best value is 1.0388982715660036 with parameters: {'max_depth': 19.83583123349122, 'n_estimators': 223.2113536895508, 'max_features': 7, 'min_samples_split': 7, 'min_samples_leaf': 4}.\n",
      "[I 2019-03-27 16:02:37,458] Finished a trial resulted in value: 1.0675128711695556. Current best value is 1.0388982715660036 with parameters: {'max_depth': 19.83583123349122, 'n_estimators': 223.2113536895508, 'max_features': 7, 'min_samples_split': 7, 'min_samples_leaf': 4}.\n",
      "[I 2019-03-27 16:02:37,624] Finished a trial resulted in value: 1.3272788448113721. Current best value is 1.0388982715660036 with parameters: {'max_depth': 19.83583123349122, 'n_estimators': 223.2113536895508, 'max_features': 7, 'min_samples_split': 7, 'min_samples_leaf': 4}.\n",
      "[I 2019-03-27 16:02:38,362] Finished a trial resulted in value: 1.4136430199895602. Current best value is 1.0388982715660036 with parameters: {'max_depth': 19.83583123349122, 'n_estimators': 223.2113536895508, 'max_features': 7, 'min_samples_split': 7, 'min_samples_leaf': 4}.\n",
      "[I 2019-03-27 16:02:38,626] Finished a trial resulted in value: 1.2086512796167688. Current best value is 1.0388982715660036 with parameters: {'max_depth': 19.83583123349122, 'n_estimators': 223.2113536895508, 'max_features': 7, 'min_samples_split': 7, 'min_samples_leaf': 4}.\n",
      "[I 2019-03-27 16:02:38,750] Finished a trial resulted in value: 1.5427755088447883. Current best value is 1.0388982715660036 with parameters: {'max_depth': 19.83583123349122, 'n_estimators': 223.2113536895508, 'max_features': 7, 'min_samples_split': 7, 'min_samples_leaf': 4}.\n",
      "[I 2019-03-27 16:02:39,164] Finished a trial resulted in value: 1.3624824937441378. Current best value is 1.0388982715660036 with parameters: {'max_depth': 19.83583123349122, 'n_estimators': 223.2113536895508, 'max_features': 7, 'min_samples_split': 7, 'min_samples_leaf': 4}.\n",
      "[I 2019-03-27 16:02:39,748] Finished a trial resulted in value: 1.0300176525975921. Current best value is 1.0300176525975921 with parameters: {'max_depth': 26.27709115303057, 'n_estimators': 40.736098033085035, 'max_features': 5, 'min_samples_split': 6, 'min_samples_leaf': 4}.\n",
      "[I 2019-03-27 16:02:40,488] Finished a trial resulted in value: 1.3192151294528176. Current best value is 1.0300176525975921 with parameters: {'max_depth': 26.27709115303057, 'n_estimators': 40.736098033085035, 'max_features': 5, 'min_samples_split': 6, 'min_samples_leaf': 4}.\n",
      "[I 2019-03-27 16:02:40,762] Finished a trial resulted in value: 1.3011983403426883. Current best value is 1.0300176525975921 with parameters: {'max_depth': 26.27709115303057, 'n_estimators': 40.736098033085035, 'max_features': 5, 'min_samples_split': 6, 'min_samples_leaf': 4}.\n",
      "[I 2019-03-27 16:02:45,379] Finished a trial resulted in value: 1.231086649873389. Current best value is 1.0300176525975921 with parameters: {'max_depth': 26.27709115303057, 'n_estimators': 40.736098033085035, 'max_features': 5, 'min_samples_split': 6, 'min_samples_leaf': 4}.\n",
      "[I 2019-03-27 16:02:45,662] Finished a trial resulted in value: 2.0906250474681185. Current best value is 1.0300176525975921 with parameters: {'max_depth': 26.27709115303057, 'n_estimators': 40.736098033085035, 'max_features': 5, 'min_samples_split': 6, 'min_samples_leaf': 4}.\n",
      "[I 2019-03-27 16:02:45,920] Finished a trial resulted in value: 1.5126729660934628. Current best value is 1.0300176525975921 with parameters: {'max_depth': 26.27709115303057, 'n_estimators': 40.736098033085035, 'max_features': 5, 'min_samples_split': 6, 'min_samples_leaf': 4}.\n",
      "[I 2019-03-27 16:02:46,042] Finished a trial resulted in value: 1.678948083453202. Current best value is 1.0300176525975921 with parameters: {'max_depth': 26.27709115303057, 'n_estimators': 40.736098033085035, 'max_features': 5, 'min_samples_split': 6, 'min_samples_leaf': 4}.\n",
      "[I 2019-03-27 16:02:46,707] Finished a trial resulted in value: 1.2584165706453296. Current best value is 1.0300176525975921 with parameters: {'max_depth': 26.27709115303057, 'n_estimators': 40.736098033085035, 'max_features': 5, 'min_samples_split': 6, 'min_samples_leaf': 4}.\n",
      "[I 2019-03-27 16:02:46,878] Finished a trial resulted in value: 1.5045806539736866. Current best value is 1.0300176525975921 with parameters: {'max_depth': 26.27709115303057, 'n_estimators': 40.736098033085035, 'max_features': 5, 'min_samples_split': 6, 'min_samples_leaf': 4}.\n",
      "[I 2019-03-27 16:02:47,698] Finished a trial resulted in value: 1.6279274500439245. Current best value is 1.0300176525975921 with parameters: {'max_depth': 26.27709115303057, 'n_estimators': 40.736098033085035, 'max_features': 5, 'min_samples_split': 6, 'min_samples_leaf': 4}.\n",
      "[I 2019-03-27 16:02:53,576] Finished a trial resulted in value: 1.3222964593419482. Current best value is 1.0300176525975921 with parameters: {'max_depth': 26.27709115303057, 'n_estimators': 40.736098033085035, 'max_features': 5, 'min_samples_split': 6, 'min_samples_leaf': 4}.\n",
      "[I 2019-03-27 16:02:57,213] Finished a trial resulted in value: 1.2834507374991198. Current best value is 1.0300176525975921 with parameters: {'max_depth': 26.27709115303057, 'n_estimators': 40.736098033085035, 'max_features': 5, 'min_samples_split': 6, 'min_samples_leaf': 4}.\n",
      "[I 2019-03-27 16:02:57,292] Finished a trial resulted in value: 2.1510353364457706. Current best value is 1.0300176525975921 with parameters: {'max_depth': 26.27709115303057, 'n_estimators': 40.736098033085035, 'max_features': 5, 'min_samples_split': 6, 'min_samples_leaf': 4}.\n",
      "[I 2019-03-27 16:02:57,828] Finished a trial resulted in value: 1.3206216398587949. Current best value is 1.0300176525975921 with parameters: {'max_depth': 26.27709115303057, 'n_estimators': 40.736098033085035, 'max_features': 5, 'min_samples_split': 6, 'min_samples_leaf': 4}.\n"
     ]
    },
    {
     "name": "stderr",
     "output_type": "stream",
     "text": [
      "[I 2019-03-27 16:03:00,300] Finished a trial resulted in value: 1.2987897176560308. Current best value is 1.0300176525975921 with parameters: {'max_depth': 26.27709115303057, 'n_estimators': 40.736098033085035, 'max_features': 5, 'min_samples_split': 6, 'min_samples_leaf': 4}.\n",
      "[I 2019-03-27 16:03:00,637] Finished a trial resulted in value: 1.3344446829133374. Current best value is 1.0300176525975921 with parameters: {'max_depth': 26.27709115303057, 'n_estimators': 40.736098033085035, 'max_features': 5, 'min_samples_split': 6, 'min_samples_leaf': 4}.\n",
      "[I 2019-03-27 16:03:09,057] Finished a trial resulted in value: 1.1569104959044276. Current best value is 1.0300176525975921 with parameters: {'max_depth': 26.27709115303057, 'n_estimators': 40.736098033085035, 'max_features': 5, 'min_samples_split': 6, 'min_samples_leaf': 4}.\n",
      "[I 2019-03-27 16:03:10,472] Finished a trial resulted in value: 1.1966306525547787. Current best value is 1.0300176525975921 with parameters: {'max_depth': 26.27709115303057, 'n_estimators': 40.736098033085035, 'max_features': 5, 'min_samples_split': 6, 'min_samples_leaf': 4}.\n",
      "[I 2019-03-27 16:03:10,719] Finished a trial resulted in value: 1.087756373895916. Current best value is 1.0300176525975921 with parameters: {'max_depth': 26.27709115303057, 'n_estimators': 40.736098033085035, 'max_features': 5, 'min_samples_split': 6, 'min_samples_leaf': 4}.\n",
      "[I 2019-03-27 16:03:12,614] Finished a trial resulted in value: 1.09214623861198. Current best value is 1.0300176525975921 with parameters: {'max_depth': 26.27709115303057, 'n_estimators': 40.736098033085035, 'max_features': 5, 'min_samples_split': 6, 'min_samples_leaf': 4}.\n",
      "[I 2019-03-27 16:03:12,791] Finished a trial resulted in value: 1.397655776802112. Current best value is 1.0300176525975921 with parameters: {'max_depth': 26.27709115303057, 'n_estimators': 40.736098033085035, 'max_features': 5, 'min_samples_split': 6, 'min_samples_leaf': 4}.\n",
      "[I 2019-03-27 16:03:13,594] Finished a trial resulted in value: 1.1780584701417092. Current best value is 1.0300176525975921 with parameters: {'max_depth': 26.27709115303057, 'n_estimators': 40.736098033085035, 'max_features': 5, 'min_samples_split': 6, 'min_samples_leaf': 4}.\n",
      "[I 2019-03-27 16:03:14,046] Finished a trial resulted in value: 1.1791666923467174. Current best value is 1.0300176525975921 with parameters: {'max_depth': 26.27709115303057, 'n_estimators': 40.736098033085035, 'max_features': 5, 'min_samples_split': 6, 'min_samples_leaf': 4}.\n",
      "[I 2019-03-27 16:03:14,453] Finished a trial resulted in value: 1.0646843828100414. Current best value is 1.0300176525975921 with parameters: {'max_depth': 26.27709115303057, 'n_estimators': 40.736098033085035, 'max_features': 5, 'min_samples_split': 6, 'min_samples_leaf': 4}.\n",
      "[I 2019-03-27 16:03:14,877] Finished a trial resulted in value: 1.0913274535708544. Current best value is 1.0300176525975921 with parameters: {'max_depth': 26.27709115303057, 'n_estimators': 40.736098033085035, 'max_features': 5, 'min_samples_split': 6, 'min_samples_leaf': 4}.\n",
      "[I 2019-03-27 16:03:15,138] Finished a trial resulted in value: 1.1860151644774883. Current best value is 1.0300176525975921 with parameters: {'max_depth': 26.27709115303057, 'n_estimators': 40.736098033085035, 'max_features': 5, 'min_samples_split': 6, 'min_samples_leaf': 4}.\n",
      "[I 2019-03-27 16:03:16,155] Finished a trial resulted in value: 1.19125528312917. Current best value is 1.0300176525975921 with parameters: {'max_depth': 26.27709115303057, 'n_estimators': 40.736098033085035, 'max_features': 5, 'min_samples_split': 6, 'min_samples_leaf': 4}.\n",
      "[I 2019-03-27 16:03:16,647] Finished a trial resulted in value: 1.1981639725881692. Current best value is 1.0300176525975921 with parameters: {'max_depth': 26.27709115303057, 'n_estimators': 40.736098033085035, 'max_features': 5, 'min_samples_split': 6, 'min_samples_leaf': 4}.\n",
      "[I 2019-03-27 16:03:16,756] Finished a trial resulted in value: 1.6871957919621843. Current best value is 1.0300176525975921 with parameters: {'max_depth': 26.27709115303057, 'n_estimators': 40.736098033085035, 'max_features': 5, 'min_samples_split': 6, 'min_samples_leaf': 4}.\n",
      "[I 2019-03-27 16:03:17,252] Finished a trial resulted in value: 1.2640474707663585. Current best value is 1.0300176525975921 with parameters: {'max_depth': 26.27709115303057, 'n_estimators': 40.736098033085035, 'max_features': 5, 'min_samples_split': 6, 'min_samples_leaf': 4}.\n",
      "[I 2019-03-27 16:03:17,417] Finished a trial resulted in value: 1.432830382433401. Current best value is 1.0300176525975921 with parameters: {'max_depth': 26.27709115303057, 'n_estimators': 40.736098033085035, 'max_features': 5, 'min_samples_split': 6, 'min_samples_leaf': 4}.\n",
      "[I 2019-03-27 16:03:18,221] Finished a trial resulted in value: 1.1303457509144512. Current best value is 1.0300176525975921 with parameters: {'max_depth': 26.27709115303057, 'n_estimators': 40.736098033085035, 'max_features': 5, 'min_samples_split': 6, 'min_samples_leaf': 4}.\n",
      "[I 2019-03-27 16:03:20,139] Finished a trial resulted in value: 1.1496957475798735. Current best value is 1.0300176525975921 with parameters: {'max_depth': 26.27709115303057, 'n_estimators': 40.736098033085035, 'max_features': 5, 'min_samples_split': 6, 'min_samples_leaf': 4}.\n",
      "[I 2019-03-27 16:03:20,397] Finished a trial resulted in value: 1.3516130628093348. Current best value is 1.0300176525975921 with parameters: {'max_depth': 26.27709115303057, 'n_estimators': 40.736098033085035, 'max_features': 5, 'min_samples_split': 6, 'min_samples_leaf': 4}.\n",
      "[I 2019-03-27 16:03:27,388] Finished a trial resulted in value: 1.1087076723524998. Current best value is 1.0300176525975921 with parameters: {'max_depth': 26.27709115303057, 'n_estimators': 40.736098033085035, 'max_features': 5, 'min_samples_split': 6, 'min_samples_leaf': 4}.\n",
      "[I 2019-03-27 16:03:27,772] Finished a trial resulted in value: 2.2230049215632786. Current best value is 1.0300176525975921 with parameters: {'max_depth': 26.27709115303057, 'n_estimators': 40.736098033085035, 'max_features': 5, 'min_samples_split': 6, 'min_samples_leaf': 4}.\n",
      "[I 2019-03-27 16:03:27,903] Finished a trial resulted in value: 1.98726819909847. Current best value is 1.0300176525975921 with parameters: {'max_depth': 26.27709115303057, 'n_estimators': 40.736098033085035, 'max_features': 5, 'min_samples_split': 6, 'min_samples_leaf': 4}.\n",
      "[I 2019-03-27 16:03:28,120] Finished a trial resulted in value: 1.2775686913478908. Current best value is 1.0300176525975921 with parameters: {'max_depth': 26.27709115303057, 'n_estimators': 40.736098033085035, 'max_features': 5, 'min_samples_split': 6, 'min_samples_leaf': 4}.\n",
      "[I 2019-03-27 16:03:28,309] Finished a trial resulted in value: 1.2103534040601416. Current best value is 1.0300176525975921 with parameters: {'max_depth': 26.27709115303057, 'n_estimators': 40.736098033085035, 'max_features': 5, 'min_samples_split': 6, 'min_samples_leaf': 4}.\n",
      "[I 2019-03-27 16:03:31,016] Finished a trial resulted in value: 1.1984667916635172. Current best value is 1.0300176525975921 with parameters: {'max_depth': 26.27709115303057, 'n_estimators': 40.736098033085035, 'max_features': 5, 'min_samples_split': 6, 'min_samples_leaf': 4}.\n",
      "[I 2019-03-27 16:03:35,020] Finished a trial resulted in value: 2.722583582479003. Current best value is 1.0300176525975921 with parameters: {'max_depth': 26.27709115303057, 'n_estimators': 40.736098033085035, 'max_features': 5, 'min_samples_split': 6, 'min_samples_leaf': 4}.\n",
      "[I 2019-03-27 16:03:36,672] Finished a trial resulted in value: 1.2783749193038534. Current best value is 1.0300176525975921 with parameters: {'max_depth': 26.27709115303057, 'n_estimators': 40.736098033085035, 'max_features': 5, 'min_samples_split': 6, 'min_samples_leaf': 4}.\n",
      "[I 2019-03-27 16:03:39,650] Finished a trial resulted in value: 1.2298467323232158. Current best value is 1.0300176525975921 with parameters: {'max_depth': 26.27709115303057, 'n_estimators': 40.736098033085035, 'max_features': 5, 'min_samples_split': 6, 'min_samples_leaf': 4}.\n",
      "[I 2019-03-27 16:03:39,866] Finished a trial resulted in value: 1.2628017019083921. Current best value is 1.0300176525975921 with parameters: {'max_depth': 26.27709115303057, 'n_estimators': 40.736098033085035, 'max_features': 5, 'min_samples_split': 6, 'min_samples_leaf': 4}.\n",
      "[I 2019-03-27 16:03:40,466] Finished a trial resulted in value: 1.16977474926273. Current best value is 1.0300176525975921 with parameters: {'max_depth': 26.27709115303057, 'n_estimators': 40.736098033085035, 'max_features': 5, 'min_samples_split': 6, 'min_samples_leaf': 4}.\n",
      "[I 2019-03-27 16:03:40,986] Finished a trial resulted in value: 1.2579088138941756. Current best value is 1.0300176525975921 with parameters: {'max_depth': 26.27709115303057, 'n_estimators': 40.736098033085035, 'max_features': 5, 'min_samples_split': 6, 'min_samples_leaf': 4}.\n",
      "[I 2019-03-27 16:03:41,382] Finished a trial resulted in value: 1.2529060451549971. Current best value is 1.0300176525975921 with parameters: {'max_depth': 26.27709115303057, 'n_estimators': 40.736098033085035, 'max_features': 5, 'min_samples_split': 6, 'min_samples_leaf': 4}.\n",
      "[I 2019-03-27 16:03:43,385] Finished a trial resulted in value: 1.8124228142017609. Current best value is 1.0300176525975921 with parameters: {'max_depth': 26.27709115303057, 'n_estimators': 40.736098033085035, 'max_features': 5, 'min_samples_split': 6, 'min_samples_leaf': 4}.\n",
      "[I 2019-03-27 16:03:44,705] Finished a trial resulted in value: 1.1301405579929125. Current best value is 1.0300176525975921 with parameters: {'max_depth': 26.27709115303057, 'n_estimators': 40.736098033085035, 'max_features': 5, 'min_samples_split': 6, 'min_samples_leaf': 4}.\n",
      "[I 2019-03-27 16:03:45,095] Finished a trial resulted in value: 1.4832324145907962. Current best value is 1.0300176525975921 with parameters: {'max_depth': 26.27709115303057, 'n_estimators': 40.736098033085035, 'max_features': 5, 'min_samples_split': 6, 'min_samples_leaf': 4}.\n",
      "[I 2019-03-27 16:03:46,172] Finished a trial resulted in value: 1.255062531399014. Current best value is 1.0300176525975921 with parameters: {'max_depth': 26.27709115303057, 'n_estimators': 40.736098033085035, 'max_features': 5, 'min_samples_split': 6, 'min_samples_leaf': 4}.\n",
      "[I 2019-03-27 16:03:48,727] Finished a trial resulted in value: 1.3675315015201963. Current best value is 1.0300176525975921 with parameters: {'max_depth': 26.27709115303057, 'n_estimators': 40.736098033085035, 'max_features': 5, 'min_samples_split': 6, 'min_samples_leaf': 4}.\n",
      "[I 2019-03-27 16:03:49,101] Finished a trial resulted in value: 1.1882623730856023. Current best value is 1.0300176525975921 with parameters: {'max_depth': 26.27709115303057, 'n_estimators': 40.736098033085035, 'max_features': 5, 'min_samples_split': 6, 'min_samples_leaf': 4}.\n",
      "[I 2019-03-27 16:03:49,275] Finished a trial resulted in value: 1.4007519702489482. Current best value is 1.0300176525975921 with parameters: {'max_depth': 26.27709115303057, 'n_estimators': 40.736098033085035, 'max_features': 5, 'min_samples_split': 6, 'min_samples_leaf': 4}.\n",
      "[I 2019-03-27 16:03:49,907] Finished a trial resulted in value: 1.5704678417810398. Current best value is 1.0300176525975921 with parameters: {'max_depth': 26.27709115303057, 'n_estimators': 40.736098033085035, 'max_features': 5, 'min_samples_split': 6, 'min_samples_leaf': 4}.\n",
      "[I 2019-03-27 16:03:50,233] Finished a trial resulted in value: 1.2286592454341196. Current best value is 1.0300176525975921 with parameters: {'max_depth': 26.27709115303057, 'n_estimators': 40.736098033085035, 'max_features': 5, 'min_samples_split': 6, 'min_samples_leaf': 4}.\n"
     ]
    }
   ],
   "source": [
    "def objective_rf(trial):\n",
    "    max_depth = int(trial.suggest_loguniform('max_depth', 2, 100))\n",
    "    n_estimators = int(trial.suggest_loguniform('n_estimators', 2, 1000))\n",
    "    max_features = trial.suggest_int('max_features', 1, 10)\n",
    "    min_samples_split = trial.suggest_int('min_samples_split', 2, 10)\n",
    "    min_samples_leaf = trial.suggest_int('min_samples_leaf', 1, 10)\n",
    "        \n",
    "    n_folds = 4\n",
    "    score = 0\n",
    "    for _ in range(n_folds):\n",
    "        rf = RandomForestRegressor(max_depth=max_depth, n_estimators=n_estimators, max_features=max_features,\n",
    "                              min_samples_split=min_samples_split, min_samples_leaf=min_samples_leaf)\n",
    "        X_trn, X_val, y_trn, y_val = train_test_split(X_train, y_train)\n",
    "        rf.fit(X_trn, y_trn)\n",
    "        y_pred = rf.predict(X_val)\n",
    "        score += mean_squared_error(y_val, y_pred)\n",
    "    return score/n_folds\n",
    "\n",
    "study = optuna.create_study()\n",
    "study.optimize(objective_rf, n_trials=100)"
   ]
  },
  {
   "cell_type": "code",
   "execution_count": 47,
   "metadata": {
    "scrolled": true
   },
   "outputs": [
    {
     "name": "stdout",
     "output_type": "stream",
     "text": [
      "Test R2: 0.7342 ± 0.0045\n",
      "Test MSE: 1.0853 ± 0.0185\n"
     ]
    }
   ],
   "source": [
    "# Optimized\n",
    "\n",
    "n = 10\n",
    "r2 = np.zeros(n)\n",
    "mse = np.zeros(n)\n",
    "\n",
    "for i in range(n):\n",
    "    RF = RandomForestRegressor(max_depth=26, n_estimators=41, max_features=5,\n",
    "                              min_samples_split=6, min_samples_leaf=4)\n",
    "    RF.fit(X_train, y_train)\n",
    "    y_pred = RF.predict(X_test)\n",
    "    r2[i] = r2_score(y_test, y_pred)\n",
    "    mse[i] = mean_squared_error(y_test, y_pred)\n",
    "\n",
    "print(\"Test R2: {:.4f} ± {:.4f}\".format(np.mean(r2), np.std(r2)))\n",
    "print(\"Test MSE: {:.4f} ± {:.4f}\".format(np.mean(mse), np.std(mse)))"
   ]
  },
  {
   "cell_type": "code",
   "execution_count": null,
   "metadata": {},
   "outputs": [],
   "source": []
  }
 ],
 "metadata": {
  "kernelspec": {
   "display_name": "Python 3",
   "language": "python",
   "name": "python3"
  },
  "language_info": {
   "codemirror_mode": {
    "name": "ipython",
    "version": 3
   },
   "file_extension": ".py",
   "mimetype": "text/x-python",
   "name": "python",
   "nbconvert_exporter": "python",
   "pygments_lexer": "ipython3",
   "version": "3.6.6"
  }
 },
 "nbformat": 4,
 "nbformat_minor": 2
}
