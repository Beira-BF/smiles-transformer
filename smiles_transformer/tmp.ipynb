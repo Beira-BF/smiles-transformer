{
 "cells": [
  {
   "cell_type": "code",
   "execution_count": 1,
   "metadata": {},
   "outputs": [],
   "source": [
    "import numpy as np\n",
    "import pandas as pd\n",
    "import matplotlib.pyplot as plt\n",
    "from tqdm import tqdm_notebook as tqdm"
   ]
  },
  {
   "cell_type": "code",
   "execution_count": 6,
   "metadata": {},
   "outputs": [],
   "source": [
    "df_train = pd.read_csv('data/chembl24_bert_train.csv')\n",
    "df_test = pd.read_csv('data/chembl24_bert_test.csv')"
   ]
  },
  {
   "cell_type": "code",
   "execution_count": 7,
   "metadata": {},
   "outputs": [
    {
     "name": "stdout",
     "output_type": "stream",
     "text": [
      "N=1722270\n"
     ]
    },
    {
     "data": {
      "text/html": [
       "<div>\n",
       "<style scoped>\n",
       "    .dataframe tbody tr th:only-of-type {\n",
       "        vertical-align: middle;\n",
       "    }\n",
       "\n",
       "    .dataframe tbody tr th {\n",
       "        vertical-align: top;\n",
       "    }\n",
       "\n",
       "    .dataframe thead th {\n",
       "        text-align: right;\n",
       "    }\n",
       "</style>\n",
       "<table border=\"1\" class=\"dataframe\">\n",
       "  <thead>\n",
       "    <tr style=\"text-align: right;\">\n",
       "      <th></th>\n",
       "      <th>first</th>\n",
       "      <th>second</th>\n",
       "      <th>first_sp</th>\n",
       "      <th>second_sp</th>\n",
       "      <th>tanimoto</th>\n",
       "    </tr>\n",
       "  </thead>\n",
       "  <tbody>\n",
       "    <tr>\n",
       "      <th>0</th>\n",
       "      <td>Cl.OC(=O)C1=CN(C2CC2)c3c(F)c(CNc4ccc(F)c(Cl)c4...</td>\n",
       "      <td>Cl.OC(=O)C1=CN(C2CC2)c3c(F)c(CNc4ccc(F)cc4)c(F...</td>\n",
       "      <td>NaN</td>\n",
       "      <td>NaN</td>\n",
       "      <td>0.813559</td>\n",
       "    </tr>\n",
       "    <tr>\n",
       "      <th>1</th>\n",
       "      <td>Cl.CCn1c(NCc2cc(OC)c(OC)c(OC)c2)nc3ccccc13</td>\n",
       "      <td>CCn1c(NCc2cc(OC)c(OC)c(OC)c2)nc3ccccc13</td>\n",
       "      <td>NaN</td>\n",
       "      <td>NaN</td>\n",
       "      <td>0.976744</td>\n",
       "    </tr>\n",
       "    <tr>\n",
       "      <th>2</th>\n",
       "      <td>CCOc1ccc(C[C@@H](NC(=O)c2cccs2)C(=N[C@@H](Cc3c...</td>\n",
       "      <td>CCOc1ccc(C[C@@H](NC(=O)c2ccncc2)C(=N[C@@H](Cc3...</td>\n",
       "      <td>NaN</td>\n",
       "      <td>NaN</td>\n",
       "      <td>0.797297</td>\n",
       "    </tr>\n",
       "    <tr>\n",
       "      <th>3</th>\n",
       "      <td>CC(C)n1ncc2C(N(C3=CN(C)C(=O)C(=C3)Cl)C(=O)c12)...</td>\n",
       "      <td>CC(C)n1nc(C)c2C(N(C3=CN(C)C(=O)C(=C3)Cl)C(=O)c...</td>\n",
       "      <td>NaN</td>\n",
       "      <td>NaN</td>\n",
       "      <td>0.706897</td>\n",
       "    </tr>\n",
       "    <tr>\n",
       "      <th>4</th>\n",
       "      <td>O[C@@H]1CCN(C1)S(=O)(=O)Nc2ccc(F)c(Nc3ncccc3c4...</td>\n",
       "      <td>Fc1ccc(NS(=O)(=O)N2CCCC2)c(F)c1Nc3ncccc3c4ncnc...</td>\n",
       "      <td>NaN</td>\n",
       "      <td>NaN</td>\n",
       "      <td>0.785714</td>\n",
       "    </tr>\n",
       "  </tbody>\n",
       "</table>\n",
       "</div>"
      ],
      "text/plain": [
       "                                               first  \\\n",
       "0  Cl.OC(=O)C1=CN(C2CC2)c3c(F)c(CNc4ccc(F)c(Cl)c4...   \n",
       "1         Cl.CCn1c(NCc2cc(OC)c(OC)c(OC)c2)nc3ccccc13   \n",
       "2  CCOc1ccc(C[C@@H](NC(=O)c2cccs2)C(=N[C@@H](Cc3c...   \n",
       "3  CC(C)n1ncc2C(N(C3=CN(C)C(=O)C(=C3)Cl)C(=O)c12)...   \n",
       "4  O[C@@H]1CCN(C1)S(=O)(=O)Nc2ccc(F)c(Nc3ncccc3c4...   \n",
       "\n",
       "                                              second  first_sp  second_sp  \\\n",
       "0  Cl.OC(=O)C1=CN(C2CC2)c3c(F)c(CNc4ccc(F)cc4)c(F...       NaN        NaN   \n",
       "1            CCn1c(NCc2cc(OC)c(OC)c(OC)c2)nc3ccccc13       NaN        NaN   \n",
       "2  CCOc1ccc(C[C@@H](NC(=O)c2ccncc2)C(=N[C@@H](Cc3...       NaN        NaN   \n",
       "3  CC(C)n1nc(C)c2C(N(C3=CN(C)C(=O)C(=C3)Cl)C(=O)c...       NaN        NaN   \n",
       "4  Fc1ccc(NS(=O)(=O)N2CCCC2)c(F)c1Nc3ncccc3c4ncnc...       NaN        NaN   \n",
       "\n",
       "   tanimoto  \n",
       "0  0.813559  \n",
       "1  0.976744  \n",
       "2  0.797297  \n",
       "3  0.706897  \n",
       "4  0.785714  "
      ]
     },
     "execution_count": 7,
     "metadata": {},
     "output_type": "execute_result"
    }
   ],
   "source": [
    "df = pd.concat((df_train, df_test))\n",
    "N = len(df)\n",
    "print(\"N={}\".format(N))\n",
    "df.head()"
   ]
  },
  {
   "cell_type": "code",
   "execution_count": 8,
   "metadata": {},
   "outputs": [],
   "source": [
    "smiles = df['first'].values\n",
    "del df, df_train, df_test"
   ]
  },
  {
   "cell_type": "code",
   "execution_count": 53,
   "metadata": {},
   "outputs": [],
   "source": [
    "def split(sm):\n",
    "    arr = []\n",
    "    i = 0\n",
    "    while i < len(sm)-1:\n",
    "        if not sm[i] in ['%', 'C', 'B', 'S', 'N', 'R', 'X', 'L', 'A', 'M', \\\n",
    "                         'T', 'Z', 's', 't', 'H', '+', '-', 'K', 'F']:\n",
    "            arr.append(sm[i])\n",
    "            i += 1\n",
    "        elif sm[i]=='%':\n",
    "            arr.append(sm[i:i+3])\n",
    "            i += 3\n",
    "        elif sm[i]=='C' and sm[i+1]=='l':\n",
    "            arr.append(sm[i:i+2])\n",
    "            i += 2\n",
    "        elif sm[i]=='C' and sm[i+1]=='a':\n",
    "            arr.append(sm[i:i+2])\n",
    "            i += 2\n",
    "        elif sm[i]=='C' and sm[i+1]=='u':\n",
    "            arr.append(sm[i:i+2])\n",
    "            i += 2\n",
    "        elif sm[i]=='B' and sm[i+1]=='r':\n",
    "            arr.append(sm[i:i+2])\n",
    "            i += 2\n",
    "        elif sm[i]=='B' and sm[i+1]=='e':\n",
    "            arr.append(sm[i:i+2])\n",
    "            i += 2\n",
    "        elif sm[i]=='B' and sm[i+1]=='a':\n",
    "            arr.append(sm[i:i+2])\n",
    "            i += 2\n",
    "        elif sm[i]=='B' and sm[i+1]=='i':\n",
    "            arr.append(sm[i:i+2])\n",
    "            i += 2\n",
    "        elif sm[i]=='S' and sm[i+1]=='i':\n",
    "            arr.append(sm[i:i+2])\n",
    "            i += 2\n",
    "        elif sm[i]=='S' and sm[i+1]=='e':\n",
    "            arr.append(sm[i:i+2])\n",
    "            i += 2\n",
    "        elif sm[i]=='S' and sm[i+1]=='r':\n",
    "            arr.append(sm[i:i+2])\n",
    "            i += 2\n",
    "        elif sm[i]=='N' and sm[i+1]=='a':\n",
    "            arr.append(sm[i:i+2])\n",
    "            i += 2\n",
    "        elif sm[i]=='N' and sm[i+1]=='i':\n",
    "            arr.append(sm[i:i+2])\n",
    "            i += 2\n",
    "        elif sm[i]=='R' and sm[i+1]=='b':\n",
    "            arr.append(sm[i:i+2])\n",
    "            i += 2\n",
    "        elif sm[i]=='R' and sm[i+1]=='a':\n",
    "            arr.append(sm[i:i+2])\n",
    "            i += 2\n",
    "        elif sm[i]=='X' and sm[i+1]=='e':\n",
    "            arr.append(sm[i:i+2])\n",
    "            i += 2\n",
    "        elif sm[i]=='L' and sm[i+1]=='i':\n",
    "            arr.append(sm[i:i+2])\n",
    "            i += 2\n",
    "        elif sm[i]=='A' and sm[i+1]=='l':\n",
    "            arr.append(sm[i:i+2])\n",
    "            i += 2\n",
    "        elif sm[i]=='A' and sm[i+1]=='s':\n",
    "            arr.append(sm[i:i+2])\n",
    "            i += 2\n",
    "        elif sm[i]=='A' and sm[i+1]=='g':\n",
    "            arr.append(sm[i:i+2])\n",
    "            i += 2\n",
    "        elif sm[i]=='A' and sm[i+1]=='u':\n",
    "            arr.append(sm[i:i+2])\n",
    "            i += 2\n",
    "        elif sm[i]=='M' and sm[i+1]=='g':\n",
    "            arr.append(sm[i:i+2])\n",
    "            i += 2\n",
    "        elif sm[i]=='M' and sm[i+1]=='n':\n",
    "            arr.append(sm[i:i+2])\n",
    "            i += 2\n",
    "        elif sm[i]=='T' and sm[i+1]=='e':\n",
    "            arr.append(sm[i:i+2])\n",
    "            i += 2\n",
    "        elif sm[i]=='Z' and sm[i+1]=='n':\n",
    "            arr.append(sm[i:i+2])\n",
    "            i += 2\n",
    "        elif sm[i]=='s' and sm[i+1]=='i':\n",
    "            arr.append(sm[i:i+2])\n",
    "            i += 2\n",
    "        elif sm[i]=='s' and sm[i+1]=='e':\n",
    "            arr.append(sm[i:i+2])\n",
    "            i += 2\n",
    "        elif sm[i]=='t' and sm[i+1]=='e':\n",
    "            arr.append(sm[i:i+2])\n",
    "            i += 2\n",
    "        elif sm[i]=='H' and sm[i+1]=='e':\n",
    "            arr.append(sm[i:i+2])\n",
    "            i += 2\n",
    "        elif sm[i]=='+' and sm[i+1]=='2':\n",
    "            arr.append(sm[i:i+2])\n",
    "            i += 2\n",
    "        elif sm[i]=='+' and sm[i+1]=='3':\n",
    "            arr.append(sm[i:i+2])\n",
    "            i += 2\n",
    "        elif sm[i]=='+' and sm[i+1]=='4':\n",
    "            arr.append(sm[i:i+2])\n",
    "            i += 2\n",
    "        elif sm[i]=='-' and sm[i+1]=='2':\n",
    "            arr.append(sm[i:i+2])\n",
    "            i += 2\n",
    "        elif sm[i]=='-' and sm[i+1]=='3':\n",
    "            arr.append(sm[i:i+2])\n",
    "            i += 2\n",
    "        elif sm[i]=='-' and sm[i+1]=='4':\n",
    "            arr.append(sm[i:i+2])\n",
    "            i += 2\n",
    "        elif sm[i]=='K' and sm[i+1]=='r':\n",
    "            arr.append(sm[i:i+2])\n",
    "            i += 2\n",
    "        elif sm[i]=='F' and sm[i+1]=='e':\n",
    "            arr.append(sm[i:i+2])\n",
    "            i += 2\n",
    "        else:\n",
    "            arr.append(sm[i])\n",
    "            i += 1\n",
    "    if i == len(sm)-1:\n",
    "        arr.append(sm[i])\n",
    "    return arr"
   ]
  },
  {
   "cell_type": "code",
   "execution_count": 54,
   "metadata": {},
   "outputs": [
    {
     "data": {
      "application/vnd.jupyter.widget-view+json": {
       "model_id": "60edaa7bbe294d18a8f88a59677d0ab7",
       "version_major": 2,
       "version_minor": 0
      },
      "text/plain": [
       "HBox(children=(IntProgress(value=0, max=1722270), HTML(value='')))"
      ]
     },
     "metadata": {},
     "output_type": "display_data"
    }
   ],
   "source": [
    "dic = {}\n",
    "for sm in tqdm(smiles):\n",
    "    arr = split(sm)\n",
    "    for a in arr:\n",
    "        if a not in dic.keys():\n",
    "            dic[a] = 1\n",
    "        else:\n",
    "            dic[a] += 1"
   ]
  },
  {
   "cell_type": "code",
   "execution_count": 55,
   "metadata": {},
   "outputs": [
    {
     "name": "stdout",
     "output_type": "stream",
     "text": [
      "84494174\n"
     ]
    }
   ],
   "source": [
    "s = 0\n",
    "for key, val in dic.items():\n",
    "    s += val\n",
    "print(s)"
   ]
  },
  {
   "cell_type": "code",
   "execution_count": 56,
   "metadata": {
    "scrolled": true
   },
   "outputs": [
    {
     "name": "stdout",
     "output_type": "stream",
     "text": [
      "c 23.55077523\n",
      "C 17.99888712\n",
      "( 9.32726675\n",
      ") 9.32726675\n",
      "O 5.89432000\n",
      "= 4.08539410\n",
      "1 4.03246856\n",
      "N 3.91888913\n",
      "2 3.83628580\n",
      "3 3.13325863\n",
      "n 2.35134555\n",
      "4 1.84716759\n",
      "@ 1.63334338\n",
      "[ 1.58682775\n",
      "] 1.58682775\n",
      "H 1.14432268\n",
      "F 0.85038763\n",
      "5 0.72412093\n",
      "S 0.55523118\n",
      "\\ 0.54692883\n",
      "Cl 0.52343964\n",
      "s 0.23074017\n",
      "6 0.19696269\n",
      "o 0.18616905\n",
      "+ 0.15958260\n",
      "- 0.13849949\n",
      "# 0.13438796\n",
      "/ 0.13227303\n",
      ". 0.12374226\n",
      "Br 0.10764648\n",
      "7 0.04664227\n",
      "P 0.03537167\n",
      "I 0.01889716\n",
      "8 0.01161500\n",
      "Na 0.00840295\n",
      "B 0.00344166\n",
      "Si 0.00269131\n",
      "Se 0.00219423\n",
      "9 0.00214334\n",
      "K 0.00132672\n",
      "Li 0.00052666\n",
      "+2 0.00034677\n",
      "%10 0.00032665\n",
      "As 0.00024617\n",
      "p 0.00022960\n",
      "Zn 0.00012900\n",
      "Ca 0.00012900\n",
      "Te 0.00011598\n",
      "Mg 0.00008403\n",
      "se 0.00005681\n",
      "Al 0.00005326\n",
      "te 0.00004852\n",
      "+3 0.00003314\n",
      "%11 0.00002604\n",
      "Ag 0.00002485\n",
      "Sr 0.00001657\n",
      "+4 0.00001420\n",
      "Ba 0.00001302\n",
      "V 0.00001302\n",
      "%12 0.00001184\n",
      "Fe 0.00001065\n",
      "Cu 0.00000828\n",
      "-2 0.00000828\n",
      "b 0.00000710\n",
      "Mn 0.00000592\n",
      "Ni 0.00000592\n",
      "Rb 0.00000473\n",
      "Xe 0.00000355\n",
      "Ra 0.00000237\n",
      "Kr 0.00000237\n",
      "Be 0.00000237\n",
      "-3 0.00000237\n",
      "%13 0.00000237\n",
      "Bi 0.00000118\n",
      "He 0.00000118\n",
      "-4 0.00000118\n"
     ]
    }
   ],
   "source": [
    "x, y = [], []\n",
    "for key, val in sorted(dic.items(), key=lambda x: -x[1]):\n",
    "    x.append(key)\n",
    "    y.append(val)\n",
    "    print(key, \"{:.8f}\".format(val/s*100))"
   ]
  },
  {
   "cell_type": "code",
   "execution_count": 57,
   "metadata": {},
   "outputs": [
    {
     "data": {
      "text/plain": [
       "76"
      ]
     },
     "execution_count": 57,
     "metadata": {},
     "output_type": "execute_result"
    }
   ],
   "source": [
    "len(dic)"
   ]
  },
  {
   "cell_type": "code",
   "execution_count": 82,
   "metadata": {
    "scrolled": true
   },
   "outputs": [
    {
     "name": "stdout",
     "output_type": "stream",
     "text": [
      "c 9949516.50\n",
      "C 7604005.50\n",
      "( 3940498.50\n",
      ") 3940498.50\n",
      "O 2490178.50\n",
      "= 1725960.00\n",
      "1 1703600.50\n",
      "N 1655616.50\n",
      "2 1620719.00\n",
      "3 1323710.50\n",
      "n 993375.00\n",
      "4 780374.50\n",
      "@ 690040.00\n",
      "[ 670388.50\n",
      "] 670388.50\n",
      "H 483443.00\n",
      "F 359264.00\n",
      "5 305920.00\n",
      "S 234569.00\n",
      "\\ 231061.50\n",
      "Cl 221138.00\n",
      "s 97481.00\n",
      "6 83211.00\n",
      "o 78651.00\n",
      "+ 67419.00\n",
      "- 58512.00\n",
      "# 56775.00\n",
      "/ 55881.50\n",
      ". 52277.50\n",
      "Br 45477.50\n",
      "7 19705.00\n",
      "P 14943.50\n",
      "I 7983.50\n",
      "8 4907.00\n",
      "Na 3550.00\n",
      "B 1454.00\n",
      "Si 1137.00\n",
      "Se 927.00\n",
      "9 905.50\n",
      "K 560.50\n",
      "Li 222.50\n",
      "+2 146.50\n",
      "%10 138.00\n",
      "As 104.00\n",
      "p 97.00\n",
      "Zn 54.50\n",
      "Ca 54.50\n",
      "Te 49.00\n",
      "Mg 35.50\n",
      "se 24.00\n",
      "Al 22.50\n",
      "te 20.50\n",
      "+3 14.00\n",
      "%11 11.00\n",
      "Ag 10.50\n",
      "Sr 7.00\n",
      "+4 6.00\n",
      "Ba 5.50\n",
      "V 5.50\n",
      "%12 5.00\n",
      "Fe 4.50\n",
      "Cu 3.50\n",
      "-2 3.50\n",
      "b 3.00\n",
      "Mn 2.50\n",
      "Ni 2.50\n",
      "Rb 2.00\n",
      "Xe 1.50\n",
      "Ra 1.00\n",
      "Kr 1.00\n",
      "Be 1.00\n",
      "-3 1.00\n",
      "%13 1.00\n",
      "Bi 0.50\n",
      "He 0.50\n",
      "-4 0.50\n"
     ]
    }
   ],
   "source": [
    "x, y = [], []\n",
    "for key, val in sorted(dic.items(), key=lambda x: -x[1]):\n",
    "    x.append(key)\n",
    "    y.append(val)\n",
    "    print(key, \"{:.2f}\".format(val/2))"
   ]
  },
  {
   "cell_type": "code",
   "execution_count": 79,
   "metadata": {},
   "outputs": [
    {
     "data": {
      "text/plain": [
       "84494174"
      ]
     },
     "execution_count": 79,
     "metadata": {},
     "output_type": "execute_result"
    }
   ],
   "source": [
    "s"
   ]
  },
  {
   "cell_type": "code",
   "execution_count": 66,
   "metadata": {},
   "outputs": [
    {
     "data": {
      "image/png": "[encoded data removed]",
      "text/plain": [
       "<Figure size 1728x432 with 1 Axes>"
      ]
     },
     "metadata": {
      "needs_background": "light"
     },
     "output_type": "display_data"
    }
   ],
   "source": [
    "plt.figure(figsize=(24,6))\n",
    "plt.bar(range(len(x)),np.array(y)/s*100, tick_label=x, align=\"center\")\n",
    "plt.xlabel(\"Word\")\n",
    "plt.ylabel(\"Appearance rate[%]\")\n",
    "plt.grid(True)\n",
    "plt.show()"
   ]
  },
  {
   "cell_type": "code",
   "execution_count": 76,
   "metadata": {},
   "outputs": [
    {
     "data": {
      "image/png": "[encoded data removed]",
      "text/plain": [
       "<Figure size 1296x432 with 1 Axes>"
      ]
     },
     "metadata": {
      "needs_background": "light"
     },
     "output_type": "display_data"
    }
   ],
   "source": [
    "plt.figure(figsize=(18,6))\n",
    "k = 34\n",
    "plt.bar(range(k),np.array(y)[:k]/s*100, tick_label=x[:k], align=\"center\")\n",
    "plt.xlabel(\"Word\")\n",
    "plt.ylabel(\"Appearance rate[%]\")\n",
    "plt.grid(True)\n",
    "plt.show()"
   ]
  },
  {
   "cell_type": "code",
   "execution_count": 83,
   "metadata": {},
   "outputs": [
    {
     "data": {
      "text/plain": [
       "[1, None, None, None]"
      ]
     },
     "execution_count": 83,
     "metadata": {},
     "output_type": "execute_result"
    }
   ],
   "source": [
    "a = [None]*4\n",
    "a[0] = 1\n",
    "a"
   ]
  },
  {
   "cell_type": "code",
   "execution_count": null,
   "metadata": {},
   "outputs": [],
   "source": []
  }
 ],
 "metadata": {
  "kernelspec": {
   "display_name": "Python 3",
   "language": "python",
   "name": "python3"
  },
  "language_info": {
   "codemirror_mode": {
    "name": "ipython",
    "version": 3
   },
   "file_extension": ".py",
   "mimetype": "text/x-python",
   "name": "python",
   "nbconvert_exporter": "python",
   "pygments_lexer": "ipython3",
   "version": "3.6.6"
  }
 },
 "nbformat": 4,
 "nbformat_minor": 2
}
