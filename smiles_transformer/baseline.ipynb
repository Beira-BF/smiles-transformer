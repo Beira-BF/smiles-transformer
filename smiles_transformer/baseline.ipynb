{
 "cells": [
  {
   "cell_type": "markdown",
   "metadata": {},
   "source": [
    "# Performance comparaison\n",
    "\n",
    "| Fingerprint | R2 | RMSE |  \n",
    "|:-:|:-:|:-:|  \n",
    "| ECFP| 0.765 | 0.9808 |\n",
    "|Can2Can|0.7176|1.073|\n",
    "| NFP| 0.8845 | 0.6868 |"
   ]
  },
  {
   "cell_type": "code",
   "execution_count": 1,
   "metadata": {},
   "outputs": [
    {
     "ename": "ImportError",
     "evalue": "No module named 'optuna'",
     "output_type": "error",
     "traceback": [
      "\u001b[0;31m---------------------------------------------------------------------------\u001b[0m",
      "\u001b[0;31mImportError\u001b[0m                               Traceback (most recent call last)",
      "\u001b[0;32m<ipython-input-1-a19b336045f7>\u001b[0m in \u001b[0;36m<module>\u001b[0;34m()\u001b[0m\n\u001b[1;32m      9\u001b[0m \u001b[0;32mfrom\u001b[0m \u001b[0msklearn\u001b[0m\u001b[0;34m.\u001b[0m\u001b[0mmodel_selection\u001b[0m \u001b[0;32mimport\u001b[0m \u001b[0mtrain_test_split\u001b[0m\u001b[0;34m,\u001b[0m \u001b[0mGridSearchCV\u001b[0m\u001b[0;34m\u001b[0m\u001b[0m\n\u001b[1;32m     10\u001b[0m \u001b[0;32mfrom\u001b[0m \u001b[0msklearn\u001b[0m\u001b[0;34m.\u001b[0m\u001b[0mmetrics\u001b[0m \u001b[0;32mimport\u001b[0m \u001b[0mmean_squared_error\u001b[0m\u001b[0;34m,\u001b[0m \u001b[0mr2_score\u001b[0m\u001b[0;34m\u001b[0m\u001b[0m\n\u001b[0;32m---> 11\u001b[0;31m \u001b[0;32mimport\u001b[0m \u001b[0moptuna\u001b[0m\u001b[0;34m\u001b[0m\u001b[0m\n\u001b[0m",
      "\u001b[0;31mImportError\u001b[0m: No module named 'optuna'"
     ]
    }
   ],
   "source": [
    "import numpy as np\n",
    "import pandas as pd\n",
    "from matplotlib import pyplot as plt\n",
    "from rdkit import Chem, DataStructs\n",
    "from rdkit.Chem import MACCSkeys, AllChem\n",
    "\n",
    "from sklearn.ensemble import RandomForestRegressor\n",
    "from sklearn.neural_network import MLPRegressor\n",
    "from sklearn.model_selection import train_test_split, GridSearchCV\n",
    "from sklearn.metrics import mean_squared_error, r2_score\n",
    "import optuna"
   ]
  },
  {
   "cell_type": "code",
   "execution_count": 2,
   "metadata": {
    "scrolled": false
   },
   "outputs": [
    {
     "data": {
      "text/html": [
       "<div>\n",
       "<style scoped>\n",
       "    .dataframe tbody tr th:only-of-type {\n",
       "        vertical-align: middle;\n",
       "    }\n",
       "\n",
       "    .dataframe tbody tr th {\n",
       "        vertical-align: top;\n",
       "    }\n",
       "\n",
       "    .dataframe thead th {\n",
       "        text-align: right;\n",
       "    }\n",
       "</style>\n",
       "<table border=\"1\" class=\"dataframe\">\n",
       "  <thead>\n",
       "    <tr style=\"text-align: right;\">\n",
       "      <th></th>\n",
       "      <th>SMILES</th>\n",
       "      <th>unknown</th>\n",
       "      <th>solubility</th>\n",
       "      <th>processed_smiles</th>\n",
       "    </tr>\n",
       "  </thead>\n",
       "  <tbody>\n",
       "    <tr>\n",
       "      <th>0</th>\n",
       "      <td>O=C(C)N</td>\n",
       "      <td>60-35-5</td>\n",
       "      <td>1.58</td>\n",
       "      <td>O = C ( C ) N</td>\n",
       "    </tr>\n",
       "    <tr>\n",
       "      <th>1</th>\n",
       "      <td>NNC</td>\n",
       "      <td>60-34-4</td>\n",
       "      <td>1.34</td>\n",
       "      <td>N N C</td>\n",
       "    </tr>\n",
       "    <tr>\n",
       "      <th>2</th>\n",
       "      <td>O=C(C)O</td>\n",
       "      <td>64-19-7</td>\n",
       "      <td>1.22</td>\n",
       "      <td>O = C ( C ) O</td>\n",
       "    </tr>\n",
       "    <tr>\n",
       "      <th>3</th>\n",
       "      <td>N1CCCC1</td>\n",
       "      <td>123-75-1</td>\n",
       "      <td>1.15</td>\n",
       "      <td>N 1 C C C C 1</td>\n",
       "    </tr>\n",
       "    <tr>\n",
       "      <th>4</th>\n",
       "      <td>O=C(N)NO</td>\n",
       "      <td>127-07-1</td>\n",
       "      <td>1.12</td>\n",
       "      <td>O = C ( N ) N O</td>\n",
       "    </tr>\n",
       "  </tbody>\n",
       "</table>\n",
       "</div>"
      ],
      "text/plain": [
       "     SMILES   unknown  solubility processed_smiles\n",
       "0   O=C(C)N   60-35-5        1.58    O = C ( C ) N\n",
       "1       NNC   60-34-4        1.34            N N C\n",
       "2   O=C(C)O   64-19-7        1.22    O = C ( C ) O\n",
       "3   N1CCCC1  123-75-1        1.15    N 1 C C C C 1\n",
       "4  O=C(N)NO  127-07-1        1.12  O = C ( N ) N O"
      ]
     },
     "execution_count": 2,
     "metadata": {},
     "output_type": "execute_result"
    }
   ],
   "source": [
    "df_sol = pd.read_csv('data/solubility.csv')\n",
    "df_sol.head()"
   ]
  },
  {
   "cell_type": "markdown",
   "metadata": {},
   "source": [
    "# Solubility regression"
   ]
  },
  {
   "cell_type": "code",
   "execution_count": 4,
   "metadata": {
    "scrolled": false
   },
   "outputs": [
    {
     "data": {
      "image/png": "[encoded data removed]",
      "text/plain": [
       "<Figure size 432x288 with 1 Axes>"
      ]
     },
     "metadata": {
      "needs_background": "light"
     },
     "output_type": "display_data"
    }
   ],
   "source": [
    "sol = df_sol['solubility'].values \n",
    "plt.hist(sol, 100, facecolor='green', alpha=0.75)\n",
    "plt.rcParams[\"font.size\"]=14\n",
    "plt.xlabel('Solubility')\n",
    "plt.ylabel('Number of compounds')\n",
    "plt.title('Histogram of solubilities')\n",
    "plt.grid()\n",
    "plt.show()"
   ]
  },
  {
   "cell_type": "code",
   "execution_count": 5,
   "metadata": {},
   "outputs": [],
   "source": [
    "def bit2np(bitvector):\n",
    "    bitstring = bitvector.ToBitString()\n",
    "    intmap = map(int, bitstring)\n",
    "    return np.array(list(intmap))"
   ]
  },
  {
   "cell_type": "code",
   "execution_count": 6,
   "metadata": {},
   "outputs": [],
   "source": [
    "def extract_morgan(df):\n",
    "    smiles = df[\"SMILES\"].values\n",
    "    sol = df['solubility'].values\n",
    "    N = len(smiles)\n",
    "    print(\"{} molecules\".format(N))\n",
    "    X,y = [],[]\n",
    "    for i in range(N):\n",
    "        mol = Chem.MolFromSmiles(smiles[i])\n",
    "        if mol is None:\n",
    "            print(i)\n",
    "            continue\n",
    "\n",
    "        fp = AllChem.GetMorganFingerprintAsBitVect(mol, 2, 1024) # Morgan (Similar to ECFP4)\n",
    "        X.append(bit2np(fp))\n",
    "        y.append(sol[i])\n",
    "    X = np.array(X)\n",
    "    y = np.array(y)\n",
    "    return X, y"
   ]
  },
  {
   "cell_type": "code",
   "execution_count": 58,
   "metadata": {},
   "outputs": [
    {
     "name": "stdout",
     "output_type": "stream",
     "text": [
      "<rdkit.Chem.rdchem.Mol object at 0x7f40c1bd23f0>\n"
     ]
    }
   ],
   "source": [
    "a = Chem.MolFromSmiles('c1ccccc1 ')\n",
    "print(a)"
   ]
  },
  {
   "cell_type": "code",
   "execution_count": 8,
   "metadata": {},
   "outputs": [
    {
     "name": "stdout",
     "output_type": "stream",
     "text": [
      "968 molecules\n",
      "322 molecules\n",
      "306\n",
      "Train (968, 1024)\n",
      "Test (321, 1024)\n"
     ]
    }
   ],
   "source": [
    "X_train, y_train = extract_morgan(pd.read_csv('data/sol_train.csv'))\n",
    "X_test, y_test = extract_morgan(pd.read_csv('data/sol_test.csv'))\n",
    "print('Train', X_train.shape)\n",
    "print('Test', X_test.shape)"
   ]
  },
  {
   "cell_type": "markdown",
   "metadata": {},
   "source": [
    "# Prediction\n",
    "### Multi-layer perceptron"
   ]
  },
  {
   "cell_type": "code",
   "execution_count": 43,
   "metadata": {},
   "outputs": [
    {
     "name": "stderr",
     "output_type": "stream",
     "text": [
      "/home/honda/anaconda3/lib/python3.6/site-packages/sklearn/neural_network/multilayer_perceptron.py:562: ConvergenceWarning: Stochastic Optimizer: Maximum iterations (200) reached and the optimization hasn't converged yet.\n",
      "  % self.max_iter, ConvergenceWarning)\n",
      "/home/honda/anaconda3/lib/python3.6/site-packages/sklearn/neural_network/multilayer_perceptron.py:562: ConvergenceWarning: Stochastic Optimizer: Maximum iterations (200) reached and the optimization hasn't converged yet.\n",
      "  % self.max_iter, ConvergenceWarning)\n",
      "/home/honda/anaconda3/lib/python3.6/site-packages/sklearn/neural_network/multilayer_perceptron.py:562: ConvergenceWarning: Stochastic Optimizer: Maximum iterations (200) reached and the optimization hasn't converged yet.\n",
      "  % self.max_iter, ConvergenceWarning)\n",
      "/home/honda/anaconda3/lib/python3.6/site-packages/sklearn/neural_network/multilayer_perceptron.py:562: ConvergenceWarning: Stochastic Optimizer: Maximum iterations (200) reached and the optimization hasn't converged yet.\n",
      "  % self.max_iter, ConvergenceWarning)\n",
      "/home/honda/anaconda3/lib/python3.6/site-packages/sklearn/neural_network/multilayer_perceptron.py:562: ConvergenceWarning: Stochastic Optimizer: Maximum iterations (200) reached and the optimization hasn't converged yet.\n",
      "  % self.max_iter, ConvergenceWarning)\n",
      "/home/honda/anaconda3/lib/python3.6/site-packages/sklearn/neural_network/multilayer_perceptron.py:562: ConvergenceWarning: Stochastic Optimizer: Maximum iterations (200) reached and the optimization hasn't converged yet.\n",
      "  % self.max_iter, ConvergenceWarning)\n",
      "/home/honda/anaconda3/lib/python3.6/site-packages/sklearn/neural_network/multilayer_perceptron.py:562: ConvergenceWarning: Stochastic Optimizer: Maximum iterations (200) reached and the optimization hasn't converged yet.\n",
      "  % self.max_iter, ConvergenceWarning)\n",
      "/home/honda/anaconda3/lib/python3.6/site-packages/sklearn/neural_network/multilayer_perceptron.py:562: ConvergenceWarning: Stochastic Optimizer: Maximum iterations (200) reached and the optimization hasn't converged yet.\n",
      "  % self.max_iter, ConvergenceWarning)\n"
     ]
    },
    {
     "name": "stdout",
     "output_type": "stream",
     "text": [
      "Test R2: 0.6645 ± 0.0191\n",
      "Test MSE: 1.3707 ± 0.0782\n"
     ]
    }
   ],
   "source": [
    "# Default\n",
    "# Default\n",
    "n = 10\n",
    "r2 = np.zeros(n)\n",
    "mse = np.zeros(n)\n",
    "\n",
    "for i in range(n):\n",
    "    MLP = MLPRegressor()\n",
    "    MLP.fit(X_train, y_train)\n",
    "    y_pred = MLP.predict(X_test)\n",
    "    r2[i] = r2_score(y_test, y_pred)\n",
    "    mse[i] = mean_squared_error(y_test, y_pred)\n",
    "\n",
    "print(\"Test R2: {:.4f} ± {:.4f}\".format(np.mean(r2), np.std(r2)))\n",
    "print(\"Test MSE: {:.4f} ± {:.4f}\".format(np.mean(mse), np.std(mse)))"
   ]
  },
  {
   "cell_type": "code",
   "execution_count": 44,
   "metadata": {
    "scrolled": true
   },
   "outputs": [
    {
     "name": "stderr",
     "output_type": "stream",
     "text": [
      "[I 2019-03-27 14:22:02,951] Finished a trial resulted in value: 1.5416560371445227. Current best value is 1.5416560371445227 with parameters: {'n_layers': 3, 'n_units_l0': 322.5994329335695, 'n_units_l1': 1.6157563239137902, 'n_units_l2': 263.7478858950991}.\n",
      "[I 2019-03-27 14:23:24,247] Finished a trial resulted in value: 1.346197750418836. Current best value is 1.346197750418836 with parameters: {'n_layers': 1, 'n_units_l0': 977.1515878736769}.\n",
      "/home/honda/anaconda3/lib/python3.6/site-packages/sklearn/neural_network/multilayer_perceptron.py:562: ConvergenceWarning: Stochastic Optimizer: Maximum iterations (200) reached and the optimization hasn't converged yet.\n",
      "  % self.max_iter, ConvergenceWarning)\n",
      "/home/honda/anaconda3/lib/python3.6/site-packages/sklearn/neural_network/multilayer_perceptron.py:562: ConvergenceWarning: Stochastic Optimizer: Maximum iterations (200) reached and the optimization hasn't converged yet.\n",
      "  % self.max_iter, ConvergenceWarning)\n",
      "/home/honda/anaconda3/lib/python3.6/site-packages/sklearn/neural_network/multilayer_perceptron.py:562: ConvergenceWarning: Stochastic Optimizer: Maximum iterations (200) reached and the optimization hasn't converged yet.\n",
      "  % self.max_iter, ConvergenceWarning)\n",
      "/home/honda/anaconda3/lib/python3.6/site-packages/sklearn/neural_network/multilayer_perceptron.py:562: ConvergenceWarning: Stochastic Optimizer: Maximum iterations (200) reached and the optimization hasn't converged yet.\n",
      "  % self.max_iter, ConvergenceWarning)\n",
      "[I 2019-03-27 14:23:31,286] Finished a trial resulted in value: 1.9385881191797736. Current best value is 1.346197750418836 with parameters: {'n_layers': 1, 'n_units_l0': 977.1515878736769}.\n",
      "/home/honda/anaconda3/lib/python3.6/site-packages/sklearn/neural_network/multilayer_perceptron.py:562: ConvergenceWarning: Stochastic Optimizer: Maximum iterations (200) reached and the optimization hasn't converged yet.\n",
      "  % self.max_iter, ConvergenceWarning)\n",
      "/home/honda/anaconda3/lib/python3.6/site-packages/sklearn/neural_network/multilayer_perceptron.py:562: ConvergenceWarning: Stochastic Optimizer: Maximum iterations (200) reached and the optimization hasn't converged yet.\n",
      "  % self.max_iter, ConvergenceWarning)\n",
      "/home/honda/anaconda3/lib/python3.6/site-packages/sklearn/neural_network/multilayer_perceptron.py:562: ConvergenceWarning: Stochastic Optimizer: Maximum iterations (200) reached and the optimization hasn't converged yet.\n",
      "  % self.max_iter, ConvergenceWarning)\n",
      "/home/honda/anaconda3/lib/python3.6/site-packages/sklearn/neural_network/multilayer_perceptron.py:562: ConvergenceWarning: Stochastic Optimizer: Maximum iterations (200) reached and the optimization hasn't converged yet.\n",
      "  % self.max_iter, ConvergenceWarning)\n",
      "[I 2019-03-27 14:23:37,767] Finished a trial resulted in value: 1.9446756809520989. Current best value is 1.346197750418836 with parameters: {'n_layers': 1, 'n_units_l0': 977.1515878736769}.\n",
      "[I 2019-03-27 14:24:13,970] Finished a trial resulted in value: 1.4066136292404703. Current best value is 1.346197750418836 with parameters: {'n_layers': 1, 'n_units_l0': 977.1515878736769}.\n",
      "/home/honda/anaconda3/lib/python3.6/site-packages/sklearn/neural_network/multilayer_perceptron.py:562: ConvergenceWarning: Stochastic Optimizer: Maximum iterations (200) reached and the optimization hasn't converged yet.\n",
      "  % self.max_iter, ConvergenceWarning)\n",
      "/home/honda/anaconda3/lib/python3.6/site-packages/sklearn/neural_network/multilayer_perceptron.py:562: ConvergenceWarning: Stochastic Optimizer: Maximum iterations (200) reached and the optimization hasn't converged yet.\n",
      "  % self.max_iter, ConvergenceWarning)\n",
      "/home/honda/anaconda3/lib/python3.6/site-packages/sklearn/neural_network/multilayer_perceptron.py:562: ConvergenceWarning: Stochastic Optimizer: Maximum iterations (200) reached and the optimization hasn't converged yet.\n",
      "  % self.max_iter, ConvergenceWarning)\n",
      "/home/honda/anaconda3/lib/python3.6/site-packages/sklearn/neural_network/multilayer_perceptron.py:562: ConvergenceWarning: Stochastic Optimizer: Maximum iterations (200) reached and the optimization hasn't converged yet.\n",
      "  % self.max_iter, ConvergenceWarning)\n",
      "[I 2019-03-27 14:24:22,235] Finished a trial resulted in value: 1.783872903910035. Current best value is 1.346197750418836 with parameters: {'n_layers': 1, 'n_units_l0': 977.1515878736769}.\n",
      "/home/honda/anaconda3/lib/python3.6/site-packages/sklearn/neural_network/multilayer_perceptron.py:562: ConvergenceWarning: Stochastic Optimizer: Maximum iterations (200) reached and the optimization hasn't converged yet.\n",
      "  % self.max_iter, ConvergenceWarning)\n",
      "/home/honda/anaconda3/lib/python3.6/site-packages/sklearn/neural_network/multilayer_perceptron.py:562: ConvergenceWarning: Stochastic Optimizer: Maximum iterations (200) reached and the optimization hasn't converged yet.\n",
      "  % self.max_iter, ConvergenceWarning)\n",
      "/home/honda/anaconda3/lib/python3.6/site-packages/sklearn/neural_network/multilayer_perceptron.py:562: ConvergenceWarning: Stochastic Optimizer: Maximum iterations (200) reached and the optimization hasn't converged yet.\n",
      "  % self.max_iter, ConvergenceWarning)\n",
      "/home/honda/anaconda3/lib/python3.6/site-packages/sklearn/neural_network/multilayer_perceptron.py:562: ConvergenceWarning: Stochastic Optimizer: Maximum iterations (200) reached and the optimization hasn't converged yet.\n",
      "  % self.max_iter, ConvergenceWarning)\n",
      "[I 2019-03-27 14:24:29,955] Finished a trial resulted in value: 1.6989627080572536. Current best value is 1.346197750418836 with parameters: {'n_layers': 1, 'n_units_l0': 977.1515878736769}.\n",
      "/home/honda/anaconda3/lib/python3.6/site-packages/sklearn/neural_network/multilayer_perceptron.py:562: ConvergenceWarning: Stochastic Optimizer: Maximum iterations (200) reached and the optimization hasn't converged yet.\n",
      "  % self.max_iter, ConvergenceWarning)\n",
      "/home/honda/anaconda3/lib/python3.6/site-packages/sklearn/neural_network/multilayer_perceptron.py:562: ConvergenceWarning: Stochastic Optimizer: Maximum iterations (200) reached and the optimization hasn't converged yet.\n",
      "  % self.max_iter, ConvergenceWarning)\n",
      "/home/honda/anaconda3/lib/python3.6/site-packages/sklearn/neural_network/multilayer_perceptron.py:562: ConvergenceWarning: Stochastic Optimizer: Maximum iterations (200) reached and the optimization hasn't converged yet.\n",
      "  % self.max_iter, ConvergenceWarning)\n",
      "/home/honda/anaconda3/lib/python3.6/site-packages/sklearn/neural_network/multilayer_perceptron.py:562: ConvergenceWarning: Stochastic Optimizer: Maximum iterations (200) reached and the optimization hasn't converged yet.\n",
      "  % self.max_iter, ConvergenceWarning)\n",
      "[I 2019-03-27 14:24:38,353] Finished a trial resulted in value: 2.6163653371279363. Current best value is 1.346197750418836 with parameters: {'n_layers': 1, 'n_units_l0': 977.1515878736769}.\n",
      "[I 2019-03-27 14:24:48,252] Finished a trial resulted in value: 1.1357399039491396. Current best value is 1.1357399039491396 with parameters: {'n_layers': 3, 'n_units_l0': 66.70075836766398, 'n_units_l1': 37.989472413427066, 'n_units_l2': 23.183536069461045}.\n",
      "[I 2019-03-27 14:25:16,404] Finished a trial resulted in value: 1.4135542954700366. Current best value is 1.1357399039491396 with parameters: {'n_layers': 3, 'n_units_l0': 66.70075836766398, 'n_units_l1': 37.989472413427066, 'n_units_l2': 23.183536069461045}.\n",
      "/home/honda/anaconda3/lib/python3.6/site-packages/sklearn/neural_network/multilayer_perceptron.py:562: ConvergenceWarning: Stochastic Optimizer: Maximum iterations (200) reached and the optimization hasn't converged yet.\n",
      "  % self.max_iter, ConvergenceWarning)\n",
      "/home/honda/anaconda3/lib/python3.6/site-packages/sklearn/neural_network/multilayer_perceptron.py:562: ConvergenceWarning: Stochastic Optimizer: Maximum iterations (200) reached and the optimization hasn't converged yet.\n",
      "  % self.max_iter, ConvergenceWarning)\n",
      "/home/honda/anaconda3/lib/python3.6/site-packages/sklearn/neural_network/multilayer_perceptron.py:562: ConvergenceWarning: Stochastic Optimizer: Maximum iterations (200) reached and the optimization hasn't converged yet.\n",
      "  % self.max_iter, ConvergenceWarning)\n",
      "/home/honda/anaconda3/lib/python3.6/site-packages/sklearn/neural_network/multilayer_perceptron.py:562: ConvergenceWarning: Stochastic Optimizer: Maximum iterations (200) reached and the optimization hasn't converged yet.\n",
      "  % self.max_iter, ConvergenceWarning)\n"
     ]
    },
    {
     "name": "stderr",
     "output_type": "stream",
     "text": [
      "[I 2019-03-27 14:25:23,565] Finished a trial resulted in value: 1.9114989664609052. Current best value is 1.1357399039491396 with parameters: {'n_layers': 3, 'n_units_l0': 66.70075836766398, 'n_units_l1': 37.989472413427066, 'n_units_l2': 23.183536069461045}.\n",
      "/home/honda/anaconda3/lib/python3.6/site-packages/sklearn/neural_network/multilayer_perceptron.py:562: ConvergenceWarning: Stochastic Optimizer: Maximum iterations (200) reached and the optimization hasn't converged yet.\n",
      "  % self.max_iter, ConvergenceWarning)\n",
      "/home/honda/anaconda3/lib/python3.6/site-packages/sklearn/neural_network/multilayer_perceptron.py:562: ConvergenceWarning: Stochastic Optimizer: Maximum iterations (200) reached and the optimization hasn't converged yet.\n",
      "  % self.max_iter, ConvergenceWarning)\n",
      "/home/honda/anaconda3/lib/python3.6/site-packages/sklearn/neural_network/multilayer_perceptron.py:562: ConvergenceWarning: Stochastic Optimizer: Maximum iterations (200) reached and the optimization hasn't converged yet.\n",
      "  % self.max_iter, ConvergenceWarning)\n",
      "/home/honda/anaconda3/lib/python3.6/site-packages/sklearn/neural_network/multilayer_perceptron.py:562: ConvergenceWarning: Stochastic Optimizer: Maximum iterations (200) reached and the optimization hasn't converged yet.\n",
      "  % self.max_iter, ConvergenceWarning)\n",
      "[I 2019-03-27 14:25:32,953] Finished a trial resulted in value: 2.0302117418568493. Current best value is 1.1357399039491396 with parameters: {'n_layers': 3, 'n_units_l0': 66.70075836766398, 'n_units_l1': 37.989472413427066, 'n_units_l2': 23.183536069461045}.\n",
      "[I 2019-03-27 14:25:51,230] Finished a trial resulted in value: 1.4275683244326607. Current best value is 1.1357399039491396 with parameters: {'n_layers': 3, 'n_units_l0': 66.70075836766398, 'n_units_l1': 37.989472413427066, 'n_units_l2': 23.183536069461045}.\n",
      "/home/honda/anaconda3/lib/python3.6/site-packages/sklearn/neural_network/multilayer_perceptron.py:562: ConvergenceWarning: Stochastic Optimizer: Maximum iterations (200) reached and the optimization hasn't converged yet.\n",
      "  % self.max_iter, ConvergenceWarning)\n",
      "/home/honda/anaconda3/lib/python3.6/site-packages/sklearn/neural_network/multilayer_perceptron.py:562: ConvergenceWarning: Stochastic Optimizer: Maximum iterations (200) reached and the optimization hasn't converged yet.\n",
      "  % self.max_iter, ConvergenceWarning)\n",
      "/home/honda/anaconda3/lib/python3.6/site-packages/sklearn/neural_network/multilayer_perceptron.py:562: ConvergenceWarning: Stochastic Optimizer: Maximum iterations (200) reached and the optimization hasn't converged yet.\n",
      "  % self.max_iter, ConvergenceWarning)\n",
      "/home/honda/anaconda3/lib/python3.6/site-packages/sklearn/neural_network/multilayer_perceptron.py:562: ConvergenceWarning: Stochastic Optimizer: Maximum iterations (200) reached and the optimization hasn't converged yet.\n",
      "  % self.max_iter, ConvergenceWarning)\n",
      "[I 2019-03-27 14:26:09,705] Finished a trial resulted in value: 5.441673796754298. Current best value is 1.1357399039491396 with parameters: {'n_layers': 3, 'n_units_l0': 66.70075836766398, 'n_units_l1': 37.989472413427066, 'n_units_l2': 23.183536069461045}.\n",
      "/home/honda/anaconda3/lib/python3.6/site-packages/sklearn/neural_network/multilayer_perceptron.py:562: ConvergenceWarning: Stochastic Optimizer: Maximum iterations (200) reached and the optimization hasn't converged yet.\n",
      "  % self.max_iter, ConvergenceWarning)\n",
      "/home/honda/anaconda3/lib/python3.6/site-packages/sklearn/neural_network/multilayer_perceptron.py:562: ConvergenceWarning: Stochastic Optimizer: Maximum iterations (200) reached and the optimization hasn't converged yet.\n",
      "  % self.max_iter, ConvergenceWarning)\n",
      "/home/honda/anaconda3/lib/python3.6/site-packages/sklearn/neural_network/multilayer_perceptron.py:562: ConvergenceWarning: Stochastic Optimizer: Maximum iterations (200) reached and the optimization hasn't converged yet.\n",
      "  % self.max_iter, ConvergenceWarning)\n",
      "/home/honda/anaconda3/lib/python3.6/site-packages/sklearn/neural_network/multilayer_perceptron.py:562: ConvergenceWarning: Stochastic Optimizer: Maximum iterations (200) reached and the optimization hasn't converged yet.\n",
      "  % self.max_iter, ConvergenceWarning)\n",
      "[I 2019-03-27 14:26:19,394] Finished a trial resulted in value: 1.8821586874915042. Current best value is 1.1357399039491396 with parameters: {'n_layers': 3, 'n_units_l0': 66.70075836766398, 'n_units_l1': 37.989472413427066, 'n_units_l2': 23.183536069461045}.\n",
      "/home/honda/anaconda3/lib/python3.6/site-packages/sklearn/neural_network/multilayer_perceptron.py:562: ConvergenceWarning: Stochastic Optimizer: Maximum iterations (200) reached and the optimization hasn't converged yet.\n",
      "  % self.max_iter, ConvergenceWarning)\n",
      "/home/honda/anaconda3/lib/python3.6/site-packages/sklearn/neural_network/multilayer_perceptron.py:562: ConvergenceWarning: Stochastic Optimizer: Maximum iterations (200) reached and the optimization hasn't converged yet.\n",
      "  % self.max_iter, ConvergenceWarning)\n",
      "/home/honda/anaconda3/lib/python3.6/site-packages/sklearn/neural_network/multilayer_perceptron.py:562: ConvergenceWarning: Stochastic Optimizer: Maximum iterations (200) reached and the optimization hasn't converged yet.\n",
      "  % self.max_iter, ConvergenceWarning)\n",
      "/home/honda/anaconda3/lib/python3.6/site-packages/sklearn/neural_network/multilayer_perceptron.py:562: ConvergenceWarning: Stochastic Optimizer: Maximum iterations (200) reached and the optimization hasn't converged yet.\n",
      "  % self.max_iter, ConvergenceWarning)\n",
      "[I 2019-03-27 14:26:38,767] Finished a trial resulted in value: 2.096056735520447. Current best value is 1.1357399039491396 with parameters: {'n_layers': 3, 'n_units_l0': 66.70075836766398, 'n_units_l1': 37.989472413427066, 'n_units_l2': 23.183536069461045}.\n",
      "/home/honda/anaconda3/lib/python3.6/site-packages/sklearn/neural_network/multilayer_perceptron.py:562: ConvergenceWarning: Stochastic Optimizer: Maximum iterations (200) reached and the optimization hasn't converged yet.\n",
      "  % self.max_iter, ConvergenceWarning)\n",
      "/home/honda/anaconda3/lib/python3.6/site-packages/sklearn/neural_network/multilayer_perceptron.py:562: ConvergenceWarning: Stochastic Optimizer: Maximum iterations (200) reached and the optimization hasn't converged yet.\n",
      "  % self.max_iter, ConvergenceWarning)\n",
      "/home/honda/anaconda3/lib/python3.6/site-packages/sklearn/neural_network/multilayer_perceptron.py:562: ConvergenceWarning: Stochastic Optimizer: Maximum iterations (200) reached and the optimization hasn't converged yet.\n",
      "  % self.max_iter, ConvergenceWarning)\n",
      "[I 2019-03-27 14:26:53,981] Finished a trial resulted in value: 1.704388782393735. Current best value is 1.1357399039491396 with parameters: {'n_layers': 3, 'n_units_l0': 66.70075836766398, 'n_units_l1': 37.989472413427066, 'n_units_l2': 23.183536069461045}.\n",
      "[I 2019-03-27 14:28:23,460] Finished a trial resulted in value: 1.4358412012846682. Current best value is 1.1357399039491396 with parameters: {'n_layers': 3, 'n_units_l0': 66.70075836766398, 'n_units_l1': 37.989472413427066, 'n_units_l2': 23.183536069461045}.\n",
      "[I 2019-03-27 14:29:21,193] Finished a trial resulted in value: 1.4788509608163867. Current best value is 1.1357399039491396 with parameters: {'n_layers': 3, 'n_units_l0': 66.70075836766398, 'n_units_l1': 37.989472413427066, 'n_units_l2': 23.183536069461045}.\n",
      "[I 2019-03-27 14:29:58,318] Finished a trial resulted in value: 1.1852956115160769. Current best value is 1.1357399039491396 with parameters: {'n_layers': 3, 'n_units_l0': 66.70075836766398, 'n_units_l1': 37.989472413427066, 'n_units_l2': 23.183536069461045}.\n",
      "[I 2019-03-27 14:30:12,177] Finished a trial resulted in value: 1.3380698185160913. Current best value is 1.1357399039491396 with parameters: {'n_layers': 3, 'n_units_l0': 66.70075836766398, 'n_units_l1': 37.989472413427066, 'n_units_l2': 23.183536069461045}.\n",
      "[I 2019-03-27 14:30:28,065] Finished a trial resulted in value: 1.394448235160492. Current best value is 1.1357399039491396 with parameters: {'n_layers': 3, 'n_units_l0': 66.70075836766398, 'n_units_l1': 37.989472413427066, 'n_units_l2': 23.183536069461045}.\n",
      "/home/honda/anaconda3/lib/python3.6/site-packages/sklearn/neural_network/multilayer_perceptron.py:562: ConvergenceWarning: Stochastic Optimizer: Maximum iterations (200) reached and the optimization hasn't converged yet.\n",
      "  % self.max_iter, ConvergenceWarning)\n"
     ]
    },
    {
     "name": "stderr",
     "output_type": "stream",
     "text": [
      "/home/honda/anaconda3/lib/python3.6/site-packages/sklearn/neural_network/multilayer_perceptron.py:562: ConvergenceWarning: Stochastic Optimizer: Maximum iterations (200) reached and the optimization hasn't converged yet.\n",
      "  % self.max_iter, ConvergenceWarning)\n",
      "[I 2019-03-27 14:30:36,605] Finished a trial resulted in value: 1.6438376805256016. Current best value is 1.1357399039491396 with parameters: {'n_layers': 3, 'n_units_l0': 66.70075836766398, 'n_units_l1': 37.989472413427066, 'n_units_l2': 23.183536069461045}.\n",
      "[I 2019-03-27 14:30:48,394] Finished a trial resulted in value: 1.3098928037243194. Current best value is 1.1357399039491396 with parameters: {'n_layers': 3, 'n_units_l0': 66.70075836766398, 'n_units_l1': 37.989472413427066, 'n_units_l2': 23.183536069461045}.\n",
      "[I 2019-03-27 14:31:05,793] Finished a trial resulted in value: 1.2534836699878529. Current best value is 1.1357399039491396 with parameters: {'n_layers': 3, 'n_units_l0': 66.70075836766398, 'n_units_l1': 37.989472413427066, 'n_units_l2': 23.183536069461045}.\n",
      "[I 2019-03-27 14:31:29,043] Finished a trial resulted in value: 1.353609052767649. Current best value is 1.1357399039491396 with parameters: {'n_layers': 3, 'n_units_l0': 66.70075836766398, 'n_units_l1': 37.989472413427066, 'n_units_l2': 23.183536069461045}.\n",
      "[I 2019-03-27 14:31:43,459] Finished a trial resulted in value: 1.338662075336071. Current best value is 1.1357399039491396 with parameters: {'n_layers': 3, 'n_units_l0': 66.70075836766398, 'n_units_l1': 37.989472413427066, 'n_units_l2': 23.183536069461045}.\n",
      "/home/honda/anaconda3/lib/python3.6/site-packages/sklearn/neural_network/multilayer_perceptron.py:562: ConvergenceWarning: Stochastic Optimizer: Maximum iterations (200) reached and the optimization hasn't converged yet.\n",
      "  % self.max_iter, ConvergenceWarning)\n",
      "[I 2019-03-27 14:32:01,553] Finished a trial resulted in value: 1.8127137122175352. Current best value is 1.1357399039491396 with parameters: {'n_layers': 3, 'n_units_l0': 66.70075836766398, 'n_units_l1': 37.989472413427066, 'n_units_l2': 23.183536069461045}.\n",
      "/home/honda/anaconda3/lib/python3.6/site-packages/sklearn/neural_network/multilayer_perceptron.py:562: ConvergenceWarning: Stochastic Optimizer: Maximum iterations (200) reached and the optimization hasn't converged yet.\n",
      "  % self.max_iter, ConvergenceWarning)\n",
      "/home/honda/anaconda3/lib/python3.6/site-packages/sklearn/neural_network/multilayer_perceptron.py:562: ConvergenceWarning: Stochastic Optimizer: Maximum iterations (200) reached and the optimization hasn't converged yet.\n",
      "  % self.max_iter, ConvergenceWarning)\n",
      "[I 2019-03-27 14:32:16,558] Finished a trial resulted in value: 2.2348661832085694. Current best value is 1.1357399039491396 with parameters: {'n_layers': 3, 'n_units_l0': 66.70075836766398, 'n_units_l1': 37.989472413427066, 'n_units_l2': 23.183536069461045}.\n",
      "[I 2019-03-27 14:32:56,825] Finished a trial resulted in value: 1.3918695493883826. Current best value is 1.1357399039491396 with parameters: {'n_layers': 3, 'n_units_l0': 66.70075836766398, 'n_units_l1': 37.989472413427066, 'n_units_l2': 23.183536069461045}.\n",
      "[I 2019-03-27 14:33:44,066] Finished a trial resulted in value: 1.3845840842043298. Current best value is 1.1357399039491396 with parameters: {'n_layers': 3, 'n_units_l0': 66.70075836766398, 'n_units_l1': 37.989472413427066, 'n_units_l2': 23.183536069461045}.\n",
      "[I 2019-03-27 14:33:56,690] Finished a trial resulted in value: 1.3818199752508002. Current best value is 1.1357399039491396 with parameters: {'n_layers': 3, 'n_units_l0': 66.70075836766398, 'n_units_l1': 37.989472413427066, 'n_units_l2': 23.183536069461045}.\n",
      "[I 2019-03-27 14:34:12,850] Finished a trial resulted in value: 1.510403213172518. Current best value is 1.1357399039491396 with parameters: {'n_layers': 3, 'n_units_l0': 66.70075836766398, 'n_units_l1': 37.989472413427066, 'n_units_l2': 23.183536069461045}.\n",
      "/home/honda/anaconda3/lib/python3.6/site-packages/sklearn/neural_network/multilayer_perceptron.py:562: ConvergenceWarning: Stochastic Optimizer: Maximum iterations (200) reached and the optimization hasn't converged yet.\n",
      "  % self.max_iter, ConvergenceWarning)\n",
      "/home/honda/anaconda3/lib/python3.6/site-packages/sklearn/neural_network/multilayer_perceptron.py:562: ConvergenceWarning: Stochastic Optimizer: Maximum iterations (200) reached and the optimization hasn't converged yet.\n",
      "  % self.max_iter, ConvergenceWarning)\n",
      "/home/honda/anaconda3/lib/python3.6/site-packages/sklearn/neural_network/multilayer_perceptron.py:562: ConvergenceWarning: Stochastic Optimizer: Maximum iterations (200) reached and the optimization hasn't converged yet.\n",
      "  % self.max_iter, ConvergenceWarning)\n",
      "/home/honda/anaconda3/lib/python3.6/site-packages/sklearn/neural_network/multilayer_perceptron.py:562: ConvergenceWarning: Stochastic Optimizer: Maximum iterations (200) reached and the optimization hasn't converged yet.\n",
      "  % self.max_iter, ConvergenceWarning)\n",
      "[I 2019-03-27 14:34:20,127] Finished a trial resulted in value: 3.343722985495286. Current best value is 1.1357399039491396 with parameters: {'n_layers': 3, 'n_units_l0': 66.70075836766398, 'n_units_l1': 37.989472413427066, 'n_units_l2': 23.183536069461045}.\n",
      "[I 2019-03-27 14:35:00,708] Finished a trial resulted in value: 1.1387173928302754. Current best value is 1.1357399039491396 with parameters: {'n_layers': 3, 'n_units_l0': 66.70075836766398, 'n_units_l1': 37.989472413427066, 'n_units_l2': 23.183536069461045}.\n",
      "[I 2019-03-27 14:35:49,285] Finished a trial resulted in value: 1.534810197536451. Current best value is 1.1357399039491396 with parameters: {'n_layers': 3, 'n_units_l0': 66.70075836766398, 'n_units_l1': 37.989472413427066, 'n_units_l2': 23.183536069461045}.\n",
      "[I 2019-03-27 14:36:44,280] Finished a trial resulted in value: 1.2581257214431623. Current best value is 1.1357399039491396 with parameters: {'n_layers': 3, 'n_units_l0': 66.70075836766398, 'n_units_l1': 37.989472413427066, 'n_units_l2': 23.183536069461045}.\n",
      "[I 2019-03-27 14:37:15,499] Finished a trial resulted in value: 1.3430319468929697. Current best value is 1.1357399039491396 with parameters: {'n_layers': 3, 'n_units_l0': 66.70075836766398, 'n_units_l1': 37.989472413427066, 'n_units_l2': 23.183536069461045}.\n",
      "[I 2019-03-27 14:37:50,062] Finished a trial resulted in value: 1.3513821755499382. Current best value is 1.1357399039491396 with parameters: {'n_layers': 3, 'n_units_l0': 66.70075836766398, 'n_units_l1': 37.989472413427066, 'n_units_l2': 23.183536069461045}.\n",
      "/home/honda/anaconda3/lib/python3.6/site-packages/sklearn/neural_network/multilayer_perceptron.py:562: ConvergenceWarning: Stochastic Optimizer: Maximum iterations (200) reached and the optimization hasn't converged yet.\n",
      "  % self.max_iter, ConvergenceWarning)\n",
      "[I 2019-03-27 14:37:59,362] Finished a trial resulted in value: 1.8328399059720624. Current best value is 1.1357399039491396 with parameters: {'n_layers': 3, 'n_units_l0': 66.70075836766398, 'n_units_l1': 37.989472413427066, 'n_units_l2': 23.183536069461045}.\n",
      "[I 2019-03-27 14:38:28,066] Finished a trial resulted in value: 1.4779463728767006. Current best value is 1.1357399039491396 with parameters: {'n_layers': 3, 'n_units_l0': 66.70075836766398, 'n_units_l1': 37.989472413427066, 'n_units_l2': 23.183536069461045}.\n",
      "/home/honda/anaconda3/lib/python3.6/site-packages/sklearn/neural_network/multilayer_perceptron.py:562: ConvergenceWarning: Stochastic Optimizer: Maximum iterations (200) reached and the optimization hasn't converged yet.\n",
      "  % self.max_iter, ConvergenceWarning)\n",
      "[I 2019-03-27 14:38:41,412] Finished a trial resulted in value: 1.644930419529992. Current best value is 1.1357399039491396 with parameters: {'n_layers': 3, 'n_units_l0': 66.70075836766398, 'n_units_l1': 37.989472413427066, 'n_units_l2': 23.183536069461045}.\n",
      "/home/honda/anaconda3/lib/python3.6/site-packages/sklearn/neural_network/multilayer_perceptron.py:562: ConvergenceWarning: Stochastic Optimizer: Maximum iterations (200) reached and the optimization hasn't converged yet.\n",
      "  % self.max_iter, ConvergenceWarning)\n",
      "/home/honda/anaconda3/lib/python3.6/site-packages/sklearn/neural_network/multilayer_perceptron.py:562: ConvergenceWarning: Stochastic Optimizer: Maximum iterations (200) reached and the optimization hasn't converged yet.\n",
      "  % self.max_iter, ConvergenceWarning)\n"
     ]
    },
    {
     "name": "stderr",
     "output_type": "stream",
     "text": [
      "/home/honda/anaconda3/lib/python3.6/site-packages/sklearn/neural_network/multilayer_perceptron.py:562: ConvergenceWarning: Stochastic Optimizer: Maximum iterations (200) reached and the optimization hasn't converged yet.\n",
      "  % self.max_iter, ConvergenceWarning)\n",
      "/home/honda/anaconda3/lib/python3.6/site-packages/sklearn/neural_network/multilayer_perceptron.py:562: ConvergenceWarning: Stochastic Optimizer: Maximum iterations (200) reached and the optimization hasn't converged yet.\n",
      "  % self.max_iter, ConvergenceWarning)\n",
      "[I 2019-03-27 14:38:50,959] Finished a trial resulted in value: 1.5392989913051345. Current best value is 1.1357399039491396 with parameters: {'n_layers': 3, 'n_units_l0': 66.70075836766398, 'n_units_l1': 37.989472413427066, 'n_units_l2': 23.183536069461045}.\n",
      "/home/honda/anaconda3/lib/python3.6/site-packages/sklearn/neural_network/multilayer_perceptron.py:562: ConvergenceWarning: Stochastic Optimizer: Maximum iterations (200) reached and the optimization hasn't converged yet.\n",
      "  % self.max_iter, ConvergenceWarning)\n",
      "/home/honda/anaconda3/lib/python3.6/site-packages/sklearn/neural_network/multilayer_perceptron.py:562: ConvergenceWarning: Stochastic Optimizer: Maximum iterations (200) reached and the optimization hasn't converged yet.\n",
      "  % self.max_iter, ConvergenceWarning)\n",
      "/home/honda/anaconda3/lib/python3.6/site-packages/sklearn/neural_network/multilayer_perceptron.py:562: ConvergenceWarning: Stochastic Optimizer: Maximum iterations (200) reached and the optimization hasn't converged yet.\n",
      "  % self.max_iter, ConvergenceWarning)\n",
      "/home/honda/anaconda3/lib/python3.6/site-packages/sklearn/neural_network/multilayer_perceptron.py:562: ConvergenceWarning: Stochastic Optimizer: Maximum iterations (200) reached and the optimization hasn't converged yet.\n",
      "  % self.max_iter, ConvergenceWarning)\n",
      "[I 2019-03-27 14:38:57,276] Finished a trial resulted in value: 2.0222334073063215. Current best value is 1.1357399039491396 with parameters: {'n_layers': 3, 'n_units_l0': 66.70075836766398, 'n_units_l1': 37.989472413427066, 'n_units_l2': 23.183536069461045}.\n",
      "/home/honda/anaconda3/lib/python3.6/site-packages/sklearn/neural_network/multilayer_perceptron.py:562: ConvergenceWarning: Stochastic Optimizer: Maximum iterations (200) reached and the optimization hasn't converged yet.\n",
      "  % self.max_iter, ConvergenceWarning)\n",
      "/home/honda/anaconda3/lib/python3.6/site-packages/sklearn/neural_network/multilayer_perceptron.py:562: ConvergenceWarning: Stochastic Optimizer: Maximum iterations (200) reached and the optimization hasn't converged yet.\n",
      "  % self.max_iter, ConvergenceWarning)\n",
      "[I 2019-03-27 14:39:14,581] Finished a trial resulted in value: 1.4861551515859408. Current best value is 1.1357399039491396 with parameters: {'n_layers': 3, 'n_units_l0': 66.70075836766398, 'n_units_l1': 37.989472413427066, 'n_units_l2': 23.183536069461045}.\n",
      "/home/honda/anaconda3/lib/python3.6/site-packages/sklearn/neural_network/multilayer_perceptron.py:562: ConvergenceWarning: Stochastic Optimizer: Maximum iterations (200) reached and the optimization hasn't converged yet.\n",
      "  % self.max_iter, ConvergenceWarning)\n",
      "[I 2019-03-27 14:39:22,665] Finished a trial resulted in value: 1.5451136058017227. Current best value is 1.1357399039491396 with parameters: {'n_layers': 3, 'n_units_l0': 66.70075836766398, 'n_units_l1': 37.989472413427066, 'n_units_l2': 23.183536069461045}.\n",
      "/home/honda/anaconda3/lib/python3.6/site-packages/sklearn/neural_network/multilayer_perceptron.py:562: ConvergenceWarning: Stochastic Optimizer: Maximum iterations (200) reached and the optimization hasn't converged yet.\n",
      "  % self.max_iter, ConvergenceWarning)\n",
      "/home/honda/anaconda3/lib/python3.6/site-packages/sklearn/neural_network/multilayer_perceptron.py:562: ConvergenceWarning: Stochastic Optimizer: Maximum iterations (200) reached and the optimization hasn't converged yet.\n",
      "  % self.max_iter, ConvergenceWarning)\n",
      "/home/honda/anaconda3/lib/python3.6/site-packages/sklearn/neural_network/multilayer_perceptron.py:562: ConvergenceWarning: Stochastic Optimizer: Maximum iterations (200) reached and the optimization hasn't converged yet.\n",
      "  % self.max_iter, ConvergenceWarning)\n",
      "/home/honda/anaconda3/lib/python3.6/site-packages/sklearn/neural_network/multilayer_perceptron.py:562: ConvergenceWarning: Stochastic Optimizer: Maximum iterations (200) reached and the optimization hasn't converged yet.\n",
      "  % self.max_iter, ConvergenceWarning)\n",
      "[I 2019-03-27 14:39:28,368] Finished a trial resulted in value: 1.761974912789641. Current best value is 1.1357399039491396 with parameters: {'n_layers': 3, 'n_units_l0': 66.70075836766398, 'n_units_l1': 37.989472413427066, 'n_units_l2': 23.183536069461045}.\n",
      "[I 2019-03-27 14:40:33,122] Finished a trial resulted in value: 1.2618429333240082. Current best value is 1.1357399039491396 with parameters: {'n_layers': 3, 'n_units_l0': 66.70075836766398, 'n_units_l1': 37.989472413427066, 'n_units_l2': 23.183536069461045}.\n",
      "/home/honda/anaconda3/lib/python3.6/site-packages/sklearn/neural_network/multilayer_perceptron.py:562: ConvergenceWarning: Stochastic Optimizer: Maximum iterations (200) reached and the optimization hasn't converged yet.\n",
      "  % self.max_iter, ConvergenceWarning)\n",
      "/home/honda/anaconda3/lib/python3.6/site-packages/sklearn/neural_network/multilayer_perceptron.py:562: ConvergenceWarning: Stochastic Optimizer: Maximum iterations (200) reached and the optimization hasn't converged yet.\n",
      "  % self.max_iter, ConvergenceWarning)\n",
      "/home/honda/anaconda3/lib/python3.6/site-packages/sklearn/neural_network/multilayer_perceptron.py:562: ConvergenceWarning: Stochastic Optimizer: Maximum iterations (200) reached and the optimization hasn't converged yet.\n",
      "  % self.max_iter, ConvergenceWarning)\n",
      "/home/honda/anaconda3/lib/python3.6/site-packages/sklearn/neural_network/multilayer_perceptron.py:562: ConvergenceWarning: Stochastic Optimizer: Maximum iterations (200) reached and the optimization hasn't converged yet.\n",
      "  % self.max_iter, ConvergenceWarning)\n",
      "[I 2019-03-27 14:41:04,852] Finished a trial resulted in value: 1.9343628011686742. Current best value is 1.1357399039491396 with parameters: {'n_layers': 3, 'n_units_l0': 66.70075836766398, 'n_units_l1': 37.989472413427066, 'n_units_l2': 23.183536069461045}.\n",
      "[I 2019-03-27 14:41:40,617] Finished a trial resulted in value: 1.26064041048453. Current best value is 1.1357399039491396 with parameters: {'n_layers': 3, 'n_units_l0': 66.70075836766398, 'n_units_l1': 37.989472413427066, 'n_units_l2': 23.183536069461045}.\n",
      "[I 2019-03-27 14:41:52,294] Finished a trial resulted in value: 1.411833226782143. Current best value is 1.1357399039491396 with parameters: {'n_layers': 3, 'n_units_l0': 66.70075836766398, 'n_units_l1': 37.989472413427066, 'n_units_l2': 23.183536069461045}.\n",
      "[I 2019-03-27 14:42:30,014] Finished a trial resulted in value: 1.281748197137134. Current best value is 1.1357399039491396 with parameters: {'n_layers': 3, 'n_units_l0': 66.70075836766398, 'n_units_l1': 37.989472413427066, 'n_units_l2': 23.183536069461045}.\n",
      "/home/honda/anaconda3/lib/python3.6/site-packages/sklearn/neural_network/multilayer_perceptron.py:562: ConvergenceWarning: Stochastic Optimizer: Maximum iterations (200) reached and the optimization hasn't converged yet.\n",
      "  % self.max_iter, ConvergenceWarning)\n",
      "/home/honda/anaconda3/lib/python3.6/site-packages/sklearn/neural_network/multilayer_perceptron.py:562: ConvergenceWarning: Stochastic Optimizer: Maximum iterations (200) reached and the optimization hasn't converged yet.\n",
      "  % self.max_iter, ConvergenceWarning)\n",
      "/home/honda/anaconda3/lib/python3.6/site-packages/sklearn/neural_network/multilayer_perceptron.py:562: ConvergenceWarning: Stochastic Optimizer: Maximum iterations (200) reached and the optimization hasn't converged yet.\n",
      "  % self.max_iter, ConvergenceWarning)\n",
      "/home/honda/anaconda3/lib/python3.6/site-packages/sklearn/neural_network/multilayer_perceptron.py:562: ConvergenceWarning: Stochastic Optimizer: Maximum iterations (200) reached and the optimization hasn't converged yet.\n",
      "  % self.max_iter, ConvergenceWarning)\n",
      "[I 2019-03-27 14:42:39,807] Finished a trial resulted in value: 1.7447228253878415. Current best value is 1.1357399039491396 with parameters: {'n_layers': 3, 'n_units_l0': 66.70075836766398, 'n_units_l1': 37.989472413427066, 'n_units_l2': 23.183536069461045}.\n",
      "/home/honda/anaconda3/lib/python3.6/site-packages/sklearn/neural_network/multilayer_perceptron.py:562: ConvergenceWarning: Stochastic Optimizer: Maximum iterations (200) reached and the optimization hasn't converged yet.\n",
      "  % self.max_iter, ConvergenceWarning)\n",
      "/home/honda/anaconda3/lib/python3.6/site-packages/sklearn/neural_network/multilayer_perceptron.py:562: ConvergenceWarning: Stochastic Optimizer: Maximum iterations (200) reached and the optimization hasn't converged yet.\n",
      "  % self.max_iter, ConvergenceWarning)\n",
      "[I 2019-03-27 14:42:51,264] Finished a trial resulted in value: 1.501551036539162. Current best value is 1.1357399039491396 with parameters: {'n_layers': 3, 'n_units_l0': 66.70075836766398, 'n_units_l1': 37.989472413427066, 'n_units_l2': 23.183536069461045}.\n",
      "[I 2019-03-27 14:44:00,925] Finished a trial resulted in value: 1.3875578184166257. Current best value is 1.1357399039491396 with parameters: {'n_layers': 3, 'n_units_l0': 66.70075836766398, 'n_units_l1': 37.989472413427066, 'n_units_l2': 23.183536069461045}.\n",
      "/home/honda/anaconda3/lib/python3.6/site-packages/sklearn/neural_network/multilayer_perceptron.py:562: ConvergenceWarning: Stochastic Optimizer: Maximum iterations (200) reached and the optimization hasn't converged yet.\n",
      "  % self.max_iter, ConvergenceWarning)\n",
      "/home/honda/anaconda3/lib/python3.6/site-packages/sklearn/neural_network/multilayer_perceptron.py:562: ConvergenceWarning: Stochastic Optimizer: Maximum iterations (200) reached and the optimization hasn't converged yet.\n",
      "  % self.max_iter, ConvergenceWarning)\n",
      "[I 2019-03-27 14:44:10,012] Finished a trial resulted in value: 1.491854220088877. Current best value is 1.1357399039491396 with parameters: {'n_layers': 3, 'n_units_l0': 66.70075836766398, 'n_units_l1': 37.989472413427066, 'n_units_l2': 23.183536069461045}.\n",
      "/home/honda/anaconda3/lib/python3.6/site-packages/sklearn/neural_network/multilayer_perceptron.py:562: ConvergenceWarning: Stochastic Optimizer: Maximum iterations (200) reached and the optimization hasn't converged yet.\n",
      "  % self.max_iter, ConvergenceWarning)\n",
      "/home/honda/anaconda3/lib/python3.6/site-packages/sklearn/neural_network/multilayer_perceptron.py:562: ConvergenceWarning: Stochastic Optimizer: Maximum iterations (200) reached and the optimization hasn't converged yet.\n",
      "  % self.max_iter, ConvergenceWarning)\n",
      "/home/honda/anaconda3/lib/python3.6/site-packages/sklearn/neural_network/multilayer_perceptron.py:562: ConvergenceWarning: Stochastic Optimizer: Maximum iterations (200) reached and the optimization hasn't converged yet.\n",
      "  % self.max_iter, ConvergenceWarning)\n",
      "/home/honda/anaconda3/lib/python3.6/site-packages/sklearn/neural_network/multilayer_perceptron.py:562: ConvergenceWarning: Stochastic Optimizer: Maximum iterations (200) reached and the optimization hasn't converged yet.\n",
      "  % self.max_iter, ConvergenceWarning)\n",
      "[I 2019-03-27 14:44:15,294] Finished a trial resulted in value: 11.062232235398083. Current best value is 1.1357399039491396 with parameters: {'n_layers': 3, 'n_units_l0': 66.70075836766398, 'n_units_l1': 37.989472413427066, 'n_units_l2': 23.183536069461045}.\n",
      "/home/honda/anaconda3/lib/python3.6/site-packages/sklearn/neural_network/multilayer_perceptron.py:562: ConvergenceWarning: Stochastic Optimizer: Maximum iterations (200) reached and the optimization hasn't converged yet.\n",
      "  % self.max_iter, ConvergenceWarning)\n",
      "/home/honda/anaconda3/lib/python3.6/site-packages/sklearn/neural_network/multilayer_perceptron.py:562: ConvergenceWarning: Stochastic Optimizer: Maximum iterations (200) reached and the optimization hasn't converged yet.\n",
      "  % self.max_iter, ConvergenceWarning)\n",
      "/home/honda/anaconda3/lib/python3.6/site-packages/sklearn/neural_network/multilayer_perceptron.py:562: ConvergenceWarning: Stochastic Optimizer: Maximum iterations (200) reached and the optimization hasn't converged yet.\n",
      "  % self.max_iter, ConvergenceWarning)\n",
      "/home/honda/anaconda3/lib/python3.6/site-packages/sklearn/neural_network/multilayer_perceptron.py:562: ConvergenceWarning: Stochastic Optimizer: Maximum iterations (200) reached and the optimization hasn't converged yet.\n",
      "  % self.max_iter, ConvergenceWarning)\n",
      "[I 2019-03-27 14:44:22,309] Finished a trial resulted in value: 4.742326549126083. Current best value is 1.1357399039491396 with parameters: {'n_layers': 3, 'n_units_l0': 66.70075836766398, 'n_units_l1': 37.989472413427066, 'n_units_l2': 23.183536069461045}.\n",
      "/home/honda/anaconda3/lib/python3.6/site-packages/sklearn/neural_network/multilayer_perceptron.py:562: ConvergenceWarning: Stochastic Optimizer: Maximum iterations (200) reached and the optimization hasn't converged yet.\n",
      "  % self.max_iter, ConvergenceWarning)\n",
      "[I 2019-03-27 14:44:58,895] Finished a trial resulted in value: 1.6823683609370441. Current best value is 1.1357399039491396 with parameters: {'n_layers': 3, 'n_units_l0': 66.70075836766398, 'n_units_l1': 37.989472413427066, 'n_units_l2': 23.183536069461045}.\n",
      "/home/honda/anaconda3/lib/python3.6/site-packages/sklearn/neural_network/multilayer_perceptron.py:562: ConvergenceWarning: Stochastic Optimizer: Maximum iterations (200) reached and the optimization hasn't converged yet.\n",
      "  % self.max_iter, ConvergenceWarning)\n",
      "/home/honda/anaconda3/lib/python3.6/site-packages/sklearn/neural_network/multilayer_perceptron.py:562: ConvergenceWarning: Stochastic Optimizer: Maximum iterations (200) reached and the optimization hasn't converged yet.\n",
      "  % self.max_iter, ConvergenceWarning)\n",
      "/home/honda/anaconda3/lib/python3.6/site-packages/sklearn/neural_network/multilayer_perceptron.py:562: ConvergenceWarning: Stochastic Optimizer: Maximum iterations (200) reached and the optimization hasn't converged yet.\n",
      "  % self.max_iter, ConvergenceWarning)\n",
      "/home/honda/anaconda3/lib/python3.6/site-packages/sklearn/neural_network/multilayer_perceptron.py:562: ConvergenceWarning: Stochastic Optimizer: Maximum iterations (200) reached and the optimization hasn't converged yet.\n",
      "  % self.max_iter, ConvergenceWarning)\n",
      "[I 2019-03-27 14:45:05,663] Finished a trial resulted in value: 2.2345763047091998. Current best value is 1.1357399039491396 with parameters: {'n_layers': 3, 'n_units_l0': 66.70075836766398, 'n_units_l1': 37.989472413427066, 'n_units_l2': 23.183536069461045}.\n",
      "[I 2019-03-27 14:45:22,136] Finished a trial resulted in value: 1.2443616687503392. Current best value is 1.1357399039491396 with parameters: {'n_layers': 3, 'n_units_l0': 66.70075836766398, 'n_units_l1': 37.989472413427066, 'n_units_l2': 23.183536069461045}.\n",
      "[I 2019-03-27 14:45:38,033] Finished a trial resulted in value: 1.4093831736336346. Current best value is 1.1357399039491396 with parameters: {'n_layers': 3, 'n_units_l0': 66.70075836766398, 'n_units_l1': 37.989472413427066, 'n_units_l2': 23.183536069461045}.\n",
      "[I 2019-03-27 14:46:15,336] Finished a trial resulted in value: 1.325057053602227. Current best value is 1.1357399039491396 with parameters: {'n_layers': 3, 'n_units_l0': 66.70075836766398, 'n_units_l1': 37.989472413427066, 'n_units_l2': 23.183536069461045}.\n",
      "[I 2019-03-27 14:46:30,644] Finished a trial resulted in value: 1.4005503533509236. Current best value is 1.1357399039491396 with parameters: {'n_layers': 3, 'n_units_l0': 66.70075836766398, 'n_units_l1': 37.989472413427066, 'n_units_l2': 23.183536069461045}.\n",
      "[I 2019-03-27 14:46:41,373] Finished a trial resulted in value: 1.31959415344303. Current best value is 1.1357399039491396 with parameters: {'n_layers': 3, 'n_units_l0': 66.70075836766398, 'n_units_l1': 37.989472413427066, 'n_units_l2': 23.183536069461045}.\n",
      "[I 2019-03-27 14:46:57,352] Finished a trial resulted in value: 1.199908084820684. Current best value is 1.1357399039491396 with parameters: {'n_layers': 3, 'n_units_l0': 66.70075836766398, 'n_units_l1': 37.989472413427066, 'n_units_l2': 23.183536069461045}.\n"
     ]
    },
    {
     "name": "stderr",
     "output_type": "stream",
     "text": [
      "[I 2019-03-27 14:47:09,880] Finished a trial resulted in value: 1.4257486402679147. Current best value is 1.1357399039491396 with parameters: {'n_layers': 3, 'n_units_l0': 66.70075836766398, 'n_units_l1': 37.989472413427066, 'n_units_l2': 23.183536069461045}.\n",
      "[I 2019-03-27 14:47:21,137] Finished a trial resulted in value: 1.4600071526309273. Current best value is 1.1357399039491396 with parameters: {'n_layers': 3, 'n_units_l0': 66.70075836766398, 'n_units_l1': 37.989472413427066, 'n_units_l2': 23.183536069461045}.\n",
      "[I 2019-03-27 14:47:57,484] Finished a trial resulted in value: 1.2479667293740362. Current best value is 1.1357399039491396 with parameters: {'n_layers': 3, 'n_units_l0': 66.70075836766398, 'n_units_l1': 37.989472413427066, 'n_units_l2': 23.183536069461045}.\n",
      "[I 2019-03-27 14:48:12,369] Finished a trial resulted in value: 1.2039598123813833. Current best value is 1.1357399039491396 with parameters: {'n_layers': 3, 'n_units_l0': 66.70075836766398, 'n_units_l1': 37.989472413427066, 'n_units_l2': 23.183536069461045}.\n",
      "[I 2019-03-27 14:48:36,280] Finished a trial resulted in value: 1.2332795170748838. Current best value is 1.1357399039491396 with parameters: {'n_layers': 3, 'n_units_l0': 66.70075836766398, 'n_units_l1': 37.989472413427066, 'n_units_l2': 23.183536069461045}.\n",
      "/home/honda/anaconda3/lib/python3.6/site-packages/sklearn/neural_network/multilayer_perceptron.py:562: ConvergenceWarning: Stochastic Optimizer: Maximum iterations (200) reached and the optimization hasn't converged yet.\n",
      "  % self.max_iter, ConvergenceWarning)\n",
      "/home/honda/anaconda3/lib/python3.6/site-packages/sklearn/neural_network/multilayer_perceptron.py:562: ConvergenceWarning: Stochastic Optimizer: Maximum iterations (200) reached and the optimization hasn't converged yet.\n",
      "  % self.max_iter, ConvergenceWarning)\n",
      "/home/honda/anaconda3/lib/python3.6/site-packages/sklearn/neural_network/multilayer_perceptron.py:562: ConvergenceWarning: Stochastic Optimizer: Maximum iterations (200) reached and the optimization hasn't converged yet.\n",
      "  % self.max_iter, ConvergenceWarning)\n",
      "[I 2019-03-27 14:48:59,115] Finished a trial resulted in value: 1.7321153003011718. Current best value is 1.1357399039491396 with parameters: {'n_layers': 3, 'n_units_l0': 66.70075836766398, 'n_units_l1': 37.989472413427066, 'n_units_l2': 23.183536069461045}.\n",
      "[I 2019-03-27 14:49:14,299] Finished a trial resulted in value: 1.435983288416782. Current best value is 1.1357399039491396 with parameters: {'n_layers': 3, 'n_units_l0': 66.70075836766398, 'n_units_l1': 37.989472413427066, 'n_units_l2': 23.183536069461045}.\n",
      "/home/honda/anaconda3/lib/python3.6/site-packages/sklearn/neural_network/multilayer_perceptron.py:562: ConvergenceWarning: Stochastic Optimizer: Maximum iterations (200) reached and the optimization hasn't converged yet.\n",
      "  % self.max_iter, ConvergenceWarning)\n",
      "/home/honda/anaconda3/lib/python3.6/site-packages/sklearn/neural_network/multilayer_perceptron.py:562: ConvergenceWarning: Stochastic Optimizer: Maximum iterations (200) reached and the optimization hasn't converged yet.\n",
      "  % self.max_iter, ConvergenceWarning)\n",
      "/home/honda/anaconda3/lib/python3.6/site-packages/sklearn/neural_network/multilayer_perceptron.py:562: ConvergenceWarning: Stochastic Optimizer: Maximum iterations (200) reached and the optimization hasn't converged yet.\n",
      "  % self.max_iter, ConvergenceWarning)\n",
      "[I 2019-03-27 14:49:48,806] Finished a trial resulted in value: 7.118898844541421. Current best value is 1.1357399039491396 with parameters: {'n_layers': 3, 'n_units_l0': 66.70075836766398, 'n_units_l1': 37.989472413427066, 'n_units_l2': 23.183536069461045}.\n",
      "[I 2019-03-27 14:50:24,151] Finished a trial resulted in value: 1.14221648971009. Current best value is 1.1357399039491396 with parameters: {'n_layers': 3, 'n_units_l0': 66.70075836766398, 'n_units_l1': 37.989472413427066, 'n_units_l2': 23.183536069461045}.\n",
      "[I 2019-03-27 14:51:46,504] Finished a trial resulted in value: 1.2889108319052796. Current best value is 1.1357399039491396 with parameters: {'n_layers': 3, 'n_units_l0': 66.70075836766398, 'n_units_l1': 37.989472413427066, 'n_units_l2': 23.183536069461045}.\n",
      "[I 2019-03-27 14:52:26,758] Finished a trial resulted in value: 1.3023520681605776. Current best value is 1.1357399039491396 with parameters: {'n_layers': 3, 'n_units_l0': 66.70075836766398, 'n_units_l1': 37.989472413427066, 'n_units_l2': 23.183536069461045}.\n",
      "[I 2019-03-27 14:53:06,318] Finished a trial resulted in value: 1.44564524854839. Current best value is 1.1357399039491396 with parameters: {'n_layers': 3, 'n_units_l0': 66.70075836766398, 'n_units_l1': 37.989472413427066, 'n_units_l2': 23.183536069461045}.\n",
      "/home/honda/anaconda3/lib/python3.6/site-packages/sklearn/neural_network/multilayer_perceptron.py:562: ConvergenceWarning: Stochastic Optimizer: Maximum iterations (200) reached and the optimization hasn't converged yet.\n",
      "  % self.max_iter, ConvergenceWarning)\n",
      "/home/honda/anaconda3/lib/python3.6/site-packages/sklearn/neural_network/multilayer_perceptron.py:562: ConvergenceWarning: Stochastic Optimizer: Maximum iterations (200) reached and the optimization hasn't converged yet.\n",
      "  % self.max_iter, ConvergenceWarning)\n",
      "[I 2019-03-27 14:53:18,193] Finished a trial resulted in value: 1.5671561304705461. Current best value is 1.1357399039491396 with parameters: {'n_layers': 3, 'n_units_l0': 66.70075836766398, 'n_units_l1': 37.989472413427066, 'n_units_l2': 23.183536069461045}.\n",
      "[I 2019-03-27 14:54:10,425] Finished a trial resulted in value: 1.308550613008722. Current best value is 1.1357399039491396 with parameters: {'n_layers': 3, 'n_units_l0': 66.70075836766398, 'n_units_l1': 37.989472413427066, 'n_units_l2': 23.183536069461045}.\n",
      "/home/honda/anaconda3/lib/python3.6/site-packages/sklearn/neural_network/multilayer_perceptron.py:562: ConvergenceWarning: Stochastic Optimizer: Maximum iterations (200) reached and the optimization hasn't converged yet.\n",
      "  % self.max_iter, ConvergenceWarning)\n",
      "/home/honda/anaconda3/lib/python3.6/site-packages/sklearn/neural_network/multilayer_perceptron.py:562: ConvergenceWarning: Stochastic Optimizer: Maximum iterations (200) reached and the optimization hasn't converged yet.\n",
      "  % self.max_iter, ConvergenceWarning)\n",
      "/home/honda/anaconda3/lib/python3.6/site-packages/sklearn/neural_network/multilayer_perceptron.py:562: ConvergenceWarning: Stochastic Optimizer: Maximum iterations (200) reached and the optimization hasn't converged yet.\n",
      "  % self.max_iter, ConvergenceWarning)\n",
      "/home/honda/anaconda3/lib/python3.6/site-packages/sklearn/neural_network/multilayer_perceptron.py:562: ConvergenceWarning: Stochastic Optimizer: Maximum iterations (200) reached and the optimization hasn't converged yet.\n",
      "  % self.max_iter, ConvergenceWarning)\n",
      "[I 2019-03-27 14:54:17,889] Finished a trial resulted in value: 1.7828896591580417. Current best value is 1.1357399039491396 with parameters: {'n_layers': 3, 'n_units_l0': 66.70075836766398, 'n_units_l1': 37.989472413427066, 'n_units_l2': 23.183536069461045}.\n",
      "/home/honda/anaconda3/lib/python3.6/site-packages/sklearn/neural_network/multilayer_perceptron.py:562: ConvergenceWarning: Stochastic Optimizer: Maximum iterations (200) reached and the optimization hasn't converged yet.\n",
      "  % self.max_iter, ConvergenceWarning)\n",
      "/home/honda/anaconda3/lib/python3.6/site-packages/sklearn/neural_network/multilayer_perceptron.py:562: ConvergenceWarning: Stochastic Optimizer: Maximum iterations (200) reached and the optimization hasn't converged yet.\n",
      "  % self.max_iter, ConvergenceWarning)\n",
      "/home/honda/anaconda3/lib/python3.6/site-packages/sklearn/neural_network/multilayer_perceptron.py:562: ConvergenceWarning: Stochastic Optimizer: Maximum iterations (200) reached and the optimization hasn't converged yet.\n",
      "  % self.max_iter, ConvergenceWarning)\n",
      "/home/honda/anaconda3/lib/python3.6/site-packages/sklearn/neural_network/multilayer_perceptron.py:562: ConvergenceWarning: Stochastic Optimizer: Maximum iterations (200) reached and the optimization hasn't converged yet.\n",
      "  % self.max_iter, ConvergenceWarning)\n",
      "[I 2019-03-27 14:54:25,099] Finished a trial resulted in value: 1.9487850122746986. Current best value is 1.1357399039491396 with parameters: {'n_layers': 3, 'n_units_l0': 66.70075836766398, 'n_units_l1': 37.989472413427066, 'n_units_l2': 23.183536069461045}.\n",
      "[I 2019-03-27 14:54:47,834] Finished a trial resulted in value: 1.3837047537664078. Current best value is 1.1357399039491396 with parameters: {'n_layers': 3, 'n_units_l0': 66.70075836766398, 'n_units_l1': 37.989472413427066, 'n_units_l2': 23.183536069461045}.\n",
      "[I 2019-03-27 14:56:23,865] Finished a trial resulted in value: 1.3253886490060354. Current best value is 1.1357399039491396 with parameters: {'n_layers': 3, 'n_units_l0': 66.70075836766398, 'n_units_l1': 37.989472413427066, 'n_units_l2': 23.183536069461045}.\n",
      "/home/honda/anaconda3/lib/python3.6/site-packages/sklearn/neural_network/multilayer_perceptron.py:562: ConvergenceWarning: Stochastic Optimizer: Maximum iterations (200) reached and the optimization hasn't converged yet.\n",
      "  % self.max_iter, ConvergenceWarning)\n",
      "/home/honda/anaconda3/lib/python3.6/site-packages/sklearn/neural_network/multilayer_perceptron.py:562: ConvergenceWarning: Stochastic Optimizer: Maximum iterations (200) reached and the optimization hasn't converged yet.\n",
      "  % self.max_iter, ConvergenceWarning)\n",
      "/home/honda/anaconda3/lib/python3.6/site-packages/sklearn/neural_network/multilayer_perceptron.py:562: ConvergenceWarning: Stochastic Optimizer: Maximum iterations (200) reached and the optimization hasn't converged yet.\n",
      "  % self.max_iter, ConvergenceWarning)\n",
      "/home/honda/anaconda3/lib/python3.6/site-packages/sklearn/neural_network/multilayer_perceptron.py:562: ConvergenceWarning: Stochastic Optimizer: Maximum iterations (200) reached and the optimization hasn't converged yet.\n",
      "  % self.max_iter, ConvergenceWarning)\n",
      "[I 2019-03-27 14:56:36,458] Finished a trial resulted in value: 1.7309007597160413. Current best value is 1.1357399039491396 with parameters: {'n_layers': 3, 'n_units_l0': 66.70075836766398, 'n_units_l1': 37.989472413427066, 'n_units_l2': 23.183536069461045}.\n",
      "[I 2019-03-27 14:57:24,347] Finished a trial resulted in value: 1.2143666937972442. Current best value is 1.1357399039491396 with parameters: {'n_layers': 3, 'n_units_l0': 66.70075836766398, 'n_units_l1': 37.989472413427066, 'n_units_l2': 23.183536069461045}.\n",
      "[I 2019-03-27 14:58:03,263] Finished a trial resulted in value: 1.3895341389670328. Current best value is 1.1357399039491396 with parameters: {'n_layers': 3, 'n_units_l0': 66.70075836766398, 'n_units_l1': 37.989472413427066, 'n_units_l2': 23.183536069461045}.\n",
      "[I 2019-03-27 14:58:42,290] Finished a trial resulted in value: 1.3833142418971434. Current best value is 1.1357399039491396 with parameters: {'n_layers': 3, 'n_units_l0': 66.70075836766398, 'n_units_l1': 37.989472413427066, 'n_units_l2': 23.183536069461045}.\n",
      "/home/honda/anaconda3/lib/python3.6/site-packages/sklearn/neural_network/multilayer_perceptron.py:562: ConvergenceWarning: Stochastic Optimizer: Maximum iterations (200) reached and the optimization hasn't converged yet.\n",
      "  % self.max_iter, ConvergenceWarning)\n",
      "/home/honda/anaconda3/lib/python3.6/site-packages/sklearn/neural_network/multilayer_perceptron.py:562: ConvergenceWarning: Stochastic Optimizer: Maximum iterations (200) reached and the optimization hasn't converged yet.\n",
      "  % self.max_iter, ConvergenceWarning)\n",
      "/home/honda/anaconda3/lib/python3.6/site-packages/sklearn/neural_network/multilayer_perceptron.py:562: ConvergenceWarning: Stochastic Optimizer: Maximum iterations (200) reached and the optimization hasn't converged yet.\n",
      "  % self.max_iter, ConvergenceWarning)\n",
      "/home/honda/anaconda3/lib/python3.6/site-packages/sklearn/neural_network/multilayer_perceptron.py:562: ConvergenceWarning: Stochastic Optimizer: Maximum iterations (200) reached and the optimization hasn't converged yet.\n",
      "  % self.max_iter, ConvergenceWarning)\n",
      "[I 2019-03-27 14:58:48,706] Finished a trial resulted in value: 1.656348110629816. Current best value is 1.1357399039491396 with parameters: {'n_layers': 3, 'n_units_l0': 66.70075836766398, 'n_units_l1': 37.989472413427066, 'n_units_l2': 23.183536069461045}.\n",
      "[I 2019-03-27 14:59:28,817] Finished a trial resulted in value: 1.259213435872391. Current best value is 1.1357399039491396 with parameters: {'n_layers': 3, 'n_units_l0': 66.70075836766398, 'n_units_l1': 37.989472413427066, 'n_units_l2': 23.183536069461045}.\n",
      "[I 2019-03-27 14:59:39,202] Finished a trial resulted in value: 1.4249195029065698. Current best value is 1.1357399039491396 with parameters: {'n_layers': 3, 'n_units_l0': 66.70075836766398, 'n_units_l1': 37.989472413427066, 'n_units_l2': 23.183536069461045}.\n",
      "[I 2019-03-27 14:59:59,534] Finished a trial resulted in value: 1.3082777451190768. Current best value is 1.1357399039491396 with parameters: {'n_layers': 3, 'n_units_l0': 66.70075836766398, 'n_units_l1': 37.989472413427066, 'n_units_l2': 23.183536069461045}.\n",
      "[I 2019-03-27 15:00:11,761] Finished a trial resulted in value: 1.2234474334991652. Current best value is 1.1357399039491396 with parameters: {'n_layers': 3, 'n_units_l0': 66.70075836766398, 'n_units_l1': 37.989472413427066, 'n_units_l2': 23.183536069461045}.\n",
      "/home/honda/anaconda3/lib/python3.6/site-packages/sklearn/neural_network/multilayer_perceptron.py:562: ConvergenceWarning: Stochastic Optimizer: Maximum iterations (200) reached and the optimization hasn't converged yet.\n",
      "  % self.max_iter, ConvergenceWarning)\n",
      "/home/honda/anaconda3/lib/python3.6/site-packages/sklearn/neural_network/multilayer_perceptron.py:562: ConvergenceWarning: Stochastic Optimizer: Maximum iterations (200) reached and the optimization hasn't converged yet.\n",
      "  % self.max_iter, ConvergenceWarning)\n",
      "/home/honda/anaconda3/lib/python3.6/site-packages/sklearn/neural_network/multilayer_perceptron.py:562: ConvergenceWarning: Stochastic Optimizer: Maximum iterations (200) reached and the optimization hasn't converged yet.\n",
      "  % self.max_iter, ConvergenceWarning)\n",
      "[I 2019-03-27 15:00:32,355] Finished a trial resulted in value: 1.5752036218152985. Current best value is 1.1357399039491396 with parameters: {'n_layers': 3, 'n_units_l0': 66.70075836766398, 'n_units_l1': 37.989472413427066, 'n_units_l2': 23.183536069461045}.\n",
      "/home/honda/anaconda3/lib/python3.6/site-packages/sklearn/neural_network/multilayer_perceptron.py:562: ConvergenceWarning: Stochastic Optimizer: Maximum iterations (200) reached and the optimization hasn't converged yet.\n",
      "  % self.max_iter, ConvergenceWarning)\n",
      "/home/honda/anaconda3/lib/python3.6/site-packages/sklearn/neural_network/multilayer_perceptron.py:562: ConvergenceWarning: Stochastic Optimizer: Maximum iterations (200) reached and the optimization hasn't converged yet.\n",
      "  % self.max_iter, ConvergenceWarning)\n",
      "/home/honda/anaconda3/lib/python3.6/site-packages/sklearn/neural_network/multilayer_perceptron.py:562: ConvergenceWarning: Stochastic Optimizer: Maximum iterations (200) reached and the optimization hasn't converged yet.\n",
      "  % self.max_iter, ConvergenceWarning)\n",
      "[I 2019-03-27 15:00:40,209] Finished a trial resulted in value: 1.659529638298566. Current best value is 1.1357399039491396 with parameters: {'n_layers': 3, 'n_units_l0': 66.70075836766398, 'n_units_l1': 37.989472413427066, 'n_units_l2': 23.183536069461045}.\n",
      "[I 2019-03-27 15:00:48,661] Finished a trial resulted in value: 1.413303398458757. Current best value is 1.1357399039491396 with parameters: {'n_layers': 3, 'n_units_l0': 66.70075836766398, 'n_units_l1': 37.989472413427066, 'n_units_l2': 23.183536069461045}.\n",
      "/home/honda/anaconda3/lib/python3.6/site-packages/sklearn/neural_network/multilayer_perceptron.py:562: ConvergenceWarning: Stochastic Optimizer: Maximum iterations (200) reached and the optimization hasn't converged yet.\n",
      "  % self.max_iter, ConvergenceWarning)\n",
      "/home/honda/anaconda3/lib/python3.6/site-packages/sklearn/neural_network/multilayer_perceptron.py:562: ConvergenceWarning: Stochastic Optimizer: Maximum iterations (200) reached and the optimization hasn't converged yet.\n",
      "  % self.max_iter, ConvergenceWarning)\n",
      "/home/honda/anaconda3/lib/python3.6/site-packages/sklearn/neural_network/multilayer_perceptron.py:562: ConvergenceWarning: Stochastic Optimizer: Maximum iterations (200) reached and the optimization hasn't converged yet.\n",
      "  % self.max_iter, ConvergenceWarning)\n"
     ]
    },
    {
     "name": "stderr",
     "output_type": "stream",
     "text": [
      "/home/honda/anaconda3/lib/python3.6/site-packages/sklearn/neural_network/multilayer_perceptron.py:562: ConvergenceWarning: Stochastic Optimizer: Maximum iterations (200) reached and the optimization hasn't converged yet.\n",
      "  % self.max_iter, ConvergenceWarning)\n",
      "[I 2019-03-27 15:00:57,746] Finished a trial resulted in value: 1.934418132872151. Current best value is 1.1357399039491396 with parameters: {'n_layers': 3, 'n_units_l0': 66.70075836766398, 'n_units_l1': 37.989472413427066, 'n_units_l2': 23.183536069461045}.\n",
      "[I 2019-03-27 15:01:17,126] Finished a trial resulted in value: 1.2591149308946599. Current best value is 1.1357399039491396 with parameters: {'n_layers': 3, 'n_units_l0': 66.70075836766398, 'n_units_l1': 37.989472413427066, 'n_units_l2': 23.183536069461045}.\n",
      "[I 2019-03-27 15:02:27,622] Finished a trial resulted in value: 1.2989809948952806. Current best value is 1.1357399039491396 with parameters: {'n_layers': 3, 'n_units_l0': 66.70075836766398, 'n_units_l1': 37.989472413427066, 'n_units_l2': 23.183536069461045}.\n",
      "[I 2019-03-27 15:02:45,466] Finished a trial resulted in value: 1.2679149945875958. Current best value is 1.1357399039491396 with parameters: {'n_layers': 3, 'n_units_l0': 66.70075836766398, 'n_units_l1': 37.989472413427066, 'n_units_l2': 23.183536069461045}.\n"
     ]
    }
   ],
   "source": [
    "def objective_mlp(trial):\n",
    "    n_layers = trial.suggest_int('n_layers', 1,3)\n",
    "    layers = []\n",
    "    for i in range(n_layers):\n",
    "        n_units = int(trial.suggest_loguniform('n_units_l{}'.format(i), 1, 1000))\n",
    "        layers.append(n_units)\n",
    "    \n",
    "    n_folds = 4\n",
    "    score = 0\n",
    "    for _ in range(n_folds):\n",
    "        mlp = MLPRegressor(hidden_layer_sizes=layers)\n",
    "        X_trn, X_val, y_trn, y_val = train_test_split(X_train, y_train)\n",
    "        mlp.fit(X_trn, y_trn)\n",
    "        y_pred = mlp.predict(X_val)\n",
    "        score += mean_squared_error(y_val, y_pred)\n",
    "    return score/n_folds\n",
    "\n",
    "study = optuna.create_study()\n",
    "study.optimize(objective_mlp, n_trials=100)"
   ]
  },
  {
   "cell_type": "code",
   "execution_count": 45,
   "metadata": {},
   "outputs": [
    {
     "name": "stdout",
     "output_type": "stream",
     "text": [
      "Test R2: 0.7150 ± 0.0145\n",
      "Test MSE: 1.1642 ± 0.0591\n"
     ]
    }
   ],
   "source": [
    "# Optimized\n",
    "\n",
    "n = 10\n",
    "r2 = np.zeros(n)\n",
    "mse = np.zeros(n)\n",
    "\n",
    "for i in range(n):\n",
    "    MLP = MLPRegressor((67,38,23))\n",
    "    MLP.fit(X_train, y_train)\n",
    "    y_pred = MLP.predict(X_test)\n",
    "    r2[i] = r2_score(y_test, y_pred)\n",
    "    mse[i] = mean_squared_error(y_test, y_pred)\n",
    "\n",
    "print(\"Test R2: {:.4f} ± {:.4f}\".format(np.mean(r2), np.std(r2)))\n",
    "print(\"Test MSE: {:.4f} ± {:.4f}\".format(np.mean(mse), np.std(mse)))"
   ]
  },
  {
   "cell_type": "markdown",
   "metadata": {},
   "source": [
    "### Random Forest"
   ]
  },
  {
   "cell_type": "code",
   "execution_count": 47,
   "metadata": {},
   "outputs": [
    {
     "name": "stderr",
     "output_type": "stream",
     "text": [
      "/home/honda/anaconda3/lib/python3.6/site-packages/sklearn/ensemble/forest.py:248: FutureWarning: The default value of n_estimators will change from 10 in version 0.20 to 100 in 0.22.\n",
      "  \"10 in version 0.20 to 100 in 0.22.\", FutureWarning)\n",
      "/home/honda/anaconda3/lib/python3.6/site-packages/sklearn/ensemble/forest.py:248: FutureWarning: The default value of n_estimators will change from 10 in version 0.20 to 100 in 0.22.\n",
      "  \"10 in version 0.20 to 100 in 0.22.\", FutureWarning)\n",
      "/home/honda/anaconda3/lib/python3.6/site-packages/sklearn/ensemble/forest.py:248: FutureWarning: The default value of n_estimators will change from 10 in version 0.20 to 100 in 0.22.\n",
      "  \"10 in version 0.20 to 100 in 0.22.\", FutureWarning)\n",
      "/home/honda/anaconda3/lib/python3.6/site-packages/sklearn/ensemble/forest.py:248: FutureWarning: The default value of n_estimators will change from 10 in version 0.20 to 100 in 0.22.\n",
      "  \"10 in version 0.20 to 100 in 0.22.\", FutureWarning)\n",
      "/home/honda/anaconda3/lib/python3.6/site-packages/sklearn/ensemble/forest.py:248: FutureWarning: The default value of n_estimators will change from 10 in version 0.20 to 100 in 0.22.\n",
      "  \"10 in version 0.20 to 100 in 0.22.\", FutureWarning)\n",
      "/home/honda/anaconda3/lib/python3.6/site-packages/sklearn/ensemble/forest.py:248: FutureWarning: The default value of n_estimators will change from 10 in version 0.20 to 100 in 0.22.\n",
      "  \"10 in version 0.20 to 100 in 0.22.\", FutureWarning)\n",
      "/home/honda/anaconda3/lib/python3.6/site-packages/sklearn/ensemble/forest.py:248: FutureWarning: The default value of n_estimators will change from 10 in version 0.20 to 100 in 0.22.\n",
      "  \"10 in version 0.20 to 100 in 0.22.\", FutureWarning)\n",
      "/home/honda/anaconda3/lib/python3.6/site-packages/sklearn/ensemble/forest.py:248: FutureWarning: The default value of n_estimators will change from 10 in version 0.20 to 100 in 0.22.\n",
      "  \"10 in version 0.20 to 100 in 0.22.\", FutureWarning)\n",
      "/home/honda/anaconda3/lib/python3.6/site-packages/sklearn/ensemble/forest.py:248: FutureWarning: The default value of n_estimators will change from 10 in version 0.20 to 100 in 0.22.\n",
      "  \"10 in version 0.20 to 100 in 0.22.\", FutureWarning)\n",
      "/home/honda/anaconda3/lib/python3.6/site-packages/sklearn/ensemble/forest.py:248: FutureWarning: The default value of n_estimators will change from 10 in version 0.20 to 100 in 0.22.\n",
      "  \"10 in version 0.20 to 100 in 0.22.\", FutureWarning)\n"
     ]
    },
    {
     "name": "stdout",
     "output_type": "stream",
     "text": [
      "Test R2: 0.6739 ± 0.0114\n",
      "Test MSE: 1.3323 ± 0.0467\n"
     ]
    }
   ],
   "source": [
    "# Default\n",
    "n = 10\n",
    "r2 = np.zeros(n)\n",
    "mse = np.zeros(n)\n",
    "\n",
    "for i in range(n):\n",
    "    RF = RandomForestRegressor()\n",
    "    RF.fit(X_train, y_train)\n",
    "    y_pred = RF.predict(X_test)\n",
    "    r2[i] = r2_score(y_test, y_pred)\n",
    "    mse[i] = mean_squared_error(y_test, y_pred)\n",
    "\n",
    "print(\"Test R2: {:.4f} ± {:.4f}\".format(np.mean(r2), np.std(r2)))\n",
    "print(\"Test MSE: {:.4f} ± {:.4f}\".format(np.mean(mse), np.std(mse)))"
   ]
  },
  {
   "cell_type": "code",
   "execution_count": 48,
   "metadata": {
    "scrolled": true
   },
   "outputs": [
    {
     "name": "stderr",
     "output_type": "stream",
     "text": [
      "[I 2019-03-27 15:25:32,938] Finished a trial resulted in value: 3.6833128467225267. Current best value is 3.6833128467225267 with parameters: {'max_depth': 3.7795715336911115, 'n_estimators': 265.6365220208648, 'max_features': 7, 'min_samples_split': 10, 'min_samples_leaf': 3}.\n",
      "[I 2019-03-27 15:25:32,989] Finished a trial resulted in value: 3.5355280577650863. Current best value is 3.5355280577650863 with parameters: {'max_depth': 11.99603018594304, 'n_estimators': 2.842662445985372, 'max_features': 9, 'min_samples_split': 10, 'min_samples_leaf': 7}.\n",
      "[I 2019-03-27 15:25:33,083] Finished a trial resulted in value: 3.3119433202926203. Current best value is 3.3119433202926203 with parameters: {'max_depth': 26.759767322751497, 'n_estimators': 11.949688228784165, 'max_features': 5, 'min_samples_split': 3, 'min_samples_leaf': 3}.\n",
      "[I 2019-03-27 15:25:34,165] Finished a trial resulted in value: 2.7409493188671066. Current best value is 2.7409493188671066 with parameters: {'max_depth': 9.61433416419263, 'n_estimators': 205.84332013800625, 'max_features': 9, 'min_samples_split': 9, 'min_samples_leaf': 4}.\n",
      "[I 2019-03-27 15:25:34,810] Finished a trial resulted in value: 4.1639791321969515. Current best value is 2.7409493188671066 with parameters: {'max_depth': 9.61433416419263, 'n_estimators': 205.84332013800625, 'max_features': 9, 'min_samples_split': 9, 'min_samples_leaf': 4}.\n",
      "[I 2019-03-27 15:25:35,956] Finished a trial resulted in value: 4.388087232968273. Current best value is 2.7409493188671066 with parameters: {'max_depth': 9.61433416419263, 'n_estimators': 205.84332013800625, 'max_features': 9, 'min_samples_split': 9, 'min_samples_leaf': 4}.\n",
      "[I 2019-03-27 15:25:37,340] Finished a trial resulted in value: 1.9950117854674814. Current best value is 1.9950117854674814 with parameters: {'max_depth': 23.701609483625496, 'n_estimators': 169.36176181483, 'max_features': 9, 'min_samples_split': 4, 'min_samples_leaf': 1}.\n",
      "[I 2019-03-27 15:25:37,728] Finished a trial resulted in value: 3.8804297349788484. Current best value is 1.9950117854674814 with parameters: {'max_depth': 23.701609483625496, 'n_estimators': 169.36176181483, 'max_features': 9, 'min_samples_split': 4, 'min_samples_leaf': 1}.\n",
      "[I 2019-03-27 15:25:39,355] Finished a trial resulted in value: 3.5899002126814317. Current best value is 1.9950117854674814 with parameters: {'max_depth': 23.701609483625496, 'n_estimators': 169.36176181483, 'max_features': 9, 'min_samples_split': 4, 'min_samples_leaf': 1}.\n",
      "[I 2019-03-27 15:25:43,746] Finished a trial resulted in value: 3.1881345746964933. Current best value is 1.9950117854674814 with parameters: {'max_depth': 23.701609483625496, 'n_estimators': 169.36176181483, 'max_features': 9, 'min_samples_split': 4, 'min_samples_leaf': 1}.\n",
      "[I 2019-03-27 15:25:43,966] Finished a trial resulted in value: 1.9239366458440785. Current best value is 1.9239366458440785 with parameters: {'max_depth': 34.24030424019192, 'n_estimators': 18.26076398698685, 'max_features': 3, 'min_samples_split': 2, 'min_samples_leaf': 1}.\n",
      "[I 2019-03-27 15:25:44,219] Finished a trial resulted in value: 1.840731338294714. Current best value is 1.840731338294714 with parameters: {'max_depth': 88.44665106215209, 'n_estimators': 14.80272408250302, 'max_features': 3, 'min_samples_split': 2, 'min_samples_leaf': 1}.\n",
      "[I 2019-03-27 15:25:44,378] Finished a trial resulted in value: 1.8438934951443373. Current best value is 1.840731338294714 with parameters: {'max_depth': 88.44665106215209, 'n_estimators': 14.80272408250302, 'max_features': 3, 'min_samples_split': 2, 'min_samples_leaf': 1}.\n",
      "[I 2019-03-27 15:25:44,547] Finished a trial resulted in value: 4.303023880959275. Current best value is 1.840731338294714 with parameters: {'max_depth': 88.44665106215209, 'n_estimators': 14.80272408250302, 'max_features': 3, 'min_samples_split': 2, 'min_samples_leaf': 1}.\n",
      "[I 2019-03-27 15:25:44,626] Finished a trial resulted in value: 3.686098721615209. Current best value is 1.840731338294714 with parameters: {'max_depth': 88.44665106215209, 'n_estimators': 14.80272408250302, 'max_features': 3, 'min_samples_split': 2, 'min_samples_leaf': 1}.\n",
      "[I 2019-03-27 15:25:44,687] Finished a trial resulted in value: 2.513417071622449. Current best value is 1.840731338294714 with parameters: {'max_depth': 88.44665106215209, 'n_estimators': 14.80272408250302, 'max_features': 3, 'min_samples_split': 2, 'min_samples_leaf': 1}.\n",
      "[I 2019-03-27 15:25:44,749] Finished a trial resulted in value: 3.5977580670077156. Current best value is 1.840731338294714 with parameters: {'max_depth': 88.44665106215209, 'n_estimators': 14.80272408250302, 'max_features': 3, 'min_samples_split': 2, 'min_samples_leaf': 1}.\n",
      "[I 2019-03-27 15:25:44,887] Finished a trial resulted in value: 1.9639727301227767. Current best value is 1.840731338294714 with parameters: {'max_depth': 88.44665106215209, 'n_estimators': 14.80272408250302, 'max_features': 3, 'min_samples_split': 2, 'min_samples_leaf': 1}.\n",
      "[I 2019-03-27 15:25:45,050] Finished a trial resulted in value: 4.097210446312552. Current best value is 1.840731338294714 with parameters: {'max_depth': 88.44665106215209, 'n_estimators': 14.80272408250302, 'max_features': 3, 'min_samples_split': 2, 'min_samples_leaf': 1}.\n",
      "[I 2019-03-27 15:25:45,323] Finished a trial resulted in value: 3.815687179112418. Current best value is 1.840731338294714 with parameters: {'max_depth': 88.44665106215209, 'n_estimators': 14.80272408250302, 'max_features': 3, 'min_samples_split': 2, 'min_samples_leaf': 1}.\n",
      "[I 2019-03-27 15:25:45,393] Finished a trial resulted in value: 3.5843160541882395. Current best value is 1.840731338294714 with parameters: {'max_depth': 88.44665106215209, 'n_estimators': 14.80272408250302, 'max_features': 3, 'min_samples_split': 2, 'min_samples_leaf': 1}.\n",
      "[I 2019-03-27 15:25:45,494] Finished a trial resulted in value: 3.8769995866233677. Current best value is 1.840731338294714 with parameters: {'max_depth': 88.44665106215209, 'n_estimators': 14.80272408250302, 'max_features': 3, 'min_samples_split': 2, 'min_samples_leaf': 1}.\n",
      "[I 2019-03-27 15:25:45,768] Finished a trial resulted in value: 4.047842885393905. Current best value is 1.840731338294714 with parameters: {'max_depth': 88.44665106215209, 'n_estimators': 14.80272408250302, 'max_features': 3, 'min_samples_split': 2, 'min_samples_leaf': 1}.\n",
      "[I 2019-03-27 15:25:46,244] Finished a trial resulted in value: 1.44615179930778. Current best value is 1.44615179930778 with parameters: {'max_depth': 70.99966855193003, 'n_estimators': 26.037612886557305, 'max_features': 6, 'min_samples_split': 2, 'min_samples_leaf': 1}.\n",
      "[I 2019-03-27 15:25:46,562] Finished a trial resulted in value: 2.5952778804365177. Current best value is 1.44615179930778 with parameters: {'max_depth': 70.99966855193003, 'n_estimators': 26.037612886557305, 'max_features': 6, 'min_samples_split': 2, 'min_samples_leaf': 1}.\n",
      "[I 2019-03-27 15:25:47,000] Finished a trial resulted in value: 3.6546258871929704. Current best value is 1.44615179930778 with parameters: {'max_depth': 70.99966855193003, 'n_estimators': 26.037612886557305, 'max_features': 6, 'min_samples_split': 2, 'min_samples_leaf': 1}.\n",
      "[I 2019-03-27 15:25:47,133] Finished a trial resulted in value: 3.0561815895222813. Current best value is 1.44615179930778 with parameters: {'max_depth': 70.99966855193003, 'n_estimators': 26.037612886557305, 'max_features': 6, 'min_samples_split': 2, 'min_samples_leaf': 1}.\n",
      "[I 2019-03-27 15:25:47,327] Finished a trial resulted in value: 2.788808953482996. Current best value is 1.44615179930778 with parameters: {'max_depth': 70.99966855193003, 'n_estimators': 26.037612886557305, 'max_features': 6, 'min_samples_split': 2, 'min_samples_leaf': 1}.\n",
      "[I 2019-03-27 15:25:47,735] Finished a trial resulted in value: 2.9567759822172244. Current best value is 1.44615179930778 with parameters: {'max_depth': 70.99966855193003, 'n_estimators': 26.037612886557305, 'max_features': 6, 'min_samples_split': 2, 'min_samples_leaf': 1}.\n",
      "[I 2019-03-27 15:25:49,875] Finished a trial resulted in value: 3.4119937029097858. Current best value is 1.44615179930778 with parameters: {'max_depth': 70.99966855193003, 'n_estimators': 26.037612886557305, 'max_features': 6, 'min_samples_split': 2, 'min_samples_leaf': 1}.\n",
      "[I 2019-03-27 15:25:49,958] Finished a trial resulted in value: 3.415092754671338. Current best value is 1.44615179930778 with parameters: {'max_depth': 70.99966855193003, 'n_estimators': 26.037612886557305, 'max_features': 6, 'min_samples_split': 2, 'min_samples_leaf': 1}.\n",
      "[I 2019-03-27 15:25:50,038] Finished a trial resulted in value: 3.226138561159011. Current best value is 1.44615179930778 with parameters: {'max_depth': 70.99966855193003, 'n_estimators': 26.037612886557305, 'max_features': 6, 'min_samples_split': 2, 'min_samples_leaf': 1}.\n",
      "[I 2019-03-27 15:25:50,135] Finished a trial resulted in value: 3.755170727664605. Current best value is 1.44615179930778 with parameters: {'max_depth': 70.99966855193003, 'n_estimators': 26.037612886557305, 'max_features': 6, 'min_samples_split': 2, 'min_samples_leaf': 1}.\n",
      "[I 2019-03-27 15:25:50,299] Finished a trial resulted in value: 3.4796247215805587. Current best value is 1.44615179930778 with parameters: {'max_depth': 70.99966855193003, 'n_estimators': 26.037612886557305, 'max_features': 6, 'min_samples_split': 2, 'min_samples_leaf': 1}.\n",
      "[I 2019-03-27 15:25:50,531] Finished a trial resulted in value: 3.2754737013358524. Current best value is 1.44615179930778 with parameters: {'max_depth': 70.99966855193003, 'n_estimators': 26.037612886557305, 'max_features': 6, 'min_samples_split': 2, 'min_samples_leaf': 1}.\n",
      "[I 2019-03-27 15:25:51,172] Finished a trial resulted in value: 2.6130477093740967. Current best value is 1.44615179930778 with parameters: {'max_depth': 70.99966855193003, 'n_estimators': 26.037612886557305, 'max_features': 6, 'min_samples_split': 2, 'min_samples_leaf': 1}.\n",
      "[I 2019-03-27 15:25:51,298] Finished a trial resulted in value: 3.6337545566754788. Current best value is 1.44615179930778 with parameters: {'max_depth': 70.99966855193003, 'n_estimators': 26.037612886557305, 'max_features': 6, 'min_samples_split': 2, 'min_samples_leaf': 1}.\n",
      "[I 2019-03-27 15:25:53,845] Finished a trial resulted in value: 3.516456319628417. Current best value is 1.44615179930778 with parameters: {'max_depth': 70.99966855193003, 'n_estimators': 26.037612886557305, 'max_features': 6, 'min_samples_split': 2, 'min_samples_leaf': 1}.\n",
      "[I 2019-03-27 15:25:54,443] Finished a trial resulted in value: 3.6675080723317572. Current best value is 1.44615179930778 with parameters: {'max_depth': 70.99966855193003, 'n_estimators': 26.037612886557305, 'max_features': 6, 'min_samples_split': 2, 'min_samples_leaf': 1}.\n",
      "[I 2019-03-27 15:25:54,513] Finished a trial resulted in value: 3.9851830383616864. Current best value is 1.44615179930778 with parameters: {'max_depth': 70.99966855193003, 'n_estimators': 26.037612886557305, 'max_features': 6, 'min_samples_split': 2, 'min_samples_leaf': 1}.\n",
      "[I 2019-03-27 15:25:55,906] Finished a trial resulted in value: 2.174524418947241. Current best value is 1.44615179930778 with parameters: {'max_depth': 70.99966855193003, 'n_estimators': 26.037612886557305, 'max_features': 6, 'min_samples_split': 2, 'min_samples_leaf': 1}.\n",
      "[I 2019-03-27 15:25:56,047] Finished a trial resulted in value: 3.367461273113207. Current best value is 1.44615179930778 with parameters: {'max_depth': 70.99966855193003, 'n_estimators': 26.037612886557305, 'max_features': 6, 'min_samples_split': 2, 'min_samples_leaf': 1}.\n",
      "[I 2019-03-27 15:25:56,163] Finished a trial resulted in value: 4.263908023398449. Current best value is 1.44615179930778 with parameters: {'max_depth': 70.99966855193003, 'n_estimators': 26.037612886557305, 'max_features': 6, 'min_samples_split': 2, 'min_samples_leaf': 1}.\n",
      "[I 2019-03-27 15:25:57,184] Finished a trial resulted in value: 3.4661639137222897. Current best value is 1.44615179930778 with parameters: {'max_depth': 70.99966855193003, 'n_estimators': 26.037612886557305, 'max_features': 6, 'min_samples_split': 2, 'min_samples_leaf': 1}.\n",
      "[I 2019-03-27 15:25:57,483] Finished a trial resulted in value: 3.3495081716736026. Current best value is 1.44615179930778 with parameters: {'max_depth': 70.99966855193003, 'n_estimators': 26.037612886557305, 'max_features': 6, 'min_samples_split': 2, 'min_samples_leaf': 1}.\n",
      "[I 2019-03-27 15:25:57,669] Finished a trial resulted in value: 3.4589660900817765. Current best value is 1.44615179930778 with parameters: {'max_depth': 70.99966855193003, 'n_estimators': 26.037612886557305, 'max_features': 6, 'min_samples_split': 2, 'min_samples_leaf': 1}.\n",
      "[I 2019-03-27 15:25:58,006] Finished a trial resulted in value: 4.436021470325041. Current best value is 1.44615179930778 with parameters: {'max_depth': 70.99966855193003, 'n_estimators': 26.037612886557305, 'max_features': 6, 'min_samples_split': 2, 'min_samples_leaf': 1}.\n",
      "[I 2019-03-27 15:25:59,066] Finished a trial resulted in value: 2.305548448312589. Current best value is 1.44615179930778 with parameters: {'max_depth': 70.99966855193003, 'n_estimators': 26.037612886557305, 'max_features': 6, 'min_samples_split': 2, 'min_samples_leaf': 1}.\n",
      "[I 2019-03-27 15:25:59,163] Finished a trial resulted in value: 3.452331593769892. Current best value is 1.44615179930778 with parameters: {'max_depth': 70.99966855193003, 'n_estimators': 26.037612886557305, 'max_features': 6, 'min_samples_split': 2, 'min_samples_leaf': 1}.\n",
      "[I 2019-03-27 15:25:59,271] Finished a trial resulted in value: 3.6504585911253. Current best value is 1.44615179930778 with parameters: {'max_depth': 70.99966855193003, 'n_estimators': 26.037612886557305, 'max_features': 6, 'min_samples_split': 2, 'min_samples_leaf': 1}.\n",
      "[I 2019-03-27 15:25:59,394] Finished a trial resulted in value: 4.173874066279101. Current best value is 1.44615179930778 with parameters: {'max_depth': 70.99966855193003, 'n_estimators': 26.037612886557305, 'max_features': 6, 'min_samples_split': 2, 'min_samples_leaf': 1}.\n",
      "[I 2019-03-27 15:25:59,637] Finished a trial resulted in value: 3.762597023028906. Current best value is 1.44615179930778 with parameters: {'max_depth': 70.99966855193003, 'n_estimators': 26.037612886557305, 'max_features': 6, 'min_samples_split': 2, 'min_samples_leaf': 1}.\n",
      "[I 2019-03-27 15:25:59,716] Finished a trial resulted in value: 4.0652024460855545. Current best value is 1.44615179930778 with parameters: {'max_depth': 70.99966855193003, 'n_estimators': 26.037612886557305, 'max_features': 6, 'min_samples_split': 2, 'min_samples_leaf': 1}.\n",
      "[I 2019-03-27 15:25:59,804] Finished a trial resulted in value: 3.6325764675994985. Current best value is 1.44615179930778 with parameters: {'max_depth': 70.99966855193003, 'n_estimators': 26.037612886557305, 'max_features': 6, 'min_samples_split': 2, 'min_samples_leaf': 1}.\n",
      "[I 2019-03-27 15:26:00,176] Finished a trial resulted in value: 1.6547490304116743. Current best value is 1.44615179930778 with parameters: {'max_depth': 70.99966855193003, 'n_estimators': 26.037612886557305, 'max_features': 6, 'min_samples_split': 2, 'min_samples_leaf': 1}.\n",
      "[I 2019-03-27 15:26:00,658] Finished a trial resulted in value: 2.3901638360348048. Current best value is 1.44615179930778 with parameters: {'max_depth': 70.99966855193003, 'n_estimators': 26.037612886557305, 'max_features': 6, 'min_samples_split': 2, 'min_samples_leaf': 1}.\n",
      "[I 2019-03-27 15:26:04,438] Finished a trial resulted in value: 2.942239407145914. Current best value is 1.44615179930778 with parameters: {'max_depth': 70.99966855193003, 'n_estimators': 26.037612886557305, 'max_features': 6, 'min_samples_split': 2, 'min_samples_leaf': 1}.\n",
      "[I 2019-03-27 15:26:06,969] Finished a trial resulted in value: 1.8330597591896012. Current best value is 1.44615179930778 with parameters: {'max_depth': 70.99966855193003, 'n_estimators': 26.037612886557305, 'max_features': 6, 'min_samples_split': 2, 'min_samples_leaf': 1}.\n"
     ]
    },
    {
     "name": "stderr",
     "output_type": "stream",
     "text": [
      "[I 2019-03-27 15:26:07,269] Finished a trial resulted in value: 2.2608373398520536. Current best value is 1.44615179930778 with parameters: {'max_depth': 70.99966855193003, 'n_estimators': 26.037612886557305, 'max_features': 6, 'min_samples_split': 2, 'min_samples_leaf': 1}.\n",
      "[I 2019-03-27 15:26:09,152] Finished a trial resulted in value: 2.991031526962796. Current best value is 1.44615179930778 with parameters: {'max_depth': 70.99966855193003, 'n_estimators': 26.037612886557305, 'max_features': 6, 'min_samples_split': 2, 'min_samples_leaf': 1}.\n",
      "[I 2019-03-27 15:26:09,335] Finished a trial resulted in value: 2.833185895650168. Current best value is 1.44615179930778 with parameters: {'max_depth': 70.99966855193003, 'n_estimators': 26.037612886557305, 'max_features': 6, 'min_samples_split': 2, 'min_samples_leaf': 1}.\n",
      "[I 2019-03-27 15:26:09,685] Finished a trial resulted in value: 2.4517082262063212. Current best value is 1.44615179930778 with parameters: {'max_depth': 70.99966855193003, 'n_estimators': 26.037612886557305, 'max_features': 6, 'min_samples_split': 2, 'min_samples_leaf': 1}.\n",
      "[I 2019-03-27 15:26:09,879] Finished a trial resulted in value: 3.087928669752723. Current best value is 1.44615179930778 with parameters: {'max_depth': 70.99966855193003, 'n_estimators': 26.037612886557305, 'max_features': 6, 'min_samples_split': 2, 'min_samples_leaf': 1}.\n",
      "[I 2019-03-27 15:26:10,114] Finished a trial resulted in value: 2.7628159081027315. Current best value is 1.44615179930778 with parameters: {'max_depth': 70.99966855193003, 'n_estimators': 26.037612886557305, 'max_features': 6, 'min_samples_split': 2, 'min_samples_leaf': 1}.\n",
      "[I 2019-03-27 15:26:10,251] Finished a trial resulted in value: 3.400338410986943. Current best value is 1.44615179930778 with parameters: {'max_depth': 70.99966855193003, 'n_estimators': 26.037612886557305, 'max_features': 6, 'min_samples_split': 2, 'min_samples_leaf': 1}.\n",
      "[I 2019-03-27 15:26:12,621] Finished a trial resulted in value: 2.0050011393772764. Current best value is 1.44615179930778 with parameters: {'max_depth': 70.99966855193003, 'n_estimators': 26.037612886557305, 'max_features': 6, 'min_samples_split': 2, 'min_samples_leaf': 1}.\n",
      "[I 2019-03-27 15:26:17,176] Finished a trial resulted in value: 1.7517414644861404. Current best value is 1.44615179930778 with parameters: {'max_depth': 70.99966855193003, 'n_estimators': 26.037612886557305, 'max_features': 6, 'min_samples_split': 2, 'min_samples_leaf': 1}.\n",
      "[I 2019-03-27 15:26:23,272] Finished a trial resulted in value: 2.2446506998502844. Current best value is 1.44615179930778 with parameters: {'max_depth': 70.99966855193003, 'n_estimators': 26.037612886557305, 'max_features': 6, 'min_samples_split': 2, 'min_samples_leaf': 1}.\n",
      "[I 2019-03-27 15:26:28,152] Finished a trial resulted in value: 1.7273021487042155. Current best value is 1.44615179930778 with parameters: {'max_depth': 70.99966855193003, 'n_estimators': 26.037612886557305, 'max_features': 6, 'min_samples_split': 2, 'min_samples_leaf': 1}.\n",
      "[I 2019-03-27 15:26:28,981] Finished a trial resulted in value: 2.3157426094061733. Current best value is 1.44615179930778 with parameters: {'max_depth': 70.99966855193003, 'n_estimators': 26.037612886557305, 'max_features': 6, 'min_samples_split': 2, 'min_samples_leaf': 1}.\n",
      "[I 2019-03-27 15:26:31,597] Finished a trial resulted in value: 1.541978713180044. Current best value is 1.44615179930778 with parameters: {'max_depth': 70.99966855193003, 'n_estimators': 26.037612886557305, 'max_features': 6, 'min_samples_split': 2, 'min_samples_leaf': 1}.\n",
      "[I 2019-03-27 15:26:32,883] Finished a trial resulted in value: 2.6722119688683965. Current best value is 1.44615179930778 with parameters: {'max_depth': 70.99966855193003, 'n_estimators': 26.037612886557305, 'max_features': 6, 'min_samples_split': 2, 'min_samples_leaf': 1}.\n",
      "[I 2019-03-27 15:26:33,512] Finished a trial resulted in value: 2.840158444354299. Current best value is 1.44615179930778 with parameters: {'max_depth': 70.99966855193003, 'n_estimators': 26.037612886557305, 'max_features': 6, 'min_samples_split': 2, 'min_samples_leaf': 1}.\n",
      "[I 2019-03-27 15:26:33,983] Finished a trial resulted in value: 2.6010827585579626. Current best value is 1.44615179930778 with parameters: {'max_depth': 70.99966855193003, 'n_estimators': 26.037612886557305, 'max_features': 6, 'min_samples_split': 2, 'min_samples_leaf': 1}.\n",
      "[I 2019-03-27 15:26:35,503] Finished a trial resulted in value: 1.631049498056311. Current best value is 1.44615179930778 with parameters: {'max_depth': 70.99966855193003, 'n_estimators': 26.037612886557305, 'max_features': 6, 'min_samples_split': 2, 'min_samples_leaf': 1}.\n",
      "[I 2019-03-27 15:26:36,569] Finished a trial resulted in value: 2.5410174707060227. Current best value is 1.44615179930778 with parameters: {'max_depth': 70.99966855193003, 'n_estimators': 26.037612886557305, 'max_features': 6, 'min_samples_split': 2, 'min_samples_leaf': 1}.\n",
      "[I 2019-03-27 15:26:38,092] Finished a trial resulted in value: 1.7505880356788908. Current best value is 1.44615179930778 with parameters: {'max_depth': 70.99966855193003, 'n_estimators': 26.037612886557305, 'max_features': 6, 'min_samples_split': 2, 'min_samples_leaf': 1}.\n",
      "[I 2019-03-27 15:26:39,249] Finished a trial resulted in value: 3.271863109904177. Current best value is 1.44615179930778 with parameters: {'max_depth': 70.99966855193003, 'n_estimators': 26.037612886557305, 'max_features': 6, 'min_samples_split': 2, 'min_samples_leaf': 1}.\n",
      "[I 2019-03-27 15:26:43,306] Finished a trial resulted in value: 2.7249607451690396. Current best value is 1.44615179930778 with parameters: {'max_depth': 70.99966855193003, 'n_estimators': 26.037612886557305, 'max_features': 6, 'min_samples_split': 2, 'min_samples_leaf': 1}.\n",
      "[I 2019-03-27 15:26:44,162] Finished a trial resulted in value: 1.7526318739493365. Current best value is 1.44615179930778 with parameters: {'max_depth': 70.99966855193003, 'n_estimators': 26.037612886557305, 'max_features': 6, 'min_samples_split': 2, 'min_samples_leaf': 1}.\n",
      "[I 2019-03-27 15:26:46,074] Finished a trial resulted in value: 2.8619655565918642. Current best value is 1.44615179930778 with parameters: {'max_depth': 70.99966855193003, 'n_estimators': 26.037612886557305, 'max_features': 6, 'min_samples_split': 2, 'min_samples_leaf': 1}.\n",
      "[I 2019-03-27 15:26:46,381] Finished a trial resulted in value: 3.6551387465206693. Current best value is 1.44615179930778 with parameters: {'max_depth': 70.99966855193003, 'n_estimators': 26.037612886557305, 'max_features': 6, 'min_samples_split': 2, 'min_samples_leaf': 1}.\n",
      "[I 2019-03-27 15:26:48,378] Finished a trial resulted in value: 3.3825247283847117. Current best value is 1.44615179930778 with parameters: {'max_depth': 70.99966855193003, 'n_estimators': 26.037612886557305, 'max_features': 6, 'min_samples_split': 2, 'min_samples_leaf': 1}.\n",
      "[I 2019-03-27 15:26:49,109] Finished a trial resulted in value: 2.326099573950291. Current best value is 1.44615179930778 with parameters: {'max_depth': 70.99966855193003, 'n_estimators': 26.037612886557305, 'max_features': 6, 'min_samples_split': 2, 'min_samples_leaf': 1}.\n",
      "[I 2019-03-27 15:26:49,973] Finished a trial resulted in value: 2.831074682178079. Current best value is 1.44615179930778 with parameters: {'max_depth': 70.99966855193003, 'n_estimators': 26.037612886557305, 'max_features': 6, 'min_samples_split': 2, 'min_samples_leaf': 1}.\n",
      "[I 2019-03-27 15:26:51,144] Finished a trial resulted in value: 1.907135885322374. Current best value is 1.44615179930778 with parameters: {'max_depth': 70.99966855193003, 'n_estimators': 26.037612886557305, 'max_features': 6, 'min_samples_split': 2, 'min_samples_leaf': 1}.\n",
      "[I 2019-03-27 15:26:51,686] Finished a trial resulted in value: 1.7485116956656857. Current best value is 1.44615179930778 with parameters: {'max_depth': 70.99966855193003, 'n_estimators': 26.037612886557305, 'max_features': 6, 'min_samples_split': 2, 'min_samples_leaf': 1}.\n",
      "[I 2019-03-27 15:26:56,793] Finished a trial resulted in value: 3.056189535946087. Current best value is 1.44615179930778 with parameters: {'max_depth': 70.99966855193003, 'n_estimators': 26.037612886557305, 'max_features': 6, 'min_samples_split': 2, 'min_samples_leaf': 1}.\n",
      "[I 2019-03-27 15:26:58,028] Finished a trial resulted in value: 2.460004997054842. Current best value is 1.44615179930778 with parameters: {'max_depth': 70.99966855193003, 'n_estimators': 26.037612886557305, 'max_features': 6, 'min_samples_split': 2, 'min_samples_leaf': 1}.\n",
      "[I 2019-03-27 15:26:59,101] Finished a trial resulted in value: 4.095979905723119. Current best value is 1.44615179930778 with parameters: {'max_depth': 70.99966855193003, 'n_estimators': 26.037612886557305, 'max_features': 6, 'min_samples_split': 2, 'min_samples_leaf': 1}.\n",
      "[I 2019-03-27 15:26:59,682] Finished a trial resulted in value: 2.597718414987545. Current best value is 1.44615179930778 with parameters: {'max_depth': 70.99966855193003, 'n_estimators': 26.037612886557305, 'max_features': 6, 'min_samples_split': 2, 'min_samples_leaf': 1}.\n",
      "[I 2019-03-27 15:27:00,528] Finished a trial resulted in value: 1.5563597182462405. Current best value is 1.44615179930778 with parameters: {'max_depth': 70.99966855193003, 'n_estimators': 26.037612886557305, 'max_features': 6, 'min_samples_split': 2, 'min_samples_leaf': 1}.\n",
      "[I 2019-03-27 15:27:00,713] Finished a trial resulted in value: 3.8649148346493765. Current best value is 1.44615179930778 with parameters: {'max_depth': 70.99966855193003, 'n_estimators': 26.037612886557305, 'max_features': 6, 'min_samples_split': 2, 'min_samples_leaf': 1}.\n",
      "[I 2019-03-27 15:27:00,972] Finished a trial resulted in value: 1.9770488892082767. Current best value is 1.44615179930778 with parameters: {'max_depth': 70.99966855193003, 'n_estimators': 26.037612886557305, 'max_features': 6, 'min_samples_split': 2, 'min_samples_leaf': 1}.\n",
      "[I 2019-03-27 15:27:01,101] Finished a trial resulted in value: 3.5533439425800273. Current best value is 1.44615179930778 with parameters: {'max_depth': 70.99966855193003, 'n_estimators': 26.037612886557305, 'max_features': 6, 'min_samples_split': 2, 'min_samples_leaf': 1}.\n",
      "[I 2019-03-27 15:27:01,373] Finished a trial resulted in value: 3.2331493547250147. Current best value is 1.44615179930778 with parameters: {'max_depth': 70.99966855193003, 'n_estimators': 26.037612886557305, 'max_features': 6, 'min_samples_split': 2, 'min_samples_leaf': 1}.\n",
      "[I 2019-03-27 15:27:01,793] Finished a trial resulted in value: 3.0229563814276093. Current best value is 1.44615179930778 with parameters: {'max_depth': 70.99966855193003, 'n_estimators': 26.037612886557305, 'max_features': 6, 'min_samples_split': 2, 'min_samples_leaf': 1}.\n",
      "[I 2019-03-27 15:27:02,063] Finished a trial resulted in value: 3.01999978175861. Current best value is 1.44615179930778 with parameters: {'max_depth': 70.99966855193003, 'n_estimators': 26.037612886557305, 'max_features': 6, 'min_samples_split': 2, 'min_samples_leaf': 1}.\n",
      "[I 2019-03-27 15:27:02,394] Finished a trial resulted in value: 3.7416095196479544. Current best value is 1.44615179930778 with parameters: {'max_depth': 70.99966855193003, 'n_estimators': 26.037612886557305, 'max_features': 6, 'min_samples_split': 2, 'min_samples_leaf': 1}.\n",
      "[I 2019-03-27 15:27:02,962] Finished a trial resulted in value: 2.0710997459883784. Current best value is 1.44615179930778 with parameters: {'max_depth': 70.99966855193003, 'n_estimators': 26.037612886557305, 'max_features': 6, 'min_samples_split': 2, 'min_samples_leaf': 1}.\n"
     ]
    }
   ],
   "source": [
    "def objective_rf(trial):\n",
    "    max_depth = int(trial.suggest_loguniform('max_depth', 2, 100))\n",
    "    n_estimators = int(trial.suggest_loguniform('n_estimators', 2, 1000))\n",
    "    max_features = trial.suggest_int('max_features', 1, 10)\n",
    "    min_samples_split = trial.suggest_int('min_samples_split', 2, 10)\n",
    "    min_samples_leaf = trial.suggest_int('min_samples_leaf', 1, 10)\n",
    "        \n",
    "    n_folds = 4\n",
    "    score = 0\n",
    "    for _ in range(n_folds):\n",
    "        rf = RandomForestRegressor(max_depth=max_depth, n_estimators=n_estimators, max_features=max_features,\n",
    "                              min_samples_split=min_samples_split, min_samples_leaf=min_samples_leaf)\n",
    "        X_trn, X_val, y_trn, y_val = train_test_split(X_train, y_train)\n",
    "        rf.fit(X_trn, y_trn)\n",
    "        y_pred = rf.predict(X_val)\n",
    "        score += mean_squared_error(y_val, y_pred)\n",
    "    return score/n_folds\n",
    "\n",
    "study = optuna.create_study()\n",
    "study.optimize(objective_rf, n_trials=100)"
   ]
  },
  {
   "cell_type": "code",
   "execution_count": 49,
   "metadata": {},
   "outputs": [
    {
     "name": "stdout",
     "output_type": "stream",
     "text": [
      "Test R2: 0.6391 ± 0.0087\n",
      "Test MSE: 1.4744 ± 0.0355\n"
     ]
    }
   ],
   "source": [
    "# Optimized\n",
    "\n",
    "n = 10\n",
    "r2 = np.zeros(n)\n",
    "mse = np.zeros(n)\n",
    "\n",
    "for i in range(n):\n",
    "    RF = RandomForestRegressor(max_depth=71, n_estimators=26, max_features=6,\n",
    "                              min_samples_split=2, min_samples_leaf=1)\n",
    "    RF.fit(X_train, y_train)\n",
    "    y_pred = RF.predict(X_test)\n",
    "    r2[i] = r2_score(y_test, y_pred)\n",
    "    mse[i] = mean_squared_error(y_test, y_pred)\n",
    "\n",
    "print(\"Test R2: {:.4f} ± {:.4f}\".format(np.mean(r2), np.std(r2)))\n",
    "print(\"Test MSE: {:.4f} ± {:.4f}\".format(np.mean(mse), np.std(mse)))"
   ]
  },
  {
   "cell_type": "code",
   "execution_count": 15,
   "metadata": {
    "scrolled": false
   },
   "outputs": [
    {
     "data": {
      "image/png": "[encoded data removed]",
      "text/plain": [
       "<Figure size 576x576 with 1 Axes>"
      ]
     },
     "metadata": {
      "needs_background": "light"
     },
     "output_type": "display_data"
    }
   ],
   "source": [
    "plt.figure(figsize=(8,8))\n",
    "plt.rcParams[\"font.size\"] = 12\n",
    "plt.scatter(y_train_pred, y_train, c='blue', marker='.', alpha=0.3, label='Train')\n",
    "plt.scatter(y_pred, y_test, c='red', marker='.', alpha=0.5, label='Test')\n",
    "plt.xlabel('Predicted value')\n",
    "plt.ylabel('Actual value')\n",
    "plt.title('Random Forest Regression on Morgan')\n",
    "plt.legend(loc='lower left')\n",
    "#plt.hlines(y=0, xmin=1, xmax=7, lw=2, color='black')\n",
    "plt.show()"
   ]
  },
  {
   "cell_type": "markdown",
   "metadata": {},
   "source": [
    "# DeepChem"
   ]
  },
  {
   "cell_type": "code",
   "execution_count": 2,
   "metadata": {},
   "outputs": [],
   "source": [
    "import os\n",
    "import deepchem as dc\n",
    "from deepchem.models.tensorgraph.models.graph_models import GraphConvModel"
   ]
  },
  {
   "cell_type": "code",
   "execution_count": 3,
   "metadata": {},
   "outputs": [
    {
     "name": "stdout",
     "output_type": "stream",
     "text": [
      "Loading raw samples now.\n",
      "shard_size: 8192\n",
      "About to start loading CSV from data/sol_train.csv\n",
      "Loading shard 1 of size 8192.\n",
      "Featurizing sample 0\n",
      "TIMING: featurizing shard 0 took 2.835 s\n",
      "TIMING: dataset construction took 3.735 s\n",
      "Loading dataset from disk.\n",
      "Loading raw samples now.\n",
      "shard_size: 8192\n",
      "About to start loading CSV from data/sol_test.csv\n",
      "Loading shard 1 of size 8192.\n",
      "Featurizing sample 0\n",
      "TIMING: featurizing shard 0 took 0.983 s\n",
      "TIMING: dataset construction took 1.225 s\n",
      "Loading dataset from disk.\n"
     ]
    }
   ],
   "source": [
    "graph_featurizer = dc.feat.graph_features.ConvMolFeaturizer()\n",
    "loader = dc.data.data_loader.CSVLoader( tasks=['solubility'], smiles_field=\"SMILES\", featurizer=graph_featurizer )\n",
    "trainset = loader.featurize( 'data/sol_train.csv' )\n",
    "testset = loader.featurize( 'data/sol_test.csv' )"
   ]
  },
  {
   "cell_type": "code",
   "execution_count": 8,
   "metadata": {},
   "outputs": [
    {
     "name": "stderr",
     "output_type": "stream",
     "text": [
      "/home/honda/anaconda3/envs/deepchem/lib/python3.5/site-packages/tensorflow/python/ops/gradients_impl.py:98: UserWarning: Converting sparse IndexedSlices to a dense Tensor of unknown shape. This may consume a large amount of memory.\n",
      "  \"Converting sparse IndexedSlices to a dense Tensor of unknown shape. \"\n"
     ]
    },
    {
     "data": {
      "text/plain": [
       "9.210203170776367"
      ]
     },
     "execution_count": 8,
     "metadata": {},
     "output_type": "execute_result"
    }
   ],
   "source": [
    "os.environ[\"CUDA_VISIBLE_DEVICES\"] = \"0\"\n",
    "model = GraphConvModel(n_tasks=1, graph_conv_layers=[64,64], dropout=0.2, batch_size=50, mode='regression')\n",
    "\n",
    "# Epochs\n",
    "model.fit(trainset, nb_epoch=50)"
   ]
  },
  {
   "cell_type": "code",
   "execution_count": 7,
   "metadata": {},
   "outputs": [
    {
     "name": "stdout",
     "output_type": "stream",
     "text": [
      "Evaluating model\n",
      "computed_metrics: [0.9877486123645902]\n",
      "Train R2 Score: 0.987749\n",
      "computed_metrics: [0.8917750532009926]\n",
      "Test R2 Score: 0.891775\n"
     ]
    }
   ],
   "source": [
    "metric = dc.metrics.Metric(\n",
    "    dc.metrics.r2_score, np.mean, mode=\"regression\")\n",
    "\n",
    "print(\"Evaluating model\")\n",
    "train_scores = model.evaluate(trainset, [metric])\n",
    "print(\"Train R2 Score: %f\" % train_scores[\"mean-r2_score\"])\n",
    "test_scores = model.evaluate(testset, [metric])\n",
    "print(\"Test R2 Score: %f\" % test_scores[\"mean-r2_score\"])"
   ]
  },
  {
   "cell_type": "code",
   "execution_count": 12,
   "metadata": {
    "scrolled": true
   },
   "outputs": [
    {
     "name": "stdout",
     "output_type": "stream",
     "text": [
      "Evaluating model\n",
      "computed_metrics: [0.973174331288795]\n",
      "Train R2 Score: 0.973174\n",
      "computed_metrics: [0.8845266039331535]\n",
      "Test R2 Score: 0.884527\n"
     ]
    }
   ],
   "source": [
    "metric = dc.metrics.Metric(\n",
    "    dc.metrics.r2_score, np.mean, mode=\"regression\")\n",
    "\n",
    "print(\"Evaluating model\")\n",
    "train_scores = model.evaluate(trainset, [metric])\n",
    "print(\"Train R2 Score: %f\" % train_scores[\"mean-r2_score\"])\n",
    "test_scores = model.evaluate(testset, [metric])\n",
    "print(\"Test R2 Score: %f\" % test_scores[\"mean-r2_score\"])"
   ]
  },
  {
   "cell_type": "code",
   "execution_count": 13,
   "metadata": {},
   "outputs": [
    {
     "name": "stdout",
     "output_type": "stream",
     "text": [
      "Evaluating model\n",
      "computed_metrics: [0.11111642355590555]\n",
      "Train MSE: 0.111116\n",
      "computed_metrics: [0.47178782394475355]\n",
      "Test MSE: 0.471788\n"
     ]
    }
   ],
   "source": [
    "metric = dc.metrics.Metric(\n",
    "    dc.metrics.mean_squared_error, np.mean, mode=\"regression\")\n",
    "\n",
    "print(\"Evaluating model\")\n",
    "train_scores = model.evaluate(trainset, [metric])\n",
    "print(\"Train MSE: %f\" % train_scores[\"mean-mean_squared_error\"])\n",
    "test_scores = model.evaluate(testset, [metric])\n",
    "print(\"Test MSE: %f\" % test_scores[\"mean-mean_squared_error\"])"
   ]
  },
  {
   "cell_type": "code",
   "execution_count": null,
   "metadata": {},
   "outputs": [],
   "source": []
  }
 ],
 "metadata": {
  "kernelspec": {
   "display_name": "Python 3",
   "language": "python",
   "name": "python3"
  },
  "language_info": {
   "codemirror_mode": {
    "name": "ipython",
    "version": 3
   },
   "file_extension": ".py",
   "mimetype": "text/x-python",
   "name": "python",
   "nbconvert_exporter": "python",
   "pygments_lexer": "ipython3",
   "version": "3.5.6"
  }
 },
 "nbformat": 4,
 "nbformat_minor": 2
}
