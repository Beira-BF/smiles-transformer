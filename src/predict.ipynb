{
 "cells": [
  {
   "cell_type": "code",
   "execution_count": 2,
   "metadata": {},
   "outputs": [
    {
     "data": {
      "text/plain": [
       "['',\n",
       " '/home/honda/anaconda3/lib/python36.zip',\n",
       " '/home/honda/anaconda3/lib/python3.6',\n",
       " '/home/honda/anaconda3/lib/python3.6/lib-dynload',\n",
       " '/home/honda/anaconda3/lib/python3.6/site-packages',\n",
       " '/home/honda/anaconda3/lib/python3.6/site-packages/IPython/extensions',\n",
       " '/home/honda/.ipython']"
      ]
     },
     "execution_count": 2,
     "metadata": {},
     "output_type": "execute_result"
    }
   ],
   "source": [
    "import sys\n",
    "sys.path"
   ]
  },
  {
   "cell_type": "code",
   "execution_count": 1,
   "metadata": {},
   "outputs": [
    {
     "name": "stderr",
     "output_type": "stream",
     "text": [
      "/home/honda/anaconda3/lib/python3.6/site-packages/sklearn/ensemble/weight_boosting.py:29: DeprecationWarning: numpy.core.umath_tests is an internal NumPy module and should not be imported. It will be removed in a future NumPy release.\n",
      "  from numpy.core.umath_tests import inner1d\n"
     ]
    },
    {
     "ename": "ModuleNotFoundError",
     "evalue": "No module named 'chainer'",
     "output_type": "error",
     "traceback": [
      "\u001b[0;31m---------------------------------------------------------------------------\u001b[0m",
      "\u001b[0;31mModuleNotFoundError\u001b[0m                       Traceback (most recent call last)",
      "\u001b[0;32m<ipython-input-1-c978672ad6be>\u001b[0m in \u001b[0;36m<module>\u001b[0;34m\u001b[0m\n\u001b[1;32m      6\u001b[0m \u001b[0;32mfrom\u001b[0m \u001b[0msklearn\u001b[0m\u001b[0;34m.\u001b[0m\u001b[0mmetrics\u001b[0m \u001b[0;32mimport\u001b[0m \u001b[0mmean_squared_error\u001b[0m\u001b[0;34m,\u001b[0m \u001b[0mr2_score\u001b[0m\u001b[0;34m\u001b[0m\u001b[0m\n\u001b[1;32m      7\u001b[0m \u001b[0;34m\u001b[0m\u001b[0m\n\u001b[0;32m----> 8\u001b[0;31m \u001b[0;32mimport\u001b[0m \u001b[0mchainer\u001b[0m\u001b[0;34m\u001b[0m\u001b[0m\n\u001b[0m\u001b[1;32m      9\u001b[0m \u001b[0;32mfrom\u001b[0m \u001b[0mseq2seq\u001b[0m \u001b[0;32mimport\u001b[0m \u001b[0mSeq2seq\u001b[0m\u001b[0;34m,\u001b[0m \u001b[0mload_vocabulary\u001b[0m\u001b[0;34m\u001b[0m\u001b[0m\n\u001b[1;32m     10\u001b[0m \u001b[0;34m\u001b[0m\u001b[0m\n",
      "\u001b[0;31mModuleNotFoundError\u001b[0m: No module named 'chainer'"
     ]
    }
   ],
   "source": [
    "import numpy as np\n",
    "import pandas as pd\n",
    "import matplotlib.pyplot as plt\n",
    "from sklearn.ensemble import RandomForestRegressor\n",
    "from sklearn.model_selection import train_test_split, GridSearchCV\n",
    "from sklearn.metrics import mean_squared_error, r2_score\n",
    "\n",
    "import chainer\n",
    "from seq2seq import Seq2seq, load_vocabulary\n",
    "\n",
    "UNK, EOS = 0, 1"
   ]
  },
  {
   "cell_type": "code",
   "execution_count": 12,
   "metadata": {},
   "outputs": [
    {
     "data": {
      "text/plain": [
       "['',\n",
       " '/home/honda/.pyenv/versions/3.6.7/lib/python36.zip',\n",
       " '/home/honda/.pyenv/versions/3.6.7/lib/python3.6',\n",
       " '/home/honda/.pyenv/versions/3.6.7/lib/python3.6/lib-dynload',\n",
       " '/home/honda/.pyenv/versions/3.6.7/lib/python3.6/site-packages',\n",
       " '/home/honda/.pyenv/versions/3.6.7/lib/python3.6/site-packages/IPython/extensions',\n",
       " '/home/honda/.ipython']"
      ]
     },
     "execution_count": 12,
     "metadata": {},
     "output_type": "execute_result"
    }
   ],
   "source": [
    "import sys\n",
    "sys.path"
   ]
  },
  {
   "cell_type": "code",
   "execution_count": 11,
   "metadata": {},
   "outputs": [
    {
     "data": {
      "text/html": [
       "<div>\n",
       "<style scoped>\n",
       "    .dataframe tbody tr th:only-of-type {\n",
       "        vertical-align: middle;\n",
       "    }\n",
       "\n",
       "    .dataframe tbody tr th {\n",
       "        vertical-align: top;\n",
       "    }\n",
       "\n",
       "    .dataframe thead th {\n",
       "        text-align: right;\n",
       "    }\n",
       "</style>\n",
       "<table border=\"1\" class=\"dataframe\">\n",
       "  <thead>\n",
       "    <tr style=\"text-align: right;\">\n",
       "      <th></th>\n",
       "      <th>Unnamed: 0</th>\n",
       "      <th>SMILES</th>\n",
       "      <th>unknown</th>\n",
       "      <th>solubility</th>\n",
       "      <th>processed_smiles</th>\n",
       "    </tr>\n",
       "  </thead>\n",
       "  <tbody>\n",
       "    <tr>\n",
       "      <th>0</th>\n",
       "      <td>418</td>\n",
       "      <td>[nH0]1c(SC)c2c([nH0]cc[nH0]2)[nH0]c1</td>\n",
       "      <td>6966-78-5</td>\n",
       "      <td>-2.36</td>\n",
       "      <td>[ n H 0 ] 1 c ( S C ) c 2 c ( [ n H 0 ] c c [ ...</td>\n",
       "    </tr>\n",
       "    <tr>\n",
       "      <th>1</th>\n",
       "      <td>342</td>\n",
       "      <td>CCC(C)Cl</td>\n",
       "      <td>78-86-4</td>\n",
       "      <td>-1.96</td>\n",
       "      <td>C C C ( C ) Cl</td>\n",
       "    </tr>\n",
       "    <tr>\n",
       "      <th>2</th>\n",
       "      <td>1058</td>\n",
       "      <td>O=C(NC(=O)c1ccccc1)c1ccccc1</td>\n",
       "      <td>614-28-8</td>\n",
       "      <td>-2.27</td>\n",
       "      <td>O = C ( N C ( = O ) c 1 c c c c c 1 ) c 1 c c ...</td>\n",
       "    </tr>\n",
       "    <tr>\n",
       "      <th>3</th>\n",
       "      <td>113</td>\n",
       "      <td>CC(C(C)(C)C)O</td>\n",
       "      <td>464-07-3</td>\n",
       "      <td>-0.62</td>\n",
       "      <td>C C ( C ( C ) ( C ) C ) O</td>\n",
       "    </tr>\n",
       "    <tr>\n",
       "      <th>4</th>\n",
       "      <td>294</td>\n",
       "      <td>[O-][N+](c1c(O)cccc1)=O</td>\n",
       "      <td>88-75-5</td>\n",
       "      <td>-1.74</td>\n",
       "      <td>[ O- ] [ N+ ] ( c 1 c ( O ) c c c c 1 ) = O</td>\n",
       "    </tr>\n",
       "  </tbody>\n",
       "</table>\n",
       "</div>"
      ],
      "text/plain": [
       "   Unnamed: 0                                SMILES    unknown  solubility  \\\n",
       "0         418  [nH0]1c(SC)c2c([nH0]cc[nH0]2)[nH0]c1  6966-78-5       -2.36   \n",
       "1         342                              CCC(C)Cl    78-86-4       -1.96   \n",
       "2        1058           O=C(NC(=O)c1ccccc1)c1ccccc1   614-28-8       -2.27   \n",
       "3         113                         CC(C(C)(C)C)O   464-07-3       -0.62   \n",
       "4         294               [O-][N+](c1c(O)cccc1)=O    88-75-5       -1.74   \n",
       "\n",
       "                                    processed_smiles  \n",
       "0  [ n H 0 ] 1 c ( S C ) c 2 c ( [ n H 0 ] c c [ ...  \n",
       "1                                     C C C ( C ) Cl  \n",
       "2  O = C ( N C ( = O ) c 1 c c c c c 1 ) c 1 c c ...  \n",
       "3                          C C ( C ( C ) ( C ) C ) O  \n",
       "4        [ O- ] [ N+ ] ( c 1 c ( O ) c c c c 1 ) = O  "
      ]
     },
     "execution_count": 11,
     "metadata": {},
     "output_type": "execute_result"
    }
   ],
   "source": [
    "df_train = pd.read_csv('data/sol_train.csv')\n",
    "df_test = pd.read_csv('data/sol_test.csv')\n",
    "df_train.head()"
   ]
  },
  {
   "cell_type": "code",
   "execution_count": 10,
   "metadata": {},
   "outputs": [],
   "source": [
    "x_train,x_test,y_train,y_test = train_test_split(df_sol['processed_smiles'], df_sol['solubility'])"
   ]
  },
  {
   "cell_type": "code",
   "execution_count": 14,
   "metadata": {},
   "outputs": [],
   "source": [
    "def load_data(vocabulary, lst):\n",
    "    data = []\n",
    "    for l in lst:\n",
    "        words = l.strip().split()\n",
    "        array = np.array([vocabulary.get(w, UNK) for w in words], np.int32)\n",
    "        data.append(array)\n",
    "    return data"
   ]
  },
  {
   "cell_type": "code",
   "execution_count": 21,
   "metadata": {},
   "outputs": [],
   "source": [
    "source_ids = load_vocabulary('vocab_src.txt')\n",
    "xnum_train = load_data(source_ids, x_train)\n",
    "xnum_test = load_data(source_ids, x_test)"
   ]
  },
  {
   "cell_type": "markdown",
   "metadata": {},
   "source": [
    "# Encode to fingerprint"
   ]
  },
  {
   "cell_type": "code",
   "execution_count": null,
   "metadata": {},
   "outputs": [],
   "source": [
    "model = Seq2seq(1, 46, 46, 256)\n",
    "chainer.serializers.load_npz('result/model_iter_132000.npz', model)"
   ]
  },
  {
   "cell_type": "code",
   "execution_count": 48,
   "metadata": {},
   "outputs": [],
   "source": [
    "X_train = model.encode(xnum_train)[0].data\n",
    "X_test = model.encode(xnum_test)[0].data"
   ]
  },
  {
   "cell_type": "markdown",
   "metadata": {},
   "source": [
    "# Prediction"
   ]
  },
  {
   "cell_type": "code",
   "execution_count": 49,
   "metadata": {},
   "outputs": [
    {
     "data": {
      "text/plain": [
       "RandomForestRegressor(bootstrap=True, criterion='mse', max_depth=None,\n",
       "           max_features='auto', max_leaf_nodes=None,\n",
       "           min_impurity_decrease=0.0, min_impurity_split=None,\n",
       "           min_samples_leaf=1, min_samples_split=2,\n",
       "           min_weight_fraction_leaf=0.0, n_estimators=10, n_jobs=1,\n",
       "           oob_score=False, random_state=None, verbose=0, warm_start=False)"
      ]
     },
     "execution_count": 49,
     "metadata": {},
     "output_type": "execute_result"
    }
   ],
   "source": [
    "RF = RandomForestRegressor()\n",
    "RF.fit(X_train, y_train)"
   ]
  },
  {
   "cell_type": "code",
   "execution_count": 50,
   "metadata": {},
   "outputs": [
    {
     "name": "stdout",
     "output_type": "stream",
     "text": [
      "MSE train : 0.223, test : 1.209\n",
      "R2 train : 0.948, test : 0.677\n"
     ]
    }
   ],
   "source": [
    "y_train_pred = RF.predict(X_train)\n",
    "y_test_pred = RF.predict(X_test)\n",
    "\n",
    "print('MSE train : %.3f, test : %.3f' % (mean_squared_error(y_train, y_train_pred), mean_squared_error(y_test, y_test_pred)) )\n",
    "print('R2 train : %.3f, test : %.3f' % (r2_score(y_train, y_train_pred), r2_score(y_test, y_test_pred)) )"
   ]
  },
  {
   "cell_type": "code",
   "execution_count": 58,
   "metadata": {},
   "outputs": [],
   "source": [
    "param_grid = { \"max_depth\": [2,5,10, None],\n",
    "                \"n_estimators\": [10,50,100,300],\n",
    "                \"max_features\": [1, 3, 10],\n",
    "                \"min_samples_split\": [2, 3, 10],\n",
    "                \"min_samples_leaf\": [1, 3, 10]\n",
    "}"
   ]
  },
  {
   "cell_type": "code",
   "execution_count": 59,
   "metadata": {
    "scrolled": true
   },
   "outputs": [
    {
     "name": "stdout",
     "output_type": "stream",
     "text": [
      "Fitting 5 folds for each of 432 candidates, totalling 2160 fits\n"
     ]
    },
    {
     "name": "stderr",
     "output_type": "stream",
     "text": [
      "[Parallel(n_jobs=8)]: Done   2 tasks      | elapsed:    2.1s\n",
      "[Parallel(n_jobs=8)]: Done   9 tasks      | elapsed:    6.8s\n",
      "[Parallel(n_jobs=8)]: Done  16 tasks      | elapsed:    7.0s\n",
      "[Parallel(n_jobs=8)]: Done  25 tasks      | elapsed:    7.2s\n",
      "[Parallel(n_jobs=8)]: Done  34 tasks      | elapsed:    7.5s\n",
      "[Parallel(n_jobs=8)]: Done  45 tasks      | elapsed:    7.7s\n",
      "[Parallel(n_jobs=8)]: Done  56 tasks      | elapsed:    8.0s\n",
      "[Parallel(n_jobs=8)]: Done  69 tasks      | elapsed:    8.4s\n",
      "[Parallel(n_jobs=8)]: Done  82 tasks      | elapsed:    8.6s\n",
      "[Parallel(n_jobs=8)]: Done  97 tasks      | elapsed:    9.0s\n",
      "[Parallel(n_jobs=8)]: Done 112 tasks      | elapsed:    9.4s\n",
      "[Parallel(n_jobs=8)]: Done 129 tasks      | elapsed:    9.9s\n",
      "[Parallel(n_jobs=8)]: Done 146 tasks      | elapsed:   10.3s\n",
      "[Parallel(n_jobs=8)]: Done 165 tasks      | elapsed:   10.7s\n",
      "[Parallel(n_jobs=8)]: Done 184 tasks      | elapsed:   11.3s\n",
      "[Parallel(n_jobs=8)]: Done 205 tasks      | elapsed:   11.8s\n",
      "[Parallel(n_jobs=8)]: Done 226 tasks      | elapsed:   12.5s\n",
      "[Parallel(n_jobs=8)]: Done 249 tasks      | elapsed:   13.2s\n",
      "[Parallel(n_jobs=8)]: Done 272 tasks      | elapsed:   13.8s\n",
      "[Parallel(n_jobs=8)]: Done 297 tasks      | elapsed:   14.5s\n",
      "[Parallel(n_jobs=8)]: Done 322 tasks      | elapsed:   15.2s\n",
      "[Parallel(n_jobs=8)]: Done 349 tasks      | elapsed:   16.1s\n",
      "[Parallel(n_jobs=8)]: Done 376 tasks      | elapsed:   16.9s\n",
      "[Parallel(n_jobs=8)]: Done 405 tasks      | elapsed:   18.1s\n",
      "[Parallel(n_jobs=8)]: Done 434 tasks      | elapsed:   19.3s\n",
      "[Parallel(n_jobs=8)]: Done 465 tasks      | elapsed:   20.5s\n",
      "[Parallel(n_jobs=8)]: Done 496 tasks      | elapsed:   21.8s\n",
      "[Parallel(n_jobs=8)]: Done 529 tasks      | elapsed:   23.3s\n",
      "[Parallel(n_jobs=8)]: Done 562 tasks      | elapsed:   24.3s\n",
      "[Parallel(n_jobs=8)]: Done 597 tasks      | elapsed:   25.3s\n",
      "[Parallel(n_jobs=8)]: Done 632 tasks      | elapsed:   26.4s\n",
      "[Parallel(n_jobs=8)]: Done 669 tasks      | elapsed:   27.5s\n",
      "[Parallel(n_jobs=8)]: Done 706 tasks      | elapsed:   28.6s\n",
      "[Parallel(n_jobs=8)]: Done 745 tasks      | elapsed:   29.8s\n",
      "[Parallel(n_jobs=8)]: Done 784 tasks      | elapsed:   31.2s\n",
      "[Parallel(n_jobs=8)]: Done 825 tasks      | elapsed:   32.7s\n",
      "[Parallel(n_jobs=8)]: Done 866 tasks      | elapsed:   34.3s\n",
      "[Parallel(n_jobs=8)]: Done 909 tasks      | elapsed:   35.9s\n",
      "[Parallel(n_jobs=8)]: Done 952 tasks      | elapsed:   38.7s\n",
      "[Parallel(n_jobs=8)]: Done 997 tasks      | elapsed:   41.5s\n",
      "[Parallel(n_jobs=8)]: Done 1042 tasks      | elapsed:   44.4s\n",
      "[Parallel(n_jobs=8)]: Done 1089 tasks      | elapsed:   47.3s\n",
      "[Parallel(n_jobs=8)]: Done 1136 tasks      | elapsed:   49.0s\n",
      "[Parallel(n_jobs=8)]: Done 1185 tasks      | elapsed:   50.6s\n",
      "[Parallel(n_jobs=8)]: Done 1234 tasks      | elapsed:   52.3s\n",
      "[Parallel(n_jobs=8)]: Done 1285 tasks      | elapsed:   54.2s\n",
      "[Parallel(n_jobs=8)]: Done 1336 tasks      | elapsed:   56.6s\n",
      "[Parallel(n_jobs=8)]: Done 1389 tasks      | elapsed:   59.2s\n",
      "[Parallel(n_jobs=8)]: Done 1442 tasks      | elapsed:  1.0min\n",
      "[Parallel(n_jobs=8)]: Done 1497 tasks      | elapsed:  1.1min\n",
      "[Parallel(n_jobs=8)]: Done 1552 tasks      | elapsed:  1.2min\n",
      "[Parallel(n_jobs=8)]: Done 1609 tasks      | elapsed:  1.3min\n",
      "[Parallel(n_jobs=8)]: Done 1666 tasks      | elapsed:  1.3min\n",
      "[Parallel(n_jobs=8)]: Done 1725 tasks      | elapsed:  1.3min\n",
      "[Parallel(n_jobs=8)]: Done 1784 tasks      | elapsed:  1.4min\n",
      "[Parallel(n_jobs=8)]: Done 1845 tasks      | elapsed:  1.4min\n",
      "[Parallel(n_jobs=8)]: Done 1906 tasks      | elapsed:  1.5min\n",
      "[Parallel(n_jobs=8)]: Done 1969 tasks      | elapsed:  1.5min\n",
      "[Parallel(n_jobs=8)]: Done 2032 tasks      | elapsed:  1.6min\n",
      "[Parallel(n_jobs=8)]: Done 2097 tasks      | elapsed:  1.7min\n",
      "[Parallel(n_jobs=8)]: Done 2160 out of 2160 | elapsed:  1.8min finished\n"
     ]
    },
    {
     "data": {
      "text/plain": [
       "GridSearchCV(cv=5, error_score='raise',\n",
       "       estimator=RandomForestRegressor(bootstrap=True, criterion='mse', max_depth=None,\n",
       "           max_features='auto', max_leaf_nodes=None,\n",
       "           min_impurity_decrease=0.0, min_impurity_split=None,\n",
       "           min_samples_leaf=1, min_samples_split=2,\n",
       "           min_weight_fraction_leaf=0.0, n_estimators=10, n_jobs=1,\n",
       "           oob_score=False, random_state=None, verbose=0, warm_start=False),\n",
       "       fit_params=None, iid=True, n_jobs=8,\n",
       "       param_grid={'max_depth': [2, 5, 10, None], 'n_estimators': [10, 50, 100, 300], 'max_features': [1, 3, 10], 'min_samples_split': [2, 3, 10], 'min_samples_leaf': [1, 3, 10]},\n",
       "       pre_dispatch='2*n_jobs', refit=True, return_train_score='warn',\n",
       "       scoring=None, verbose=10)"
      ]
     },
     "execution_count": 59,
     "metadata": {},
     "output_type": "execute_result"
    }
   ],
   "source": [
    "RF_grid = GridSearchCV(estimator=RandomForestRegressor(), param_grid=param_grid, cv=5, n_jobs=8, verbose=1)\n",
    "RF_grid.fit(X_train, y_train)"
   ]
  },
  {
   "cell_type": "code",
   "execution_count": 61,
   "metadata": {},
   "outputs": [
    {
     "data": {
      "text/plain": [
       "{'max_depth': None,\n",
       " 'max_features': 10,\n",
       " 'min_samples_leaf': 1,\n",
       " 'min_samples_split': 3,\n",
       " 'n_estimators': 300}"
      ]
     },
     "execution_count": 61,
     "metadata": {},
     "output_type": "execute_result"
    }
   ],
   "source": [
    "RF_grid.best_params_"
   ]
  },
  {
   "cell_type": "code",
   "execution_count": 62,
   "metadata": {},
   "outputs": [
    {
     "name": "stdout",
     "output_type": "stream",
     "text": [
      "MSE train : 0.178, test : 1.090\n",
      "R2 train : 0.958, test : 0.708\n"
     ]
    }
   ],
   "source": [
    "RF_grid.best_estimator_.fit(X_train, y_train)\n",
    "y_train_pred = RF_grid.best_estimator_.predict(X_train)\n",
    "y_test_pred = RF_grid.best_estimator_.predict(X_test)\n",
    "\n",
    "print('MSE train : %.3f, test : %.3f' % (mean_squared_error(y_train, y_train_pred), mean_squared_error(y_test, y_test_pred)) )\n",
    "print('R2 train : %.3f, test : %.3f' % (r2_score(y_train, y_train_pred), r2_score(y_test, y_test_pred)) )"
   ]
  },
  {
   "cell_type": "code",
   "execution_count": null,
   "metadata": {},
   "outputs": [],
   "source": [
    "RF = RandomForestRegressor()\n",
    "RF.fit(X_train, y_train)"
   ]
  }
 ],
 "metadata": {
  "kernelspec": {
   "display_name": "Python 3",
   "language": "python",
   "name": "python3"
  },
  "language_info": {
   "codemirror_mode": {
    "name": "ipython",
    "version": 3
   },
   "file_extension": ".py",
   "mimetype": "text/x-python",
   "name": "python",
   "nbconvert_exporter": "python",
   "pygments_lexer": "ipython3",
   "version": "3.6.6"
  }
 },
 "nbformat": 4,
 "nbformat_minor": 2
}
