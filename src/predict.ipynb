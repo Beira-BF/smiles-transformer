{
 "cells": [
  {
   "cell_type": "code",
   "execution_count": 1,
   "metadata": {},
   "outputs": [],
   "source": [
    "import numpy as np\n",
    "import pandas as pd\n",
    "import matplotlib.pyplot as plt\n",
    "from sklearn.ensemble import RandomForestRegressor\n",
    "from sklearn.model_selection import train_test_split, GridSearchCV\n",
    "from sklearn.metrics import mean_squared_error, r2_score\n",
    "\n",
    "import chainer\n",
    "from seq2seq import Seq2seq, load_vocabulary\n",
    "\n",
    "UNK, EOS = 0, 1"
   ]
  },
  {
   "cell_type": "code",
   "execution_count": 3,
   "metadata": {},
   "outputs": [
    {
     "data": {
      "text/html": [
       "<div>\n",
       "<style scoped>\n",
       "    .dataframe tbody tr th:only-of-type {\n",
       "        vertical-align: middle;\n",
       "    }\n",
       "\n",
       "    .dataframe tbody tr th {\n",
       "        vertical-align: top;\n",
       "    }\n",
       "\n",
       "    .dataframe thead th {\n",
       "        text-align: right;\n",
       "    }\n",
       "</style>\n",
       "<table border=\"1\" class=\"dataframe\">\n",
       "  <thead>\n",
       "    <tr style=\"text-align: right;\">\n",
       "      <th></th>\n",
       "      <th>Unnamed: 0</th>\n",
       "      <th>SMILES</th>\n",
       "      <th>unknown</th>\n",
       "      <th>solubility</th>\n",
       "      <th>processed_smiles</th>\n",
       "    </tr>\n",
       "  </thead>\n",
       "  <tbody>\n",
       "    <tr>\n",
       "      <th>0</th>\n",
       "      <td>418</td>\n",
       "      <td>[nH0]1c(SC)c2c([nH0]cc[nH0]2)[nH0]c1</td>\n",
       "      <td>6966-78-5</td>\n",
       "      <td>-2.36</td>\n",
       "      <td>[ n H 0 ] 1 c ( S C ) c 2 c ( [ n H 0 ] c c [ ...</td>\n",
       "    </tr>\n",
       "    <tr>\n",
       "      <th>1</th>\n",
       "      <td>342</td>\n",
       "      <td>CCC(C)Cl</td>\n",
       "      <td>78-86-4</td>\n",
       "      <td>-1.96</td>\n",
       "      <td>C C C ( C ) Cl</td>\n",
       "    </tr>\n",
       "    <tr>\n",
       "      <th>2</th>\n",
       "      <td>1058</td>\n",
       "      <td>O=C(NC(=O)c1ccccc1)c1ccccc1</td>\n",
       "      <td>614-28-8</td>\n",
       "      <td>-2.27</td>\n",
       "      <td>O = C ( N C ( = O ) c 1 c c c c c 1 ) c 1 c c ...</td>\n",
       "    </tr>\n",
       "    <tr>\n",
       "      <th>3</th>\n",
       "      <td>113</td>\n",
       "      <td>CC(C(C)(C)C)O</td>\n",
       "      <td>464-07-3</td>\n",
       "      <td>-0.62</td>\n",
       "      <td>C C ( C ( C ) ( C ) C ) O</td>\n",
       "    </tr>\n",
       "    <tr>\n",
       "      <th>4</th>\n",
       "      <td>294</td>\n",
       "      <td>[O-][N+](c1c(O)cccc1)=O</td>\n",
       "      <td>88-75-5</td>\n",
       "      <td>-1.74</td>\n",
       "      <td>[ O- ] [ N+ ] ( c 1 c ( O ) c c c c 1 ) = O</td>\n",
       "    </tr>\n",
       "  </tbody>\n",
       "</table>\n",
       "</div>"
      ],
      "text/plain": [
       "   Unnamed: 0                                SMILES    unknown  solubility  \\\n",
       "0         418  [nH0]1c(SC)c2c([nH0]cc[nH0]2)[nH0]c1  6966-78-5       -2.36   \n",
       "1         342                              CCC(C)Cl    78-86-4       -1.96   \n",
       "2        1058           O=C(NC(=O)c1ccccc1)c1ccccc1   614-28-8       -2.27   \n",
       "3         113                         CC(C(C)(C)C)O   464-07-3       -0.62   \n",
       "4         294               [O-][N+](c1c(O)cccc1)=O    88-75-5       -1.74   \n",
       "\n",
       "                                    processed_smiles  \n",
       "0  [ n H 0 ] 1 c ( S C ) c 2 c ( [ n H 0 ] c c [ ...  \n",
       "1                                     C C C ( C ) Cl  \n",
       "2  O = C ( N C ( = O ) c 1 c c c c c 1 ) c 1 c c ...  \n",
       "3                          C C ( C ( C ) ( C ) C ) O  \n",
       "4        [ O- ] [ N+ ] ( c 1 c ( O ) c c c c 1 ) = O  "
      ]
     },
     "execution_count": 3,
     "metadata": {},
     "output_type": "execute_result"
    }
   ],
   "source": [
    "df_train = pd.read_csv('../data/sol_train.csv')\n",
    "df_test = pd.read_csv('../data/sol_test.csv')\n",
    "df_train.head()"
   ]
  },
  {
   "cell_type": "code",
   "execution_count": 4,
   "metadata": {},
   "outputs": [],
   "source": [
    "x_train = df_train['processed_smiles']\n",
    "y_train = df_train['solubility']\n",
    "x_test = df_test['processed_smiles']\n",
    "y_test = df_test['solubility']"
   ]
  },
  {
   "cell_type": "code",
   "execution_count": 5,
   "metadata": {},
   "outputs": [],
   "source": [
    "def load_data(vocabulary, lst):\n",
    "    data = []\n",
    "    for l in lst:\n",
    "        words = l.strip().split()\n",
    "        array = np.array([vocabulary.get(w, UNK) for w in words], np.int32)\n",
    "        data.append(array)\n",
    "    return data"
   ]
  },
  {
   "cell_type": "code",
   "execution_count": 7,
   "metadata": {},
   "outputs": [],
   "source": [
    "source_ids = load_vocabulary('../data/vocab.txt')\n",
    "xnum_train = load_data(source_ids, x_train)\n",
    "xnum_test = load_data(source_ids, x_test)"
   ]
  },
  {
   "cell_type": "markdown",
   "metadata": {},
   "source": [
    "# Encode to fingerprint"
   ]
  },
  {
   "cell_type": "code",
   "execution_count": 10,
   "metadata": {},
   "outputs": [],
   "source": [
    "model = Seq2seq(1, 46, 46, 256)\n",
    "chainer.serializers.load_npz('../result/can2can_iter_132000.npz', model)"
   ]
  },
  {
   "cell_type": "code",
   "execution_count": 11,
   "metadata": {},
   "outputs": [],
   "source": [
    "X_train = model.encode(xnum_train)[0].data\n",
    "X_test = model.encode(xnum_test)[0].data"
   ]
  },
  {
   "cell_type": "markdown",
   "metadata": {},
   "source": [
    "# Prediction"
   ]
  },
  {
   "cell_type": "code",
   "execution_count": 12,
   "metadata": {},
   "outputs": [
    {
     "name": "stderr",
     "output_type": "stream",
     "text": [
      "/home/honda/anaconda3/lib/python3.6/site-packages/sklearn/ensemble/forest.py:248: FutureWarning: The default value of n_estimators will change from 10 in version 0.20 to 100 in 0.22.\n",
      "  \"10 in version 0.20 to 100 in 0.22.\", FutureWarning)\n"
     ]
    },
    {
     "data": {
      "text/plain": [
       "RandomForestRegressor(bootstrap=True, criterion='mse', max_depth=None,\n",
       "           max_features='auto', max_leaf_nodes=None,\n",
       "           min_impurity_decrease=0.0, min_impurity_split=None,\n",
       "           min_samples_leaf=1, min_samples_split=2,\n",
       "           min_weight_fraction_leaf=0.0, n_estimators=10, n_jobs=None,\n",
       "           oob_score=False, random_state=None, verbose=0, warm_start=False)"
      ]
     },
     "execution_count": 12,
     "metadata": {},
     "output_type": "execute_result"
    }
   ],
   "source": [
    "RF = RandomForestRegressor()\n",
    "RF.fit(X_train, y_train)"
   ]
  },
  {
   "cell_type": "code",
   "execution_count": 13,
   "metadata": {},
   "outputs": [
    {
     "name": "stdout",
     "output_type": "stream",
     "text": [
      "MSE train : 0.285, test : 1.418\n",
      "R2 train : 0.931, test : 0.653\n"
     ]
    }
   ],
   "source": [
    "y_train_pred = RF.predict(X_train)\n",
    "y_test_pred = RF.predict(X_test)\n",
    "\n",
    "print('MSE train : %.3f, test : %.3f' % (mean_squared_error(y_train, y_train_pred), mean_squared_error(y_test, y_test_pred)) )\n",
    "print('R2 train : %.3f, test : %.3f' % (r2_score(y_train, y_train_pred), r2_score(y_test, y_test_pred)) )"
   ]
  },
  {
   "cell_type": "code",
   "execution_count": 14,
   "metadata": {},
   "outputs": [],
   "source": [
    "param_grid = { \"max_depth\": [2,5,10, None],\n",
    "                \"n_estimators\": [10,50,100,300],\n",
    "                \"max_features\": [1, 3, 10],\n",
    "                \"min_samples_split\": [2, 3, 10],\n",
    "                \"min_samples_leaf\": [1, 3, 10]\n",
    "}"
   ]
  },
  {
   "cell_type": "code",
   "execution_count": 15,
   "metadata": {
    "scrolled": true
   },
   "outputs": [
    {
     "name": "stdout",
     "output_type": "stream",
     "text": [
      "Fitting 5 folds for each of 432 candidates, totalling 2160 fits\n"
     ]
    },
    {
     "name": "stderr",
     "output_type": "stream",
     "text": [
      "[Parallel(n_jobs=8)]: Using backend LokyBackend with 8 concurrent workers.\n",
      "[Parallel(n_jobs=8)]: Done  34 tasks      | elapsed:    2.4s\n",
      "[Parallel(n_jobs=8)]: Done 184 tasks      | elapsed:    6.9s\n",
      "[Parallel(n_jobs=8)]: Done 434 tasks      | elapsed:   14.6s\n",
      "[Parallel(n_jobs=8)]: Done 784 tasks      | elapsed:   26.4s\n",
      "[Parallel(n_jobs=8)]: Done 1234 tasks      | elapsed:   45.4s\n",
      "[Parallel(n_jobs=8)]: Done 1784 tasks      | elapsed:  1.2min\n",
      "[Parallel(n_jobs=8)]: Done 2160 out of 2160 | elapsed:  1.5min finished\n"
     ]
    },
    {
     "data": {
      "text/plain": [
       "GridSearchCV(cv=5, error_score='raise-deprecating',\n",
       "       estimator=RandomForestRegressor(bootstrap=True, criterion='mse', max_depth=None,\n",
       "           max_features='auto', max_leaf_nodes=None,\n",
       "           min_impurity_decrease=0.0, min_impurity_split=None,\n",
       "           min_samples_leaf=1, min_samples_split=2,\n",
       "           min_weight_fraction_leaf=0.0, n_estimators='warn', n_jobs=None,\n",
       "           oob_score=False, random_state=None, verbose=0, warm_start=False),\n",
       "       fit_params=None, iid='warn', n_jobs=8,\n",
       "       param_grid={'max_depth': [2, 5, 10, None], 'n_estimators': [10, 50, 100, 300], 'max_features': [1, 3, 10], 'min_samples_split': [2, 3, 10], 'min_samples_leaf': [1, 3, 10]},\n",
       "       pre_dispatch='2*n_jobs', refit=True, return_train_score='warn',\n",
       "       scoring=None, verbose=1)"
      ]
     },
     "execution_count": 15,
     "metadata": {},
     "output_type": "execute_result"
    }
   ],
   "source": [
    "RF_grid = GridSearchCV(estimator=RandomForestRegressor(), param_grid=param_grid, cv=5, n_jobs=8, verbose=1)\n",
    "RF_grid.fit(X_train, y_train)"
   ]
  },
  {
   "cell_type": "code",
   "execution_count": 16,
   "metadata": {},
   "outputs": [
    {
     "data": {
      "text/plain": [
       "{'max_depth': None,\n",
       " 'max_features': 10,\n",
       " 'min_samples_leaf': 1,\n",
       " 'min_samples_split': 2,\n",
       " 'n_estimators': 300}"
      ]
     },
     "execution_count": 16,
     "metadata": {},
     "output_type": "execute_result"
    }
   ],
   "source": [
    "RF_grid.best_params_"
   ]
  },
  {
   "cell_type": "code",
   "execution_count": 17,
   "metadata": {},
   "outputs": [
    {
     "name": "stdout",
     "output_type": "stream",
     "text": [
      "MSE train : 0.204, test : 1.339\n",
      "R2 train : 0.951, test : 0.672\n"
     ]
    }
   ],
   "source": [
    "RF_grid.best_estimator_.fit(X_train, y_train)\n",
    "y_train_pred = RF_grid.best_estimator_.predict(X_train)\n",
    "y_test_pred = RF_grid.best_estimator_.predict(X_test)\n",
    "\n",
    "print('MSE train : %.3f, test : %.3f' % (mean_squared_error(y_train, y_train_pred), mean_squared_error(y_test, y_test_pred)) )\n",
    "print('R2 train : %.3f, test : %.3f' % (r2_score(y_train, y_train_pred), r2_score(y_test, y_test_pred)) )"
   ]
  }
 ],
 "metadata": {
  "kernelspec": {
   "display_name": "Python 3",
   "language": "python",
   "name": "python3"
  },
  "language_info": {
   "codemirror_mode": {
    "name": "ipython",
    "version": 3
   },
   "file_extension": ".py",
   "mimetype": "text/x-python",
   "name": "python",
   "nbconvert_exporter": "python",
   "pygments_lexer": "ipython3",
   "version": "3.6.6"
  }
 },
 "nbformat": 4,
 "nbformat_minor": 2
}
