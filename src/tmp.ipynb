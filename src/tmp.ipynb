{
 "cells": [
  {
   "cell_type": "code",
   "execution_count": 1,
   "metadata": {},
   "outputs": [],
   "source": [
    "import numpy as np\n",
    "import pandas as pd\n",
    "import matplotlib.pyplot as plt\n",
    "import multiprocessing\n",
    "import time\n",
    "from tqdm import tqdm_notebook as tqdm\n",
    "from rdkit import Chem, DataStructs\n",
    "from rdkit.Chem import AllChem"
   ]
  },
  {
   "cell_type": "code",
   "execution_count": 7,
   "metadata": {},
   "outputs": [],
   "source": [
    "def get_fps(candidates):\n",
    "    smiles, fps = [], []\n",
    "    for sm in tqdm(candidates):\n",
    "        mol = Chem.MolFromSmiles(sm)\n",
    "        if mol is None:\n",
    "            continue\n",
    "        smiles.append(sm)\n",
    "        fp = AllChem.GetMorganFingerprintAsBitVect(mol, 2, 1024) # ECFP4\n",
    "        fps.append(fp)\n",
    "    return smiles, fps"
   ]
  },
  {
   "cell_type": "code",
   "execution_count": 49,
   "metadata": {},
   "outputs": [],
   "source": [
    "def choose_pair_1(smiles, fps, n):\n",
    "    m = 0\n",
    "    N = len(smiles)\n",
    "    for i in tqdm(range((m*N)//n, ((m+1)*N//n))):\n",
    "        tanimotos = np.array(DataStructs.BulkTanimotoSimilarity(fps[i],fps)) # Tanimoto similarity\n",
    "        tanimotos[i] = 0 # Choose second largest (not the self)\n",
    "        arg_i = np.argmax(tanimotos)\n",
    "        with open('../data/chembl_24_bert.csv', 'a') as f:\n",
    "            f.write('%s,%s,,,%f\\n' %(smiles[i],smiles[arg_i],tanimotos[arg_i]))\n",
    "            \n",
    "def choose_pair_2(smiles, fps, n):\n",
    "    m = 1\n",
    "    N = len(smiles)\n",
    "    for i in tqdm(range((m*N)//n, ((m+1)*N//n))):\n",
    "        tanimotos = np.array(DataStructs.BulkTanimotoSimilarity(fps[i],fps)) # Tanimoto similarity\n",
    "        tanimotos[i] = 0 # Choose second largest (not the self)\n",
    "        arg_i = np.argmax(tanimotos)\n",
    "        with open('../data/chembl_24_bert.csv', 'a') as f:\n",
    "            f.write('%s,%s,,,%f\\n' %(smiles[i],smiles[arg_i],tanimotos[arg_i]))"
   ]
  },
  {
   "cell_type": "code",
   "execution_count": 50,
   "metadata": {},
   "outputs": [
    {
     "data": {
      "application/vnd.jupyter.widget-view+json": {
       "model_id": "3c1c1ab5d33243818894e649b888d383",
       "version_major": 2,
       "version_minor": 0
      },
      "text/plain": [
       "HBox(children=(IntProgress(value=0, max=10000), HTML(value='')))"
      ]
     },
     "metadata": {},
     "output_type": "display_data"
    },
    {
     "name": "stdout",
     "output_type": "stream",
     "text": [
      "FP: 5.899448 seconds elapsed.\n",
      "N=10000\n",
      "Pair: 14.623738 seconds elapsed.\n"
     ]
    }
   ],
   "source": [
    "num_process = 2\n",
    "\n",
    "df = pd.read_csv('../data/chembl_24.csv')\n",
    "candidates = df['canonical_smiles'].values\n",
    "start = time.time()\n",
    "smiles, fps = get_fps(candidates[:10000])\n",
    "elapsed = time.time()-start\n",
    "print('FP: %f seconds elapsed.' %elapsed)\n",
    "N = len(smiles)\n",
    "print('N=%d'%N)\n",
    "\n",
    "with open('../data/chembl_24_bert.csv', 'a') as f:\n",
    "    f.write('first,second,first_sp,second_sp,tanimoto\\n')\n",
    "# Execute multiprocessed choose_pair\n",
    "start = time.time()\n",
    "process_1 = multiprocessing.Process(target=choose_pair_1, args=([smiles, fps, num_process]))\n",
    "process_2 = multiprocessing.Process(target=choose_pair_2, args=([smiles, fps, num_process]))\n",
    "process_1.start()\n",
    "process_2.start()\n",
    "process_1.join()\n",
    "process_2.join()\n",
    "elapsed = time.time()-start\n",
    "print('Pair: %f seconds elapsed.' %elapsed)"
   ]
  },
  {
   "cell_type": "code",
   "execution_count": 36,
   "metadata": {
    "scrolled": true
   },
   "outputs": [
    {
     "data": {
      "text/plain": [
       "3084.515731030228"
      ]
     },
     "execution_count": 36,
     "metadata": {},
     "output_type": "execute_result"
    }
   ],
   "source": [
    "100000/32.42"
   ]
  },
  {
   "cell_type": "code",
   "execution_count": 27,
   "metadata": {},
   "outputs": [
    {
     "data": {
      "text/plain": [
       "8000112"
      ]
     },
     "execution_count": 27,
     "metadata": {},
     "output_type": "execute_result"
    }
   ],
   "source": [
    "import sys\n",
    "a = np.zeros([1000,1000])\n",
    "sys.getsizeof(a)"
   ]
  },
  {
   "cell_type": "code",
   "execution_count": null,
   "metadata": {},
   "outputs": [],
   "source": [
    "def choose_pair(smiles, fps, n,m):\n",
    "    N = len(smiles)\n",
    "    if m<n-1:\n",
    "        lst = smiles[m*(N//n):(m+1)*(N//n)]\n",
    "    else:\n",
    "        lst = smiles[m*(N//n):]\n",
    "    for i,sm in tqdm(enumerate(lst)):\n",
    "        tanimotos = np.array(DataStructs.BulkTanimotoSimilarity(fps[i],fps)) # Tanimoto similarity\n",
    "        idx = np.argpartition(tanimotos,-2)[-2] # Choose second largest (not the self)\n",
    "        #idx = tanimotos.argmax()\n",
    "        with open('../data/chembl_24_bert.csv', 'a') as f:\n",
    "            f.write('%s,%s,,,%f\\n' %(sm,smiles[idx],tanimotos[idx]))"
   ]
  },
  {
   "cell_type": "code",
   "execution_count": 51,
   "metadata": {},
   "outputs": [],
   "source": [
    "import numpy as np\n",
    "from sklearn.model_selection import train_test_split"
   ]
  },
  {
   "cell_type": "code",
   "execution_count": 56,
   "metadata": {},
   "outputs": [
    {
     "name": "stdout",
     "output_type": "stream",
     "text": [
      "Train size: 861147\n",
      "Test size: 861148\n"
     ]
    }
   ],
   "source": [
    "df_train, df_test = train_test_split(df, test_size=0.5)\n",
    "print('Train size: %d' %len(df_train))\n",
    "print('Test size: %d' %len(df_test))"
   ]
  },
  {
   "cell_type": "code",
   "execution_count": 57,
   "metadata": {},
   "outputs": [],
   "source": [
    "df_train.to_csv('../data/chembl24_train.csv', index=False)\n",
    "df_test.to_csv('../data/chembl24_test.csv', index=False)"
   ]
  },
  {
   "cell_type": "code",
   "execution_count": null,
   "metadata": {},
   "outputs": [],
   "source": []
  }
 ],
 "metadata": {
  "kernelspec": {
   "display_name": "Python 3",
   "language": "python",
   "name": "python3"
  },
  "language_info": {
   "codemirror_mode": {
    "name": "ipython",
    "version": 3
   },
   "file_extension": ".py",
   "mimetype": "text/x-python",
   "name": "python",
   "nbconvert_exporter": "python",
   "pygments_lexer": "ipython3",
   "version": "3.6.6"
  }
 },
 "nbformat": 4,
 "nbformat_minor": 2
}
