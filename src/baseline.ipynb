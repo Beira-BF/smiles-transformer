{
 "cells": [
  {
   "cell_type": "markdown",
   "metadata": {},
   "source": [
    "# Performance comparaison\n",
    "\n",
    "| Fingerprint | R2 | RMSE |  \n",
    "|:-:|:-:|:-:|  \n",
    "| ECFP| 0.765 | 0.9808 |\n",
    "|Can2Can|0.7176|1.073|\n",
    "| NFP| 0.8845 | 0.6868 |"
   ]
  },
  {
   "cell_type": "code",
   "execution_count": 1,
   "metadata": {},
   "outputs": [],
   "source": [
    "import numpy as np\n",
    "import pandas as pd\n",
    "from matplotlib import pyplot as plt\n",
    "from rdkit import Chem, DataStructs\n",
    "from rdkit.Chem import MACCSkeys, AllChem\n",
    "\n",
    "from sklearn.ensemble import RandomForestRegressor\n",
    "from sklearn.neural_network import MLPRegressor\n",
    "from sklearn.model_selection import train_test_split, GridSearchCV\n",
    "from sklearn.metrics import mean_squared_error, r2_score"
   ]
  },
  {
   "cell_type": "code",
   "execution_count": 2,
   "metadata": {
    "scrolled": false
   },
   "outputs": [
    {
     "data": {
      "text/html": [
       "<div>\n",
       "<style scoped>\n",
       "    .dataframe tbody tr th:only-of-type {\n",
       "        vertical-align: middle;\n",
       "    }\n",
       "\n",
       "    .dataframe tbody tr th {\n",
       "        vertical-align: top;\n",
       "    }\n",
       "\n",
       "    .dataframe thead th {\n",
       "        text-align: right;\n",
       "    }\n",
       "</style>\n",
       "<table border=\"1\" class=\"dataframe\">\n",
       "  <thead>\n",
       "    <tr style=\"text-align: right;\">\n",
       "      <th></th>\n",
       "      <th>SMILES</th>\n",
       "      <th>unknown</th>\n",
       "      <th>solubility</th>\n",
       "      <th>processed_smiles</th>\n",
       "    </tr>\n",
       "  </thead>\n",
       "  <tbody>\n",
       "    <tr>\n",
       "      <th>0</th>\n",
       "      <td>O=C(C)N</td>\n",
       "      <td>60-35-5</td>\n",
       "      <td>1.58</td>\n",
       "      <td>O = C ( C ) N</td>\n",
       "    </tr>\n",
       "    <tr>\n",
       "      <th>1</th>\n",
       "      <td>NNC</td>\n",
       "      <td>60-34-4</td>\n",
       "      <td>1.34</td>\n",
       "      <td>N N C</td>\n",
       "    </tr>\n",
       "    <tr>\n",
       "      <th>2</th>\n",
       "      <td>O=C(C)O</td>\n",
       "      <td>64-19-7</td>\n",
       "      <td>1.22</td>\n",
       "      <td>O = C ( C ) O</td>\n",
       "    </tr>\n",
       "    <tr>\n",
       "      <th>3</th>\n",
       "      <td>N1CCCC1</td>\n",
       "      <td>123-75-1</td>\n",
       "      <td>1.15</td>\n",
       "      <td>N 1 C C C C 1</td>\n",
       "    </tr>\n",
       "    <tr>\n",
       "      <th>4</th>\n",
       "      <td>O=C(N)NO</td>\n",
       "      <td>127-07-1</td>\n",
       "      <td>1.12</td>\n",
       "      <td>O = C ( N ) N O</td>\n",
       "    </tr>\n",
       "  </tbody>\n",
       "</table>\n",
       "</div>"
      ],
      "text/plain": [
       "     SMILES   unknown  solubility processed_smiles\n",
       "0   O=C(C)N   60-35-5        1.58    O = C ( C ) N\n",
       "1       NNC   60-34-4        1.34            N N C\n",
       "2   O=C(C)O   64-19-7        1.22    O = C ( C ) O\n",
       "3   N1CCCC1  123-75-1        1.15    N 1 C C C C 1\n",
       "4  O=C(N)NO  127-07-1        1.12  O = C ( N ) N O"
      ]
     },
     "execution_count": 2,
     "metadata": {},
     "output_type": "execute_result"
    }
   ],
   "source": [
    "df_sol = pd.read_csv('../data/solubility.csv')\n",
    "df_sol.head()"
   ]
  },
  {
   "cell_type": "markdown",
   "metadata": {},
   "source": [
    "# Solubility regression"
   ]
  },
  {
   "cell_type": "code",
   "execution_count": 3,
   "metadata": {
    "scrolled": false
   },
   "outputs": [
    {
     "data": {
      "image/png": "[encoded data removed]",
      "text/plain": [
       "<Figure size 432x288 with 1 Axes>"
      ]
     },
     "metadata": {
      "needs_background": "light"
     },
     "output_type": "display_data"
    }
   ],
   "source": [
    "sol = df_sol['solubility'].values \n",
    "plt.hist(sol, 100, facecolor='green', alpha=0.75)\n",
    "plt.rcParams[\"font.size\"]=14\n",
    "plt.xlabel('Solubility')\n",
    "plt.ylabel('Number of compounds')\n",
    "plt.title('Histogram of solubilities')\n",
    "plt.grid()\n",
    "plt.show()"
   ]
  },
  {
   "cell_type": "code",
   "execution_count": 4,
   "metadata": {},
   "outputs": [],
   "source": [
    "def bit2np(bitvector):\n",
    "    bitstring = bitvector.ToBitString()\n",
    "    intmap = map(int, bitstring)\n",
    "    return np.array(list(intmap))"
   ]
  },
  {
   "cell_type": "code",
   "execution_count": 5,
   "metadata": {},
   "outputs": [],
   "source": [
    "def extract_morgan(df):\n",
    "    smiles = df[\"SMILES\"].values\n",
    "    sol = df['solubility'].values\n",
    "    N = len(smiles)\n",
    "    print(\"{} molecules\".format(N))\n",
    "    X,y = [],[]\n",
    "    for i in range(N):\n",
    "        mol = Chem.MolFromSmiles(smiles[i])\n",
    "        if mol is None:\n",
    "            print(i)\n",
    "            continue\n",
    "\n",
    "        fp = AllChem.GetMorganFingerprintAsBitVect(mol, 2, 1024) # Morgan (Similar to ECFP4)\n",
    "        X.append(bit2np(fp))\n",
    "        y.append(sol[i])\n",
    "    X = np.array(X)\n",
    "    y = np.array(y)\n",
    "    return X, y"
   ]
  },
  {
   "cell_type": "code",
   "execution_count": 6,
   "metadata": {},
   "outputs": [
    {
     "name": "stdout",
     "output_type": "stream",
     "text": [
      "968 molecules\n",
      "322 molecules\n",
      "306\n",
      "Train (968, 1024)\n",
      "Test (321, 1024)\n"
     ]
    }
   ],
   "source": [
    "X_train, y_train = extract_morgan(pd.read_csv('../data/sol_train.csv'))\n",
    "X_test, y_test = extract_morgan(pd.read_csv('../data/sol_test.csv'))\n",
    "print('Train', X_train.shape)\n",
    "print('Test', X_test.shape)"
   ]
  },
  {
   "cell_type": "markdown",
   "metadata": {},
   "source": [
    "# Prediction\n",
    "### Multi-layer perceptron"
   ]
  },
  {
   "cell_type": "code",
   "execution_count": 7,
   "metadata": {},
   "outputs": [
    {
     "name": "stdout",
     "output_type": "stream",
     "text": [
      "Train R2: 0.9847\n",
      "Train MSE: 0.0633\n",
      "Test R2: 0.6682\n",
      "Test MSE: 1.3558\n"
     ]
    },
    {
     "name": "stderr",
     "output_type": "stream",
     "text": [
      "/home/honda/anaconda3/lib/python3.6/site-packages/sklearn/neural_network/multilayer_perceptron.py:562: ConvergenceWarning: Stochastic Optimizer: Maximum iterations (200) reached and the optimization hasn't converged yet.\n",
      "  % self.max_iter, ConvergenceWarning)\n"
     ]
    }
   ],
   "source": [
    "MLP = MLPRegressor()\n",
    "MLP.fit(X_train, y_train)\n",
    "\n",
    "y_train_pred = MLP.predict(X_train)\n",
    "print(\"Train R2: {:.4f}\".format(r2_score(y_train, y_train_pred)))\n",
    "print(\"Train MSE: {:.4f}\".format(mean_squared_error(y_train, y_train_pred)))\n",
    "\n",
    "y_pred = MLP.predict(X_test)\n",
    "print(\"Test R2: {:.4f}\".format(r2_score(y_test, y_pred)))\n",
    "print(\"Test MSE: {:.4f}\".format(mean_squared_error(y_test, y_pred)))"
   ]
  },
  {
   "cell_type": "code",
   "execution_count": 15,
   "metadata": {},
   "outputs": [
    {
     "name": "stdout",
     "output_type": "stream",
     "text": [
      "Fitting 5 folds for each of 6 candidates, totalling 30 fits\n"
     ]
    },
    {
     "name": "stderr",
     "output_type": "stream",
     "text": [
      "[Parallel(n_jobs=8)]: Using backend LokyBackend with 8 concurrent workers.\n",
      "[Parallel(n_jobs=8)]: Done  30 out of  30 | elapsed:  2.8min finished\n"
     ]
    },
    {
     "data": {
      "text/plain": [
       "GridSearchCV(cv=5, error_score='raise-deprecating',\n",
       "       estimator=MLPRegressor(activation='relu', alpha=0.0001, batch_size='auto', beta_1=0.9,\n",
       "       beta_2=0.999, early_stopping=False, epsilon=1e-08,\n",
       "       hidden_layer_sizes=(100,), learning_rate='constant',\n",
       "       learning_rate_init=0.001, max_iter=200, momentum=0.9,\n",
       "       n_iter_no_change=10, nesterovs_momentum=True, power_t=0.5,\n",
       "       random_state=None, shuffle=True, solver='adam', tol=0.0001,\n",
       "       validation_fraction=0.1, verbose=False, warm_start=False),\n",
       "       fit_params=None, iid='warn', n_jobs=8,\n",
       "       param_grid={'hidden_layer_sizes': [(100, 100, 100), (500, 500, 500), (1000, 1000, 1000), (100, 100, 100, 100), (500, 500, 500, 500), (1000, 1000, 1000, 1000)]},\n",
       "       pre_dispatch='2*n_jobs', refit=True, return_train_score='warn',\n",
       "       scoring=None, verbose=1)"
      ]
     },
     "execution_count": 15,
     "metadata": {},
     "output_type": "execute_result"
    }
   ],
   "source": [
    "param_grid = { \"hidden_layer_sizes\": [(100,100,100), (500,500,500), (1000,1000,1000), (100,100,100,100), (500, 500,500,500), (1000,1000,1000,1000)]}\n",
    "MLP_grid = GridSearchCV(estimator=MLPRegressor(), param_grid=param_grid, cv=5, n_jobs=8, verbose=1)\n",
    "MLP_grid.fit(X_train, y_train)"
   ]
  },
  {
   "cell_type": "code",
   "execution_count": 16,
   "metadata": {},
   "outputs": [
    {
     "data": {
      "text/plain": [
       "{'hidden_layer_sizes': (1000, 1000, 1000)}"
      ]
     },
     "execution_count": 16,
     "metadata": {},
     "output_type": "execute_result"
    }
   ],
   "source": [
    "MLP_grid.best_params_"
   ]
  },
  {
   "cell_type": "code",
   "execution_count": 17,
   "metadata": {},
   "outputs": [
    {
     "name": "stdout",
     "output_type": "stream",
     "text": [
      "MSE train : 0.065, test : 0.962\n",
      "R2 train : 0.984, test : 0.765\n"
     ]
    }
   ],
   "source": [
    "MLP_grid.best_estimator_.fit(X_train, y_train)\n",
    "y_train_pred = MLP_grid.best_estimator_.predict(X_train)\n",
    "y_test_pred = MLP_grid.best_estimator_.predict(X_test)\n",
    "\n",
    "print('MSE train : %.3f, test : %.3f' % (mean_squared_error(y_train, y_train_pred), mean_squared_error(y_test, y_test_pred)) )\n",
    "print('R2 train : %.3f, test : %.3f' % (r2_score(y_train, y_train_pred), r2_score(y_test, y_test_pred)) )"
   ]
  },
  {
   "cell_type": "code",
   "execution_count": 18,
   "metadata": {},
   "outputs": [
    {
     "data": {
      "text/plain": [
       "0.9808159868191383"
      ]
     },
     "execution_count": 18,
     "metadata": {},
     "output_type": "execute_result"
    }
   ],
   "source": [
    "0.962**0.5"
   ]
  },
  {
   "cell_type": "markdown",
   "metadata": {},
   "source": [
    "### Random Forest"
   ]
  },
  {
   "cell_type": "code",
   "execution_count": 14,
   "metadata": {},
   "outputs": [
    {
     "name": "stdout",
     "output_type": "stream",
     "text": [
      "Train R2: 0.9224\n",
      "Train MSE: 0.3214\n",
      "Test R2: 0.6677\n",
      "Test MSE: 1.3579\n"
     ]
    }
   ],
   "source": [
    "RF = RandomForestRegressor()\n",
    "RF.fit(X_train, y_train)\n",
    "\n",
    "y_train_pred = RF.predict(X_train)\n",
    "print(\"Train R2: {:.4f}\".format(r2_score(y_train, y_train_pred)))\n",
    "print(\"Train MSE: {:.4f}\".format(mean_squared_error(y_train, y_train_pred)))\n",
    "\n",
    "y_pred = RF.predict(X_test)\n",
    "print(\"Test R2: {:.4f}\".format(r2_score(y_test, y_pred)))\n",
    "print(\"Test MSE: {:.4f}\".format(mean_squared_error(y_test, y_pred)))"
   ]
  },
  {
   "cell_type": "code",
   "execution_count": 15,
   "metadata": {
    "scrolled": false
   },
   "outputs": [
    {
     "data": {
      "image/png": "[encoded data removed]",
      "text/plain": [
       "<Figure size 576x576 with 1 Axes>"
      ]
     },
     "metadata": {
      "needs_background": "light"
     },
     "output_type": "display_data"
    }
   ],
   "source": [
    "plt.figure(figsize=(8,8))\n",
    "plt.rcParams[\"font.size\"] = 12\n",
    "plt.scatter(y_train_pred, y_train, c='blue', marker='.', alpha=0.3, label='Train')\n",
    "plt.scatter(y_pred, y_test, c='red', marker='.', alpha=0.5, label='Test')\n",
    "plt.xlabel('Predicted value')\n",
    "plt.ylabel('Actual value')\n",
    "plt.title('Random Forest Regression on Morgan')\n",
    "plt.legend(loc='lower left')\n",
    "#plt.hlines(y=0, xmin=1, xmax=7, lw=2, color='black')\n",
    "plt.show()"
   ]
  },
  {
   "cell_type": "code",
   "execution_count": 16,
   "metadata": {},
   "outputs": [],
   "source": [
    "param_grid = { \"max_depth\": [2,5,10, None],\n",
    "                \"n_estimators\": [10,50,100,300],\n",
    "                \"max_features\": [1, 3, 10],\n",
    "                \"min_samples_split\": [2, 3, 10],\n",
    "                \"min_samples_leaf\": [1, 3, 10]\n",
    "}"
   ]
  },
  {
   "cell_type": "code",
   "execution_count": 17,
   "metadata": {},
   "outputs": [
    {
     "name": "stdout",
     "output_type": "stream",
     "text": [
      "Fitting 5 folds for each of 432 candidates, totalling 2160 fits\n"
     ]
    },
    {
     "name": "stderr",
     "output_type": "stream",
     "text": [
      "[Parallel(n_jobs=8)]: Done  52 tasks      | elapsed:    1.5s\n",
      "[Parallel(n_jobs=8)]: Done 352 tasks      | elapsed:    8.9s\n",
      "[Parallel(n_jobs=8)]: Done 852 tasks      | elapsed:   21.5s\n",
      "[Parallel(n_jobs=8)]: Done 1552 tasks      | elapsed:   40.6s\n",
      "[Parallel(n_jobs=8)]: Done 2079 tasks      | elapsed:  1.0min\n",
      "[Parallel(n_jobs=8)]: Done 2160 out of 2160 | elapsed:  1.1min finished\n"
     ]
    },
    {
     "data": {
      "text/plain": [
       "GridSearchCV(cv=5, error_score='raise',\n",
       "       estimator=RandomForestRegressor(bootstrap=True, criterion='mse', max_depth=None,\n",
       "           max_features='auto', max_leaf_nodes=None,\n",
       "           min_impurity_decrease=0.0, min_impurity_split=None,\n",
       "           min_samples_leaf=1, min_samples_split=2,\n",
       "           min_weight_fraction_leaf=0.0, n_estimators=10, n_jobs=1,\n",
       "           oob_score=False, random_state=None, verbose=0, warm_start=False),\n",
       "       fit_params=None, iid=True, n_jobs=8,\n",
       "       param_grid={'max_depth': [2, 5, 10, None], 'min_samples_leaf': [1, 3, 10], 'n_estimators': [10, 50, 100, 300], 'min_samples_split': [2, 3, 10], 'max_features': [1, 3, 10]},\n",
       "       pre_dispatch='2*n_jobs', refit=True, return_train_score='warn',\n",
       "       scoring=None, verbose=1)"
      ]
     },
     "execution_count": 17,
     "metadata": {},
     "output_type": "execute_result"
    }
   ],
   "source": [
    "RF_grid = GridSearchCV(estimator=RandomForestRegressor(), param_grid=param_grid, cv=5, n_jobs=8, verbose=1)\n",
    "RF_grid.fit(X_train, y_train)"
   ]
  },
  {
   "cell_type": "code",
   "execution_count": 18,
   "metadata": {},
   "outputs": [
    {
     "data": {
      "text/plain": [
       "{'max_depth': None,\n",
       " 'max_features': 10,\n",
       " 'min_samples_leaf': 1,\n",
       " 'min_samples_split': 2,\n",
       " 'n_estimators': 300}"
      ]
     },
     "execution_count": 18,
     "metadata": {},
     "output_type": "execute_result"
    }
   ],
   "source": [
    "RF_grid.best_params_"
   ]
  },
  {
   "cell_type": "code",
   "execution_count": 19,
   "metadata": {},
   "outputs": [
    {
     "name": "stdout",
     "output_type": "stream",
     "text": [
      "MSE train : 0.223, test : 1.277\n",
      "R2 train : 0.946, test : 0.687\n"
     ]
    }
   ],
   "source": [
    "RF_grid.best_estimator_.fit(X_train, y_train)\n",
    "y_train_pred = RF_grid.best_estimator_.predict(X_train)\n",
    "y_test_pred = RF_grid.best_estimator_.predict(X_test)\n",
    "\n",
    "print('MSE train : %.3f, test : %.3f' % (mean_squared_error(y_train, y_train_pred), mean_squared_error(y_test, y_test_pred)) )\n",
    "print('R2 train : %.3f, test : %.3f' % (r2_score(y_train, y_train_pred), r2_score(y_test, y_test_pred)) )"
   ]
  },
  {
   "cell_type": "markdown",
   "metadata": {},
   "source": [
    "# DeepChem"
   ]
  },
  {
   "cell_type": "code",
   "execution_count": 2,
   "metadata": {},
   "outputs": [],
   "source": [
    "import os\n",
    "import deepchem as dc\n",
    "from deepchem.models.tensorgraph.models.graph_models import GraphConvModel"
   ]
  },
  {
   "cell_type": "code",
   "execution_count": 3,
   "metadata": {},
   "outputs": [
    {
     "name": "stdout",
     "output_type": "stream",
     "text": [
      "Loading raw samples now.\n",
      "shard_size: 8192\n",
      "About to start loading CSV from ../data/sol_train.csv\n",
      "Loading shard 1 of size 8192.\n",
      "Featurizing sample 0\n",
      "TIMING: featurizing shard 0 took 2.823 s\n",
      "TIMING: dataset construction took 3.634 s\n",
      "Loading dataset from disk.\n",
      "Loading raw samples now.\n",
      "shard_size: 8192\n",
      "About to start loading CSV from ../data/sol_test.csv\n",
      "Loading shard 1 of size 8192.\n",
      "Featurizing sample 0\n",
      "TIMING: featurizing shard 0 took 0.949 s\n",
      "TIMING: dataset construction took 1.159 s\n",
      "Loading dataset from disk.\n"
     ]
    }
   ],
   "source": [
    "graph_featurizer = dc.feat.graph_features.ConvMolFeaturizer()\n",
    "loader = dc.data.data_loader.CSVLoader( tasks=['solubility'], smiles_field=\"SMILES\", featurizer=graph_featurizer )\n",
    "trainset = loader.featurize( '../data/sol_train.csv' )\n",
    "testset = loader.featurize( '../data/sol_test.csv' )"
   ]
  },
  {
   "cell_type": "code",
   "execution_count": 11,
   "metadata": {},
   "outputs": [
    {
     "name": "stderr",
     "output_type": "stream",
     "text": [
      "/home/honda/anaconda3/envs/deepchem/lib/python3.5/site-packages/tensorflow/python/ops/gradients_impl.py:98: UserWarning: Converting sparse IndexedSlices to a dense Tensor of unknown shape. This may consume a large amount of memory.\n",
      "  \"Converting sparse IndexedSlices to a dense Tensor of unknown shape. \"\n"
     ]
    },
    {
     "data": {
      "text/plain": [
       "1.441190481185913"
      ]
     },
     "execution_count": 11,
     "metadata": {},
     "output_type": "execute_result"
    }
   ],
   "source": [
    "os.environ[\"CUDA_VISIBLE_DEVICES\"] = \"0\"\n",
    "model = GraphConvModel(n_tasks=1, graph_conv_layers=[64,64], dropout=0, batch_size=50, mode='regression')\n",
    "\n",
    "# Epochs\n",
    "model.fit(trainset, nb_epoch=50)"
   ]
  },
  {
   "cell_type": "code",
   "execution_count": 12,
   "metadata": {},
   "outputs": [
    {
     "name": "stdout",
     "output_type": "stream",
     "text": [
      "Evaluating model\n",
      "computed_metrics: [0.973174331288795]\n",
      "Train R2 Score: 0.973174\n",
      "computed_metrics: [0.8845266039331535]\n",
      "Test R2 Score: 0.884527\n"
     ]
    }
   ],
   "source": [
    "metric = dc.metrics.Metric(\n",
    "    dc.metrics.r2_score, np.mean, mode=\"regression\")\n",
    "\n",
    "print(\"Evaluating model\")\n",
    "train_scores = model.evaluate(trainset, [metric])\n",
    "print(\"Train R2 Score: %f\" % train_scores[\"mean-r2_score\"])\n",
    "test_scores = model.evaluate(testset, [metric])\n",
    "print(\"Test R2 Score: %f\" % test_scores[\"mean-r2_score\"])"
   ]
  },
  {
   "cell_type": "code",
   "execution_count": 13,
   "metadata": {},
   "outputs": [
    {
     "name": "stdout",
     "output_type": "stream",
     "text": [
      "Evaluating model\n",
      "computed_metrics: [0.11111642355590555]\n",
      "Train MSE: 0.111116\n",
      "computed_metrics: [0.47178782394475355]\n",
      "Test MSE: 0.471788\n"
     ]
    }
   ],
   "source": [
    "metric = dc.metrics.Metric(\n",
    "    dc.metrics.mean_squared_error, np.mean, mode=\"regression\")\n",
    "\n",
    "print(\"Evaluating model\")\n",
    "train_scores = model.evaluate(trainset, [metric])\n",
    "print(\"Train MSE: %f\" % train_scores[\"mean-mean_squared_error\"])\n",
    "test_scores = model.evaluate(testset, [metric])\n",
    "print(\"Test MSE: %f\" % test_scores[\"mean-mean_squared_error\"])"
   ]
  },
  {
   "cell_type": "code",
   "execution_count": null,
   "metadata": {},
   "outputs": [],
   "source": []
  }
 ],
 "metadata": {
  "kernelspec": {
   "display_name": "Python 3",
   "language": "python",
   "name": "python3"
  },
  "language_info": {
   "codemirror_mode": {
    "name": "ipython",
    "version": 3
   },
   "file_extension": ".py",
   "mimetype": "text/x-python",
   "name": "python",
   "nbconvert_exporter": "python",
   "pygments_lexer": "ipython3",
   "version": "3.6.6"
  }
 },
 "nbformat": 4,
 "nbformat_minor": 2
}
